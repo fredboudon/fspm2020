{
 "cells": [
  {
   "cell_type": "code",
   "execution_count": 44,
   "metadata": {},
   "outputs": [],
   "source": [
    "from openalea.lpy import *\n",
    "from pgljupyter import LsystemWidget\n",
    "import matplotlib.pyplot as plt"
   ]
  },
  {
   "cell_type": "code",
   "execution_count": 45,
   "metadata": {},
   "outputs": [],
   "source": [
    "from math import exp\n",
    "\n",
    "def growth_logistic(ttime, finalsize, tip, b):\n",
    "    return finalsize / (1 + exp(-(ttime-tip)/b ))\n"
   ]
  },
  {
   "cell_type": "code",
   "execution_count": 46,
   "metadata": {},
   "outputs": [],
   "source": [
    "# Parameters\n",
    "tip_leaf = 100.\n",
    "b_leaf = 20.\n",
    "finalsize_leaf = 25.\n",
    "\n",
    "tip_internode = 60.\n",
    "b_internode = 20.\n",
    "finalsize_internode = 5.\n",
    "\n",
    "dt = 10\n",
    "\n",
    "def leaf_size(ttime):\n",
    "    return  growth_logistic(ttime, finalsize_leaf, tip_leaf, b_leaf)\n",
    "\n",
    "def internode_size(ttime):\n",
    "    return  growth_logistic(ttime, finalsize_internode, tip_internode, b_internode)\n"
   ]
  },
  {
   "cell_type": "code",
   "execution_count": 47,
   "metadata": {},
   "outputs": [
    {
     "data": {
      "image/png": "[encoded data removed]",
      "text/plain": [
       "<Figure size 432x288 with 1 Axes>"
      ]
     },
     "metadata": {
      "needs_background": "light"
     },
     "output_type": "display_data"
    }
   ],
   "source": [
    "a = range(0,400)\n",
    "plt.plot(a,list(map(leaf_size,a)))\n",
    "plt.plot(a,list(map(internode_size,a)))\n",
    "plt.show()"
   ]
  },
  {
   "cell_type": "code",
   "execution_count": 48,
   "metadata": {},
   "outputs": [],
   "source": [
    "# %%lpy\n",
    "code = \"\"\"\n",
    "Axiom: A(0)\n",
    "production:\n",
    "A(t):\n",
    "    if t > 200:\n",
    "        nproduce I(0)\n",
    "        nproduce [L(0)A(-1000)]\n",
    "        nproduce /(137) A(0)\n",
    "    else:\n",
    "        produce A(t+dt)\n",
    "\n",
    "I(t) --> I(t+dt)\n",
    "L(t) --> L(t+dt)\n",
    "\n",
    "interpretation:\n",
    "I(t) --> F(internode_size(t))\n",
    "L(t) --> ^(t*0.4)~l(leaf_size(t))\n",
    "\"\"\""
   ]
  },
  {
   "cell_type": "code",
   "execution_count": 49,
   "metadata": {},
   "outputs": [
    {
     "ename": "ValueError",
     "evalue": "'\nAxiom: A(0)\nproduction:\nA(t):\n    if t > 200:\n        nproduce I(0)\n        nproduce [L(0)A(-1000)]\n        nproduce /(137) A(0)\n    else:\n        produce A(t+dt)\n\nI(t) --> I(t+dt)\nL(t) --> L(t+dt)\n\ninterpretation:\nI(t) --> F(internode_size(t))\nL(t) --> ^(t*0.4)~l(leaf_size(t))\n': No such file or directory.",
     "output_type": "error",
     "traceback": [
      "\u001b[0;31m---------------------------------------------------------------------------\u001b[0m",
      "\u001b[0;31mValueError\u001b[0m                                Traceback (most recent call last)",
      "\u001b[0;32m<ipython-input-49-9eaad4ad968f>\u001b[0m in \u001b[0;36m<module>\u001b[0;34m\u001b[0m\n\u001b[0;32m----> 1\u001b[0;31m \u001b[0mlw\u001b[0m \u001b[0;34m=\u001b[0m \u001b[0mLsystemWidget\u001b[0m\u001b[0;34m(\u001b[0m\u001b[0mLsystem\u001b[0m\u001b[0;34m(\u001b[0m\u001b[0mcode\u001b[0m\u001b[0;34m)\u001b[0m\u001b[0;34m,\u001b[0m \u001b[0munit\u001b[0m\u001b[0;34m=\u001b[0m\u001b[0;34m'dm'\u001b[0m\u001b[0;34m,\u001b[0m \u001b[0manimate\u001b[0m\u001b[0;34m=\u001b[0m\u001b[0;32mTrue\u001b[0m\u001b[0;34m)\u001b[0m\u001b[0;34m\u001b[0m\u001b[0;34m\u001b[0m\u001b[0m\n\u001b[0m",
      "\u001b[0;31mValueError\u001b[0m: '\nAxiom: A(0)\nproduction:\nA(t):\n    if t > 200:\n        nproduce I(0)\n        nproduce [L(0)A(-1000)]\n        nproduce /(137) A(0)\n    else:\n        produce A(t+dt)\n\nI(t) --> I(t+dt)\nL(t) --> L(t+dt)\n\ninterpretation:\nI(t) --> F(internode_size(t))\nL(t) --> ^(t*0.4)~l(leaf_size(t))\n': No such file or directory."
     ]
    }
   ],
   "source": [
    "lw = LsystemWidget(Lsystem(code), unit='dm', animate=True)"
   ]
  },
  {
   "cell_type": "code",
   "execution_count": null,
   "metadata": {},
   "outputs": [],
   "source": []
  }
 ],
 "metadata": {
  "kernelspec": {
   "display_name": "Python 3",
   "language": "python",
   "name": "python3"
  },
  "language_info": {
   "codemirror_mode": {
    "name": "ipython",
    "version": 3
   },
   "file_extension": ".py",
   "mimetype": "text/x-python",
   "name": "python",
   "nbconvert_exporter": "python",
   "pygments_lexer": "ipython3",
   "version": "3.8.3"
  }
 },
 "nbformat": 4,
 "nbformat_minor": 4
}
