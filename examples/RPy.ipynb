{
 "cells": [
  {
   "cell_type": "markdown",
   "metadata": {
    "slideshow": {
     "slide_type": "slide"
    }
   },
   "source": [
    "# Modelling of a growth units using Python, R and L-Py\n",
    "\n",
    "In this second notebook, the same modelling scenario is presented except that now growth functions and parameters are defined using the R language. These objects can still be accessed by the different cells of the notebooks. And thus the simulation is done with R functions."
   ]
  },
  {
   "cell_type": "markdown",
   "metadata": {},
   "source": [
    "The extension RPy2 makes it possible to communicate between Python and R."
   ]
  },
  {
   "cell_type": "code",
   "execution_count": 7,
   "metadata": {},
   "outputs": [
    {
     "name": "stdout",
     "output_type": "stream",
     "text": [
      "The rpy2.ipython extension is already loaded. To reload it, use:\n",
      "  %reload_ext rpy2.ipython\n"
     ]
    }
   ],
   "source": [
    "import pgljupyter\n",
    "%load_ext rpy2.ipython"
   ]
  },
  {
   "cell_type": "markdown",
   "metadata": {
    "slideshow": {
     "slide_type": "slide"
    }
   },
   "source": [
    "# Growth \n",
    "\n",
    "Growth of organs is simulated using a logistic function $\\frac{L}{1 + \\exp{-\\frac{t-tip}{b}}}$"
   ]
  },
  {
   "cell_type": "code",
   "execution_count": 8,
   "metadata": {},
   "outputs": [],
   "source": [
    "%%R -o growth_logistic\n",
    "\n",
    "growth_logistic = function(ttime, finalsize, tip, b){\n",
    "    return (finalsize / (1 + exp(-(ttime-tip)/b )));\n",
    "}\n"
   ]
  },
  {
   "cell_type": "markdown",
   "metadata": {
    "slideshow": {
     "slide_type": "slide"
    }
   },
   "source": [
    "### Definition of growth parameters for the different organs along the axis"
   ]
  },
  {
   "cell_type": "code",
   "execution_count": 9,
   "metadata": {},
   "outputs": [],
   "source": [
    "%%R -i growth_logistic -o LLeaf,LIn,leaf_size,internode_size\n",
    "LLeaf = c(4.9, 5.5, 6., 6.9, 7.5, 8.7, 9.2, 9.6, 7.)\n",
    "tipLeaf = c(0.0, 1.8, 3.7, 5.5, 7.1, 8.8, 10.4, 11.9, 13.4)\n",
    "bLeaf = 1.7 \n",
    "\n",
    "LIn = c(1., 1.2, 1.8, 2.7, 3.5, 4.2, 4.2, 3.5, 1.7)\n",
    "tipIn = c(0.2, 1.9, 3.5, 5.1, 6.7, 8.4, 10.0, 11.6, 13.3)\n",
    "bIn = 1.3\n",
    "\n",
    "leaf_size = function(i, t) { return(growth_logistic(t, LLeaf[i], tipLeaf[i], bLeaf)); }\n",
    "internode_size = function(i, t) { return (growth_logistic(t, LIn[i], tipIn[i], bIn)); }"
   ]
  },
  {
   "cell_type": "markdown",
   "metadata": {
    "slideshow": {
     "slide_type": "-"
    }
   },
   "source": [
    "Plot of final size of leaves and internodes along the main axis"
   ]
  },
  {
   "cell_type": "code",
   "execution_count": 10,
   "metadata": {},
   "outputs": [
    {
     "data": {
      "image/png": "[encoded data removed]"
     },
     "metadata": {},
     "output_type": "display_data"
    }
   ],
   "source": [
    "%%R --input LLeaf,LIn \n",
    "x = 1:length(LLeaf)\n",
    "plot(x,LLeaf,ylim=c(0,10),type=\"l\", col=\"blue\", ylab=\"size (cm)\", xlab='rank')\n",
    "lines(x, LIn, col=\"red\")\n",
    "legend(\"topleft\",c(\"Leaf\",\"Internode\"),fill=c(\"blue\",\"red\"))"
   ]
  },
  {
   "cell_type": "markdown",
   "metadata": {
    "slideshow": {
     "slide_type": "slide"
    }
   },
   "source": [
    "# The Architectural model defined using Lsystem rules\n",
    "\n",
    "Rules are based on parameters and functions defined on previous R cells. "
   ]
  },
  {
   "cell_type": "code",
   "execution_count": 11,
   "metadata": {},
   "outputs": [
    {
     "data": {
      "application/vnd.jupyter.widget-view+json": {
       "model_id": "650d0a2eeb7a4c49ac194d2676276c68",
       "version_major": 2,
       "version_minor": 0
      },
      "text/plain": [
       "LsystemWidget(animate=True, derivationLength=250, is_magic=True, scene={'data': b'x\\xda\\xad\\x99\\x0fP\\x14\\xd7\\x…"
      ]
     },
     "metadata": {},
     "output_type": "display_data"
    }
   ],
   "source": [
    "%%lpy -a True -u dm -w 4 -s 600,400\n",
    "nbMetamers = len(LLeaf)\n",
    "maxTime, dt = 25, 0.1\n",
    "Axiom: \n",
    "    nproduce _(0.3)@Gc SetColor(Material((1,15,1),10,specular=(0,0,0),shininess=0.2))\n",
    "    for i in range(1,int(nbMetamers)+1):  nproduce I(i,0)/(137)[[^(40)L(i,0)]]\n",
    "    nproduce I(i,0) @O\n",
    "\n",
    "derivation length: int(maxTime//dt)\n",
    "production:\n",
    "I(i,t) --> I(i,t+dt)\n",
    "L(i,t) --> L(i,t+dt)\n",
    "\n",
    "interpretation:\n",
    "I(i,t) --> F(internode_size(i,t)[0])\n",
    "L(i,t) :\n",
    "    l = leaf_size(i,t)[0]\n",
    "    nproduce SetColor(2)_(0.1)^(t)F(l/6)[+(90)/(-30)~l(l/2)][-(90)/(30)~l(l/2)]F(l/6)[+(60)/(-15)~l(l/2)][-(60)/(15)~l(l/2)]F(l/6)^(20)~l(l/2)"
   ]
  },
  {
   "cell_type": "code",
   "execution_count": null,
   "metadata": {},
   "outputs": [],
   "source": []
  }
 ],
 "metadata": {
  "celltoolbar": "Diaporama",
  "kernelspec": {
   "display_name": "Python 3",
   "language": "python",
   "name": "python3"
  },
  "language_info": {
   "codemirror_mode": {
    "name": "ipython",
    "version": 3
   },
   "file_extension": ".py",
   "mimetype": "text/x-python",
   "name": "python",
   "nbconvert_exporter": "python",
   "pygments_lexer": "ipython3",
   "version": "3.8.5"
  },
  "widgets": {
   "application/vnd.jupyter.widget-state+json": {
    "state": {
     "113f68fc31e84cb299f4ecf1a919ad4d": {
      "model_module": "@jupyter-widgets/base",
      "model_module_version": "1.2.0",
      "model_name": "LayoutModel",
      "state": {}
     },
     "650d0a2eeb7a4c49ac194d2676276c68": {
      "buffers": [
       {
        "data": "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",
        "encoding": "base64",
        "path": [
         "scene",
         "data"
        ]
       }
      ],
      "model_module": "pgljupyter",
      "model_module_version": "^0.1.21",
      "model_name": "LsystemWidgetModel",
      "state": {
       "_model_module_version": "^0.1.21",
       "_view_module_version": "^0.1.21",
       "axes_helper": false,
       "derivationLength": 250,
       "is_magic": true,
       "layout": "IPY_MODEL_77d46568b1834b1ab60dc69e06d85eb2",
       "light_helper": false,
       "plane": true,
       "scene": {
        "derivationStep": 249,
        "id": 249,
        "scene": "<openalea.plantgl.scenegraph._pglsg.Scene object at 0x129507710>"
       },
       "size_display": [
        600,
        400
       ],
       "size_world": 4,
       "unit": 1
      }
     },
     "6898b948697d475eb419193224bb2082": {
      "model_module": "pgljupyter",
      "model_module_version": "^0.1.21",
      "model_name": "LsystemWidgetModel",
      "state": {
       "_model_module_version": "^0.1.21",
       "_view_module_version": "^0.1.21",
       "axes_helper": false,
       "derivationLength": 250,
       "is_magic": true,
       "layout": "IPY_MODEL_9f7891dfb22844cc888ad4c1d2974a58",
       "light_helper": false,
       "plane": true,
       "size_display": [
        600,
        400
       ],
       "size_world": 4,
       "unit": 1
      }
     },
     "77d46568b1834b1ab60dc69e06d85eb2": {
      "model_module": "@jupyter-widgets/base",
      "model_module_version": "1.2.0",
      "model_name": "LayoutModel",
      "state": {}
     },
     "9f7891dfb22844cc888ad4c1d2974a58": {
      "model_module": "@jupyter-widgets/base",
      "model_module_version": "1.2.0",
      "model_name": "LayoutModel",
      "state": {}
     },
     "f18d89e2f8924648ab7e0f0fc4d4a2da": {
      "model_module": "pgljupyter",
      "model_module_version": "^0.1.21",
      "model_name": "LsystemWidgetModel",
      "state": {
       "_model_module_version": "^0.1.21",
       "_view_module_version": "^0.1.21",
       "axes_helper": false,
       "derivationLength": 250,
       "is_magic": true,
       "layout": "IPY_MODEL_113f68fc31e84cb299f4ecf1a919ad4d",
       "light_helper": false,
       "plane": true,
       "size_display": [
        600,
        400
       ],
       "size_world": 4,
       "unit": 1
      }
     }
    },
    "version_major": 2,
    "version_minor": 0
   }
  }
 },
 "nbformat": 4,
 "nbformat_minor": 4
}
