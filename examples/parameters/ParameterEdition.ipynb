{
 "cells": [
  {
   "cell_type": "code",
   "execution_count": 17,
   "metadata": {},
   "outputs": [],
   "source": [
    "from pgljupyter import LsystemWidget"
   ]
  },
  {
   "cell_type": "code",
   "execution_count": 18,
   "metadata": {},
   "outputs": [],
   "source": [
    "lw = LsystemWidget('parameter_edition', size_display=(800, 400), unit='dm', size_world=5)"
   ]
  },
  {
   "cell_type": "code",
   "execution_count": 19,
   "metadata": {},
   "outputs": [
    {
     "data": {
      "application/vnd.jupyter.widget-view+json": {
       "model_id": "70f1d89591e74eb4a7639de2fd55b30f",
       "version_major": 2,
       "version_minor": 0
      },
      "text/plain": [
       "LsystemWidget(derivationLength=3, scene={'data': b'x\\xdaSLrw\\xf5\\xf7e`Pp\\xe0\\xe5RPVVd\\x00\\x020\\x01\\x003s\\x02\\x…"
      ]
     },
     "metadata": {},
     "output_type": "display_data"
    }
   ],
   "source": [
    "lw"
   ]
  },
  {
   "cell_type": "code",
   "execution_count": 20,
   "metadata": {
    "collapsed": true,
    "jupyter": {
     "outputs_hidden": true
    }
   },
   "outputs": [
    {
     "data": {
      "application/vnd.jupyter.widget-view+json": {
       "model_id": "9cc265bc467149d7976d203a6786bd77",
       "version_major": 2,
       "version_minor": 0
      },
      "text/plain": [
       "ParameterEditor(children=(VBox(children=(HBox(children=(HBox(children=(Button(description='Apply changes', sty…"
      ]
     },
     "metadata": {},
     "output_type": "display_data"
    }
   ],
   "source": [
    "lw.editor"
   ]
  },
  {
   "cell_type": "code",
   "execution_count": null,
   "metadata": {},
   "outputs": [],
   "source": []
  }
 ],
 "metadata": {
  "kernelspec": {
   "display_name": "Python 3",
   "language": "python",
   "name": "python3"
  },
  "language_info": {
   "codemirror_mode": {
    "name": "ipython",
    "version": 3
   },
   "file_extension": ".py",
   "mimetype": "text/x-python",
   "name": "python",
   "nbconvert_exporter": "python",
   "pygments_lexer": "ipython3",
   "version": "3.8.5"
  },
  "widgets": {
   "application/vnd.jupyter.widget-state+json": {
    "state": {
     "004b3b608bc34e9fa61713ee7b2cfe82": {
      "model_module": "@jupyter-widgets/base",
      "model_module_version": "1.2.0",
      "model_name": "LayoutModel",
      "state": {}
     },
     "00be3ce67fd840dabfb1b833aa889d17": {
      "model_module": "@jupyter-widgets/controls",
      "model_module_version": "1.5.0",
      "model_name": "HBoxModel",
      "state": {
       "children": [
        "IPY_MODEL_52a6f58e9f5b4c01a28b3e2fc4e2f9e1",
        "IPY_MODEL_1f86f9c60fa142c6bcfab953c5545998"
       ],
       "layout": "IPY_MODEL_a109bc79e76f427cbb6163534db165f7"
      }
     },
     "00db4dca880440a4b740791435be2c4a": {
      "model_module": "@jupyter-widgets/controls",
      "model_module_version": "1.5.0",
      "model_name": "HBoxModel",
      "state": {
       "children": [
        "IPY_MODEL_3c31dd7910c14e6fa9d6bba0b0b7f601"
       ],
       "layout": "IPY_MODEL_9fdd4f988e00442ba8148b561213a6b6"
      }
     },
     "00e20e4df4fc4020a4d9d381634ddc6e": {
      "model_module": "@jupyter-widgets/controls",
      "model_module_version": "1.5.0",
      "model_name": "SliderStyleModel",
      "state": {
       "description_width": ""
      }
     },
     "01187b3bfdb4421c946540e2f50f3d60": {
      "model_module": "@jupyter-widgets/controls",
      "model_module_version": "1.5.0",
      "model_name": "ButtonModel",
      "state": {
       "description": "Add category",
       "layout": "IPY_MODEL_436523f3240b45d0827d1034cdcc07d3",
       "style": "IPY_MODEL_cad90b17def2410d89adefe2c0dc628d"
      }
     },
     "0220c46719574fa19b5b7b18664eb995": {
      "model_module": "@jupyter-widgets/controls",
      "model_module_version": "1.5.0",
      "model_name": "DescriptionStyleModel",
      "state": {
       "description_width": ""
      }
     },
     "023b352927614f10b67f675b129ccc22": {
      "model_module": "@jupyter-widgets/controls",
      "model_module_version": "1.5.0",
      "model_name": "TabModel",
      "state": {
       "layout": "IPY_MODEL_e65ac23e4dde4ddd9511dfcea5a443d6"
      }
     },
     "027dae28c49849f1a5598d98e93718c3": {
      "model_module": "@jupyter-widgets/base",
      "model_module_version": "1.2.0",
      "model_name": "LayoutModel",
      "state": {}
     },
     "029044627deb4904ac1cd8eaa307b136": {
      "model_module": "@jupyter-widgets/controls",
      "model_module_version": "1.5.0",
      "model_name": "ButtonModel",
      "state": {
       "description": "Delete",
       "layout": "IPY_MODEL_0b890cdbd407471ba3f7fa756d53b24a",
       "style": "IPY_MODEL_9fcbf95e285e4673b89ad587a0c7646e"
      }
     },
     "029421327cbc43e795bae63b8eadffa9": {
      "model_module": "@jupyter-widgets/base",
      "model_module_version": "1.2.0",
      "model_name": "LayoutModel",
      "state": {}
     },
     "02c63b69f11c4a8c9333cd5ca278334e": {
      "model_module": "@jupyter-widgets/controls",
      "model_module_version": "1.5.0",
      "model_name": "HBoxModel",
      "state": {
       "children": [
        "IPY_MODEL_2db16dbf10ee4a748135e266f468b68c",
        "IPY_MODEL_820dc8ff793b4b5389f6bcf7475a8835"
       ],
       "layout": "IPY_MODEL_198eb2140ee74f899d3ca88786819e7a"
      }
     },
     "031d7c0f72764d669a0a6f910043ceef": {
      "model_module": "@jupyter-widgets/base",
      "model_module_version": "1.2.0",
      "model_name": "LayoutModel",
      "state": {}
     },
     "0329ec214b014d7a85073c01b555e12a": {
      "model_module": "@jupyter-widgets/base",
      "model_module_version": "1.2.0",
      "model_name": "LayoutModel",
      "state": {}
     },
     "033092eb8ef54c67bccaea7772bf9b2f": {
      "model_module": "@jupyter-widgets/base",
      "model_module_version": "1.2.0",
      "model_name": "LayoutModel",
      "state": {
       "margin": "20px 0px"
      }
     },
     "033f0c9124a4415e824ee2fd71f63d92": {
      "model_module": "@jupyter-widgets/base",
      "model_module_version": "1.2.0",
      "model_name": "LayoutModel",
      "state": {}
     },
     "0355fb672e0f43978ade5edf8a22201a": {
      "model_module": "@jupyter-widgets/base",
      "model_module_version": "1.2.0",
      "model_name": "LayoutModel",
      "state": {
       "flex_flow": "row wrap",
       "margin": "20px"
      }
     },
     "04627d3b504548ebb4ed0bc1f43d9a40": {
      "model_module": "@jupyter-widgets/controls",
      "model_module_version": "1.5.0",
      "model_name": "DescriptionStyleModel",
      "state": {
       "description_width": ""
      }
     },
     "048f6a2405f44677bafcea8d73829a2e": {
      "model_module": "@jupyter-widgets/controls",
      "model_module_version": "1.5.0",
      "model_name": "HBoxModel",
      "state": {
       "children": [
        "IPY_MODEL_ceed11f3656b4fcb9fcb12185ed87d3a",
        "IPY_MODEL_89b0a2b111774b7ebf6e91d6796c400b"
       ],
       "layout": "IPY_MODEL_cd855b46f07544a79f8e302c75997469"
      }
     },
     "04bfc929cfd84bc4b51f9bd4abfa2dbd": {
      "model_module": "@jupyter-widgets/base",
      "model_module_version": "1.2.0",
      "model_name": "LayoutModel",
      "state": {}
     },
     "04ca1dd6bc9b4aeb92c7526ddd674b65": {
      "model_module": "@jupyter-widgets/controls",
      "model_module_version": "1.5.0",
      "model_name": "ColorPickerModel",
      "state": {
       "description": "specular",
       "disabled": false,
       "layout": "IPY_MODEL_d87d857bbb9e412d98d39dbf1e5433d5",
       "style": "IPY_MODEL_c1cf9fc3604f4447accee82497d132d3",
       "value": "#000000"
      }
     },
     "05f27fd2de73489db1c539d3dea11f36": {
      "model_module": "@jupyter-widgets/controls",
      "model_module_version": "1.5.0",
      "model_name": "HBoxModel",
      "state": {
       "children": [
        "IPY_MODEL_c04d5218edb44addb223f83bee45d6d7",
        "IPY_MODEL_aefbec4c72fc437d80d36f9f2c058f64"
       ],
       "layout": "IPY_MODEL_5008290bbf2b484796403cfbed404425"
      }
     },
     "06a89a4c7f81482a9c00f5699989546a": {
      "model_module": "@jupyter-widgets/controls",
      "model_module_version": "1.5.0",
      "model_name": "ButtonStyleModel",
      "state": {}
     },
     "071c96f39f074589b5910c6046f2c773": {
      "model_module": "@jupyter-widgets/base",
      "model_module_version": "1.2.0",
      "model_name": "LayoutModel",
      "state": {}
     },
     "0768852fe0bd498dab66c57b4e099525": {
      "model_module": "@jupyter-widgets/controls",
      "model_module_version": "1.5.0",
      "model_name": "TextModel",
      "state": {
       "continuous_update": false,
       "description": "name",
       "layout": "IPY_MODEL_a200c395c9db4200a8d6e28db17e7810",
       "style": "IPY_MODEL_64060b0b5cdd4a6185dd1d061f402b91",
       "value": "MAX_ORDER"
      }
     },
     "0809eafba6624339bcc692ffdc7e90b6": {
      "model_module": "@jupyter-widgets/controls",
      "model_module_version": "1.5.0",
      "model_name": "DescriptionStyleModel",
      "state": {
       "description_width": ""
      }
     },
     "080c4b3ab21644989e4521f1d24c12fb": {
      "model_module": "@jupyter-widgets/base",
      "model_module_version": "1.2.0",
      "model_name": "LayoutModel",
      "state": {}
     },
     "0833b3f0a8fc4152ac43e0308ab8fe7a": {
      "model_module": "@jupyter-widgets/base",
      "model_module_version": "1.2.0",
      "model_name": "LayoutModel",
      "state": {}
     },
     "084e5daa9a714b2da9e8cb6e87383dc7": {
      "model_module": "@jupyter-widgets/controls",
      "model_module_version": "1.5.0",
      "model_name": "SliderStyleModel",
      "state": {
       "description_width": ""
      }
     },
     "0888bcc6b3c64f50b141cf6cf2835820": {
      "model_module": "@jupyter-widgets/controls",
      "model_module_version": "1.5.0",
      "model_name": "HBoxModel",
      "state": {
       "children": [
        "IPY_MODEL_c9f07e2dc80644d19070b19a6762aeec",
        "IPY_MODEL_6736ceb0283d4f268c6753edf1cf4ee4"
       ],
       "layout": "IPY_MODEL_8e0904ef609747a484c8a017af41364a"
      }
     },
     "0894cd8b9bda44689d7d9b623d78cb20": {
      "model_module": "@jupyter-widgets/base",
      "model_module_version": "1.2.0",
      "model_name": "LayoutModel",
      "state": {}
     },
     "08b9789a83b04e8daa892237627aae60": {
      "model_module": "@jupyter-widgets/controls",
      "model_module_version": "1.5.0",
      "model_name": "SliderStyleModel",
      "state": {
       "description_width": ""
      }
     },
     "08da804663ec4168abcefc58d723400f": {
      "model_module": "@jupyter-widgets/controls",
      "model_module_version": "1.5.0",
      "model_name": "DescriptionStyleModel",
      "state": {
       "description_width": ""
      }
     },
     "092d7f6f62a049338730fa54887a4902": {
      "model_module": "@jupyter-widgets/controls",
      "model_module_version": "1.5.0",
      "model_name": "DescriptionStyleModel",
      "state": {
       "description_width": ""
      }
     },
     "093cc61c7a0440eaa2a46d2952f34e58": {
      "model_module": "@jupyter-widgets/base",
      "model_module_version": "1.2.0",
      "model_name": "LayoutModel",
      "state": {}
     },
     "09593419ca40440482d4148459e18bd5": {
      "model_module": "@jupyter-widgets/base",
      "model_module_version": "1.2.0",
      "model_name": "LayoutModel",
      "state": {}
     },
     "095e50393a9d48f3a80f83d05a8c1529": {
      "model_module": "@jupyter-widgets/base",
      "model_module_version": "1.2.0",
      "model_name": "LayoutModel",
      "state": {}
     },
     "09727557e78a451b9889164b81f72f08": {
      "model_module": "@jupyter-widgets/base",
      "model_module_version": "1.2.0",
      "model_name": "LayoutModel",
      "state": {
       "margin": "20px 0px"
      }
     },
     "097faaf8d4a14fa5b4d0674c2d8f7479": {
      "model_module": "@jupyter-widgets/controls",
      "model_module_version": "1.5.0",
      "model_name": "HBoxModel",
      "state": {
       "children": [
        "IPY_MODEL_8889206938cb42c6831ce67bbb0b0b56",
        "IPY_MODEL_05f27fd2de73489db1c539d3dea11f36"
       ],
       "layout": "IPY_MODEL_cd855b46f07544a79f8e302c75997469"
      }
     },
     "09ffebcff200412c9114b17a283fdbe6": {
      "model_module": "@jupyter-widgets/base",
      "model_module_version": "1.2.0",
      "model_name": "LayoutModel",
      "state": {}
     },
     "0a44d73a10024154af6c199c14f9e966": {
      "model_module": "@jupyter-widgets/controls",
      "model_module_version": "1.5.0",
      "model_name": "ButtonStyleModel",
      "state": {}
     },
     "0a7c7a4f27ea452d8766f26cd01b2ae8": {
      "model_module": "@jupyter-widgets/controls",
      "model_module_version": "1.5.0",
      "model_name": "HBoxModel",
      "state": {
       "children": [
        "IPY_MODEL_365b455cbeff4ec3991b766da1cf5be5",
        "IPY_MODEL_fc192cef6cda4b25b62bfb60c1d90609"
       ],
       "layout": "IPY_MODEL_9d78040ee1a949d7802971ded78f4623"
      }
     },
     "0aab7b83f8b4406b8659360e1cd32639": {
      "model_module": "@jupyter-widgets/base",
      "model_module_version": "1.2.0",
      "model_name": "LayoutModel",
      "state": {}
     },
     "0accab78d30b483d9ad1f546680877f5": {
      "model_module": "@jupyter-widgets/controls",
      "model_module_version": "1.5.0",
      "model_name": "ButtonModel",
      "state": {
       "description": "Delete category",
       "layout": "IPY_MODEL_aef97525f4f045178736184234a6a2f8",
       "style": "IPY_MODEL_52858131f8544a32b00db4aeecaf968d"
      }
     },
     "0ae5ede2a02b41ad81e5c44ec0c6add1": {
      "model_module": "@jupyter-widgets/controls",
      "model_module_version": "1.5.0",
      "model_name": "VBoxModel",
      "state": {
       "children": [
        "IPY_MODEL_7c54b8e97a5b4233a817a5aa30eb0669",
        "IPY_MODEL_9487dee9505143ad99fb3bdd03f7e1c6"
       ],
       "layout": "IPY_MODEL_027dae28c49849f1a5598d98e93718c3"
      }
     },
     "0b1a39771eb24db8ba8d5067105d6611": {
      "model_module": "@jupyter-widgets/controls",
      "model_module_version": "1.5.0",
      "model_name": "SliderStyleModel",
      "state": {
       "description_width": ""
      }
     },
     "0b2650a627d146678bcc6243c143cdb4": {
      "model_module": "@jupyter-widgets/controls",
      "model_module_version": "1.5.0",
      "model_name": "ButtonStyleModel",
      "state": {}
     },
     "0b270990ed78498ea27ff3f0ab702303": {
      "model_module": "@jupyter-widgets/controls",
      "model_module_version": "1.5.0",
      "model_name": "HBoxModel",
      "state": {
       "children": [
        "IPY_MODEL_387f61139941434a9477d879bace4e82"
       ],
       "layout": "IPY_MODEL_17af608a319a490db6ac5216775239fa"
      }
     },
     "0b890cdbd407471ba3f7fa756d53b24a": {
      "model_module": "@jupyter-widgets/base",
      "model_module_version": "1.2.0",
      "model_name": "LayoutModel",
      "state": {}
     },
     "0d38d2b98435497a8cc28b6177ca2ec0": {
      "model_module": "@jupyter-widgets/controls",
      "model_module_version": "1.5.0",
      "model_name": "TextModel",
      "state": {
       "continuous_update": false,
       "description": "name",
       "layout": "IPY_MODEL_a167f4f1a6fd4f168bb5fc119835849b",
       "style": "IPY_MODEL_ea6a5035f9d64c27a73124866a1c4b74",
       "value": "MAX_ORDER"
      }
     },
     "0d5181b23b42463f943baa2203a119ae": {
      "model_module": "@jupyter-widgets/controls",
      "model_module_version": "1.5.0",
      "model_name": "DescriptionStyleModel",
      "state": {
       "description_width": ""
      }
     },
     "0d9dacbc01c6405fada814b4f384c80f": {
      "model_module": "@jupyter-widgets/base",
      "model_module_version": "1.2.0",
      "model_name": "LayoutModel",
      "state": {}
     },
     "0db4041253da462b8682821343022311": {
      "model_module": "@jupyter-widgets/base",
      "model_module_version": "1.2.0",
      "model_name": "LayoutModel",
      "state": {}
     },
     "0e9918223e4445239917ac5bb56ed830": {
      "model_module": "@jupyter-widgets/controls",
      "model_module_version": "1.5.0",
      "model_name": "HBoxModel",
      "state": {
       "children": [
        "IPY_MODEL_5fcc9ae746584eb2bed7ef3a5aa83953",
        "IPY_MODEL_f236b711b82342088cf2af848a4cb1f7"
       ],
       "layout": "IPY_MODEL_9fdd4f988e00442ba8148b561213a6b6"
      }
     },
     "0ef1afe6d21b4f01bd83f8430473e964": {
      "model_module": "@jupyter-widgets/base",
      "model_module_version": "1.2.0",
      "model_name": "LayoutModel",
      "state": {}
     },
     "0f2d5c73a0a643fcb136c71b33e0afb1": {
      "model_module": "@jupyter-widgets/base",
      "model_module_version": "1.2.0",
      "model_name": "LayoutModel",
      "state": {}
     },
     "0febe6c18a06499bae3553538dbf2d6f": {
      "model_module": "pgljupyter",
      "model_module_version": "^0.1.21",
      "model_name": "FloatEditorModel",
      "state": {
       "_model_module_version": "^0.1.21",
       "_view_module_version": "^0.1.21",
       "children": [
        "IPY_MODEL_de03e8d920c8432c8111ec579e792386",
        "IPY_MODEL_e865b22758a24f2f8f81300282c28db7"
       ],
       "layout": "IPY_MODEL_033092eb8ef54c67bccaea7772bf9b2f"
      }
     },
     "10b28f913d6c4a4f8db0bcadddd9ec63": {
      "model_module": "@jupyter-widgets/controls",
      "model_module_version": "1.5.0",
      "model_name": "SliderStyleModel",
      "state": {
       "description_width": ""
      }
     },
     "10bc8fee2c89479ea3d30ac04d498633": {
      "model_module": "@jupyter-widgets/base",
      "model_module_version": "1.2.0",
      "model_name": "LayoutModel",
      "state": {}
     },
     "110d6c6b6bbf419c8cdce2cd363f9b0d": {
      "model_module": "@jupyter-widgets/base",
      "model_module_version": "1.2.0",
      "model_name": "LayoutModel",
      "state": {}
     },
     "114a16fd6ae745589fa4c7302556da7b": {
      "model_module": "@jupyter-widgets/controls",
      "model_module_version": "1.5.0",
      "model_name": "HBoxModel",
      "state": {
       "children": [
        "IPY_MODEL_bde94341e2b244f7adc5c61fd6a9da5d"
       ],
       "layout": "IPY_MODEL_d5aaa5dcd7ac46158ad2141e9a9a358c"
      }
     },
     "1193d13ede334bacae589458b04be382": {
      "model_module": "@jupyter-widgets/controls",
      "model_module_version": "1.5.0",
      "model_name": "DescriptionStyleModel",
      "state": {
       "description_width": ""
      }
     },
     "11c4d15a2729495ba420ce919de7f54b": {
      "model_module": "@jupyter-widgets/base",
      "model_module_version": "1.2.0",
      "model_name": "LayoutModel",
      "state": {}
     },
     "1227d4ccd97146e388826a9f7dabe5d1": {
      "model_module": "@jupyter-widgets/base",
      "model_module_version": "1.2.0",
      "model_name": "LayoutModel",
      "state": {}
     },
     "12739fa7c1804cccb604f74d7c9cec8e": {
      "model_module": "@jupyter-widgets/controls",
      "model_module_version": "1.5.0",
      "model_name": "HBoxModel",
      "state": {
       "children": [
        "IPY_MODEL_7e7cda4b492541eabeb7059fa2d48cdf",
        "IPY_MODEL_533884f806d846bf805bb3546aa23dac"
       ],
       "layout": "IPY_MODEL_14ae760738fb4a27941f3c95cfac3c3e"
      }
     },
     "129e2eb21ed24e32a5fde554366d837e": {
      "model_module": "@jupyter-widgets/base",
      "model_module_version": "1.2.0",
      "model_name": "LayoutModel",
      "state": {}
     },
     "12eb81ed25ef43bca50d16ff51301d00": {
      "model_module": "@jupyter-widgets/controls",
      "model_module_version": "1.5.0",
      "model_name": "ButtonModel",
      "state": {
       "description": "Apply changes",
       "disabled": true,
       "layout": "IPY_MODEL_92900f23677e4c359f8c2edc8a3c1067",
       "style": "IPY_MODEL_61f8918be21c4b0292d930bf03a5b2ee"
      }
     },
     "1327ce44cb9148fcb95248d052f99087": {
      "model_module": "@jupyter-widgets/controls",
      "model_module_version": "1.5.0",
      "model_name": "DescriptionStyleModel",
      "state": {
       "description_width": ""
      }
     },
     "1395ded714bc43e2b24ca5b87d333dcd": {
      "model_module": "@jupyter-widgets/controls",
      "model_module_version": "1.5.0",
      "model_name": "ButtonStyleModel",
      "state": {}
     },
     "1456e8096a2e46beae7ee005bd577f95": {
      "model_module": "@jupyter-widgets/base",
      "model_module_version": "1.2.0",
      "model_name": "LayoutModel",
      "state": {}
     },
     "14ae760738fb4a27941f3c95cfac3c3e": {
      "model_module": "@jupyter-widgets/base",
      "model_module_version": "1.2.0",
      "model_name": "LayoutModel",
      "state": {}
     },
     "166cf128c1334e6b9bc8c7f429a2f74b": {
      "model_module": "pgljupyter",
      "model_module_version": "^0.1.21",
      "model_name": "CurveEditorModel",
      "state": {
       "_model_module_version": "^0.1.21",
       "_view_module_version": "^0.1.21",
       "children": [
        "IPY_MODEL_bee723fe1e244db7be50b6607b598430",
        "IPY_MODEL_f1a3a334b5fe4f668cae84d874c1b68d"
       ],
       "layout": "IPY_MODEL_4ebb4942f3c5427fbe2b783edbbd467e"
      }
     },
     "16752c9684f44a81b9455b66e20e742c": {
      "model_module": "@jupyter-widgets/base",
      "model_module_version": "1.2.0",
      "model_name": "LayoutModel",
      "state": {}
     },
     "16bbbfb45afb429d86fd1d6e25585809": {
      "model_module": "@jupyter-widgets/controls",
      "model_module_version": "1.5.0",
      "model_name": "DescriptionStyleModel",
      "state": {
       "description_width": ""
      }
     },
     "16d981b2b00b4b45bca776503addf771": {
      "model_module": "@jupyter-widgets/controls",
      "model_module_version": "1.5.0",
      "model_name": "DropdownModel",
      "state": {
       "_options_labels": [
        "NurbsCurve2D",
        "BezierCurve2D",
        "Polyline2D",
        "Function"
       ],
       "index": 0,
       "layout": "IPY_MODEL_cd2b788b077e4edabf67087600e8e89a",
       "style": "IPY_MODEL_44587c408aa54094adafb562c11d1b87"
      }
     },
     "1764b06dd98c48688e59e51be9e19ef8": {
      "model_module": "@jupyter-widgets/base",
      "model_module_version": "1.2.0",
      "model_name": "LayoutModel",
      "state": {}
     },
     "1772cb9ff7ba4363b347b855e71291bc": {
      "model_module": "@jupyter-widgets/base",
      "model_module_version": "1.2.0",
      "model_name": "LayoutModel",
      "state": {}
     },
     "17af608a319a490db6ac5216775239fa": {
      "model_module": "@jupyter-widgets/base",
      "model_module_version": "1.2.0",
      "model_name": "LayoutModel",
      "state": {
       "flex_flow": "row wrap",
       "margin": "20px"
      }
     },
     "17b7582e2d5840798c7dd35e8ca03a28": {
      "model_module": "@jupyter-widgets/controls",
      "model_module_version": "1.5.0",
      "model_name": "CheckboxModel",
      "state": {
       "description": "value",
       "disabled": false,
       "layout": "IPY_MODEL_0d9dacbc01c6405fada814b4f384c80f",
       "style": "IPY_MODEL_79e7fa360fb042b0959c4a06f36f2206",
       "value": false
      }
     },
     "182a69eac09d4628b264e9358d10ccb3": {
      "model_module": "@jupyter-widgets/controls",
      "model_module_version": "1.5.0",
      "model_name": "HBoxModel",
      "state": {
       "children": [
        "IPY_MODEL_54c31758527249b4863e511d578ea9ac",
        "IPY_MODEL_ee1d3b3fe28240c4b590d995dfcaaeeb"
       ],
       "layout": "IPY_MODEL_9fdd4f988e00442ba8148b561213a6b6"
      }
     },
     "1869f24debaf42bdb5d0798ef4e3e0ee": {
      "model_module": "@jupyter-widgets/controls",
      "model_module_version": "1.5.0",
      "model_name": "SliderStyleModel",
      "state": {
       "description_width": ""
      }
     },
     "198eb2140ee74f899d3ca88786819e7a": {
      "model_module": "@jupyter-widgets/base",
      "model_module_version": "1.2.0",
      "model_name": "LayoutModel",
      "state": {}
     },
     "19ae7056f8004ec6b6e024907718f823": {
      "model_module": "@jupyter-widgets/controls",
      "model_module_version": "1.5.0",
      "model_name": "ButtonModel",
      "state": {
       "description": "Delete",
       "layout": "IPY_MODEL_b6e0616073dd4b06863387d5c98f8011",
       "style": "IPY_MODEL_5a83c74b05d94f9391c8ec01f0fef898"
      }
     },
     "1a358308780e48ccb0ba3590051b1a15": {
      "model_module": "@jupyter-widgets/base",
      "model_module_version": "1.2.0",
      "model_name": "LayoutModel",
      "state": {}
     },
     "1a58a5bf772a4baba06fcc8f7635f5e9": {
      "model_module": "pgljupyter",
      "model_module_version": "^0.1.21",
      "model_name": "MaterialEditorModel",
      "state": {
       "_model_module_version": "^0.1.21",
       "_view_module_version": "^0.1.21",
       "children": [
        "IPY_MODEL_a53496cc7e924fcbb107e85bffd27a56",
        "IPY_MODEL_82e760290bef40f3b7a1f44ee21905eb",
        "IPY_MODEL_8d0b1c02201a4b6aa1fbbe630e094716",
        "IPY_MODEL_04ca1dd6bc9b4aeb92c7526ddd674b65",
        "IPY_MODEL_a8a4fe907edc447bae24501ff004da8d",
        "IPY_MODEL_ff14095dd5fe438f89a7aa1144f3ca0e",
        "IPY_MODEL_e7dcbdf4573444d9979a6080436ec3a0",
        "IPY_MODEL_d0677c8d38c0410bb3ad94f918beb6c9"
       ],
       "layout": "IPY_MODEL_94b9b66c68d041799342474b3b87a209"
      }
     },
     "1a6525aab7264e4d84503ee9e3d4d44d": {
      "model_module": "@jupyter-widgets/controls",
      "model_module_version": "1.5.0",
      "model_name": "DescriptionStyleModel",
      "state": {
       "description_width": ""
      }
     },
     "1ad291b07c3644d3996dba061febc481": {
      "model_module": "@jupyter-widgets/base",
      "model_module_version": "1.2.0",
      "model_name": "LayoutModel",
      "state": {
       "margin": "20px 0px"
      }
     },
     "1cd54725216945559f0930f2ce6005d8": {
      "model_module": "@jupyter-widgets/controls",
      "model_module_version": "1.5.0",
      "model_name": "DescriptionStyleModel",
      "state": {
       "description_width": ""
      }
     },
     "1d5fd7c59a1240ccbd865e68d343d428": {
      "model_module": "@jupyter-widgets/base",
      "model_module_version": "1.2.0",
      "model_name": "LayoutModel",
      "state": {}
     },
     "1da8050b62604435a5c1149aa75c0c51": {
      "model_module": "@jupyter-widgets/base",
      "model_module_version": "1.2.0",
      "model_name": "LayoutModel",
      "state": {}
     },
     "1dba4158d3b24cf59e01eaae68416fc2": {
      "model_module": "@jupyter-widgets/controls",
      "model_module_version": "1.5.0",
      "model_name": "HBoxModel",
      "state": {
       "children": [
        "IPY_MODEL_e10f9d7eae81430e89fe0b7f8a71427d",
        "IPY_MODEL_d85b4681883446e583f10e7caa8ceaf1"
       ],
       "layout": "IPY_MODEL_6859fda27a3d4359bb6a97b4a517fcf9"
      }
     },
     "1dda684c72eb40e6bb0abf2e660598aa": {
      "model_module": "@jupyter-widgets/controls",
      "model_module_version": "1.5.0",
      "model_name": "DescriptionStyleModel",
      "state": {
       "description_width": ""
      }
     },
     "1e4ad95d514b4be586ee6e82b47a17b6": {
      "model_module": "@jupyter-widgets/controls",
      "model_module_version": "1.5.0",
      "model_name": "TextModel",
      "state": {
       "layout": "IPY_MODEL_76b6714393624f0f95e85e0981e15f14",
       "placeholder": "category name",
       "style": "IPY_MODEL_bc1ced78426047e8924a9b26999d51e7"
      }
     },
     "1e9c729d8c7b4d96bf2de104d4b64786": {
      "model_module": "@jupyter-widgets/controls",
      "model_module_version": "1.5.0",
      "model_name": "HBoxModel",
      "state": {
       "children": [
        "IPY_MODEL_2123183c8803411cbf23c4485f3ad708",
        "IPY_MODEL_8b03b4fa234d4a8f9d0a9b11db751c85"
       ],
       "layout": "IPY_MODEL_3e2bbc6a7fc34b0ab7c409028f55aebd"
      }
     },
     "1ea9d602dbab4e85bb103872360d833e": {
      "model_module": "@jupyter-widgets/base",
      "model_module_version": "1.2.0",
      "model_name": "LayoutModel",
      "state": {}
     },
     "1ebdb99177d24c7e9fba576d92579371": {
      "model_module": "@jupyter-widgets/controls",
      "model_module_version": "1.5.0",
      "model_name": "ButtonModel",
      "state": {
       "description": "Save changes",
       "layout": "IPY_MODEL_353a6fef59cf42918461af6cc150d362",
       "style": "IPY_MODEL_5190bb5f232342f3879003ca6c86206f"
      }
     },
     "1f4b3a07c1b1477e8d17fd3a5f301655": {
      "model_module": "@jupyter-widgets/controls",
      "model_module_version": "1.5.0",
      "model_name": "HBoxModel",
      "state": {
       "children": [
        "IPY_MODEL_d9197e03b2934724bc87a5795973fb53",
        "IPY_MODEL_df573839bb8147debbf1fdeddd4c0c9f"
       ],
       "layout": "IPY_MODEL_7e39b450a0734155824927d010ade783"
      }
     },
     "1f68c408daaa4bbb8123efb0020b6be0": {
      "model_module": "@jupyter-widgets/base",
      "model_module_version": "1.2.0",
      "model_name": "LayoutModel",
      "state": {}
     },
     "1f6cd7c1c4264d6482230ef4da6fdaf0": {
      "model_module": "@jupyter-widgets/base",
      "model_module_version": "1.2.0",
      "model_name": "LayoutModel",
      "state": {}
     },
     "1f717bac35e2455ebe9014ab2b620366": {
      "model_module": "@jupyter-widgets/base",
      "model_module_version": "1.2.0",
      "model_name": "LayoutModel",
      "state": {}
     },
     "1f86f9c60fa142c6bcfab953c5545998": {
      "model_module": "@jupyter-widgets/controls",
      "model_module_version": "1.5.0",
      "model_name": "TextModel",
      "state": {
       "layout": "IPY_MODEL_004b3b608bc34e9fa61713ee7b2cfe82",
       "placeholder": "category name",
       "style": "IPY_MODEL_1cd54725216945559f0930f2ce6005d8"
      }
     },
     "1faef8002c624dc5be3a6a6987e472ba": {
      "model_module": "@jupyter-widgets/controls",
      "model_module_version": "1.5.0",
      "model_name": "FloatSliderModel",
      "state": {
       "description": "shininess",
       "layout": "IPY_MODEL_c94c6ee440004ee7bd816e0313fddd84",
       "max": 1,
       "step": 0.1,
       "style": "IPY_MODEL_c5bc2680f88f4dc1aa439de3414aa1cc"
      }
     },
     "1fddbc88de704f94bd3b071c0bf0b39e": {
      "model_module": "@jupyter-widgets/controls",
      "model_module_version": "1.5.0",
      "model_name": "TextModel",
      "state": {
       "continuous_update": false,
       "description": "name",
       "layout": "IPY_MODEL_a19a35559b174cb1b87a7788973ceb3a",
       "style": "IPY_MODEL_203bc3f63e0b451da0789d58556ba2bf",
       "value": "TROPISM"
      }
     },
     "2004f5896e04492aae383a0fd8034a53": {
      "model_module": "@jupyter-widgets/controls",
      "model_module_version": "1.5.0",
      "model_name": "FloatSliderModel",
      "state": {
       "description": "shininess",
       "layout": "IPY_MODEL_5b7cffe8a50242999aa1c812f17cf7f0",
       "max": 1,
       "step": 0.1,
       "style": "IPY_MODEL_d5baf7e6ad5244b5b86b464d3f4ed8ee"
      }
     },
     "2023c735c9a14800b5aef9235f9533de": {
      "model_module": "@jupyter-widgets/controls",
      "model_module_version": "1.5.0",
      "model_name": "FloatSliderModel",
      "state": {
       "description": "transparency",
       "layout": "IPY_MODEL_a2303c9a204e4618b64c07c90fefd691",
       "max": 1,
       "step": 0.1,
       "style": "IPY_MODEL_00e20e4df4fc4020a4d9d381634ddc6e"
      }
     },
     "20297c1958c94a1b9deacc6173461daa": {
      "model_module": "@jupyter-widgets/controls",
      "model_module_version": "1.5.0",
      "model_name": "HBoxModel",
      "state": {
       "children": [
        "IPY_MODEL_61e20b82436c4f8ea360802707006125",
        "IPY_MODEL_9b2f6c4ffd914201a148d793593e0ebe"
       ],
       "layout": "IPY_MODEL_11c4d15a2729495ba420ce919de7f54b"
      }
     },
     "202a2b77c6e3412698996fd251180db9": {
      "model_module": "@jupyter-widgets/controls",
      "model_module_version": "1.5.0",
      "model_name": "DescriptionStyleModel",
      "state": {
       "description_width": ""
      }
     },
     "203bc3f63e0b451da0789d58556ba2bf": {
      "model_module": "@jupyter-widgets/controls",
      "model_module_version": "1.5.0",
      "model_name": "DescriptionStyleModel",
      "state": {
       "description_width": ""
      }
     },
     "20455b66b87e44388560158b2b244a46": {
      "model_module": "@jupyter-widgets/base",
      "model_module_version": "1.2.0",
      "model_name": "LayoutModel",
      "state": {}
     },
     "20c340e0099a495cbd52e548853836f8": {
      "model_module": "@jupyter-widgets/controls",
      "model_module_version": "1.5.0",
      "model_name": "ColorPickerModel",
      "state": {
       "description": "emission",
       "disabled": false,
       "layout": "IPY_MODEL_40e2020181e84dda9263225128cc9b9b",
       "style": "IPY_MODEL_c51412c281a14dfd8d7dbbf4de92318e",
       "value": "#000000"
      }
     },
     "20e75f70e09b4fff8aa72892dcd26cde": {
      "model_module": "@jupyter-widgets/base",
      "model_module_version": "1.2.0",
      "model_name": "LayoutModel",
      "state": {}
     },
     "210134e01a9441128813b1d9dabbd47a": {
      "model_module": "@jupyter-widgets/base",
      "model_module_version": "1.2.0",
      "model_name": "LayoutModel",
      "state": {}
     },
     "21021bf3d2f54e5fab288f1740d736a2": {
      "model_module": "@jupyter-widgets/base",
      "model_module_version": "1.2.0",
      "model_name": "LayoutModel",
      "state": {}
     },
     "2123183c8803411cbf23c4485f3ad708": {
      "model_module": "@jupyter-widgets/controls",
      "model_module_version": "1.5.0",
      "model_name": "ButtonModel",
      "state": {
       "description": "Delete",
       "layout": "IPY_MODEL_ed1a1f41e5ba4a1a8f84447a9922627e",
       "style": "IPY_MODEL_befe28f1d74c43a9b5cb7da64d1ace96"
      }
     },
     "215b198c1e57488badb5c13b388be0de": {
      "model_module": "@jupyter-widgets/controls",
      "model_module_version": "1.5.0",
      "model_name": "SliderStyleModel",
      "state": {
       "description_width": ""
      }
     },
     "223796de86e445528144a06782b3504c": {
      "model_module": "@jupyter-widgets/base",
      "model_module_version": "1.2.0",
      "model_name": "LayoutModel",
      "state": {}
     },
     "2260371e711a4202b93e89d2bdba1239": {
      "model_module": "@jupyter-widgets/controls",
      "model_module_version": "1.5.0",
      "model_name": "DescriptionStyleModel",
      "state": {
       "description_width": ""
      }
     },
     "22f30c8ffa0c4c7ead1369b98a18a8e3": {
      "model_module": "@jupyter-widgets/controls",
      "model_module_version": "1.5.0",
      "model_name": "ButtonStyleModel",
      "state": {}
     },
     "239db7652d584d07a8308cda86098fcd": {
      "model_module": "@jupyter-widgets/controls",
      "model_module_version": "1.5.0",
      "model_name": "DescriptionStyleModel",
      "state": {
       "description_width": ""
      }
     },
     "23edb34b42c14c77bbcd7bccd094f6b0": {
      "model_module": "@jupyter-widgets/controls",
      "model_module_version": "1.5.0",
      "model_name": "SliderStyleModel",
      "state": {
       "description_width": ""
      }
     },
     "2407479ca8f24a96873a39c7ba003e35": {
      "model_module": "@jupyter-widgets/controls",
      "model_module_version": "1.5.0",
      "model_name": "ButtonStyleModel",
      "state": {}
     },
     "2593c42b5e0744e2861f2720f58e19d2": {
      "model_module": "@jupyter-widgets/base",
      "model_module_version": "1.2.0",
      "model_name": "LayoutModel",
      "state": {}
     },
     "26351207ccc04b1e99208561e9e6d848": {
      "model_module": "@jupyter-widgets/base",
      "model_module_version": "1.2.0",
      "model_name": "LayoutModel",
      "state": {}
     },
     "2656add411cd4d078f0df50f0c74a521": {
      "model_module": "@jupyter-widgets/controls",
      "model_module_version": "1.5.0",
      "model_name": "DropdownModel",
      "state": {
       "_options_labels": [
        "branchpath"
       ],
       "index": 0,
       "layout": "IPY_MODEL_daf9fd5e136e48d595c90910d0b9af0c",
       "style": "IPY_MODEL_4c9ab96645cb407e8c4567b05b9e9e93"
      }
     },
     "26766080486f4b94953f392da9edb304": {
      "model_module": "@jupyter-widgets/controls",
      "model_module_version": "1.5.0",
      "model_name": "HBoxModel",
      "state": {
       "children": [
        "IPY_MODEL_7beebd60e66744b39e965c204dfabf95",
        "IPY_MODEL_b9e9bed189f24452aa0fe2813213a1d6"
       ],
       "layout": "IPY_MODEL_8f88886f15504504ae8b8a36dc2f9079"
      }
     },
     "269ef478911245cf92639fbece6c1304": {
      "model_module": "@jupyter-widgets/controls",
      "model_module_version": "1.5.0",
      "model_name": "SliderStyleModel",
      "state": {
       "description_width": ""
      }
     },
     "26b854cbc4184721afbdd02f179538ae": {
      "model_module": "@jupyter-widgets/controls",
      "model_module_version": "1.5.0",
      "model_name": "DescriptionStyleModel",
      "state": {
       "description_width": ""
      }
     },
     "26b8e33eb0c845efb71f625213c6e163": {
      "model_module": "@jupyter-widgets/controls",
      "model_module_version": "1.5.0",
      "model_name": "FloatSliderModel",
      "state": {
       "description": "diffuse",
       "layout": "IPY_MODEL_c30c3c4ad16941188ef5ff6b1ee8decb",
       "max": 3,
       "step": 0.1,
       "style": "IPY_MODEL_0b1a39771eb24db8ba8d5067105d6611",
       "value": 3
      }
     },
     "26fd96620a0a4a1895741f8ba3de895e": {
      "model_module": "@jupyter-widgets/base",
      "model_module_version": "1.2.0",
      "model_name": "LayoutModel",
      "state": {}
     },
     "272e1b596d1b4d4996277e83c96605f3": {
      "model_module": "@jupyter-widgets/base",
      "model_module_version": "1.2.0",
      "model_name": "LayoutModel",
      "state": {}
     },
     "27cf6e0f2a834171ab8fecbec2202215": {
      "model_module": "@jupyter-widgets/base",
      "model_module_version": "1.2.0",
      "model_name": "LayoutModel",
      "state": {}
     },
     "2826ea0fc3b24a33af2820918a975d56": {
      "model_module": "@jupyter-widgets/controls",
      "model_module_version": "1.5.0",
      "model_name": "DescriptionStyleModel",
      "state": {
       "description_width": ""
      }
     },
     "28655b3c54ed4533894b46df8cf7f95d": {
      "model_module": "@jupyter-widgets/controls",
      "model_module_version": "1.5.0",
      "model_name": "ButtonStyleModel",
      "state": {}
     },
     "29565feead064fca9abc27f8139c22cd": {
      "model_module": "@jupyter-widgets/base",
      "model_module_version": "1.2.0",
      "model_name": "LayoutModel",
      "state": {}
     },
     "299a8637879a4f05b293fa7877e9b3d0": {
      "model_module": "@jupyter-widgets/base",
      "model_module_version": "1.2.0",
      "model_name": "LayoutModel",
      "state": {}
     },
     "299f9902de0f444f82a4e0304949f08e": {
      "model_module": "pgljupyter",
      "model_module_version": "^0.1.21",
      "model_name": "FloatEditorModel",
      "state": {
       "_model_module_version": "^0.1.21",
       "_view_module_version": "^0.1.21",
       "children": [
        "IPY_MODEL_2ced9ee45ea84cbc86c3c50d1a82df5b",
        "IPY_MODEL_2ca0eff9f9fd40859a9cc527ada7127a"
       ],
       "layout": "IPY_MODEL_33064b19d7ef4d1f8c0068b9207c5fbc"
      }
     },
     "2a8b24dfc89148cc941d972d5bb07482": {
      "model_module": "@jupyter-widgets/base",
      "model_module_version": "1.2.0",
      "model_name": "LayoutModel",
      "state": {}
     },
     "2a8bad2d740c4a15a860ec093721f390": {
      "model_module": "@jupyter-widgets/controls",
      "model_module_version": "1.5.0",
      "model_name": "CheckboxModel",
      "state": {
       "description": "Auto save",
       "disabled": false,
       "layout": "IPY_MODEL_7ebec2a24a7f40bc87c64d0d3a9b0b4a",
       "style": "IPY_MODEL_f101d3841e614b8da56da5aa9e73d8dc",
       "value": false
      }
     },
     "2a9c6e497188424b9551fd52b840e61a": {
      "model_module": "@jupyter-widgets/controls",
      "model_module_version": "1.5.0",
      "model_name": "HBoxModel",
      "state": {
       "children": [
        "IPY_MODEL_1a58a5bf772a4baba06fcc8f7635f5e9"
       ],
       "layout": "IPY_MODEL_d4fb3e0c479747d09935c8859c9ffd34"
      }
     },
     "2b1226d5d7e24863bfb694fdd9086634": {
      "model_module": "@jupyter-widgets/controls",
      "model_module_version": "1.5.0",
      "model_name": "HBoxModel",
      "state": {
       "children": [
        "IPY_MODEL_bfd7c9bb017a4623b4ce88e82a56eaf7",
        "IPY_MODEL_12739fa7c1804cccb604f74d7c9cec8e"
       ],
       "layout": "IPY_MODEL_f14042a43258424897bc4a4b36a6c8aa"
      }
     },
     "2b4daa3985584ccdb3a241444bbfa81f": {
      "model_module": "@jupyter-widgets/base",
      "model_module_version": "1.2.0",
      "model_name": "LayoutModel",
      "state": {}
     },
     "2babe027489e481fa7c22f9f3a4458e3": {
      "model_module": "@jupyter-widgets/controls",
      "model_module_version": "1.5.0",
      "model_name": "ButtonStyleModel",
      "state": {}
     },
     "2c84d466ec9e4e0b9a9b9064bf05460b": {
      "model_module": "@jupyter-widgets/controls",
      "model_module_version": "1.5.0",
      "model_name": "FloatSliderModel",
      "state": {
       "description": "transparency",
       "layout": "IPY_MODEL_5ac73571782a4d2f9baa1b54c2ffdaa6",
       "max": 1,
       "step": 0.1,
       "style": "IPY_MODEL_bf7d79a5a0c04176811c2309150d2e37"
      }
     },
     "2ca0eff9f9fd40859a9cc527ada7127a": {
      "model_module": "@jupyter-widgets/controls",
      "model_module_version": "1.5.0",
      "model_name": "FloatSliderModel",
      "state": {
       "description": "value",
       "layout": "IPY_MODEL_557d958363744868a6e10af48e87244e",
       "max": 3,
       "step": 0.001,
       "style": "IPY_MODEL_23edb34b42c14c77bbcd7bccd094f6b0",
       "value": 1.776
      }
     },
     "2ca68e1e3cd64f35a5162c8d981fed4f": {
      "model_module": "@jupyter-widgets/controls",
      "model_module_version": "1.5.0",
      "model_name": "ButtonModel",
      "state": {
       "description": "Add",
       "layout": "IPY_MODEL_be9a9d9388464ab8992f11d3506694c9",
       "style": "IPY_MODEL_a0926be8df1f4fa29059f82f8eb8dd96"
      }
     },
     "2cd7e225e7634484a14fa72dbbf6bb9a": {
      "model_module": "@jupyter-widgets/controls",
      "model_module_version": "1.5.0",
      "model_name": "AccordionModel",
      "state": {
       "_titles": {
        "0": "materials",
        "1": "Panel"
       },
       "children": [
        "IPY_MODEL_3fa7b0e237584426a8e66e2771551388",
        "IPY_MODEL_b3531685a8a945c4a89a1508a53467c4"
       ],
       "layout": "IPY_MODEL_d862c4b0921b4f5c977cf00077b9254e",
       "selected_index": 1
      }
     },
     "2ced9ee45ea84cbc86c3c50d1a82df5b": {
      "model_module": "@jupyter-widgets/controls",
      "model_module_version": "1.5.0",
      "model_name": "TextModel",
      "state": {
       "continuous_update": false,
       "description": "name",
       "layout": "IPY_MODEL_bcf7ddd2358f456fa5e1d1d0a44cb2c5",
       "style": "IPY_MODEL_08da804663ec4168abcefc58d723400f",
       "value": "ELASTICITY"
      }
     },
     "2cf08d88e6824864bf4028bcc6b736bc": {
      "model_module": "@jupyter-widgets/base",
      "model_module_version": "1.2.0",
      "model_name": "LayoutModel",
      "state": {}
     },
     "2d2dd9c4d19e428c93fb5b778b7d4a9f": {
      "model_module": "@jupyter-widgets/controls",
      "model_module_version": "1.5.0",
      "model_name": "ButtonStyleModel",
      "state": {}
     },
     "2d6905a0a4674fb99ab5dcc5ca35a1cb": {
      "model_module": "@jupyter-widgets/base",
      "model_module_version": "1.2.0",
      "model_name": "LayoutModel",
      "state": {}
     },
     "2db16dbf10ee4a748135e266f468b68c": {
      "model_module": "@jupyter-widgets/controls",
      "model_module_version": "1.5.0",
      "model_name": "ButtonModel",
      "state": {
       "description": "Delete",
       "layout": "IPY_MODEL_c08a86682f2b40beb8d3728dc9d13dbc",
       "style": "IPY_MODEL_06a89a4c7f81482a9c00f5699989546a"
      }
     },
     "2e0df8a79f0b4aeebae3dbfa40661266": {
      "model_module": "@jupyter-widgets/base",
      "model_module_version": "1.2.0",
      "model_name": "LayoutModel",
      "state": {}
     },
     "2e15683a64464f22a939c0ed81a40437": {
      "model_module": "@jupyter-widgets/controls",
      "model_module_version": "1.5.0",
      "model_name": "DescriptionStyleModel",
      "state": {
       "description_width": ""
      }
     },
     "2e89b56371204ddaa2a3ac9d10c6fe2d": {
      "model_module": "@jupyter-widgets/controls",
      "model_module_version": "1.5.0",
      "model_name": "VBoxModel",
      "state": {
       "children": [
        "IPY_MODEL_738b43d1cc924ca2be8cae0c751d40c5",
        "IPY_MODEL_34513f479d614614afbd6d53970cc4d1"
       ],
       "layout": "IPY_MODEL_071c96f39f074589b5910c6046f2c773"
      }
     },
     "2ed3e806c5eb4fcf916c230c60cc2e4c": {
      "model_module": "pgljupyter",
      "model_module_version": "^0.1.21",
      "model_name": "FloatEditorModel",
      "state": {
       "_model_module_version": "^0.1.21",
       "_view_module_version": "^0.1.21",
       "children": [
        "IPY_MODEL_5fd022562c334e06bcaa359848bd5ec8",
        "IPY_MODEL_7e819f5c438c4de984d6189b2c3063d9"
       ],
       "layout": "IPY_MODEL_b005adb8a90c4e428b53885833172732"
      }
     },
     "2f3fcc38231f43b09f0d027ad4be58fd": {
      "model_module": "@jupyter-widgets/base",
      "model_module_version": "1.2.0",
      "model_name": "LayoutModel",
      "state": {}
     },
     "2fc1de25fc554d888b25d5d672c18f01": {
      "model_module": "pgljupyter",
      "model_module_version": "^0.1.21",
      "model_name": "LsystemWidgetModel",
      "state": {
       "_model_module_version": "^0.1.21",
       "_view_module_version": "^0.1.21",
       "axes_helper": false,
       "derivationLength": 3,
       "layout": "IPY_MODEL_97ea4f2fe12241ebb735e7c462ea6d82",
       "light_helper": false,
       "plane": true,
       "size_display": [
        800,
        400
       ],
       "size_world": 5,
       "unit": 1
      }
     },
     "2fc3a2f69a004f84a3fec6fe0c8f9ae2": {
      "model_module": "@jupyter-widgets/controls",
      "model_module_version": "1.5.0",
      "model_name": "TextModel",
      "state": {
       "continuous_update": false,
       "description": "name",
       "layout": "IPY_MODEL_c733e9baf9bd4136beb1d267ae3c83d7",
       "style": "IPY_MODEL_ec5770962d4a4dc789e303576b69be2a",
       "value": "Color_1"
      }
     },
     "3029195f26814ad2b0efbfc905ce94de": {
      "model_module": "@jupyter-widgets/base",
      "model_module_version": "1.2.0",
      "model_name": "LayoutModel",
      "state": {}
     },
     "30982531546f4213ae5f9b14fdb46124": {
      "model_module": "@jupyter-widgets/base",
      "model_module_version": "1.2.0",
      "model_name": "LayoutModel",
      "state": {}
     },
     "30bd81d4ef2643cc8d8dc01788a77fe3": {
      "model_module": "@jupyter-widgets/controls",
      "model_module_version": "1.5.0",
      "model_name": "DropdownModel",
      "state": {
       "_options_labels": [
        "branchpath"
       ],
       "index": 0,
       "layout": "IPY_MODEL_c497737c28114b0ba8892f2db51b6280",
       "style": "IPY_MODEL_2260371e711a4202b93e89d2bdba1239"
      }
     },
     "30ea3b8f985049e1b162ddd5a80d739c": {
      "model_module": "@jupyter-widgets/controls",
      "model_module_version": "1.5.0",
      "model_name": "ButtonStyleModel",
      "state": {}
     },
     "3151aa0aa4524fbe897a7b24597d8022": {
      "model_module": "@jupyter-widgets/controls",
      "model_module_version": "1.5.0",
      "model_name": "ButtonStyleModel",
      "state": {}
     },
     "3178076220c34cc7937ba6286cedb652": {
      "model_module": "@jupyter-widgets/controls",
      "model_module_version": "1.5.0",
      "model_name": "TabModel",
      "state": {
       "layout": "IPY_MODEL_0833b3f0a8fc4152ac43e0308ab8fe7a"
      }
     },
     "32014a3269264f4aa18caa1316ef8253": {
      "model_module": "@jupyter-widgets/controls",
      "model_module_version": "1.5.0",
      "model_name": "TextModel",
      "state": {
       "continuous_update": false,
       "description": "name",
       "layout": "IPY_MODEL_fb870b880aa247a79a932b651373451b",
       "style": "IPY_MODEL_e65751193a0d462cb2581531e3555d11",
       "value": "TROPISM"
      }
     },
     "325a27716a904a9c837068592fad10f1": {
      "model_module": "@jupyter-widgets/base",
      "model_module_version": "1.2.0",
      "model_name": "LayoutModel",
      "state": {}
     },
     "32f77af6e5ec4a0aa2c5e262768adfa6": {
      "model_module": "@jupyter-widgets/base",
      "model_module_version": "1.2.0",
      "model_name": "LayoutModel",
      "state": {
       "margin": "20px 0px"
      }
     },
     "33064b19d7ef4d1f8c0068b9207c5fbc": {
      "model_module": "@jupyter-widgets/base",
      "model_module_version": "1.2.0",
      "model_name": "LayoutModel",
      "state": {
       "margin": "20px 0px"
      }
     },
     "336429c4fa1c470290c034fb1f4fa283": {
      "model_module": "@jupyter-widgets/controls",
      "model_module_version": "1.5.0",
      "model_name": "ButtonModel",
      "state": {
       "description": "Add",
       "layout": "IPY_MODEL_ee813bf9ce344a34979def9e04a2c568",
       "style": "IPY_MODEL_22f30c8ffa0c4c7ead1369b98a18a8e3"
      }
     },
     "33dedf001d634c5aacc2943416cc2311": {
      "model_module": "@jupyter-widgets/controls",
      "model_module_version": "1.5.0",
      "model_name": "FloatSliderModel",
      "state": {
       "description": "shininess",
       "layout": "IPY_MODEL_7dc38291917c4b18b7e10149564bd96c",
       "max": 1,
       "step": 0.1,
       "style": "IPY_MODEL_8be0cf58651344ae9ffd6ecd578b026e"
      }
     },
     "340ad8ef05b840378817bba1e15e01b1": {
      "model_module": "@jupyter-widgets/controls",
      "model_module_version": "1.5.0",
      "model_name": "DescriptionStyleModel",
      "state": {
       "description_width": ""
      }
     },
     "34513f479d614614afbd6d53970cc4d1": {
      "model_module": "@jupyter-widgets/controls",
      "model_module_version": "1.5.0",
      "model_name": "TabModel",
      "state": {
       "_titles": {
        "0": "parameter_edition.json"
       },
       "children": [
        "IPY_MODEL_2cd7e225e7634484a14fa72dbbf6bb9a"
       ],
       "layout": "IPY_MODEL_e63311418f9b43ab999072c54645c1b1"
      }
     },
     "347d02643ca649fc9dd73e866e32c0eb": {
      "model_module": "@jupyter-widgets/controls",
      "model_module_version": "1.5.0",
      "model_name": "AccordionModel",
      "state": {
       "_titles": {
        "0": "materials",
        "1": "Panel"
       },
       "children": [
        "IPY_MODEL_e07f6d89c42f4200bd30973b55346855",
        "IPY_MODEL_89746df7d3f743b5a89e937989cc33d0"
       ],
       "layout": "IPY_MODEL_2d6905a0a4674fb99ab5dcc5ca35a1cb",
       "selected_index": 1
      }
     },
     "353a6fef59cf42918461af6cc150d362": {
      "model_module": "@jupyter-widgets/base",
      "model_module_version": "1.2.0",
      "model_name": "LayoutModel",
      "state": {}
     },
     "365b455cbeff4ec3991b766da1cf5be5": {
      "model_module": "@jupyter-widgets/controls",
      "model_module_version": "1.5.0",
      "model_name": "ButtonModel",
      "state": {
       "description": "Delete",
       "layout": "IPY_MODEL_029421327cbc43e795bae63b8eadffa9",
       "style": "IPY_MODEL_f58c7e3cb2fb46d9b2cfa3ca8a6370cc"
      }
     },
     "36e1ce3b696a49069e203772e4c4cbef": {
      "model_module": "@jupyter-widgets/controls",
      "model_module_version": "1.5.0",
      "model_name": "VBoxModel",
      "state": {
       "children": [
        "IPY_MODEL_00db4dca880440a4b740791435be2c4a",
        "IPY_MODEL_182a69eac09d4628b264e9358d10ccb3",
        "IPY_MODEL_72bd72291e46467da1bbeb795a0cf16a",
        "IPY_MODEL_0e9918223e4445239917ac5bb56ed830",
        "IPY_MODEL_94831600e30e4a08932b6dd93ee99701"
       ],
       "layout": "IPY_MODEL_0db4041253da462b8682821343022311"
      }
     },
     "374e477ab845411dafbc5f9321824b49": {
      "model_module": "@jupyter-widgets/base",
      "model_module_version": "1.2.0",
      "model_name": "LayoutModel",
      "state": {}
     },
     "3760782c870a4a5f8cab02e98513508f": {
      "model_module": "@jupyter-widgets/controls",
      "model_module_version": "1.5.0",
      "model_name": "FloatSliderModel",
      "state": {
       "description": "diffuse",
       "layout": "IPY_MODEL_cdda334df2e849cabc1e77404ef92f02",
       "max": 3,
       "step": 0.1,
       "style": "IPY_MODEL_269ef478911245cf92639fbece6c1304",
       "value": 3
      }
     },
     "378ee8737a32412cab7daf0256a4d41a": {
      "model_module": "@jupyter-widgets/controls",
      "model_module_version": "1.5.0",
      "model_name": "TextModel",
      "state": {
       "layout": "IPY_MODEL_ba80ebc4b9684f9e9188eb7d16bb58d0",
       "placeholder": "category name",
       "style": "IPY_MODEL_1a6525aab7264e4d84503ee9e3d4d44d"
      }
     },
     "3802fcce03a54bf187dcef66915da334": {
      "model_module": "@jupyter-widgets/base",
      "model_module_version": "1.2.0",
      "model_name": "LayoutModel",
      "state": {}
     },
     "387f61139941434a9477d879bace4e82": {
      "model_module": "pgljupyter",
      "model_module_version": "^0.1.21",
      "model_name": "MaterialEditorModel",
      "state": {
       "_model_module_version": "^0.1.21",
       "_view_module_version": "^0.1.21",
       "children": [
        "IPY_MODEL_c9c1a0dbd1694baabad322fff2deeef7",
        "IPY_MODEL_b8c7eea65f4147aa82e003593a0dffa8",
        "IPY_MODEL_e520ccfe0107438abae4ac1daa93f5ee",
        "IPY_MODEL_4b150f298bb5432c8121abac353769b2",
        "IPY_MODEL_bbbe21ec9fbd471ea10ceccbae5ee5ed",
        "IPY_MODEL_b3fbba529d1b4f0eb2e0849f54f34a1e",
        "IPY_MODEL_5a84613e9b654648944319bdee372972",
        "IPY_MODEL_33dedf001d634c5aacc2943416cc2311"
       ],
       "layout": "IPY_MODEL_68d8f5ce7a4c4b3da683a915769ef9b0"
      }
     },
     "39274295af864537b963231e00a39b74": {
      "model_module": "@jupyter-widgets/base",
      "model_module_version": "1.2.0",
      "model_name": "LayoutModel",
      "state": {
       "flex_flow": "row wrap"
      }
     },
     "3927eb714f7740f1b884ca678543dc14": {
      "model_module": "@jupyter-widgets/controls",
      "model_module_version": "1.5.0",
      "model_name": "HBoxModel",
      "state": {
       "children": [
        "IPY_MODEL_d9d66b50dab64bf48a31fd7bea0f7e53",
        "IPY_MODEL_6285cb8288ee4b3da87c8e59730c7bcf"
       ],
       "layout": "IPY_MODEL_5759d3ed09b04c3ab71ada16fd1e7b39"
      }
     },
     "3ad2ce28164643ecb5a518ee9d9e5a59": {
      "model_module": "@jupyter-widgets/controls",
      "model_module_version": "1.5.0",
      "model_name": "DescriptionStyleModel",
      "state": {
       "description_width": ""
      }
     },
     "3adbb6b6d34b41c28905d635d63461eb": {
      "model_module": "@jupyter-widgets/controls",
      "model_module_version": "1.5.0",
      "model_name": "TextModel",
      "state": {
       "continuous_update": false,
       "description": "name",
       "layout": "IPY_MODEL_cbd4159e1bb646cb8628f43af8b88ba3",
       "style": "IPY_MODEL_3c88eb4e59004b62ad2f4be482b7bd9c",
       "value": "TROPISM"
      }
     },
     "3af2800fff5f44ce8348548162068adf": {
      "model_module": "@jupyter-widgets/controls",
      "model_module_version": "1.5.0",
      "model_name": "ColorPickerModel",
      "state": {
       "description": "emission",
       "disabled": false,
       "layout": "IPY_MODEL_7c27e8970ccd41228e64b6c29455f1b3",
       "style": "IPY_MODEL_9f8630adbf6c402a8b05024236c8e5d1",
       "value": "#000000"
      }
     },
     "3af39bd588454424acb59f3b852a0ecd": {
      "model_module": "@jupyter-widgets/controls",
      "model_module_version": "1.5.0",
      "model_name": "DescriptionStyleModel",
      "state": {
       "description_width": ""
      }
     },
     "3b3fb54a1e65489285bf28ad40cb226c": {
      "model_module": "@jupyter-widgets/controls",
      "model_module_version": "1.5.0",
      "model_name": "HBoxModel",
      "state": {
       "children": [
        "IPY_MODEL_4b22a2c83d244ebe924c875f58fafb25",
        "IPY_MODEL_20297c1958c94a1b9deacc6173461daa",
        "IPY_MODEL_dc5cd1e230df4319aa6da45afea29236"
       ],
       "layout": "IPY_MODEL_ba27e4db716e457fa8f4df0ea8daaa25"
      }
     },
     "3bd277c5120b48609079f82766b91e70": {
      "model_module": "@jupyter-widgets/base",
      "model_module_version": "1.2.0",
      "model_name": "LayoutModel",
      "state": {}
     },
     "3beb9d8cdf0140b3af836c5f01b464c9": {
      "model_module": "@jupyter-widgets/controls",
      "model_module_version": "1.5.0",
      "model_name": "HBoxModel",
      "state": {
       "children": [
        "IPY_MODEL_c01ece367f4d45af868cfaa6715adce1",
        "IPY_MODEL_8222b79d18a24d6da8cccbadf6a0e27e",
        "IPY_MODEL_0febe6c18a06499bae3553538dbf2d6f"
       ],
       "layout": "IPY_MODEL_d5aaa5dcd7ac46158ad2141e9a9a358c"
      }
     },
     "3c31dd7910c14e6fa9d6bba0b0b7f601": {
      "model_module": "@jupyter-widgets/controls",
      "model_module_version": "1.5.0",
      "model_name": "ButtonModel",
      "state": {
       "description": "Delete category",
       "layout": "IPY_MODEL_e3882f426a284cbe894be4a8260dad90",
       "style": "IPY_MODEL_2babe027489e481fa7c22f9f3a4458e3"
      }
     },
     "3c88eb4e59004b62ad2f4be482b7bd9c": {
      "model_module": "@jupyter-widgets/controls",
      "model_module_version": "1.5.0",
      "model_name": "DescriptionStyleModel",
      "state": {
       "description_width": ""
      }
     },
     "3c9156edb32c4c539eb43de3354e09c1": {
      "model_module": "@jupyter-widgets/base",
      "model_module_version": "1.2.0",
      "model_name": "LayoutModel",
      "state": {}
     },
     "3cb36a7c85db4259ac4deb735115c55f": {
      "model_module": "@jupyter-widgets/controls",
      "model_module_version": "1.5.0",
      "model_name": "DescriptionStyleModel",
      "state": {
       "description_width": ""
      }
     },
     "3cef09f8897e418c87b726ac218a17d3": {
      "model_module": "@jupyter-widgets/base",
      "model_module_version": "1.2.0",
      "model_name": "LayoutModel",
      "state": {}
     },
     "3d10c2c82f794f0d95ceb012fad1c263": {
      "model_module": "@jupyter-widgets/base",
      "model_module_version": "1.2.0",
      "model_name": "LayoutModel",
      "state": {}
     },
     "3d9bef25ec524056b77a0747da3901f3": {
      "model_module": "@jupyter-widgets/controls",
      "model_module_version": "1.5.0",
      "model_name": "HBoxModel",
      "state": {
       "children": [
        "IPY_MODEL_b4de295497ba4890811928d0aba8d7e9",
        "IPY_MODEL_cf1b5555f2114c909ed3d5b7b42d37ee"
       ],
       "layout": "IPY_MODEL_8ef0b47d6db145cab2500554e5131b3e"
      }
     },
     "3dd689b3f6f7496a902ae5c9332a5dc2": {
      "model_module": "@jupyter-widgets/controls",
      "model_module_version": "1.5.0",
      "model_name": "DescriptionStyleModel",
      "state": {
       "description_width": ""
      }
     },
     "3de4a65368b14b3c987573c7590bfb08": {
      "model_module": "@jupyter-widgets/base",
      "model_module_version": "1.2.0",
      "model_name": "LayoutModel",
      "state": {}
     },
     "3dee9f22e6f8484b8cfdd3f6c4d86fd6": {
      "model_module": "@jupyter-widgets/controls",
      "model_module_version": "1.5.0",
      "model_name": "DescriptionStyleModel",
      "state": {
       "description_width": ""
      }
     },
     "3e2bbc6a7fc34b0ab7c409028f55aebd": {
      "model_module": "@jupyter-widgets/base",
      "model_module_version": "1.2.0",
      "model_name": "LayoutModel",
      "state": {}
     },
     "3f141f4b38b34bbaa43610b6dfdeecb4": {
      "model_module": "@jupyter-widgets/base",
      "model_module_version": "1.2.0",
      "model_name": "LayoutModel",
      "state": {
       "margin": "20px 0px"
      }
     },
     "3f19cd10b73e4759a52f560ace0b36bc": {
      "model_module": "@jupyter-widgets/controls",
      "model_module_version": "1.5.0",
      "model_name": "HBoxModel",
      "state": {
       "children": [
        "IPY_MODEL_12eb81ed25ef43bca50d16ff51301d00",
        "IPY_MODEL_62f4d258b68e400e98b1c723dcf67c7c"
       ],
       "layout": "IPY_MODEL_bf97c8825eac410d8cd335abc181bc89"
      }
     },
     "3fa7b0e237584426a8e66e2771551388": {
      "model_module": "@jupyter-widgets/controls",
      "model_module_version": "1.5.0",
      "model_name": "VBoxModel",
      "state": {
       "children": [
        "IPY_MODEL_649b631c78eb4ba6894db9551783dbbc",
        "IPY_MODEL_114a16fd6ae745589fa4c7302556da7b"
       ],
       "layout": "IPY_MODEL_b6603a7a438d47ee97f1a55c0556c71c"
      }
     },
     "3faae8ed30a44bdfab85d281c17d71ee": {
      "model_module": "@jupyter-widgets/controls",
      "model_module_version": "1.5.0",
      "model_name": "DescriptionStyleModel",
      "state": {
       "description_width": ""
      }
     },
     "3fd357d774f547e4a1eca2c8fb825b51": {
      "model_module": "@jupyter-widgets/controls",
      "model_module_version": "1.5.0",
      "model_name": "DescriptionStyleModel",
      "state": {
       "description_width": ""
      }
     },
     "40e2020181e84dda9263225128cc9b9b": {
      "model_module": "@jupyter-widgets/base",
      "model_module_version": "1.2.0",
      "model_name": "LayoutModel",
      "state": {}
     },
     "4175e88ead2448a9871a109b6de8157d": {
      "model_module": "@jupyter-widgets/base",
      "model_module_version": "1.2.0",
      "model_name": "LayoutModel",
      "state": {}
     },
     "4193579f139d4f07abc7e23624955819": {
      "model_module": "@jupyter-widgets/base",
      "model_module_version": "1.2.0",
      "model_name": "LayoutModel",
      "state": {}
     },
     "4299ca2a65864867a686213298c21a0e": {
      "model_module": "pgljupyter",
      "model_module_version": "^0.1.21",
      "model_name": "IntEditorModel",
      "state": {
       "_model_module_version": "^0.1.21",
       "_view_module_version": "^0.1.21",
       "children": [
        "IPY_MODEL_6b78088345b84683ae55ede636283388",
        "IPY_MODEL_afd31b9ee2444a8699038b38a5d7fb93"
       ],
       "layout": "IPY_MODEL_60c62d91c7fa40939ee213b76c5cb6d9"
      }
     },
     "432c736e665e4488ad02e7de92226776": {
      "model_module": "@jupyter-widgets/base",
      "model_module_version": "1.2.0",
      "model_name": "LayoutModel",
      "state": {}
     },
     "436523f3240b45d0827d1034cdcc07d3": {
      "model_module": "@jupyter-widgets/base",
      "model_module_version": "1.2.0",
      "model_name": "LayoutModel",
      "state": {}
     },
     "43aa688012c1498d8c1f41ec43d00b93": {
      "model_module": "@jupyter-widgets/controls",
      "model_module_version": "1.5.0",
      "model_name": "ColorPickerModel",
      "state": {
       "description": "ambient",
       "disabled": false,
       "layout": "IPY_MODEL_f942da0a18b244bc9c14aca0f642b56a",
       "style": "IPY_MODEL_5cc81cb9dcf04d429fb28688726b5a9a",
       "value": "#412d0f"
      }
     },
     "440fa7b32fe5434c997029b4297f6479": {
      "model_module": "@jupyter-widgets/controls",
      "model_module_version": "1.5.0",
      "model_name": "DescriptionStyleModel",
      "state": {
       "description_width": ""
      }
     },
     "4446be4572ff40b78ad3d1f157ba4ac5": {
      "model_module": "@jupyter-widgets/controls",
      "model_module_version": "1.5.0",
      "model_name": "ButtonStyleModel",
      "state": {}
     },
     "44587c408aa54094adafb562c11d1b87": {
      "model_module": "@jupyter-widgets/controls",
      "model_module_version": "1.5.0",
      "model_name": "DescriptionStyleModel",
      "state": {
       "description_width": ""
      }
     },
     "44b7655139ce4549a1e03022bc2857fe": {
      "model_module": "@jupyter-widgets/controls",
      "model_module_version": "1.5.0",
      "model_name": "DescriptionStyleModel",
      "state": {
       "description_width": ""
      }
     },
     "44cbdd7cba89452d9dab5e72cada996b": {
      "model_module": "@jupyter-widgets/base",
      "model_module_version": "1.2.0",
      "model_name": "LayoutModel",
      "state": {}
     },
     "4531f9c736824eb391fded82d85984e3": {
      "model_module": "@jupyter-widgets/controls",
      "model_module_version": "1.5.0",
      "model_name": "DropdownModel",
      "state": {
       "_options_labels": [
        "branchpath"
       ],
       "index": 0,
       "layout": "IPY_MODEL_1f717bac35e2455ebe9014ab2b620366",
       "style": "IPY_MODEL_baf6aebc0e184950a9188c143169f1d1"
      }
     },
     "460f039733f740039650e97352f8933a": {
      "model_module": "@jupyter-widgets/base",
      "model_module_version": "1.2.0",
      "model_name": "LayoutModel",
      "state": {}
     },
     "460f2f4f4a1e41e8b791d608f130f3df": {
      "model_module": "@jupyter-widgets/base",
      "model_module_version": "1.2.0",
      "model_name": "LayoutModel",
      "state": {}
     },
     "46ec773722a149f9ae5a3f46caeb2b61": {
      "model_module": "@jupyter-widgets/base",
      "model_module_version": "1.2.0",
      "model_name": "LayoutModel",
      "state": {}
     },
     "46f62ad23c0e4d63a5b60542a57024bc": {
      "model_module": "@jupyter-widgets/base",
      "model_module_version": "1.2.0",
      "model_name": "LayoutModel",
      "state": {}
     },
     "473b121ffca54498a2ee133011fd6293": {
      "model_module": "@jupyter-widgets/controls",
      "model_module_version": "1.5.0",
      "model_name": "DescriptionStyleModel",
      "state": {
       "description_width": ""
      }
     },
     "47981f1163394cb1ace1256a2ce8efe5": {
      "model_module": "@jupyter-widgets/controls",
      "model_module_version": "1.5.0",
      "model_name": "TextModel",
      "state": {
       "continuous_update": false,
       "description": "name",
       "layout": "IPY_MODEL_8ca242a76af748a18aca81d41fb61858",
       "style": "IPY_MODEL_930cc30468ab4230835d9602f3df1434",
       "value": "Color_1"
      }
     },
     "480fd0cfa27f4cbc8c72b5f36e62fe2e": {
      "model_module": "@jupyter-widgets/controls",
      "model_module_version": "1.5.0",
      "model_name": "ButtonStyleModel",
      "state": {}
     },
     "48642a1f8fe44f7b9d0987984d0f8042": {
      "model_module": "@jupyter-widgets/controls",
      "model_module_version": "1.5.0",
      "model_name": "HBoxModel",
      "state": {
       "children": [
        "IPY_MODEL_863a389abc284287b183477614fd9738",
        "IPY_MODEL_87f62872008f40358efad90a56dda77c"
       ],
       "layout": "IPY_MODEL_16752c9684f44a81b9455b66e20e742c"
      }
     },
     "4898c3b375ad40468ff8fab738d22d12": {
      "model_module": "@jupyter-widgets/base",
      "model_module_version": "1.2.0",
      "model_name": "LayoutModel",
      "state": {}
     },
     "48d7fc2246f94df4af242b6d871ab4aa": {
      "model_module": "@jupyter-widgets/base",
      "model_module_version": "1.2.0",
      "model_name": "LayoutModel",
      "state": {}
     },
     "49028d59d3bf49219fe1abb322bc5453": {
      "model_module": "@jupyter-widgets/base",
      "model_module_version": "1.2.0",
      "model_name": "LayoutModel",
      "state": {}
     },
     "49137596ad1c466c86abaaffd4c60c8c": {
      "model_module": "@jupyter-widgets/base",
      "model_module_version": "1.2.0",
      "model_name": "LayoutModel",
      "state": {}
     },
     "49562e8829b146468759da6ba5a4c982": {
      "model_module": "@jupyter-widgets/controls",
      "model_module_version": "1.5.0",
      "model_name": "FloatSliderModel",
      "state": {
       "description": "shininess",
       "layout": "IPY_MODEL_b5fde040575f4c738dc6a883890af112",
       "max": 1,
       "step": 0.1,
       "style": "IPY_MODEL_bd999b3068634424b7dc5ce735e4c9dc"
      }
     },
     "49940797ddbd49a7ade64775bdd7de41": {
      "model_module": "@jupyter-widgets/controls",
      "model_module_version": "1.5.0",
      "model_name": "DescriptionStyleModel",
      "state": {
       "description_width": ""
      }
     },
     "49b738f41ffb418bb4ae10059bf0ba0d": {
      "model_module": "@jupyter-widgets/controls",
      "model_module_version": "1.5.0",
      "model_name": "ButtonModel",
      "state": {
       "description": "Apply changes",
       "layout": "IPY_MODEL_09593419ca40440482d4148459e18bd5",
       "style": "IPY_MODEL_837fb62f99fe4926a20cdcd3540e30a6"
      }
     },
     "4a3bf574b869478f9b74549cacb4349f": {
      "model_module": "@jupyter-widgets/controls",
      "model_module_version": "1.5.0",
      "model_name": "DescriptionStyleModel",
      "state": {
       "description_width": ""
      }
     },
     "4a43e8bec307406f8cac52323322f785": {
      "model_module": "@jupyter-widgets/controls",
      "model_module_version": "1.5.0",
      "model_name": "CheckboxModel",
      "state": {
       "description": "value",
       "disabled": false,
       "layout": "IPY_MODEL_3de4a65368b14b3c987573c7590bfb08",
       "style": "IPY_MODEL_8b86761b133044928e8edf3c4d31f054",
       "value": true
      }
     },
     "4a8c05d308b94716bc496ac49e4ba349": {
      "model_module": "@jupyter-widgets/controls",
      "model_module_version": "1.5.0",
      "model_name": "ButtonStyleModel",
      "state": {}
     },
     "4ad6926acb1046f6b6ef540d3e4eef32": {
      "model_module": "@jupyter-widgets/controls",
      "model_module_version": "1.5.0",
      "model_name": "DropdownModel",
      "state": {
       "_options_labels": [
        "branchpath"
       ],
       "index": 0,
       "layout": "IPY_MODEL_3029195f26814ad2b0efbfc905ce94de",
       "style": "IPY_MODEL_3af39bd588454424acb59f3b852a0ecd"
      }
     },
     "4b150f298bb5432c8121abac353769b2": {
      "model_module": "@jupyter-widgets/controls",
      "model_module_version": "1.5.0",
      "model_name": "ColorPickerModel",
      "state": {
       "description": "specular",
       "disabled": false,
       "layout": "IPY_MODEL_6ae135aa4eff4c70a7e0f3904aa3bc52",
       "style": "IPY_MODEL_714e6464c926487083cd57c5c7e65e9b",
       "value": "#000000"
      }
     },
     "4b22a2c83d244ebe924c875f58fafb25": {
      "model_module": "@jupyter-widgets/controls",
      "model_module_version": "1.5.0",
      "model_name": "HBoxModel",
      "state": {
       "children": [
        "IPY_MODEL_527aa89fe30540d5a1d3677162a79cde",
        "IPY_MODEL_cc9d077f8166440e8f4fa1fef8dc9e35"
       ],
       "layout": "IPY_MODEL_1d5fd7c59a1240ccbd865e68d343d428"
      }
     },
     "4ba52da616124d2692bb6c5b26de7ec9": {
      "model_module": "@jupyter-widgets/controls",
      "model_module_version": "1.5.0",
      "model_name": "DescriptionStyleModel",
      "state": {
       "description_width": ""
      }
     },
     "4bbcab2985c84fc18e142357e1b6cd7b": {
      "model_module": "@jupyter-widgets/base",
      "model_module_version": "1.2.0",
      "model_name": "LayoutModel",
      "state": {}
     },
     "4c1cb49852154d49a22f9e9cf1339c56": {
      "model_module": "@jupyter-widgets/base",
      "model_module_version": "1.2.0",
      "model_name": "LayoutModel",
      "state": {}
     },
     "4c222c5ad54948bf8c33f9c8bec111a8": {
      "model_module": "@jupyter-widgets/base",
      "model_module_version": "1.2.0",
      "model_name": "LayoutModel",
      "state": {}
     },
     "4c9ab96645cb407e8c4567b05b9e9e93": {
      "model_module": "@jupyter-widgets/controls",
      "model_module_version": "1.5.0",
      "model_name": "DescriptionStyleModel",
      "state": {
       "description_width": ""
      }
     },
     "4ce109076798467da3085b11c7599df8": {
      "model_module": "@jupyter-widgets/controls",
      "model_module_version": "1.5.0",
      "model_name": "DescriptionStyleModel",
      "state": {
       "description_width": ""
      }
     },
     "4d06d6f9a0ee4bb1a3e8ee23e0d53789": {
      "model_module": "@jupyter-widgets/controls",
      "model_module_version": "1.5.0",
      "model_name": "ColorPickerModel",
      "state": {
       "description": "specular",
       "disabled": false,
       "layout": "IPY_MODEL_8203b8eb93804802a143aa0913a2ab58",
       "style": "IPY_MODEL_68287ac56bec4753a8e75d3dcf31b6df",
       "value": "#000000"
      }
     },
     "4d2f78cf90c74b76a890ed33b09d7b52": {
      "model_module": "@jupyter-widgets/base",
      "model_module_version": "1.2.0",
      "model_name": "LayoutModel",
      "state": {}
     },
     "4e8bd78afda74ccca5a3638a2d10b726": {
      "model_module": "pgljupyter",
      "model_module_version": "^0.1.21",
      "model_name": "_CurveEditorModel",
      "state": {
       "_model_module_version": "^0.1.21",
       "_view_module_version": "^0.1.21",
       "layout": "IPY_MODEL_0aab7b83f8b4406b8659360e1cd32639",
       "points": [
        [
         -0.558642,
         0.0459491
        ],
        [
         -0.272827,
         -0.068981
        ],
        [
         -0.0295213,
         -0.153395
        ],
        [
         0.147239,
         -0.0700503
        ],
        [
         0.412901,
         0.0201295
        ],
        [
         0.575777,
         0.232735
        ]
       ],
       "type": "NurbsCurve2D"
      }
     },
     "4ebb4942f3c5427fbe2b783edbbd467e": {
      "model_module": "@jupyter-widgets/base",
      "model_module_version": "1.2.0",
      "model_name": "LayoutModel",
      "state": {
       "margin": "20px 0px"
      }
     },
     "4ee19b1865d848eaaed9985c54d5464c": {
      "model_module": "@jupyter-widgets/controls",
      "model_module_version": "1.5.0",
      "model_name": "FloatSliderModel",
      "state": {
       "description": "transparency",
       "layout": "IPY_MODEL_48d7fc2246f94df4af242b6d871ab4aa",
       "max": 1,
       "step": 0.1,
       "style": "IPY_MODEL_b35426ce5ddb40e6859419ff012043dc"
      }
     },
     "4fc402cf41ce48aeb93f3a675630e10f": {
      "model_module": "@jupyter-widgets/controls",
      "model_module_version": "1.5.0",
      "model_name": "ButtonModel",
      "state": {
       "description": "Save changes",
       "layout": "IPY_MODEL_508e5c5de3974a3f96c8b1d8aa0a3c5b",
       "style": "IPY_MODEL_89de35ac1e704ec78a5a7651063722b3"
      }
     },
     "5008290bbf2b484796403cfbed404425": {
      "model_module": "@jupyter-widgets/base",
      "model_module_version": "1.2.0",
      "model_name": "LayoutModel",
      "state": {}
     },
     "50868ad0e6e74059a11e2970441e590b": {
      "model_module": "@jupyter-widgets/base",
      "model_module_version": "1.2.0",
      "model_name": "LayoutModel",
      "state": {}
     },
     "508e5c5de3974a3f96c8b1d8aa0a3c5b": {
      "model_module": "@jupyter-widgets/base",
      "model_module_version": "1.2.0",
      "model_name": "LayoutModel",
      "state": {}
     },
     "5190bb5f232342f3879003ca6c86206f": {
      "model_module": "@jupyter-widgets/controls",
      "model_module_version": "1.5.0",
      "model_name": "ButtonStyleModel",
      "state": {}
     },
     "51a83219bc37415ea753572793d99c2c": {
      "model_module": "@jupyter-widgets/base",
      "model_module_version": "1.2.0",
      "model_name": "LayoutModel",
      "state": {}
     },
     "526c15408b6441d688d3c6d25d2c3f42": {
      "model_module": "@jupyter-widgets/controls",
      "model_module_version": "1.5.0",
      "model_name": "HBoxModel",
      "state": {
       "children": [
        "IPY_MODEL_1ebdb99177d24c7e9fba576d92579371",
        "IPY_MODEL_2a8bad2d740c4a15a860ec093721f390"
       ],
       "layout": "IPY_MODEL_c37b5c79540442d5b8fd604613543e69"
      }
     },
     "527aa89fe30540d5a1d3677162a79cde": {
      "model_module": "@jupyter-widgets/controls",
      "model_module_version": "1.5.0",
      "model_name": "ButtonModel",
      "state": {
       "description": "Apply changes",
       "disabled": true,
       "layout": "IPY_MODEL_299a8637879a4f05b293fa7877e9b3d0",
       "style": "IPY_MODEL_2d2dd9c4d19e428c93fb5b778b7d4a9f"
      }
     },
     "52858131f8544a32b00db4aeecaf968d": {
      "model_module": "@jupyter-widgets/controls",
      "model_module_version": "1.5.0",
      "model_name": "ButtonStyleModel",
      "state": {}
     },
     "5287b3bd30964ab0a13a372dc800daa5": {
      "model_module": "@jupyter-widgets/controls",
      "model_module_version": "1.5.0",
      "model_name": "TextModel",
      "state": {
       "continuous_update": false,
       "description": "name",
       "layout": "IPY_MODEL_1f68c408daaa4bbb8123efb0020b6be0",
       "style": "IPY_MODEL_3cb36a7c85db4259ac4deb735115c55f",
       "value": "ELASTICITY"
      }
     },
     "52a6f58e9f5b4c01a28b3e2fc4e2f9e1": {
      "model_module": "@jupyter-widgets/controls",
      "model_module_version": "1.5.0",
      "model_name": "ButtonModel",
      "state": {
       "description": "Add category",
       "layout": "IPY_MODEL_6d2afc0c0e2c4838a5f5e2c402aeb280",
       "style": "IPY_MODEL_6ed330de13eb49788464ca5f1f3f528b"
      }
     },
     "52ebf48fb44d44428b22ebc9a902144f": {
      "model_module": "pgljupyter",
      "model_module_version": "^0.1.21",
      "model_name": "IntEditorModel",
      "state": {
       "_model_module_version": "^0.1.21",
       "_view_module_version": "^0.1.21",
       "children": [
        "IPY_MODEL_0768852fe0bd498dab66c57b4e099525",
        "IPY_MODEL_ce695f4d81194c87a8d6062efb3c95eb"
       ],
       "layout": "IPY_MODEL_ed98f2bd506d43a7b52f815a0a24ca07"
      }
     },
     "533884f806d846bf805bb3546aa23dac": {
      "model_module": "@jupyter-widgets/controls",
      "model_module_version": "1.5.0",
      "model_name": "DropdownModel",
      "state": {
       "_options_labels": [
        "Color_1"
       ],
       "index": 0,
       "layout": "IPY_MODEL_9326880b8de94f848499e5f469565a93",
       "style": "IPY_MODEL_8d9f310d7a1746789396ec956dd44e95"
      }
     },
     "54c31758527249b4863e511d578ea9ac": {
      "model_module": "@jupyter-widgets/controls",
      "model_module_version": "1.5.0",
      "model_name": "HBoxModel",
      "state": {
       "children": [
        "IPY_MODEL_b10f0883168943abb972fec0e853de6d",
        "IPY_MODEL_778e10ce519944ac9a8fc884706811fa"
       ],
       "layout": "IPY_MODEL_8a6d679d14574e098edea3d3e56cfcde"
      }
     },
     "555a79486f244ad7870f427dc190c653": {
      "model_module": "@jupyter-widgets/base",
      "model_module_version": "1.2.0",
      "model_name": "LayoutModel",
      "state": {}
     },
     "557262efc90949f28bf0be7610e2bf48": {
      "model_module": "@jupyter-widgets/base",
      "model_module_version": "1.2.0",
      "model_name": "LayoutModel",
      "state": {}
     },
     "557d958363744868a6e10af48e87244e": {
      "model_module": "@jupyter-widgets/base",
      "model_module_version": "1.2.0",
      "model_name": "LayoutModel",
      "state": {}
     },
     "55cb63cbd89d476291012449032018b0": {
      "model_module": "@jupyter-widgets/controls",
      "model_module_version": "1.5.0",
      "model_name": "DescriptionStyleModel",
      "state": {
       "description_width": ""
      }
     },
     "55fa95442a5042218c970ddd7ca55fc7": {
      "model_module": "@jupyter-widgets/controls",
      "model_module_version": "1.5.0",
      "model_name": "ButtonStyleModel",
      "state": {}
     },
     "56033be03709438f869c7f43440be206": {
      "model_module": "@jupyter-widgets/base",
      "model_module_version": "1.2.0",
      "model_name": "LayoutModel",
      "state": {}
     },
     "5610e7f034d94704ba2e8c04adbd7545": {
      "model_module": "@jupyter-widgets/base",
      "model_module_version": "1.2.0",
      "model_name": "LayoutModel",
      "state": {}
     },
     "5641f15b3d3e432bacdb61c0561320c7": {
      "model_module": "pgljupyter",
      "model_module_version": "^0.1.21",
      "model_name": "CurveEditorModel",
      "state": {
       "_model_module_version": "^0.1.21",
       "_view_module_version": "^0.1.21",
       "children": [
        "IPY_MODEL_f56d40fa5d204a4cbbaceeb20b23f8f8",
        "IPY_MODEL_f49c7fa4006446979a9dde1d8a5ea312"
       ],
       "layout": "IPY_MODEL_c1b9e9dcf0504fa1ac28f46dc859cb1c"
      }
     },
     "5759d3ed09b04c3ab71ada16fd1e7b39": {
      "model_module": "@jupyter-widgets/base",
      "model_module_version": "1.2.0",
      "model_name": "LayoutModel",
      "state": {}
     },
     "581b692011af43499fa854754d6b41f5": {
      "model_module": "@jupyter-widgets/controls",
      "model_module_version": "1.5.0",
      "model_name": "DescriptionStyleModel",
      "state": {
       "description_width": ""
      }
     },
     "58a0672965bb47528707289594a20db3": {
      "model_module": "@jupyter-widgets/base",
      "model_module_version": "1.2.0",
      "model_name": "LayoutModel",
      "state": {}
     },
     "596f5d6bac894f469ed914db51819a37": {
      "model_module": "@jupyter-widgets/controls",
      "model_module_version": "1.5.0",
      "model_name": "ButtonStyleModel",
      "state": {}
     },
     "599db444dedb4e96a8db65dfc7125c2f": {
      "model_module": "pgljupyter",
      "model_module_version": "^0.1.21",
      "model_name": "LsystemWidgetModel",
      "state": {
       "_model_module_version": "^0.1.21",
       "_view_module_version": "^0.1.21",
       "axes_helper": false,
       "derivationLength": 3,
       "layout": "IPY_MODEL_859d5001333d4d82bb4ceab75c05a7bd",
       "light_helper": false,
       "plane": true,
       "size_display": [
        800,
        400
       ],
       "size_world": 5,
       "unit": 1
      }
     },
     "59b71c8dbe644962864c512f9f9711ef": {
      "model_module": "@jupyter-widgets/controls",
      "model_module_version": "1.5.0",
      "model_name": "HBoxModel",
      "state": {
       "children": [
        "IPY_MODEL_641ca1e908964a90ba9a82d1cc89dc84"
       ],
       "layout": "IPY_MODEL_cd855b46f07544a79f8e302c75997469"
      }
     },
     "59c0d424b3584fd481527a443ef3ec4b": {
      "model_module": "@jupyter-widgets/controls",
      "model_module_version": "1.5.0",
      "model_name": "SliderStyleModel",
      "state": {
       "description_width": ""
      }
     },
     "59c6ec38748345729fed5ee7599eba39": {
      "model_module": "@jupyter-widgets/base",
      "model_module_version": "1.2.0",
      "model_name": "LayoutModel",
      "state": {}
     },
     "5a51e56c98e441fc969c890c2deb2573": {
      "model_module": "@jupyter-widgets/controls",
      "model_module_version": "1.5.0",
      "model_name": "ButtonModel",
      "state": {
       "description": "Add",
       "layout": "IPY_MODEL_6f2be616b4224ce3adddcc8ed4ec00ba",
       "style": "IPY_MODEL_89bb37e5593549db92dd6b06f5923677"
      }
     },
     "5a83c74b05d94f9391c8ec01f0fef898": {
      "model_module": "@jupyter-widgets/controls",
      "model_module_version": "1.5.0",
      "model_name": "ButtonStyleModel",
      "state": {}
     },
     "5a84613e9b654648944319bdee372972": {
      "model_module": "@jupyter-widgets/controls",
      "model_module_version": "1.5.0",
      "model_name": "FloatSliderModel",
      "state": {
       "description": "transparency",
       "layout": "IPY_MODEL_5d5962d5f7354381a8c20788f902ce82",
       "max": 1,
       "step": 0.1,
       "style": "IPY_MODEL_5bdb3845a3384a55bb611095640b510f"
      }
     },
     "5ac73571782a4d2f9baa1b54c2ffdaa6": {
      "model_module": "@jupyter-widgets/base",
      "model_module_version": "1.2.0",
      "model_name": "LayoutModel",
      "state": {}
     },
     "5b7cffe8a50242999aa1c812f17cf7f0": {
      "model_module": "@jupyter-widgets/base",
      "model_module_version": "1.2.0",
      "model_name": "LayoutModel",
      "state": {}
     },
     "5b8c345be34b4ddea4dc314f4ad0b1cf": {
      "model_module": "pgljupyter",
      "model_module_version": "^0.1.21",
      "model_name": "CurveEditorModel",
      "state": {
       "_model_module_version": "^0.1.21",
       "_view_module_version": "^0.1.21",
       "children": [
        "IPY_MODEL_7209fb8a72ff48399a8765a4940f902d",
        "IPY_MODEL_4e8bd78afda74ccca5a3638a2d10b726"
       ],
       "layout": "IPY_MODEL_d736b6172eff479fb633e33033979799"
      }
     },
     "5bdb3845a3384a55bb611095640b510f": {
      "model_module": "@jupyter-widgets/controls",
      "model_module_version": "1.5.0",
      "model_name": "SliderStyleModel",
      "state": {
       "description_width": ""
      }
     },
     "5bf043d6c8b64836920535f6de51fa96": {
      "model_module": "@jupyter-widgets/controls",
      "model_module_version": "1.5.0",
      "model_name": "HBoxModel",
      "state": {
       "children": [
        "IPY_MODEL_6a95a2c05b274dbeb47b567e1f111fcb"
       ],
       "layout": "IPY_MODEL_d4fb3e0c479747d09935c8859c9ffd34"
      }
     },
     "5c0e651e98e5433fbdf06f4fb54cb9c0": {
      "model_module": "@jupyter-widgets/controls",
      "model_module_version": "1.5.0",
      "model_name": "HBoxModel",
      "state": {
       "children": [
        "IPY_MODEL_87421a08ea99407b8cb2bbba0ecfdb77",
        "IPY_MODEL_dfedb1e3692a4fbdb08edd0b03dca3d8"
       ],
       "layout": "IPY_MODEL_9f259c57592f41f794921a07496e759f"
      }
     },
     "5c970cdd640a41c7aba6a68e516cd28d": {
      "model_module": "@jupyter-widgets/controls",
      "model_module_version": "1.5.0",
      "model_name": "TabModel",
      "state": {
       "layout": "IPY_MODEL_62d5348baac049c287a1164e7d4b0bd1"
      }
     },
     "5cc4fa1f5a384931a570d003f6351659": {
      "model_module": "@jupyter-widgets/controls",
      "model_module_version": "1.5.0",
      "model_name": "DescriptionStyleModel",
      "state": {
       "description_width": ""
      }
     },
     "5cc81cb9dcf04d429fb28688726b5a9a": {
      "model_module": "@jupyter-widgets/controls",
      "model_module_version": "1.5.0",
      "model_name": "DescriptionStyleModel",
      "state": {
       "description_width": ""
      }
     },
     "5cf0a6376a664ccab1f5abdfd9562bfb": {
      "model_module": "@jupyter-widgets/base",
      "model_module_version": "1.2.0",
      "model_name": "LayoutModel",
      "state": {}
     },
     "5d044c3508f147489d9378a9bc699de1": {
      "model_module": "@jupyter-widgets/base",
      "model_module_version": "1.2.0",
      "model_name": "LayoutModel",
      "state": {}
     },
     "5d5962d5f7354381a8c20788f902ce82": {
      "model_module": "@jupyter-widgets/base",
      "model_module_version": "1.2.0",
      "model_name": "LayoutModel",
      "state": {}
     },
     "5e059a471fc145cdb6908a5b349918ca": {
      "model_module": "@jupyter-widgets/controls",
      "model_module_version": "1.5.0",
      "model_name": "HBoxModel",
      "state": {
       "children": [
        "IPY_MODEL_49b738f41ffb418bb4ae10059bf0ba0d",
        "IPY_MODEL_92061b38e39049c8862240b2353b0f5f"
       ],
       "layout": "IPY_MODEL_a73eb531983d49598e9275b86fba98ad"
      }
     },
     "5e0ab00d9fb94a5bb7df1dc5f8ee6767": {
      "model_module": "@jupyter-widgets/base",
      "model_module_version": "1.2.0",
      "model_name": "LayoutModel",
      "state": {}
     },
     "5f48a6cf4c084f5c81b926d8a3e7e2c5": {
      "model_module": "@jupyter-widgets/controls",
      "model_module_version": "1.5.0",
      "model_name": "VBoxModel",
      "state": {
       "children": [
        "IPY_MODEL_b5c3f50bb9c5405a81889f591a5331f5",
        "IPY_MODEL_9daa5c619c074419891d66e3522daa52"
       ],
       "layout": "IPY_MODEL_916fcff3c10f406d93bbe7cc83442a41"
      }
     },
     "5fcc9ae746584eb2bed7ef3a5aa83953": {
      "model_module": "@jupyter-widgets/controls",
      "model_module_version": "1.5.0",
      "model_name": "HBoxModel",
      "state": {
       "children": [
        "IPY_MODEL_6773c6c70a174fa3a80578633942af80",
        "IPY_MODEL_e0da72c851a34eecb3675503bb3109c9"
       ],
       "layout": "IPY_MODEL_c01c7884c26a47c09fd0de1ac369c87b"
      }
     },
     "5fd022562c334e06bcaa359848bd5ec8": {
      "model_module": "@jupyter-widgets/controls",
      "model_module_version": "1.5.0",
      "model_name": "TextModel",
      "state": {
       "continuous_update": false,
       "description": "name",
       "layout": "IPY_MODEL_cee8f15541554dbda655e63e1e7f67c7",
       "style": "IPY_MODEL_3faae8ed30a44bdfab85d281c17d71ee",
       "value": "ELASTICITY"
      }
     },
     "5ff27686f3dd4453be936d540a08e963": {
      "model_module": "@jupyter-widgets/controls",
      "model_module_version": "1.5.0",
      "model_name": "HBoxModel",
      "state": {
       "children": [
        "IPY_MODEL_601c9d7febe941c1895b65ca29acff3e",
        "IPY_MODEL_4ad6926acb1046f6b6ef540d3e4eef32"
       ],
       "layout": "IPY_MODEL_a912f615c75f4205ad1a514e467db87b"
      }
     },
     "600e597220ff42b1b1b79f08e5b092c2": {
      "model_module": "@jupyter-widgets/base",
      "model_module_version": "1.2.0",
      "model_name": "LayoutModel",
      "state": {}
     },
     "601c9d7febe941c1895b65ca29acff3e": {
      "model_module": "@jupyter-widgets/controls",
      "model_module_version": "1.5.0",
      "model_name": "ButtonModel",
      "state": {
       "description": "Delete",
       "layout": "IPY_MODEL_a906e3d6e22c4db39a09ffed2d0dd098",
       "style": "IPY_MODEL_ce558f017ccf4ced947945ff5c2528bf"
      }
     },
     "60279521805f4782ac6b81ce6234d20c": {
      "model_module": "@jupyter-widgets/base",
      "model_module_version": "1.2.0",
      "model_name": "LayoutModel",
      "state": {}
     },
     "604a6c11cac6477eae68ac224bcc4069": {
      "model_module": "@jupyter-widgets/base",
      "model_module_version": "1.2.0",
      "model_name": "LayoutModel",
      "state": {}
     },
     "60c62d91c7fa40939ee213b76c5cb6d9": {
      "model_module": "@jupyter-widgets/base",
      "model_module_version": "1.2.0",
      "model_name": "LayoutModel",
      "state": {
       "margin": "20px 0px"
      }
     },
     "61b22e93437249b596e78e085bf49c4c": {
      "model_module": "@jupyter-widgets/base",
      "model_module_version": "1.2.0",
      "model_name": "LayoutModel",
      "state": {}
     },
     "61e20b82436c4f8ea360802707006125": {
      "model_module": "@jupyter-widgets/controls",
      "model_module_version": "1.5.0",
      "model_name": "ButtonModel",
      "state": {
       "description": "Save changes",
       "layout": "IPY_MODEL_65d9380abc0e4a2e85fed9ab5864a91a",
       "style": "IPY_MODEL_9c2e46e5af574179934168fd4391820c"
      }
     },
     "61f8918be21c4b0292d930bf03a5b2ee": {
      "model_module": "@jupyter-widgets/controls",
      "model_module_version": "1.5.0",
      "model_name": "ButtonStyleModel",
      "state": {}
     },
     "625327acd3ce4782a1ed0297112ce80a": {
      "model_module": "@jupyter-widgets/controls",
      "model_module_version": "1.5.0",
      "model_name": "ButtonStyleModel",
      "state": {}
     },
     "6285cb8288ee4b3da87c8e59730c7bcf": {
      "model_module": "@jupyter-widgets/controls",
      "model_module_version": "1.5.0",
      "model_name": "DropdownModel",
      "state": {
       "_options_labels": [
        "Color"
       ],
       "index": 0,
       "layout": "IPY_MODEL_26fd96620a0a4a1895741f8ba3de895e",
       "style": "IPY_MODEL_d3ca467db4d24b5fa0e6409bd522fe12"
      }
     },
     "62d5348baac049c287a1164e7d4b0bd1": {
      "model_module": "@jupyter-widgets/base",
      "model_module_version": "1.2.0",
      "model_name": "LayoutModel",
      "state": {}
     },
     "62f4d258b68e400e98b1c723dcf67c7c": {
      "model_module": "@jupyter-widgets/controls",
      "model_module_version": "1.5.0",
      "model_name": "CheckboxModel",
      "state": {
       "description": "Auto apply",
       "disabled": false,
       "layout": "IPY_MODEL_80c5212be87d48cc9b9a5a232a8943a5",
       "style": "IPY_MODEL_0220c46719574fa19b5b7b18664eb995",
       "value": true
      }
     },
     "63c6c4128bca451495956f2efad3dc89": {
      "model_module": "@jupyter-widgets/controls",
      "model_module_version": "1.5.0",
      "model_name": "DropdownModel",
      "state": {
       "_options_labels": [
        "Integer",
        "Float",
        "Bool"
       ],
       "index": 0,
       "layout": "IPY_MODEL_3802fcce03a54bf187dcef66915da334",
       "style": "IPY_MODEL_67011b84ad4f41c88e065299a3f28420"
      }
     },
     "63ec5da22af347f88fae056f2923f942": {
      "model_module": "@jupyter-widgets/base",
      "model_module_version": "1.2.0",
      "model_name": "LayoutModel",
      "state": {}
     },
     "64060b0b5cdd4a6185dd1d061f402b91": {
      "model_module": "@jupyter-widgets/controls",
      "model_module_version": "1.5.0",
      "model_name": "DescriptionStyleModel",
      "state": {
       "description_width": ""
      }
     },
     "641ca1e908964a90ba9a82d1cc89dc84": {
      "model_module": "@jupyter-widgets/controls",
      "model_module_version": "1.5.0",
      "model_name": "ButtonModel",
      "state": {
       "description": "Delete category",
       "layout": "IPY_MODEL_2593c42b5e0744e2861f2720f58e19d2",
       "style": "IPY_MODEL_bb984e601c75415980c6ecb445382a07"
      }
     },
     "64356f03a4c646469598675967e324c0": {
      "model_module": "@jupyter-widgets/controls",
      "model_module_version": "1.5.0",
      "model_name": "AccordionModel",
      "state": {
       "_titles": {
        "0": "materials",
        "1": "Panel"
       },
       "children": [
        "IPY_MODEL_0ae5ede2a02b41ad81e5c44ec0c6add1",
        "IPY_MODEL_36e1ce3b696a49069e203772e4c4cbef"
       ],
       "layout": "IPY_MODEL_a0c9f5608a594897b8f366ef4bb4e62c",
       "selected_index": 1
      }
     },
     "64500da032b44387b78c5f1477790e5c": {
      "model_module": "@jupyter-widgets/controls",
      "model_module_version": "1.5.0",
      "model_name": "FloatSliderModel",
      "state": {
       "description": "value",
       "layout": "IPY_MODEL_59c6ec38748345729fed5ee7599eba39",
       "max": 0.2,
       "step": 0.01,
       "style": "IPY_MODEL_df407f531cea4acca3b863c2c239cd2f"
      }
     },
     "646165eef81c47308d265a47deaa598a": {
      "model_module": "@jupyter-widgets/controls",
      "model_module_version": "1.5.0",
      "model_name": "DescriptionStyleModel",
      "state": {
       "description_width": ""
      }
     },
     "649b631c78eb4ba6894db9551783dbbc": {
      "model_module": "@jupyter-widgets/controls",
      "model_module_version": "1.5.0",
      "model_name": "HBoxModel",
      "state": {
       "children": [
        "IPY_MODEL_3927eb714f7740f1b884ca678543dc14",
        "IPY_MODEL_02c63b69f11c4a8c9333cd5ca278334e"
       ],
       "layout": "IPY_MODEL_cd855b46f07544a79f8e302c75997469"
      }
     },
     "65386155d4144622b1c9b89460a281c5": {
      "model_module": "@jupyter-widgets/controls",
      "model_module_version": "1.5.0",
      "model_name": "IntSliderModel",
      "state": {
       "description": "value",
       "layout": "IPY_MODEL_63ec5da22af347f88fae056f2923f942",
       "max": 5,
       "style": "IPY_MODEL_d91fbbbf231e4a3ca81879357821d963",
       "value": 5
      }
     },
     "65669b51fe234654a5a933bc863c82c1": {
      "model_module": "@jupyter-widgets/controls",
      "model_module_version": "1.5.0",
      "model_name": "CheckboxModel",
      "state": {
       "description": "value",
       "disabled": false,
       "layout": "IPY_MODEL_432c736e665e4488ad02e7de92226776",
       "style": "IPY_MODEL_1327ce44cb9148fcb95248d052f99087",
       "value": false
      }
     },
     "65b0e4ae13114476ae064eb030dfdc25": {
      "model_module": "@jupyter-widgets/base",
      "model_module_version": "1.2.0",
      "model_name": "LayoutModel",
      "state": {}
     },
     "65d9380abc0e4a2e85fed9ab5864a91a": {
      "model_module": "@jupyter-widgets/base",
      "model_module_version": "1.2.0",
      "model_name": "LayoutModel",
      "state": {}
     },
     "6624bf16258e4779a6584c35e10dd33e": {
      "model_module": "@jupyter-widgets/controls",
      "model_module_version": "1.5.0",
      "model_name": "AccordionModel",
      "state": {
       "_titles": {
        "0": "materials",
        "1": "Panel"
       },
       "children": [
        "IPY_MODEL_fb31e8e62ef3461a9b2c53be9fc7113f",
        "IPY_MODEL_ee935a35cbc04b7193ac5ab7e15a7573"
       ],
       "layout": "IPY_MODEL_5cf0a6376a664ccab1f5abdfd9562bfb",
       "selected_index": 1
      }
     },
     "66251d1410ce4606b6736f1813bd6e3f": {
      "model_module": "@jupyter-widgets/controls",
      "model_module_version": "1.5.0",
      "model_name": "TextModel",
      "state": {
       "continuous_update": false,
       "description": "name",
       "layout": "IPY_MODEL_6f91f33f08e24c98957f102be9b7e639",
       "style": "IPY_MODEL_9e192d34705c4446a571b8d671deb43b",
       "value": "Color_1"
      }
     },
     "67011b84ad4f41c88e065299a3f28420": {
      "model_module": "@jupyter-widgets/controls",
      "model_module_version": "1.5.0",
      "model_name": "DescriptionStyleModel",
      "state": {
       "description_width": ""
      }
     },
     "6736ceb0283d4f268c6753edf1cf4ee4": {
      "model_module": "@jupyter-widgets/controls",
      "model_module_version": "1.5.0",
      "model_name": "DropdownModel",
      "state": {
       "_options_labels": [
        "Color"
       ],
       "index": 0,
       "layout": "IPY_MODEL_600e597220ff42b1b1b79f08e5b092c2",
       "style": "IPY_MODEL_0d5181b23b42463f943baa2203a119ae"
      }
     },
     "6773c6c70a174fa3a80578633942af80": {
      "model_module": "@jupyter-widgets/controls",
      "model_module_version": "1.5.0",
      "model_name": "ButtonModel",
      "state": {
       "description": "Add",
       "layout": "IPY_MODEL_1764b06dd98c48688e59e51be9e19ef8",
       "style": "IPY_MODEL_3151aa0aa4524fbe897a7b24597d8022"
      }
     },
     "67fe74029d85433c86d217f8ed4dcaa1": {
      "model_module": "pgljupyter",
      "model_module_version": "^0.1.21",
      "model_name": "FloatEditorModel",
      "state": {
       "_model_module_version": "^0.1.21",
       "_view_module_version": "^0.1.21",
       "children": [
        "IPY_MODEL_5287b3bd30964ab0a13a372dc800daa5",
        "IPY_MODEL_64500da032b44387b78c5f1477790e5c"
       ],
       "layout": "IPY_MODEL_8d89890e9f3645e5a49908622be9ff3f"
      }
     },
     "68287ac56bec4753a8e75d3dcf31b6df": {
      "model_module": "@jupyter-widgets/controls",
      "model_module_version": "1.5.0",
      "model_name": "DescriptionStyleModel",
      "state": {
       "description_width": ""
      }
     },
     "6859fda27a3d4359bb6a97b4a517fcf9": {
      "model_module": "@jupyter-widgets/base",
      "model_module_version": "1.2.0",
      "model_name": "LayoutModel",
      "state": {}
     },
     "68d8f5ce7a4c4b3da683a915769ef9b0": {
      "model_module": "@jupyter-widgets/base",
      "model_module_version": "1.2.0",
      "model_name": "LayoutModel",
      "state": {
       "margin": "20px 0px"
      }
     },
     "6913a92a0915460fb09a2e66cb6d87f2": {
      "model_module": "@jupyter-widgets/controls",
      "model_module_version": "1.5.0",
      "model_name": "VBoxModel",
      "state": {
       "children": [
        "IPY_MODEL_3b3fb54a1e65489285bf28ad40cb226c",
        "IPY_MODEL_9913ddf473e64c778f19e5f94b392ec9"
       ],
       "layout": "IPY_MODEL_0ef1afe6d21b4f01bd83f8430473e964"
      }
     },
     "6a36cabb9ce54714903927143b3854b5": {
      "model_module": "@jupyter-widgets/controls",
      "model_module_version": "1.5.0",
      "model_name": "ButtonModel",
      "state": {
       "description": "Delete",
       "layout": "IPY_MODEL_e8162dd3ee444c63b8294a0c9b3596cb",
       "style": "IPY_MODEL_2407479ca8f24a96873a39c7ba003e35"
      }
     },
     "6a5a45fc59dc4939a40a2dc6242a11dd": {
      "model_module": "@jupyter-widgets/controls",
      "model_module_version": "1.5.0",
      "model_name": "DescriptionStyleModel",
      "state": {
       "description_width": ""
      }
     },
     "6a6aab4c4acc49c68829fa07cdb8d804": {
      "model_module": "@jupyter-widgets/base",
      "model_module_version": "1.2.0",
      "model_name": "LayoutModel",
      "state": {}
     },
     "6a95a2c05b274dbeb47b567e1f111fcb": {
      "model_module": "pgljupyter",
      "model_module_version": "^0.1.21",
      "model_name": "CurveEditorModel",
      "state": {
       "_model_module_version": "^0.1.21",
       "_view_module_version": "^0.1.21",
       "children": [
        "IPY_MODEL_fe8ad7541101456baaf31cf5c7fba669",
        "IPY_MODEL_bc7eff0425204e3f9d315b86602a2de8"
       ],
       "layout": "IPY_MODEL_09727557e78a451b9889164b81f72f08"
      }
     },
     "6ae135aa4eff4c70a7e0f3904aa3bc52": {
      "model_module": "@jupyter-widgets/base",
      "model_module_version": "1.2.0",
      "model_name": "LayoutModel",
      "state": {}
     },
     "6b3ec1dc44de4c1496375a3216154b88": {
      "model_module": "@jupyter-widgets/base",
      "model_module_version": "1.2.0",
      "model_name": "LayoutModel",
      "state": {
       "flex_flow": "row wrap",
       "margin": "20px"
      }
     },
     "6b78088345b84683ae55ede636283388": {
      "model_module": "@jupyter-widgets/controls",
      "model_module_version": "1.5.0",
      "model_name": "TextModel",
      "state": {
       "continuous_update": false,
       "description": "name",
       "layout": "IPY_MODEL_374e477ab845411dafbc5f9321824b49",
       "style": "IPY_MODEL_898c8d6b133a401fa94e309430cf8a1c",
       "value": "MAX_ORDER"
      }
     },
     "6b7a5787d21e4ca588cd9cd0a76f1fcc": {
      "model_module": "@jupyter-widgets/controls",
      "model_module_version": "1.5.0",
      "model_name": "ColorPickerModel",
      "state": {
       "description": "specular",
       "disabled": false,
       "layout": "IPY_MODEL_fcddbdadbd4a47748f0ed5336b1e76d5",
       "style": "IPY_MODEL_239db7652d584d07a8308cda86098fcd",
       "value": "#000000"
      }
     },
     "6c65151246ea4c7c8b9677c33dcb0d21": {
      "model_module": "pgljupyter",
      "model_module_version": "^0.1.21",
      "model_name": "ParameterEditorModel",
      "state": {
       "_model_module_version": "^0.1.21",
       "_view_module_version": "^0.1.21",
       "children": [
        "IPY_MODEL_95b023ce69a34ce39dfe816616fd77ef"
       ],
       "layout": "IPY_MODEL_10bc8fee2c89479ea3d30ac04d498633"
      }
     },
     "6d2afc0c0e2c4838a5f5e2c402aeb280": {
      "model_module": "@jupyter-widgets/base",
      "model_module_version": "1.2.0",
      "model_name": "LayoutModel",
      "state": {}
     },
     "6e36f3d7ad044e3ca2e0c6de9f3fb4c3": {
      "model_module": "@jupyter-widgets/controls",
      "model_module_version": "1.5.0",
      "model_name": "HBoxModel",
      "state": {
       "children": [
        "IPY_MODEL_a9fa3fff22ba4699ba9e8a0d3d3aca6c",
        "IPY_MODEL_1e9c729d8c7b4d96bf2de104d4b64786"
       ],
       "layout": "IPY_MODEL_6b3ec1dc44de4c1496375a3216154b88"
      }
     },
     "6e4d3d9121014f26891798d4daac77d5": {
      "model_module": "@jupyter-widgets/controls",
      "model_module_version": "1.5.0",
      "model_name": "HBoxModel",
      "state": {
       "children": [
        "IPY_MODEL_c1dd522d358445db856e41d701e13b22",
        "IPY_MODEL_5c0e651e98e5433fbdf06f4fb54cb9c0"
       ],
       "layout": "IPY_MODEL_7352b73a1331479aa0d21a0e4132ff31"
      }
     },
     "6e9ea0c00b12494990b200b2ea69c88e": {
      "model_module": "@jupyter-widgets/controls",
      "model_module_version": "1.5.0",
      "model_name": "DescriptionStyleModel",
      "state": {
       "description_width": ""
      }
     },
     "6ed330de13eb49788464ca5f1f3f528b": {
      "model_module": "@jupyter-widgets/controls",
      "model_module_version": "1.5.0",
      "model_name": "ButtonStyleModel",
      "state": {}
     },
     "6eedd4f396924147b4ea127b9cae1b26": {
      "model_module": "@jupyter-widgets/controls",
      "model_module_version": "1.5.0",
      "model_name": "DropdownModel",
      "state": {
       "_options_labels": [
        "Color"
       ],
       "index": 0,
       "layout": "IPY_MODEL_9c887482a76441e098d2b1530f062c43",
       "style": "IPY_MODEL_cc189ee9107b4a9082f88d8031c06636"
      }
     },
     "6f2be616b4224ce3adddcc8ed4ec00ba": {
      "model_module": "@jupyter-widgets/base",
      "model_module_version": "1.2.0",
      "model_name": "LayoutModel",
      "state": {}
     },
     "6f91f33f08e24c98957f102be9b7e639": {
      "model_module": "@jupyter-widgets/base",
      "model_module_version": "1.2.0",
      "model_name": "LayoutModel",
      "state": {}
     },
     "6fa29d3f275146c8a37ba593be74a470": {
      "model_module": "@jupyter-widgets/base",
      "model_module_version": "1.2.0",
      "model_name": "LayoutModel",
      "state": {}
     },
     "6fb2d0c634824454b2c9ceb7b83f0f0b": {
      "model_module": "@jupyter-widgets/controls",
      "model_module_version": "1.5.0",
      "model_name": "HBoxModel",
      "state": {
       "children": [
        "IPY_MODEL_52ebf48fb44d44428b22ebc9a902144f",
        "IPY_MODEL_7f447ad6938743a2a99c629bb7f3b5df",
        "IPY_MODEL_299f9902de0f444f82a4e0304949f08e"
       ],
       "layout": "IPY_MODEL_d4fb3e0c479747d09935c8859c9ffd34"
      }
     },
     "6fb3b71855344ce189e5562728e53a62": {
      "model_module": "@jupyter-widgets/base",
      "model_module_version": "1.2.0",
      "model_name": "LayoutModel",
      "state": {
       "margin": "20px 0px"
      }
     },
     "6ff5f19ea5474244a3f6c1c41f14e1a9": {
      "model_module": "@jupyter-widgets/controls",
      "model_module_version": "1.5.0",
      "model_name": "DescriptionStyleModel",
      "state": {
       "description_width": ""
      }
     },
     "708b42c80adf447d9f7d0e3efd99eef4": {
      "model_module": "@jupyter-widgets/base",
      "model_module_version": "1.2.0",
      "model_name": "LayoutModel",
      "state": {}
     },
     "70a9c5fe0f9c48ed99fbb53e44d0958f": {
      "model_module": "@jupyter-widgets/base",
      "model_module_version": "1.2.0",
      "model_name": "LayoutModel",
      "state": {
       "margin": "20px 0px"
      }
     },
     "70f1d89591e74eb4a7639de2fd55b30f": {
      "buffers": [
       {
        "data": "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",
        "encoding": "base64",
        "path": [
         "scene",
         "data"
        ]
       }
      ],
      "model_module": "pgljupyter",
      "model_module_version": "^0.1.21",
      "model_name": "LsystemWidgetModel",
      "state": {
       "_model_module_version": "^0.1.21",
       "_view_module_version": "^0.1.21",
       "axes_helper": false,
       "derivationLength": 3,
       "layout": "IPY_MODEL_2e0df8a79f0b4aeebae3dbfa40661266",
       "light_helper": false,
       "plane": true,
       "scene": {
        "derivationStep": 2,
        "id": 2,
        "scene": "<openalea.plantgl.scenegraph._pglsg.Scene object at 0x124d11030>"
       },
       "size_display": [
        800,
        400
       ],
       "size_world": 5,
       "unit": 1
      }
     },
     "714e6464c926487083cd57c5c7e65e9b": {
      "model_module": "@jupyter-widgets/controls",
      "model_module_version": "1.5.0",
      "model_name": "DescriptionStyleModel",
      "state": {
       "description_width": ""
      }
     },
     "71fc2c4cf13b43b3a6a53b696d83512c": {
      "model_module": "@jupyter-widgets/base",
      "model_module_version": "1.2.0",
      "model_name": "LayoutModel",
      "state": {}
     },
     "71fe099fc4624eb2b4e5db2c0c52da4d": {
      "model_module": "@jupyter-widgets/controls",
      "model_module_version": "1.5.0",
      "model_name": "HBoxModel",
      "state": {
       "children": [
        "IPY_MODEL_3f19cd10b73e4759a52f560ace0b36bc",
        "IPY_MODEL_526c15408b6441d688d3c6d25d2c3f42",
        "IPY_MODEL_48642a1f8fe44f7b9d0987984d0f8042"
       ],
       "layout": "IPY_MODEL_ece7659d772f4aa2bc4a356f083bc30f"
      }
     },
     "7209fb8a72ff48399a8765a4940f902d": {
      "model_module": "@jupyter-widgets/controls",
      "model_module_version": "1.5.0",
      "model_name": "TextModel",
      "state": {
       "continuous_update": false,
       "description": "name",
       "layout": "IPY_MODEL_29565feead064fca9abc27f8139c22cd",
       "style": "IPY_MODEL_b3d171a5fd0b41d0ac68aa2f8a77fe61",
       "value": "branchpath"
      }
     },
     "721d24045ab34fc99e3dc073f186a213": {
      "model_module": "@jupyter-widgets/base",
      "model_module_version": "1.2.0",
      "model_name": "LayoutModel",
      "state": {}
     },
     "72bd72291e46467da1bbeb795a0cf16a": {
      "model_module": "@jupyter-widgets/controls",
      "model_module_version": "1.5.0",
      "model_name": "HBoxModel",
      "state": {
       "children": [
        "IPY_MODEL_e9f5133ae9df46bfa614602535ab3410",
        "IPY_MODEL_4299ca2a65864867a686213298c21a0e",
        "IPY_MODEL_67fe74029d85433c86d217f8ed4dcaa1"
       ],
       "layout": "IPY_MODEL_0355fb672e0f43978ade5edf8a22201a"
      }
     },
     "72c10c02bfec4cf587be41d9917a7df8": {
      "model_module": "@jupyter-widgets/controls",
      "model_module_version": "1.5.0",
      "model_name": "FloatSliderModel",
      "state": {
       "description": "value",
       "layout": "IPY_MODEL_4c222c5ad54948bf8c33f9c8bec111a8",
       "max": 3,
       "step": 0.001,
       "style": "IPY_MODEL_1869f24debaf42bdb5d0798ef4e3e0ee",
       "value": 0.542
      }
     },
     "72ebc0e94e3c45f1ad8e175f1b2c3ad5": {
      "model_module": "@jupyter-widgets/controls",
      "model_module_version": "1.5.0",
      "model_name": "TextModel",
      "state": {
       "continuous_update": false,
       "description": "name",
       "layout": "IPY_MODEL_460f039733f740039650e97352f8933a",
       "style": "IPY_MODEL_3ad2ce28164643ecb5a518ee9d9e5a59",
       "value": "ELASTICITY"
      }
     },
     "732d31fe92ce41a5a681285173504e43": {
      "model_module": "@jupyter-widgets/base",
      "model_module_version": "1.2.0",
      "model_name": "LayoutModel",
      "state": {
       "margin": "20px 0px"
      }
     },
     "7330725b6201410fbd25399d9a1cfcb9": {
      "model_module": "@jupyter-widgets/controls",
      "model_module_version": "1.5.0",
      "model_name": "DescriptionStyleModel",
      "state": {
       "description_width": ""
      }
     },
     "7352b73a1331479aa0d21a0e4132ff31": {
      "model_module": "@jupyter-widgets/base",
      "model_module_version": "1.2.0",
      "model_name": "LayoutModel",
      "state": {
       "flex_flow": "row wrap",
       "margin": "20px"
      }
     },
     "738b43d1cc924ca2be8cae0c751d40c5": {
      "model_module": "@jupyter-widgets/controls",
      "model_module_version": "1.5.0",
      "model_name": "HBoxModel",
      "state": {
       "children": [
        "IPY_MODEL_5e059a471fc145cdb6908a5b349918ca",
        "IPY_MODEL_96ac287e9e1a4ed48a2991c337094ca4",
        "IPY_MODEL_00be3ce67fd840dabfb1b833aa889d17"
       ],
       "layout": "IPY_MODEL_39274295af864537b963231e00a39b74"
      }
     },
     "743a85866d7d46409f4061503cc3328d": {
      "model_module": "@jupyter-widgets/controls",
      "model_module_version": "1.5.0",
      "model_name": "DescriptionStyleModel",
      "state": {
       "description_width": ""
      }
     },
     "7467d424b97c4a4d8ea0f6509d3ae5c8": {
      "model_module": "@jupyter-widgets/base",
      "model_module_version": "1.2.0",
      "model_name": "LayoutModel",
      "state": {}
     },
     "74dcd29bc5db4b25b9a042b22b59beda": {
      "model_module": "@jupyter-widgets/controls",
      "model_module_version": "1.5.0",
      "model_name": "ButtonStyleModel",
      "state": {}
     },
     "74fcb1bcb3894abeba03234ca96e95ca": {
      "model_module": "@jupyter-widgets/controls",
      "model_module_version": "1.5.0",
      "model_name": "HBoxModel",
      "state": {
       "children": [
        "IPY_MODEL_da603aeeb56b4cdc95dbe3c3f5280472",
        "IPY_MODEL_2656add411cd4d078f0df50f0c74a521"
       ],
       "layout": "IPY_MODEL_272e1b596d1b4d4996277e83c96605f3"
      }
     },
     "75907f66eb65479c94bfec179569fa1b": {
      "model_module": "@jupyter-widgets/controls",
      "model_module_version": "1.5.0",
      "model_name": "HBoxModel",
      "state": {
       "children": [
        "IPY_MODEL_0accab78d30b483d9ad1f546680877f5"
       ],
       "layout": "IPY_MODEL_6b3ec1dc44de4c1496375a3216154b88"
      }
     },
     "766ef239300a4b7388e312b044326da4": {
      "model_module": "@jupyter-widgets/controls",
      "model_module_version": "1.5.0",
      "model_name": "TextModel",
      "state": {
       "continuous_update": false,
       "description": "name",
       "layout": "IPY_MODEL_d560540ee4fd45659cef30ba2e9cdb0d",
       "style": "IPY_MODEL_0809eafba6624339bcc692ffdc7e90b6",
       "value": "branchpath"
      }
     },
     "76b6714393624f0f95e85e0981e15f14": {
      "model_module": "@jupyter-widgets/base",
      "model_module_version": "1.2.0",
      "model_name": "LayoutModel",
      "state": {}
     },
     "76f21264c8ae4d49801026d6eedc0492": {
      "model_module": "@jupyter-widgets/controls",
      "model_module_version": "1.5.0",
      "model_name": "DescriptionStyleModel",
      "state": {
       "description_width": ""
      }
     },
     "777ab830d8ee4568bdee3f2dee5cd51c": {
      "model_module": "@jupyter-widgets/base",
      "model_module_version": "1.2.0",
      "model_name": "LayoutModel",
      "state": {}
     },
     "7780a741df9c495085cbb38f3e27e6f8": {
      "model_module": "@jupyter-widgets/base",
      "model_module_version": "1.2.0",
      "model_name": "LayoutModel",
      "state": {}
     },
     "778e10ce519944ac9a8fc884706811fa": {
      "model_module": "@jupyter-widgets/controls",
      "model_module_version": "1.5.0",
      "model_name": "DropdownModel",
      "state": {
       "_options_labels": [
        "Integer",
        "Float",
        "Bool"
       ],
       "index": 0,
       "layout": "IPY_MODEL_a9923c3c7e0a4cb6a3317e8399092186",
       "style": "IPY_MODEL_6ff5f19ea5474244a3f6c1c41f14e1a9"
      }
     },
     "788c37d043d0493abd43615091e4d17d": {
      "model_module": "@jupyter-widgets/controls",
      "model_module_version": "1.5.0",
      "model_name": "HBoxModel",
      "state": {
       "children": [
        "IPY_MODEL_b7b433e62aca439aaf1491741ac2948a",
        "IPY_MODEL_79c0a2f52c8d473ba7f818cf1626d643"
       ],
       "layout": "IPY_MODEL_6a6aab4c4acc49c68829fa07cdb8d804"
      }
     },
     "78c6f069f8f94e139ade84f5de17ceaa": {
      "model_module": "@jupyter-widgets/base",
      "model_module_version": "1.2.0",
      "model_name": "LayoutModel",
      "state": {}
     },
     "796fa0b4534b48b383fe5d0bf952f713": {
      "model_module": "@jupyter-widgets/controls",
      "model_module_version": "1.5.0",
      "model_name": "CheckboxModel",
      "state": {
       "description": "value",
       "disabled": false,
       "layout": "IPY_MODEL_ba4282ac80a8465c8ffeaa4119f0b791",
       "style": "IPY_MODEL_d05162a9a20c47bb8904fc5f3ee151e2",
       "value": false
      }
     },
     "79c0a2f52c8d473ba7f818cf1626d643": {
      "model_module": "@jupyter-widgets/controls",
      "model_module_version": "1.5.0",
      "model_name": "DropdownModel",
      "state": {
       "_options_labels": [
        "Integer",
        "Float",
        "Bool"
       ],
       "index": 0,
       "layout": "IPY_MODEL_d879bb541e74463e8d75b195a2d4d6be",
       "style": "IPY_MODEL_c80d3e32416b4cd2bec222a77a129f35"
      }
     },
     "79e7fa360fb042b0959c4a06f36f2206": {
      "model_module": "@jupyter-widgets/controls",
      "model_module_version": "1.5.0",
      "model_name": "DescriptionStyleModel",
      "state": {
       "description_width": ""
      }
     },
     "7a270c4639f6489794799c7633fd7463": {
      "model_module": "pgljupyter",
      "model_module_version": "^0.1.21",
      "model_name": "CurveEditorModel",
      "state": {
       "_model_module_version": "^0.1.21",
       "_view_module_version": "^0.1.21",
       "children": [
        "IPY_MODEL_766ef239300a4b7388e312b044326da4",
        "IPY_MODEL_9238db65c71b4943ba5e2d089728f3c0"
       ],
       "layout": "IPY_MODEL_32f77af6e5ec4a0aa2c5e262768adfa6"
      }
     },
     "7a7d0460c9e84f238a2ddc2b8722925c": {
      "model_module": "@jupyter-widgets/base",
      "model_module_version": "1.2.0",
      "model_name": "LayoutModel",
      "state": {}
     },
     "7b13311cc06e4143a95957725bd7a2f0": {
      "model_module": "@jupyter-widgets/controls",
      "model_module_version": "1.5.0",
      "model_name": "VBoxModel",
      "state": {
       "children": [
        "IPY_MODEL_75907f66eb65479c94bfec179569fa1b",
        "IPY_MODEL_7b5a1c765f5c48d99444e53dfee6e833",
        "IPY_MODEL_ad3e7264d3da4b5a9ec852e2cab1ba14",
        "IPY_MODEL_b48e9588393d4aca845b50bcb21f45c1",
        "IPY_MODEL_f6d1c7cee4b2435cb703217f0a42e5e8"
       ],
       "layout": "IPY_MODEL_be56426ccb6344ff8e0b6fb4af710f7c"
      }
     },
     "7b5a1c765f5c48d99444e53dfee6e833": {
      "model_module": "@jupyter-widgets/controls",
      "model_module_version": "1.5.0",
      "model_name": "HBoxModel",
      "state": {
       "children": [
        "IPY_MODEL_1f4b3a07c1b1477e8d17fd3a5f301655",
        "IPY_MODEL_26766080486f4b94953f392da9edb304"
       ],
       "layout": "IPY_MODEL_6b3ec1dc44de4c1496375a3216154b88"
      }
     },
     "7bd26565e1424c5d8f7b26642cdee1cc": {
      "model_module": "@jupyter-widgets/controls",
      "model_module_version": "1.5.0",
      "model_name": "DropdownModel",
      "state": {
       "_options_labels": [
        "NurbsCurve2D",
        "BezierCurve2D",
        "Polyline2D",
        "Function"
       ],
       "index": 0,
       "layout": "IPY_MODEL_eea3d00e77a4496db65811da97ca42de",
       "style": "IPY_MODEL_646165eef81c47308d265a47deaa598a"
      }
     },
     "7beebd60e66744b39e965c204dfabf95": {
      "model_module": "@jupyter-widgets/controls",
      "model_module_version": "1.5.0",
      "model_name": "ButtonModel",
      "state": {
       "description": "Delete",
       "layout": "IPY_MODEL_98b1fa4bda854f0e9c49159fd46347fe",
       "style": "IPY_MODEL_fc14f2c74e30461ea6f8bbe7f17e92c5"
      }
     },
     "7c22ab900eae465e8313a664fd2a3de3": {
      "model_module": "@jupyter-widgets/base",
      "model_module_version": "1.2.0",
      "model_name": "LayoutModel",
      "state": {}
     },
     "7c27e8970ccd41228e64b6c29455f1b3": {
      "model_module": "@jupyter-widgets/base",
      "model_module_version": "1.2.0",
      "model_name": "LayoutModel",
      "state": {}
     },
     "7c54b8e97a5b4233a817a5aa30eb0669": {
      "model_module": "@jupyter-widgets/controls",
      "model_module_version": "1.5.0",
      "model_name": "HBoxModel",
      "state": {
       "children": [
        "IPY_MODEL_0888bcc6b3c64f50b141cf6cf2835820",
        "IPY_MODEL_7da68e33078445dd92d7d383d0df33bc"
       ],
       "layout": "IPY_MODEL_9fdd4f988e00442ba8148b561213a6b6"
      }
     },
     "7c6d8260a9d24d84b9c92cb11ee9fdbe": {
      "model_module": "@jupyter-widgets/base",
      "model_module_version": "1.2.0",
      "model_name": "LayoutModel",
      "state": {}
     },
     "7d23ce5e2d0146faac859cd504ea79b4": {
      "model_module": "@jupyter-widgets/base",
      "model_module_version": "1.2.0",
      "model_name": "LayoutModel",
      "state": {}
     },
     "7d7906f24ec447fcb47d4219159b45cd": {
      "model_module": "@jupyter-widgets/base",
      "model_module_version": "1.2.0",
      "model_name": "LayoutModel",
      "state": {}
     },
     "7da2c86ada27401e870a49d69ab46365": {
      "model_module": "@jupyter-widgets/base",
      "model_module_version": "1.2.0",
      "model_name": "LayoutModel",
      "state": {}
     },
     "7da68e33078445dd92d7d383d0df33bc": {
      "model_module": "@jupyter-widgets/controls",
      "model_module_version": "1.5.0",
      "model_name": "HBoxModel",
      "state": {
       "children": [
        "IPY_MODEL_6a36cabb9ce54714903927143b3854b5",
        "IPY_MODEL_e4c69a9b06ae413db8e5f75f786a46d0"
       ],
       "layout": "IPY_MODEL_aadf179320b54036ab3a39e9a15fb131"
      }
     },
     "7dc38291917c4b18b7e10149564bd96c": {
      "model_module": "@jupyter-widgets/base",
      "model_module_version": "1.2.0",
      "model_name": "LayoutModel",
      "state": {}
     },
     "7e39b450a0734155824927d010ade783": {
      "model_module": "@jupyter-widgets/base",
      "model_module_version": "1.2.0",
      "model_name": "LayoutModel",
      "state": {}
     },
     "7e7cda4b492541eabeb7059fa2d48cdf": {
      "model_module": "@jupyter-widgets/controls",
      "model_module_version": "1.5.0",
      "model_name": "ButtonModel",
      "state": {
       "description": "Delete",
       "layout": "IPY_MODEL_555a79486f244ad7870f427dc190c653",
       "style": "IPY_MODEL_d120fb79eae74ec8b8a4c8afedcebf3d"
      }
     },
     "7e819f5c438c4de984d6189b2c3063d9": {
      "model_module": "@jupyter-widgets/controls",
      "model_module_version": "1.5.0",
      "model_name": "FloatSliderModel",
      "state": {
       "description": "value",
       "layout": "IPY_MODEL_4175e88ead2448a9871a109b6de8157d",
       "max": 0.4,
       "step": 0.01,
       "style": "IPY_MODEL_084e5daa9a714b2da9e8cb6e87383dc7",
       "value": 0.23
      }
     },
     "7e8afc93fa204db7a910d03d229f8571": {
      "model_module": "@jupyter-widgets/controls",
      "model_module_version": "1.5.0",
      "model_name": "HBoxModel",
      "state": {
       "children": [
        "IPY_MODEL_01187b3bfdb4421c946540e2f50f3d60",
        "IPY_MODEL_378ee8737a32412cab7daf0256a4d41a"
       ],
       "layout": "IPY_MODEL_d923f9eea9964df4bad06ef39e2863f0"
      }
     },
     "7eaabc345910434880aa68227321c8be": {
      "model_module": "@jupyter-widgets/controls",
      "model_module_version": "1.5.0",
      "model_name": "IntSliderModel",
      "state": {
       "description": "value",
       "layout": "IPY_MODEL_20455b66b87e44388560158b2b244a46",
       "max": 5,
       "style": "IPY_MODEL_08b9789a83b04e8daa892237627aae60",
       "value": 5
      }
     },
     "7ebec2a24a7f40bc87c64d0d3a9b0b4a": {
      "model_module": "@jupyter-widgets/base",
      "model_module_version": "1.2.0",
      "model_name": "LayoutModel",
      "state": {}
     },
     "7f104aa8cf99439c848aff3c26b18958": {
      "model_module": "@jupyter-widgets/controls",
      "model_module_version": "1.5.0",
      "model_name": "ButtonStyleModel",
      "state": {}
     },
     "7f3e165dea7e4e599f8e5c0725b05add": {
      "model_module": "@jupyter-widgets/base",
      "model_module_version": "1.2.0",
      "model_name": "LayoutModel",
      "state": {}
     },
     "7f447ad6938743a2a99c629bb7f3b5df": {
      "model_module": "pgljupyter",
      "model_module_version": "^0.1.21",
      "model_name": "BoolEditorModel",
      "state": {
       "_model_module_version": "^0.1.21",
       "_view_module_version": "^0.1.21",
       "children": [
        "IPY_MODEL_3adbb6b6d34b41c28905d635d63461eb",
        "IPY_MODEL_796fa0b4534b48b383fe5d0bf952f713"
       ],
       "layout": "IPY_MODEL_cb6cebcdf562402ca9d3372b38365f6c"
      }
     },
     "7f4f5d860d50463bbdbb6b880a1d6e9d": {
      "model_module": "@jupyter-widgets/controls",
      "model_module_version": "1.5.0",
      "model_name": "DescriptionStyleModel",
      "state": {
       "description_width": ""
      }
     },
     "7fe70e63e00d403ca38c6cb0a49a4530": {
      "model_module": "@jupyter-widgets/controls",
      "model_module_version": "1.5.0",
      "model_name": "ButtonStyleModel",
      "state": {}
     },
     "7ff2c87fe00547f0b7e6af6e6cd420ef": {
      "model_module": "@jupyter-widgets/controls",
      "model_module_version": "1.5.0",
      "model_name": "HBoxModel",
      "state": {
       "children": [
        "IPY_MODEL_93e14620bbac45728e6963dc99d4a3aa",
        "IPY_MODEL_0a7c7a4f27ea452d8766f26cd01b2ae8"
       ],
       "layout": "IPY_MODEL_f14042a43258424897bc4a4b36a6c8aa"
      }
     },
     "802705a68636441999d567a038a3ea08": {
      "model_module": "@jupyter-widgets/controls",
      "model_module_version": "1.5.0",
      "model_name": "ButtonModel",
      "state": {
       "description": "Add",
       "layout": "IPY_MODEL_1772cb9ff7ba4363b347b855e71291bc",
       "style": "IPY_MODEL_0b2650a627d146678bcc6243c143cdb4"
      }
     },
     "806349fa5c2847f4bb8d075fa48b7c30": {
      "model_module": "@jupyter-widgets/controls",
      "model_module_version": "1.5.0",
      "model_name": "ButtonStyleModel",
      "state": {}
     },
     "8075cc95e3074a63bf7a8aad101aa50d": {
      "model_module": "@jupyter-widgets/controls",
      "model_module_version": "1.5.0",
      "model_name": "SliderStyleModel",
      "state": {
       "description_width": ""
      }
     },
     "80c5212be87d48cc9b9a5a232a8943a5": {
      "model_module": "@jupyter-widgets/base",
      "model_module_version": "1.2.0",
      "model_name": "LayoutModel",
      "state": {}
     },
     "80ce870c2d45445294e45c1f21bb6754": {
      "model_module": "@jupyter-widgets/base",
      "model_module_version": "1.2.0",
      "model_name": "LayoutModel",
      "state": {}
     },
     "8203b8eb93804802a143aa0913a2ab58": {
      "model_module": "@jupyter-widgets/base",
      "model_module_version": "1.2.0",
      "model_name": "LayoutModel",
      "state": {}
     },
     "820dc8ff793b4b5389f6bcf7475a8835": {
      "model_module": "@jupyter-widgets/controls",
      "model_module_version": "1.5.0",
      "model_name": "DropdownModel",
      "state": {
       "_options_labels": [
        "Color_1"
       ],
       "index": 0,
       "layout": "IPY_MODEL_49137596ad1c466c86abaaffd4c60c8c",
       "style": "IPY_MODEL_55cb63cbd89d476291012449032018b0"
      }
     },
     "8222b79d18a24d6da8cccbadf6a0e27e": {
      "model_module": "pgljupyter",
      "model_module_version": "^0.1.21",
      "model_name": "BoolEditorModel",
      "state": {
       "_model_module_version": "^0.1.21",
       "_view_module_version": "^0.1.21",
       "children": [
        "IPY_MODEL_1fddbc88de704f94bd3b071c0bf0b39e",
        "IPY_MODEL_f1f78e22b18249fd9cb31f0ee0aad9be"
       ],
       "layout": "IPY_MODEL_70a9c5fe0f9c48ed99fbb53e44d0958f"
      }
     },
     "82e760290bef40f3b7a1f44ee21905eb": {
      "model_module": "@jupyter-widgets/controls",
      "model_module_version": "1.5.0",
      "model_name": "BoundedIntTextModel",
      "state": {
       "description": "index",
       "layout": "IPY_MODEL_c6fccfb0b5cf4bec9d392bad8b7b0911",
       "style": "IPY_MODEL_4ba52da616124d2692bb6c5b26de7ec9",
       "value": 1
      }
     },
     "8305afc8a48e4b069c6ebc1d0a4319ae": {
      "model_module": "@jupyter-widgets/controls",
      "model_module_version": "1.5.0",
      "model_name": "ButtonModel",
      "state": {
       "description": "Delete",
       "layout": "IPY_MODEL_cc5ab0b795be494b93f0031f6cb4ca1d",
       "style": "IPY_MODEL_480fd0cfa27f4cbc8c72b5f36e62fe2e"
      }
     },
     "834a41bbc63548aab930aa894bc5afde": {
      "model_module": "pgljupyter",
      "model_module_version": "^0.1.21",
      "model_name": "LsystemWidgetModel",
      "state": {
       "_model_module_version": "^0.1.21",
       "_view_module_version": "^0.1.21",
       "axes_helper": false,
       "derivationLength": 3,
       "layout": "IPY_MODEL_7c6d8260a9d24d84b9c92cb11ee9fdbe",
       "light_helper": false,
       "plane": true,
       "size_display": [
        800,
        400
       ],
       "size_world": 5,
       "unit": 1
      }
     },
     "837fb62f99fe4926a20cdcd3540e30a6": {
      "model_module": "@jupyter-widgets/controls",
      "model_module_version": "1.5.0",
      "model_name": "ButtonStyleModel",
      "state": {}
     },
     "83a703ab1397440daa8de89f86ec7be2": {
      "model_module": "@jupyter-widgets/base",
      "model_module_version": "1.2.0",
      "model_name": "LayoutModel",
      "state": {
       "flex_flow": "row wrap"
      }
     },
     "8429014af7ca47e79fc6ac19b47eec12": {
      "model_module": "@jupyter-widgets/controls",
      "model_module_version": "1.5.0",
      "model_name": "DescriptionStyleModel",
      "state": {
       "description_width": ""
      }
     },
     "85636e1483044bcfb5d214457065444e": {
      "model_module": "@jupyter-widgets/controls",
      "model_module_version": "1.5.0",
      "model_name": "TextModel",
      "state": {
       "continuous_update": false,
       "description": "name",
       "layout": "IPY_MODEL_46ec773722a149f9ae5a3f46caeb2b61",
       "style": "IPY_MODEL_44b7655139ce4549a1e03022bc2857fe",
       "value": "TROPISM"
      }
     },
     "859d5001333d4d82bb4ceab75c05a7bd": {
      "model_module": "@jupyter-widgets/base",
      "model_module_version": "1.2.0",
      "model_name": "LayoutModel",
      "state": {}
     },
     "85d1689eadf34d0290592e9bbd4a2fe8": {
      "model_module": "@jupyter-widgets/controls",
      "model_module_version": "1.5.0",
      "model_name": "BoundedIntTextModel",
      "state": {
       "description": "index",
       "layout": "IPY_MODEL_6fa29d3f275146c8a37ba593be74a470",
       "style": "IPY_MODEL_b758782ddc04468391e288f4a7cee79f",
       "value": 1
      }
     },
     "85eea2600cb14aca8782078201f895e0": {
      "model_module": "@jupyter-widgets/base",
      "model_module_version": "1.2.0",
      "model_name": "LayoutModel",
      "state": {}
     },
     "863a389abc284287b183477614fd9738": {
      "model_module": "@jupyter-widgets/controls",
      "model_module_version": "1.5.0",
      "model_name": "ButtonModel",
      "state": {
       "description": "Add category",
       "layout": "IPY_MODEL_3bd277c5120b48609079f82766b91e70",
       "style": "IPY_MODEL_aec6a7113421413e83ba7ea55d25fa3d"
      }
     },
     "86cd31595d96473f84fa895f30f4e81e": {
      "model_module": "@jupyter-widgets/controls",
      "model_module_version": "1.5.0",
      "model_name": "DropdownModel",
      "state": {
       "_options_labels": [
        "branchpath"
       ],
       "index": 0,
       "layout": "IPY_MODEL_50868ad0e6e74059a11e2970441e590b",
       "style": "IPY_MODEL_8429014af7ca47e79fc6ac19b47eec12"
      }
     },
     "873dbe169f0f4cd9af340438922dd5e8": {
      "model_module": "@jupyter-widgets/base",
      "model_module_version": "1.2.0",
      "model_name": "LayoutModel",
      "state": {
       "margin": "20px 0px"
      }
     },
     "87421a08ea99407b8cb2bbba0ecfdb77": {
      "model_module": "@jupyter-widgets/controls",
      "model_module_version": "1.5.0",
      "model_name": "ButtonModel",
      "state": {
       "description": "Delete",
       "layout": "IPY_MODEL_8945e8d0d9984b138d6d269cd26d27b2",
       "style": "IPY_MODEL_806349fa5c2847f4bb8d075fa48b7c30"
      }
     },
     "879e2fb3ca424329849622544c0753c1": {
      "model_module": "@jupyter-widgets/base",
      "model_module_version": "1.2.0",
      "model_name": "LayoutModel",
      "state": {}
     },
     "87a2e95bd8d641f28aac7f11762c36d8": {
      "model_module": "@jupyter-widgets/base",
      "model_module_version": "1.2.0",
      "model_name": "LayoutModel",
      "state": {}
     },
     "87c44c329b364c8cb719280b8c1b1256": {
      "model_module": "@jupyter-widgets/base",
      "model_module_version": "1.2.0",
      "model_name": "LayoutModel",
      "state": {}
     },
     "87f62872008f40358efad90a56dda77c": {
      "model_module": "@jupyter-widgets/controls",
      "model_module_version": "1.5.0",
      "model_name": "TextModel",
      "state": {
       "layout": "IPY_MODEL_3cef09f8897e418c87b726ac218a17d3",
       "placeholder": "category name",
       "style": "IPY_MODEL_d4e032bf72184f7fb7f7bc813304447e"
      }
     },
     "8882ba1b9f03447d9655cd176ea8da86": {
      "model_module": "@jupyter-widgets/controls",
      "model_module_version": "1.5.0",
      "model_name": "DropdownModel",
      "state": {
       "_options_labels": [
        "NurbsCurve2D",
        "BezierCurve2D",
        "Polyline2D",
        "Function"
       ],
       "index": 0,
       "layout": "IPY_MODEL_fd632d9538244aa5b31c585aaef59bf2",
       "style": "IPY_MODEL_5cc4fa1f5a384931a570d003f6351659"
      }
     },
     "8889206938cb42c6831ce67bbb0b0b56": {
      "model_module": "@jupyter-widgets/controls",
      "model_module_version": "1.5.0",
      "model_name": "HBoxModel",
      "state": {
       "children": [
        "IPY_MODEL_a209a9c54a74446dab993407aeec7de6",
        "IPY_MODEL_63c6c4128bca451495956f2efad3dc89"
       ],
       "layout": "IPY_MODEL_a1ec6b1c4ee344e48fa2149836fbc2e8"
      }
     },
     "889046cdc6dd4f1d82e352e16a8dfb66": {
      "model_module": "@jupyter-widgets/controls",
      "model_module_version": "1.5.0",
      "model_name": "AccordionModel",
      "state": {
       "_titles": {
        "0": "materials",
        "1": "Panel"
       },
       "children": [
        "IPY_MODEL_dfb05271ced946cdab835680d43c453a",
        "IPY_MODEL_7b13311cc06e4143a95957725bd7a2f0"
       ],
       "layout": "IPY_MODEL_604a6c11cac6477eae68ac224bcc4069",
       "selected_index": 1
      }
     },
     "88aef41998914460967e9fdb5973f021": {
      "model_module": "@jupyter-widgets/controls",
      "model_module_version": "1.5.0",
      "model_name": "CheckboxModel",
      "state": {
       "description": "Auto apply",
       "disabled": false,
       "layout": "IPY_MODEL_a4ed561c7d8b41d5be2f94b6c7b3414f",
       "style": "IPY_MODEL_6e9ea0c00b12494990b200b2ea69c88e",
       "value": true
      }
     },
     "8945e8d0d9984b138d6d269cd26d27b2": {
      "model_module": "@jupyter-widgets/base",
      "model_module_version": "1.2.0",
      "model_name": "LayoutModel",
      "state": {}
     },
     "89746df7d3f743b5a89e937989cc33d0": {
      "model_module": "@jupyter-widgets/controls",
      "model_module_version": "1.5.0",
      "model_name": "VBoxModel",
      "state": {
       "children": [
        "IPY_MODEL_b31cccb866844e79b6b506cf0b914db8",
        "IPY_MODEL_f8d95e0cbc784db480fbcd8a5099e2d3",
        "IPY_MODEL_6fb2d0c634824454b2c9ceb7b83f0f0b",
        "IPY_MODEL_a6133189934640f5b663afbbf868bf76",
        "IPY_MODEL_5bf043d6c8b64836920535f6de51fa96"
       ],
       "layout": "IPY_MODEL_80ce870c2d45445294e45c1f21bb6754"
      }
     },
     "898c8d6b133a401fa94e309430cf8a1c": {
      "model_module": "@jupyter-widgets/controls",
      "model_module_version": "1.5.0",
      "model_name": "DescriptionStyleModel",
      "state": {
       "description_width": ""
      }
     },
     "89b0a2b111774b7ebf6e91d6796c400b": {
      "model_module": "@jupyter-widgets/controls",
      "model_module_version": "1.5.0",
      "model_name": "HBoxModel",
      "state": {
       "children": [
        "IPY_MODEL_fa8b8012b2ab4b00b2b74e5f7333dd0f",
        "IPY_MODEL_30bd81d4ef2643cc8d8dc01788a77fe3"
       ],
       "layout": "IPY_MODEL_ca9ea0c1feef42cea984cb29a52d291a"
      }
     },
     "89bb37e5593549db92dd6b06f5923677": {
      "model_module": "@jupyter-widgets/controls",
      "model_module_version": "1.5.0",
      "model_name": "ButtonStyleModel",
      "state": {}
     },
     "89c59406c87944bfadbff78157160f28": {
      "model_module": "@jupyter-widgets/controls",
      "model_module_version": "1.5.0",
      "model_name": "DescriptionStyleModel",
      "state": {
       "description_width": ""
      }
     },
     "89de35ac1e704ec78a5a7651063722b3": {
      "model_module": "@jupyter-widgets/controls",
      "model_module_version": "1.5.0",
      "model_name": "ButtonStyleModel",
      "state": {}
     },
     "8a6d679d14574e098edea3d3e56cfcde": {
      "model_module": "@jupyter-widgets/base",
      "model_module_version": "1.2.0",
      "model_name": "LayoutModel",
      "state": {}
     },
     "8a86f8be4b894204aaef38fcaff437e1": {
      "model_module": "@jupyter-widgets/controls",
      "model_module_version": "1.5.0",
      "model_name": "ButtonStyleModel",
      "state": {}
     },
     "8b03b4fa234d4a8f9d0a9b11db751c85": {
      "model_module": "@jupyter-widgets/controls",
      "model_module_version": "1.5.0",
      "model_name": "DropdownModel",
      "state": {
       "_options_labels": [
        "Color_1"
       ],
       "index": 0,
       "layout": "IPY_MODEL_1456e8096a2e46beae7ee005bd577f95",
       "style": "IPY_MODEL_04627d3b504548ebb4ed0bc1f43d9a40"
      }
     },
     "8b30ba3e9562432f854d68162ded88e4": {
      "model_module": "pgljupyter",
      "model_module_version": "^0.1.21",
      "model_name": "IntEditorModel",
      "state": {
       "_model_module_version": "^0.1.21",
       "_view_module_version": "^0.1.21",
       "children": [
        "IPY_MODEL_fcab129307d9436a86c6c7d45e2c57fb",
        "IPY_MODEL_8d8e5dd41b6d4d088fc5439685299908"
       ],
       "layout": "IPY_MODEL_98e1a761ee8a413dbdb33faf29907709"
      }
     },
     "8b86761b133044928e8edf3c4d31f054": {
      "model_module": "@jupyter-widgets/controls",
      "model_module_version": "1.5.0",
      "model_name": "DescriptionStyleModel",
      "state": {
       "description_width": ""
      }
     },
     "8be0cf58651344ae9ffd6ecd578b026e": {
      "model_module": "@jupyter-widgets/controls",
      "model_module_version": "1.5.0",
      "model_name": "SliderStyleModel",
      "state": {
       "description_width": ""
      }
     },
     "8c473da47073421880f3067d28d3a11f": {
      "model_module": "@jupyter-widgets/base",
      "model_module_version": "1.2.0",
      "model_name": "LayoutModel",
      "state": {}
     },
     "8ca242a76af748a18aca81d41fb61858": {
      "model_module": "@jupyter-widgets/base",
      "model_module_version": "1.2.0",
      "model_name": "LayoutModel",
      "state": {}
     },
     "8cea8b3ce54740589f0206f98444b66a": {
      "model_module": "@jupyter-widgets/base",
      "model_module_version": "1.2.0",
      "model_name": "LayoutModel",
      "state": {}
     },
     "8d0b1c02201a4b6aa1fbbe630e094716": {
      "model_module": "@jupyter-widgets/controls",
      "model_module_version": "1.5.0",
      "model_name": "ColorPickerModel",
      "state": {
       "description": "ambient",
       "disabled": false,
       "layout": "IPY_MODEL_3d10c2c82f794f0d95ceb012fad1c263",
       "style": "IPY_MODEL_3fd357d774f547e4a1eca2c8fb825b51",
       "value": "#412d0f"
      }
     },
     "8d89890e9f3645e5a49908622be9ff3f": {
      "model_module": "@jupyter-widgets/base",
      "model_module_version": "1.2.0",
      "model_name": "LayoutModel",
      "state": {
       "margin": "20px 0px"
      }
     },
     "8d8e5dd41b6d4d088fc5439685299908": {
      "model_module": "@jupyter-widgets/controls",
      "model_module_version": "1.5.0",
      "model_name": "IntSliderModel",
      "state": {
       "description": "value",
       "layout": "IPY_MODEL_1da8050b62604435a5c1149aa75c0c51",
       "max": 5,
       "style": "IPY_MODEL_215b198c1e57488badb5c13b388be0de",
       "value": 5
      }
     },
     "8d9f310d7a1746789396ec956dd44e95": {
      "model_module": "@jupyter-widgets/controls",
      "model_module_version": "1.5.0",
      "model_name": "DescriptionStyleModel",
      "state": {
       "description_width": ""
      }
     },
     "8e0904ef609747a484c8a017af41364a": {
      "model_module": "@jupyter-widgets/base",
      "model_module_version": "1.2.0",
      "model_name": "LayoutModel",
      "state": {}
     },
     "8e172d33f5bc413284fbd027067d4e77": {
      "model_module": "@jupyter-widgets/controls",
      "model_module_version": "1.5.0",
      "model_name": "ButtonModel",
      "state": {
       "description": "Save changes",
       "layout": "IPY_MODEL_db1e5e3a1ff643d09d7ea839db538496",
       "style": "IPY_MODEL_4a8c05d308b94716bc496ac49e4ba349"
      }
     },
     "8ef0b47d6db145cab2500554e5131b3e": {
      "model_module": "@jupyter-widgets/base",
      "model_module_version": "1.2.0",
      "model_name": "LayoutModel",
      "state": {}
     },
     "8f5ccdb8975a43cf91415bdd48b622fc": {
      "model_module": "@jupyter-widgets/base",
      "model_module_version": "1.2.0",
      "model_name": "LayoutModel",
      "state": {}
     },
     "8f88886f15504504ae8b8a36dc2f9079": {
      "model_module": "@jupyter-widgets/base",
      "model_module_version": "1.2.0",
      "model_name": "LayoutModel",
      "state": {}
     },
     "90087d8993224d82bf9a606cbb6fdef2": {
      "model_module": "@jupyter-widgets/controls",
      "model_module_version": "1.5.0",
      "model_name": "CheckboxModel",
      "state": {
       "description": "Auto save",
       "disabled": false,
       "layout": "IPY_MODEL_7f3e165dea7e4e599f8e5c0725b05add",
       "style": "IPY_MODEL_49940797ddbd49a7ade64775bdd7de41",
       "value": false
      }
     },
     "9081a690f199476e9d8854344e988143": {
      "model_module": "@jupyter-widgets/controls",
      "model_module_version": "1.5.0",
      "model_name": "ButtonModel",
      "state": {
       "description": "Add",
       "layout": "IPY_MODEL_b8933232726f44d098b38ef923663fb0",
       "style": "IPY_MODEL_8a86f8be4b894204aaef38fcaff437e1"
      }
     },
     "9091b4a603e040de95ce2d707bd1a446": {
      "model_module": "@jupyter-widgets/controls",
      "model_module_version": "1.5.0",
      "model_name": "ButtonStyleModel",
      "state": {}
     },
     "916fcff3c10f406d93bbe7cc83442a41": {
      "model_module": "@jupyter-widgets/base",
      "model_module_version": "1.2.0",
      "model_name": "LayoutModel",
      "state": {}
     },
     "92061b38e39049c8862240b2353b0f5f": {
      "model_module": "@jupyter-widgets/controls",
      "model_module_version": "1.5.0",
      "model_name": "CheckboxModel",
      "state": {
       "description": "Auto apply",
       "disabled": false,
       "layout": "IPY_MODEL_65b0e4ae13114476ae064eb030dfdc25",
       "style": "IPY_MODEL_967ae38d29a54814a59d495a779c9f89",
       "value": false
      }
     },
     "921ade09dad84b0f99c220e8a89eada1": {
      "model_module": "@jupyter-widgets/controls",
      "model_module_version": "1.5.0",
      "model_name": "DescriptionStyleModel",
      "state": {
       "description_width": ""
      }
     },
     "9238db65c71b4943ba5e2d089728f3c0": {
      "model_module": "pgljupyter",
      "model_module_version": "^0.1.21",
      "model_name": "_CurveEditorModel",
      "state": {
       "_model_module_version": "^0.1.21",
       "_view_module_version": "^0.1.21",
       "layout": "IPY_MODEL_04bfc929cfd84bc4b51f9bd4abfa2dbd",
       "points": [
        [
         -0.558642,
         0.0459491
        ],
        [
         -0.26045416484374995,
         0.1634248142227173
        ],
        [
         -0.0295213,
         -0.153395
        ],
        [
         0.22425213515625003,
         -0.06345898577728276
        ],
        [
         0.34800693515625,
         0.12732966422271727
        ],
        [
         0.5697342851562499,
         0.4264037445524216
        ]
       ],
       "type": "NurbsCurve2D"
      }
     },
     "924ec3fef30d40fd9a1ac82e8bf2bf3e": {
      "model_module": "@jupyter-widgets/base",
      "model_module_version": "1.2.0",
      "model_name": "LayoutModel",
      "state": {}
     },
     "92900f23677e4c359f8c2edc8a3c1067": {
      "model_module": "@jupyter-widgets/base",
      "model_module_version": "1.2.0",
      "model_name": "LayoutModel",
      "state": {}
     },
     "930cc30468ab4230835d9602f3df1434": {
      "model_module": "@jupyter-widgets/controls",
      "model_module_version": "1.5.0",
      "model_name": "DescriptionStyleModel",
      "state": {
       "description_width": ""
      }
     },
     "9326880b8de94f848499e5f469565a93": {
      "model_module": "@jupyter-widgets/base",
      "model_module_version": "1.2.0",
      "model_name": "LayoutModel",
      "state": {}
     },
     "9391e298ba8e4fb094b5693eeafce08f": {
      "model_module": "pgljupyter",
      "model_module_version": "^0.1.21",
      "model_name": "LsystemWidgetModel",
      "state": {
       "_model_module_version": "^0.1.21",
       "_view_module_version": "^0.1.21",
       "axes_helper": false,
       "derivationLength": 3,
       "layout": "IPY_MODEL_2cf08d88e6824864bf4028bcc6b736bc",
       "light_helper": false,
       "plane": true,
       "size_display": [
        800,
        400
       ],
       "size_world": 5,
       "unit": 1
      }
     },
     "93a06d55c736485ba0902954c2655284": {
      "model_module": "pgljupyter",
      "model_module_version": "^0.1.21",
      "model_name": "BoolEditorModel",
      "state": {
       "_model_module_version": "^0.1.21",
       "_view_module_version": "^0.1.21",
       "children": [
        "IPY_MODEL_85636e1483044bcfb5d214457065444e",
        "IPY_MODEL_65669b51fe234654a5a933bc863c82c1"
       ],
       "layout": "IPY_MODEL_6fb3b71855344ce189e5562728e53a62"
      }
     },
     "93e14620bbac45728e6963dc99d4a3aa": {
      "model_module": "@jupyter-widgets/controls",
      "model_module_version": "1.5.0",
      "model_name": "HBoxModel",
      "state": {
       "children": [
        "IPY_MODEL_2ca68e1e3cd64f35a5162c8d981fed4f",
        "IPY_MODEL_da4afbe30a284ce0a4146f4ffd5b1cb7"
       ],
       "layout": "IPY_MODEL_b7281943a91e4542adb0ff19ff68ca38"
      }
     },
     "940b0212975247588c0f40db242088b2": {
      "model_module": "@jupyter-widgets/controls",
      "model_module_version": "1.5.0",
      "model_name": "BoundedIntTextModel",
      "state": {
       "description": "index",
       "layout": "IPY_MODEL_1ea9d602dbab4e85bb103872360d833e",
       "style": "IPY_MODEL_e2a8d836cb4e469ab8091dfb252addb2",
       "value": 1
      }
     },
     "94831600e30e4a08932b6dd93ee99701": {
      "model_module": "@jupyter-widgets/controls",
      "model_module_version": "1.5.0",
      "model_name": "HBoxModel",
      "state": {
       "children": [
        "IPY_MODEL_7a270c4639f6489794799c7633fd7463"
       ],
       "layout": "IPY_MODEL_0355fb672e0f43978ade5edf8a22201a"
      }
     },
     "9487dee9505143ad99fb3bdd03f7e1c6": {
      "model_module": "@jupyter-widgets/controls",
      "model_module_version": "1.5.0",
      "model_name": "HBoxModel",
      "state": {
       "children": [
        "IPY_MODEL_c0aa368364e049babe0826d0bc5d95cb"
       ],
       "layout": "IPY_MODEL_0355fb672e0f43978ade5edf8a22201a"
      }
     },
     "94b9b66c68d041799342474b3b87a209": {
      "model_module": "@jupyter-widgets/base",
      "model_module_version": "1.2.0",
      "model_name": "LayoutModel",
      "state": {
       "margin": "20px 0px"
      }
     },
     "94c98470021948fd84a33ec67b18864a": {
      "model_module": "@jupyter-widgets/base",
      "model_module_version": "1.2.0",
      "model_name": "LayoutModel",
      "state": {}
     },
     "95b023ce69a34ce39dfe816616fd77ef": {
      "model_module": "@jupyter-widgets/controls",
      "model_module_version": "1.5.0",
      "model_name": "VBoxModel",
      "state": {
       "children": [
        "IPY_MODEL_f6ae9f43d04c4c0785c090f9679c5b33",
        "IPY_MODEL_f4c8b3c08bd94ce4b044c244a533a426"
       ],
       "layout": "IPY_MODEL_bb682d190c62442a85a2286b855649e7"
      }
     },
     "967ae38d29a54814a59d495a779c9f89": {
      "model_module": "@jupyter-widgets/controls",
      "model_module_version": "1.5.0",
      "model_name": "DescriptionStyleModel",
      "state": {
       "description_width": ""
      }
     },
     "96ac287e9e1a4ed48a2991c337094ca4": {
      "model_module": "@jupyter-widgets/controls",
      "model_module_version": "1.5.0",
      "model_name": "HBoxModel",
      "state": {
       "children": [
        "IPY_MODEL_4fc402cf41ce48aeb93f3a675630e10f",
        "IPY_MODEL_a466b13816f44c95bab2403c85261e70"
       ],
       "layout": "IPY_MODEL_d4a6463f00c5469ea395a8518423edea"
      }
     },
     "979dd34d906a4bb1a38b2bc2dd5dd251": {
      "model_module": "@jupyter-widgets/base",
      "model_module_version": "1.2.0",
      "model_name": "LayoutModel",
      "state": {}
     },
     "97ea4f2fe12241ebb735e7c462ea6d82": {
      "model_module": "@jupyter-widgets/base",
      "model_module_version": "1.2.0",
      "model_name": "LayoutModel",
      "state": {}
     },
     "98b1fa4bda854f0e9c49159fd46347fe": {
      "model_module": "@jupyter-widgets/base",
      "model_module_version": "1.2.0",
      "model_name": "LayoutModel",
      "state": {}
     },
     "98e1a761ee8a413dbdb33faf29907709": {
      "model_module": "@jupyter-widgets/base",
      "model_module_version": "1.2.0",
      "model_name": "LayoutModel",
      "state": {
       "margin": "20px 0px"
      }
     },
     "9913ddf473e64c778f19e5f94b392ec9": {
      "model_module": "@jupyter-widgets/controls",
      "model_module_version": "1.5.0",
      "model_name": "TabModel",
      "state": {
       "_titles": {
        "0": "parameter_edition.json"
       },
       "children": [
        "IPY_MODEL_889046cdc6dd4f1d82e352e16a8dfb66"
       ],
       "layout": "IPY_MODEL_afe22e2f11ab4ee6aa4fe485134ce006"
      }
     },
     "9b2f6c4ffd914201a148d793593e0ebe": {
      "model_module": "@jupyter-widgets/controls",
      "model_module_version": "1.5.0",
      "model_name": "CheckboxModel",
      "state": {
       "description": "Auto save",
       "disabled": false,
       "layout": "IPY_MODEL_2b4daa3985584ccdb3a241444bbfa81f",
       "style": "IPY_MODEL_f340163451fa4f5e85eb34e84b877920",
       "value": false
      }
     },
     "9b3d1c7b12dd432bb0e761e310a13edd": {
      "model_module": "@jupyter-widgets/controls",
      "model_module_version": "1.5.0",
      "model_name": "ButtonStyleModel",
      "state": {}
     },
     "9b9d52f4390542c1beebe8960a6800bb": {
      "model_module": "@jupyter-widgets/base",
      "model_module_version": "1.2.0",
      "model_name": "LayoutModel",
      "state": {}
     },
     "9c2e46e5af574179934168fd4391820c": {
      "model_module": "@jupyter-widgets/controls",
      "model_module_version": "1.5.0",
      "model_name": "ButtonStyleModel",
      "state": {}
     },
     "9c887482a76441e098d2b1530f062c43": {
      "model_module": "@jupyter-widgets/base",
      "model_module_version": "1.2.0",
      "model_name": "LayoutModel",
      "state": {}
     },
     "9cc265bc467149d7976d203a6786bd77": {
      "model_module": "pgljupyter",
      "model_module_version": "^0.1.21",
      "model_name": "ParameterEditorModel",
      "state": {
       "_model_module_version": "^0.1.21",
       "_view_module_version": "^0.1.21",
       "children": [
        "IPY_MODEL_b06523570d5f45609c1fe4e8f282373b"
       ],
       "layout": "IPY_MODEL_1f6cd7c1c4264d6482230ef4da6fdaf0"
      }
     },
     "9d78040ee1a949d7802971ded78f4623": {
      "model_module": "@jupyter-widgets/base",
      "model_module_version": "1.2.0",
      "model_name": "LayoutModel",
      "state": {}
     },
     "9daa5c619c074419891d66e3522daa52": {
      "model_module": "@jupyter-widgets/controls",
      "model_module_version": "1.5.0",
      "model_name": "TabModel",
      "state": {
       "_titles": {
        "0": "parameter_edition.json"
       },
       "children": [
        "IPY_MODEL_347d02643ca649fc9dd73e866e32c0eb"
       ],
       "layout": "IPY_MODEL_20e75f70e09b4fff8aa72892dcd26cde"
      }
     },
     "9e192d34705c4446a571b8d671deb43b": {
      "model_module": "@jupyter-widgets/controls",
      "model_module_version": "1.5.0",
      "model_name": "DescriptionStyleModel",
      "state": {
       "description_width": ""
      }
     },
     "9e703e6503c14de69846005755f51719": {
      "model_module": "@jupyter-widgets/base",
      "model_module_version": "1.2.0",
      "model_name": "LayoutModel",
      "state": {}
     },
     "9f259c57592f41f794921a07496e759f": {
      "model_module": "@jupyter-widgets/base",
      "model_module_version": "1.2.0",
      "model_name": "LayoutModel",
      "state": {}
     },
     "9f8630adbf6c402a8b05024236c8e5d1": {
      "model_module": "@jupyter-widgets/controls",
      "model_module_version": "1.5.0",
      "model_name": "DescriptionStyleModel",
      "state": {
       "description_width": ""
      }
     },
     "9fcbf95e285e4673b89ad587a0c7646e": {
      "model_module": "@jupyter-widgets/controls",
      "model_module_version": "1.5.0",
      "model_name": "ButtonStyleModel",
      "state": {}
     },
     "9fdd4f988e00442ba8148b561213a6b6": {
      "model_module": "@jupyter-widgets/base",
      "model_module_version": "1.2.0",
      "model_name": "LayoutModel",
      "state": {
       "flex_flow": "row wrap",
       "margin": "20px"
      }
     },
     "a00db5fe86614e5fb2df924fcd2afe74": {
      "model_module": "@jupyter-widgets/base",
      "model_module_version": "1.2.0",
      "model_name": "LayoutModel",
      "state": {}
     },
     "a0926be8df1f4fa29059f82f8eb8dd96": {
      "model_module": "@jupyter-widgets/controls",
      "model_module_version": "1.5.0",
      "model_name": "ButtonStyleModel",
      "state": {}
     },
     "a0a6cf9729d14b46872bd6838dd72436": {
      "model_module": "@jupyter-widgets/controls",
      "model_module_version": "1.5.0",
      "model_name": "ButtonStyleModel",
      "state": {}
     },
     "a0c9f5608a594897b8f366ef4bb4e62c": {
      "model_module": "@jupyter-widgets/base",
      "model_module_version": "1.2.0",
      "model_name": "LayoutModel",
      "state": {}
     },
     "a0ef3ad3ab9b43fc9c50445ad2469d45": {
      "model_module": "@jupyter-widgets/base",
      "model_module_version": "1.2.0",
      "model_name": "LayoutModel",
      "state": {}
     },
     "a109bc79e76f427cbb6163534db165f7": {
      "model_module": "@jupyter-widgets/base",
      "model_module_version": "1.2.0",
      "model_name": "LayoutModel",
      "state": {}
     },
     "a167f4f1a6fd4f168bb5fc119835849b": {
      "model_module": "@jupyter-widgets/base",
      "model_module_version": "1.2.0",
      "model_name": "LayoutModel",
      "state": {}
     },
     "a19a35559b174cb1b87a7788973ceb3a": {
      "model_module": "@jupyter-widgets/base",
      "model_module_version": "1.2.0",
      "model_name": "LayoutModel",
      "state": {}
     },
     "a1ec6b1c4ee344e48fa2149836fbc2e8": {
      "model_module": "@jupyter-widgets/base",
      "model_module_version": "1.2.0",
      "model_name": "LayoutModel",
      "state": {}
     },
     "a200c395c9db4200a8d6e28db17e7810": {
      "model_module": "@jupyter-widgets/base",
      "model_module_version": "1.2.0",
      "model_name": "LayoutModel",
      "state": {}
     },
     "a209a9c54a74446dab993407aeec7de6": {
      "model_module": "@jupyter-widgets/controls",
      "model_module_version": "1.5.0",
      "model_name": "ButtonModel",
      "state": {
       "description": "Add",
       "layout": "IPY_MODEL_c31165549b004389ac3386cee3a1c108",
       "style": "IPY_MODEL_0a44d73a10024154af6c199c14f9e966"
      }
     },
     "a2303c9a204e4618b64c07c90fefd691": {
      "model_module": "@jupyter-widgets/base",
      "model_module_version": "1.2.0",
      "model_name": "LayoutModel",
      "state": {}
     },
     "a23a44a3e71242ca9cfbd0ebd4838598": {
      "model_module": "@jupyter-widgets/controls",
      "model_module_version": "1.5.0",
      "model_name": "SliderStyleModel",
      "state": {
       "description_width": ""
      }
     },
     "a27f09e921014b2ea62ba47ad20c2350": {
      "model_module": "@jupyter-widgets/controls",
      "model_module_version": "1.5.0",
      "model_name": "SliderStyleModel",
      "state": {
       "description_width": ""
      }
     },
     "a28d01b0c4fc44ad9d67267dacc67e43": {
      "model_module": "@jupyter-widgets/base",
      "model_module_version": "1.2.0",
      "model_name": "LayoutModel",
      "state": {}
     },
     "a2e35d65bdca4b66a2092b9300b6b568": {
      "model_module": "@jupyter-widgets/base",
      "model_module_version": "1.2.0",
      "model_name": "LayoutModel",
      "state": {}
     },
     "a2e8ccf019ea40c3bce161039b3ac380": {
      "model_module": "@jupyter-widgets/base",
      "model_module_version": "1.2.0",
      "model_name": "LayoutModel",
      "state": {}
     },
     "a4285ec8e0564b2cb4fe118daec821b2": {
      "model_module": "@jupyter-widgets/controls",
      "model_module_version": "1.5.0",
      "model_name": "DropdownModel",
      "state": {
       "_options_labels": [
        "Color"
       ],
       "index": 0,
       "layout": "IPY_MODEL_7a7d0460c9e84f238a2ddc2b8722925c",
       "style": "IPY_MODEL_89c59406c87944bfadbff78157160f28"
      }
     },
     "a466b13816f44c95bab2403c85261e70": {
      "model_module": "@jupyter-widgets/controls",
      "model_module_version": "1.5.0",
      "model_name": "CheckboxModel",
      "state": {
       "description": "Auto save",
       "disabled": false,
       "layout": "IPY_MODEL_924ec3fef30d40fd9a1ac82e8bf2bf3e",
       "style": "IPY_MODEL_4ce109076798467da3085b11c7599df8",
       "value": false
      }
     },
     "a4ed561c7d8b41d5be2f94b6c7b3414f": {
      "model_module": "@jupyter-widgets/base",
      "model_module_version": "1.2.0",
      "model_name": "LayoutModel",
      "state": {}
     },
     "a53496cc7e924fcbb107e85bffd27a56": {
      "model_module": "@jupyter-widgets/controls",
      "model_module_version": "1.5.0",
      "model_name": "TextModel",
      "state": {
       "continuous_update": false,
       "description": "name",
       "layout": "IPY_MODEL_8cea8b3ce54740589f0206f98444b66a",
       "style": "IPY_MODEL_743a85866d7d46409f4061503cc3328d",
       "value": "Color_1"
      }
     },
     "a5c8243cd93944de8f514d7e774e14fc": {
      "model_module": "@jupyter-widgets/base",
      "model_module_version": "1.2.0",
      "model_name": "LayoutModel",
      "state": {}
     },
     "a6133189934640f5b663afbbf868bf76": {
      "model_module": "@jupyter-widgets/controls",
      "model_module_version": "1.5.0",
      "model_name": "HBoxModel",
      "state": {
       "children": [
        "IPY_MODEL_c311d85bb5584c77a6b3ee025b253268",
        "IPY_MODEL_74fcb1bcb3894abeba03234ca96e95ca"
       ],
       "layout": "IPY_MODEL_7352b73a1331479aa0d21a0e4132ff31"
      }
     },
     "a68f769cf48e49bfb55513a9fac5c0e6": {
      "model_module": "@jupyter-widgets/controls",
      "model_module_version": "1.5.0",
      "model_name": "DescriptionStyleModel",
      "state": {
       "description_width": ""
      }
     },
     "a6d3da6fc3204e1d87dc67b5609f7f49": {
      "model_module": "@jupyter-widgets/controls",
      "model_module_version": "1.5.0",
      "model_name": "ButtonModel",
      "state": {
       "description": "Save changes",
       "layout": "IPY_MODEL_031d7c0f72764d669a0a6f910043ceef",
       "style": "IPY_MODEL_4446be4572ff40b78ad3d1f157ba4ac5"
      }
     },
     "a73eb531983d49598e9275b86fba98ad": {
      "model_module": "@jupyter-widgets/base",
      "model_module_version": "1.2.0",
      "model_name": "LayoutModel",
      "state": {}
     },
     "a78b69037c2d4d6eaf72249362631a5a": {
      "model_module": "pgljupyter",
      "model_module_version": "^0.1.21",
      "model_name": "BoolEditorModel",
      "state": {
       "_model_module_version": "^0.1.21",
       "_view_module_version": "^0.1.21",
       "children": [
        "IPY_MODEL_f326db9368b04de989dde83409a84341",
        "IPY_MODEL_4a43e8bec307406f8cac52323322f785"
       ],
       "layout": "IPY_MODEL_eec32846384d4cfc9d73ae157cc1118f"
      }
     },
     "a8a4fe907edc447bae24501ff004da8d": {
      "model_module": "@jupyter-widgets/controls",
      "model_module_version": "1.5.0",
      "model_name": "ColorPickerModel",
      "state": {
       "description": "emission",
       "disabled": false,
       "layout": "IPY_MODEL_87a2e95bd8d641f28aac7f11762c36d8",
       "style": "IPY_MODEL_76f21264c8ae4d49801026d6eedc0492",
       "value": "#000000"
      }
     },
     "a8b343b29d2e4213a4ad7a6795fee5da": {
      "model_module": "@jupyter-widgets/base",
      "model_module_version": "1.2.0",
      "model_name": "LayoutModel",
      "state": {}
     },
     "a8c58177aa954eaca1bb4c159c7a172a": {
      "model_module": "@jupyter-widgets/controls",
      "model_module_version": "1.5.0",
      "model_name": "ButtonStyleModel",
      "state": {}
     },
     "a906e3d6e22c4db39a09ffed2d0dd098": {
      "model_module": "@jupyter-widgets/base",
      "model_module_version": "1.2.0",
      "model_name": "LayoutModel",
      "state": {}
     },
     "a912f615c75f4205ad1a514e467db87b": {
      "model_module": "@jupyter-widgets/base",
      "model_module_version": "1.2.0",
      "model_name": "LayoutModel",
      "state": {}
     },
     "a913fe06b4b94df8b18f727a58c6adc5": {
      "model_module": "@jupyter-widgets/controls",
      "model_module_version": "1.5.0",
      "model_name": "ButtonModel",
      "state": {
       "description": "Add",
       "layout": "IPY_MODEL_7da2c86ada27401e870a49d69ab46365",
       "style": "IPY_MODEL_c99bf702bce24468934142bad64abdc9"
      }
     },
     "a9923c3c7e0a4cb6a3317e8399092186": {
      "model_module": "@jupyter-widgets/base",
      "model_module_version": "1.2.0",
      "model_name": "LayoutModel",
      "state": {}
     },
     "a9fa3fff22ba4699ba9e8a0d3d3aca6c": {
      "model_module": "@jupyter-widgets/controls",
      "model_module_version": "1.5.0",
      "model_name": "HBoxModel",
      "state": {
       "children": [
        "IPY_MODEL_9081a690f199476e9d8854344e988143",
        "IPY_MODEL_a4285ec8e0564b2cb4fe118daec821b2"
       ],
       "layout": "IPY_MODEL_2a8b24dfc89148cc941d972d5bb07482"
      }
     },
     "aadf179320b54036ab3a39e9a15fb131": {
      "model_module": "@jupyter-widgets/base",
      "model_module_version": "1.2.0",
      "model_name": "LayoutModel",
      "state": {}
     },
     "ac5025c88c5c40919e3f0f78249eab40": {
      "model_module": "pgljupyter",
      "model_module_version": "^0.1.21",
      "model_name": "ParameterEditorModel",
      "state": {
       "_model_module_version": "^0.1.21",
       "_view_module_version": "^0.1.21",
       "children": [
        "IPY_MODEL_5f48a6cf4c084f5c81b926d8a3e7e2c5"
       ],
       "layout": "IPY_MODEL_5e0ab00d9fb94a5bb7df1dc5f8ee6767"
      }
     },
     "ad0ff717bbb544ebaf64d8353ab4e761": {
      "model_module": "pgljupyter",
      "model_module_version": "^0.1.21",
      "model_name": "IntEditorModel",
      "state": {
       "_model_module_version": "^0.1.21",
       "_view_module_version": "^0.1.21",
       "children": [
        "IPY_MODEL_af87638174704a1d86522f461a227a9d",
        "IPY_MODEL_7eaabc345910434880aa68227321c8be"
       ],
       "layout": "IPY_MODEL_d834a5655fec475495beb71af7ae8836"
      }
     },
     "ad3e7264d3da4b5a9ec852e2cab1ba14": {
      "model_module": "@jupyter-widgets/controls",
      "model_module_version": "1.5.0",
      "model_name": "HBoxModel",
      "state": {
       "children": [
        "IPY_MODEL_93a06d55c736485ba0902954c2655284",
        "IPY_MODEL_ad0ff717bbb544ebaf64d8353ab4e761",
        "IPY_MODEL_2ed3e806c5eb4fcf916c230c60cc2e4c"
       ],
       "layout": "IPY_MODEL_17af608a319a490db6ac5216775239fa"
      }
     },
     "add684d53252456f8415bf3229f43880": {
      "model_module": "@jupyter-widgets/controls",
      "model_module_version": "1.5.0",
      "model_name": "DescriptionStyleModel",
      "state": {
       "description_width": ""
      }
     },
     "adf3f86f7b5549e6ac347a1aa2654e44": {
      "model_module": "@jupyter-widgets/controls",
      "model_module_version": "1.5.0",
      "model_name": "DropdownModel",
      "state": {
       "_options_labels": [
        "Color"
       ],
       "index": 0,
       "layout": "IPY_MODEL_a0ef3ad3ab9b43fc9c50445ad2469d45",
       "style": "IPY_MODEL_dd9ddaee2ea64ed4b4da1453f237f415"
      }
     },
     "aec6a7113421413e83ba7ea55d25fa3d": {
      "model_module": "@jupyter-widgets/controls",
      "model_module_version": "1.5.0",
      "model_name": "ButtonStyleModel",
      "state": {}
     },
     "aef97525f4f045178736184234a6a2f8": {
      "model_module": "@jupyter-widgets/base",
      "model_module_version": "1.2.0",
      "model_name": "LayoutModel",
      "state": {}
     },
     "aefbec4c72fc437d80d36f9f2c058f64": {
      "model_module": "@jupyter-widgets/controls",
      "model_module_version": "1.5.0",
      "model_name": "DropdownModel",
      "state": {
       "_options_labels": [
        "MAX_ORDER",
        "TROPISM",
        "ELASTICITY"
       ],
       "index": 0,
       "layout": "IPY_MODEL_1a358308780e48ccb0ba3590051b1a15",
       "style": "IPY_MODEL_df317ef900fb4063bdf0764d7dc57b85"
      }
     },
     "af87638174704a1d86522f461a227a9d": {
      "model_module": "@jupyter-widgets/controls",
      "model_module_version": "1.5.0",
      "model_name": "TextModel",
      "state": {
       "continuous_update": false,
       "description": "name",
       "layout": "IPY_MODEL_7467d424b97c4a4d8ea0f6509d3ae5c8",
       "style": "IPY_MODEL_f164141895af49f3a35bf5623b6bbab1",
       "value": "MAX_ORDER"
      }
     },
     "afd31b9ee2444a8699038b38a5d7fb93": {
      "model_module": "@jupyter-widgets/controls",
      "model_module_version": "1.5.0",
      "model_name": "IntSliderModel",
      "state": {
       "description": "value",
       "layout": "IPY_MODEL_9b9d52f4390542c1beebe8960a6800bb",
       "max": 5,
       "style": "IPY_MODEL_a27f09e921014b2ea62ba47ad20c2350",
       "value": 5
      }
     },
     "afe22e2f11ab4ee6aa4fe485134ce006": {
      "model_module": "@jupyter-widgets/base",
      "model_module_version": "1.2.0",
      "model_name": "LayoutModel",
      "state": {}
     },
     "b005adb8a90c4e428b53885833172732": {
      "model_module": "@jupyter-widgets/base",
      "model_module_version": "1.2.0",
      "model_name": "LayoutModel",
      "state": {
       "margin": "20px 0px"
      }
     },
     "b06523570d5f45609c1fe4e8f282373b": {
      "model_module": "@jupyter-widgets/controls",
      "model_module_version": "1.5.0",
      "model_name": "VBoxModel",
      "state": {
       "children": [
        "IPY_MODEL_71fe099fc4624eb2b4e5db2c0c52da4d",
        "IPY_MODEL_f9f75d1703804913949cee7551efc0e1"
       ],
       "layout": "IPY_MODEL_b44f44c345fd43189ee783b3322a3431"
      }
     },
     "b072b74f444b48d7bff9c19c61ad8bbd": {
      "model_module": "@jupyter-widgets/controls",
      "model_module_version": "1.5.0",
      "model_name": "HBoxModel",
      "state": {
       "children": [
        "IPY_MODEL_e938045a9990480e8f858f9be672f2e5",
        "IPY_MODEL_88aef41998914460967e9fdb5973f021"
       ],
       "layout": "IPY_MODEL_8f5ccdb8975a43cf91415bdd48b622fc"
      }
     },
     "b10f0883168943abb972fec0e853de6d": {
      "model_module": "@jupyter-widgets/controls",
      "model_module_version": "1.5.0",
      "model_name": "ButtonModel",
      "state": {
       "description": "Add",
       "layout": "IPY_MODEL_879e2fb3ca424329849622544c0753c1",
       "style": "IPY_MODEL_7f104aa8cf99439c848aff3c26b18958"
      }
     },
     "b1e75a1a8cec49cc80a7201ec721287e": {
      "model_module": "@jupyter-widgets/controls",
      "model_module_version": "1.5.0",
      "model_name": "DescriptionStyleModel",
      "state": {
       "description_width": ""
      }
     },
     "b27ac69063a64ca9a7f316e0a91cbfac": {
      "model_module": "@jupyter-widgets/controls",
      "model_module_version": "1.5.0",
      "model_name": "DescriptionStyleModel",
      "state": {
       "description_width": ""
      }
     },
     "b29cf059bbf54a0b848f28fd484fb3c7": {
      "model_module": "@jupyter-widgets/controls",
      "model_module_version": "1.5.0",
      "model_name": "SliderStyleModel",
      "state": {
       "description_width": ""
      }
     },
     "b31cccb866844e79b6b506cf0b914db8": {
      "model_module": "@jupyter-widgets/controls",
      "model_module_version": "1.5.0",
      "model_name": "HBoxModel",
      "state": {
       "children": [
        "IPY_MODEL_de58bb1e72644bd6859d07bdaea560c3"
       ],
       "layout": "IPY_MODEL_7352b73a1331479aa0d21a0e4132ff31"
      }
     },
     "b3421f9756fb408089137dfee007c463": {
      "model_module": "@jupyter-widgets/base",
      "model_module_version": "1.2.0",
      "model_name": "LayoutModel",
      "state": {}
     },
     "b3531685a8a945c4a89a1508a53467c4": {
      "model_module": "@jupyter-widgets/controls",
      "model_module_version": "1.5.0",
      "model_name": "VBoxModel",
      "state": {
       "children": [
        "IPY_MODEL_59b71c8dbe644962864c512f9f9711ef",
        "IPY_MODEL_097faaf8d4a14fa5b4d0674c2d8f7479",
        "IPY_MODEL_3beb9d8cdf0140b3af836c5f01b464c9",
        "IPY_MODEL_048f6a2405f44677bafcea8d73829a2e",
        "IPY_MODEL_f26ab0eece61424eaeb2dcbcac41d16b"
       ],
       "layout": "IPY_MODEL_eb15857edfe3414fba8a0e8e180f13ae"
      }
     },
     "b35426ce5ddb40e6859419ff012043dc": {
      "model_module": "@jupyter-widgets/controls",
      "model_module_version": "1.5.0",
      "model_name": "SliderStyleModel",
      "state": {
       "description_width": ""
      }
     },
     "b3d171a5fd0b41d0ac68aa2f8a77fe61": {
      "model_module": "@jupyter-widgets/controls",
      "model_module_version": "1.5.0",
      "model_name": "DescriptionStyleModel",
      "state": {
       "description_width": ""
      }
     },
     "b3f8eeafc7264b9691b9c61422107538": {
      "model_module": "@jupyter-widgets/controls",
      "model_module_version": "1.5.0",
      "model_name": "HBoxModel",
      "state": {
       "children": [
        "IPY_MODEL_a913fe06b4b94df8b18f727a58c6adc5",
        "IPY_MODEL_16d981b2b00b4b45bca776503addf771"
       ],
       "layout": "IPY_MODEL_4bbcab2985c84fc18e142357e1b6cd7b"
      }
     },
     "b3fbba529d1b4f0eb2e0849f54f34a1e": {
      "model_module": "@jupyter-widgets/controls",
      "model_module_version": "1.5.0",
      "model_name": "FloatSliderModel",
      "state": {
       "description": "diffuse",
       "layout": "IPY_MODEL_85eea2600cb14aca8782078201f895e0",
       "max": 3,
       "step": 0.1,
       "style": "IPY_MODEL_d361917315bc4a419fe533177c7c69b5",
       "value": 3
      }
     },
     "b43fbb5cd368418497c0710ebc9b044f": {
      "model_module": "@jupyter-widgets/controls",
      "model_module_version": "1.5.0",
      "model_name": "ColorPickerModel",
      "state": {
       "description": "ambient",
       "disabled": false,
       "layout": "IPY_MODEL_4c1cb49852154d49a22f9e9cf1339c56",
       "style": "IPY_MODEL_473b121ffca54498a2ee133011fd6293",
       "value": "#412d0f"
      }
     },
     "b44f44c345fd43189ee783b3322a3431": {
      "model_module": "@jupyter-widgets/base",
      "model_module_version": "1.2.0",
      "model_name": "LayoutModel",
      "state": {}
     },
     "b479f21d256e438190c877d3a4aa4c49": {
      "model_module": "@jupyter-widgets/controls",
      "model_module_version": "1.5.0",
      "model_name": "HBoxModel",
      "state": {
       "children": [
        "IPY_MODEL_d01215196be14d91a838979e0c0f0111",
        "IPY_MODEL_7bd26565e1424c5d8f7b26642cdee1cc"
       ],
       "layout": "IPY_MODEL_49028d59d3bf49219fe1abb322bc5453"
      }
     },
     "b48e9588393d4aca845b50bcb21f45c1": {
      "model_module": "@jupyter-widgets/controls",
      "model_module_version": "1.5.0",
      "model_name": "HBoxModel",
      "state": {
       "children": [
        "IPY_MODEL_b479f21d256e438190c877d3a4aa4c49",
        "IPY_MODEL_f908f89477924b26b03948cfed1af5ed"
       ],
       "layout": "IPY_MODEL_6b3ec1dc44de4c1496375a3216154b88"
      }
     },
     "b4de295497ba4890811928d0aba8d7e9": {
      "model_module": "@jupyter-widgets/controls",
      "model_module_version": "1.5.0",
      "model_name": "ButtonModel",
      "state": {
       "description": "Add category",
       "layout": "IPY_MODEL_7c22ab900eae465e8313a664fd2a3de3",
       "style": "IPY_MODEL_30ea3b8f985049e1b162ddd5a80d739c"
      }
     },
     "b57c8d3dfade4ce78f31878fcc562d1d": {
      "model_module": "@jupyter-widgets/base",
      "model_module_version": "1.2.0",
      "model_name": "LayoutModel",
      "state": {
       "margin": "20px 0px"
      }
     },
     "b5c3f50bb9c5405a81889f591a5331f5": {
      "model_module": "@jupyter-widgets/controls",
      "model_module_version": "1.5.0",
      "model_name": "HBoxModel",
      "state": {
       "children": [
        "IPY_MODEL_ea5bcba6a9af4d01a04e5ddc116acee0",
        "IPY_MODEL_f45deb46e6d84e08aedcde8a07e2be54",
        "IPY_MODEL_3d9bef25ec524056b77a0747da3901f3"
       ],
       "layout": "IPY_MODEL_bb2552f8574741c7a49c59b12f8b673b"
      }
     },
     "b5e42578dc5e42ebae40c9282fc1823e": {
      "model_module": "@jupyter-widgets/controls",
      "model_module_version": "1.5.0",
      "model_name": "BoundedIntTextModel",
      "state": {
       "description": "index",
       "layout": "IPY_MODEL_e65164a46c534353800edbe678e3f38f",
       "style": "IPY_MODEL_add684d53252456f8415bf3229f43880",
       "value": 1
      }
     },
     "b5fde040575f4c738dc6a883890af112": {
      "model_module": "@jupyter-widgets/base",
      "model_module_version": "1.2.0",
      "model_name": "LayoutModel",
      "state": {}
     },
     "b6603a7a438d47ee97f1a55c0556c71c": {
      "model_module": "@jupyter-widgets/base",
      "model_module_version": "1.2.0",
      "model_name": "LayoutModel",
      "state": {}
     },
     "b6e0616073dd4b06863387d5c98f8011": {
      "model_module": "@jupyter-widgets/base",
      "model_module_version": "1.2.0",
      "model_name": "LayoutModel",
      "state": {}
     },
     "b6ed4cb141a0446c866658ce8255dad7": {
      "model_module": "@jupyter-widgets/controls",
      "model_module_version": "1.5.0",
      "model_name": "CheckboxModel",
      "state": {
       "description": "Auto apply",
       "disabled": false,
       "layout": "IPY_MODEL_095e50393a9d48f3a80f83d05a8c1529",
       "style": "IPY_MODEL_1dda684c72eb40e6bb0abf2e660598aa",
       "value": true
      }
     },
     "b6fa2b155195492385ac95110744b17f": {
      "model_module": "@jupyter-widgets/base",
      "model_module_version": "1.2.0",
      "model_name": "LayoutModel",
      "state": {}
     },
     "b7281943a91e4542adb0ff19ff68ca38": {
      "model_module": "@jupyter-widgets/base",
      "model_module_version": "1.2.0",
      "model_name": "LayoutModel",
      "state": {}
     },
     "b758782ddc04468391e288f4a7cee79f": {
      "model_module": "@jupyter-widgets/controls",
      "model_module_version": "1.5.0",
      "model_name": "DescriptionStyleModel",
      "state": {
       "description_width": ""
      }
     },
     "b7b433e62aca439aaf1491741ac2948a": {
      "model_module": "@jupyter-widgets/controls",
      "model_module_version": "1.5.0",
      "model_name": "ButtonModel",
      "state": {
       "description": "Add",
       "layout": "IPY_MODEL_a28d01b0c4fc44ad9d67267dacc67e43",
       "style": "IPY_MODEL_74dcd29bc5db4b25b9a042b22b59beda"
      }
     },
     "b8933232726f44d098b38ef923663fb0": {
      "model_module": "@jupyter-widgets/base",
      "model_module_version": "1.2.0",
      "model_name": "LayoutModel",
      "state": {}
     },
     "b8ae8d533f914f279b7fe150abc591e1": {
      "model_module": "@jupyter-widgets/controls",
      "model_module_version": "1.5.0",
      "model_name": "HBoxModel",
      "state": {
       "children": [
        "IPY_MODEL_8b30ba3e9562432f854d68162ded88e4",
        "IPY_MODEL_a78b69037c2d4d6eaf72249362631a5a",
        "IPY_MODEL_bfc07f2027dc4c09a3916b3ad247556d"
       ],
       "layout": "IPY_MODEL_e5004bd208df40afaf8b942bf1d2a495"
      }
     },
     "b8c7eea65f4147aa82e003593a0dffa8": {
      "model_module": "@jupyter-widgets/controls",
      "model_module_version": "1.5.0",
      "model_name": "BoundedIntTextModel",
      "state": {
       "description": "index",
       "layout": "IPY_MODEL_0894cd8b9bda44689d7d9b623d78cb20",
       "style": "IPY_MODEL_2826ea0fc3b24a33af2820918a975d56",
       "value": 1
      }
     },
     "b9d5d2eef8f343e58ea0f4d90bf37f4e": {
      "model_module": "@jupyter-widgets/base",
      "model_module_version": "1.2.0",
      "model_name": "LayoutModel",
      "state": {
       "margin": "20px 0px"
      }
     },
     "b9e9bed189f24452aa0fe2813213a1d6": {
      "model_module": "@jupyter-widgets/controls",
      "model_module_version": "1.5.0",
      "model_name": "DropdownModel",
      "state": {
       "_options_labels": [
        "TROPISM",
        "MAX_ORDER",
        "ELASTICITY"
       ],
       "index": 0,
       "layout": "IPY_MODEL_61b22e93437249b596e78e085bf49c4c",
       "style": "IPY_MODEL_3dee9f22e6f8484b8cfdd3f6c4d86fd6"
      }
     },
     "ba27e4db716e457fa8f4df0ea8daaa25": {
      "model_module": "@jupyter-widgets/base",
      "model_module_version": "1.2.0",
      "model_name": "LayoutModel",
      "state": {
       "flex_flow": "row wrap"
      }
     },
     "ba4282ac80a8465c8ffeaa4119f0b791": {
      "model_module": "@jupyter-widgets/base",
      "model_module_version": "1.2.0",
      "model_name": "LayoutModel",
      "state": {}
     },
     "ba665a8086b74d7b90e68e5b658f87c5": {
      "model_module": "@jupyter-widgets/controls",
      "model_module_version": "1.5.0",
      "model_name": "DropdownModel",
      "state": {
       "_options_labels": [
        "NurbsCurve2D",
        "BezierCurve2D",
        "Polyline2D",
        "Function"
       ],
       "index": 0,
       "layout": "IPY_MODEL_bdc817312b774414b8c0c9340b44f0a9",
       "style": "IPY_MODEL_3dd689b3f6f7496a902ae5c9332a5dc2"
      }
     },
     "ba80ebc4b9684f9e9188eb7d16bb58d0": {
      "model_module": "@jupyter-widgets/base",
      "model_module_version": "1.2.0",
      "model_name": "LayoutModel",
      "state": {}
     },
     "baf6aebc0e184950a9188c143169f1d1": {
      "model_module": "@jupyter-widgets/controls",
      "model_module_version": "1.5.0",
      "model_name": "DescriptionStyleModel",
      "state": {
       "description_width": ""
      }
     },
     "bb2552f8574741c7a49c59b12f8b673b": {
      "model_module": "@jupyter-widgets/base",
      "model_module_version": "1.2.0",
      "model_name": "LayoutModel",
      "state": {
       "flex_flow": "row wrap"
      }
     },
     "bb682d190c62442a85a2286b855649e7": {
      "model_module": "@jupyter-widgets/base",
      "model_module_version": "1.2.0",
      "model_name": "LayoutModel",
      "state": {}
     },
     "bb984e601c75415980c6ecb445382a07": {
      "model_module": "@jupyter-widgets/controls",
      "model_module_version": "1.5.0",
      "model_name": "ButtonStyleModel",
      "state": {}
     },
     "bbbe21ec9fbd471ea10ceccbae5ee5ed": {
      "model_module": "@jupyter-widgets/controls",
      "model_module_version": "1.5.0",
      "model_name": "ColorPickerModel",
      "state": {
       "description": "emission",
       "disabled": false,
       "layout": "IPY_MODEL_f3bf1b4a2963428ebbca06cf5ddfd91c",
       "style": "IPY_MODEL_d1ad281dae1e403caaaf379ce9cf3b10",
       "value": "#000000"
      }
     },
     "bc1ced78426047e8924a9b26999d51e7": {
      "model_module": "@jupyter-widgets/controls",
      "model_module_version": "1.5.0",
      "model_name": "DescriptionStyleModel",
      "state": {
       "description_width": ""
      }
     },
     "bc7eff0425204e3f9d315b86602a2de8": {
      "model_module": "pgljupyter",
      "model_module_version": "^0.1.21",
      "model_name": "_CurveEditorModel",
      "state": {
       "_model_module_version": "^0.1.21",
       "_view_module_version": "^0.1.21",
       "layout": "IPY_MODEL_325a27716a904a9c837068592fad10f1",
       "points": [
        [
         -0.558642,
         0.0459491
        ],
        [
         -0.272827,
         -0.068981
        ],
        [
         -0.0295213,
         -0.153395
        ],
        [
         0.147239,
         -0.0700503
        ],
        [
         0.412901,
         0.0201295
        ],
        [
         0.575777,
         0.232735
        ]
       ],
       "type": "NurbsCurve2D"
      }
     },
     "bcf7ddd2358f456fa5e1d1d0a44cb2c5": {
      "model_module": "@jupyter-widgets/base",
      "model_module_version": "1.2.0",
      "model_name": "LayoutModel",
      "state": {}
     },
     "bd999b3068634424b7dc5ce735e4c9dc": {
      "model_module": "@jupyter-widgets/controls",
      "model_module_version": "1.5.0",
      "model_name": "SliderStyleModel",
      "state": {
       "description_width": ""
      }
     },
     "bdc817312b774414b8c0c9340b44f0a9": {
      "model_module": "@jupyter-widgets/base",
      "model_module_version": "1.2.0",
      "model_name": "LayoutModel",
      "state": {}
     },
     "bde94341e2b244f7adc5c61fd6a9da5d": {
      "model_module": "pgljupyter",
      "model_module_version": "^0.1.21",
      "model_name": "MaterialEditorModel",
      "state": {
       "_model_module_version": "^0.1.21",
       "_view_module_version": "^0.1.21",
       "children": [
        "IPY_MODEL_2fc3a2f69a004f84a3fec6fe0c8f9ae2",
        "IPY_MODEL_940b0212975247588c0f40db242088b2",
        "IPY_MODEL_fd3f2191c7d847ea813c9d6093fe0909",
        "IPY_MODEL_defcd7a3164d4793b0217adadf5d0523",
        "IPY_MODEL_3af2800fff5f44ce8348548162068adf",
        "IPY_MODEL_f577fe7debdf4a5f9a54316c298130bd",
        "IPY_MODEL_2c84d466ec9e4e0b9a9b9064bf05460b",
        "IPY_MODEL_49562e8829b146468759da6ba5a4c982"
       ],
       "layout": "IPY_MODEL_b57c8d3dfade4ce78f31878fcc562d1d"
      }
     },
     "be56426ccb6344ff8e0b6fb4af710f7c": {
      "model_module": "@jupyter-widgets/base",
      "model_module_version": "1.2.0",
      "model_name": "LayoutModel",
      "state": {}
     },
     "be7de77b43fe490d9846f7b568e42938": {
      "model_module": "@jupyter-widgets/controls",
      "model_module_version": "1.5.0",
      "model_name": "DescriptionStyleModel",
      "state": {
       "description_width": ""
      }
     },
     "be9a9d9388464ab8992f11d3506694c9": {
      "model_module": "@jupyter-widgets/base",
      "model_module_version": "1.2.0",
      "model_name": "LayoutModel",
      "state": {}
     },
     "bee723fe1e244db7be50b6607b598430": {
      "model_module": "@jupyter-widgets/controls",
      "model_module_version": "1.5.0",
      "model_name": "TextModel",
      "state": {
       "continuous_update": false,
       "description": "name",
       "layout": "IPY_MODEL_4193579f139d4f07abc7e23624955819",
       "style": "IPY_MODEL_b1e75a1a8cec49cc80a7201ec721287e",
       "value": "branchpath"
      }
     },
     "befe28f1d74c43a9b5cb7da64d1ace96": {
      "model_module": "@jupyter-widgets/controls",
      "model_module_version": "1.5.0",
      "model_name": "ButtonStyleModel",
      "state": {}
     },
     "bf7d79a5a0c04176811c2309150d2e37": {
      "model_module": "@jupyter-widgets/controls",
      "model_module_version": "1.5.0",
      "model_name": "SliderStyleModel",
      "state": {
       "description_width": ""
      }
     },
     "bf97c8825eac410d8cd335abc181bc89": {
      "model_module": "@jupyter-widgets/base",
      "model_module_version": "1.2.0",
      "model_name": "LayoutModel",
      "state": {}
     },
     "bfc07f2027dc4c09a3916b3ad247556d": {
      "model_module": "pgljupyter",
      "model_module_version": "^0.1.21",
      "model_name": "FloatEditorModel",
      "state": {
       "_model_module_version": "^0.1.21",
       "_view_module_version": "^0.1.21",
       "children": [
        "IPY_MODEL_72ebc0e94e3c45f1ad8e175f1b2c3ad5",
        "IPY_MODEL_72c10c02bfec4cf587be41d9917a7df8"
       ],
       "layout": "IPY_MODEL_732d31fe92ce41a5a681285173504e43"
      }
     },
     "bfd7c9bb017a4623b4ce88e82a56eaf7": {
      "model_module": "@jupyter-widgets/controls",
      "model_module_version": "1.5.0",
      "model_name": "HBoxModel",
      "state": {
       "children": [
        "IPY_MODEL_802705a68636441999d567a038a3ea08",
        "IPY_MODEL_6eedd4f396924147b4ea127b9cae1b26"
       ],
       "layout": "IPY_MODEL_27cf6e0f2a834171ab8fecbec2202215"
      }
     },
     "c01c7884c26a47c09fd0de1ac369c87b": {
      "model_module": "@jupyter-widgets/base",
      "model_module_version": "1.2.0",
      "model_name": "LayoutModel",
      "state": {}
     },
     "c01ece367f4d45af868cfaa6715adce1": {
      "model_module": "pgljupyter",
      "model_module_version": "^0.1.21",
      "model_name": "IntEditorModel",
      "state": {
       "_model_module_version": "^0.1.21",
       "_view_module_version": "^0.1.21",
       "children": [
        "IPY_MODEL_0d38d2b98435497a8cc28b6177ca2ec0",
        "IPY_MODEL_65386155d4144622b1c9b89460a281c5"
       ],
       "layout": "IPY_MODEL_b9d5d2eef8f343e58ea0f4d90bf37f4e"
      }
     },
     "c04d5218edb44addb223f83bee45d6d7": {
      "model_module": "@jupyter-widgets/controls",
      "model_module_version": "1.5.0",
      "model_name": "ButtonModel",
      "state": {
       "description": "Delete",
       "layout": "IPY_MODEL_033f0c9124a4415e824ee2fd71f63d92",
       "style": "IPY_MODEL_f590fcb9a43b45ffb5f24fd8938cd8f3"
      }
     },
     "c08a86682f2b40beb8d3728dc9d13dbc": {
      "model_module": "@jupyter-widgets/base",
      "model_module_version": "1.2.0",
      "model_name": "LayoutModel",
      "state": {}
     },
     "c0aa368364e049babe0826d0bc5d95cb": {
      "model_module": "pgljupyter",
      "model_module_version": "^0.1.21",
      "model_name": "MaterialEditorModel",
      "state": {
       "_model_module_version": "^0.1.21",
       "_view_module_version": "^0.1.21",
       "children": [
        "IPY_MODEL_47981f1163394cb1ace1256a2ce8efe5",
        "IPY_MODEL_85d1689eadf34d0290592e9bbd4a2fe8",
        "IPY_MODEL_b43fbb5cd368418497c0710ebc9b044f",
        "IPY_MODEL_4d06d6f9a0ee4bb1a3e8ee23e0d53789",
        "IPY_MODEL_cdcc07450ee04e09a7bb00d9f1ecf2b0",
        "IPY_MODEL_26b8e33eb0c845efb71f625213c6e163",
        "IPY_MODEL_2023c735c9a14800b5aef9235f9533de",
        "IPY_MODEL_1faef8002c624dc5be3a6a6987e472ba"
       ],
       "layout": "IPY_MODEL_873dbe169f0f4cd9af340438922dd5e8"
      }
     },
     "c1a0df65407c4dd8afa4d419231aaed0": {
      "model_module": "@jupyter-widgets/base",
      "model_module_version": "1.2.0",
      "model_name": "LayoutModel",
      "state": {}
     },
     "c1b9e9dcf0504fa1ac28f46dc859cb1c": {
      "model_module": "@jupyter-widgets/base",
      "model_module_version": "1.2.0",
      "model_name": "LayoutModel",
      "state": {
       "margin": "20px 0px"
      }
     },
     "c1cf9fc3604f4447accee82497d132d3": {
      "model_module": "@jupyter-widgets/controls",
      "model_module_version": "1.5.0",
      "model_name": "DescriptionStyleModel",
      "state": {
       "description_width": ""
      }
     },
     "c1dd522d358445db856e41d701e13b22": {
      "model_module": "@jupyter-widgets/controls",
      "model_module_version": "1.5.0",
      "model_name": "HBoxModel",
      "state": {
       "children": [
        "IPY_MODEL_336429c4fa1c470290c034fb1f4fa283",
        "IPY_MODEL_adf3f86f7b5549e6ac347a1aa2654e44"
       ],
       "layout": "IPY_MODEL_a00db5fe86614e5fb2df924fcd2afe74"
      }
     },
     "c30c3c4ad16941188ef5ff6b1ee8decb": {
      "model_module": "@jupyter-widgets/base",
      "model_module_version": "1.2.0",
      "model_name": "LayoutModel",
      "state": {}
     },
     "c31165549b004389ac3386cee3a1c108": {
      "model_module": "@jupyter-widgets/base",
      "model_module_version": "1.2.0",
      "model_name": "LayoutModel",
      "state": {}
     },
     "c311d85bb5584c77a6b3ee025b253268": {
      "model_module": "@jupyter-widgets/controls",
      "model_module_version": "1.5.0",
      "model_name": "HBoxModel",
      "state": {
       "children": [
        "IPY_MODEL_5a51e56c98e441fc969c890c2deb2573",
        "IPY_MODEL_ba665a8086b74d7b90e68e5b658f87c5"
       ],
       "layout": "IPY_MODEL_26351207ccc04b1e99208561e9e6d848"
      }
     },
     "c37b5c79540442d5b8fd604613543e69": {
      "model_module": "@jupyter-widgets/base",
      "model_module_version": "1.2.0",
      "model_name": "LayoutModel",
      "state": {}
     },
     "c497737c28114b0ba8892f2db51b6280": {
      "model_module": "@jupyter-widgets/base",
      "model_module_version": "1.2.0",
      "model_name": "LayoutModel",
      "state": {}
     },
     "c4c63ae5ef2f41d19610187fd678dee4": {
      "model_module": "@jupyter-widgets/base",
      "model_module_version": "1.2.0",
      "model_name": "LayoutModel",
      "state": {}
     },
     "c4f91ff9d0444e62ba28d1a54f918df2": {
      "model_module": "@jupyter-widgets/base",
      "model_module_version": "1.2.0",
      "model_name": "LayoutModel",
      "state": {}
     },
     "c51412c281a14dfd8d7dbbf4de92318e": {
      "model_module": "@jupyter-widgets/controls",
      "model_module_version": "1.5.0",
      "model_name": "DescriptionStyleModel",
      "state": {
       "description_width": ""
      }
     },
     "c5bc2680f88f4dc1aa439de3414aa1cc": {
      "model_module": "@jupyter-widgets/controls",
      "model_module_version": "1.5.0",
      "model_name": "SliderStyleModel",
      "state": {
       "description_width": ""
      }
     },
     "c61af3238ad04f09ac9b4744028091bb": {
      "model_module": "@jupyter-widgets/controls",
      "model_module_version": "1.5.0",
      "model_name": "ButtonStyleModel",
      "state": {}
     },
     "c659467ca8474463b24d4b48ebe15ede": {
      "model_module": "@jupyter-widgets/base",
      "model_module_version": "1.2.0",
      "model_name": "LayoutModel",
      "state": {}
     },
     "c6762f7e2f5e4769affcb3a14dde14db": {
      "model_module": "@jupyter-widgets/controls",
      "model_module_version": "1.5.0",
      "model_name": "HBoxModel",
      "state": {
       "children": [
        "IPY_MODEL_b3f8eeafc7264b9691b9c61422107538",
        "IPY_MODEL_5ff27686f3dd4453be936d540a08e963"
       ],
       "layout": "IPY_MODEL_f14042a43258424897bc4a4b36a6c8aa"
      }
     },
     "c6fccfb0b5cf4bec9d392bad8b7b0911": {
      "model_module": "@jupyter-widgets/base",
      "model_module_version": "1.2.0",
      "model_name": "LayoutModel",
      "state": {}
     },
     "c7288c977d9d43b9869ca24468a5f148": {
      "model_module": "@jupyter-widgets/controls",
      "model_module_version": "1.5.0",
      "model_name": "ButtonStyleModel",
      "state": {}
     },
     "c733e9baf9bd4136beb1d267ae3c83d7": {
      "model_module": "@jupyter-widgets/base",
      "model_module_version": "1.2.0",
      "model_name": "LayoutModel",
      "state": {}
     },
     "c80d3e32416b4cd2bec222a77a129f35": {
      "model_module": "@jupyter-widgets/controls",
      "model_module_version": "1.5.0",
      "model_name": "DescriptionStyleModel",
      "state": {
       "description_width": ""
      }
     },
     "c886babe31664a4aba11cbb6f8e43dc9": {
      "model_module": "@jupyter-widgets/base",
      "model_module_version": "1.2.0",
      "model_name": "LayoutModel",
      "state": {}
     },
     "c9285019e9744f69805c6c522db32f6a": {
      "model_module": "@jupyter-widgets/base",
      "model_module_version": "1.2.0",
      "model_name": "LayoutModel",
      "state": {}
     },
     "c94c6ee440004ee7bd816e0313fddd84": {
      "model_module": "@jupyter-widgets/base",
      "model_module_version": "1.2.0",
      "model_name": "LayoutModel",
      "state": {}
     },
     "c98f037cabca4fd384e75d2bcf89a595": {
      "model_module": "@jupyter-widgets/controls",
      "model_module_version": "1.5.0",
      "model_name": "TabModel",
      "state": {
       "layout": "IPY_MODEL_c9285019e9744f69805c6c522db32f6a"
      }
     },
     "c99bf702bce24468934142bad64abdc9": {
      "model_module": "@jupyter-widgets/controls",
      "model_module_version": "1.5.0",
      "model_name": "ButtonStyleModel",
      "state": {}
     },
     "c9c1a0dbd1694baabad322fff2deeef7": {
      "model_module": "@jupyter-widgets/controls",
      "model_module_version": "1.5.0",
      "model_name": "TextModel",
      "state": {
       "continuous_update": false,
       "description": "name",
       "layout": "IPY_MODEL_5610e7f034d94704ba2e8c04adbd7545",
       "style": "IPY_MODEL_7f4f5d860d50463bbdbb6b880a1d6e9d",
       "value": "Color_1"
      }
     },
     "c9f07e2dc80644d19070b19a6762aeec": {
      "model_module": "@jupyter-widgets/controls",
      "model_module_version": "1.5.0",
      "model_name": "ButtonModel",
      "state": {
       "description": "Add",
       "layout": "IPY_MODEL_080c4b3ab21644989e4521f1d24c12fb",
       "style": "IPY_MODEL_9091b4a603e040de95ce2d707bd1a446"
      }
     },
     "ca9150c211a44d7b874e5fb80c9f8283": {
      "model_module": "@jupyter-widgets/controls",
      "model_module_version": "1.5.0",
      "model_name": "SliderStyleModel",
      "state": {
       "description_width": ""
      }
     },
     "ca9ea0c1feef42cea984cb29a52d291a": {
      "model_module": "@jupyter-widgets/base",
      "model_module_version": "1.2.0",
      "model_name": "LayoutModel",
      "state": {}
     },
     "cad90b17def2410d89adefe2c0dc628d": {
      "model_module": "@jupyter-widgets/controls",
      "model_module_version": "1.5.0",
      "model_name": "ButtonStyleModel",
      "state": {}
     },
     "cb6cebcdf562402ca9d3372b38365f6c": {
      "model_module": "@jupyter-widgets/base",
      "model_module_version": "1.2.0",
      "model_name": "LayoutModel",
      "state": {
       "margin": "20px 0px"
      }
     },
     "cbd4159e1bb646cb8628f43af8b88ba3": {
      "model_module": "@jupyter-widgets/base",
      "model_module_version": "1.2.0",
      "model_name": "LayoutModel",
      "state": {}
     },
     "cc189ee9107b4a9082f88d8031c06636": {
      "model_module": "@jupyter-widgets/controls",
      "model_module_version": "1.5.0",
      "model_name": "DescriptionStyleModel",
      "state": {
       "description_width": ""
      }
     },
     "cc1c1d747bf540eeb3213829f5a0b8c9": {
      "model_module": "@jupyter-widgets/controls",
      "model_module_version": "1.5.0",
      "model_name": "ButtonModel",
      "state": {
       "description": "Apply changes",
       "disabled": true,
       "layout": "IPY_MODEL_51a83219bc37415ea753572793d99c2c",
       "style": "IPY_MODEL_55fa95442a5042218c970ddd7ca55fc7"
      }
     },
     "cc5ab0b795be494b93f0031f6cb4ca1d": {
      "model_module": "@jupyter-widgets/base",
      "model_module_version": "1.2.0",
      "model_name": "LayoutModel",
      "state": {}
     },
     "cc9d077f8166440e8f4fa1fef8dc9e35": {
      "model_module": "@jupyter-widgets/controls",
      "model_module_version": "1.5.0",
      "model_name": "CheckboxModel",
      "state": {
       "description": "Auto apply",
       "disabled": false,
       "layout": "IPY_MODEL_f80feb96f3de4987b49523d4986609a8",
       "style": "IPY_MODEL_6a5a45fc59dc4939a40a2dc6242a11dd",
       "value": true
      }
     },
     "cd2b788b077e4edabf67087600e8e89a": {
      "model_module": "@jupyter-widgets/base",
      "model_module_version": "1.2.0",
      "model_name": "LayoutModel",
      "state": {}
     },
     "cd855b46f07544a79f8e302c75997469": {
      "model_module": "@jupyter-widgets/base",
      "model_module_version": "1.2.0",
      "model_name": "LayoutModel",
      "state": {
       "flex_flow": "row wrap",
       "margin": "20px"
      }
     },
     "cdcc07450ee04e09a7bb00d9f1ecf2b0": {
      "model_module": "@jupyter-widgets/controls",
      "model_module_version": "1.5.0",
      "model_name": "ColorPickerModel",
      "state": {
       "description": "emission",
       "disabled": false,
       "layout": "IPY_MODEL_129e2eb21ed24e32a5fde554366d837e",
       "style": "IPY_MODEL_581b692011af43499fa854754d6b41f5",
       "value": "#000000"
      }
     },
     "cdda334df2e849cabc1e77404ef92f02": {
      "model_module": "@jupyter-widgets/base",
      "model_module_version": "1.2.0",
      "model_name": "LayoutModel",
      "state": {}
     },
     "ce558f017ccf4ced947945ff5c2528bf": {
      "model_module": "@jupyter-widgets/controls",
      "model_module_version": "1.5.0",
      "model_name": "ButtonStyleModel",
      "state": {}
     },
     "ce695f4d81194c87a8d6062efb3c95eb": {
      "model_module": "@jupyter-widgets/controls",
      "model_module_version": "1.5.0",
      "model_name": "IntSliderModel",
      "state": {
       "description": "value",
       "layout": "IPY_MODEL_460f2f4f4a1e41e8b791d608f130f3df",
       "max": 5,
       "style": "IPY_MODEL_8075cc95e3074a63bf7a8aad101aa50d",
       "value": 5
      }
     },
     "cee8f15541554dbda655e63e1e7f67c7": {
      "model_module": "@jupyter-widgets/base",
      "model_module_version": "1.2.0",
      "model_name": "LayoutModel",
      "state": {}
     },
     "ceed11f3656b4fcb9fcb12185ed87d3a": {
      "model_module": "@jupyter-widgets/controls",
      "model_module_version": "1.5.0",
      "model_name": "HBoxModel",
      "state": {
       "children": [
        "IPY_MODEL_d4df2b376061417b81dc18d9565e373f",
        "IPY_MODEL_8882ba1b9f03447d9655cd176ea8da86"
       ],
       "layout": "IPY_MODEL_110d6c6b6bbf419c8cdce2cd363f9b0d"
      }
     },
     "cf1b5555f2114c909ed3d5b7b42d37ee": {
      "model_module": "@jupyter-widgets/controls",
      "model_module_version": "1.5.0",
      "model_name": "TextModel",
      "state": {
       "layout": "IPY_MODEL_c659467ca8474463b24d4b48ebe15ede",
       "placeholder": "category name",
       "style": "IPY_MODEL_4a3bf574b869478f9b74549cacb4349f"
      }
     },
     "cffef572f05b40ababa9d74729c0810c": {
      "model_module": "@jupyter-widgets/controls",
      "model_module_version": "1.5.0",
      "model_name": "ButtonModel",
      "state": {
       "description": "Add category",
       "layout": "IPY_MODEL_7d23ce5e2d0146faac859cd504ea79b4",
       "style": "IPY_MODEL_f26b015d45124033bac6ec40825a322e"
      }
     },
     "d01215196be14d91a838979e0c0f0111": {
      "model_module": "@jupyter-widgets/controls",
      "model_module_version": "1.5.0",
      "model_name": "ButtonModel",
      "state": {
       "description": "Add",
       "layout": "IPY_MODEL_7d7906f24ec447fcb47d4219159b45cd",
       "style": "IPY_MODEL_c7288c977d9d43b9869ca24468a5f148"
      }
     },
     "d05162a9a20c47bb8904fc5f3ee151e2": {
      "model_module": "@jupyter-widgets/controls",
      "model_module_version": "1.5.0",
      "model_name": "DescriptionStyleModel",
      "state": {
       "description_width": ""
      }
     },
     "d0677c8d38c0410bb3ad94f918beb6c9": {
      "model_module": "@jupyter-widgets/controls",
      "model_module_version": "1.5.0",
      "model_name": "FloatSliderModel",
      "state": {
       "description": "shininess",
       "layout": "IPY_MODEL_21021bf3d2f54e5fab288f1740d736a2",
       "max": 1,
       "step": 0.1,
       "style": "IPY_MODEL_a23a44a3e71242ca9cfbd0ebd4838598"
      }
     },
     "d06f52e55af44c93b52b68dc9e7ee3d8": {
      "model_module": "@jupyter-widgets/controls",
      "model_module_version": "1.5.0",
      "model_name": "HBoxModel",
      "state": {
       "children": [
        "IPY_MODEL_feda75a8c5d74fd88e91d48fc734d21a"
       ],
       "layout": "IPY_MODEL_f14042a43258424897bc4a4b36a6c8aa"
      }
     },
     "d1201fdbe2b54fe19a11c81f22ecce94": {
      "model_module": "@jupyter-widgets/base",
      "model_module_version": "1.2.0",
      "model_name": "LayoutModel",
      "state": {}
     },
     "d120fb79eae74ec8b8a4c8afedcebf3d": {
      "model_module": "@jupyter-widgets/controls",
      "model_module_version": "1.5.0",
      "model_name": "ButtonStyleModel",
      "state": {}
     },
     "d1ad281dae1e403caaaf379ce9cf3b10": {
      "model_module": "@jupyter-widgets/controls",
      "model_module_version": "1.5.0",
      "model_name": "DescriptionStyleModel",
      "state": {
       "description_width": ""
      }
     },
     "d361917315bc4a419fe533177c7c69b5": {
      "model_module": "@jupyter-widgets/controls",
      "model_module_version": "1.5.0",
      "model_name": "SliderStyleModel",
      "state": {
       "description_width": ""
      }
     },
     "d3ca467db4d24b5fa0e6409bd522fe12": {
      "model_module": "@jupyter-widgets/controls",
      "model_module_version": "1.5.0",
      "model_name": "DescriptionStyleModel",
      "state": {
       "description_width": ""
      }
     },
     "d4a6463f00c5469ea395a8518423edea": {
      "model_module": "@jupyter-widgets/base",
      "model_module_version": "1.2.0",
      "model_name": "LayoutModel",
      "state": {}
     },
     "d4df2b376061417b81dc18d9565e373f": {
      "model_module": "@jupyter-widgets/controls",
      "model_module_version": "1.5.0",
      "model_name": "ButtonModel",
      "state": {
       "description": "Add",
       "layout": "IPY_MODEL_2f3fcc38231f43b09f0d027ad4be58fd",
       "style": "IPY_MODEL_28655b3c54ed4533894b46df8cf7f95d"
      }
     },
     "d4e032bf72184f7fb7f7bc813304447e": {
      "model_module": "@jupyter-widgets/controls",
      "model_module_version": "1.5.0",
      "model_name": "DescriptionStyleModel",
      "state": {
       "description_width": ""
      }
     },
     "d4fb3e0c479747d09935c8859c9ffd34": {
      "model_module": "@jupyter-widgets/base",
      "model_module_version": "1.2.0",
      "model_name": "LayoutModel",
      "state": {
       "flex_flow": "row wrap",
       "margin": "20px"
      }
     },
     "d560540ee4fd45659cef30ba2e9cdb0d": {
      "model_module": "@jupyter-widgets/base",
      "model_module_version": "1.2.0",
      "model_name": "LayoutModel",
      "state": {}
     },
     "d5aaa5dcd7ac46158ad2141e9a9a358c": {
      "model_module": "@jupyter-widgets/base",
      "model_module_version": "1.2.0",
      "model_name": "LayoutModel",
      "state": {
       "flex_flow": "row wrap",
       "margin": "20px"
      }
     },
     "d5baf7e6ad5244b5b86b464d3f4ed8ee": {
      "model_module": "@jupyter-widgets/controls",
      "model_module_version": "1.5.0",
      "model_name": "SliderStyleModel",
      "state": {
       "description_width": ""
      }
     },
     "d736b6172eff479fb633e33033979799": {
      "model_module": "@jupyter-widgets/base",
      "model_module_version": "1.2.0",
      "model_name": "LayoutModel",
      "state": {
       "margin": "20px 0px"
      }
     },
     "d834a5655fec475495beb71af7ae8836": {
      "model_module": "@jupyter-widgets/base",
      "model_module_version": "1.2.0",
      "model_name": "LayoutModel",
      "state": {
       "margin": "20px 0px"
      }
     },
     "d85b4681883446e583f10e7caa8ceaf1": {
      "model_module": "@jupyter-widgets/controls",
      "model_module_version": "1.5.0",
      "model_name": "DropdownModel",
      "state": {
       "_options_labels": [
        "MAX_ORDER",
        "TROPISM",
        "ELASTICITY"
       ],
       "index": 0,
       "layout": "IPY_MODEL_c4f91ff9d0444e62ba28d1a54f918df2",
       "style": "IPY_MODEL_e8e5c37aca0f4808a71da2797fbbe864"
      }
     },
     "d862c4b0921b4f5c977cf00077b9254e": {
      "model_module": "@jupyter-widgets/base",
      "model_module_version": "1.2.0",
      "model_name": "LayoutModel",
      "state": {}
     },
     "d879bb541e74463e8d75b195a2d4d6be": {
      "model_module": "@jupyter-widgets/base",
      "model_module_version": "1.2.0",
      "model_name": "LayoutModel",
      "state": {}
     },
     "d87d857bbb9e412d98d39dbf1e5433d5": {
      "model_module": "@jupyter-widgets/base",
      "model_module_version": "1.2.0",
      "model_name": "LayoutModel",
      "state": {}
     },
     "d9197e03b2934724bc87a5795973fb53": {
      "model_module": "@jupyter-widgets/controls",
      "model_module_version": "1.5.0",
      "model_name": "ButtonModel",
      "state": {
       "description": "Add",
       "layout": "IPY_MODEL_7780a741df9c495085cbb38f3e27e6f8",
       "style": "IPY_MODEL_596f5d6bac894f469ed914db51819a37"
      }
     },
     "d91fbbbf231e4a3ca81879357821d963": {
      "model_module": "@jupyter-widgets/controls",
      "model_module_version": "1.5.0",
      "model_name": "SliderStyleModel",
      "state": {
       "description_width": ""
      }
     },
     "d923f9eea9964df4bad06ef39e2863f0": {
      "model_module": "@jupyter-widgets/base",
      "model_module_version": "1.2.0",
      "model_name": "LayoutModel",
      "state": {}
     },
     "d9d66b50dab64bf48a31fd7bea0f7e53": {
      "model_module": "@jupyter-widgets/controls",
      "model_module_version": "1.5.0",
      "model_name": "ButtonModel",
      "state": {
       "description": "Add",
       "layout": "IPY_MODEL_708b42c80adf447d9f7d0e3efd99eef4",
       "style": "IPY_MODEL_a0a6cf9729d14b46872bd6838dd72436"
      }
     },
     "da093de8a25a4567a50b01b91f060c7f": {
      "model_module": "@jupyter-widgets/controls",
      "model_module_version": "1.5.0",
      "model_name": "DropdownModel",
      "state": {
       "_options_labels": [
        "TROPISM",
        "MAX_ORDER",
        "ELASTICITY"
       ],
       "index": 0,
       "layout": "IPY_MODEL_c886babe31664a4aba11cbb6f8e43dc9",
       "style": "IPY_MODEL_1193d13ede334bacae589458b04be382"
      }
     },
     "da4afbe30a284ce0a4146f4ffd5b1cb7": {
      "model_module": "@jupyter-widgets/controls",
      "model_module_version": "1.5.0",
      "model_name": "DropdownModel",
      "state": {
       "_options_labels": [
        "Integer",
        "Float",
        "Bool"
       ],
       "index": 0,
       "layout": "IPY_MODEL_febbce60030f41b28f97991836556470",
       "style": "IPY_MODEL_16bbbfb45afb429d86fd1d6e25585809"
      }
     },
     "da57e6532e4b4fb3ab253463a87d2d9d": {
      "model_module": "@jupyter-widgets/base",
      "model_module_version": "1.2.0",
      "model_name": "LayoutModel",
      "state": {}
     },
     "da603aeeb56b4cdc95dbe3c3f5280472": {
      "model_module": "@jupyter-widgets/controls",
      "model_module_version": "1.5.0",
      "model_name": "ButtonModel",
      "state": {
       "description": "Delete",
       "layout": "IPY_MODEL_44cbdd7cba89452d9dab5e72cada996b",
       "style": "IPY_MODEL_a8c58177aa954eaca1bb4c159c7a172a"
      }
     },
     "daf9fd5e136e48d595c90910d0b9af0c": {
      "model_module": "@jupyter-widgets/base",
      "model_module_version": "1.2.0",
      "model_name": "LayoutModel",
      "state": {}
     },
     "db1e5e3a1ff643d09d7ea839db538496": {
      "model_module": "@jupyter-widgets/base",
      "model_module_version": "1.2.0",
      "model_name": "LayoutModel",
      "state": {}
     },
     "db7657f7fbf2437492d0633e9aad484b": {
      "model_module": "@jupyter-widgets/base",
      "model_module_version": "1.2.0",
      "model_name": "LayoutModel",
      "state": {}
     },
     "dc5cd1e230df4319aa6da45afea29236": {
      "model_module": "@jupyter-widgets/controls",
      "model_module_version": "1.5.0",
      "model_name": "HBoxModel",
      "state": {
       "children": [
        "IPY_MODEL_cffef572f05b40ababa9d74729c0810c",
        "IPY_MODEL_1e4ad95d514b4be586ee6e82b47a17b6"
       ],
       "layout": "IPY_MODEL_a8b343b29d2e4213a4ad7a6795fee5da"
      }
     },
     "dd9ddaee2ea64ed4b4da1453f237f415": {
      "model_module": "@jupyter-widgets/controls",
      "model_module_version": "1.5.0",
      "model_name": "DescriptionStyleModel",
      "state": {
       "description_width": ""
      }
     },
     "de03e8d920c8432c8111ec579e792386": {
      "model_module": "@jupyter-widgets/controls",
      "model_module_version": "1.5.0",
      "model_name": "TextModel",
      "state": {
       "continuous_update": false,
       "description": "name",
       "layout": "IPY_MODEL_46f62ad23c0e4d63a5b60542a57024bc",
       "style": "IPY_MODEL_e65c53da81274ef7adbb7227696a076e",
       "value": "ELASTICITY"
      }
     },
     "de58bb1e72644bd6859d07bdaea560c3": {
      "model_module": "@jupyter-widgets/controls",
      "model_module_version": "1.5.0",
      "model_name": "ButtonModel",
      "state": {
       "description": "Delete category",
       "layout": "IPY_MODEL_db7657f7fbf2437492d0633e9aad484b",
       "style": "IPY_MODEL_7fe70e63e00d403ca38c6cb0a49a4530"
      }
     },
     "defcd7a3164d4793b0217adadf5d0523": {
      "model_module": "@jupyter-widgets/controls",
      "model_module_version": "1.5.0",
      "model_name": "ColorPickerModel",
      "state": {
       "description": "specular",
       "disabled": false,
       "layout": "IPY_MODEL_71fc2c4cf13b43b3a6a53b696d83512c",
       "style": "IPY_MODEL_921ade09dad84b0f99c220e8a89eada1",
       "value": "#000000"
      }
     },
     "df317ef900fb4063bdf0764d7dc57b85": {
      "model_module": "@jupyter-widgets/controls",
      "model_module_version": "1.5.0",
      "model_name": "DescriptionStyleModel",
      "state": {
       "description_width": ""
      }
     },
     "df407f531cea4acca3b863c2c239cd2f": {
      "model_module": "@jupyter-widgets/controls",
      "model_module_version": "1.5.0",
      "model_name": "SliderStyleModel",
      "state": {
       "description_width": ""
      }
     },
     "df5437ddc7bb4ee784935d7954943c30": {
      "model_module": "@jupyter-widgets/base",
      "model_module_version": "1.2.0",
      "model_name": "LayoutModel",
      "state": {}
     },
     "df573839bb8147debbf1fdeddd4c0c9f": {
      "model_module": "@jupyter-widgets/controls",
      "model_module_version": "1.5.0",
      "model_name": "DropdownModel",
      "state": {
       "_options_labels": [
        "Integer",
        "Float",
        "Bool"
       ],
       "index": 0,
       "layout": "IPY_MODEL_58a0672965bb47528707289594a20db3",
       "style": "IPY_MODEL_2e15683a64464f22a939c0ed81a40437"
      }
     },
     "dfb05271ced946cdab835680d43c453a": {
      "model_module": "@jupyter-widgets/controls",
      "model_module_version": "1.5.0",
      "model_name": "VBoxModel",
      "state": {
       "children": [
        "IPY_MODEL_6e36f3d7ad044e3ca2e0c6de9f3fb4c3",
        "IPY_MODEL_0b270990ed78498ea27ff3f0ab702303"
       ],
       "layout": "IPY_MODEL_557262efc90949f28bf0be7610e2bf48"
      }
     },
     "dfedb1e3692a4fbdb08edd0b03dca3d8": {
      "model_module": "@jupyter-widgets/controls",
      "model_module_version": "1.5.0",
      "model_name": "DropdownModel",
      "state": {
       "_options_labels": [
        "Color_1"
       ],
       "index": 0,
       "layout": "IPY_MODEL_b6fa2b155195492385ac95110744b17f",
       "style": "IPY_MODEL_340ad8ef05b840378817bba1e15e01b1"
      }
     },
     "e07f6d89c42f4200bd30973b55346855": {
      "model_module": "@jupyter-widgets/controls",
      "model_module_version": "1.5.0",
      "model_name": "VBoxModel",
      "state": {
       "children": [
        "IPY_MODEL_6e4d3d9121014f26891798d4daac77d5",
        "IPY_MODEL_2a9c6e497188424b9551fd52b840e61a"
       ],
       "layout": "IPY_MODEL_df5437ddc7bb4ee784935d7954943c30"
      }
     },
     "e0ca7195d2554be7bf068aee763463d7": {
      "model_module": "@jupyter-widgets/controls",
      "model_module_version": "1.5.0",
      "model_name": "TabModel",
      "state": {
       "layout": "IPY_MODEL_a2e35d65bdca4b66a2092b9300b6b568"
      }
     },
     "e0da72c851a34eecb3675503bb3109c9": {
      "model_module": "@jupyter-widgets/controls",
      "model_module_version": "1.5.0",
      "model_name": "DropdownModel",
      "state": {
       "_options_labels": [
        "NurbsCurve2D",
        "BezierCurve2D",
        "Polyline2D",
        "Function"
       ],
       "index": 0,
       "layout": "IPY_MODEL_94c98470021948fd84a33ec67b18864a",
       "style": "IPY_MODEL_fbb7ae3e0f774bce81081af69f8e402b"
      }
     },
     "e10f9d7eae81430e89fe0b7f8a71427d": {
      "model_module": "@jupyter-widgets/controls",
      "model_module_version": "1.5.0",
      "model_name": "ButtonModel",
      "state": {
       "description": "Delete",
       "layout": "IPY_MODEL_979dd34d906a4bb1a38b2bc2dd5dd251",
       "style": "IPY_MODEL_c61af3238ad04f09ac9b4744028091bb"
      }
     },
     "e2a8d836cb4e469ab8091dfb252addb2": {
      "model_module": "@jupyter-widgets/controls",
      "model_module_version": "1.5.0",
      "model_name": "DescriptionStyleModel",
      "state": {
       "description_width": ""
      }
     },
     "e3882f426a284cbe894be4a8260dad90": {
      "model_module": "@jupyter-widgets/base",
      "model_module_version": "1.2.0",
      "model_name": "LayoutModel",
      "state": {}
     },
     "e4c69a9b06ae413db8e5f75f786a46d0": {
      "model_module": "@jupyter-widgets/controls",
      "model_module_version": "1.5.0",
      "model_name": "DropdownModel",
      "state": {
       "_options_labels": [
        "Color_1"
       ],
       "index": 0,
       "layout": "IPY_MODEL_c1a0df65407c4dd8afa4d419231aaed0",
       "style": "IPY_MODEL_202a2b77c6e3412698996fd251180db9"
      }
     },
     "e5004bd208df40afaf8b942bf1d2a495": {
      "model_module": "@jupyter-widgets/base",
      "model_module_version": "1.2.0",
      "model_name": "LayoutModel",
      "state": {
       "flex_flow": "row wrap",
       "margin": "20px"
      }
     },
     "e520ccfe0107438abae4ac1daa93f5ee": {
      "model_module": "@jupyter-widgets/controls",
      "model_module_version": "1.5.0",
      "model_name": "ColorPickerModel",
      "state": {
       "description": "ambient",
       "disabled": false,
       "layout": "IPY_MODEL_a2e8ccf019ea40c3bce161039b3ac380",
       "style": "IPY_MODEL_f6f254fe043249d7bcf3e0ba86ab6c58",
       "value": "#412d0f"
      }
     },
     "e63311418f9b43ab999072c54645c1b1": {
      "model_module": "@jupyter-widgets/base",
      "model_module_version": "1.2.0",
      "model_name": "LayoutModel",
      "state": {}
     },
     "e65164a46c534353800edbe678e3f38f": {
      "model_module": "@jupyter-widgets/base",
      "model_module_version": "1.2.0",
      "model_name": "LayoutModel",
      "state": {}
     },
     "e65751193a0d462cb2581531e3555d11": {
      "model_module": "@jupyter-widgets/controls",
      "model_module_version": "1.5.0",
      "model_name": "DescriptionStyleModel",
      "state": {
       "description_width": ""
      }
     },
     "e65ac23e4dde4ddd9511dfcea5a443d6": {
      "model_module": "@jupyter-widgets/base",
      "model_module_version": "1.2.0",
      "model_name": "LayoutModel",
      "state": {}
     },
     "e65c53da81274ef7adbb7227696a076e": {
      "model_module": "@jupyter-widgets/controls",
      "model_module_version": "1.5.0",
      "model_name": "DescriptionStyleModel",
      "state": {
       "description_width": ""
      }
     },
     "e7dcbdf4573444d9979a6080436ec3a0": {
      "model_module": "@jupyter-widgets/controls",
      "model_module_version": "1.5.0",
      "model_name": "FloatSliderModel",
      "state": {
       "description": "transparency",
       "layout": "IPY_MODEL_56033be03709438f869c7f43440be206",
       "max": 1,
       "step": 0.1,
       "style": "IPY_MODEL_ca9150c211a44d7b874e5fb80c9f8283"
      }
     },
     "e8162dd3ee444c63b8294a0c9b3596cb": {
      "model_module": "@jupyter-widgets/base",
      "model_module_version": "1.2.0",
      "model_name": "LayoutModel",
      "state": {}
     },
     "e865b22758a24f2f8f81300282c28db7": {
      "model_module": "@jupyter-widgets/controls",
      "model_module_version": "1.5.0",
      "model_name": "FloatSliderModel",
      "state": {
       "description": "value",
       "layout": "IPY_MODEL_f43facef11b8493fac009ef2c9e3aef4",
       "max": 3,
       "step": 0.001,
       "style": "IPY_MODEL_10b28f913d6c4a4f8db0bcadddd9ec63",
       "value": 0.03
      }
     },
     "e8a9a83cbe30494db5065c27be91a4a0": {
      "model_module": "@jupyter-widgets/controls",
      "model_module_version": "1.5.0",
      "model_name": "CheckboxModel",
      "state": {
       "description": "Auto save",
       "disabled": false,
       "layout": "IPY_MODEL_1227d4ccd97146e388826a9f7dabe5d1",
       "style": "IPY_MODEL_092d7f6f62a049338730fa54887a4902",
       "value": false
      }
     },
     "e8e5c37aca0f4808a71da2797fbbe864": {
      "model_module": "@jupyter-widgets/controls",
      "model_module_version": "1.5.0",
      "model_name": "DescriptionStyleModel",
      "state": {
       "description_width": ""
      }
     },
     "e938045a9990480e8f858f9be672f2e5": {
      "model_module": "@jupyter-widgets/controls",
      "model_module_version": "1.5.0",
      "model_name": "ButtonModel",
      "state": {
       "description": "Apply changes",
       "disabled": true,
       "layout": "IPY_MODEL_777ab830d8ee4568bdee3f2dee5cd51c",
       "style": "IPY_MODEL_1395ded714bc43e2b24ca5b87d333dcd"
      }
     },
     "e9edbc3be388422aa98478893bbc6ec9": {
      "model_module": "@jupyter-widgets/base",
      "model_module_version": "1.2.0",
      "model_name": "LayoutModel",
      "state": {}
     },
     "e9f5133ae9df46bfa614602535ab3410": {
      "model_module": "pgljupyter",
      "model_module_version": "^0.1.21",
      "model_name": "BoolEditorModel",
      "state": {
       "_model_module_version": "^0.1.21",
       "_view_module_version": "^0.1.21",
       "children": [
        "IPY_MODEL_32014a3269264f4aa18caa1316ef8253",
        "IPY_MODEL_17b7582e2d5840798c7dd35e8ca03a28"
       ],
       "layout": "IPY_MODEL_1ad291b07c3644d3996dba061febc481"
      }
     },
     "ea5bcba6a9af4d01a04e5ddc116acee0": {
      "model_module": "@jupyter-widgets/controls",
      "model_module_version": "1.5.0",
      "model_name": "HBoxModel",
      "state": {
       "children": [
        "IPY_MODEL_cc1c1d747bf540eeb3213829f5a0b8c9",
        "IPY_MODEL_b6ed4cb141a0446c866658ce8255dad7"
       ],
       "layout": "IPY_MODEL_5d044c3508f147489d9378a9bc699de1"
      }
     },
     "ea6a5035f9d64c27a73124866a1c4b74": {
      "model_module": "@jupyter-widgets/controls",
      "model_module_version": "1.5.0",
      "model_name": "DescriptionStyleModel",
      "state": {
       "description_width": ""
      }
     },
     "eb15857edfe3414fba8a0e8e180f13ae": {
      "model_module": "@jupyter-widgets/base",
      "model_module_version": "1.2.0",
      "model_name": "LayoutModel",
      "state": {}
     },
     "ec309b6afae64dc582e1abff97974d56": {
      "model_module": "pgljupyter",
      "model_module_version": "^0.1.21",
      "model_name": "MaterialEditorModel",
      "state": {
       "_model_module_version": "^0.1.21",
       "_view_module_version": "^0.1.21",
       "children": [
        "IPY_MODEL_66251d1410ce4606b6736f1813bd6e3f",
        "IPY_MODEL_b5e42578dc5e42ebae40c9282fc1823e",
        "IPY_MODEL_43aa688012c1498d8c1f41ec43d00b93",
        "IPY_MODEL_6b7a5787d21e4ca588cd9cd0a76f1fcc",
        "IPY_MODEL_20c340e0099a495cbd52e548853836f8",
        "IPY_MODEL_3760782c870a4a5f8cab02e98513508f",
        "IPY_MODEL_4ee19b1865d848eaaed9985c54d5464c",
        "IPY_MODEL_2004f5896e04492aae383a0fd8034a53"
       ],
       "layout": "IPY_MODEL_3f141f4b38b34bbaa43610b6dfdeecb4"
      }
     },
     "ec5770962d4a4dc789e303576b69be2a": {
      "model_module": "@jupyter-widgets/controls",
      "model_module_version": "1.5.0",
      "model_name": "DescriptionStyleModel",
      "state": {
       "description_width": ""
      }
     },
     "ecd732a855f445eb847b31b67e041e0d": {
      "model_module": "@jupyter-widgets/controls",
      "model_module_version": "1.5.0",
      "model_name": "DescriptionStyleModel",
      "state": {
       "description_width": ""
      }
     },
     "ece7659d772f4aa2bc4a356f083bc30f": {
      "model_module": "@jupyter-widgets/base",
      "model_module_version": "1.2.0",
      "model_name": "LayoutModel",
      "state": {
       "flex_flow": "row wrap"
      }
     },
     "ecfb018450b14270b6c88f1bf3779361": {
      "model_module": "@jupyter-widgets/base",
      "model_module_version": "1.2.0",
      "model_name": "LayoutModel",
      "state": {}
     },
     "ed1a1f41e5ba4a1a8f84447a9922627e": {
      "model_module": "@jupyter-widgets/base",
      "model_module_version": "1.2.0",
      "model_name": "LayoutModel",
      "state": {}
     },
     "ed98f2bd506d43a7b52f815a0a24ca07": {
      "model_module": "@jupyter-widgets/base",
      "model_module_version": "1.2.0",
      "model_name": "LayoutModel",
      "state": {
       "margin": "20px 0px"
      }
     },
     "edad8b8083fe4595932028abfa5f839a": {
      "model_module": "@jupyter-widgets/controls",
      "model_module_version": "1.5.0",
      "model_name": "HBoxModel",
      "state": {
       "children": [
        "IPY_MODEL_ec309b6afae64dc582e1abff97974d56"
       ],
       "layout": "IPY_MODEL_e5004bd208df40afaf8b942bf1d2a495"
      }
     },
     "ee1d3b3fe28240c4b590d995dfcaaeeb": {
      "model_module": "@jupyter-widgets/controls",
      "model_module_version": "1.5.0",
      "model_name": "HBoxModel",
      "state": {
       "children": [
        "IPY_MODEL_8305afc8a48e4b069c6ebc1d0a4319ae",
        "IPY_MODEL_da093de8a25a4567a50b01b91f060c7f"
       ],
       "layout": "IPY_MODEL_d1201fdbe2b54fe19a11c81f22ecce94"
      }
     },
     "ee813bf9ce344a34979def9e04a2c568": {
      "model_module": "@jupyter-widgets/base",
      "model_module_version": "1.2.0",
      "model_name": "LayoutModel",
      "state": {}
     },
     "ee935a35cbc04b7193ac5ab7e15a7573": {
      "model_module": "@jupyter-widgets/controls",
      "model_module_version": "1.5.0",
      "model_name": "VBoxModel",
      "state": {
       "children": [
        "IPY_MODEL_d06f52e55af44c93b52b68dc9e7ee3d8",
        "IPY_MODEL_7ff2c87fe00547f0b7e6af6e6cd420ef",
        "IPY_MODEL_b8ae8d533f914f279b7fe150abc591e1",
        "IPY_MODEL_c6762f7e2f5e4769affcb3a14dde14db",
        "IPY_MODEL_fa95e145369e4ea2bea4e40e194992dd"
       ],
       "layout": "IPY_MODEL_30982531546f4213ae5f9b14fdb46124"
      }
     },
     "eea3d00e77a4496db65811da97ca42de": {
      "model_module": "@jupyter-widgets/base",
      "model_module_version": "1.2.0",
      "model_name": "LayoutModel",
      "state": {}
     },
     "eec32846384d4cfc9d73ae157cc1118f": {
      "model_module": "@jupyter-widgets/base",
      "model_module_version": "1.2.0",
      "model_name": "LayoutModel",
      "state": {
       "margin": "20px 0px"
      }
     },
     "ef934b8606464e899d9482936d25607a": {
      "model_module": "pgljupyter",
      "model_module_version": "^0.1.21",
      "model_name": "ParameterEditorModel",
      "state": {
       "_model_module_version": "^0.1.21",
       "_view_module_version": "^0.1.21",
       "children": [
        "IPY_MODEL_6913a92a0915460fb09a2e66cb6d87f2"
       ],
       "layout": "IPY_MODEL_093cc61c7a0440eaa2a46d2952f34e58"
      }
     },
     "efa2ef53c921402ca58242a095413a5a": {
      "model_module": "@jupyter-widgets/base",
      "model_module_version": "1.2.0",
      "model_name": "LayoutModel",
      "state": {}
     },
     "f101d3841e614b8da56da5aa9e73d8dc": {
      "model_module": "@jupyter-widgets/controls",
      "model_module_version": "1.5.0",
      "model_name": "DescriptionStyleModel",
      "state": {
       "description_width": ""
      }
     },
     "f14042a43258424897bc4a4b36a6c8aa": {
      "model_module": "@jupyter-widgets/base",
      "model_module_version": "1.2.0",
      "model_name": "LayoutModel",
      "state": {
       "flex_flow": "row wrap",
       "margin": "20px"
      }
     },
     "f164141895af49f3a35bf5623b6bbab1": {
      "model_module": "@jupyter-widgets/controls",
      "model_module_version": "1.5.0",
      "model_name": "DescriptionStyleModel",
      "state": {
       "description_width": ""
      }
     },
     "f1a3a334b5fe4f668cae84d874c1b68d": {
      "model_module": "pgljupyter",
      "model_module_version": "^0.1.21",
      "model_name": "_CurveEditorModel",
      "state": {
       "_model_module_version": "^0.1.21",
       "_view_module_version": "^0.1.21",
       "layout": "IPY_MODEL_8c473da47073421880f3067d28d3a11f",
       "points": [
        [
         -0.558642,
         0.0459491
        ],
        [
         -0.272827,
         -0.068981
        ],
        [
         -0.0295213,
         -0.153395
        ],
        [
         0.147239,
         -0.0700503
        ],
        [
         0.412901,
         0.0201295
        ],
        [
         0.575777,
         0.232735
        ]
       ],
       "type": "NurbsCurve2D"
      }
     },
     "f1f78e22b18249fd9cb31f0ee0aad9be": {
      "model_module": "@jupyter-widgets/controls",
      "model_module_version": "1.5.0",
      "model_name": "CheckboxModel",
      "state": {
       "description": "value",
       "disabled": false,
       "layout": "IPY_MODEL_78c6f069f8f94e139ade84f5de17ceaa",
       "style": "IPY_MODEL_a68f769cf48e49bfb55513a9fac5c0e6",
       "value": false
      }
     },
     "f236b711b82342088cf2af848a4cb1f7": {
      "model_module": "@jupyter-widgets/controls",
      "model_module_version": "1.5.0",
      "model_name": "HBoxModel",
      "state": {
       "children": [
        "IPY_MODEL_029044627deb4904ac1cd8eaa307b136",
        "IPY_MODEL_86cd31595d96473f84fa895f30f4e81e"
       ],
       "layout": "IPY_MODEL_ecfb018450b14270b6c88f1bf3779361"
      }
     },
     "f26ab0eece61424eaeb2dcbcac41d16b": {
      "model_module": "@jupyter-widgets/controls",
      "model_module_version": "1.5.0",
      "model_name": "HBoxModel",
      "state": {
       "children": [
        "IPY_MODEL_5b8c345be34b4ddea4dc314f4ad0b1cf"
       ],
       "layout": "IPY_MODEL_d5aaa5dcd7ac46158ad2141e9a9a358c"
      }
     },
     "f26b015d45124033bac6ec40825a322e": {
      "model_module": "@jupyter-widgets/controls",
      "model_module_version": "1.5.0",
      "model_name": "ButtonStyleModel",
      "state": {}
     },
     "f326db9368b04de989dde83409a84341": {
      "model_module": "@jupyter-widgets/controls",
      "model_module_version": "1.5.0",
      "model_name": "TextModel",
      "state": {
       "continuous_update": false,
       "description": "name",
       "layout": "IPY_MODEL_efa2ef53c921402ca58242a095413a5a",
       "style": "IPY_MODEL_440fa7b32fe5434c997029b4297f6479",
       "value": "TROPISM"
      }
     },
     "f340163451fa4f5e85eb34e84b877920": {
      "model_module": "@jupyter-widgets/controls",
      "model_module_version": "1.5.0",
      "model_name": "DescriptionStyleModel",
      "state": {
       "description_width": ""
      }
     },
     "f3bf1b4a2963428ebbca06cf5ddfd91c": {
      "model_module": "@jupyter-widgets/base",
      "model_module_version": "1.2.0",
      "model_name": "LayoutModel",
      "state": {}
     },
     "f43facef11b8493fac009ef2c9e3aef4": {
      "model_module": "@jupyter-widgets/base",
      "model_module_version": "1.2.0",
      "model_name": "LayoutModel",
      "state": {}
     },
     "f45deb46e6d84e08aedcde8a07e2be54": {
      "model_module": "@jupyter-widgets/controls",
      "model_module_version": "1.5.0",
      "model_name": "HBoxModel",
      "state": {
       "children": [
        "IPY_MODEL_8e172d33f5bc413284fbd027067d4e77",
        "IPY_MODEL_e8a9a83cbe30494db5065c27be91a4a0"
       ],
       "layout": "IPY_MODEL_9e703e6503c14de69846005755f51719"
      }
     },
     "f49c7fa4006446979a9dde1d8a5ea312": {
      "model_module": "pgljupyter",
      "model_module_version": "^0.1.21",
      "model_name": "_CurveEditorModel",
      "state": {
       "_model_module_version": "^0.1.21",
       "_view_module_version": "^0.1.21",
       "layout": "IPY_MODEL_b3421f9756fb408089137dfee007c463",
       "points": [
        [
         -0.558642,
         0.0459491
        ],
        [
         -0.272827,
         -0.068981
        ],
        [
         -0.0295213,
         -0.153395
        ],
        [
         0.147239,
         -0.0700503
        ],
        [
         0.412901,
         0.0201295
        ],
        [
         0.575777,
         0.232735
        ]
       ],
       "type": "NurbsCurve2D"
      }
     },
     "f4c8b3c08bd94ce4b044c244a533a426": {
      "model_module": "@jupyter-widgets/controls",
      "model_module_version": "1.5.0",
      "model_name": "TabModel",
      "state": {
       "_titles": {
        "0": "parameter_edition.json"
       },
       "children": [
        "IPY_MODEL_6624bf16258e4779a6584c35e10dd33e"
       ],
       "layout": "IPY_MODEL_c4c63ae5ef2f41d19610187fd678dee4"
      }
     },
     "f56d40fa5d204a4cbbaceeb20b23f8f8": {
      "model_module": "@jupyter-widgets/controls",
      "model_module_version": "1.5.0",
      "model_name": "TextModel",
      "state": {
       "continuous_update": false,
       "description": "name",
       "layout": "IPY_MODEL_223796de86e445528144a06782b3504c",
       "style": "IPY_MODEL_7330725b6201410fbd25399d9a1cfcb9",
       "value": "branchpath"
      }
     },
     "f577fe7debdf4a5f9a54316c298130bd": {
      "model_module": "@jupyter-widgets/controls",
      "model_module_version": "1.5.0",
      "model_name": "FloatSliderModel",
      "state": {
       "description": "diffuse",
       "layout": "IPY_MODEL_4d2f78cf90c74b76a890ed33b09d7b52",
       "max": 3,
       "step": 0.1,
       "style": "IPY_MODEL_b29cf059bbf54a0b848f28fd484fb3c7",
       "value": 3
      }
     },
     "f58c7e3cb2fb46d9b2cfa3ca8a6370cc": {
      "model_module": "@jupyter-widgets/controls",
      "model_module_version": "1.5.0",
      "model_name": "ButtonStyleModel",
      "state": {}
     },
     "f590fcb9a43b45ffb5f24fd8938cd8f3": {
      "model_module": "@jupyter-widgets/controls",
      "model_module_version": "1.5.0",
      "model_name": "ButtonStyleModel",
      "state": {}
     },
     "f6ae9f43d04c4c0785c090f9679c5b33": {
      "model_module": "@jupyter-widgets/controls",
      "model_module_version": "1.5.0",
      "model_name": "HBoxModel",
      "state": {
       "children": [
        "IPY_MODEL_b072b74f444b48d7bff9c19c61ad8bbd",
        "IPY_MODEL_fae8b09a930648e5873706c34142b36e",
        "IPY_MODEL_7e8afc93fa204db7a910d03d229f8571"
       ],
       "layout": "IPY_MODEL_83a703ab1397440daa8de89f86ec7be2"
      }
     },
     "f6d1c7cee4b2435cb703217f0a42e5e8": {
      "model_module": "@jupyter-widgets/controls",
      "model_module_version": "1.5.0",
      "model_name": "HBoxModel",
      "state": {
       "children": [
        "IPY_MODEL_5641f15b3d3e432bacdb61c0561320c7"
       ],
       "layout": "IPY_MODEL_17af608a319a490db6ac5216775239fa"
      }
     },
     "f6f254fe043249d7bcf3e0ba86ab6c58": {
      "model_module": "@jupyter-widgets/controls",
      "model_module_version": "1.5.0",
      "model_name": "DescriptionStyleModel",
      "state": {
       "description_width": ""
      }
     },
     "f80feb96f3de4987b49523d4986609a8": {
      "model_module": "@jupyter-widgets/base",
      "model_module_version": "1.2.0",
      "model_name": "LayoutModel",
      "state": {}
     },
     "f8d95e0cbc784db480fbcd8a5099e2d3": {
      "model_module": "@jupyter-widgets/controls",
      "model_module_version": "1.5.0",
      "model_name": "HBoxModel",
      "state": {
       "children": [
        "IPY_MODEL_788c37d043d0493abd43615091e4d17d",
        "IPY_MODEL_1dba4158d3b24cf59e01eaae68416fc2"
       ],
       "layout": "IPY_MODEL_7352b73a1331479aa0d21a0e4132ff31"
      }
     },
     "f908f89477924b26b03948cfed1af5ed": {
      "model_module": "@jupyter-widgets/controls",
      "model_module_version": "1.5.0",
      "model_name": "HBoxModel",
      "state": {
       "children": [
        "IPY_MODEL_19ae7056f8004ec6b6e024907718f823",
        "IPY_MODEL_4531f9c736824eb391fded82d85984e3"
       ],
       "layout": "IPY_MODEL_e9edbc3be388422aa98478893bbc6ec9"
      }
     },
     "f942da0a18b244bc9c14aca0f642b56a": {
      "model_module": "@jupyter-widgets/base",
      "model_module_version": "1.2.0",
      "model_name": "LayoutModel",
      "state": {}
     },
     "f9f75d1703804913949cee7551efc0e1": {
      "model_module": "@jupyter-widgets/controls",
      "model_module_version": "1.5.0",
      "model_name": "TabModel",
      "state": {
       "_titles": {
        "0": "parameter_edition.json"
       },
       "children": [
        "IPY_MODEL_64356f03a4c646469598675967e324c0"
       ],
       "layout": "IPY_MODEL_a5c8243cd93944de8f514d7e774e14fc"
      }
     },
     "fa8b8012b2ab4b00b2b74e5f7333dd0f": {
      "model_module": "@jupyter-widgets/controls",
      "model_module_version": "1.5.0",
      "model_name": "ButtonModel",
      "state": {
       "description": "Delete",
       "layout": "IPY_MODEL_210134e01a9441128813b1d9dabbd47a",
       "style": "IPY_MODEL_9b3d1c7b12dd432bb0e761e310a13edd"
      }
     },
     "fa95e145369e4ea2bea4e40e194992dd": {
      "model_module": "@jupyter-widgets/controls",
      "model_module_version": "1.5.0",
      "model_name": "HBoxModel",
      "state": {
       "children": [
        "IPY_MODEL_166cf128c1334e6b9bc8c7f429a2f74b"
       ],
       "layout": "IPY_MODEL_e5004bd208df40afaf8b942bf1d2a495"
      }
     },
     "fae8b09a930648e5873706c34142b36e": {
      "model_module": "@jupyter-widgets/controls",
      "model_module_version": "1.5.0",
      "model_name": "HBoxModel",
      "state": {
       "children": [
        "IPY_MODEL_a6d3da6fc3204e1d87dc67b5609f7f49",
        "IPY_MODEL_90087d8993224d82bf9a606cbb6fdef2"
       ],
       "layout": "IPY_MODEL_da57e6532e4b4fb3ab253463a87d2d9d"
      }
     },
     "fb31e8e62ef3461a9b2c53be9fc7113f": {
      "model_module": "@jupyter-widgets/controls",
      "model_module_version": "1.5.0",
      "model_name": "VBoxModel",
      "state": {
       "children": [
        "IPY_MODEL_2b1226d5d7e24863bfb694fdd9086634",
        "IPY_MODEL_edad8b8083fe4595932028abfa5f839a"
       ],
       "layout": "IPY_MODEL_4898c3b375ad40468ff8fab738d22d12"
      }
     },
     "fb870b880aa247a79a932b651373451b": {
      "model_module": "@jupyter-widgets/base",
      "model_module_version": "1.2.0",
      "model_name": "LayoutModel",
      "state": {}
     },
     "fbb7ae3e0f774bce81081af69f8e402b": {
      "model_module": "@jupyter-widgets/controls",
      "model_module_version": "1.5.0",
      "model_name": "DescriptionStyleModel",
      "state": {
       "description_width": ""
      }
     },
     "fc14f2c74e30461ea6f8bbe7f17e92c5": {
      "model_module": "@jupyter-widgets/controls",
      "model_module_version": "1.5.0",
      "model_name": "ButtonStyleModel",
      "state": {}
     },
     "fc192cef6cda4b25b62bfb60c1d90609": {
      "model_module": "@jupyter-widgets/controls",
      "model_module_version": "1.5.0",
      "model_name": "DropdownModel",
      "state": {
       "_options_labels": [
        "MAX_ORDER",
        "TROPISM",
        "ELASTICITY"
       ],
       "index": 0,
       "layout": "IPY_MODEL_0329ec214b014d7a85073c01b555e12a",
       "style": "IPY_MODEL_be7de77b43fe490d9846f7b568e42938"
      }
     },
     "fcab129307d9436a86c6c7d45e2c57fb": {
      "model_module": "@jupyter-widgets/controls",
      "model_module_version": "1.5.0",
      "model_name": "TextModel",
      "state": {
       "continuous_update": false,
       "description": "name",
       "layout": "IPY_MODEL_721d24045ab34fc99e3dc073f186a213",
       "style": "IPY_MODEL_b27ac69063a64ca9a7f316e0a91cbfac",
       "value": "MAX_ORDER"
      }
     },
     "fcddbdadbd4a47748f0ed5336b1e76d5": {
      "model_module": "@jupyter-widgets/base",
      "model_module_version": "1.2.0",
      "model_name": "LayoutModel",
      "state": {}
     },
     "fd3f2191c7d847ea813c9d6093fe0909": {
      "model_module": "@jupyter-widgets/controls",
      "model_module_version": "1.5.0",
      "model_name": "ColorPickerModel",
      "state": {
       "description": "ambient",
       "disabled": false,
       "layout": "IPY_MODEL_3c9156edb32c4c539eb43de3354e09c1",
       "style": "IPY_MODEL_ecd732a855f445eb847b31b67e041e0d",
       "value": "#412d0f"
      }
     },
     "fd632d9538244aa5b31c585aaef59bf2": {
      "model_module": "@jupyter-widgets/base",
      "model_module_version": "1.2.0",
      "model_name": "LayoutModel",
      "state": {}
     },
     "fe8ad7541101456baaf31cf5c7fba669": {
      "model_module": "@jupyter-widgets/controls",
      "model_module_version": "1.5.0",
      "model_name": "TextModel",
      "state": {
       "continuous_update": false,
       "description": "name",
       "layout": "IPY_MODEL_87c44c329b364c8cb719280b8c1b1256",
       "style": "IPY_MODEL_26b854cbc4184721afbdd02f179538ae",
       "value": "branchpath"
      }
     },
     "febbce60030f41b28f97991836556470": {
      "model_module": "@jupyter-widgets/base",
      "model_module_version": "1.2.0",
      "model_name": "LayoutModel",
      "state": {}
     },
     "feda75a8c5d74fd88e91d48fc734d21a": {
      "model_module": "@jupyter-widgets/controls",
      "model_module_version": "1.5.0",
      "model_name": "ButtonModel",
      "state": {
       "description": "Delete category",
       "layout": "IPY_MODEL_09ffebcff200412c9114b17a283fdbe6",
       "style": "IPY_MODEL_625327acd3ce4782a1ed0297112ce80a"
      }
     },
     "ff14095dd5fe438f89a7aa1144f3ca0e": {
      "model_module": "@jupyter-widgets/controls",
      "model_module_version": "1.5.0",
      "model_name": "FloatSliderModel",
      "state": {
       "description": "diffuse",
       "layout": "IPY_MODEL_60279521805f4782ac6b81ce6234d20c",
       "max": 3,
       "step": 0.1,
       "style": "IPY_MODEL_59c0d424b3584fd481527a443ef3ec4b",
       "value": 3
      }
     },
     "ff9a897c9a1c42828642df7a0e09fd55": {
      "model_module": "pgljupyter",
      "model_module_version": "^0.1.21",
      "model_name": "ParameterEditorModel",
      "state": {
       "_model_module_version": "^0.1.21",
       "_view_module_version": "^0.1.21",
       "children": [
        "IPY_MODEL_2e89b56371204ddaa2a3ac9d10c6fe2d"
       ],
       "layout": "IPY_MODEL_0f2d5c73a0a643fcb136c71b33e0afb1"
      }
     }
    },
    "version_major": 2,
    "version_minor": 0
   }
  }
 },
 "nbformat": 4,
 "nbformat_minor": 4
}
