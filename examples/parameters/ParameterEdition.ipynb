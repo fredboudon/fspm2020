{
 "cells": [
  {
   "cell_type": "code",
   "execution_count": 1,
   "metadata": {},
   "outputs": [],
   "source": [
    "from pgljupyter import LsystemWidget"
   ]
  },
  {
   "cell_type": "code",
   "execution_count": 2,
   "metadata": {},
   "outputs": [],
   "source": [
    "lw = LsystemWidget('parameter_edition', size_display=(800, 400), unit='dm', size_world=5)"
   ]
  },
  {
   "cell_type": "code",
   "execution_count": 3,
   "metadata": {},
   "outputs": [
    {
     "data": {
      "application/vnd.jupyter.widget-view+json": {
       "model_id": "871bf52c29594fe99d8746eb084e1664",
       "version_major": 2,
       "version_minor": 0
      },
      "text/plain": [
       "LsystemWidget(derivationLength=3, scene={'data': b'x\\xdaSLrw\\xf5\\xf7e`Pp\\xe0\\xe5RPVVd\\x00\\x020\\x01\\x003s\\x02\\x…"
      ]
     },
     "metadata": {},
     "output_type": "display_data"
    }
   ],
   "source": [
    "lw"
   ]
  },
  {
   "cell_type": "code",
   "execution_count": 4,
   "metadata": {
    "collapsed": true,
    "jupyter": {
     "outputs_hidden": true
    }
   },
   "outputs": [
    {
     "data": {
      "application/vnd.jupyter.widget-view+json": {
       "model_id": "4730fc0d213a4781a49a10223ac848a9",
       "version_major": 2,
       "version_minor": 0
      },
      "text/plain": [
       "ParameterEditor(children=(VBox(children=(HBox(children=(HBox(children=(Button(description='Apply changes', sty…"
      ]
     },
     "metadata": {},
     "output_type": "display_data"
    }
   ],
   "source": [
    "lw.editor"
   ]
  },
  {
   "cell_type": "code",
   "execution_count": null,
   "metadata": {},
   "outputs": [],
   "source": []
  }
 ],
 "metadata": {
  "kernelspec": {
   "display_name": "Python 3",
   "language": "python",
   "name": "python3"
  },
  "language_info": {
   "codemirror_mode": {
    "name": "ipython",
    "version": 3
   },
   "file_extension": ".py",
   "mimetype": "text/x-python",
   "name": "python",
   "nbconvert_exporter": "python",
   "pygments_lexer": "ipython3",
   "version": "3.8.5"
  },
  "widgets": {
   "application/vnd.jupyter.widget-state+json": {
    "state": {
     "00896dca531d4194a1b4a7ef11e0cd95": {
      "model_module": "@jupyter-widgets/controls",
      "model_module_version": "1.5.0",
      "model_name": "DropdownModel",
      "state": {
       "_options_labels": [
        "Color_1"
       ],
       "index": 0,
       "layout": "IPY_MODEL_bd6a376718084b088ddba65caf864a01",
       "style": "IPY_MODEL_2ac06b9351b244ea8711be6a29e34e7a"
      }
     },
     "00fb0aa997f642438c2c49b75538284d": {
      "model_module": "@jupyter-widgets/base",
      "model_module_version": "1.2.0",
      "model_name": "LayoutModel",
      "state": {}
     },
     "02abe9d95b1149ff8bc4eedb0197c7d8": {
      "model_module": "@jupyter-widgets/base",
      "model_module_version": "1.2.0",
      "model_name": "LayoutModel",
      "state": {}
     },
     "059f09d1ed6d47a1a3c0a8b072c130fc": {
      "model_module": "@jupyter-widgets/base",
      "model_module_version": "1.2.0",
      "model_name": "LayoutModel",
      "state": {}
     },
     "05b94d7a63e34dd082752b1f1c0675e0": {
      "model_module": "@jupyter-widgets/controls",
      "model_module_version": "1.5.0",
      "model_name": "TabModel",
      "state": {
       "_titles": {
        "0": "parameter_edition.json"
       },
       "children": [
        "IPY_MODEL_8c930b30a5cb4210810ca5e6badc7099"
       ],
       "layout": "IPY_MODEL_6494cfd087fa4268a2de211ecfd0c6bf"
      }
     },
     "08342ec7f7714696bed4ae454e69d7a2": {
      "model_module": "@jupyter-widgets/controls",
      "model_module_version": "1.5.0",
      "model_name": "ButtonModel",
      "state": {
       "description": "Apply changes",
       "disabled": true,
       "layout": "IPY_MODEL_1ffca887fc8b476cbeb6cf3654949aaa",
       "style": "IPY_MODEL_aaa9a3a3ea024a1f9bf5ac5ed97866b0"
      }
     },
     "08476065530d4b21b3e63129e0af01fb": {
      "model_module": "@jupyter-widgets/base",
      "model_module_version": "1.2.0",
      "model_name": "LayoutModel",
      "state": {}
     },
     "093559054cec4cd0b206e3f66f5b261e": {
      "model_module": "@jupyter-widgets/base",
      "model_module_version": "1.2.0",
      "model_name": "LayoutModel",
      "state": {}
     },
     "0b46bcd9ec2a4005bf0854647dcbff2d": {
      "model_module": "@jupyter-widgets/controls",
      "model_module_version": "1.5.0",
      "model_name": "TextModel",
      "state": {
       "continuous_update": false,
       "description": "name",
       "layout": "IPY_MODEL_6f33c9d30f7d4e4caa07462f14efaf71",
       "style": "IPY_MODEL_7cdaf5c6abea40a78a1d63b87bd77cde",
       "value": "MAX_ORDER"
      }
     },
     "0b935470f9334c5287a671e146aa0bae": {
      "model_module": "@jupyter-widgets/controls",
      "model_module_version": "1.5.0",
      "model_name": "VBoxModel",
      "state": {
       "children": [
        "IPY_MODEL_7a76b32ab7854da183880661bd8fdb46",
        "IPY_MODEL_621fe5fe46d4465a92fa6de9bf094534",
        "IPY_MODEL_c920786dd8d74d63905bb9581f74717a",
        "IPY_MODEL_f2874a3bc98d4620ab450e92795dbd17",
        "IPY_MODEL_69136a1112954dd0b71ab529cf480415"
       ],
       "layout": "IPY_MODEL_e7af05974e404f8ca6657c6c142fb033"
      }
     },
     "0d14f50f9e804b3a9df67d6c91205492": {
      "model_module": "@jupyter-widgets/controls",
      "model_module_version": "1.5.0",
      "model_name": "DescriptionStyleModel",
      "state": {
       "description_width": ""
      }
     },
     "0dbabb02121845f5a1225283b7dae65d": {
      "model_module": "@jupyter-widgets/controls",
      "model_module_version": "1.5.0",
      "model_name": "HBoxModel",
      "state": {
       "children": [
        "IPY_MODEL_589814bee82945858c1308916a103de1",
        "IPY_MODEL_30d87fb276654b9ba84d76450ed0dada"
       ],
       "layout": "IPY_MODEL_9a83caafa2ec4d84891f44f5da369d25"
      }
     },
     "0e1b9dcb89df489ab1cd696fd0dd36ee": {
      "model_module": "@jupyter-widgets/controls",
      "model_module_version": "1.5.0",
      "model_name": "DescriptionStyleModel",
      "state": {
       "description_width": ""
      }
     },
     "0f6a2b6834cf45b3aff372dd716e0721": {
      "model_module": "@jupyter-widgets/controls",
      "model_module_version": "1.5.0",
      "model_name": "SliderStyleModel",
      "state": {
       "description_width": ""
      }
     },
     "10c8d9776a5b4f16af67432d099dc698": {
      "model_module": "@jupyter-widgets/controls",
      "model_module_version": "1.5.0",
      "model_name": "HBoxModel",
      "state": {
       "children": [
        "IPY_MODEL_89778f5967c54b06bc38f2e94554bc39"
       ],
       "layout": "IPY_MODEL_7acdde245dda4ba2b3b8419f1422ea7f"
      }
     },
     "138886da751d4211ae34c7554f3e0a6a": {
      "model_module": "@jupyter-widgets/controls",
      "model_module_version": "1.5.0",
      "model_name": "BoundedIntTextModel",
      "state": {
       "description": "index",
       "layout": "IPY_MODEL_1c45b8bd907e41929b114f850beee7d5",
       "style": "IPY_MODEL_0d14f50f9e804b3a9df67d6c91205492",
       "value": 1
      }
     },
     "1626cf0b713d4a15a6dbd61f9ac3db9e": {
      "model_module": "@jupyter-widgets/base",
      "model_module_version": "1.2.0",
      "model_name": "LayoutModel",
      "state": {}
     },
     "1731849dece94a80a47c280559c34004": {
      "model_module": "@jupyter-widgets/controls",
      "model_module_version": "1.5.0",
      "model_name": "DescriptionStyleModel",
      "state": {
       "description_width": ""
      }
     },
     "1a03e12b97d3453a869713b4833f315f": {
      "model_module": "@jupyter-widgets/controls",
      "model_module_version": "1.5.0",
      "model_name": "ButtonStyleModel",
      "state": {}
     },
     "1b57f8dfcd9f44f08fd98372a5241c8f": {
      "model_module": "@jupyter-widgets/base",
      "model_module_version": "1.2.0",
      "model_name": "LayoutModel",
      "state": {
       "margin": "20px 0px"
      }
     },
     "1c45b8bd907e41929b114f850beee7d5": {
      "model_module": "@jupyter-widgets/base",
      "model_module_version": "1.2.0",
      "model_name": "LayoutModel",
      "state": {}
     },
     "1c6067653255487d8d27b835cfa73c5c": {
      "model_module": "@jupyter-widgets/base",
      "model_module_version": "1.2.0",
      "model_name": "LayoutModel",
      "state": {}
     },
     "1daa8b0e53bd4434815191fcb9cbadb3": {
      "model_module": "@jupyter-widgets/controls",
      "model_module_version": "1.5.0",
      "model_name": "DescriptionStyleModel",
      "state": {
       "description_width": ""
      }
     },
     "1f20051c95f5465599211d6b2348798d": {
      "model_module": "pgljupyter",
      "model_module_version": "^0.1.21",
      "model_name": "FloatEditorModel",
      "state": {
       "_model_module_version": "^0.1.21",
       "_view_module_version": "^0.1.21",
       "children": [
        "IPY_MODEL_eacd00865553480180d518ac91512d54",
        "IPY_MODEL_c99cc326ff4943ccab7534667b56ad57"
       ],
       "layout": "IPY_MODEL_4b84e5216cfc474386ab4e5e880b611b"
      }
     },
     "1ffca887fc8b476cbeb6cf3654949aaa": {
      "model_module": "@jupyter-widgets/base",
      "model_module_version": "1.2.0",
      "model_name": "LayoutModel",
      "state": {}
     },
     "20c55481170c4473ace4de9f06e3f737": {
      "model_module": "@jupyter-widgets/controls",
      "model_module_version": "1.5.0",
      "model_name": "DescriptionStyleModel",
      "state": {
       "description_width": ""
      }
     },
     "21450e3547cf4488b4c066626ff064a1": {
      "model_module": "@jupyter-widgets/base",
      "model_module_version": "1.2.0",
      "model_name": "LayoutModel",
      "state": {}
     },
     "2168507355ab414e9f1905659c9b5237": {
      "model_module": "@jupyter-widgets/controls",
      "model_module_version": "1.5.0",
      "model_name": "ColorPickerModel",
      "state": {
       "description": "specular",
       "disabled": false,
       "layout": "IPY_MODEL_9fa0e118cff84942a9791b6f042dc853",
       "style": "IPY_MODEL_96dffda557c54b1dbbd29f3afbdbc5c6",
       "value": "#000000"
      }
     },
     "24b108701fd34264a4b4e6fc0f6b0e44": {
      "model_module": "@jupyter-widgets/base",
      "model_module_version": "1.2.0",
      "model_name": "LayoutModel",
      "state": {}
     },
     "263ecdd17bb7402d96edfda2c741350d": {
      "model_module": "@jupyter-widgets/base",
      "model_module_version": "1.2.0",
      "model_name": "LayoutModel",
      "state": {}
     },
     "276a60cd66704d5fa5a26334891b621e": {
      "model_module": "@jupyter-widgets/base",
      "model_module_version": "1.2.0",
      "model_name": "LayoutModel",
      "state": {}
     },
     "27b8093cf38141128507aa91e79ca4fe": {
      "model_module": "@jupyter-widgets/controls",
      "model_module_version": "1.5.0",
      "model_name": "VBoxModel",
      "state": {
       "children": [
        "IPY_MODEL_887a5b6f5aaa47ad9cba4d0eae71ed7d",
        "IPY_MODEL_05b94d7a63e34dd082752b1f1c0675e0"
       ],
       "layout": "IPY_MODEL_affda326ecf349cd8ab5909063e4484d"
      }
     },
     "2ac06b9351b244ea8711be6a29e34e7a": {
      "model_module": "@jupyter-widgets/controls",
      "model_module_version": "1.5.0",
      "model_name": "DescriptionStyleModel",
      "state": {
       "description_width": ""
      }
     },
     "2c0598a76b964609be9c929252dfc913": {
      "model_module": "pgljupyter",
      "model_module_version": "^0.1.21",
      "model_name": "IntEditorModel",
      "state": {
       "_model_module_version": "^0.1.21",
       "_view_module_version": "^0.1.21",
       "children": [
        "IPY_MODEL_0b46bcd9ec2a4005bf0854647dcbff2d",
        "IPY_MODEL_45d0c00574ff4f40a13029809a08925f"
       ],
       "layout": "IPY_MODEL_4a71dc3fa3a241a89e13e50e787de68f"
      }
     },
     "2c4499e0c1764662ba57023fda1bd4f4": {
      "model_module": "@jupyter-widgets/base",
      "model_module_version": "1.2.0",
      "model_name": "LayoutModel",
      "state": {}
     },
     "2e3ac08b33d54880a55973e0945446b3": {
      "model_module": "@jupyter-widgets/controls",
      "model_module_version": "1.5.0",
      "model_name": "DescriptionStyleModel",
      "state": {
       "description_width": ""
      }
     },
     "2f0a73bd08c0447d960ceffb51a209e6": {
      "model_module": "@jupyter-widgets/base",
      "model_module_version": "1.2.0",
      "model_name": "LayoutModel",
      "state": {}
     },
     "2f18bab1a419428c8fa7c9eb296e096c": {
      "model_module": "@jupyter-widgets/controls",
      "model_module_version": "1.5.0",
      "model_name": "DescriptionStyleModel",
      "state": {
       "description_width": ""
      }
     },
     "30d87fb276654b9ba84d76450ed0dada": {
      "model_module": "@jupyter-widgets/controls",
      "model_module_version": "1.5.0",
      "model_name": "DropdownModel",
      "state": {
       "_options_labels": [
        "Color"
       ],
       "index": 0,
       "layout": "IPY_MODEL_9f0d35eb1eb34e0eb3b72a2a896f464d",
       "style": "IPY_MODEL_2f18bab1a419428c8fa7c9eb296e096c"
      }
     },
     "39ee830f9382495c88015a7c3c9a842a": {
      "model_module": "@jupyter-widgets/base",
      "model_module_version": "1.2.0",
      "model_name": "LayoutModel",
      "state": {
       "flex_flow": "row wrap",
       "margin": "20px"
      }
     },
     "3bf1ba1c69784862a5d0c1a9412aad43": {
      "model_module": "@jupyter-widgets/controls",
      "model_module_version": "1.5.0",
      "model_name": "HBoxModel",
      "state": {
       "children": [
        "IPY_MODEL_0dbabb02121845f5a1225283b7dae65d",
        "IPY_MODEL_af4bacdc1b5f417da6e6fb571c84f70d"
       ],
       "layout": "IPY_MODEL_39ee830f9382495c88015a7c3c9a842a"
      }
     },
     "4150079307b54945a73bd12220f453e9": {
      "model_module": "@jupyter-widgets/controls",
      "model_module_version": "1.5.0",
      "model_name": "HBoxModel",
      "state": {
       "children": [
        "IPY_MODEL_d425817f1afa4f0b927a55afdaf9c176",
        "IPY_MODEL_f8c244284866473ab11e6609a6b91227"
       ],
       "layout": "IPY_MODEL_f1ff0d3b19bb4204b007e74f736aa4c9"
      }
     },
     "449340f0d4da425d8330ec440faae790": {
      "model_module": "@jupyter-widgets/controls",
      "model_module_version": "1.5.0",
      "model_name": "HBoxModel",
      "state": {
       "children": [
        "IPY_MODEL_701e1816bb694015a95b9ce273752496",
        "IPY_MODEL_a0accda873f84b1bbf1a4ca57a059bea"
       ],
       "layout": "IPY_MODEL_1c6067653255487d8d27b835cfa73c5c"
      }
     },
     "45ad68e28aec46ab9f09f8e540901f5b": {
      "model_module": "@jupyter-widgets/controls",
      "model_module_version": "1.5.0",
      "model_name": "ButtonModel",
      "state": {
       "description": "Add category",
       "layout": "IPY_MODEL_844f83c101374f5cb45becc22a99d997",
       "style": "IPY_MODEL_d5ad247ae2614eb8895ea9127a938cee"
      }
     },
     "45d0c00574ff4f40a13029809a08925f": {
      "model_module": "@jupyter-widgets/controls",
      "model_module_version": "1.5.0",
      "model_name": "IntSliderModel",
      "state": {
       "description": "value",
       "layout": "IPY_MODEL_aafb0833a9584e459a40e4141fd28ebd",
       "max": 5,
       "style": "IPY_MODEL_fcd35bfae895456ca7bf137bcdcc2451",
       "value": 5
      }
     },
     "466330b24cc24559895e285ecf40f770": {
      "model_module": "@jupyter-widgets/controls",
      "model_module_version": "1.5.0",
      "model_name": "ButtonModel",
      "state": {
       "description": "Add",
       "layout": "IPY_MODEL_a06bb253a1b14b3c8b9dd4c289587934",
       "style": "IPY_MODEL_bf8c7fc8285840879d7864796d85d422"
      }
     },
     "471eb46e9c694970912990816273c2ba": {
      "model_module": "@jupyter-widgets/base",
      "model_module_version": "1.2.0",
      "model_name": "LayoutModel",
      "state": {}
     },
     "4730fc0d213a4781a49a10223ac848a9": {
      "model_module": "pgljupyter",
      "model_module_version": "^0.1.21",
      "model_name": "ParameterEditorModel",
      "state": {
       "_model_module_version": "^0.1.21",
       "_view_module_version": "^0.1.21",
       "children": [
        "IPY_MODEL_27b8093cf38141128507aa91e79ca4fe"
       ],
       "layout": "IPY_MODEL_24b108701fd34264a4b4e6fc0f6b0e44"
      }
     },
     "4a71dc3fa3a241a89e13e50e787de68f": {
      "model_module": "@jupyter-widgets/base",
      "model_module_version": "1.2.0",
      "model_name": "LayoutModel",
      "state": {
       "margin": "20px 0px"
      }
     },
     "4b84e5216cfc474386ab4e5e880b611b": {
      "model_module": "@jupyter-widgets/base",
      "model_module_version": "1.2.0",
      "model_name": "LayoutModel",
      "state": {
       "margin": "20px 0px"
      }
     },
     "4c709f52dc2d4831869aa14f56e186b5": {
      "model_module": "@jupyter-widgets/controls",
      "model_module_version": "1.5.0",
      "model_name": "DescriptionStyleModel",
      "state": {
       "description_width": ""
      }
     },
     "4e147de35baa447eb1211370e2a6edbc": {
      "model_module": "@jupyter-widgets/controls",
      "model_module_version": "1.5.0",
      "model_name": "FloatSliderModel",
      "state": {
       "description": "transparency",
       "layout": "IPY_MODEL_bb604972aa354eeca2a86c58735cd5c6",
       "max": 1,
       "step": 0.1,
       "style": "IPY_MODEL_0f6a2b6834cf45b3aff372dd716e0721"
      }
     },
     "55aa25cfbdf0462cb79b724fbec9eb31": {
      "model_module": "pgljupyter",
      "model_module_version": "^0.1.21",
      "model_name": "BoolEditorModel",
      "state": {
       "_model_module_version": "^0.1.21",
       "_view_module_version": "^0.1.21",
       "children": [
        "IPY_MODEL_caa31cab287e48119a2b83fd72837240",
        "IPY_MODEL_d8fb4b1f4517408386e35297bf64ed30"
       ],
       "layout": "IPY_MODEL_1b57f8dfcd9f44f08fd98372a5241c8f"
      }
     },
     "589814bee82945858c1308916a103de1": {
      "model_module": "@jupyter-widgets/controls",
      "model_module_version": "1.5.0",
      "model_name": "ButtonModel",
      "state": {
       "description": "Add",
       "layout": "IPY_MODEL_cde2a929858043c4b3421f37e7361bb3",
       "style": "IPY_MODEL_9c6724cbee36421289ed289578832402"
      }
     },
     "59e139477d984a2eaef92d756bedd8be": {
      "model_module": "@jupyter-widgets/controls",
      "model_module_version": "1.5.0",
      "model_name": "HBoxModel",
      "state": {
       "children": [
        "IPY_MODEL_466330b24cc24559895e285ecf40f770",
        "IPY_MODEL_8a373117659e42b9952ede5cb8989138"
       ],
       "layout": "IPY_MODEL_ba44042281ef41daa480f7617334cfda"
      }
     },
     "5b1dc50878bd4da6b6c15be3dc6f6653": {
      "model_module": "@jupyter-widgets/controls",
      "model_module_version": "1.5.0",
      "model_name": "FloatSliderModel",
      "state": {
       "description": "shininess",
       "layout": "IPY_MODEL_69dc72e9b38e42cb8114086e9ea42dc5",
       "max": 1,
       "step": 0.1,
       "style": "IPY_MODEL_915e00d07366420e9f3d7e9bcf9afeec"
      }
     },
     "5e187fb3e70c4feda5df59c08ac2a47e": {
      "model_module": "@jupyter-widgets/controls",
      "model_module_version": "1.5.0",
      "model_name": "DescriptionStyleModel",
      "state": {
       "description_width": ""
      }
     },
     "621fe5fe46d4465a92fa6de9bf094534": {
      "model_module": "@jupyter-widgets/controls",
      "model_module_version": "1.5.0",
      "model_name": "HBoxModel",
      "state": {
       "children": [
        "IPY_MODEL_59e139477d984a2eaef92d756bedd8be",
        "IPY_MODEL_986e4ee4e3a04ddb8de62e1c2ee32afb"
       ],
       "layout": "IPY_MODEL_39ee830f9382495c88015a7c3c9a842a"
      }
     },
     "63d4c6b95dd44aee92864b4411ab027d": {
      "model_module": "@jupyter-widgets/base",
      "model_module_version": "1.2.0",
      "model_name": "LayoutModel",
      "state": {}
     },
     "6494cfd087fa4268a2de211ecfd0c6bf": {
      "model_module": "@jupyter-widgets/base",
      "model_module_version": "1.2.0",
      "model_name": "LayoutModel",
      "state": {}
     },
     "673bec8db1d24a75966f96f1cc25be35": {
      "model_module": "@jupyter-widgets/base",
      "model_module_version": "1.2.0",
      "model_name": "LayoutModel",
      "state": {}
     },
     "69136a1112954dd0b71ab529cf480415": {
      "model_module": "@jupyter-widgets/controls",
      "model_module_version": "1.5.0",
      "model_name": "HBoxModel",
      "state": {
       "children": [
        "IPY_MODEL_d4f5b719313d4dea93b38387b3b46605"
       ],
       "layout": "IPY_MODEL_7acdde245dda4ba2b3b8419f1422ea7f"
      }
     },
     "69dc72e9b38e42cb8114086e9ea42dc5": {
      "model_module": "@jupyter-widgets/base",
      "model_module_version": "1.2.0",
      "model_name": "LayoutModel",
      "state": {}
     },
     "6f3399709f2e45f2ade5cc7b38011c23": {
      "model_module": "@jupyter-widgets/controls",
      "model_module_version": "1.5.0",
      "model_name": "DescriptionStyleModel",
      "state": {
       "description_width": ""
      }
     },
     "6f33b7c2e021414f81e876c687c40061": {
      "model_module": "@jupyter-widgets/controls",
      "model_module_version": "1.5.0",
      "model_name": "ButtonStyleModel",
      "state": {}
     },
     "6f33c9d30f7d4e4caa07462f14efaf71": {
      "model_module": "@jupyter-widgets/base",
      "model_module_version": "1.2.0",
      "model_name": "LayoutModel",
      "state": {}
     },
     "6f79b5b43e334fe2bd5e8f29153360c0": {
      "model_module": "@jupyter-widgets/controls",
      "model_module_version": "1.5.0",
      "model_name": "SliderStyleModel",
      "state": {
       "description_width": ""
      }
     },
     "701e1816bb694015a95b9ce273752496": {
      "model_module": "@jupyter-widgets/controls",
      "model_module_version": "1.5.0",
      "model_name": "ButtonModel",
      "state": {
       "description": "Delete",
       "layout": "IPY_MODEL_edf50428477241fb88280f6515848978",
       "style": "IPY_MODEL_cf3ba4aee444471ea6162a4f62094fef"
      }
     },
     "71be8c3e8cc64bb9aaa92e155539901a": {
      "model_module": "@jupyter-widgets/controls",
      "model_module_version": "1.5.0",
      "model_name": "HBoxModel",
      "state": {
       "children": [
        "IPY_MODEL_08342ec7f7714696bed4ae454e69d7a2",
        "IPY_MODEL_e9e8c71402b04470b32fa19db6e3b276"
       ],
       "layout": "IPY_MODEL_ae88649590dc4d718e44d11b7543457b"
      }
     },
     "745ad927308a4c81ae583da29dff6974": {
      "model_module": "@jupyter-widgets/controls",
      "model_module_version": "1.5.0",
      "model_name": "ButtonModel",
      "state": {
       "description": "Delete",
       "layout": "IPY_MODEL_79a67a011e324488b3ff8bbb95520823",
       "style": "IPY_MODEL_1a03e12b97d3453a869713b4833f315f"
      }
     },
     "74e91d961b574ca8adc7e4c224bf5f64": {
      "model_module": "@jupyter-widgets/controls",
      "model_module_version": "1.5.0",
      "model_name": "DescriptionStyleModel",
      "state": {
       "description_width": ""
      }
     },
     "77aaf890c9f340cc88b0c5fec4d3f137": {
      "model_module": "@jupyter-widgets/base",
      "model_module_version": "1.2.0",
      "model_name": "LayoutModel",
      "state": {}
     },
     "77c3f65d753441f4825011febab884f2": {
      "model_module": "@jupyter-widgets/base",
      "model_module_version": "1.2.0",
      "model_name": "LayoutModel",
      "state": {
       "flex_flow": "row wrap"
      }
     },
     "79a67a011e324488b3ff8bbb95520823": {
      "model_module": "@jupyter-widgets/base",
      "model_module_version": "1.2.0",
      "model_name": "LayoutModel",
      "state": {}
     },
     "7a76b32ab7854da183880661bd8fdb46": {
      "model_module": "@jupyter-widgets/controls",
      "model_module_version": "1.5.0",
      "model_name": "HBoxModel",
      "state": {
       "children": [
        "IPY_MODEL_f6bfbe62619e499f8be5ee62de533ec6"
       ],
       "layout": "IPY_MODEL_39ee830f9382495c88015a7c3c9a842a"
      }
     },
     "7aa77fe4eb2e461c94cbac968fd3426c": {
      "model_module": "@jupyter-widgets/controls",
      "model_module_version": "1.5.0",
      "model_name": "ButtonModel",
      "state": {
       "description": "Delete",
       "layout": "IPY_MODEL_cab51a2f15a3492ebcd703e87074fe61",
       "style": "IPY_MODEL_bdf17992403445468b6b51d7f1d7ddca"
      }
     },
     "7acdde245dda4ba2b3b8419f1422ea7f": {
      "model_module": "@jupyter-widgets/base",
      "model_module_version": "1.2.0",
      "model_name": "LayoutModel",
      "state": {
       "flex_flow": "row wrap",
       "margin": "20px"
      }
     },
     "7baa5eeda03b44f4b1e73e08a30f3b69": {
      "model_module": "@jupyter-widgets/base",
      "model_module_version": "1.2.0",
      "model_name": "LayoutModel",
      "state": {}
     },
     "7cdaf5c6abea40a78a1d63b87bd77cde": {
      "model_module": "@jupyter-widgets/controls",
      "model_module_version": "1.5.0",
      "model_name": "DescriptionStyleModel",
      "state": {
       "description_width": ""
      }
     },
     "844f83c101374f5cb45becc22a99d997": {
      "model_module": "@jupyter-widgets/base",
      "model_module_version": "1.2.0",
      "model_name": "LayoutModel",
      "state": {}
     },
     "85835de5ae464c0dba1d9e9dd768a853": {
      "model_module": "@jupyter-widgets/controls",
      "model_module_version": "1.5.0",
      "model_name": "FloatSliderModel",
      "state": {
       "description": "diffuse",
       "layout": "IPY_MODEL_093559054cec4cd0b206e3f66f5b261e",
       "max": 3,
       "step": 0.1,
       "style": "IPY_MODEL_6f79b5b43e334fe2bd5e8f29153360c0",
       "value": 3
      }
     },
     "871bf52c29594fe99d8746eb084e1664": {
      "buffers": [
       {
        "data": "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",
        "encoding": "base64",
        "path": [
         "scene",
         "data"
        ]
       }
      ],
      "model_module": "pgljupyter",
      "model_module_version": "^0.1.21",
      "model_name": "LsystemWidgetModel",
      "state": {
       "_model_module_version": "^0.1.21",
       "_view_module_version": "^0.1.21",
       "axes_helper": false,
       "derivationLength": 3,
       "layout": "IPY_MODEL_a5b36bad131a45869db0733f99c80191",
       "light_helper": false,
       "plane": true,
       "scene": {
        "derivationStep": 2,
        "id": 2,
        "scene": "<openalea.plantgl.scenegraph._pglsg.Scene object at 0x1231de2b0>"
       },
       "size_display": [
        800,
        400
       ],
       "size_world": 5,
       "unit": 1
      }
     },
     "887a5b6f5aaa47ad9cba4d0eae71ed7d": {
      "model_module": "@jupyter-widgets/controls",
      "model_module_version": "1.5.0",
      "model_name": "HBoxModel",
      "state": {
       "children": [
        "IPY_MODEL_71be8c3e8cc64bb9aaa92e155539901a",
        "IPY_MODEL_4150079307b54945a73bd12220f453e9",
        "IPY_MODEL_b21119bff10a443bb52e179b87c9e90c"
       ],
       "layout": "IPY_MODEL_77c3f65d753441f4825011febab884f2"
      }
     },
     "89778f5967c54b06bc38f2e94554bc39": {
      "model_module": "pgljupyter",
      "model_module_version": "^0.1.21",
      "model_name": "MaterialEditorModel",
      "state": {
       "_model_module_version": "^0.1.21",
       "_view_module_version": "^0.1.21",
       "children": [
        "IPY_MODEL_b43e7c8192064d2dad97bd9ce9838dca",
        "IPY_MODEL_138886da751d4211ae34c7554f3e0a6a",
        "IPY_MODEL_b1af7ce63a1e46ffa8dad38933dd429c",
        "IPY_MODEL_2168507355ab414e9f1905659c9b5237",
        "IPY_MODEL_c2b4a84b82674cebb0311c4cfbd297da",
        "IPY_MODEL_85835de5ae464c0dba1d9e9dd768a853",
        "IPY_MODEL_4e147de35baa447eb1211370e2a6edbc",
        "IPY_MODEL_5b1dc50878bd4da6b6c15be3dc6f6653"
       ],
       "layout": "IPY_MODEL_8f3ab34c310a4a8aafed75b532b85c6f"
      }
     },
     "8a373117659e42b9952ede5cb8989138": {
      "model_module": "@jupyter-widgets/controls",
      "model_module_version": "1.5.0",
      "model_name": "DropdownModel",
      "state": {
       "_options_labels": [
        "Integer",
        "Float",
        "Bool"
       ],
       "index": 0,
       "layout": "IPY_MODEL_00fb0aa997f642438c2c49b75538284d",
       "style": "IPY_MODEL_2e3ac08b33d54880a55973e0945446b3"
      }
     },
     "8adfbfae304e4d5ba69d6ebc25367177": {
      "model_module": "@jupyter-widgets/base",
      "model_module_version": "1.2.0",
      "model_name": "LayoutModel",
      "state": {}
     },
     "8c930b30a5cb4210810ca5e6badc7099": {
      "model_module": "@jupyter-widgets/controls",
      "model_module_version": "1.5.0",
      "model_name": "AccordionModel",
      "state": {
       "_titles": {
        "0": "materials",
        "1": "Panel"
       },
       "children": [
        "IPY_MODEL_cd00b4aac1cc4cf593bd2962b388176b",
        "IPY_MODEL_0b935470f9334c5287a671e146aa0bae"
       ],
       "layout": "IPY_MODEL_2f0a73bd08c0447d960ceffb51a209e6",
       "selected_index": 1
      }
     },
     "8cb2e593fdfc4a7abb0906ea35f0c1a5": {
      "model_module": "@jupyter-widgets/controls",
      "model_module_version": "1.5.0",
      "model_name": "ButtonStyleModel",
      "state": {}
     },
     "8f3ab34c310a4a8aafed75b532b85c6f": {
      "model_module": "@jupyter-widgets/base",
      "model_module_version": "1.2.0",
      "model_name": "LayoutModel",
      "state": {
       "margin": "20px 0px"
      }
     },
     "915e00d07366420e9f3d7e9bcf9afeec": {
      "model_module": "@jupyter-widgets/controls",
      "model_module_version": "1.5.0",
      "model_name": "SliderStyleModel",
      "state": {
       "description_width": ""
      }
     },
     "91e3687c7dcb449e87cd18767d1e7704": {
      "model_module": "@jupyter-widgets/controls",
      "model_module_version": "1.5.0",
      "model_name": "DescriptionStyleModel",
      "state": {
       "description_width": ""
      }
     },
     "91e5053711b64b06a6ad638efd13b875": {
      "model_module": "@jupyter-widgets/base",
      "model_module_version": "1.2.0",
      "model_name": "LayoutModel",
      "state": {}
     },
     "96dffda557c54b1dbbd29f3afbdbc5c6": {
      "model_module": "@jupyter-widgets/controls",
      "model_module_version": "1.5.0",
      "model_name": "DescriptionStyleModel",
      "state": {
       "description_width": ""
      }
     },
     "986e4ee4e3a04ddb8de62e1c2ee32afb": {
      "model_module": "@jupyter-widgets/controls",
      "model_module_version": "1.5.0",
      "model_name": "HBoxModel",
      "state": {
       "children": [
        "IPY_MODEL_7aa77fe4eb2e461c94cbac968fd3426c",
        "IPY_MODEL_ee5488ec6d0d4d558ee230d09b64d83e"
       ],
       "layout": "IPY_MODEL_a9f39ccb341742589d2599804610f7b8"
      }
     },
     "99ebc7b2e5334658974d31458e894df7": {
      "model_module": "@jupyter-widgets/controls",
      "model_module_version": "1.5.0",
      "model_name": "DescriptionStyleModel",
      "state": {
       "description_width": ""
      }
     },
     "9a83caafa2ec4d84891f44f5da369d25": {
      "model_module": "@jupyter-widgets/base",
      "model_module_version": "1.2.0",
      "model_name": "LayoutModel",
      "state": {}
     },
     "9c6724cbee36421289ed289578832402": {
      "model_module": "@jupyter-widgets/controls",
      "model_module_version": "1.5.0",
      "model_name": "ButtonStyleModel",
      "state": {}
     },
     "9cdb49bed6fb426690f392d23b4f169f": {
      "model_module": "@jupyter-widgets/base",
      "model_module_version": "1.2.0",
      "model_name": "LayoutModel",
      "state": {}
     },
     "9d566b302d0d45bdbb3325c18d8dab6e": {
      "model_module": "@jupyter-widgets/base",
      "model_module_version": "1.2.0",
      "model_name": "LayoutModel",
      "state": {}
     },
     "9f0d35eb1eb34e0eb3b72a2a896f464d": {
      "model_module": "@jupyter-widgets/base",
      "model_module_version": "1.2.0",
      "model_name": "LayoutModel",
      "state": {}
     },
     "9fa0e118cff84942a9791b6f042dc853": {
      "model_module": "@jupyter-widgets/base",
      "model_module_version": "1.2.0",
      "model_name": "LayoutModel",
      "state": {}
     },
     "a06bb253a1b14b3c8b9dd4c289587934": {
      "model_module": "@jupyter-widgets/base",
      "model_module_version": "1.2.0",
      "model_name": "LayoutModel",
      "state": {}
     },
     "a0accda873f84b1bbf1a4ca57a059bea": {
      "model_module": "@jupyter-widgets/controls",
      "model_module_version": "1.5.0",
      "model_name": "DropdownModel",
      "state": {
       "_options_labels": [
        "branchpath"
       ],
       "index": 0,
       "layout": "IPY_MODEL_63d4c6b95dd44aee92864b4411ab027d",
       "style": "IPY_MODEL_1daa8b0e53bd4434815191fcb9cbadb3"
      }
     },
     "a5b36bad131a45869db0733f99c80191": {
      "model_module": "@jupyter-widgets/base",
      "model_module_version": "1.2.0",
      "model_name": "LayoutModel",
      "state": {}
     },
     "a9f39ccb341742589d2599804610f7b8": {
      "model_module": "@jupyter-widgets/base",
      "model_module_version": "1.2.0",
      "model_name": "LayoutModel",
      "state": {}
     },
     "aaa9a3a3ea024a1f9bf5ac5ed97866b0": {
      "model_module": "@jupyter-widgets/controls",
      "model_module_version": "1.5.0",
      "model_name": "ButtonStyleModel",
      "state": {}
     },
     "aafb0833a9584e459a40e4141fd28ebd": {
      "model_module": "@jupyter-widgets/base",
      "model_module_version": "1.2.0",
      "model_name": "LayoutModel",
      "state": {}
     },
     "ae348940551c4297b558f4d39c737294": {
      "model_module": "@jupyter-widgets/base",
      "model_module_version": "1.2.0",
      "model_name": "LayoutModel",
      "state": {}
     },
     "ae88649590dc4d718e44d11b7543457b": {
      "model_module": "@jupyter-widgets/base",
      "model_module_version": "1.2.0",
      "model_name": "LayoutModel",
      "state": {}
     },
     "af4bacdc1b5f417da6e6fb571c84f70d": {
      "model_module": "@jupyter-widgets/controls",
      "model_module_version": "1.5.0",
      "model_name": "HBoxModel",
      "state": {
       "children": [
        "IPY_MODEL_745ad927308a4c81ae583da29dff6974",
        "IPY_MODEL_00896dca531d4194a1b4a7ef11e0cd95"
       ],
       "layout": "IPY_MODEL_d2b5e91a95a347dca16a2101dbe20152"
      }
     },
     "affda326ecf349cd8ab5909063e4484d": {
      "model_module": "@jupyter-widgets/base",
      "model_module_version": "1.2.0",
      "model_name": "LayoutModel",
      "state": {}
     },
     "b1af7ce63a1e46ffa8dad38933dd429c": {
      "model_module": "@jupyter-widgets/controls",
      "model_module_version": "1.5.0",
      "model_name": "ColorPickerModel",
      "state": {
       "description": "ambient",
       "disabled": false,
       "layout": "IPY_MODEL_7baa5eeda03b44f4b1e73e08a30f3b69",
       "style": "IPY_MODEL_4c709f52dc2d4831869aa14f56e186b5",
       "value": "#412d0f"
      }
     },
     "b21119bff10a443bb52e179b87c9e90c": {
      "model_module": "@jupyter-widgets/controls",
      "model_module_version": "1.5.0",
      "model_name": "HBoxModel",
      "state": {
       "children": [
        "IPY_MODEL_45ad68e28aec46ab9f09f8e540901f5b",
        "IPY_MODEL_cd01a34d136e468fa4efb615b6243d2d"
       ],
       "layout": "IPY_MODEL_2c4499e0c1764662ba57023fda1bd4f4"
      }
     },
     "b43e7c8192064d2dad97bd9ce9838dca": {
      "model_module": "@jupyter-widgets/controls",
      "model_module_version": "1.5.0",
      "model_name": "TextModel",
      "state": {
       "continuous_update": false,
       "description": "name",
       "layout": "IPY_MODEL_276a60cd66704d5fa5a26334891b621e",
       "style": "IPY_MODEL_6f3399709f2e45f2ade5cc7b38011c23",
       "value": "Color_1"
      }
     },
     "ba44042281ef41daa480f7617334cfda": {
      "model_module": "@jupyter-widgets/base",
      "model_module_version": "1.2.0",
      "model_name": "LayoutModel",
      "state": {}
     },
     "ba4e819057aa4db29a709b23ce6a7ba4": {
      "model_module": "@jupyter-widgets/base",
      "model_module_version": "1.2.0",
      "model_name": "LayoutModel",
      "state": {
       "margin": "20px 0px"
      }
     },
     "bb604972aa354eeca2a86c58735cd5c6": {
      "model_module": "@jupyter-widgets/base",
      "model_module_version": "1.2.0",
      "model_name": "LayoutModel",
      "state": {}
     },
     "bd6a376718084b088ddba65caf864a01": {
      "model_module": "@jupyter-widgets/base",
      "model_module_version": "1.2.0",
      "model_name": "LayoutModel",
      "state": {}
     },
     "bdf17992403445468b6b51d7f1d7ddca": {
      "model_module": "@jupyter-widgets/controls",
      "model_module_version": "1.5.0",
      "model_name": "ButtonStyleModel",
      "state": {}
     },
     "bf23de7664244cf4818696e17ea425e0": {
      "model_module": "@jupyter-widgets/controls",
      "model_module_version": "1.5.0",
      "model_name": "TextModel",
      "state": {
       "continuous_update": false,
       "description": "name",
       "layout": "IPY_MODEL_91e5053711b64b06a6ad638efd13b875",
       "style": "IPY_MODEL_fbeecce7f4cf4b80b23637313ab0b7ad",
       "value": "branchpath"
      }
     },
     "bf8c7fc8285840879d7864796d85d422": {
      "model_module": "@jupyter-widgets/controls",
      "model_module_version": "1.5.0",
      "model_name": "ButtonStyleModel",
      "state": {}
     },
     "c0a96ac699a94d579e6bd3960f3e5f18": {
      "model_module": "@jupyter-widgets/controls",
      "model_module_version": "1.5.0",
      "model_name": "DescriptionStyleModel",
      "state": {
       "description_width": ""
      }
     },
     "c2b4a84b82674cebb0311c4cfbd297da": {
      "model_module": "@jupyter-widgets/controls",
      "model_module_version": "1.5.0",
      "model_name": "ColorPickerModel",
      "state": {
       "description": "emission",
       "disabled": false,
       "layout": "IPY_MODEL_02abe9d95b1149ff8bc4eedb0197c7d8",
       "style": "IPY_MODEL_99ebc7b2e5334658974d31458e894df7",
       "value": "#000000"
      }
     },
     "c920786dd8d74d63905bb9581f74717a": {
      "model_module": "@jupyter-widgets/controls",
      "model_module_version": "1.5.0",
      "model_name": "HBoxModel",
      "state": {
       "children": [
        "IPY_MODEL_2c0598a76b964609be9c929252dfc913",
        "IPY_MODEL_55aa25cfbdf0462cb79b724fbec9eb31",
        "IPY_MODEL_1f20051c95f5465599211d6b2348798d"
       ],
       "layout": "IPY_MODEL_7acdde245dda4ba2b3b8419f1422ea7f"
      }
     },
     "c99cc326ff4943ccab7534667b56ad57": {
      "model_module": "@jupyter-widgets/controls",
      "model_module_version": "1.5.0",
      "model_name": "FloatSliderModel",
      "state": {
       "description": "value",
       "layout": "IPY_MODEL_21450e3547cf4488b4c066626ff064a1",
       "max": 3,
       "step": 0.001,
       "style": "IPY_MODEL_faa700b62f7e45878cc22406e6bb5269",
       "value": 0.03
      }
     },
     "caa31cab287e48119a2b83fd72837240": {
      "model_module": "@jupyter-widgets/controls",
      "model_module_version": "1.5.0",
      "model_name": "TextModel",
      "state": {
       "continuous_update": false,
       "description": "name",
       "layout": "IPY_MODEL_f9fa259f8386417cb1aac69fcc08d871",
       "style": "IPY_MODEL_d7f606825335429b96f1f5640465773e",
       "value": "TROPISM"
      }
     },
     "cab51a2f15a3492ebcd703e87074fe61": {
      "model_module": "@jupyter-widgets/base",
      "model_module_version": "1.2.0",
      "model_name": "LayoutModel",
      "state": {}
     },
     "cd00b4aac1cc4cf593bd2962b388176b": {
      "model_module": "@jupyter-widgets/controls",
      "model_module_version": "1.5.0",
      "model_name": "VBoxModel",
      "state": {
       "children": [
        "IPY_MODEL_3bf1ba1c69784862a5d0c1a9412aad43",
        "IPY_MODEL_10c8d9776a5b4f16af67432d099dc698"
       ],
       "layout": "IPY_MODEL_471eb46e9c694970912990816273c2ba"
      }
     },
     "cd01a34d136e468fa4efb615b6243d2d": {
      "model_module": "@jupyter-widgets/controls",
      "model_module_version": "1.5.0",
      "model_name": "TextModel",
      "state": {
       "layout": "IPY_MODEL_1626cf0b713d4a15a6dbd61f9ac3db9e",
       "placeholder": "category name",
       "style": "IPY_MODEL_5e187fb3e70c4feda5df59c08ac2a47e"
      }
     },
     "cde2a929858043c4b3421f37e7361bb3": {
      "model_module": "@jupyter-widgets/base",
      "model_module_version": "1.2.0",
      "model_name": "LayoutModel",
      "state": {}
     },
     "ce7395ef8d4241ddbf015c939dfc0031": {
      "model_module": "@jupyter-widgets/controls",
      "model_module_version": "1.5.0",
      "model_name": "ButtonModel",
      "state": {
       "description": "Add",
       "layout": "IPY_MODEL_673bec8db1d24a75966f96f1cc25be35",
       "style": "IPY_MODEL_6f33b7c2e021414f81e876c687c40061"
      }
     },
     "cf3ba4aee444471ea6162a4f62094fef": {
      "model_module": "@jupyter-widgets/controls",
      "model_module_version": "1.5.0",
      "model_name": "ButtonStyleModel",
      "state": {}
     },
     "d2b5e91a95a347dca16a2101dbe20152": {
      "model_module": "@jupyter-widgets/base",
      "model_module_version": "1.2.0",
      "model_name": "LayoutModel",
      "state": {}
     },
     "d425817f1afa4f0b927a55afdaf9c176": {
      "model_module": "@jupyter-widgets/controls",
      "model_module_version": "1.5.0",
      "model_name": "ButtonModel",
      "state": {
       "description": "Save changes",
       "layout": "IPY_MODEL_059f09d1ed6d47a1a3c0a8b072c130fc",
       "style": "IPY_MODEL_de74c0e66595488fa49a1e628f88c1be"
      }
     },
     "d480953f20274ea983fad204060803b5": {
      "model_module": "@jupyter-widgets/base",
      "model_module_version": "1.2.0",
      "model_name": "LayoutModel",
      "state": {}
     },
     "d4f5b719313d4dea93b38387b3b46605": {
      "model_module": "pgljupyter",
      "model_module_version": "^0.1.21",
      "model_name": "CurveEditorModel",
      "state": {
       "_model_module_version": "^0.1.21",
       "_view_module_version": "^0.1.21",
       "children": [
        "IPY_MODEL_bf23de7664244cf4818696e17ea425e0",
        "IPY_MODEL_f2f6204d27534fb7a9173e3a24212eaf"
       ],
       "layout": "IPY_MODEL_ba4e819057aa4db29a709b23ce6a7ba4"
      }
     },
     "d5ad247ae2614eb8895ea9127a938cee": {
      "model_module": "@jupyter-widgets/controls",
      "model_module_version": "1.5.0",
      "model_name": "ButtonStyleModel",
      "state": {}
     },
     "d7f606825335429b96f1f5640465773e": {
      "model_module": "@jupyter-widgets/controls",
      "model_module_version": "1.5.0",
      "model_name": "DescriptionStyleModel",
      "state": {
       "description_width": ""
      }
     },
     "d8fb4b1f4517408386e35297bf64ed30": {
      "model_module": "@jupyter-widgets/controls",
      "model_module_version": "1.5.0",
      "model_name": "CheckboxModel",
      "state": {
       "description": "value",
       "disabled": false,
       "layout": "IPY_MODEL_f29ac339741f4e0090b2ebda473d44a5",
       "style": "IPY_MODEL_74e91d961b574ca8adc7e4c224bf5f64",
       "value": false
      }
     },
     "de74c0e66595488fa49a1e628f88c1be": {
      "model_module": "@jupyter-widgets/controls",
      "model_module_version": "1.5.0",
      "model_name": "ButtonStyleModel",
      "state": {}
     },
     "e6694af06e1a428e8b29566fb58df57c": {
      "model_module": "@jupyter-widgets/controls",
      "model_module_version": "1.5.0",
      "model_name": "DropdownModel",
      "state": {
       "_options_labels": [
        "NurbsCurve2D",
        "BezierCurve2D",
        "Polyline2D",
        "Function"
       ],
       "index": 0,
       "layout": "IPY_MODEL_ae348940551c4297b558f4d39c737294",
       "style": "IPY_MODEL_20c55481170c4473ace4de9f06e3f737"
      }
     },
     "e7af05974e404f8ca6657c6c142fb033": {
      "model_module": "@jupyter-widgets/base",
      "model_module_version": "1.2.0",
      "model_name": "LayoutModel",
      "state": {}
     },
     "e9e8c71402b04470b32fa19db6e3b276": {
      "model_module": "@jupyter-widgets/controls",
      "model_module_version": "1.5.0",
      "model_name": "CheckboxModel",
      "state": {
       "description": "Auto apply",
       "disabled": false,
       "layout": "IPY_MODEL_8adfbfae304e4d5ba69d6ebc25367177",
       "style": "IPY_MODEL_0e1b9dcb89df489ab1cd696fd0dd36ee",
       "value": true
      }
     },
     "ea5793149ecc42dca2f47d8ce0347e20": {
      "model_module": "@jupyter-widgets/base",
      "model_module_version": "1.2.0",
      "model_name": "LayoutModel",
      "state": {}
     },
     "eacd00865553480180d518ac91512d54": {
      "model_module": "@jupyter-widgets/controls",
      "model_module_version": "1.5.0",
      "model_name": "TextModel",
      "state": {
       "continuous_update": false,
       "description": "name",
       "layout": "IPY_MODEL_77aaf890c9f340cc88b0c5fec4d3f137",
       "style": "IPY_MODEL_1731849dece94a80a47c280559c34004",
       "value": "ELASTICITY"
      }
     },
     "edf50428477241fb88280f6515848978": {
      "model_module": "@jupyter-widgets/base",
      "model_module_version": "1.2.0",
      "model_name": "LayoutModel",
      "state": {}
     },
     "ee5488ec6d0d4d558ee230d09b64d83e": {
      "model_module": "@jupyter-widgets/controls",
      "model_module_version": "1.5.0",
      "model_name": "DropdownModel",
      "state": {
       "_options_labels": [
        "MAX_ORDER",
        "TROPISM",
        "ELASTICITY"
       ],
       "index": 0,
       "layout": "IPY_MODEL_9cdb49bed6fb426690f392d23b4f169f",
       "style": "IPY_MODEL_91e3687c7dcb449e87cd18767d1e7704"
      }
     },
     "f1ff0d3b19bb4204b007e74f736aa4c9": {
      "model_module": "@jupyter-widgets/base",
      "model_module_version": "1.2.0",
      "model_name": "LayoutModel",
      "state": {}
     },
     "f20d60433d454ece903f432732b153cd": {
      "model_module": "@jupyter-widgets/controls",
      "model_module_version": "1.5.0",
      "model_name": "TabModel",
      "state": {
       "layout": "IPY_MODEL_08476065530d4b21b3e63129e0af01fb"
      }
     },
     "f2874a3bc98d4620ab450e92795dbd17": {
      "model_module": "@jupyter-widgets/controls",
      "model_module_version": "1.5.0",
      "model_name": "HBoxModel",
      "state": {
       "children": [
        "IPY_MODEL_f552fa6965124136b93c4e4bdcc15c95",
        "IPY_MODEL_449340f0d4da425d8330ec440faae790"
       ],
       "layout": "IPY_MODEL_39ee830f9382495c88015a7c3c9a842a"
      }
     },
     "f29ac339741f4e0090b2ebda473d44a5": {
      "model_module": "@jupyter-widgets/base",
      "model_module_version": "1.2.0",
      "model_name": "LayoutModel",
      "state": {}
     },
     "f2f6204d27534fb7a9173e3a24212eaf": {
      "model_module": "pgljupyter",
      "model_module_version": "^0.1.21",
      "model_name": "_CurveEditorModel",
      "state": {
       "_model_module_version": "^0.1.21",
       "_view_module_version": "^0.1.21",
       "layout": "IPY_MODEL_9d566b302d0d45bdbb3325c18d8dab6e",
       "points": [
        [
         -0.558642,
         0.0459491
        ],
        [
         -0.19164778515625,
         0.17889416422271726
        ],
        [
         -0.0008591351562500238,
         -0.2800298857772826
        ],
        [
         0.13836501484374994,
         -0.02736383577728274
        ],
        [
         0.44775201484374993,
         -0.08924123577728274
        ],
        [
         0.575777,
         0.232735
        ]
       ],
       "type": "NurbsCurve2D"
      }
     },
     "f552fa6965124136b93c4e4bdcc15c95": {
      "model_module": "@jupyter-widgets/controls",
      "model_module_version": "1.5.0",
      "model_name": "HBoxModel",
      "state": {
       "children": [
        "IPY_MODEL_ce7395ef8d4241ddbf015c939dfc0031",
        "IPY_MODEL_e6694af06e1a428e8b29566fb58df57c"
       ],
       "layout": "IPY_MODEL_263ecdd17bb7402d96edfda2c741350d"
      }
     },
     "f6bfbe62619e499f8be5ee62de533ec6": {
      "model_module": "@jupyter-widgets/controls",
      "model_module_version": "1.5.0",
      "model_name": "ButtonModel",
      "state": {
       "description": "Delete category",
       "layout": "IPY_MODEL_ea5793149ecc42dca2f47d8ce0347e20",
       "style": "IPY_MODEL_8cb2e593fdfc4a7abb0906ea35f0c1a5"
      }
     },
     "f8c244284866473ab11e6609a6b91227": {
      "model_module": "@jupyter-widgets/controls",
      "model_module_version": "1.5.0",
      "model_name": "CheckboxModel",
      "state": {
       "description": "Auto save",
       "disabled": false,
       "layout": "IPY_MODEL_d480953f20274ea983fad204060803b5",
       "style": "IPY_MODEL_c0a96ac699a94d579e6bd3960f3e5f18",
       "value": false
      }
     },
     "f9fa259f8386417cb1aac69fcc08d871": {
      "model_module": "@jupyter-widgets/base",
      "model_module_version": "1.2.0",
      "model_name": "LayoutModel",
      "state": {}
     },
     "faa700b62f7e45878cc22406e6bb5269": {
      "model_module": "@jupyter-widgets/controls",
      "model_module_version": "1.5.0",
      "model_name": "SliderStyleModel",
      "state": {
       "description_width": ""
      }
     },
     "fbeecce7f4cf4b80b23637313ab0b7ad": {
      "model_module": "@jupyter-widgets/controls",
      "model_module_version": "1.5.0",
      "model_name": "DescriptionStyleModel",
      "state": {
       "description_width": ""
      }
     },
     "fcd35bfae895456ca7bf137bcdcc2451": {
      "model_module": "@jupyter-widgets/controls",
      "model_module_version": "1.5.0",
      "model_name": "SliderStyleModel",
      "state": {
       "description_width": ""
      }
     }
    },
    "version_major": 2,
    "version_minor": 0
   }
  }
 },
 "nbformat": 4,
 "nbformat_minor": 4
}
