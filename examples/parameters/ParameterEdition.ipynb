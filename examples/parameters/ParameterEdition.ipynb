{
 "cells": [
  {
   "cell_type": "code",
   "execution_count": 5,
   "metadata": {},
   "outputs": [],
   "source": [
    "from pgljupyter import LsystemWidget"
   ]
  },
  {
   "cell_type": "code",
   "execution_count": 10,
   "metadata": {},
   "outputs": [],
   "source": [
    "lw = LsystemWidget('parameter_edition', size_display=(800, 600), unit='dm', size_world=5)"
   ]
  },
  {
   "cell_type": "code",
   "execution_count": 11,
   "metadata": {
    "collapsed": true,
    "jupyter": {
     "outputs_hidden": true
    }
   },
   "outputs": [
    {
     "data": {
      "application/vnd.jupyter.widget-view+json": {
       "model_id": "aa35bbb8de314e2d9b4cea68c535305f",
       "version_major": 2,
       "version_minor": 0
      },
      "text/plain": [
       "LsystemWidget(derivationLength=2, scene={'data': b'x\\xdaSLrw\\xf5\\xf7e`Pp\\xe0\\xe5RPVVd\\x00\\x020\\x01\\x003s\\x02\\x…"
      ]
     },
     "metadata": {},
     "output_type": "display_data"
    }
   ],
   "source": [
    "lw"
   ]
  },
  {
   "cell_type": "code",
   "execution_count": 12,
   "metadata": {},
   "outputs": [
    {
     "data": {
      "application/vnd.jupyter.widget-view+json": {
       "model_id": "7a1a819abab94d728f5b951b7f44348e",
       "version_major": 2,
       "version_minor": 0
      },
      "text/plain": [
       "ParameterEditor(children=(VBox(children=(HBox(children=(HBox(children=(Button(description='Apply changes', sty…"
      ]
     },
     "metadata": {},
     "output_type": "display_data"
    }
   ],
   "source": [
    "lw.editor"
   ]
  },
  {
   "cell_type": "code",
   "execution_count": null,
   "metadata": {},
   "outputs": [],
   "source": []
  }
 ],
 "metadata": {
  "kernelspec": {
   "display_name": "Python 3",
   "language": "python",
   "name": "python3"
  },
  "language_info": {
   "codemirror_mode": {
    "name": "ipython",
    "version": 3
   },
   "file_extension": ".py",
   "mimetype": "text/x-python",
   "name": "python",
   "nbconvert_exporter": "python",
   "pygments_lexer": "ipython3",
   "version": "3.8.5"
  },
  "widgets": {
   "application/vnd.jupyter.widget-state+json": {
    "state": {
     "0003fb0eaddc45b7b6ad07e09aca4adc": {
      "model_module": "@jupyter-widgets/controls",
      "model_module_version": "1.5.0",
      "model_name": "DescriptionStyleModel",
      "state": {
       "description_width": ""
      }
     },
     "001df7fb10da496da1d3acf980d7efed": {
      "model_module": "@jupyter-widgets/base",
      "model_module_version": "1.2.0",
      "model_name": "LayoutModel",
      "state": {}
     },
     "002f54286bed46b7a69acdfd29bcdfb7": {
      "model_module": "@jupyter-widgets/base",
      "model_module_version": "1.2.0",
      "model_name": "LayoutModel",
      "state": {}
     },
     "005f629d566b4e9da0d8c008c6d89c64": {
      "model_module": "@jupyter-widgets/controls",
      "model_module_version": "1.5.0",
      "model_name": "DropdownModel",
      "state": {
       "_options_labels": [
        "MAX_ORDER",
        "TROPISM",
        "ELASTICITY"
       ],
       "index": 0,
       "layout": "IPY_MODEL_0296022e595942b888ff4c12fa9f97fe",
       "style": "IPY_MODEL_ac7deffa9ac9477caec7db397703bd78"
      }
     },
     "00d2c8c71da949078912c38b57d2e81e": {
      "model_module": "pgljupyter",
      "model_module_version": "^0.1.17",
      "model_name": "FloatEditorModel",
      "state": {
       "_model_module_version": "^0.1.17",
       "_view_module_version": "^0.1.17",
       "children": [
        "IPY_MODEL_dfd298bee9cd4811834cbd6ca42b60dd",
        "IPY_MODEL_7041adff99f34eebab95f9fe1e9920e5"
       ],
       "layout": "IPY_MODEL_9734000ff8ab4c72afb6afb0936c2b16"
      }
     },
     "00e474b3e93a4930b48bc74a8b2abf3d": {
      "model_module": "@jupyter-widgets/base",
      "model_module_version": "1.2.0",
      "model_name": "LayoutModel",
      "state": {}
     },
     "00e54ccc40ac4414ba7f4704f929ff5a": {
      "model_module": "@jupyter-widgets/base",
      "model_module_version": "1.2.0",
      "model_name": "LayoutModel",
      "state": {}
     },
     "01488d33f4ca4e2b810d8942ab717811": {
      "model_module": "@jupyter-widgets/controls",
      "model_module_version": "1.5.0",
      "model_name": "HBoxModel",
      "state": {
       "children": [
        "IPY_MODEL_358eee293bd646cb9758dcc09fa82a0d",
        "IPY_MODEL_aed60cd3bad64c6aaf78cede2850d78f"
       ],
       "layout": "IPY_MODEL_b6ec2cc1056b406087829c47aa70ed2e"
      }
     },
     "015c8a205f674ca0b5e0732e368833b5": {
      "model_module": "@jupyter-widgets/base",
      "model_module_version": "1.2.0",
      "model_name": "LayoutModel",
      "state": {}
     },
     "01b0d7f8aac846c6b9084c606396eaae": {
      "model_module": "@jupyter-widgets/controls",
      "model_module_version": "1.5.0",
      "model_name": "DropdownModel",
      "state": {
       "_options_labels": [
        "Integer",
        "Float",
        "Bool"
       ],
       "index": 0,
       "layout": "IPY_MODEL_d1e0f3fc927d4096bbd84fd8ca87c1cd",
       "style": "IPY_MODEL_593977975df647ad848f27ac5f7e24d4"
      }
     },
     "01e30e68b3af4fcaa624e3ec4e4b3da9": {
      "model_module": "@jupyter-widgets/controls",
      "model_module_version": "1.5.0",
      "model_name": "SliderStyleModel",
      "state": {
       "description_width": ""
      }
     },
     "028fa17073d54a469f28378d640c1972": {
      "model_module": "@jupyter-widgets/controls",
      "model_module_version": "1.5.0",
      "model_name": "ButtonStyleModel",
      "state": {}
     },
     "0296022e595942b888ff4c12fa9f97fe": {
      "model_module": "@jupyter-widgets/base",
      "model_module_version": "1.2.0",
      "model_name": "LayoutModel",
      "state": {}
     },
     "02ae419a1b544b9fb7eb560312f8530d": {
      "model_module": "@jupyter-widgets/controls",
      "model_module_version": "1.5.0",
      "model_name": "ButtonStyleModel",
      "state": {}
     },
     "0352dc43a9dd49eaae5c089f6bbecdbd": {
      "model_module": "@jupyter-widgets/base",
      "model_module_version": "1.2.0",
      "model_name": "LayoutModel",
      "state": {
       "margin": "20px 0px"
      }
     },
     "04299ed344824bd4ba9c82ffb054d10b": {
      "model_module": "@jupyter-widgets/controls",
      "model_module_version": "1.5.0",
      "model_name": "SliderStyleModel",
      "state": {
       "description_width": ""
      }
     },
     "046b39781f894971a60c532d3f3f0854": {
      "model_module": "@jupyter-widgets/base",
      "model_module_version": "1.2.0",
      "model_name": "LayoutModel",
      "state": {}
     },
     "04c3ee3bbbc345c688c5717616a76cc3": {
      "model_module": "@jupyter-widgets/base",
      "model_module_version": "1.2.0",
      "model_name": "LayoutModel",
      "state": {}
     },
     "05061e8d1e544701b8893f4b5bb5b5a8": {
      "model_module": "@jupyter-widgets/controls",
      "model_module_version": "1.5.0",
      "model_name": "DescriptionStyleModel",
      "state": {
       "description_width": ""
      }
     },
     "0564960885f2492d945715a138884e91": {
      "model_module": "@jupyter-widgets/base",
      "model_module_version": "1.2.0",
      "model_name": "LayoutModel",
      "state": {}
     },
     "06659177901041aea9b32bab20014d7f": {
      "model_module": "@jupyter-widgets/controls",
      "model_module_version": "1.5.0",
      "model_name": "DescriptionStyleModel",
      "state": {
       "description_width": ""
      }
     },
     "06a9a19c62d442b6bcbd05c491b30014": {
      "model_module": "@jupyter-widgets/base",
      "model_module_version": "1.2.0",
      "model_name": "LayoutModel",
      "state": {}
     },
     "06d9a62836ce493e8ed5e771528d06be": {
      "model_module": "@jupyter-widgets/controls",
      "model_module_version": "1.5.0",
      "model_name": "HBoxModel",
      "state": {
       "children": [
        "IPY_MODEL_d4611d017c164c22a36e6a4924b7976a",
        "IPY_MODEL_0f4a893482fd4faf9f126fc4b8963734"
       ],
       "layout": "IPY_MODEL_a4a70e96233c4705b6564c1473c858a9"
      }
     },
     "0705681385f64c6486f84ea86448769e": {
      "model_module": "@jupyter-widgets/base",
      "model_module_version": "1.2.0",
      "model_name": "LayoutModel",
      "state": {}
     },
     "07dca1b610f44f92aa80ac06d65d92b2": {
      "model_module": "@jupyter-widgets/base",
      "model_module_version": "1.2.0",
      "model_name": "LayoutModel",
      "state": {}
     },
     "08fd3b2eb5b0456d9a80604dddee99fd": {
      "model_module": "@jupyter-widgets/base",
      "model_module_version": "1.2.0",
      "model_name": "LayoutModel",
      "state": {}
     },
     "091742f55a514bb288134e33c2307b3a": {
      "model_module": "@jupyter-widgets/controls",
      "model_module_version": "1.5.0",
      "model_name": "DescriptionStyleModel",
      "state": {
       "description_width": ""
      }
     },
     "09488c686d414d158e72dda32f5a3ae6": {
      "model_module": "@jupyter-widgets/controls",
      "model_module_version": "1.5.0",
      "model_name": "HBoxModel",
      "state": {
       "children": [
        "IPY_MODEL_c61bd222f8634b4eb53a95f14e19942d",
        "IPY_MODEL_8d8cab9a0f024d07ae340b4cc770b3d7"
       ],
       "layout": "IPY_MODEL_d4c4c228d5fb4138a8bcbb247c4f397a"
      }
     },
     "098f6c32af724038a5b5ff2207e52694": {
      "model_module": "@jupyter-widgets/controls",
      "model_module_version": "1.5.0",
      "model_name": "VBoxModel",
      "state": {
       "children": [
        "IPY_MODEL_99cee8f488b541a5896bee3830a8facf",
        "IPY_MODEL_6e8a58c9c9344a64ae79bdd7e7022181"
       ],
       "layout": "IPY_MODEL_a7ec4e60620d4d0d808dacad86e16d95"
      }
     },
     "09a81bc51b164f9bb28101cfaa7d1cd0": {
      "model_module": "@jupyter-widgets/controls",
      "model_module_version": "1.5.0",
      "model_name": "DescriptionStyleModel",
      "state": {
       "description_width": ""
      }
     },
     "0abec889348244f5833066fffe9b4785": {
      "model_module": "@jupyter-widgets/base",
      "model_module_version": "1.2.0",
      "model_name": "LayoutModel",
      "state": {}
     },
     "0ac9e51aaea64ebb8a65d3ecec5ee3da": {
      "model_module": "@jupyter-widgets/controls",
      "model_module_version": "1.5.0",
      "model_name": "ButtonModel",
      "state": {
       "description": "Save changes",
       "layout": "IPY_MODEL_c92e758c1ffa42d0b9e750fa56b20a64",
       "style": "IPY_MODEL_85e160ecd73d4c9d8f74557f4db3f26f"
      }
     },
     "0bace74bc6e14dd7a741248532f27fa4": {
      "model_module": "@jupyter-widgets/controls",
      "model_module_version": "1.5.0",
      "model_name": "HBoxModel",
      "state": {
       "layout": "IPY_MODEL_c2caeac613d74a5badc8f19d69939506"
      }
     },
     "0bd798568d954d988898dc74aff0574e": {
      "model_module": "@jupyter-widgets/controls",
      "model_module_version": "1.5.0",
      "model_name": "ButtonModel",
      "state": {
       "description": "Delete",
       "layout": "IPY_MODEL_5a53ed17707749858d6a3b5b5b3b1998",
       "style": "IPY_MODEL_b19ecdc238054d0cbe3efee0844b15da"
      }
     },
     "0c564ca9f5ee4ea5af5450c11e93c8d7": {
      "model_module": "@jupyter-widgets/controls",
      "model_module_version": "1.5.0",
      "model_name": "TextModel",
      "state": {
       "continuous_update": false,
       "description": "name",
       "layout": "IPY_MODEL_19aea38c51024291a4f69fe68025f18c",
       "style": "IPY_MODEL_9ba5ed0cd3fb4d909d66f7a6c23880e9",
       "value": "TROPISM"
      }
     },
     "0cc558f4284e46df81fe96e96c452a19": {
      "model_module": "@jupyter-widgets/base",
      "model_module_version": "1.2.0",
      "model_name": "LayoutModel",
      "state": {}
     },
     "0cf5df65662942a88f86b021c91c3c37": {
      "model_module": "@jupyter-widgets/controls",
      "model_module_version": "1.5.0",
      "model_name": "BoundedIntTextModel",
      "state": {
       "description": "index",
       "layout": "IPY_MODEL_b3e3284921944d618ce9a00da7d5d842",
       "style": "IPY_MODEL_c773e20dcbf94cec948bac9316f7dcc6",
       "value": 1
      }
     },
     "0d99f70190fc4324978197b1540eb6f1": {
      "model_module": "@jupyter-widgets/controls",
      "model_module_version": "1.5.0",
      "model_name": "TextModel",
      "state": {
       "continuous_update": false,
       "description": "name",
       "layout": "IPY_MODEL_4aa7a3ab4b844357bf24264b0a16c31f",
       "style": "IPY_MODEL_42a6fa24aca24b70bba5e16cf4d84433",
       "value": "TROPISM"
      }
     },
     "0e61c0b2933942aba05d490241dcf34c": {
      "model_module": "@jupyter-widgets/base",
      "model_module_version": "1.2.0",
      "model_name": "LayoutModel",
      "state": {}
     },
     "0e88f3deef6c4bc3a0ec1c15e56ba8f4": {
      "model_module": "@jupyter-widgets/controls",
      "model_module_version": "1.5.0",
      "model_name": "FloatSliderModel",
      "state": {
       "description": "shininess",
       "layout": "IPY_MODEL_0cc558f4284e46df81fe96e96c452a19",
       "max": 1,
       "step": 0.1,
       "style": "IPY_MODEL_153fae062e8148dcaea7c20c27ec3d25"
      }
     },
     "0eaec2c54dc1496e81780185dd8a6970": {
      "model_module": "@jupyter-widgets/controls",
      "model_module_version": "1.5.0",
      "model_name": "DescriptionStyleModel",
      "state": {
       "description_width": ""
      }
     },
     "0ecf4e640ea74b7ea234452321e19e09": {
      "model_module": "@jupyter-widgets/controls",
      "model_module_version": "1.5.0",
      "model_name": "DescriptionStyleModel",
      "state": {
       "description_width": ""
      }
     },
     "0ef0253c2e8643238b09dfa25f199da7": {
      "model_module": "@jupyter-widgets/controls",
      "model_module_version": "1.5.0",
      "model_name": "ButtonStyleModel",
      "state": {}
     },
     "0f1eb2fddf044ef9aac5211e05f796a3": {
      "model_module": "@jupyter-widgets/controls",
      "model_module_version": "1.5.0",
      "model_name": "DropdownModel",
      "state": {
       "_options_labels": [
        "MAX_ORDER",
        "TROPISM",
        "ELASTICITY"
       ],
       "index": 0,
       "layout": "IPY_MODEL_910153d0327e45ed92165a0e322b19c3",
       "style": "IPY_MODEL_2af802214dea4e4dbf739c55da31da18"
      }
     },
     "0f4284cd66094b0ba48f85ce238415e0": {
      "model_module": "@jupyter-widgets/controls",
      "model_module_version": "1.5.0",
      "model_name": "ButtonStyleModel",
      "state": {}
     },
     "0f4a893482fd4faf9f126fc4b8963734": {
      "model_module": "@jupyter-widgets/controls",
      "model_module_version": "1.5.0",
      "model_name": "TextModel",
      "state": {
       "layout": "IPY_MODEL_847374f8b6ce43baab698c48ce3ae40b",
       "placeholder": "category name",
       "style": "IPY_MODEL_aa228a70806848c294387e687e19a484"
      }
     },
     "0fdb37f033cb4168a47f42dd7b73fa71": {
      "model_module": "pgljupyter",
      "model_module_version": "^0.1.17",
      "model_name": "_CurveEditorModel",
      "state": {
       "_model_module_version": "^0.1.17",
       "_view_module_version": "^0.1.17",
       "layout": "IPY_MODEL_9bca8a4cef7c4f88a601ac27cc6c5c49",
       "points": [
        [
         -0.558642,
         0.0459491
        ],
        [
         -0.26407979375,
         0.024200664222717327
        ],
        [
         -0.0295213,
         -0.153395
        ],
        [
         0.147239,
         -0.0700503
        ],
        [
         0.412901,
         0.0201295
        ],
        [
         0.575777,
         0.232735
        ]
       ],
       "type": "NurbsCurve2D"
      }
     },
     "1054e4a221f0448bb4d53420771bb0ed": {
      "model_module": "@jupyter-widgets/controls",
      "model_module_version": "1.5.0",
      "model_name": "DropdownModel",
      "state": {
       "_options_labels": [
        "NurbsCurve2D",
        "BezierCurve2D",
        "Polyline2D",
        "Function"
       ],
       "index": 0,
       "layout": "IPY_MODEL_851237505d5e4db58dfa4a9b56d1c45d",
       "style": "IPY_MODEL_9de45d54419b4ae1a5625e0bf60fa0cd"
      }
     },
     "111799af22874e989c5472f4bac1c679": {
      "model_module": "@jupyter-widgets/controls",
      "model_module_version": "1.5.0",
      "model_name": "DropdownModel",
      "state": {
       "_options_labels": [
        "Integer",
        "Float",
        "Bool"
       ],
       "index": 0,
       "layout": "IPY_MODEL_d64143f853524148bf1bb4719ff495f7",
       "style": "IPY_MODEL_091742f55a514bb288134e33c2307b3a"
      }
     },
     "115491e156ba4d68b66df63135e59dc4": {
      "model_module": "@jupyter-widgets/controls",
      "model_module_version": "1.5.0",
      "model_name": "DescriptionStyleModel",
      "state": {
       "description_width": ""
      }
     },
     "1171b59a9677497f9c240b30c5b61d85": {
      "model_module": "pgljupyter",
      "model_module_version": "^0.1.17",
      "model_name": "_CurveEditorModel",
      "state": {
       "_model_module_version": "^0.1.17",
       "_view_module_version": "^0.1.17",
       "layout": "IPY_MODEL_5f720e4edbe14ce48f5f469829d641e4",
       "points": [
        [
         -0.558642,
         0.0459491
        ],
        [
         -0.272827,
         -0.068981
        ],
        [
         -0.0295213,
         -0.153395
        ],
        [
         0.147239,
         -0.0700503
        ],
        [
         0.412901,
         0.0201295
        ],
        [
         0.575777,
         0.232735
        ]
       ],
       "type": "NurbsCurve2D"
      }
     },
     "117c1aba2fa24e389a5d23afdae8222a": {
      "model_module": "@jupyter-widgets/controls",
      "model_module_version": "1.5.0",
      "model_name": "FloatSliderModel",
      "state": {
       "description": "transparency",
       "layout": "IPY_MODEL_cc2d2fb71eea41339e84556a2f0bed5b",
       "max": 1,
       "step": 0.1,
       "style": "IPY_MODEL_49fc1097af854d74ba46e775814cbb14"
      }
     },
     "119782de44694dbc80d15dc959c61fd6": {
      "model_module": "@jupyter-widgets/base",
      "model_module_version": "1.2.0",
      "model_name": "LayoutModel",
      "state": {}
     },
     "1222cb9c06ab400381b8d3410b9a6c61": {
      "model_module": "@jupyter-widgets/base",
      "model_module_version": "1.2.0",
      "model_name": "LayoutModel",
      "state": {}
     },
     "12d213331cd84fc79c8a96b11ea921bd": {
      "model_module": "@jupyter-widgets/base",
      "model_module_version": "1.2.0",
      "model_name": "LayoutModel",
      "state": {}
     },
     "138ec70c4d004d939286580a2b30c241": {
      "model_module": "pgljupyter",
      "model_module_version": "^0.1.17",
      "model_name": "BoolEditorModel",
      "state": {
       "_model_module_version": "^0.1.17",
       "_view_module_version": "^0.1.17",
       "children": [
        "IPY_MODEL_0c564ca9f5ee4ea5af5450c11e93c8d7",
        "IPY_MODEL_235be38e2c23466f815b6f97b3c2aae7"
       ],
       "layout": "IPY_MODEL_15ca4bd9da4e46bbb4a975e578646546"
      }
     },
     "13fb1c5002d04520bb6fd2fcdfc70be1": {
      "model_module": "@jupyter-widgets/base",
      "model_module_version": "1.2.0",
      "model_name": "LayoutModel",
      "state": {}
     },
     "14561aa86f8e40ea83a3d1727cb76487": {
      "model_module": "@jupyter-widgets/controls",
      "model_module_version": "1.5.0",
      "model_name": "ButtonStyleModel",
      "state": {}
     },
     "153fae062e8148dcaea7c20c27ec3d25": {
      "model_module": "@jupyter-widgets/controls",
      "model_module_version": "1.5.0",
      "model_name": "SliderStyleModel",
      "state": {
       "description_width": ""
      }
     },
     "15ca4bd9da4e46bbb4a975e578646546": {
      "model_module": "@jupyter-widgets/base",
      "model_module_version": "1.2.0",
      "model_name": "LayoutModel",
      "state": {
       "margin": "20px 0px"
      }
     },
     "166193435b22411ab38d5b7e2c2cb99f": {
      "model_module": "@jupyter-widgets/controls",
      "model_module_version": "1.5.0",
      "model_name": "HBoxModel",
      "state": {
       "children": [
        "IPY_MODEL_b8a9c93d1d3d435a9f11d668cf6fd29a",
        "IPY_MODEL_138ec70c4d004d939286580a2b30c241",
        "IPY_MODEL_79f732610f354de288249733337d9289"
       ],
       "layout": "IPY_MODEL_687318a637ff4d5fac4c4916cb612210"
      }
     },
     "172461840b6c48699b77c603ec018dbb": {
      "model_module": "@jupyter-widgets/controls",
      "model_module_version": "1.5.0",
      "model_name": "DescriptionStyleModel",
      "state": {
       "description_width": ""
      }
     },
     "17d17e6a6b304ecaa0d7fd9395ab0c2c": {
      "model_module": "@jupyter-widgets/controls",
      "model_module_version": "1.5.0",
      "model_name": "DropdownModel",
      "state": {
       "_options_labels": [
        "NurbsCurve2D",
        "BezierCurve2D",
        "Polyline2D",
        "Function"
       ],
       "index": 0,
       "layout": "IPY_MODEL_f5e95eaa87184222a3230e77e716030c",
       "style": "IPY_MODEL_185bb4c1f9ac447bbbe3f9253363813d"
      }
     },
     "185bb4c1f9ac447bbbe3f9253363813d": {
      "model_module": "@jupyter-widgets/controls",
      "model_module_version": "1.5.0",
      "model_name": "DescriptionStyleModel",
      "state": {
       "description_width": ""
      }
     },
     "186d91ae81a94dc29f48124bb5f50f9c": {
      "model_module": "@jupyter-widgets/base",
      "model_module_version": "1.2.0",
      "model_name": "LayoutModel",
      "state": {}
     },
     "18b28064b45341f797d2260daa008190": {
      "model_module": "@jupyter-widgets/base",
      "model_module_version": "1.2.0",
      "model_name": "LayoutModel",
      "state": {}
     },
     "190c3fc700da4f328d168fadeab5b846": {
      "model_module": "@jupyter-widgets/controls",
      "model_module_version": "1.5.0",
      "model_name": "HBoxModel",
      "state": {
       "children": [
        "IPY_MODEL_463c7a04344e4b0eb171597a589255e5"
       ],
       "layout": "IPY_MODEL_a6628de87d684204a7a07c42b2147e43"
      }
     },
     "1953dab5258b4db489f83b62daa1d422": {
      "model_module": "@jupyter-widgets/controls",
      "model_module_version": "1.5.0",
      "model_name": "SliderStyleModel",
      "state": {
       "description_width": ""
      }
     },
     "19aea38c51024291a4f69fe68025f18c": {
      "model_module": "@jupyter-widgets/base",
      "model_module_version": "1.2.0",
      "model_name": "LayoutModel",
      "state": {}
     },
     "1a38c965eda648b689dd58a0f989c95e": {
      "model_module": "@jupyter-widgets/base",
      "model_module_version": "1.2.0",
      "model_name": "LayoutModel",
      "state": {}
     },
     "1b362f32acae4982a5000a8805c2f5c1": {
      "model_module": "@jupyter-widgets/controls",
      "model_module_version": "1.5.0",
      "model_name": "SliderStyleModel",
      "state": {
       "description_width": ""
      }
     },
     "1bbd22237bf44ae09b31434df0b370b2": {
      "model_module": "@jupyter-widgets/controls",
      "model_module_version": "1.5.0",
      "model_name": "DescriptionStyleModel",
      "state": {
       "description_width": ""
      }
     },
     "1be432eebe6b42118db40058cc11305d": {
      "model_module": "@jupyter-widgets/base",
      "model_module_version": "1.2.0",
      "model_name": "LayoutModel",
      "state": {}
     },
     "1c45277519914538848fdc0461cb5c44": {
      "model_module": "@jupyter-widgets/controls",
      "model_module_version": "1.5.0",
      "model_name": "VBoxModel",
      "state": {
       "children": [
        "IPY_MODEL_6860a3785866496dbd7ee454115778b8",
        "IPY_MODEL_57b9e9c7a44a47a99705661fb87ea133"
       ],
       "layout": "IPY_MODEL_748855f91278468aa50ca9d3f91e139b"
      }
     },
     "1c7cfd4f98f74e39b167ce6309820bad": {
      "model_module": "@jupyter-widgets/base",
      "model_module_version": "1.2.0",
      "model_name": "LayoutModel",
      "state": {}
     },
     "1c81c8c9153d44b8923611496a5fc9a2": {
      "model_module": "@jupyter-widgets/controls",
      "model_module_version": "1.5.0",
      "model_name": "DescriptionStyleModel",
      "state": {
       "description_width": ""
      }
     },
     "1cf04ebefb9e40e782e82000396f6b37": {
      "model_module": "@jupyter-widgets/controls",
      "model_module_version": "1.5.0",
      "model_name": "HBoxModel",
      "state": {
       "children": [
        "IPY_MODEL_867c6131fdf24ef6bb56962512e0a995",
        "IPY_MODEL_dba17168ed154f66b0bbf98fc2775022",
        "IPY_MODEL_bfb711e82abe407c9d47ee7ccd824651"
       ],
       "layout": "IPY_MODEL_fcddbcaa89834ff482558bf1c5c2988a"
      }
     },
     "1cff6b7a144747e6aa5e5697caa814ae": {
      "model_module": "@jupyter-widgets/controls",
      "model_module_version": "1.5.0",
      "model_name": "ButtonStyleModel",
      "state": {}
     },
     "1d6128555d7d48b58b257d1e8615e938": {
      "model_module": "@jupyter-widgets/controls",
      "model_module_version": "1.5.0",
      "model_name": "HBoxModel",
      "state": {
       "children": [
        "IPY_MODEL_3a7d870fdd334b0da43f18398a00e338",
        "IPY_MODEL_17d17e6a6b304ecaa0d7fd9395ab0c2c"
       ],
       "layout": "IPY_MODEL_91824f8d5d8140c7aa0d141d536288ee"
      }
     },
     "1e9d9a4e286c4c119acadf22b928b055": {
      "model_module": "@jupyter-widgets/controls",
      "model_module_version": "1.5.0",
      "model_name": "HBoxModel",
      "state": {
       "children": [
        "IPY_MODEL_437f87fc3bab4efea3f742160a3ee828",
        "IPY_MODEL_8ee58f2f52374a268c1c47c5f82219e3",
        "IPY_MODEL_00d2c8c71da949078912c38b57d2e81e"
       ],
       "layout": "IPY_MODEL_c2caeac613d74a5badc8f19d69939506"
      }
     },
     "1f83dcb483454c56818adf87a6f89612": {
      "model_module": "@jupyter-widgets/controls",
      "model_module_version": "1.5.0",
      "model_name": "TextModel",
      "state": {
       "continuous_update": false,
       "description": "name",
       "layout": "IPY_MODEL_a21f7fa025fe4f08bb816a1bbc1ebb49",
       "style": "IPY_MODEL_3c91b6d7acbc46d983d0f480db206bb2",
       "value": "Color_1"
      }
     },
     "1fcdbf0df6154098bfa296952452f2eb": {
      "model_module": "@jupyter-widgets/controls",
      "model_module_version": "1.5.0",
      "model_name": "HBoxModel",
      "state": {
       "children": [
        "IPY_MODEL_29f5e02a77ce4584a6f633580a4c40f4",
        "IPY_MODEL_f449028b91a14d0698bcd4c72c3e8965"
       ],
       "layout": "IPY_MODEL_498ddc68626a4e38ac222d68cc285734"
      }
     },
     "200c38a46e7042c5966902a5e8329d38": {
      "model_module": "@jupyter-widgets/controls",
      "model_module_version": "1.5.0",
      "model_name": "ButtonModel",
      "state": {
       "description": "Add",
       "layout": "IPY_MODEL_2fdc1df364bb4e5c8bee8965f9bd8bf8",
       "style": "IPY_MODEL_be799c2ccd1c48b2b572c84dd645edcb"
      }
     },
     "20b892640bae41349b6a153422371514": {
      "model_module": "@jupyter-widgets/controls",
      "model_module_version": "1.5.0",
      "model_name": "HBoxModel",
      "state": {
       "children": [
        "IPY_MODEL_9795b67f68964a0a9880e476131c1293",
        "IPY_MODEL_a02c9870192745e2a2d423177c66b516"
       ],
       "layout": "IPY_MODEL_38e94f8fa3644566b19b89a1b6fad3a0"
      }
     },
     "2105c9674c6b423e85ce18d3e2f7527d": {
      "model_module": "@jupyter-widgets/controls",
      "model_module_version": "1.5.0",
      "model_name": "ColorPickerModel",
      "state": {
       "description": "ambient",
       "disabled": false,
       "layout": "IPY_MODEL_b87ef4a5df4544a8822eb14993771374",
       "style": "IPY_MODEL_172461840b6c48699b77c603ec018dbb",
       "value": "#412d0f"
      }
     },
     "21208e5b9a714b31a9cbd3c140b2ed5f": {
      "model_module": "@jupyter-widgets/base",
      "model_module_version": "1.2.0",
      "model_name": "LayoutModel",
      "state": {}
     },
     "2133b3e19168489badd19178c3e4f648": {
      "model_module": "@jupyter-widgets/controls",
      "model_module_version": "1.5.0",
      "model_name": "HBoxModel",
      "state": {
       "children": [
        "IPY_MODEL_9d70a1b432b94dfe9243e83811c284bc",
        "IPY_MODEL_09488c686d414d158e72dda32f5a3ae6"
       ],
       "layout": "IPY_MODEL_38e94f8fa3644566b19b89a1b6fad3a0"
      }
     },
     "2148dec2b2e649f7aa45e2e31f30962d": {
      "model_module": "@jupyter-widgets/controls",
      "model_module_version": "1.5.0",
      "model_name": "AccordionModel",
      "state": {
       "_titles": {
        "0": "options",
        "1": "materials",
        "2": "Panel"
       },
       "children": [
        "IPY_MODEL_5aa55c3838aa413e97e3251c2db4e957",
        "IPY_MODEL_098f6c32af724038a5b5ff2207e52694",
        "IPY_MODEL_ac041aa8d1cb43fa897f5b848ba259d3"
       ],
       "layout": "IPY_MODEL_7fd4f445744041abb0aa8bede9c903e0"
      }
     },
     "21e6c79c9f58460da0e5885f1b993a74": {
      "model_module": "@jupyter-widgets/controls",
      "model_module_version": "1.5.0",
      "model_name": "DescriptionStyleModel",
      "state": {
       "description_width": ""
      }
     },
     "2224c5abe49c4d91a4a3fb9e6b47e9f1": {
      "model_module": "@jupyter-widgets/base",
      "model_module_version": "1.2.0",
      "model_name": "LayoutModel",
      "state": {}
     },
     "22602b9727874ebd8c9c4d0eb121a700": {
      "model_module": "@jupyter-widgets/base",
      "model_module_version": "1.2.0",
      "model_name": "LayoutModel",
      "state": {}
     },
     "22bf9f9c55b94694847402d42666236d": {
      "model_module": "@jupyter-widgets/controls",
      "model_module_version": "1.5.0",
      "model_name": "DescriptionStyleModel",
      "state": {
       "description_width": ""
      }
     },
     "22cf4c47eaec4d8d9c2e97867868e8d2": {
      "model_module": "@jupyter-widgets/base",
      "model_module_version": "1.2.0",
      "model_name": "LayoutModel",
      "state": {}
     },
     "2307ffe049d84278955f0e107f710f50": {
      "model_module": "@jupyter-widgets/controls",
      "model_module_version": "1.5.0",
      "model_name": "FloatSliderModel",
      "state": {
       "description": "value",
       "layout": "IPY_MODEL_9ff93bfe14af4d5f9347c66ca5bf1a98",
       "max": 3,
       "step": 0.001,
       "style": "IPY_MODEL_72d530a0131e407ba685adaf7d7d2d46",
       "value": 0.03
      }
     },
     "235be38e2c23466f815b6f97b3c2aae7": {
      "model_module": "@jupyter-widgets/controls",
      "model_module_version": "1.5.0",
      "model_name": "CheckboxModel",
      "state": {
       "description": "value",
       "disabled": false,
       "layout": "IPY_MODEL_b716934007aa4efda98b3da448b206c9",
       "style": "IPY_MODEL_22bf9f9c55b94694847402d42666236d",
       "value": false
      }
     },
     "238aca6d361d4fb1b2f462a65e95a9aa": {
      "model_module": "@jupyter-widgets/base",
      "model_module_version": "1.2.0",
      "model_name": "LayoutModel",
      "state": {}
     },
     "23b9b806d1234c9a8972ec9a90f482e7": {
      "model_module": "@jupyter-widgets/base",
      "model_module_version": "1.2.0",
      "model_name": "LayoutModel",
      "state": {}
     },
     "24931f8057a844309101a937114eaa3b": {
      "model_module": "@jupyter-widgets/controls",
      "model_module_version": "1.5.0",
      "model_name": "ButtonStyleModel",
      "state": {}
     },
     "24caedc345a248a2888bda1103984a84": {
      "model_module": "@jupyter-widgets/controls",
      "model_module_version": "1.5.0",
      "model_name": "TextModel",
      "state": {
       "continuous_update": false,
       "description": "name",
       "layout": "IPY_MODEL_6c960ce1cc6b44c39e4de22e97da6c0c",
       "style": "IPY_MODEL_a574fb36f21349bfa3a1b4efbddacd06",
       "value": "branchpath"
      }
     },
     "25646bf9e8ab472da5d01e7847ec1b03": {
      "model_module": "@jupyter-widgets/base",
      "model_module_version": "1.2.0",
      "model_name": "LayoutModel",
      "state": {}
     },
     "267011423e6f4a26a258c47500ad6f4f": {
      "model_module": "@jupyter-widgets/controls",
      "model_module_version": "1.5.0",
      "model_name": "DescriptionStyleModel",
      "state": {
       "description_width": ""
      }
     },
     "26d96346261346be87c3d6008cf30187": {
      "model_module": "@jupyter-widgets/base",
      "model_module_version": "1.2.0",
      "model_name": "LayoutModel",
      "state": {}
     },
     "270229a41f7d44b19167636567fa7359": {
      "model_module": "@jupyter-widgets/controls",
      "model_module_version": "1.5.0",
      "model_name": "ButtonModel",
      "state": {
       "description": "Delete",
       "layout": "IPY_MODEL_ad42992371b541dfbc2dfbe482e17e21",
       "style": "IPY_MODEL_c4a74f31810f4b47b859642ec18ea5fb"
      }
     },
     "275220601a7a48178a80352a32093420": {
      "model_module": "@jupyter-widgets/controls",
      "model_module_version": "1.5.0",
      "model_name": "ButtonStyleModel",
      "state": {}
     },
     "275ec479ea77463195670af88d73d72a": {
      "model_module": "@jupyter-widgets/controls",
      "model_module_version": "1.5.0",
      "model_name": "DescriptionStyleModel",
      "state": {
       "description_width": ""
      }
     },
     "27a048fa5b66429ead9f50e8a28e8795": {
      "model_module": "@jupyter-widgets/controls",
      "model_module_version": "1.5.0",
      "model_name": "ButtonModel",
      "state": {
       "description": "Add",
       "layout": "IPY_MODEL_81372c7966c141689761d02a61959ea6",
       "style": "IPY_MODEL_2c5cc881a8524387a7b65b20163be1ee"
      }
     },
     "28062c2fb4bb46f9b0e3956661dd1f05": {
      "model_module": "@jupyter-widgets/base",
      "model_module_version": "1.2.0",
      "model_name": "LayoutModel",
      "state": {}
     },
     "280a4c63511e41609d7837ac6673c996": {
      "model_module": "@jupyter-widgets/controls",
      "model_module_version": "1.5.0",
      "model_name": "DescriptionStyleModel",
      "state": {
       "description_width": ""
      }
     },
     "29d38c4e70df40ad9e8d160ee8a30966": {
      "model_module": "@jupyter-widgets/controls",
      "model_module_version": "1.5.0",
      "model_name": "HBoxModel",
      "state": {
       "children": [
        "IPY_MODEL_9fb1aeda391544de89dbd6d86ac8c823",
        "IPY_MODEL_3d6b3c6d830e4503857e8b8bbb077bbd"
       ],
       "layout": "IPY_MODEL_ef30c2568c5e461d9d03d3effd7ae270"
      }
     },
     "29f5e02a77ce4584a6f633580a4c40f4": {
      "model_module": "@jupyter-widgets/controls",
      "model_module_version": "1.5.0",
      "model_name": "ButtonModel",
      "state": {
       "description": "Apply changes",
       "layout": "IPY_MODEL_e72a0ef3f92e463dab75049c101ed5b6",
       "style": "IPY_MODEL_0ef0253c2e8643238b09dfa25f199da7"
      }
     },
     "2ac8172252c04fbcba289aa883037416": {
      "model_module": "@jupyter-widgets/base",
      "model_module_version": "1.2.0",
      "model_name": "LayoutModel",
      "state": {}
     },
     "2af802214dea4e4dbf739c55da31da18": {
      "model_module": "@jupyter-widgets/controls",
      "model_module_version": "1.5.0",
      "model_name": "DescriptionStyleModel",
      "state": {
       "description_width": ""
      }
     },
     "2bbee839197c44dabd5668232367543c": {
      "model_module": "@jupyter-widgets/base",
      "model_module_version": "1.2.0",
      "model_name": "LayoutModel",
      "state": {}
     },
     "2c5cc881a8524387a7b65b20163be1ee": {
      "model_module": "@jupyter-widgets/controls",
      "model_module_version": "1.5.0",
      "model_name": "ButtonStyleModel",
      "state": {}
     },
     "2cca7525287743d6bf4417540fdad1e2": {
      "model_module": "@jupyter-widgets/controls",
      "model_module_version": "1.5.0",
      "model_name": "DescriptionStyleModel",
      "state": {
       "description_width": ""
      }
     },
     "2d5973ee63e84883a11f54155594df2f": {
      "model_module": "@jupyter-widgets/controls",
      "model_module_version": "1.5.0",
      "model_name": "SliderStyleModel",
      "state": {
       "description_width": ""
      }
     },
     "2fdc1df364bb4e5c8bee8965f9bd8bf8": {
      "model_module": "@jupyter-widgets/base",
      "model_module_version": "1.2.0",
      "model_name": "LayoutModel",
      "state": {}
     },
     "3054536b46b34e608cb34a44113689a6": {
      "model_module": "@jupyter-widgets/base",
      "model_module_version": "1.2.0",
      "model_name": "LayoutModel",
      "state": {}
     },
     "3120a9fa2b50425fa6989e3c66c4133d": {
      "model_module": "@jupyter-widgets/base",
      "model_module_version": "1.2.0",
      "model_name": "LayoutModel",
      "state": {}
     },
     "3168ed8406f5491da69fc71958c37e53": {
      "model_module": "@jupyter-widgets/controls",
      "model_module_version": "1.5.0",
      "model_name": "SliderStyleModel",
      "state": {
       "description_width": ""
      }
     },
     "319639274e1b41b4be208094bbb26d7d": {
      "model_module": "@jupyter-widgets/controls",
      "model_module_version": "1.5.0",
      "model_name": "HBoxModel",
      "state": {
       "children": [
        "IPY_MODEL_29f5e02a77ce4584a6f633580a4c40f4",
        "IPY_MODEL_f449028b91a14d0698bcd4c72c3e8965"
       ],
       "layout": "IPY_MODEL_e26b49037c0e492da3aedf22ff812906"
      }
     },
     "321a223e8212412dbd1269798432bc68": {
      "model_module": "@jupyter-widgets/controls",
      "model_module_version": "1.5.0",
      "model_name": "HBoxModel",
      "state": {
       "children": [
        "IPY_MODEL_29f5e02a77ce4584a6f633580a4c40f4",
        "IPY_MODEL_f449028b91a14d0698bcd4c72c3e8965"
       ],
       "layout": "IPY_MODEL_dbadfac13eb549ecbdd132a8ec791e5a"
      }
     },
     "327206b192774b56a4326b13004fd5a6": {
      "model_module": "@jupyter-widgets/controls",
      "model_module_version": "1.5.0",
      "model_name": "HBoxModel",
      "state": {
       "children": [
        "IPY_MODEL_319639274e1b41b4be208094bbb26d7d",
        "IPY_MODEL_68f38857b58a4cfc9347338b1529f841",
        "IPY_MODEL_409a1a2ffed34046bc47ecc342f81ae4"
       ],
       "layout": "IPY_MODEL_77341f44262a40e2a27ebd66b279fb5d"
      }
     },
     "32fa7da5861442ab94b92c21a57a9ca7": {
      "model_module": "@jupyter-widgets/base",
      "model_module_version": "1.2.0",
      "model_name": "LayoutModel",
      "state": {}
     },
     "3322a859faa74a18990531ab3375cc62": {
      "model_module": "@jupyter-widgets/controls",
      "model_module_version": "1.5.0",
      "model_name": "VBoxModel",
      "state": {
       "children": [
        "IPY_MODEL_8eff5952b8694859ad1865a78cba20b3",
        "IPY_MODEL_a8cdf14de1b649e78acbf2318481b106",
        "IPY_MODEL_1cf04ebefb9e40e782e82000396f6b37",
        "IPY_MODEL_d82b243e43fc481fbfc465492c0eb914",
        "IPY_MODEL_3c7c8dc3bf6f46a8afa6407707eab599"
       ],
       "layout": "IPY_MODEL_d4551b5138f043538272f3d32efa5293"
      }
     },
     "336b24cdd38d47c8af477fb3bbff9d5f": {
      "model_module": "@jupyter-widgets/base",
      "model_module_version": "1.2.0",
      "model_name": "LayoutModel",
      "state": {
       "margin": "20px 0px"
      }
     },
     "3481681e9ad644b59a1ea715af14283e": {
      "model_module": "@jupyter-widgets/controls",
      "model_module_version": "1.5.0",
      "model_name": "HBoxModel",
      "state": {
       "children": [
        "IPY_MODEL_d4611d017c164c22a36e6a4924b7976a",
        "IPY_MODEL_0f4a893482fd4faf9f126fc4b8963734"
       ],
       "layout": "IPY_MODEL_5c06f16aba7742eba847a33470fae58a"
      }
     },
     "34ce3aaed0f542479bd7b60289252641": {
      "model_module": "@jupyter-widgets/base",
      "model_module_version": "1.2.0",
      "model_name": "LayoutModel",
      "state": {}
     },
     "358eee293bd646cb9758dcc09fa82a0d": {
      "model_module": "@jupyter-widgets/controls",
      "model_module_version": "1.5.0",
      "model_name": "ButtonModel",
      "state": {
       "description": "Delete",
       "layout": "IPY_MODEL_8fe7e29ea17942e9a5b04fb2ed332bd8",
       "style": "IPY_MODEL_ba3c86ec2fdb4f3794ace202b2921828"
      }
     },
     "35f57e06afca44b2848ad617425924eb": {
      "model_module": "@jupyter-widgets/controls",
      "model_module_version": "1.5.0",
      "model_name": "DescriptionStyleModel",
      "state": {
       "description_width": ""
      }
     },
     "36183d93b3b34066a919534925090bbd": {
      "model_module": "@jupyter-widgets/controls",
      "model_module_version": "1.5.0",
      "model_name": "FloatSliderModel",
      "state": {
       "description": "shininess",
       "layout": "IPY_MODEL_3054536b46b34e608cb34a44113689a6",
       "max": 1,
       "step": 0.1,
       "style": "IPY_MODEL_dd734a37e08b4c8886e44c8a93db23aa"
      }
     },
     "367f39f47caa42f5baffc1792c184c4b": {
      "model_module": "@jupyter-widgets/controls",
      "model_module_version": "1.5.0",
      "model_name": "ButtonModel",
      "state": {
       "description": "Add",
       "layout": "IPY_MODEL_f065d634e10248a189523a517446821b",
       "style": "IPY_MODEL_5af2c359555f47f682d64a7268973266"
      }
     },
     "36c074117032426abb1da6d33b28a895": {
      "model_module": "@jupyter-widgets/controls",
      "model_module_version": "1.5.0",
      "model_name": "AccordionModel",
      "state": {
       "_titles": {
        "0": "options",
        "1": "materials",
        "2": "Panel"
       },
       "children": [
        "IPY_MODEL_aba58d503f8c4b25965a681f2a8ce05f",
        "IPY_MODEL_1c45277519914538848fdc0461cb5c44",
        "IPY_MODEL_c97e82089f414f519c995ed2cf20e04c"
       ],
       "layout": "IPY_MODEL_ee6d042f77c04a6ba678176afeb0b0ee"
      }
     },
     "37403483b90e4eadbde26ea705d9104d": {
      "model_module": "@jupyter-widgets/controls",
      "model_module_version": "1.5.0",
      "model_name": "VBoxModel",
      "state": {
       "children": [
        "IPY_MODEL_fbed9d54a9aa4ec58e727aac11bc1d5a",
        "IPY_MODEL_39042f051f8e4be095ff5c4ef3a4412a"
       ],
       "layout": "IPY_MODEL_c437dd6159994d739dcb86d21e016baf"
      }
     },
     "37582806216d4961adf8ffca21d4feee": {
      "model_module": "@jupyter-widgets/controls",
      "model_module_version": "1.5.0",
      "model_name": "DescriptionStyleModel",
      "state": {
       "description_width": ""
      }
     },
     "3824799ae7a14bcdabd858d59b85791b": {
      "model_module": "@jupyter-widgets/controls",
      "model_module_version": "1.5.0",
      "model_name": "TabModel",
      "state": {
       "layout": "IPY_MODEL_06a9a19c62d442b6bcbd05c491b30014"
      }
     },
     "38cd0d9688c94f40bc886635c78f1110": {
      "model_module": "@jupyter-widgets/base",
      "model_module_version": "1.2.0",
      "model_name": "LayoutModel",
      "state": {
       "margin": "20px 0px"
      }
     },
     "38e94f8fa3644566b19b89a1b6fad3a0": {
      "model_module": "@jupyter-widgets/base",
      "model_module_version": "1.2.0",
      "model_name": "LayoutModel",
      "state": {
       "flex_flow": "row wrap",
       "margin": "20px"
      }
     },
     "39042f051f8e4be095ff5c4ef3a4412a": {
      "model_module": "@jupyter-widgets/controls",
      "model_module_version": "1.5.0",
      "model_name": "HBoxModel",
      "state": {
       "children": [
        "IPY_MODEL_d44d8420cc464643a9fe3cbf821222e5"
       ],
       "layout": "IPY_MODEL_687318a637ff4d5fac4c4916cb612210"
      }
     },
     "39e8eeef19ee4ed786b74f28c69b7de8": {
      "model_module": "pgljupyter",
      "model_module_version": "^0.1.17",
      "model_name": "_CurveEditorModel",
      "state": {
       "_model_module_version": "^0.1.17",
       "_view_module_version": "^0.1.17",
       "layout": "IPY_MODEL_0705681385f64c6486f84ea86448769e",
       "points": [
        [
         -0.558642,
         0.0459491
        ],
        [
         -0.272827,
         -0.068981
        ],
        [
         -0.0295213,
         -0.153395
        ],
        [
         0.147239,
         -0.0700503
        ],
        [
         0.412901,
         0.0201295
        ],
        [
         0.575777,
         0.232735
        ]
       ],
       "type": "NurbsCurve2D"
      }
     },
     "39f065ac1c664a998967fdfd1ebd4edd": {
      "model_module": "@jupyter-widgets/controls",
      "model_module_version": "1.5.0",
      "model_name": "TextModel",
      "state": {
       "continuous_update": false,
       "description": "name",
       "layout": "IPY_MODEL_22cf4c47eaec4d8d9c2e97867868e8d2",
       "style": "IPY_MODEL_21e6c79c9f58460da0e5885f1b993a74",
       "value": "branchpath"
      }
     },
     "3a481795ddd047e3bc496e8688aadc81": {
      "model_module": "@jupyter-widgets/controls",
      "model_module_version": "1.5.0",
      "model_name": "AccordionModel",
      "state": {
       "_titles": {
        "0": "options",
        "1": "materials",
        "2": "Panel"
       },
       "children": [
        "IPY_MODEL_b6f873b448314c2bad0636d10f3cf6dc",
        "IPY_MODEL_3deb5189f9684d9abc49bb979cdede2e",
        "IPY_MODEL_3322a859faa74a18990531ab3375cc62"
       ],
       "layout": "IPY_MODEL_ff67f49ecb1344c19325216fde9922e3",
       "selected_index": 2
      }
     },
     "3a7d870fdd334b0da43f18398a00e338": {
      "model_module": "@jupyter-widgets/controls",
      "model_module_version": "1.5.0",
      "model_name": "ButtonModel",
      "state": {
       "description": "Add",
       "layout": "IPY_MODEL_dc1bff43a4534a629c6386072a893dde",
       "style": "IPY_MODEL_4d35dd37d6214351a98c3d029994f204"
      }
     },
     "3a8032cc1d494375ae67e9fa4a243f6e": {
      "model_module": "pgljupyter",
      "model_module_version": "^0.1.17",
      "model_name": "MaterialEditorModel",
      "state": {
       "_model_module_version": "^0.1.17",
       "_view_module_version": "^0.1.17",
       "children": [
        "IPY_MODEL_590dd88f245a417ea4e949d04b33182e",
        "IPY_MODEL_dc253aff0fa54add982a5f5d5db697ff",
        "IPY_MODEL_608a70965c034220b1b762020b4f3631",
        "IPY_MODEL_a1c08d6427724eb48a3f9e45b23218a5",
        "IPY_MODEL_99a8dd789520495d894a2973c4a2201f",
        "IPY_MODEL_cd51738f9c0341c7a632f33cd3366921",
        "IPY_MODEL_d4e7e41c490c4c509a4be37e2c28e5b8",
        "IPY_MODEL_afddf450d16d4ed79c351305bca68482"
       ],
       "layout": "IPY_MODEL_50a7149bbf2e46ff8eb1471279ec1969"
      }
     },
     "3a84d5534e2041e194497aac10411496": {
      "model_module": "@jupyter-widgets/base",
      "model_module_version": "1.2.0",
      "model_name": "LayoutModel",
      "state": {}
     },
     "3ab26e097286402592ef70313527a961": {
      "model_module": "@jupyter-widgets/base",
      "model_module_version": "1.2.0",
      "model_name": "LayoutModel",
      "state": {}
     },
     "3aed1f51fcee4619bdb5f4a7a5cb54b3": {
      "model_module": "@jupyter-widgets/base",
      "model_module_version": "1.2.0",
      "model_name": "LayoutModel",
      "state": {}
     },
     "3b0553b317e7409883f62c9898d26876": {
      "model_module": "@jupyter-widgets/controls",
      "model_module_version": "1.5.0",
      "model_name": "DescriptionStyleModel",
      "state": {
       "description_width": ""
      }
     },
     "3b1e3c0b234040cca645b1b3688f6c7e": {
      "model_module": "@jupyter-widgets/controls",
      "model_module_version": "1.5.0",
      "model_name": "DropdownModel",
      "state": {
       "_options_labels": [
        "Color_1"
       ],
       "index": 0,
       "layout": "IPY_MODEL_25646bf9e8ab472da5d01e7847ec1b03",
       "style": "IPY_MODEL_cc227153fce04ac7b59b01c1ce4d9e64"
      }
     },
     "3c04e020e7524aaeab95e285dbe5f833": {
      "model_module": "@jupyter-widgets/controls",
      "model_module_version": "1.5.0",
      "model_name": "HBoxModel",
      "state": {
       "children": [
        "IPY_MODEL_449b3f5f74a74440968922a08e1f4c70",
        "IPY_MODEL_88e95f639c56491daaab41a42b4a4b91"
       ],
       "layout": "IPY_MODEL_bb4bb6509b0e4c489de1c7bd06c9106d"
      }
     },
     "3c7c8dc3bf6f46a8afa6407707eab599": {
      "model_module": "@jupyter-widgets/controls",
      "model_module_version": "1.5.0",
      "model_name": "HBoxModel",
      "state": {
       "children": [
        "IPY_MODEL_e096cad57ca2418b9e178e3aad7fba1e"
       ],
       "layout": "IPY_MODEL_fcddbcaa89834ff482558bf1c5c2988a"
      }
     },
     "3c91b6d7acbc46d983d0f480db206bb2": {
      "model_module": "@jupyter-widgets/controls",
      "model_module_version": "1.5.0",
      "model_name": "DescriptionStyleModel",
      "state": {
       "description_width": ""
      }
     },
     "3ca74de0e5e3498c9f8ed474ead7c7e3": {
      "model_module": "@jupyter-widgets/controls",
      "model_module_version": "1.5.0",
      "model_name": "HBoxModel",
      "state": {
       "layout": "IPY_MODEL_38e94f8fa3644566b19b89a1b6fad3a0"
      }
     },
     "3d1cfda7dd6a4feaad178d67565f8637": {
      "model_module": "@jupyter-widgets/base",
      "model_module_version": "1.2.0",
      "model_name": "LayoutModel",
      "state": {
       "margin": "20px 0px"
      }
     },
     "3d6b3c6d830e4503857e8b8bbb077bbd": {
      "model_module": "@jupyter-widgets/controls",
      "model_module_version": "1.5.0",
      "model_name": "HBoxModel",
      "state": {
       "children": [
        "IPY_MODEL_9de06542702c44eeb78b84522faebbeb",
        "IPY_MODEL_4bc72c6a57ed4485900df72413c3f44d"
       ],
       "layout": "IPY_MODEL_bba709855ee848619ee085ad038afed9"
      }
     },
     "3da56eb80c684c7180207636d98f4bf6": {
      "model_module": "@jupyter-widgets/controls",
      "model_module_version": "1.5.0",
      "model_name": "DescriptionStyleModel",
      "state": {
       "description_width": ""
      }
     },
     "3deb5189f9684d9abc49bb979cdede2e": {
      "model_module": "@jupyter-widgets/controls",
      "model_module_version": "1.5.0",
      "model_name": "VBoxModel",
      "state": {
       "children": [
        "IPY_MODEL_29d38c4e70df40ad9e8d160ee8a30966",
        "IPY_MODEL_9026408482a7425dad6669cb0dedd302"
       ],
       "layout": "IPY_MODEL_fc6295a9e1fe4a238ae5b224c6590000"
      }
     },
     "3ecf791074f04922a12812f25af5f614": {
      "model_module": "@jupyter-widgets/base",
      "model_module_version": "1.2.0",
      "model_name": "LayoutModel",
      "state": {}
     },
     "3f35ffb75b2646f6bce28bc0cc8f2674": {
      "model_module": "@jupyter-widgets/base",
      "model_module_version": "1.2.0",
      "model_name": "LayoutModel",
      "state": {}
     },
     "3f85652c34ac425f8f126ae16ef49a79": {
      "model_module": "@jupyter-widgets/base",
      "model_module_version": "1.2.0",
      "model_name": "LayoutModel",
      "state": {}
     },
     "4036d1911eb44c27bc75d0ccd37361b1": {
      "model_module": "@jupyter-widgets/controls",
      "model_module_version": "1.5.0",
      "model_name": "DropdownModel",
      "state": {
       "_options_labels": [
        "Color"
       ],
       "index": 0,
       "layout": "IPY_MODEL_e8cafbfa1a904090bc7b107e102581ef",
       "style": "IPY_MODEL_bc93968550c34eb194622c1cbb5902fb"
      }
     },
     "405608aa535a4408bd13484f6c104411": {
      "model_module": "@jupyter-widgets/base",
      "model_module_version": "1.2.0",
      "model_name": "LayoutModel",
      "state": {}
     },
     "409a1a2ffed34046bc47ecc342f81ae4": {
      "model_module": "@jupyter-widgets/controls",
      "model_module_version": "1.5.0",
      "model_name": "HBoxModel",
      "state": {
       "children": [
        "IPY_MODEL_d4611d017c164c22a36e6a4924b7976a",
        "IPY_MODEL_0f4a893482fd4faf9f126fc4b8963734"
       ],
       "layout": "IPY_MODEL_4208116cc035494dbbf7b79d9b6fa7ae"
      }
     },
     "40c6d09fd7384836b0c58b3b702487c7": {
      "model_module": "pgljupyter",
      "model_module_version": "^0.1.17",
      "model_name": "ParameterEditorModel",
      "state": {
       "_model_module_version": "^0.1.17",
       "_view_module_version": "^0.1.17",
       "children": [
        "IPY_MODEL_7fbfbe173da94899ab38ff566b73cd17"
       ],
       "layout": "IPY_MODEL_b1d2d872fdb04138a610e934bda34590"
      }
     },
     "41e45ead99d343cfb8770d027c71a7d6": {
      "model_module": "@jupyter-widgets/base",
      "model_module_version": "1.2.0",
      "model_name": "LayoutModel",
      "state": {}
     },
     "4208116cc035494dbbf7b79d9b6fa7ae": {
      "model_module": "@jupyter-widgets/base",
      "model_module_version": "1.2.0",
      "model_name": "LayoutModel",
      "state": {}
     },
     "4234c1d24f124b0e8432dde14f2852fb": {
      "model_module": "@jupyter-widgets/controls",
      "model_module_version": "1.5.0",
      "model_name": "FloatSliderModel",
      "state": {
       "description": "diffuse",
       "layout": "IPY_MODEL_9075935872a74502b8156584bd380963",
       "max": 3,
       "step": 0.1,
       "style": "IPY_MODEL_cf0dcbabcb29481fa2b71a617d386442",
       "value": 3
      }
     },
     "42a6fa24aca24b70bba5e16cf4d84433": {
      "model_module": "@jupyter-widgets/controls",
      "model_module_version": "1.5.0",
      "model_name": "DescriptionStyleModel",
      "state": {
       "description_width": ""
      }
     },
     "43668329e1f54e8dbb6bbf7a5c052bb4": {
      "model_module": "@jupyter-widgets/base",
      "model_module_version": "1.2.0",
      "model_name": "LayoutModel",
      "state": {}
     },
     "437f87fc3bab4efea3f742160a3ee828": {
      "model_module": "pgljupyter",
      "model_module_version": "^0.1.17",
      "model_name": "IntEditorModel",
      "state": {
       "_model_module_version": "^0.1.17",
       "_view_module_version": "^0.1.17",
       "children": [
        "IPY_MODEL_5f54044a6d4b4180acf22f804f29b206",
        "IPY_MODEL_94dbe24b089b4f928412325b93ccb94a"
       ],
       "layout": "IPY_MODEL_38cd0d9688c94f40bc886635c78f1110"
      }
     },
     "449b3f5f74a74440968922a08e1f4c70": {
      "model_module": "@jupyter-widgets/controls",
      "model_module_version": "1.5.0",
      "model_name": "ButtonModel",
      "state": {
       "description": "Add",
       "layout": "IPY_MODEL_b8f115f6fcd141fa890dd7aa542c0528",
       "style": "IPY_MODEL_4a268e270a344f20bb52ba323a7063de"
      }
     },
     "44cc7a25b5e54d9a8a71d91ddb5d70da": {
      "model_module": "@jupyter-widgets/controls",
      "model_module_version": "1.5.0",
      "model_name": "DropdownModel",
      "state": {
       "_options_labels": [
        "Color_1"
       ],
       "index": 0,
       "layout": "IPY_MODEL_cf8022a6f2584abebbf6668705b81c59",
       "style": "IPY_MODEL_f4c21911ed8f45838404a36ce4630127"
      }
     },
     "452403308430494ea753b1308369ab26": {
      "model_module": "@jupyter-widgets/controls",
      "model_module_version": "1.5.0",
      "model_name": "VBoxModel",
      "state": {
       "children": [
        "IPY_MODEL_d6c9ac324f924bb99a1be2ffc57f124b",
        "IPY_MODEL_c6047898f58f4e70bc3db48c5d791653",
        "IPY_MODEL_166193435b22411ab38d5b7e2c2cb99f",
        "IPY_MODEL_6f48d7d3ca6146f9a96b554e3da3f4d7",
        "IPY_MODEL_6c141b6b61b3458480849524750e182f"
       ],
       "layout": "IPY_MODEL_bdeaab7defa34f80ba5d8f75fce9f79e"
      }
     },
     "4539c7001dbb4018a55302ab83bb20ec": {
      "model_module": "@jupyter-widgets/controls",
      "model_module_version": "1.5.0",
      "model_name": "ButtonStyleModel",
      "state": {}
     },
     "463c7a04344e4b0eb171597a589255e5": {
      "model_module": "pgljupyter",
      "model_module_version": "^0.1.17",
      "model_name": "CurveEditorModel",
      "state": {
       "_model_module_version": "^0.1.17",
       "_view_module_version": "^0.1.17",
       "children": [
        "IPY_MODEL_39f065ac1c664a998967fdfd1ebd4edd",
        "IPY_MODEL_1171b59a9677497f9c240b30c5b61d85"
       ],
       "layout": "IPY_MODEL_e3acc49dad404826a4842d485c5a78ae"
      }
     },
     "464bdc26e0e549d3b26868f2d2276366": {
      "model_module": "@jupyter-widgets/controls",
      "model_module_version": "1.5.0",
      "model_name": "HBoxModel",
      "state": {
       "children": [
        "IPY_MODEL_29f5e02a77ce4584a6f633580a4c40f4",
        "IPY_MODEL_f449028b91a14d0698bcd4c72c3e8965"
       ],
       "layout": "IPY_MODEL_f0154e8a448a48609cc3430bdc4d30af"
      }
     },
     "4678c4769d5648afa5843ec9a5b3d7ed": {
      "model_module": "@jupyter-widgets/base",
      "model_module_version": "1.2.0",
      "model_name": "LayoutModel",
      "state": {}
     },
     "47733309128148a1a81ac3cdfb9c88ed": {
      "model_module": "@jupyter-widgets/base",
      "model_module_version": "1.2.0",
      "model_name": "LayoutModel",
      "state": {}
     },
     "485d88f0c17645369e05e1968636a84b": {
      "model_module": "@jupyter-widgets/controls",
      "model_module_version": "1.5.0",
      "model_name": "ColorPickerModel",
      "state": {
       "description": "emission",
       "disabled": false,
       "layout": "IPY_MODEL_28062c2fb4bb46f9b0e3956661dd1f05",
       "style": "IPY_MODEL_b6d417e8b51247be933406fe957c1b38",
       "value": "#000000"
      }
     },
     "498ddc68626a4e38ac222d68cc285734": {
      "model_module": "@jupyter-widgets/base",
      "model_module_version": "1.2.0",
      "model_name": "LayoutModel",
      "state": {}
     },
     "49fc1097af854d74ba46e775814cbb14": {
      "model_module": "@jupyter-widgets/controls",
      "model_module_version": "1.5.0",
      "model_name": "SliderStyleModel",
      "state": {
       "description_width": ""
      }
     },
     "4a268e270a344f20bb52ba323a7063de": {
      "model_module": "@jupyter-widgets/controls",
      "model_module_version": "1.5.0",
      "model_name": "ButtonStyleModel",
      "state": {}
     },
     "4aa01535eef14cd29362a6be29454549": {
      "model_module": "@jupyter-widgets/controls",
      "model_module_version": "1.5.0",
      "model_name": "ColorPickerModel",
      "state": {
       "description": "emission",
       "disabled": false,
       "layout": "IPY_MODEL_015c8a205f674ca0b5e0732e368833b5",
       "style": "IPY_MODEL_ecff7595194f4f028209e0d8f3a3167d",
       "value": "#000000"
      }
     },
     "4aa7a3ab4b844357bf24264b0a16c31f": {
      "model_module": "@jupyter-widgets/base",
      "model_module_version": "1.2.0",
      "model_name": "LayoutModel",
      "state": {}
     },
     "4aeef6a1ba44410b818b2385fcfc873d": {
      "model_module": "@jupyter-widgets/base",
      "model_module_version": "1.2.0",
      "model_name": "LayoutModel",
      "state": {}
     },
     "4af05051ed2c4e2496ec347442720bc6": {
      "model_module": "@jupyter-widgets/base",
      "model_module_version": "1.2.0",
      "model_name": "LayoutModel",
      "state": {}
     },
     "4b3c00a92b50423daf5ac2c72f9c2c28": {
      "model_module": "@jupyter-widgets/base",
      "model_module_version": "1.2.0",
      "model_name": "LayoutModel",
      "state": {}
     },
     "4bc72c6a57ed4485900df72413c3f44d": {
      "model_module": "@jupyter-widgets/controls",
      "model_module_version": "1.5.0",
      "model_name": "DropdownModel",
      "state": {
       "_options_labels": [
        "Color_1"
       ],
       "index": 0,
       "layout": "IPY_MODEL_e9229c488c4d4df0a72cd3ccaa5b9b74",
       "style": "IPY_MODEL_09a81bc51b164f9bb28101cfaa7d1cd0"
      }
     },
     "4bd030b8f1cb4b3794df49b56895c686": {
      "model_module": "@jupyter-widgets/controls",
      "model_module_version": "1.5.0",
      "model_name": "ButtonModel",
      "state": {
       "description": "Add",
       "layout": "IPY_MODEL_5660ca16311940debca654e72ef86721",
       "style": "IPY_MODEL_af4e87bfd0184d5cb8b32e4418cb72e0"
      }
     },
     "4be488383d184728bfa042d93360de10": {
      "model_module": "@jupyter-widgets/base",
      "model_module_version": "1.2.0",
      "model_name": "LayoutModel",
      "state": {}
     },
     "4cadb95fcf72406a94f8b6a1a2485a28": {
      "model_module": "@jupyter-widgets/base",
      "model_module_version": "1.2.0",
      "model_name": "LayoutModel",
      "state": {}
     },
     "4d35dd37d6214351a98c3d029994f204": {
      "model_module": "@jupyter-widgets/controls",
      "model_module_version": "1.5.0",
      "model_name": "ButtonStyleModel",
      "state": {}
     },
     "4d69f1ee5ac74b56b29a687113a13c57": {
      "model_module": "@jupyter-widgets/base",
      "model_module_version": "1.2.0",
      "model_name": "LayoutModel",
      "state": {}
     },
     "4ee840834e0d48c18c7f0620cd24ad35": {
      "model_module": "@jupyter-widgets/controls",
      "model_module_version": "1.5.0",
      "model_name": "HBoxModel",
      "state": {
       "children": [
        "IPY_MODEL_d4611d017c164c22a36e6a4924b7976a",
        "IPY_MODEL_0f4a893482fd4faf9f126fc4b8963734"
       ],
       "layout": "IPY_MODEL_677823e472814e769aacc8c42e6f4cd3"
      }
     },
     "4f8123ef14d14b708e436ea93a4dfd26": {
      "model_module": "@jupyter-widgets/base",
      "model_module_version": "1.2.0",
      "model_name": "LayoutModel",
      "state": {}
     },
     "504400e22b5948c49fb5d69786f34fbb": {
      "model_module": "@jupyter-widgets/base",
      "model_module_version": "1.2.0",
      "model_name": "LayoutModel",
      "state": {}
     },
     "504de7f752bf43afa9328015d7c2278d": {
      "model_module": "@jupyter-widgets/controls",
      "model_module_version": "1.5.0",
      "model_name": "TabModel",
      "state": {
       "_titles": {
        "0": "parameter_edition.json"
       },
       "children": [
        "IPY_MODEL_3a481795ddd047e3bc496e8688aadc81"
       ],
       "layout": "IPY_MODEL_768daca603674d4ea26e7123086298e9"
      }
     },
     "50a7149bbf2e46ff8eb1471279ec1969": {
      "model_module": "@jupyter-widgets/base",
      "model_module_version": "1.2.0",
      "model_name": "LayoutModel",
      "state": {
       "margin": "20px 0px"
      }
     },
     "50f2260db3004c2b8accb40168cc5318": {
      "model_module": "@jupyter-widgets/base",
      "model_module_version": "1.2.0",
      "model_name": "LayoutModel",
      "state": {}
     },
     "513c48280c144cbd951b8f525fe519ae": {
      "model_module": "@jupyter-widgets/controls",
      "model_module_version": "1.5.0",
      "model_name": "DropdownModel",
      "state": {
       "_options_labels": [
        "Integer",
        "Float",
        "Bool"
       ],
       "index": 0,
       "layout": "IPY_MODEL_1a38c965eda648b689dd58a0f989c95e",
       "style": "IPY_MODEL_67e11fc996424d019d92e118f101aa25"
      }
     },
     "51fd58f9c17049cea50e11b32b865454": {
      "model_module": "@jupyter-widgets/base",
      "model_module_version": "1.2.0",
      "model_name": "LayoutModel",
      "state": {}
     },
     "52dcf6af35ff4045930766b71ec2fcb5": {
      "model_module": "@jupyter-widgets/base",
      "model_module_version": "1.2.0",
      "model_name": "LayoutModel",
      "state": {}
     },
     "530590c719294a39851d0f8fae01669f": {
      "model_module": "@jupyter-widgets/base",
      "model_module_version": "1.2.0",
      "model_name": "LayoutModel",
      "state": {
       "margin": "20px 0px"
      }
     },
     "532f0bbb96774d8ebd032f04185b4fb2": {
      "model_module": "@jupyter-widgets/controls",
      "model_module_version": "1.5.0",
      "model_name": "ButtonModel",
      "state": {
       "description": "Delete category",
       "layout": "IPY_MODEL_6785364655de48dda73fd119243af621",
       "style": "IPY_MODEL_59721260f62942c48c67fbf0ba8ca1ae"
      }
     },
     "553a3092fe5a42668b3765e1b22e326b": {
      "model_module": "@jupyter-widgets/controls",
      "model_module_version": "1.5.0",
      "model_name": "HBoxModel",
      "state": {
       "children": [
        "IPY_MODEL_0ac9e51aaea64ebb8a65d3ecec5ee3da",
        "IPY_MODEL_af79e90445c94ac6a1877546818aaf0d"
       ],
       "layout": "IPY_MODEL_6f2f754ff0b145f6b0ac925dceea0b24"
      }
     },
     "5635ac192a114e088e135bfb333c5e62": {
      "model_module": "@jupyter-widgets/base",
      "model_module_version": "1.2.0",
      "model_name": "LayoutModel",
      "state": {}
     },
     "5660ca16311940debca654e72ef86721": {
      "model_module": "@jupyter-widgets/base",
      "model_module_version": "1.2.0",
      "model_name": "LayoutModel",
      "state": {}
     },
     "56f60ef0c24448cdb55ce5b971392818": {
      "model_module": "@jupyter-widgets/base",
      "model_module_version": "1.2.0",
      "model_name": "LayoutModel",
      "state": {}
     },
     "576eee3933d94a69a4a243bf739f972b": {
      "model_module": "@jupyter-widgets/base",
      "model_module_version": "1.2.0",
      "model_name": "LayoutModel",
      "state": {}
     },
     "577546eeef7b4bfb98dff554685e26a7": {
      "model_module": "@jupyter-widgets/base",
      "model_module_version": "1.2.0",
      "model_name": "LayoutModel",
      "state": {
       "margin": "20px 0px"
      }
     },
     "57b9e9c7a44a47a99705661fb87ea133": {
      "model_module": "@jupyter-widgets/controls",
      "model_module_version": "1.5.0",
      "model_name": "HBoxModel",
      "state": {
       "children": [
        "IPY_MODEL_3a8032cc1d494375ae67e9fa4a243f6e"
       ],
       "layout": "IPY_MODEL_a6628de87d684204a7a07c42b2147e43"
      }
     },
     "58cefb0d182e4dceb94bc90796bb3dab": {
      "model_module": "@jupyter-widgets/controls",
      "model_module_version": "1.5.0",
      "model_name": "ColorPickerModel",
      "state": {
       "description": "specular",
       "disabled": false,
       "layout": "IPY_MODEL_00e54ccc40ac4414ba7f4704f929ff5a",
       "style": "IPY_MODEL_3b0553b317e7409883f62c9898d26876",
       "value": "#000000"
      }
     },
     "590dd88f245a417ea4e949d04b33182e": {
      "model_module": "@jupyter-widgets/controls",
      "model_module_version": "1.5.0",
      "model_name": "TextModel",
      "state": {
       "continuous_update": false,
       "description": "name",
       "layout": "IPY_MODEL_de39ea33b3644bb9b3dd87249db5c805",
       "style": "IPY_MODEL_3da56eb80c684c7180207636d98f4bf6",
       "value": "Color_1"
      }
     },
     "593977975df647ad848f27ac5f7e24d4": {
      "model_module": "@jupyter-widgets/controls",
      "model_module_version": "1.5.0",
      "model_name": "DescriptionStyleModel",
      "state": {
       "description_width": ""
      }
     },
     "59721260f62942c48c67fbf0ba8ca1ae": {
      "model_module": "@jupyter-widgets/controls",
      "model_module_version": "1.5.0",
      "model_name": "ButtonStyleModel",
      "state": {}
     },
     "5a53ed17707749858d6a3b5b5b3b1998": {
      "model_module": "@jupyter-widgets/base",
      "model_module_version": "1.2.0",
      "model_name": "LayoutModel",
      "state": {}
     },
     "5aa55c3838aa413e97e3251c2db4e957": {
      "model_module": "@jupyter-widgets/controls",
      "model_module_version": "1.5.0",
      "model_name": "VBoxModel",
      "state": {
       "children": [
        "IPY_MODEL_a0d8709addf245afb90eac6a10fdedf9",
        "IPY_MODEL_0bace74bc6e14dd7a741248532f27fa4"
       ],
       "layout": "IPY_MODEL_8bee4a2ffa6b4bdbb571cbad4a90d66a"
      }
     },
     "5af2c359555f47f682d64a7268973266": {
      "model_module": "@jupyter-widgets/controls",
      "model_module_version": "1.5.0",
      "model_name": "ButtonStyleModel",
      "state": {}
     },
     "5b080a486ce84477b4fd302489249b49": {
      "model_module": "@jupyter-widgets/base",
      "model_module_version": "1.2.0",
      "model_name": "LayoutModel",
      "state": {}
     },
     "5b2349b4ac1c4a8eaee97cbcf5f75f39": {
      "model_module": "@jupyter-widgets/controls",
      "model_module_version": "1.5.0",
      "model_name": "VBoxModel",
      "state": {
       "children": [
        "IPY_MODEL_aada6ec621794cd0b59d4f488d0d8f4f",
        "IPY_MODEL_a5f5ee92b9454859a2f5d6800918bf40"
       ],
       "layout": "IPY_MODEL_3f85652c34ac425f8f126ae16ef49a79"
      }
     },
     "5b5fd492370d4b8e9b7c699e5912c6e9": {
      "model_module": "@jupyter-widgets/base",
      "model_module_version": "1.2.0",
      "model_name": "LayoutModel",
      "state": {}
     },
     "5b617bd177cf47ed886d7f1f71d186ec": {
      "model_module": "@jupyter-widgets/base",
      "model_module_version": "1.2.0",
      "model_name": "LayoutModel",
      "state": {}
     },
     "5b87853f02c344c8a85c5b80060034fb": {
      "model_module": "@jupyter-widgets/controls",
      "model_module_version": "1.5.0",
      "model_name": "DescriptionStyleModel",
      "state": {
       "description_width": ""
      }
     },
     "5c06f16aba7742eba847a33470fae58a": {
      "model_module": "@jupyter-widgets/base",
      "model_module_version": "1.2.0",
      "model_name": "LayoutModel",
      "state": {}
     },
     "5c4b575dfb344c0fb57b4933554e6292": {
      "model_module": "@jupyter-widgets/controls",
      "model_module_version": "1.5.0",
      "model_name": "ButtonModel",
      "state": {
       "description": "Delete",
       "layout": "IPY_MODEL_622d906f9f6a48eb8b3249d11de6154a",
       "style": "IPY_MODEL_14561aa86f8e40ea83a3d1727cb76487"
      }
     },
     "5d24bc34e44e4aa6b16418bc58d93654": {
      "model_module": "@jupyter-widgets/base",
      "model_module_version": "1.2.0",
      "model_name": "LayoutModel",
      "state": {}
     },
     "5d26c3fbe11c4db583c7419a5ed69d13": {
      "model_module": "@jupyter-widgets/controls",
      "model_module_version": "1.5.0",
      "model_name": "SliderStyleModel",
      "state": {
       "description_width": ""
      }
     },
     "5d6259b609934959a40d0099512367e6": {
      "model_module": "@jupyter-widgets/controls",
      "model_module_version": "1.5.0",
      "model_name": "ButtonStyleModel",
      "state": {}
     },
     "5ded50050db04a618018efd36c3e5f0e": {
      "model_module": "@jupyter-widgets/base",
      "model_module_version": "1.2.0",
      "model_name": "LayoutModel",
      "state": {
       "margin": "20px 0px"
      }
     },
     "5e49e7ab9aa3402c8615682335805750": {
      "model_module": "@jupyter-widgets/base",
      "model_module_version": "1.2.0",
      "model_name": "LayoutModel",
      "state": {
       "flex_flow": "row wrap",
       "margin": "20px"
      }
     },
     "5e73034a21814618996c254279c9e6c4": {
      "model_module": "@jupyter-widgets/controls",
      "model_module_version": "1.5.0",
      "model_name": "HBoxModel",
      "state": {
       "children": [
        "IPY_MODEL_200c38a46e7042c5966902a5e8329d38",
        "IPY_MODEL_a711809ad05b45c79d8604dc9feab790"
       ],
       "layout": "IPY_MODEL_001df7fb10da496da1d3acf980d7efed"
      }
     },
     "5f2ece596e61437fb92caa3af17ac5ac": {
      "model_module": "@jupyter-widgets/controls",
      "model_module_version": "1.5.0",
      "model_name": "VBoxModel",
      "state": {
       "children": [
        "IPY_MODEL_cd97b600a8cf49a5b53c8b183a73c4ad",
        "IPY_MODEL_aab32fad1469494da43946c276fb5e94"
       ],
       "layout": "IPY_MODEL_12d213331cd84fc79c8a96b11ea921bd"
      }
     },
     "5f54044a6d4b4180acf22f804f29b206": {
      "model_module": "@jupyter-widgets/controls",
      "model_module_version": "1.5.0",
      "model_name": "TextModel",
      "state": {
       "continuous_update": false,
       "description": "name",
       "layout": "IPY_MODEL_a55a9e2e64ad485590af88f5b46a7a08",
       "style": "IPY_MODEL_37582806216d4961adf8ffca21d4feee",
       "value": "MAX_ORDER"
      }
     },
     "5f720e4edbe14ce48f5f469829d641e4": {
      "model_module": "@jupyter-widgets/base",
      "model_module_version": "1.2.0",
      "model_name": "LayoutModel",
      "state": {}
     },
     "601f053e8b2546ecb510a751e55381bd": {
      "model_module": "@jupyter-widgets/controls",
      "model_module_version": "1.5.0",
      "model_name": "ButtonStyleModel",
      "state": {}
     },
     "608a70965c034220b1b762020b4f3631": {
      "model_module": "@jupyter-widgets/controls",
      "model_module_version": "1.5.0",
      "model_name": "ColorPickerModel",
      "state": {
       "description": "ambient",
       "disabled": false,
       "layout": "IPY_MODEL_5d24bc34e44e4aa6b16418bc58d93654",
       "style": "IPY_MODEL_885917797aa845088e87b0c6b154014c",
       "value": "#412d0f"
      }
     },
     "60f575acc6dd47bfaf76c6a535a2b41f": {
      "model_module": "@jupyter-widgets/controls",
      "model_module_version": "1.5.0",
      "model_name": "VBoxModel",
      "state": {
       "children": [
        "IPY_MODEL_327206b192774b56a4326b13004fd5a6",
        "IPY_MODEL_504de7f752bf43afa9328015d7c2278d"
       ],
       "layout": "IPY_MODEL_81a68ad4bff94b78ba42154697084d68"
      }
     },
     "621a624fa1f2401ba085d351a33a2b95": {
      "model_module": "@jupyter-widgets/controls",
      "model_module_version": "1.5.0",
      "model_name": "TextModel",
      "state": {
       "continuous_update": false,
       "description": "name",
       "layout": "IPY_MODEL_6c9cfa9dccab4664b1674918d608ec94",
       "style": "IPY_MODEL_9753565b8064433eb2ef470594ccf23b",
       "value": "Color_1"
      }
     },
     "622d906f9f6a48eb8b3249d11de6154a": {
      "model_module": "@jupyter-widgets/base",
      "model_module_version": "1.2.0",
      "model_name": "LayoutModel",
      "state": {}
     },
     "6450038a56e9471e878f353767fa939e": {
      "model_module": "@jupyter-widgets/controls",
      "model_module_version": "1.5.0",
      "model_name": "TextModel",
      "state": {
       "continuous_update": false,
       "description": "name",
       "layout": "IPY_MODEL_fc800a91b39a413db5ea830b72a9e43e",
       "style": "IPY_MODEL_f691f9f9d93146698632d439f782b43d",
       "value": "MAX_ORDER"
      }
     },
     "647ee6a08c8e4b0c930e061e1756ea03": {
      "model_module": "@jupyter-widgets/controls",
      "model_module_version": "1.5.0",
      "model_name": "ButtonModel",
      "state": {
       "description": "Add",
       "layout": "IPY_MODEL_9f43e3da99df47879b0b30972f2fdc28",
       "style": "IPY_MODEL_1cff6b7a144747e6aa5e5697caa814ae"
      }
     },
     "64b81969448c4c2faebb9a51dda5e68d": {
      "model_module": "@jupyter-widgets/controls",
      "model_module_version": "1.5.0",
      "model_name": "ButtonStyleModel",
      "state": {}
     },
     "64c258a69f0a4b15b143ea54b6cf43b0": {
      "model_module": "@jupyter-widgets/base",
      "model_module_version": "1.2.0",
      "model_name": "LayoutModel",
      "state": {}
     },
     "677823e472814e769aacc8c42e6f4cd3": {
      "model_module": "@jupyter-widgets/base",
      "model_module_version": "1.2.0",
      "model_name": "LayoutModel",
      "state": {}
     },
     "677fded47dd246d4bfb1c98fd9f3902f": {
      "model_module": "@jupyter-widgets/base",
      "model_module_version": "1.2.0",
      "model_name": "LayoutModel",
      "state": {}
     },
     "6785364655de48dda73fd119243af621": {
      "model_module": "@jupyter-widgets/base",
      "model_module_version": "1.2.0",
      "model_name": "LayoutModel",
      "state": {}
     },
     "67e11fc996424d019d92e118f101aa25": {
      "model_module": "@jupyter-widgets/controls",
      "model_module_version": "1.5.0",
      "model_name": "DescriptionStyleModel",
      "state": {
       "description_width": ""
      }
     },
     "6860a3785866496dbd7ee454115778b8": {
      "model_module": "@jupyter-widgets/controls",
      "model_module_version": "1.5.0",
      "model_name": "HBoxModel",
      "state": {
       "children": [
        "IPY_MODEL_91d71656e6354c73bdc2db41c960119a",
        "IPY_MODEL_fc346173a49348868613c3bea20e95b3"
       ],
       "layout": "IPY_MODEL_38e94f8fa3644566b19b89a1b6fad3a0"
      }
     },
     "687318a637ff4d5fac4c4916cb612210": {
      "model_module": "@jupyter-widgets/base",
      "model_module_version": "1.2.0",
      "model_name": "LayoutModel",
      "state": {
       "flex_flow": "row wrap",
       "margin": "20px"
      }
     },
     "68f38857b58a4cfc9347338b1529f841": {
      "model_module": "@jupyter-widgets/controls",
      "model_module_version": "1.5.0",
      "model_name": "HBoxModel",
      "state": {
       "children": [
        "IPY_MODEL_0ac9e51aaea64ebb8a65d3ecec5ee3da",
        "IPY_MODEL_af79e90445c94ac6a1877546818aaf0d"
       ],
       "layout": "IPY_MODEL_2bbee839197c44dabd5668232367543c"
      }
     },
     "68ff152959c341c68f8de755b67b901d": {
      "model_module": "@jupyter-widgets/controls",
      "model_module_version": "1.5.0",
      "model_name": "HBoxModel",
      "state": {
       "children": [
        "IPY_MODEL_ababa7f3c4dc4d59b965bf785a557df8",
        "IPY_MODEL_c2aed18faa1149a1a5c3850b992107c4"
       ],
       "layout": "IPY_MODEL_5b5fd492370d4b8e9b7c699e5912c6e9"
      }
     },
     "69e7482ffcde4c52a81e77365acdce84": {
      "model_module": "@jupyter-widgets/controls",
      "model_module_version": "1.5.0",
      "model_name": "ColorPickerModel",
      "state": {
       "description": "ambient",
       "disabled": false,
       "layout": "IPY_MODEL_002f54286bed46b7a69acdfd29bcdfb7",
       "style": "IPY_MODEL_5b87853f02c344c8a85c5b80060034fb",
       "value": "#412d0f"
      }
     },
     "6b67825631e947ffa98bf5e15b16d939": {
      "model_module": "@jupyter-widgets/controls",
      "model_module_version": "1.5.0",
      "model_name": "ButtonModel",
      "state": {
       "description": "Delete category",
       "layout": "IPY_MODEL_13fb1c5002d04520bb6fd2fcdfc70be1",
       "style": "IPY_MODEL_4539c7001dbb4018a55302ab83bb20ec"
      }
     },
     "6bf5f8d7684242b39699782eef081a71": {
      "model_module": "@jupyter-widgets/controls",
      "model_module_version": "1.5.0",
      "model_name": "CheckboxModel",
      "state": {
       "description": "value",
       "disabled": false,
       "layout": "IPY_MODEL_26d96346261346be87c3d6008cf30187",
       "style": "IPY_MODEL_e3222b01a0364e3fa10ea539c0875724",
       "value": false
      }
     },
     "6c141b6b61b3458480849524750e182f": {
      "model_module": "@jupyter-widgets/controls",
      "model_module_version": "1.5.0",
      "model_name": "HBoxModel",
      "state": {
       "children": [
        "IPY_MODEL_c1b77d58ef2641fe87038846a0e6e1b4"
       ],
       "layout": "IPY_MODEL_687318a637ff4d5fac4c4916cb612210"
      }
     },
     "6c2a3f89dc8e437693a3b1f98e5edb2e": {
      "model_module": "@jupyter-widgets/controls",
      "model_module_version": "1.5.0",
      "model_name": "TextModel",
      "state": {
       "continuous_update": false,
       "description": "name",
       "layout": "IPY_MODEL_64c258a69f0a4b15b143ea54b6cf43b0",
       "style": "IPY_MODEL_84aeee39bdfc4f678426fe9be752ef34",
       "value": "TROPISM"
      }
     },
     "6c87305977134bf8a677b6ef277e9714": {
      "model_module": "@jupyter-widgets/base",
      "model_module_version": "1.2.0",
      "model_name": "LayoutModel",
      "state": {}
     },
     "6c960ce1cc6b44c39e4de22e97da6c0c": {
      "model_module": "@jupyter-widgets/base",
      "model_module_version": "1.2.0",
      "model_name": "LayoutModel",
      "state": {}
     },
     "6c9cfa9dccab4664b1674918d608ec94": {
      "model_module": "@jupyter-widgets/base",
      "model_module_version": "1.2.0",
      "model_name": "LayoutModel",
      "state": {}
     },
     "6e8a58c9c9344a64ae79bdd7e7022181": {
      "model_module": "@jupyter-widgets/controls",
      "model_module_version": "1.5.0",
      "model_name": "HBoxModel",
      "state": {
       "children": [
        "IPY_MODEL_fd56fc99882a44629e1a023fce32ed27"
       ],
       "layout": "IPY_MODEL_c2caeac613d74a5badc8f19d69939506"
      }
     },
     "6f2f754ff0b145f6b0ac925dceea0b24": {
      "model_module": "@jupyter-widgets/base",
      "model_module_version": "1.2.0",
      "model_name": "LayoutModel",
      "state": {}
     },
     "6f48d7d3ca6146f9a96b554e3da3f4d7": {
      "model_module": "@jupyter-widgets/controls",
      "model_module_version": "1.5.0",
      "model_name": "HBoxModel",
      "state": {
       "children": [
        "IPY_MODEL_5e73034a21814618996c254279c9e6c4",
        "IPY_MODEL_a1cd39b04b644af6af9da65d00f06219"
       ],
       "layout": "IPY_MODEL_863fa09bca524cb185ab4b1ed1f0e9d0"
      }
     },
     "6f8fe18304874a76810b8c0353f367bf": {
      "model_module": "@jupyter-widgets/base",
      "model_module_version": "1.2.0",
      "model_name": "LayoutModel",
      "state": {}
     },
     "6ffcbb7d70ff47718dc32da7811e87f5": {
      "model_module": "@jupyter-widgets/controls",
      "model_module_version": "1.5.0",
      "model_name": "DropdownModel",
      "state": {
       "_options_labels": [
        "branchpath"
       ],
       "index": 0,
       "layout": "IPY_MODEL_6f8fe18304874a76810b8c0353f367bf",
       "style": "IPY_MODEL_910b0de0aa324442ac7ce5bb04f0dce1"
      }
     },
     "702aa30fde4445eba2db306c03f216ec": {
      "model_module": "@jupyter-widgets/controls",
      "model_module_version": "1.5.0",
      "model_name": "ButtonModel",
      "state": {
       "description": "Delete category",
       "layout": "IPY_MODEL_b1a97f4e4537436eb44ebcdac765196f",
       "style": "IPY_MODEL_24931f8057a844309101a937114eaa3b"
      }
     },
     "7041adff99f34eebab95f9fe1e9920e5": {
      "model_module": "@jupyter-widgets/controls",
      "model_module_version": "1.5.0",
      "model_name": "FloatSliderModel",
      "state": {
       "description": "value",
       "layout": "IPY_MODEL_5635ac192a114e088e135bfb333c5e62",
       "max": 3,
       "step": 0.001,
       "style": "IPY_MODEL_1b362f32acae4982a5000a8805c2f5c1",
       "value": 0.03
      }
     },
     "728ccef06d7642a39779fc70993b2624": {
      "model_module": "@jupyter-widgets/controls",
      "model_module_version": "1.5.0",
      "model_name": "BoundedIntTextModel",
      "state": {
       "description": "index",
       "layout": "IPY_MODEL_e4994869125442b7af932312ac421807",
       "style": "IPY_MODEL_35f57e06afca44b2848ad617425924eb",
       "value": 1
      }
     },
     "72d530a0131e407ba685adaf7d7d2d46": {
      "model_module": "@jupyter-widgets/controls",
      "model_module_version": "1.5.0",
      "model_name": "SliderStyleModel",
      "state": {
       "description_width": ""
      }
     },
     "73ae6a034a98467a8a2b827efc4df1e3": {
      "model_module": "@jupyter-widgets/controls",
      "model_module_version": "1.5.0",
      "model_name": "HBoxModel",
      "state": {
       "children": [
        "IPY_MODEL_6b67825631e947ffa98bf5e15b16d939"
       ],
       "layout": "IPY_MODEL_38e94f8fa3644566b19b89a1b6fad3a0"
      }
     },
     "746a2f011f9b4ae1b84cd482c5b6104d": {
      "model_module": "@jupyter-widgets/base",
      "model_module_version": "1.2.0",
      "model_name": "LayoutModel",
      "state": {}
     },
     "748855f91278468aa50ca9d3f91e139b": {
      "model_module": "@jupyter-widgets/base",
      "model_module_version": "1.2.0",
      "model_name": "LayoutModel",
      "state": {}
     },
     "75d2de1272c94d32b7af2ba25dd33f05": {
      "model_module": "@jupyter-widgets/controls",
      "model_module_version": "1.5.0",
      "model_name": "TextModel",
      "state": {
       "continuous_update": false,
       "description": "name",
       "layout": "IPY_MODEL_4f8123ef14d14b708e436ea93a4dfd26",
       "style": "IPY_MODEL_fb32d455be4c4a8d81def5944c9f76cb",
       "value": "ELASTICITY"
      }
     },
     "75d61a1bed2d46eab5a7ec3e2fc2fe3e": {
      "model_module": "@jupyter-widgets/controls",
      "model_module_version": "1.5.0",
      "model_name": "TextModel",
      "state": {
       "continuous_update": false,
       "description": "name",
       "layout": "IPY_MODEL_f70ecc737c1042e5a9f001fe2d9be465",
       "style": "IPY_MODEL_958e65585c594af28eda17ebd36825a7",
       "value": "ELASTICITY"
      }
     },
     "75df5baffabe4411b35c08eb8b3bb147": {
      "model_module": "@jupyter-widgets/base",
      "model_module_version": "1.2.0",
      "model_name": "LayoutModel",
      "state": {}
     },
     "768daca603674d4ea26e7123086298e9": {
      "model_module": "@jupyter-widgets/base",
      "model_module_version": "1.2.0",
      "model_name": "LayoutModel",
      "state": {}
     },
     "77341f44262a40e2a27ebd66b279fb5d": {
      "model_module": "@jupyter-widgets/base",
      "model_module_version": "1.2.0",
      "model_name": "LayoutModel",
      "state": {
       "flex_flow": "row wrap"
      }
     },
     "773f333ccc4b431489d36c993f85a2f1": {
      "model_module": "@jupyter-widgets/controls",
      "model_module_version": "1.5.0",
      "model_name": "SliderStyleModel",
      "state": {
       "description_width": ""
      }
     },
     "77b3d8b9c3a04c3bb39e1cd356a1541d": {
      "model_module": "@jupyter-widgets/controls",
      "model_module_version": "1.5.0",
      "model_name": "TextModel",
      "state": {
       "continuous_update": false,
       "description": "name",
       "layout": "IPY_MODEL_c436fb372e1844638b1b38a0ced48184",
       "style": "IPY_MODEL_1bbd22237bf44ae09b31434df0b370b2",
       "value": "Color_1"
      }
     },
     "77d95de0544542d9bb776f4a2abaaaa2": {
      "model_module": "@jupyter-widgets/base",
      "model_module_version": "1.2.0",
      "model_name": "LayoutModel",
      "state": {
       "margin": "20px 0px"
      }
     },
     "7801369b5b6e4f46bad4e7250e9792f5": {
      "model_module": "@jupyter-widgets/controls",
      "model_module_version": "1.5.0",
      "model_name": "SliderStyleModel",
      "state": {
       "description_width": ""
      }
     },
     "7882edeb4ea34a7cab0e7a968aa20043": {
      "model_module": "pgljupyter",
      "model_module_version": "^0.1.17",
      "model_name": "BoolEditorModel",
      "state": {
       "_model_module_version": "^0.1.17",
       "_view_module_version": "^0.1.17",
       "children": [
        "IPY_MODEL_8166f4c6a62f470c8f0014507db0a9fd",
        "IPY_MODEL_cb8b09ace7874beab9f1ee7c9c71f41b"
       ],
       "layout": "IPY_MODEL_9409655609ca4bccaf2e3dbb0a55562b"
      }
     },
     "79ddd26ccbc4451d97208dcafd4f46e9": {
      "model_module": "@jupyter-widgets/base",
      "model_module_version": "1.2.0",
      "model_name": "LayoutModel",
      "state": {
       "margin": "20px 0px"
      }
     },
     "79f732610f354de288249733337d9289": {
      "model_module": "pgljupyter",
      "model_module_version": "^0.1.17",
      "model_name": "FloatEditorModel",
      "state": {
       "_model_module_version": "^0.1.17",
       "_view_module_version": "^0.1.17",
       "children": [
        "IPY_MODEL_db081a683bdd4ff69db9293b0dd80ee0",
        "IPY_MODEL_2307ffe049d84278955f0e107f710f50"
       ],
       "layout": "IPY_MODEL_77d95de0544542d9bb776f4a2abaaaa2"
      }
     },
     "7a1a819abab94d728f5b951b7f44348e": {
      "model_module": "pgljupyter",
      "model_module_version": "^0.1.17",
      "model_name": "ParameterEditorModel",
      "state": {
       "_model_module_version": "^0.1.17",
       "_view_module_version": "^0.1.17",
       "children": [
        "IPY_MODEL_5b2349b4ac1c4a8eaee97cbcf5f75f39"
       ],
       "layout": "IPY_MODEL_4af05051ed2c4e2496ec347442720bc6"
      }
     },
     "7ab2e7ff42494681a7f24f66a4bd4795": {
      "model_module": "@jupyter-widgets/base",
      "model_module_version": "1.2.0",
      "model_name": "LayoutModel",
      "state": {}
     },
     "7ad76e459cdb482b95734cb33e873385": {
      "model_module": "@jupyter-widgets/controls",
      "model_module_version": "1.5.0",
      "model_name": "ColorPickerModel",
      "state": {
       "description": "specular",
       "disabled": false,
       "layout": "IPY_MODEL_919b7bb1b49342d1a13ccd95613f4791",
       "style": "IPY_MODEL_e358cb0f504b40aaae9549e7393a0422",
       "value": "#000000"
      }
     },
     "7ade13631e37431e9d275311ce6ff831": {
      "model_module": "@jupyter-widgets/controls",
      "model_module_version": "1.5.0",
      "model_name": "DescriptionStyleModel",
      "state": {
       "description_width": ""
      }
     },
     "7b00ac5f366e410a9ad0fdff65b66877": {
      "model_module": "@jupyter-widgets/base",
      "model_module_version": "1.2.0",
      "model_name": "LayoutModel",
      "state": {}
     },
     "7b5a4ec7052f4022a910648aadd5d4fe": {
      "model_module": "@jupyter-widgets/controls",
      "model_module_version": "1.5.0",
      "model_name": "DescriptionStyleModel",
      "state": {
       "description_width": ""
      }
     },
     "7bdbcb784f344ddba67840798c6d0d8e": {
      "model_module": "@jupyter-widgets/controls",
      "model_module_version": "1.5.0",
      "model_name": "HBoxModel",
      "state": {
       "children": [
        "IPY_MODEL_85341b8cf5db44259da471801b203929",
        "IPY_MODEL_90b53f5bfaa14eab9f51d53d03e4837f"
       ],
       "layout": "IPY_MODEL_ae412f245bcb4a0f922a7975e2dca216"
      }
     },
     "7f1f6c8e885b457ca87cf1e3f75f1c9c": {
      "model_module": "@jupyter-widgets/controls",
      "model_module_version": "1.5.0",
      "model_name": "ColorPickerModel",
      "state": {
       "description": "specular",
       "disabled": false,
       "layout": "IPY_MODEL_238aca6d361d4fb1b2f462a65e95a9aa",
       "style": "IPY_MODEL_275ec479ea77463195670af88d73d72a",
       "value": "#000000"
      }
     },
     "7fbfbe173da94899ab38ff566b73cd17": {
      "model_module": "@jupyter-widgets/controls",
      "model_module_version": "1.5.0",
      "model_name": "VBoxModel",
      "state": {
       "children": [
        "IPY_MODEL_82bf65a695e8498e8cebcbb16617f256",
        "IPY_MODEL_812d380b67b645dfb02589235d556c3e"
       ],
       "layout": "IPY_MODEL_ce38787a227b4bb39d6a1fbb3ed6a788"
      }
     },
     "7fd4f445744041abb0aa8bede9c903e0": {
      "model_module": "@jupyter-widgets/base",
      "model_module_version": "1.2.0",
      "model_name": "LayoutModel",
      "state": {}
     },
     "8000456bd95b4cf68f50f127cab3e5d9": {
      "model_module": "@jupyter-widgets/controls",
      "model_module_version": "1.5.0",
      "model_name": "HBoxModel",
      "state": {
       "children": [
        "IPY_MODEL_0ac9e51aaea64ebb8a65d3ecec5ee3da",
        "IPY_MODEL_af79e90445c94ac6a1877546818aaf0d"
       ],
       "layout": "IPY_MODEL_4aeef6a1ba44410b818b2385fcfc873d"
      }
     },
     "804e7e542af943909b80ccb340491f88": {
      "model_module": "@jupyter-widgets/base",
      "model_module_version": "1.2.0",
      "model_name": "LayoutModel",
      "state": {
       "margin": "20px 0px"
      }
     },
     "812d380b67b645dfb02589235d556c3e": {
      "model_module": "@jupyter-widgets/controls",
      "model_module_version": "1.5.0",
      "model_name": "TabModel",
      "state": {
       "_titles": {
        "0": "parameter_edition.json"
       },
       "children": [
        "IPY_MODEL_2148dec2b2e649f7aa45e2e31f30962d"
       ],
       "layout": "IPY_MODEL_7ab2e7ff42494681a7f24f66a4bd4795"
      }
     },
     "81372c7966c141689761d02a61959ea6": {
      "model_module": "@jupyter-widgets/base",
      "model_module_version": "1.2.0",
      "model_name": "LayoutModel",
      "state": {}
     },
     "8166f4c6a62f470c8f0014507db0a9fd": {
      "model_module": "@jupyter-widgets/controls",
      "model_module_version": "1.5.0",
      "model_name": "TextModel",
      "state": {
       "continuous_update": false,
       "description": "name",
       "layout": "IPY_MODEL_b8183870c9574568b905cbcfbca0a712",
       "style": "IPY_MODEL_7ade13631e37431e9d275311ce6ff831",
       "value": "TROPISM"
      }
     },
     "818d475eafc64d37927de4d4360c5b06": {
      "model_module": "@jupyter-widgets/controls",
      "model_module_version": "1.5.0",
      "model_name": "CheckboxModel",
      "state": {
       "description": "value",
       "disabled": false,
       "layout": "IPY_MODEL_22602b9727874ebd8c9c4d0eb121a700",
       "style": "IPY_MODEL_0eaec2c54dc1496e81780185dd8a6970",
       "value": false
      }
     },
     "81a68ad4bff94b78ba42154697084d68": {
      "model_module": "@jupyter-widgets/base",
      "model_module_version": "1.2.0",
      "model_name": "LayoutModel",
      "state": {}
     },
     "8249b1646f7d450c961088f17efe2f6e": {
      "model_module": "@jupyter-widgets/controls",
      "model_module_version": "1.5.0",
      "model_name": "IntSliderModel",
      "state": {
       "description": "value",
       "layout": "IPY_MODEL_18b28064b45341f797d2260daa008190",
       "max": 5,
       "style": "IPY_MODEL_2d5973ee63e84883a11f54155594df2f",
       "value": 5
      }
     },
     "82bf65a695e8498e8cebcbb16617f256": {
      "model_module": "@jupyter-widgets/controls",
      "model_module_version": "1.5.0",
      "model_name": "HBoxModel",
      "state": {
       "children": [
        "IPY_MODEL_464bdc26e0e549d3b26868f2d2276366",
        "IPY_MODEL_8000456bd95b4cf68f50f127cab3e5d9",
        "IPY_MODEL_06d9a62836ce493e8ed5e771528d06be"
       ],
       "layout": "IPY_MODEL_f55da2a7b70146738510cb9dd71d27f9"
      }
     },
     "82ed44168bcd46edab4c4fcdde684209": {
      "model_module": "@jupyter-widgets/base",
      "model_module_version": "1.2.0",
      "model_name": "LayoutModel",
      "state": {}
     },
     "847374f8b6ce43baab698c48ce3ae40b": {
      "model_module": "@jupyter-widgets/base",
      "model_module_version": "1.2.0",
      "model_name": "LayoutModel",
      "state": {}
     },
     "84aeee39bdfc4f678426fe9be752ef34": {
      "model_module": "@jupyter-widgets/controls",
      "model_module_version": "1.5.0",
      "model_name": "DescriptionStyleModel",
      "state": {
       "description_width": ""
      }
     },
     "851237505d5e4db58dfa4a9b56d1c45d": {
      "model_module": "@jupyter-widgets/base",
      "model_module_version": "1.2.0",
      "model_name": "LayoutModel",
      "state": {}
     },
     "85341b8cf5db44259da471801b203929": {
      "model_module": "@jupyter-widgets/controls",
      "model_module_version": "1.5.0",
      "model_name": "ButtonModel",
      "state": {
       "description": "Delete",
       "layout": "IPY_MODEL_47733309128148a1a81ac3cdfb9c88ed",
       "style": "IPY_MODEL_c806086d46e042328bc3c503ad46df1b"
      }
     },
     "85e160ecd73d4c9d8f74557f4db3f26f": {
      "model_module": "@jupyter-widgets/controls",
      "model_module_version": "1.5.0",
      "model_name": "ButtonStyleModel",
      "state": {}
     },
     "863fa09bca524cb185ab4b1ed1f0e9d0": {
      "model_module": "@jupyter-widgets/base",
      "model_module_version": "1.2.0",
      "model_name": "LayoutModel",
      "state": {
       "flex_flow": "row wrap",
       "margin": "20px"
      }
     },
     "8657cb2543684602b1fac2d7215b59af": {
      "model_module": "@jupyter-widgets/base",
      "model_module_version": "1.2.0",
      "model_name": "LayoutModel",
      "state": {}
     },
     "867c6131fdf24ef6bb56962512e0a995": {
      "model_module": "pgljupyter",
      "model_module_version": "^0.1.17",
      "model_name": "IntEditorModel",
      "state": {
       "_model_module_version": "^0.1.17",
       "_view_module_version": "^0.1.17",
       "children": [
        "IPY_MODEL_8c3feea93564444a96478d13e1b0860e",
        "IPY_MODEL_db3e0fb5953c4db0989de91be364f997"
       ],
       "layout": "IPY_MODEL_804e7e542af943909b80ccb340491f88"
      }
     },
     "885917797aa845088e87b0c6b154014c": {
      "model_module": "@jupyter-widgets/controls",
      "model_module_version": "1.5.0",
      "model_name": "DescriptionStyleModel",
      "state": {
       "description_width": ""
      }
     },
     "88e95f639c56491daaab41a42b4a4b91": {
      "model_module": "@jupyter-widgets/controls",
      "model_module_version": "1.5.0",
      "model_name": "DropdownModel",
      "state": {
       "_options_labels": [
        "Integer",
        "Float",
        "Bool"
       ],
       "index": 0,
       "layout": "IPY_MODEL_1be432eebe6b42118db40058cc11305d",
       "style": "IPY_MODEL_a93b62a1373645a89d15c5321a3985c2"
      }
     },
     "89662aa870954ae1bcb8ac635c95b4de": {
      "model_module": "@jupyter-widgets/controls",
      "model_module_version": "1.5.0",
      "model_name": "ButtonModel",
      "state": {
       "description": "Delete",
       "layout": "IPY_MODEL_8a38ac98e0e644d3ab28eb73ef4ed1fc",
       "style": "IPY_MODEL_d31d1d4d0c9d4a7d9fc032559722ca6f"
      }
     },
     "89f601ef3b4c4bb9887d3025ddbd097b": {
      "model_module": "@jupyter-widgets/controls",
      "model_module_version": "1.5.0",
      "model_name": "ColorPickerModel",
      "state": {
       "description": "emission",
       "disabled": false,
       "layout": "IPY_MODEL_e3dcd4d79a174463942962398a3b0e67",
       "style": "IPY_MODEL_bb3a1b3d66034312add9a4d734683fda",
       "value": "#000000"
      }
     },
     "8a38ac98e0e644d3ab28eb73ef4ed1fc": {
      "model_module": "@jupyter-widgets/base",
      "model_module_version": "1.2.0",
      "model_name": "LayoutModel",
      "state": {}
     },
     "8bee4a2ffa6b4bdbb571cbad4a90d66a": {
      "model_module": "@jupyter-widgets/base",
      "model_module_version": "1.2.0",
      "model_name": "LayoutModel",
      "state": {}
     },
     "8c3feea93564444a96478d13e1b0860e": {
      "model_module": "@jupyter-widgets/controls",
      "model_module_version": "1.5.0",
      "model_name": "TextModel",
      "state": {
       "continuous_update": false,
       "description": "name",
       "layout": "IPY_MODEL_c1896130bf34427289dd050edd62e89e",
       "style": "IPY_MODEL_1c81c8c9153d44b8923611496a5fc9a2",
       "value": "MAX_ORDER"
      }
     },
     "8c62a805618f418c9a8b3d5e58bc5d32": {
      "model_module": "@jupyter-widgets/controls",
      "model_module_version": "1.5.0",
      "model_name": "BoundedIntTextModel",
      "state": {
       "description": "index",
       "layout": "IPY_MODEL_43668329e1f54e8dbb6bbf7a5c052bb4",
       "style": "IPY_MODEL_a3c8f221fd644aed986ecde25fe428ed",
       "value": 1
      }
     },
     "8c85ea5290b746ecb8155a793ed19238": {
      "model_module": "@jupyter-widgets/base",
      "model_module_version": "1.2.0",
      "model_name": "LayoutModel",
      "state": {}
     },
     "8d8cab9a0f024d07ae340b4cc770b3d7": {
      "model_module": "@jupyter-widgets/controls",
      "model_module_version": "1.5.0",
      "model_name": "DropdownModel",
      "state": {
       "_options_labels": [
        "branchpath"
       ],
       "index": 0,
       "layout": "IPY_MODEL_9027d17093e74af9a300da2c3287c41d",
       "style": "IPY_MODEL_cc6bf6370e3f4f96be52b38b8001245d"
      }
     },
     "8e544d8b7d6d48708f39bd6afaa77fb6": {
      "model_module": "@jupyter-widgets/base",
      "model_module_version": "1.2.0",
      "model_name": "LayoutModel",
      "state": {}
     },
     "8ee58f2f52374a268c1c47c5f82219e3": {
      "model_module": "pgljupyter",
      "model_module_version": "^0.1.17",
      "model_name": "BoolEditorModel",
      "state": {
       "_model_module_version": "^0.1.17",
       "_view_module_version": "^0.1.17",
       "children": [
        "IPY_MODEL_6c2a3f89dc8e437693a3b1f98e5edb2e",
        "IPY_MODEL_818d475eafc64d37927de4d4360c5b06"
       ],
       "layout": "IPY_MODEL_577546eeef7b4bfb98dff554685e26a7"
      }
     },
     "8eff5952b8694859ad1865a78cba20b3": {
      "model_module": "@jupyter-widgets/controls",
      "model_module_version": "1.5.0",
      "model_name": "HBoxModel",
      "state": {
       "children": [
        "IPY_MODEL_702aa30fde4445eba2db306c03f216ec"
       ],
       "layout": "IPY_MODEL_ef30c2568c5e461d9d03d3effd7ae270"
      }
     },
     "8f1061bea70e4ae395ae262b6b79d682": {
      "model_module": "@jupyter-widgets/base",
      "model_module_version": "1.2.0",
      "model_name": "LayoutModel",
      "state": {}
     },
     "8fe7e29ea17942e9a5b04fb2ed332bd8": {
      "model_module": "@jupyter-widgets/base",
      "model_module_version": "1.2.0",
      "model_name": "LayoutModel",
      "state": {}
     },
     "8ffced8e6666470f9cfb9cba1111b1d6": {
      "model_module": "@jupyter-widgets/controls",
      "model_module_version": "1.5.0",
      "model_name": "HBoxModel",
      "state": {
       "children": [
        "IPY_MODEL_270229a41f7d44b19167636567fa7359",
        "IPY_MODEL_3b1e3c0b234040cca645b1b3688f6c7e"
       ],
       "layout": "IPY_MODEL_046b39781f894971a60c532d3f3f0854"
      }
     },
     "9026408482a7425dad6669cb0dedd302": {
      "model_module": "@jupyter-widgets/controls",
      "model_module_version": "1.5.0",
      "model_name": "HBoxModel",
      "state": {
       "children": [
        "IPY_MODEL_b8730ef2eea64896b0628f90dcd6c6f7"
       ],
       "layout": "IPY_MODEL_fcddbcaa89834ff482558bf1c5c2988a"
      }
     },
     "9027d17093e74af9a300da2c3287c41d": {
      "model_module": "@jupyter-widgets/base",
      "model_module_version": "1.2.0",
      "model_name": "LayoutModel",
      "state": {}
     },
     "902867ff5fbf4f138431894671205bf4": {
      "model_module": "@jupyter-widgets/base",
      "model_module_version": "1.2.0",
      "model_name": "LayoutModel",
      "state": {}
     },
     "906c94412b454505bf867de0ffdc3ca5": {
      "model_module": "@jupyter-widgets/controls",
      "model_module_version": "1.5.0",
      "model_name": "ButtonModel",
      "state": {
       "description": "Delete category",
       "layout": "IPY_MODEL_32fa7da5861442ab94b92c21a57a9ca7",
       "style": "IPY_MODEL_b391cfc41ef8415aa83c42fa4a7113e5"
      }
     },
     "9075935872a74502b8156584bd380963": {
      "model_module": "@jupyter-widgets/base",
      "model_module_version": "1.2.0",
      "model_name": "LayoutModel",
      "state": {}
     },
     "90b53f5bfaa14eab9f51d53d03e4837f": {
      "model_module": "@jupyter-widgets/controls",
      "model_module_version": "1.5.0",
      "model_name": "DropdownModel",
      "state": {
       "_options_labels": [
        "branchpath"
       ],
       "index": 0,
       "layout": "IPY_MODEL_52dcf6af35ff4045930766b71ec2fcb5",
       "style": "IPY_MODEL_115491e156ba4d68b66df63135e59dc4"
      }
     },
     "910153d0327e45ed92165a0e322b19c3": {
      "model_module": "@jupyter-widgets/base",
      "model_module_version": "1.2.0",
      "model_name": "LayoutModel",
      "state": {}
     },
     "910b0de0aa324442ac7ce5bb04f0dce1": {
      "model_module": "@jupyter-widgets/controls",
      "model_module_version": "1.5.0",
      "model_name": "DescriptionStyleModel",
      "state": {
       "description_width": ""
      }
     },
     "91824f8d5d8140c7aa0d141d536288ee": {
      "model_module": "@jupyter-widgets/base",
      "model_module_version": "1.2.0",
      "model_name": "LayoutModel",
      "state": {}
     },
     "919b7bb1b49342d1a13ccd95613f4791": {
      "model_module": "@jupyter-widgets/base",
      "model_module_version": "1.2.0",
      "model_name": "LayoutModel",
      "state": {}
     },
     "91d71656e6354c73bdc2db41c960119a": {
      "model_module": "@jupyter-widgets/controls",
      "model_module_version": "1.5.0",
      "model_name": "HBoxModel",
      "state": {
       "children": [
        "IPY_MODEL_ad28c395aeeb4a3b8e22d0105b18c5bf",
        "IPY_MODEL_ea64d7e10eef4102b65e6f68e0eb567d"
       ],
       "layout": "IPY_MODEL_b77de0d8803e4de5b9cfcedf3ae88b0b"
      }
     },
     "928c2197bd2849508c5232ebf03d980e": {
      "model_module": "@jupyter-widgets/base",
      "model_module_version": "1.2.0",
      "model_name": "LayoutModel",
      "state": {}
     },
     "92d4de7fbd1a4d8f83c8ff199a03198f": {
      "model_module": "@jupyter-widgets/base",
      "model_module_version": "1.2.0",
      "model_name": "LayoutModel",
      "state": {}
     },
     "9409655609ca4bccaf2e3dbb0a55562b": {
      "model_module": "@jupyter-widgets/base",
      "model_module_version": "1.2.0",
      "model_name": "LayoutModel",
      "state": {
       "margin": "20px 0px"
      }
     },
     "945eecf0525541e3967f148076e19204": {
      "model_module": "@jupyter-widgets/controls",
      "model_module_version": "1.5.0",
      "model_name": "FloatSliderModel",
      "state": {
       "description": "value",
       "layout": "IPY_MODEL_576eee3933d94a69a4a243bf739f972b",
       "max": 3,
       "step": 0.001,
       "style": "IPY_MODEL_04299ed344824bd4ba9c82ffb054d10b",
       "value": 0.03
      }
     },
     "94dbe24b089b4f928412325b93ccb94a": {
      "model_module": "@jupyter-widgets/controls",
      "model_module_version": "1.5.0",
      "model_name": "IntSliderModel",
      "state": {
       "description": "value",
       "layout": "IPY_MODEL_f02ca9eb6b4c48758e035d9e553b061c",
       "max": 5,
       "style": "IPY_MODEL_773f333ccc4b431489d36c993f85a2f1",
       "value": 5
      }
     },
     "94eac7718088495a80055b30102577b9": {
      "model_module": "@jupyter-widgets/base",
      "model_module_version": "1.2.0",
      "model_name": "LayoutModel",
      "state": {}
     },
     "9524a806985a4e8598aa3a746643a9b6": {
      "model_module": "@jupyter-widgets/base",
      "model_module_version": "1.2.0",
      "model_name": "LayoutModel",
      "state": {}
     },
     "9580eab16140450383123e6a7aca5a9c": {
      "model_module": "@jupyter-widgets/controls",
      "model_module_version": "1.5.0",
      "model_name": "ButtonStyleModel",
      "state": {}
     },
     "958e65585c594af28eda17ebd36825a7": {
      "model_module": "@jupyter-widgets/controls",
      "model_module_version": "1.5.0",
      "model_name": "DescriptionStyleModel",
      "state": {
       "description_width": ""
      }
     },
     "9591bea997f74614aaa19929592d176e": {
      "model_module": "@jupyter-widgets/controls",
      "model_module_version": "1.5.0",
      "model_name": "ButtonModel",
      "state": {
       "description": "Delete",
       "layout": "IPY_MODEL_1c7cfd4f98f74e39b167ce6309820bad",
       "style": "IPY_MODEL_02ae419a1b544b9fb7eb560312f8530d"
      }
     },
     "95b5e9f8202640d2917b0fb3e8f719cc": {
      "model_module": "@jupyter-widgets/controls",
      "model_module_version": "1.5.0",
      "model_name": "DescriptionStyleModel",
      "state": {
       "description_width": ""
      }
     },
     "9734000ff8ab4c72afb6afb0936c2b16": {
      "model_module": "@jupyter-widgets/base",
      "model_module_version": "1.2.0",
      "model_name": "LayoutModel",
      "state": {
       "margin": "20px 0px"
      }
     },
     "974c180b8ee649f39be016cde5a9e669": {
      "model_module": "@jupyter-widgets/controls",
      "model_module_version": "1.5.0",
      "model_name": "DescriptionStyleModel",
      "state": {
       "description_width": ""
      }
     },
     "9753565b8064433eb2ef470594ccf23b": {
      "model_module": "@jupyter-widgets/controls",
      "model_module_version": "1.5.0",
      "model_name": "DescriptionStyleModel",
      "state": {
       "description_width": ""
      }
     },
     "9795b67f68964a0a9880e476131c1293": {
      "model_module": "@jupyter-widgets/controls",
      "model_module_version": "1.5.0",
      "model_name": "HBoxModel",
      "state": {
       "children": [
        "IPY_MODEL_cd88e5f314584c32b16056af982e56ca",
        "IPY_MODEL_01b0d7f8aac846c6b9084c606396eaae"
       ],
       "layout": "IPY_MODEL_9524a806985a4e8598aa3a746643a9b6"
      }
     },
     "97adbe4dca8e41a3a838597369fee3f2": {
      "model_module": "@jupyter-widgets/controls",
      "model_module_version": "1.5.0",
      "model_name": "ButtonStyleModel",
      "state": {}
     },
     "99a8dd789520495d894a2973c4a2201f": {
      "model_module": "@jupyter-widgets/controls",
      "model_module_version": "1.5.0",
      "model_name": "ColorPickerModel",
      "state": {
       "description": "emission",
       "disabled": false,
       "layout": "IPY_MODEL_94eac7718088495a80055b30102577b9",
       "style": "IPY_MODEL_e19f517e7b034b0783f53ef9ee0b9cb7",
       "value": "#000000"
      }
     },
     "99cee8f488b541a5896bee3830a8facf": {
      "model_module": "@jupyter-widgets/controls",
      "model_module_version": "1.5.0",
      "model_name": "HBoxModel",
      "state": {
       "children": [
        "IPY_MODEL_b07209c3fdb24e1fa3e2c34a2191e045",
        "IPY_MODEL_8ffced8e6666470f9cfb9cba1111b1d6"
       ],
       "layout": "IPY_MODEL_5e49e7ab9aa3402c8615682335805750"
      }
     },
     "99d4dc8a8ae94bb8beae2e1b78146ea8": {
      "model_module": "pgljupyter",
      "model_module_version": "^0.1.17",
      "model_name": "IntEditorModel",
      "state": {
       "_model_module_version": "^0.1.17",
       "_view_module_version": "^0.1.17",
       "children": [
        "IPY_MODEL_c8607554e782409e9e09a0be1fcf8e4c",
        "IPY_MODEL_de99899f25d045aca7b59a2be06760f6"
       ],
       "layout": "IPY_MODEL_0352dc43a9dd49eaae5c089f6bbecdbd"
      }
     },
     "9ab1eaf58b1045f3a116ed48f57cb4aa": {
      "model_module": "@jupyter-widgets/controls",
      "model_module_version": "1.5.0",
      "model_name": "HBoxModel",
      "state": {
       "layout": "IPY_MODEL_687318a637ff4d5fac4c4916cb612210"
      }
     },
     "9af3a6b6050c4731a2ea863b18c0648a": {
      "model_module": "@jupyter-widgets/base",
      "model_module_version": "1.2.0",
      "model_name": "LayoutModel",
      "state": {}
     },
     "9b7bd7e41d1a432fa2c22cca985dd4b4": {
      "model_module": "@jupyter-widgets/controls",
      "model_module_version": "1.5.0",
      "model_name": "DescriptionStyleModel",
      "state": {
       "description_width": ""
      }
     },
     "9ba5ed0cd3fb4d909d66f7a6c23880e9": {
      "model_module": "@jupyter-widgets/controls",
      "model_module_version": "1.5.0",
      "model_name": "DescriptionStyleModel",
      "state": {
       "description_width": ""
      }
     },
     "9bca8a4cef7c4f88a601ac27cc6c5c49": {
      "model_module": "@jupyter-widgets/base",
      "model_module_version": "1.2.0",
      "model_name": "LayoutModel",
      "state": {}
     },
     "9d70a1b432b94dfe9243e83811c284bc": {
      "model_module": "@jupyter-widgets/controls",
      "model_module_version": "1.5.0",
      "model_name": "HBoxModel",
      "state": {
       "children": [
        "IPY_MODEL_367f39f47caa42f5baffc1792c184c4b",
        "IPY_MODEL_1054e4a221f0448bb4d53420771bb0ed"
       ],
       "layout": "IPY_MODEL_ac65edba56a5440e85b855b8e6f6339a"
      }
     },
     "9dbcbac0e63f4a0299e47d7bc19d044d": {
      "model_module": "@jupyter-widgets/controls",
      "model_module_version": "1.5.0",
      "model_name": "TextModel",
      "state": {
       "continuous_update": false,
       "description": "name",
       "layout": "IPY_MODEL_e31ed80e961149b594ba4b2dfee5b606",
       "style": "IPY_MODEL_05061e8d1e544701b8893f4b5bb5b5a8",
       "value": "branchpath"
      }
     },
     "9de06542702c44eeb78b84522faebbeb": {
      "model_module": "@jupyter-widgets/controls",
      "model_module_version": "1.5.0",
      "model_name": "ButtonModel",
      "state": {
       "description": "Delete",
       "layout": "IPY_MODEL_8657cb2543684602b1fac2d7215b59af",
       "style": "IPY_MODEL_d64961abb2e249fa9188e5d672c69f35"
      }
     },
     "9de45d54419b4ae1a5625e0bf60fa0cd": {
      "model_module": "@jupyter-widgets/controls",
      "model_module_version": "1.5.0",
      "model_name": "DescriptionStyleModel",
      "state": {
       "description_width": ""
      }
     },
     "9f43e3da99df47879b0b30972f2fdc28": {
      "model_module": "@jupyter-widgets/base",
      "model_module_version": "1.2.0",
      "model_name": "LayoutModel",
      "state": {}
     },
     "9fb1aeda391544de89dbd6d86ac8c823": {
      "model_module": "@jupyter-widgets/controls",
      "model_module_version": "1.5.0",
      "model_name": "HBoxModel",
      "state": {
       "children": [
        "IPY_MODEL_d9b2421dc5094066a8be1c708f24bc32",
        "IPY_MODEL_4036d1911eb44c27bc75d0ccd37361b1"
       ],
       "layout": "IPY_MODEL_07dca1b610f44f92aa80ac06d65d92b2"
      }
     },
     "9ff93bfe14af4d5f9347c66ca5bf1a98": {
      "model_module": "@jupyter-widgets/base",
      "model_module_version": "1.2.0",
      "model_name": "LayoutModel",
      "state": {}
     },
     "a02c9870192745e2a2d423177c66b516": {
      "model_module": "@jupyter-widgets/controls",
      "model_module_version": "1.5.0",
      "model_name": "HBoxModel",
      "state": {
       "children": [
        "IPY_MODEL_5c4b575dfb344c0fb57b4933554e6292",
        "IPY_MODEL_0f1eb2fddf044ef9aac5211e05f796a3"
       ],
       "layout": "IPY_MODEL_82ed44168bcd46edab4c4fcdde684209"
      }
     },
     "a0d8709addf245afb90eac6a10fdedf9": {
      "model_module": "@jupyter-widgets/controls",
      "model_module_version": "1.5.0",
      "model_name": "HBoxModel",
      "state": {
       "layout": "IPY_MODEL_5e49e7ab9aa3402c8615682335805750"
      }
     },
     "a1c08d6427724eb48a3f9e45b23218a5": {
      "model_module": "@jupyter-widgets/controls",
      "model_module_version": "1.5.0",
      "model_name": "ColorPickerModel",
      "state": {
       "description": "specular",
       "disabled": false,
       "layout": "IPY_MODEL_5b080a486ce84477b4fd302489249b49",
       "style": "IPY_MODEL_95b5e9f8202640d2917b0fb3e8f719cc",
       "value": "#000000"
      }
     },
     "a1c7bcb5adfa4fd5b869b933507b201e": {
      "model_module": "@jupyter-widgets/controls",
      "model_module_version": "1.5.0",
      "model_name": "HBoxModel",
      "state": {
       "children": [
        "IPY_MODEL_f241b016930043c79283634e33de6454",
        "IPY_MODEL_a9317defa33e451fb0deb28c667eb481"
       ],
       "layout": "IPY_MODEL_8e544d8b7d6d48708f39bd6afaa77fb6"
      }
     },
     "a1cd39b04b644af6af9da65d00f06219": {
      "model_module": "@jupyter-widgets/controls",
      "model_module_version": "1.5.0",
      "model_name": "HBoxModel",
      "state": {
       "children": [
        "IPY_MODEL_89662aa870954ae1bcb8ac635c95b4de",
        "IPY_MODEL_6ffcbb7d70ff47718dc32da7811e87f5"
       ],
       "layout": "IPY_MODEL_cad4825bfa274abfa9e60e0fd7bda434"
      }
     },
     "a21f7fa025fe4f08bb816a1bbc1ebb49": {
      "model_module": "@jupyter-widgets/base",
      "model_module_version": "1.2.0",
      "model_name": "LayoutModel",
      "state": {}
     },
     "a28f293d93ec48cea1f0d17aaeba8bd0": {
      "model_module": "@jupyter-widgets/controls",
      "model_module_version": "1.5.0",
      "model_name": "DescriptionStyleModel",
      "state": {
       "description_width": ""
      }
     },
     "a3c8f221fd644aed986ecde25fe428ed": {
      "model_module": "@jupyter-widgets/controls",
      "model_module_version": "1.5.0",
      "model_name": "DescriptionStyleModel",
      "state": {
       "description_width": ""
      }
     },
     "a427023180ed473b9e9440c02ccb11f5": {
      "model_module": "@jupyter-widgets/base",
      "model_module_version": "1.2.0",
      "model_name": "LayoutModel",
      "state": {
       "margin": "20px 0px"
      }
     },
     "a4a70e96233c4705b6564c1473c858a9": {
      "model_module": "@jupyter-widgets/base",
      "model_module_version": "1.2.0",
      "model_name": "LayoutModel",
      "state": {}
     },
     "a55a9e2e64ad485590af88f5b46a7a08": {
      "model_module": "@jupyter-widgets/base",
      "model_module_version": "1.2.0",
      "model_name": "LayoutModel",
      "state": {}
     },
     "a574fb36f21349bfa3a1b4efbddacd06": {
      "model_module": "@jupyter-widgets/controls",
      "model_module_version": "1.5.0",
      "model_name": "DescriptionStyleModel",
      "state": {
       "description_width": ""
      }
     },
     "a5f5ee92b9454859a2f5d6800918bf40": {
      "model_module": "@jupyter-widgets/controls",
      "model_module_version": "1.5.0",
      "model_name": "TabModel",
      "state": {
       "_titles": {
        "0": "parameter_edition.json"
       },
       "children": [
        "IPY_MODEL_b8ba0dd98ce84f049ba3af455bc8480f"
       ],
       "layout": "IPY_MODEL_cd20aa6024b149f9bbf6f274e06c231e"
      }
     },
     "a62a561af73a4a3aad3545de1b79374f": {
      "model_module": "@jupyter-widgets/controls",
      "model_module_version": "1.5.0",
      "model_name": "DescriptionStyleModel",
      "state": {
       "description_width": ""
      }
     },
     "a6628de87d684204a7a07c42b2147e43": {
      "model_module": "@jupyter-widgets/base",
      "model_module_version": "1.2.0",
      "model_name": "LayoutModel",
      "state": {
       "flex_flow": "row wrap",
       "margin": "20px"
      }
     },
     "a711809ad05b45c79d8604dc9feab790": {
      "model_module": "@jupyter-widgets/controls",
      "model_module_version": "1.5.0",
      "model_name": "DropdownModel",
      "state": {
       "_options_labels": [
        "NurbsCurve2D",
        "BezierCurve2D",
        "Polyline2D",
        "Function"
       ],
       "index": 0,
       "layout": "IPY_MODEL_75df5baffabe4411b35c08eb8b3bb147",
       "style": "IPY_MODEL_a28f293d93ec48cea1f0d17aaeba8bd0"
      }
     },
     "a7253c762d2d43ee9dc2a20679aca656": {
      "model_module": "@jupyter-widgets/controls",
      "model_module_version": "1.5.0",
      "model_name": "HBoxModel",
      "state": {
       "children": [
        "IPY_MODEL_faed122f12924f2981ff0dcaadc40628"
       ],
       "layout": "IPY_MODEL_c2caeac613d74a5badc8f19d69939506"
      }
     },
     "a7ec4e60620d4d0d808dacad86e16d95": {
      "model_module": "@jupyter-widgets/base",
      "model_module_version": "1.2.0",
      "model_name": "LayoutModel",
      "state": {}
     },
     "a8c42053e96a45a79f7a68bfa7eae15a": {
      "model_module": "@jupyter-widgets/controls",
      "model_module_version": "1.5.0",
      "model_name": "FloatSliderModel",
      "state": {
       "description": "value",
       "layout": "IPY_MODEL_51fd58f9c17049cea50e11b32b865454",
       "max": 3,
       "step": 0.001,
       "style": "IPY_MODEL_e83bb3a279d649e9b32e81476a204f59",
       "value": 0.03
      }
     },
     "a8cdf14de1b649e78acbf2318481b106": {
      "model_module": "@jupyter-widgets/controls",
      "model_module_version": "1.5.0",
      "model_name": "HBoxModel",
      "state": {
       "children": [
        "IPY_MODEL_ac46cadbf3a64d028a80e9f718078465",
        "IPY_MODEL_ffc3648e5cbb4694b7176163774ffcdb"
       ],
       "layout": "IPY_MODEL_ef30c2568c5e461d9d03d3effd7ae270"
      }
     },
     "a9317defa33e451fb0deb28c667eb481": {
      "model_module": "@jupyter-widgets/controls",
      "model_module_version": "1.5.0",
      "model_name": "DropdownModel",
      "state": {
       "_options_labels": [
        "MAX_ORDER",
        "TROPISM",
        "ELASTICITY"
       ],
       "index": 0,
       "layout": "IPY_MODEL_3aed1f51fcee4619bdb5f4a7a5cb54b3",
       "style": "IPY_MODEL_b186002bfa7944cc8f1d6d0a2df75884"
      }
     },
     "a93b62a1373645a89d15c5321a3985c2": {
      "model_module": "@jupyter-widgets/controls",
      "model_module_version": "1.5.0",
      "model_name": "DescriptionStyleModel",
      "state": {
       "description_width": ""
      }
     },
     "aa228a70806848c294387e687e19a484": {
      "model_module": "@jupyter-widgets/controls",
      "model_module_version": "1.5.0",
      "model_name": "DescriptionStyleModel",
      "state": {
       "description_width": ""
      }
     },
     "aa35bbb8de314e2d9b4cea68c535305f": {
      "buffers": [
       {
        "data": "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",
        "encoding": "base64",
        "path": [
         "scene",
         "data"
        ]
       }
      ],
      "model_module": "pgljupyter",
      "model_module_version": "^0.1.17",
      "model_name": "LsystemWidgetModel",
      "state": {
       "_model_module_version": "^0.1.17",
       "_view_module_version": "^0.1.17",
       "axes_helper": false,
       "derivationLength": 2,
       "layout": "IPY_MODEL_3120a9fa2b50425fa6989e3c66c4133d",
       "light_helper": false,
       "plane": true,
       "scene": {
        "derivationStep": 1,
        "id": 1,
        "scene": "<openalea.plantgl.scenegraph._pglsg.Scene object at 0x12b962b70>"
       },
       "size_display": [
        800,
        600
       ],
       "size_world": 5,
       "unit": 1
      }
     },
     "aa8e67da4be74fe787eaae61b05faf0b": {
      "model_module": "@jupyter-widgets/base",
      "model_module_version": "1.2.0",
      "model_name": "LayoutModel",
      "state": {}
     },
     "aab32fad1469494da43946c276fb5e94": {
      "model_module": "@jupyter-widgets/controls",
      "model_module_version": "1.5.0",
      "model_name": "TabModel",
      "state": {
       "_titles": {
        "0": "parameter_edition.json"
       },
       "children": [
        "IPY_MODEL_36c074117032426abb1da6d33b28a895"
       ],
       "layout": "IPY_MODEL_0abec889348244f5833066fffe9b4785"
      }
     },
     "aac21c2576194465817161d596dea6c2": {
      "model_module": "@jupyter-widgets/controls",
      "model_module_version": "1.5.0",
      "model_name": "DescriptionStyleModel",
      "state": {
       "description_width": ""
      }
     },
     "aada6ec621794cd0b59d4f488d0d8f4f": {
      "model_module": "@jupyter-widgets/controls",
      "model_module_version": "1.5.0",
      "model_name": "HBoxModel",
      "state": {
       "children": [
        "IPY_MODEL_1fcdbf0df6154098bfa296952452f2eb",
        "IPY_MODEL_553a3092fe5a42668b3765e1b22e326b",
        "IPY_MODEL_4ee840834e0d48c18c7f0620cd24ad35"
       ],
       "layout": "IPY_MODEL_da3ce326f3d543ceb612d6725825fe27"
      }
     },
     "ab35470fa6c64a8c883ec1ddf85dbf10": {
      "model_module": "@jupyter-widgets/controls",
      "model_module_version": "1.5.0",
      "model_name": "ButtonModel",
      "state": {
       "description": "Delete",
       "layout": "IPY_MODEL_0e61c0b2933942aba05d490241dcf34c",
       "style": "IPY_MODEL_601f053e8b2546ecb510a751e55381bd"
      }
     },
     "aba58d503f8c4b25965a681f2a8ce05f": {
      "model_module": "@jupyter-widgets/controls",
      "model_module_version": "1.5.0",
      "model_name": "VBoxModel",
      "state": {
       "children": [
        "IPY_MODEL_3ca74de0e5e3498c9f8ed474ead7c7e3",
        "IPY_MODEL_b25a003ecef74b56b3533fd31a637c50"
       ],
       "layout": "IPY_MODEL_04c3ee3bbbc345c688c5717616a76cc3"
      }
     },
     "ababa7f3c4dc4d59b965bf785a557df8": {
      "model_module": "@jupyter-widgets/controls",
      "model_module_version": "1.5.0",
      "model_name": "ButtonModel",
      "state": {
       "description": "Add",
       "layout": "IPY_MODEL_aa8e67da4be74fe787eaae61b05faf0b",
       "style": "IPY_MODEL_275220601a7a48178a80352a32093420"
      }
     },
     "ac041aa8d1cb43fa897f5b848ba259d3": {
      "model_module": "@jupyter-widgets/controls",
      "model_module_version": "1.5.0",
      "model_name": "VBoxModel",
      "state": {
       "children": [
        "IPY_MODEL_c87454a359054027ad88dad17a600527",
        "IPY_MODEL_b521bc75608e40b28f672ef4389cf1d0",
        "IPY_MODEL_1e9d9a4e286c4c119acadf22b928b055",
        "IPY_MODEL_c8d8af4f3dd54768a54a3cdac21c52e6",
        "IPY_MODEL_a7253c762d2d43ee9dc2a20679aca656"
       ],
       "layout": "IPY_MODEL_3f35ffb75b2646f6bce28bc0cc8f2674"
      }
     },
     "ac365ce74d4e4cea835ffc0048e8d007": {
      "model_module": "pgljupyter",
      "model_module_version": "^0.1.17",
      "model_name": "FloatEditorModel",
      "state": {
       "_model_module_version": "^0.1.17",
       "_view_module_version": "^0.1.17",
       "children": [
        "IPY_MODEL_75d2de1272c94d32b7af2ba25dd33f05",
        "IPY_MODEL_a8c42053e96a45a79f7a68bfa7eae15a"
       ],
       "layout": "IPY_MODEL_f37bee09f06b49588121430cdf5dc7f2"
      }
     },
     "ac46cadbf3a64d028a80e9f718078465": {
      "model_module": "@jupyter-widgets/controls",
      "model_module_version": "1.5.0",
      "model_name": "HBoxModel",
      "state": {
       "children": [
        "IPY_MODEL_4bd030b8f1cb4b3794df49b56895c686",
        "IPY_MODEL_513c48280c144cbd951b8f525fe519ae"
       ],
       "layout": "IPY_MODEL_4b3c00a92b50423daf5ac2c72f9c2c28"
      }
     },
     "ac5a1f02550645e3b6c720444f66c573": {
      "model_module": "pgljupyter",
      "model_module_version": "^0.1.17",
      "model_name": "_CurveEditorModel",
      "state": {
       "_model_module_version": "^0.1.17",
       "_view_module_version": "^0.1.17",
       "layout": "IPY_MODEL_8c85ea5290b746ecb8155a793ed19238",
       "points": [
        [
         -0.558642,
         0.0459491
        ],
        [
         -0.272827,
         -0.068981
        ],
        [
         -0.0295213,
         -0.153395
        ],
        [
         0.147239,
         -0.0700503
        ],
        [
         0.28250390625,
         0.10670386422271724
        ],
        [
         0.575777,
         0.232735
        ]
       ],
       "type": "NurbsCurve2D"
      }
     },
     "ac65edba56a5440e85b855b8e6f6339a": {
      "model_module": "@jupyter-widgets/base",
      "model_module_version": "1.2.0",
      "model_name": "LayoutModel",
      "state": {}
     },
     "ac7deffa9ac9477caec7db397703bd78": {
      "model_module": "@jupyter-widgets/controls",
      "model_module_version": "1.5.0",
      "model_name": "DescriptionStyleModel",
      "state": {
       "description_width": ""
      }
     },
     "ad28c395aeeb4a3b8e22d0105b18c5bf": {
      "model_module": "@jupyter-widgets/controls",
      "model_module_version": "1.5.0",
      "model_name": "ButtonModel",
      "state": {
       "description": "Add",
       "layout": "IPY_MODEL_119782de44694dbc80d15dc959c61fd6",
       "style": "IPY_MODEL_9580eab16140450383123e6a7aca5a9c"
      }
     },
     "ad42992371b541dfbc2dfbe482e17e21": {
      "model_module": "@jupyter-widgets/base",
      "model_module_version": "1.2.0",
      "model_name": "LayoutModel",
      "state": {}
     },
     "ae412f245bcb4a0f922a7975e2dca216": {
      "model_module": "@jupyter-widgets/base",
      "model_module_version": "1.2.0",
      "model_name": "LayoutModel",
      "state": {}
     },
     "aed60cd3bad64c6aaf78cede2850d78f": {
      "model_module": "@jupyter-widgets/controls",
      "model_module_version": "1.5.0",
      "model_name": "DropdownModel",
      "state": {
       "_options_labels": [
        "branchpath"
       ],
       "index": 0,
       "layout": "IPY_MODEL_c31b97a3ce2f465ea0e4fd99aa89fb6d",
       "style": "IPY_MODEL_9b7bd7e41d1a432fa2c22cca985dd4b4"
      }
     },
     "af4e87bfd0184d5cb8b32e4418cb72e0": {
      "model_module": "@jupyter-widgets/controls",
      "model_module_version": "1.5.0",
      "model_name": "ButtonStyleModel",
      "state": {}
     },
     "af79e90445c94ac6a1877546818aaf0d": {
      "model_module": "@jupyter-widgets/controls",
      "model_module_version": "1.5.0",
      "model_name": "CheckboxModel",
      "state": {
       "description": "Auto save",
       "disabled": false,
       "layout": "IPY_MODEL_3ecf791074f04922a12812f25af5f614",
       "style": "IPY_MODEL_f6f8d3df8a2b4d99a71b489f7625141b",
       "value": false
      }
     },
     "afddf450d16d4ed79c351305bca68482": {
      "model_module": "@jupyter-widgets/controls",
      "model_module_version": "1.5.0",
      "model_name": "FloatSliderModel",
      "state": {
       "description": "shininess",
       "layout": "IPY_MODEL_186d91ae81a94dc29f48124bb5f50f9c",
       "max": 1,
       "step": 0.1,
       "style": "IPY_MODEL_3168ed8406f5491da69fc71958c37e53"
      }
     },
     "b07209c3fdb24e1fa3e2c34a2191e045": {
      "model_module": "@jupyter-widgets/controls",
      "model_module_version": "1.5.0",
      "model_name": "HBoxModel",
      "state": {
       "children": [
        "IPY_MODEL_647ee6a08c8e4b0c930e061e1756ea03",
        "IPY_MODEL_d96d6922b2c243b8aeba0895e4c52272"
       ],
       "layout": "IPY_MODEL_902867ff5fbf4f138431894671205bf4"
      }
     },
     "b186002bfa7944cc8f1d6d0a2df75884": {
      "model_module": "@jupyter-widgets/controls",
      "model_module_version": "1.5.0",
      "model_name": "DescriptionStyleModel",
      "state": {
       "description_width": ""
      }
     },
     "b19ecdc238054d0cbe3efee0844b15da": {
      "model_module": "@jupyter-widgets/controls",
      "model_module_version": "1.5.0",
      "model_name": "ButtonStyleModel",
      "state": {}
     },
     "b1a97f4e4537436eb44ebcdac765196f": {
      "model_module": "@jupyter-widgets/base",
      "model_module_version": "1.2.0",
      "model_name": "LayoutModel",
      "state": {}
     },
     "b1d2d872fdb04138a610e934bda34590": {
      "model_module": "@jupyter-widgets/base",
      "model_module_version": "1.2.0",
      "model_name": "LayoutModel",
      "state": {}
     },
     "b219807ed79e458f916a5cd5125151c7": {
      "model_module": "@jupyter-widgets/controls",
      "model_module_version": "1.5.0",
      "model_name": "HBoxModel",
      "state": {
       "layout": "IPY_MODEL_ef30c2568c5e461d9d03d3effd7ae270"
      }
     },
     "b25a003ecef74b56b3533fd31a637c50": {
      "model_module": "@jupyter-widgets/controls",
      "model_module_version": "1.5.0",
      "model_name": "HBoxModel",
      "state": {
       "layout": "IPY_MODEL_a6628de87d684204a7a07c42b2147e43"
      }
     },
     "b391cfc41ef8415aa83c42fa4a7113e5": {
      "model_module": "@jupyter-widgets/controls",
      "model_module_version": "1.5.0",
      "model_name": "ButtonStyleModel",
      "state": {}
     },
     "b3e3284921944d618ce9a00da7d5d842": {
      "model_module": "@jupyter-widgets/base",
      "model_module_version": "1.2.0",
      "model_name": "LayoutModel",
      "state": {}
     },
     "b41063a146944693b9165d02d97d62dc": {
      "model_module": "@jupyter-widgets/controls",
      "model_module_version": "1.5.0",
      "model_name": "HBoxModel",
      "state": {
       "layout": "IPY_MODEL_fcddbcaa89834ff482558bf1c5c2988a"
      }
     },
     "b521bc75608e40b28f672ef4389cf1d0": {
      "model_module": "@jupyter-widgets/controls",
      "model_module_version": "1.5.0",
      "model_name": "HBoxModel",
      "state": {
       "children": [
        "IPY_MODEL_bff894655b634170944f2c24b4dba6dd",
        "IPY_MODEL_d965781bc6144c37b60e199ad1f09bdc"
       ],
       "layout": "IPY_MODEL_5e49e7ab9aa3402c8615682335805750"
      }
     },
     "b6b3cacb4c684427958791a95f54f225": {
      "model_module": "@jupyter-widgets/controls",
      "model_module_version": "1.5.0",
      "model_name": "HBoxModel",
      "state": {
       "children": [
        "IPY_MODEL_d4d1c91f76da48f4a4da9f70087580d9",
        "IPY_MODEL_ff63b9dbce6b4b44b0436b27ce5c5794"
       ],
       "layout": "IPY_MODEL_5b617bd177cf47ed886d7f1f71d186ec"
      }
     },
     "b6d417e8b51247be933406fe957c1b38": {
      "model_module": "@jupyter-widgets/controls",
      "model_module_version": "1.5.0",
      "model_name": "DescriptionStyleModel",
      "state": {
       "description_width": ""
      }
     },
     "b6ec2cc1056b406087829c47aa70ed2e": {
      "model_module": "@jupyter-widgets/base",
      "model_module_version": "1.2.0",
      "model_name": "LayoutModel",
      "state": {}
     },
     "b6f873b448314c2bad0636d10f3cf6dc": {
      "model_module": "@jupyter-widgets/controls",
      "model_module_version": "1.5.0",
      "model_name": "VBoxModel",
      "state": {
       "children": [
        "IPY_MODEL_b219807ed79e458f916a5cd5125151c7",
        "IPY_MODEL_b41063a146944693b9165d02d97d62dc"
       ],
       "layout": "IPY_MODEL_21208e5b9a714b31a9cbd3c140b2ed5f"
      }
     },
     "b716934007aa4efda98b3da448b206c9": {
      "model_module": "@jupyter-widgets/base",
      "model_module_version": "1.2.0",
      "model_name": "LayoutModel",
      "state": {}
     },
     "b77de0d8803e4de5b9cfcedf3ae88b0b": {
      "model_module": "@jupyter-widgets/base",
      "model_module_version": "1.2.0",
      "model_name": "LayoutModel",
      "state": {}
     },
     "b8183870c9574568b905cbcfbca0a712": {
      "model_module": "@jupyter-widgets/base",
      "model_module_version": "1.2.0",
      "model_name": "LayoutModel",
      "state": {}
     },
     "b8730ef2eea64896b0628f90dcd6c6f7": {
      "model_module": "pgljupyter",
      "model_module_version": "^0.1.17",
      "model_name": "MaterialEditorModel",
      "state": {
       "_model_module_version": "^0.1.17",
       "_view_module_version": "^0.1.17",
       "children": [
        "IPY_MODEL_621a624fa1f2401ba085d351a33a2b95",
        "IPY_MODEL_8c62a805618f418c9a8b3d5e58bc5d32",
        "IPY_MODEL_d8fedffe1cae423db4ec230c8f96d2e5",
        "IPY_MODEL_58cefb0d182e4dceb94bc90796bb3dab",
        "IPY_MODEL_89f601ef3b4c4bb9887d3025ddbd097b",
        "IPY_MODEL_d3f89644d91e440388226e1742484561",
        "IPY_MODEL_f8a2344e4eb542009b1c9165b5b70559",
        "IPY_MODEL_e00b814b43474dd9b5ad897c3e5697cf"
       ],
       "layout": "IPY_MODEL_5ded50050db04a618018efd36c3e5f0e"
      }
     },
     "b87ef4a5df4544a8822eb14993771374": {
      "model_module": "@jupyter-widgets/base",
      "model_module_version": "1.2.0",
      "model_name": "LayoutModel",
      "state": {}
     },
     "b8a9c93d1d3d435a9f11d668cf6fd29a": {
      "model_module": "pgljupyter",
      "model_module_version": "^0.1.17",
      "model_name": "IntEditorModel",
      "state": {
       "_model_module_version": "^0.1.17",
       "_view_module_version": "^0.1.17",
       "children": [
        "IPY_MODEL_6450038a56e9471e878f353767fa939e",
        "IPY_MODEL_8249b1646f7d450c961088f17efe2f6e"
       ],
       "layout": "IPY_MODEL_79ddd26ccbc4451d97208dcafd4f46e9"
      }
     },
     "b8ba0dd98ce84f049ba3af455bc8480f": {
      "model_module": "@jupyter-widgets/controls",
      "model_module_version": "1.5.0",
      "model_name": "AccordionModel",
      "state": {
       "_titles": {
        "0": "options",
        "1": "materials",
        "2": "Panel"
       },
       "children": [
        "IPY_MODEL_c5b1d6f2a08844e58b06199b9ad7ceea",
        "IPY_MODEL_37403483b90e4eadbde26ea705d9104d",
        "IPY_MODEL_452403308430494ea753b1308369ab26"
       ],
       "layout": "IPY_MODEL_f6a6636555d043c9803180282cc4f536",
       "selected_index": 2
      }
     },
     "b8f115f6fcd141fa890dd7aa542c0528": {
      "model_module": "@jupyter-widgets/base",
      "model_module_version": "1.2.0",
      "model_name": "LayoutModel",
      "state": {}
     },
     "b969229cc8fb4f7e9eb405cf0128cb47": {
      "model_module": "@jupyter-widgets/controls",
      "model_module_version": "1.5.0",
      "model_name": "DropdownModel",
      "state": {
       "_options_labels": [
        "Color_1"
       ],
       "index": 0,
       "layout": "IPY_MODEL_f830ae20d8374bbba9f1b74e88f2a028",
       "style": "IPY_MODEL_267011423e6f4a26a258c47500ad6f4f"
      }
     },
     "ba3c86ec2fdb4f3794ace202b2921828": {
      "model_module": "@jupyter-widgets/controls",
      "model_module_version": "1.5.0",
      "model_name": "ButtonStyleModel",
      "state": {}
     },
     "bacf3cb95efe4b9a8fb53909c9ab2eaf": {
      "model_module": "@jupyter-widgets/base",
      "model_module_version": "1.2.0",
      "model_name": "LayoutModel",
      "state": {
       "margin": "20px 0px"
      }
     },
     "bb3a1b3d66034312add9a4d734683fda": {
      "model_module": "@jupyter-widgets/controls",
      "model_module_version": "1.5.0",
      "model_name": "DescriptionStyleModel",
      "state": {
       "description_width": ""
      }
     },
     "bb4bb6509b0e4c489de1c7bd06c9106d": {
      "model_module": "@jupyter-widgets/base",
      "model_module_version": "1.2.0",
      "model_name": "LayoutModel",
      "state": {}
     },
     "bba709855ee848619ee085ad038afed9": {
      "model_module": "@jupyter-widgets/base",
      "model_module_version": "1.2.0",
      "model_name": "LayoutModel",
      "state": {}
     },
     "bc93968550c34eb194622c1cbb5902fb": {
      "model_module": "@jupyter-widgets/controls",
      "model_module_version": "1.5.0",
      "model_name": "DescriptionStyleModel",
      "state": {
       "description_width": ""
      }
     },
     "bd65588d9d904769ac24a1fbfeee064e": {
      "model_module": "@jupyter-widgets/controls",
      "model_module_version": "1.5.0",
      "model_name": "HBoxModel",
      "state": {
       "children": [
        "IPY_MODEL_0ac9e51aaea64ebb8a65d3ecec5ee3da",
        "IPY_MODEL_af79e90445c94ac6a1877546818aaf0d"
       ],
       "layout": "IPY_MODEL_c499ed39892e4bcb8cc57fac890334df"
      }
     },
     "bdeaab7defa34f80ba5d8f75fce9f79e": {
      "model_module": "@jupyter-widgets/base",
      "model_module_version": "1.2.0",
      "model_name": "LayoutModel",
      "state": {}
     },
     "be799c2ccd1c48b2b572c84dd645edcb": {
      "model_module": "@jupyter-widgets/controls",
      "model_module_version": "1.5.0",
      "model_name": "ButtonStyleModel",
      "state": {}
     },
     "bfb711e82abe407c9d47ee7ccd824651": {
      "model_module": "pgljupyter",
      "model_module_version": "^0.1.17",
      "model_name": "FloatEditorModel",
      "state": {
       "_model_module_version": "^0.1.17",
       "_view_module_version": "^0.1.17",
       "children": [
        "IPY_MODEL_75d61a1bed2d46eab5a7ec3e2fc2fe3e",
        "IPY_MODEL_945eecf0525541e3967f148076e19204"
       ],
       "layout": "IPY_MODEL_530590c719294a39851d0f8fae01669f"
      }
     },
     "bff894655b634170944f2c24b4dba6dd": {
      "model_module": "@jupyter-widgets/controls",
      "model_module_version": "1.5.0",
      "model_name": "HBoxModel",
      "state": {
       "children": [
        "IPY_MODEL_27a048fa5b66429ead9f50e8a28e8795",
        "IPY_MODEL_111799af22874e989c5472f4bac1c679"
       ],
       "layout": "IPY_MODEL_3a84d5534e2041e194497aac10411496"
      }
     },
     "c17359262e364b6ba5fe1a6991fbbbd2": {
      "model_module": "@jupyter-widgets/base",
      "model_module_version": "1.2.0",
      "model_name": "LayoutModel",
      "state": {
       "margin": "20px 0px"
      }
     },
     "c1896130bf34427289dd050edd62e89e": {
      "model_module": "@jupyter-widgets/base",
      "model_module_version": "1.2.0",
      "model_name": "LayoutModel",
      "state": {}
     },
     "c1b77d58ef2641fe87038846a0e6e1b4": {
      "model_module": "pgljupyter",
      "model_module_version": "^0.1.17",
      "model_name": "CurveEditorModel",
      "state": {
       "_model_module_version": "^0.1.17",
       "_view_module_version": "^0.1.17",
       "children": [
        "IPY_MODEL_9dbcbac0e63f4a0299e47d7bc19d044d",
        "IPY_MODEL_ac5a1f02550645e3b6c720444f66c573"
       ],
       "layout": "IPY_MODEL_c17359262e364b6ba5fe1a6991fbbbd2"
      }
     },
     "c241b54e4e3f4f60bb5e0820c4dbc236": {
      "model_module": "@jupyter-widgets/controls",
      "model_module_version": "1.5.0",
      "model_name": "DescriptionStyleModel",
      "state": {
       "description_width": ""
      }
     },
     "c2aed18faa1149a1a5c3850b992107c4": {
      "model_module": "@jupyter-widgets/controls",
      "model_module_version": "1.5.0",
      "model_name": "DropdownModel",
      "state": {
       "_options_labels": [
        "Color"
       ],
       "index": 0,
       "layout": "IPY_MODEL_0564960885f2492d945715a138884e91",
       "style": "IPY_MODEL_ea8a36cbb68d4c528ac58074c55d52d2"
      }
     },
     "c2caeac613d74a5badc8f19d69939506": {
      "model_module": "@jupyter-widgets/base",
      "model_module_version": "1.2.0",
      "model_name": "LayoutModel",
      "state": {
       "flex_flow": "row wrap",
       "margin": "20px"
      }
     },
     "c31b97a3ce2f465ea0e4fd99aa89fb6d": {
      "model_module": "@jupyter-widgets/base",
      "model_module_version": "1.2.0",
      "model_name": "LayoutModel",
      "state": {}
     },
     "c436fb372e1844638b1b38a0ced48184": {
      "model_module": "@jupyter-widgets/base",
      "model_module_version": "1.2.0",
      "model_name": "LayoutModel",
      "state": {}
     },
     "c437dd6159994d739dcb86d21e016baf": {
      "model_module": "@jupyter-widgets/base",
      "model_module_version": "1.2.0",
      "model_name": "LayoutModel",
      "state": {}
     },
     "c499ed39892e4bcb8cc57fac890334df": {
      "model_module": "@jupyter-widgets/base",
      "model_module_version": "1.2.0",
      "model_name": "LayoutModel",
      "state": {}
     },
     "c4a74f31810f4b47b859642ec18ea5fb": {
      "model_module": "@jupyter-widgets/controls",
      "model_module_version": "1.5.0",
      "model_name": "ButtonStyleModel",
      "state": {}
     },
     "c5b1d6f2a08844e58b06199b9ad7ceea": {
      "model_module": "@jupyter-widgets/controls",
      "model_module_version": "1.5.0",
      "model_name": "VBoxModel",
      "state": {
       "children": [
        "IPY_MODEL_f60b916c5e944d6a973c736fd31b14ee",
        "IPY_MODEL_9ab1eaf58b1045f3a116ed48f57cb4aa"
       ],
       "layout": "IPY_MODEL_ed73d6281c714fb28d0e263ef25f59a1"
      }
     },
     "c6047898f58f4e70bc3db48c5d791653": {
      "model_module": "@jupyter-widgets/controls",
      "model_module_version": "1.5.0",
      "model_name": "HBoxModel",
      "state": {
       "children": [
        "IPY_MODEL_3c04e020e7524aaeab95e285dbe5f833",
        "IPY_MODEL_a1c7bcb5adfa4fd5b869b933507b201e"
       ],
       "layout": "IPY_MODEL_863fa09bca524cb185ab4b1ed1f0e9d0"
      }
     },
     "c61bd222f8634b4eb53a95f14e19942d": {
      "model_module": "@jupyter-widgets/controls",
      "model_module_version": "1.5.0",
      "model_name": "ButtonModel",
      "state": {
       "description": "Delete",
       "layout": "IPY_MODEL_08fd3b2eb5b0456d9a80604dddee99fd",
       "style": "IPY_MODEL_5d6259b609934959a40d0099512367e6"
      }
     },
     "c63ee294e77547de99575e97638538e9": {
      "model_module": "@jupyter-widgets/base",
      "model_module_version": "1.2.0",
      "model_name": "LayoutModel",
      "state": {}
     },
     "c773e20dcbf94cec948bac9316f7dcc6": {
      "model_module": "@jupyter-widgets/controls",
      "model_module_version": "1.5.0",
      "model_name": "DescriptionStyleModel",
      "state": {
       "description_width": ""
      }
     },
     "c806086d46e042328bc3c503ad46df1b": {
      "model_module": "@jupyter-widgets/controls",
      "model_module_version": "1.5.0",
      "model_name": "ButtonStyleModel",
      "state": {}
     },
     "c8607554e782409e9e09a0be1fcf8e4c": {
      "model_module": "@jupyter-widgets/controls",
      "model_module_version": "1.5.0",
      "model_name": "TextModel",
      "state": {
       "continuous_update": false,
       "description": "name",
       "layout": "IPY_MODEL_23b9b806d1234c9a8972ec9a90f482e7",
       "style": "IPY_MODEL_a62a561af73a4a3aad3545de1b79374f",
       "value": "MAX_ORDER"
      }
     },
     "c87454a359054027ad88dad17a600527": {
      "model_module": "@jupyter-widgets/controls",
      "model_module_version": "1.5.0",
      "model_name": "HBoxModel",
      "state": {
       "children": [
        "IPY_MODEL_906c94412b454505bf867de0ffdc3ca5"
       ],
       "layout": "IPY_MODEL_5e49e7ab9aa3402c8615682335805750"
      }
     },
     "c8d8af4f3dd54768a54a3cdac21c52e6": {
      "model_module": "@jupyter-widgets/controls",
      "model_module_version": "1.5.0",
      "model_name": "HBoxModel",
      "state": {
       "children": [
        "IPY_MODEL_b6b3cacb4c684427958791a95f54f225",
        "IPY_MODEL_7bdbcb784f344ddba67840798c6d0d8e"
       ],
       "layout": "IPY_MODEL_5e49e7ab9aa3402c8615682335805750"
      }
     },
     "c92e758c1ffa42d0b9e750fa56b20a64": {
      "model_module": "@jupyter-widgets/base",
      "model_module_version": "1.2.0",
      "model_name": "LayoutModel",
      "state": {}
     },
     "c97e82089f414f519c995ed2cf20e04c": {
      "model_module": "@jupyter-widgets/controls",
      "model_module_version": "1.5.0",
      "model_name": "VBoxModel",
      "state": {
       "children": [
        "IPY_MODEL_73ae6a034a98467a8a2b827efc4df1e3",
        "IPY_MODEL_20b892640bae41349b6a153422371514",
        "IPY_MODEL_e437e05cc6e44c69b9833f051fc1c8e2",
        "IPY_MODEL_2133b3e19168489badd19178c3e4f648",
        "IPY_MODEL_190c3fc700da4f328d168fadeab5b846"
       ],
       "layout": "IPY_MODEL_6c87305977134bf8a677b6ef277e9714"
      }
     },
     "c9892b0eccc84eb1979a6681af02d7b8": {
      "model_module": "@jupyter-widgets/controls",
      "model_module_version": "1.5.0",
      "model_name": "SliderStyleModel",
      "state": {
       "description_width": ""
      }
     },
     "cad4825bfa274abfa9e60e0fd7bda434": {
      "model_module": "@jupyter-widgets/base",
      "model_module_version": "1.2.0",
      "model_name": "LayoutModel",
      "state": {}
     },
     "cb8b09ace7874beab9f1ee7c9c71f41b": {
      "model_module": "@jupyter-widgets/controls",
      "model_module_version": "1.5.0",
      "model_name": "CheckboxModel",
      "state": {
       "description": "value",
       "disabled": false,
       "layout": "IPY_MODEL_34ce3aaed0f542479bd7b60289252641",
       "style": "IPY_MODEL_0ecf4e640ea74b7ea234452321e19e09",
       "value": false
      }
     },
     "cc227153fce04ac7b59b01c1ce4d9e64": {
      "model_module": "@jupyter-widgets/controls",
      "model_module_version": "1.5.0",
      "model_name": "DescriptionStyleModel",
      "state": {
       "description_width": ""
      }
     },
     "cc2d2fb71eea41339e84556a2f0bed5b": {
      "model_module": "@jupyter-widgets/base",
      "model_module_version": "1.2.0",
      "model_name": "LayoutModel",
      "state": {}
     },
     "cc6980675bd44276a31bb771f2ce33be": {
      "model_module": "@jupyter-widgets/base",
      "model_module_version": "1.2.0",
      "model_name": "LayoutModel",
      "state": {}
     },
     "cc6bf6370e3f4f96be52b38b8001245d": {
      "model_module": "@jupyter-widgets/controls",
      "model_module_version": "1.5.0",
      "model_name": "DescriptionStyleModel",
      "state": {
       "description_width": ""
      }
     },
     "cd20aa6024b149f9bbf6f274e06c231e": {
      "model_module": "@jupyter-widgets/base",
      "model_module_version": "1.2.0",
      "model_name": "LayoutModel",
      "state": {}
     },
     "cd51738f9c0341c7a632f33cd3366921": {
      "model_module": "@jupyter-widgets/controls",
      "model_module_version": "1.5.0",
      "model_name": "FloatSliderModel",
      "state": {
       "description": "diffuse",
       "layout": "IPY_MODEL_dde1d2699b304276944b78776f1eca18",
       "max": 3,
       "step": 0.1,
       "style": "IPY_MODEL_01e30e68b3af4fcaa624e3ec4e4b3da9",
       "value": 3
      }
     },
     "cd6f01c9027446178e35400034dff621": {
      "model_module": "@jupyter-widgets/controls",
      "model_module_version": "1.5.0",
      "model_name": "HBoxModel",
      "state": {
       "children": [
        "IPY_MODEL_f776d9e0124d49309c092f6d16dcae9d",
        "IPY_MODEL_b969229cc8fb4f7e9eb405cf0128cb47"
       ],
       "layout": "IPY_MODEL_9af3a6b6050c4731a2ea863b18c0648a"
      }
     },
     "cd88e5f314584c32b16056af982e56ca": {
      "model_module": "@jupyter-widgets/controls",
      "model_module_version": "1.5.0",
      "model_name": "ButtonModel",
      "state": {
       "description": "Add",
       "layout": "IPY_MODEL_4d69f1ee5ac74b56b29a687113a13c57",
       "style": "IPY_MODEL_0f4284cd66094b0ba48f85ce238415e0"
      }
     },
     "cd97b600a8cf49a5b53c8b183a73c4ad": {
      "model_module": "@jupyter-widgets/controls",
      "model_module_version": "1.5.0",
      "model_name": "HBoxModel",
      "state": {
       "children": [
        "IPY_MODEL_321a223e8212412dbd1269798432bc68",
        "IPY_MODEL_bd65588d9d904769ac24a1fbfeee064e",
        "IPY_MODEL_3481681e9ad644b59a1ea715af14283e"
       ],
       "layout": "IPY_MODEL_ceebd540e52445b4a3e441435350da1a"
      }
     },
     "ce38787a227b4bb39d6a1fbb3ed6a788": {
      "model_module": "@jupyter-widgets/base",
      "model_module_version": "1.2.0",
      "model_name": "LayoutModel",
      "state": {}
     },
     "ceebd540e52445b4a3e441435350da1a": {
      "model_module": "@jupyter-widgets/base",
      "model_module_version": "1.2.0",
      "model_name": "LayoutModel",
      "state": {
       "flex_flow": "row wrap"
      }
     },
     "cef6f7c07266474e9a8a988d8341a19f": {
      "model_module": "@jupyter-widgets/controls",
      "model_module_version": "1.5.0",
      "model_name": "FloatSliderModel",
      "state": {
       "description": "transparency",
       "layout": "IPY_MODEL_e8e15427847847cc960f95edae48722e",
       "max": 1,
       "step": 0.1,
       "style": "IPY_MODEL_5d26c3fbe11c4db583c7419a5ed69d13"
      }
     },
     "cf0dcbabcb29481fa2b71a617d386442": {
      "model_module": "@jupyter-widgets/controls",
      "model_module_version": "1.5.0",
      "model_name": "SliderStyleModel",
      "state": {
       "description_width": ""
      }
     },
     "cf8022a6f2584abebbf6668705b81c59": {
      "model_module": "@jupyter-widgets/base",
      "model_module_version": "1.2.0",
      "model_name": "LayoutModel",
      "state": {}
     },
     "d1e0f3fc927d4096bbd84fd8ca87c1cd": {
      "model_module": "@jupyter-widgets/base",
      "model_module_version": "1.2.0",
      "model_name": "LayoutModel",
      "state": {}
     },
     "d2bc51b5959f454e8be54bf56d52bfa0": {
      "model_module": "@jupyter-widgets/base",
      "model_module_version": "1.2.0",
      "model_name": "LayoutModel",
      "state": {}
     },
     "d31d1d4d0c9d4a7d9fc032559722ca6f": {
      "model_module": "@jupyter-widgets/controls",
      "model_module_version": "1.5.0",
      "model_name": "ButtonStyleModel",
      "state": {}
     },
     "d3f89644d91e440388226e1742484561": {
      "model_module": "@jupyter-widgets/controls",
      "model_module_version": "1.5.0",
      "model_name": "FloatSliderModel",
      "state": {
       "description": "diffuse",
       "layout": "IPY_MODEL_00e474b3e93a4930b48bc74a8b2abf3d",
       "max": 3,
       "step": 0.1,
       "style": "IPY_MODEL_fa6438513b494d63a0d63206dc913609",
       "value": 3
      }
     },
     "d44d8420cc464643a9fe3cbf821222e5": {
      "model_module": "pgljupyter",
      "model_module_version": "^0.1.17",
      "model_name": "MaterialEditorModel",
      "state": {
       "_model_module_version": "^0.1.17",
       "_view_module_version": "^0.1.17",
       "children": [
        "IPY_MODEL_1f83dcb483454c56818adf87a6f89612",
        "IPY_MODEL_0cf5df65662942a88f86b021c91c3c37",
        "IPY_MODEL_69e7482ffcde4c52a81e77365acdce84",
        "IPY_MODEL_7ad76e459cdb482b95734cb33e873385",
        "IPY_MODEL_4aa01535eef14cd29362a6be29454549",
        "IPY_MODEL_fa8949cf932649e8b0def0b2f4000df8",
        "IPY_MODEL_117c1aba2fa24e389a5d23afdae8222a",
        "IPY_MODEL_0e88f3deef6c4bc3a0ec1c15e56ba8f4"
       ],
       "layout": "IPY_MODEL_3d1cfda7dd6a4feaad178d67565f8637"
      }
     },
     "d4551b5138f043538272f3d32efa5293": {
      "model_module": "@jupyter-widgets/base",
      "model_module_version": "1.2.0",
      "model_name": "LayoutModel",
      "state": {}
     },
     "d4611d017c164c22a36e6a4924b7976a": {
      "model_module": "@jupyter-widgets/controls",
      "model_module_version": "1.5.0",
      "model_name": "ButtonModel",
      "state": {
       "description": "Add category",
       "layout": "IPY_MODEL_3ab26e097286402592ef70313527a961",
       "style": "IPY_MODEL_64b81969448c4c2faebb9a51dda5e68d"
      }
     },
     "d4a14e78074841a0a62a318421c35d34": {
      "model_module": "@jupyter-widgets/controls",
      "model_module_version": "1.5.0",
      "model_name": "DescriptionStyleModel",
      "state": {
       "description_width": ""
      }
     },
     "d4c4c228d5fb4138a8bcbb247c4f397a": {
      "model_module": "@jupyter-widgets/base",
      "model_module_version": "1.2.0",
      "model_name": "LayoutModel",
      "state": {}
     },
     "d4d1c91f76da48f4a4da9f70087580d9": {
      "model_module": "@jupyter-widgets/controls",
      "model_module_version": "1.5.0",
      "model_name": "ButtonModel",
      "state": {
       "description": "Add",
       "layout": "IPY_MODEL_92d4de7fbd1a4d8f83c8ff199a03198f",
       "style": "IPY_MODEL_97adbe4dca8e41a3a838597369fee3f2"
      }
     },
     "d4e7e41c490c4c509a4be37e2c28e5b8": {
      "model_module": "@jupyter-widgets/controls",
      "model_module_version": "1.5.0",
      "model_name": "FloatSliderModel",
      "state": {
       "description": "transparency",
       "layout": "IPY_MODEL_dd221e4d1ab745729f4bea48701c73b9",
       "max": 1,
       "step": 0.1,
       "style": "IPY_MODEL_1953dab5258b4db489f83b62daa1d422"
      }
     },
     "d64143f853524148bf1bb4719ff495f7": {
      "model_module": "@jupyter-widgets/base",
      "model_module_version": "1.2.0",
      "model_name": "LayoutModel",
      "state": {}
     },
     "d64961abb2e249fa9188e5d672c69f35": {
      "model_module": "@jupyter-widgets/controls",
      "model_module_version": "1.5.0",
      "model_name": "ButtonStyleModel",
      "state": {}
     },
     "d65e93c6ef85460d8905701e48b2dcf8": {
      "model_module": "@jupyter-widgets/base",
      "model_module_version": "1.2.0",
      "model_name": "LayoutModel",
      "state": {}
     },
     "d6c9ac324f924bb99a1be2ffc57f124b": {
      "model_module": "@jupyter-widgets/controls",
      "model_module_version": "1.5.0",
      "model_name": "HBoxModel",
      "state": {
       "children": [
        "IPY_MODEL_532f0bbb96774d8ebd032f04185b4fb2"
       ],
       "layout": "IPY_MODEL_863fa09bca524cb185ab4b1ed1f0e9d0"
      }
     },
     "d82b243e43fc481fbfc465492c0eb914": {
      "model_module": "@jupyter-widgets/controls",
      "model_module_version": "1.5.0",
      "model_name": "HBoxModel",
      "state": {
       "children": [
        "IPY_MODEL_1d6128555d7d48b58b257d1e8615e938",
        "IPY_MODEL_01488d33f4ca4e2b810d8942ab717811"
       ],
       "layout": "IPY_MODEL_ef30c2568c5e461d9d03d3effd7ae270"
      }
     },
     "d8fedffe1cae423db4ec230c8f96d2e5": {
      "model_module": "@jupyter-widgets/controls",
      "model_module_version": "1.5.0",
      "model_name": "ColorPickerModel",
      "state": {
       "description": "ambient",
       "disabled": false,
       "layout": "IPY_MODEL_4be488383d184728bfa042d93360de10",
       "style": "IPY_MODEL_280a4c63511e41609d7837ac6673c996",
       "value": "#412d0f"
      }
     },
     "d950329bc3204b23b06a54df4926254a": {
      "model_module": "pgljupyter",
      "model_module_version": "^0.1.17",
      "model_name": "ParameterEditorModel",
      "state": {
       "_model_module_version": "^0.1.17",
       "_view_module_version": "^0.1.17",
       "children": [
        "IPY_MODEL_60f575acc6dd47bfaf76c6a535a2b41f"
       ],
       "layout": "IPY_MODEL_1222cb9c06ab400381b8d3410b9a6c61"
      }
     },
     "d965781bc6144c37b60e199ad1f09bdc": {
      "model_module": "@jupyter-widgets/controls",
      "model_module_version": "1.5.0",
      "model_name": "HBoxModel",
      "state": {
       "children": [
        "IPY_MODEL_ab35470fa6c64a8c883ec1ddf85dbf10",
        "IPY_MODEL_ffb8e71b7b7a47788963687e5756cc87"
       ],
       "layout": "IPY_MODEL_41e45ead99d343cfb8770d027c71a7d6"
      }
     },
     "d96d6922b2c243b8aeba0895e4c52272": {
      "model_module": "@jupyter-widgets/controls",
      "model_module_version": "1.5.0",
      "model_name": "DropdownModel",
      "state": {
       "_options_labels": [
        "Color"
       ],
       "index": 0,
       "layout": "IPY_MODEL_4cadb95fcf72406a94f8b6a1a2485a28",
       "style": "IPY_MODEL_e6c155b210ac4482b3304cccd5ab5a3c"
      }
     },
     "d9b2421dc5094066a8be1c708f24bc32": {
      "model_module": "@jupyter-widgets/controls",
      "model_module_version": "1.5.0",
      "model_name": "ButtonModel",
      "state": {
       "description": "Add",
       "layout": "IPY_MODEL_4678c4769d5648afa5843ec9a5b3d7ed",
       "style": "IPY_MODEL_e7d4371cc0584d0f9d0949241f5ad486"
      }
     },
     "da3ce326f3d543ceb612d6725825fe27": {
      "model_module": "@jupyter-widgets/base",
      "model_module_version": "1.2.0",
      "model_name": "LayoutModel",
      "state": {
       "flex_flow": "row wrap"
      }
     },
     "db081a683bdd4ff69db9293b0dd80ee0": {
      "model_module": "@jupyter-widgets/controls",
      "model_module_version": "1.5.0",
      "model_name": "TextModel",
      "state": {
       "continuous_update": false,
       "description": "name",
       "layout": "IPY_MODEL_928c2197bd2849508c5232ebf03d980e",
       "style": "IPY_MODEL_06659177901041aea9b32bab20014d7f",
       "value": "ELASTICITY"
      }
     },
     "db3e0fb5953c4db0989de91be364f997": {
      "model_module": "@jupyter-widgets/controls",
      "model_module_version": "1.5.0",
      "model_name": "IntSliderModel",
      "state": {
       "description": "value",
       "layout": "IPY_MODEL_db62a4bebe504af9a4dea7904bf00dad",
       "max": 5,
       "style": "IPY_MODEL_e6baf25e28d2446fbd700382d477f2b7",
       "value": 5
      }
     },
     "db62a4bebe504af9a4dea7904bf00dad": {
      "model_module": "@jupyter-widgets/base",
      "model_module_version": "1.2.0",
      "model_name": "LayoutModel",
      "state": {}
     },
     "dba17168ed154f66b0bbf98fc2775022": {
      "model_module": "pgljupyter",
      "model_module_version": "^0.1.17",
      "model_name": "BoolEditorModel",
      "state": {
       "_model_module_version": "^0.1.17",
       "_view_module_version": "^0.1.17",
       "children": [
        "IPY_MODEL_0d99f70190fc4324978197b1540eb6f1",
        "IPY_MODEL_6bf5f8d7684242b39699782eef081a71"
       ],
       "layout": "IPY_MODEL_336b24cdd38d47c8af477fb3bbff9d5f"
      }
     },
     "dbadfac13eb549ecbdd132a8ec791e5a": {
      "model_module": "@jupyter-widgets/base",
      "model_module_version": "1.2.0",
      "model_name": "LayoutModel",
      "state": {}
     },
     "dbe91cf6886548e08383727b589d6c04": {
      "model_module": "@jupyter-widgets/base",
      "model_module_version": "1.2.0",
      "model_name": "LayoutModel",
      "state": {}
     },
     "dc16604c7dea43369c7a789edd38b406": {
      "model_module": "@jupyter-widgets/base",
      "model_module_version": "1.2.0",
      "model_name": "LayoutModel",
      "state": {
       "margin": "20px 0px"
      }
     },
     "dc1bff43a4534a629c6386072a893dde": {
      "model_module": "@jupyter-widgets/base",
      "model_module_version": "1.2.0",
      "model_name": "LayoutModel",
      "state": {}
     },
     "dc253aff0fa54add982a5f5d5db697ff": {
      "model_module": "@jupyter-widgets/controls",
      "model_module_version": "1.5.0",
      "model_name": "BoundedIntTextModel",
      "state": {
       "description": "index",
       "layout": "IPY_MODEL_746a2f011f9b4ae1b84cd482c5b6104d",
       "style": "IPY_MODEL_c241b54e4e3f4f60bb5e0820c4dbc236",
       "value": 1
      }
     },
     "dd221e4d1ab745729f4bea48701c73b9": {
      "model_module": "@jupyter-widgets/base",
      "model_module_version": "1.2.0",
      "model_name": "LayoutModel",
      "state": {}
     },
     "dd734a37e08b4c8886e44c8a93db23aa": {
      "model_module": "@jupyter-widgets/controls",
      "model_module_version": "1.5.0",
      "model_name": "SliderStyleModel",
      "state": {
       "description_width": ""
      }
     },
     "dde1d2699b304276944b78776f1eca18": {
      "model_module": "@jupyter-widgets/base",
      "model_module_version": "1.2.0",
      "model_name": "LayoutModel",
      "state": {}
     },
     "de39ea33b3644bb9b3dd87249db5c805": {
      "model_module": "@jupyter-widgets/base",
      "model_module_version": "1.2.0",
      "model_name": "LayoutModel",
      "state": {}
     },
     "de99899f25d045aca7b59a2be06760f6": {
      "model_module": "@jupyter-widgets/controls",
      "model_module_version": "1.5.0",
      "model_name": "IntSliderModel",
      "state": {
       "description": "value",
       "layout": "IPY_MODEL_677fded47dd246d4bfb1c98fd9f3902f",
       "max": 5,
       "style": "IPY_MODEL_7801369b5b6e4f46bad4e7250e9792f5",
       "value": 5
      }
     },
     "dfd298bee9cd4811834cbd6ca42b60dd": {
      "model_module": "@jupyter-widgets/controls",
      "model_module_version": "1.5.0",
      "model_name": "TextModel",
      "state": {
       "continuous_update": false,
       "description": "name",
       "layout": "IPY_MODEL_dbe91cf6886548e08383727b589d6c04",
       "style": "IPY_MODEL_974c180b8ee649f39be016cde5a9e669",
       "value": "ELASTICITY"
      }
     },
     "e00b814b43474dd9b5ad897c3e5697cf": {
      "model_module": "@jupyter-widgets/controls",
      "model_module_version": "1.5.0",
      "model_name": "FloatSliderModel",
      "state": {
       "description": "shininess",
       "layout": "IPY_MODEL_fd08bb11a6a5408eb2384b60e511dd76",
       "max": 1,
       "step": 0.1,
       "style": "IPY_MODEL_e0149b1a3e16497daafc1fdbdf8437e1"
      }
     },
     "e0149b1a3e16497daafc1fdbdf8437e1": {
      "model_module": "@jupyter-widgets/controls",
      "model_module_version": "1.5.0",
      "model_name": "SliderStyleModel",
      "state": {
       "description_width": ""
      }
     },
     "e096cad57ca2418b9e178e3aad7fba1e": {
      "model_module": "pgljupyter",
      "model_module_version": "^0.1.17",
      "model_name": "CurveEditorModel",
      "state": {
       "_model_module_version": "^0.1.17",
       "_view_module_version": "^0.1.17",
       "children": [
        "IPY_MODEL_24caedc345a248a2888bda1103984a84",
        "IPY_MODEL_0fdb37f033cb4168a47f42dd7b73fa71"
       ],
       "layout": "IPY_MODEL_dc16604c7dea43369c7a789edd38b406"
      }
     },
     "e19f517e7b034b0783f53ef9ee0b9cb7": {
      "model_module": "@jupyter-widgets/controls",
      "model_module_version": "1.5.0",
      "model_name": "DescriptionStyleModel",
      "state": {
       "description_width": ""
      }
     },
     "e26b49037c0e492da3aedf22ff812906": {
      "model_module": "@jupyter-widgets/base",
      "model_module_version": "1.2.0",
      "model_name": "LayoutModel",
      "state": {}
     },
     "e31ed80e961149b594ba4b2dfee5b606": {
      "model_module": "@jupyter-widgets/base",
      "model_module_version": "1.2.0",
      "model_name": "LayoutModel",
      "state": {}
     },
     "e3222b01a0364e3fa10ea539c0875724": {
      "model_module": "@jupyter-widgets/controls",
      "model_module_version": "1.5.0",
      "model_name": "DescriptionStyleModel",
      "state": {
       "description_width": ""
      }
     },
     "e358cb0f504b40aaae9549e7393a0422": {
      "model_module": "@jupyter-widgets/controls",
      "model_module_version": "1.5.0",
      "model_name": "DescriptionStyleModel",
      "state": {
       "description_width": ""
      }
     },
     "e3acc49dad404826a4842d485c5a78ae": {
      "model_module": "@jupyter-widgets/base",
      "model_module_version": "1.2.0",
      "model_name": "LayoutModel",
      "state": {
       "margin": "20px 0px"
      }
     },
     "e3dcd4d79a174463942962398a3b0e67": {
      "model_module": "@jupyter-widgets/base",
      "model_module_version": "1.2.0",
      "model_name": "LayoutModel",
      "state": {}
     },
     "e40fe308875647e7b885f37f844a6629": {
      "model_module": "@jupyter-widgets/base",
      "model_module_version": "1.2.0",
      "model_name": "LayoutModel",
      "state": {}
     },
     "e437e05cc6e44c69b9833f051fc1c8e2": {
      "model_module": "@jupyter-widgets/controls",
      "model_module_version": "1.5.0",
      "model_name": "HBoxModel",
      "state": {
       "children": [
        "IPY_MODEL_99d4dc8a8ae94bb8beae2e1b78146ea8",
        "IPY_MODEL_7882edeb4ea34a7cab0e7a968aa20043",
        "IPY_MODEL_ac365ce74d4e4cea835ffc0048e8d007"
       ],
       "layout": "IPY_MODEL_a6628de87d684204a7a07c42b2147e43"
      }
     },
     "e4994869125442b7af932312ac421807": {
      "model_module": "@jupyter-widgets/base",
      "model_module_version": "1.2.0",
      "model_name": "LayoutModel",
      "state": {}
     },
     "e6baf25e28d2446fbd700382d477f2b7": {
      "model_module": "@jupyter-widgets/controls",
      "model_module_version": "1.5.0",
      "model_name": "SliderStyleModel",
      "state": {
       "description_width": ""
      }
     },
     "e6c155b210ac4482b3304cccd5ab5a3c": {
      "model_module": "@jupyter-widgets/controls",
      "model_module_version": "1.5.0",
      "model_name": "DescriptionStyleModel",
      "state": {
       "description_width": ""
      }
     },
     "e71fce53ff0c448586dec161cbd4f5fc": {
      "model_module": "@jupyter-widgets/controls",
      "model_module_version": "1.5.0",
      "model_name": "TextModel",
      "state": {
       "continuous_update": false,
       "description": "name",
       "layout": "IPY_MODEL_d65e93c6ef85460d8905701e48b2dcf8",
       "style": "IPY_MODEL_d4a14e78074841a0a62a318421c35d34",
       "value": "branchpath"
      }
     },
     "e72a0ef3f92e463dab75049c101ed5b6": {
      "model_module": "@jupyter-widgets/base",
      "model_module_version": "1.2.0",
      "model_name": "LayoutModel",
      "state": {}
     },
     "e7d4371cc0584d0f9d0949241f5ad486": {
      "model_module": "@jupyter-widgets/controls",
      "model_module_version": "1.5.0",
      "model_name": "ButtonStyleModel",
      "state": {}
     },
     "e83bb3a279d649e9b32e81476a204f59": {
      "model_module": "@jupyter-widgets/controls",
      "model_module_version": "1.5.0",
      "model_name": "SliderStyleModel",
      "state": {
       "description_width": ""
      }
     },
     "e8cafbfa1a904090bc7b107e102581ef": {
      "model_module": "@jupyter-widgets/base",
      "model_module_version": "1.2.0",
      "model_name": "LayoutModel",
      "state": {}
     },
     "e8e15427847847cc960f95edae48722e": {
      "model_module": "@jupyter-widgets/base",
      "model_module_version": "1.2.0",
      "model_name": "LayoutModel",
      "state": {}
     },
     "e9229c488c4d4df0a72cd3ccaa5b9b74": {
      "model_module": "@jupyter-widgets/base",
      "model_module_version": "1.2.0",
      "model_name": "LayoutModel",
      "state": {}
     },
     "ea64d7e10eef4102b65e6f68e0eb567d": {
      "model_module": "@jupyter-widgets/controls",
      "model_module_version": "1.5.0",
      "model_name": "DropdownModel",
      "state": {
       "_options_labels": [
        "Color"
       ],
       "index": 0,
       "layout": "IPY_MODEL_405608aa535a4408bd13484f6c104411",
       "style": "IPY_MODEL_2cca7525287743d6bf4417540fdad1e2"
      }
     },
     "ea8a36cbb68d4c528ac58074c55d52d2": {
      "model_module": "@jupyter-widgets/controls",
      "model_module_version": "1.5.0",
      "model_name": "DescriptionStyleModel",
      "state": {
       "description_width": ""
      }
     },
     "eb441116b698445cb4809f5f6397c203": {
      "model_module": "@jupyter-widgets/controls",
      "model_module_version": "1.5.0",
      "model_name": "ButtonStyleModel",
      "state": {}
     },
     "ecc248141c6c42d3ad4953302e533b86": {
      "model_module": "@jupyter-widgets/base",
      "model_module_version": "1.2.0",
      "model_name": "LayoutModel",
      "state": {}
     },
     "ecff7595194f4f028209e0d8f3a3167d": {
      "model_module": "@jupyter-widgets/controls",
      "model_module_version": "1.5.0",
      "model_name": "DescriptionStyleModel",
      "state": {
       "description_width": ""
      }
     },
     "ed27ddb89a3e44658809d75bdca11029": {
      "model_module": "@jupyter-widgets/controls",
      "model_module_version": "1.5.0",
      "model_name": "SliderStyleModel",
      "state": {
       "description_width": ""
      }
     },
     "ed73d6281c714fb28d0e263ef25f59a1": {
      "model_module": "@jupyter-widgets/base",
      "model_module_version": "1.2.0",
      "model_name": "LayoutModel",
      "state": {}
     },
     "ee6d042f77c04a6ba678176afeb0b0ee": {
      "model_module": "@jupyter-widgets/base",
      "model_module_version": "1.2.0",
      "model_name": "LayoutModel",
      "state": {}
     },
     "ef30c2568c5e461d9d03d3effd7ae270": {
      "model_module": "@jupyter-widgets/base",
      "model_module_version": "1.2.0",
      "model_name": "LayoutModel",
      "state": {
       "flex_flow": "row wrap",
       "margin": "20px"
      }
     },
     "ef37bc9a3b054719a7eb46ef22ab3321": {
      "model_module": "pgljupyter",
      "model_module_version": "^0.1.17",
      "model_name": "ParameterEditorModel",
      "state": {
       "_model_module_version": "^0.1.17",
       "_view_module_version": "^0.1.17",
       "children": [
        "IPY_MODEL_5f2ece596e61437fb92caa3af17ac5ac"
       ],
       "layout": "IPY_MODEL_c63ee294e77547de99575e97638538e9"
      }
     },
     "f0154e8a448a48609cc3430bdc4d30af": {
      "model_module": "@jupyter-widgets/base",
      "model_module_version": "1.2.0",
      "model_name": "LayoutModel",
      "state": {}
     },
     "f02ca9eb6b4c48758e035d9e553b061c": {
      "model_module": "@jupyter-widgets/base",
      "model_module_version": "1.2.0",
      "model_name": "LayoutModel",
      "state": {}
     },
     "f065d634e10248a189523a517446821b": {
      "model_module": "@jupyter-widgets/base",
      "model_module_version": "1.2.0",
      "model_name": "LayoutModel",
      "state": {}
     },
     "f241b016930043c79283634e33de6454": {
      "model_module": "@jupyter-widgets/controls",
      "model_module_version": "1.5.0",
      "model_name": "ButtonModel",
      "state": {
       "description": "Delete",
       "layout": "IPY_MODEL_8f1061bea70e4ae395ae262b6b79d682",
       "style": "IPY_MODEL_028fa17073d54a469f28378d640c1972"
      }
     },
     "f37bee09f06b49588121430cdf5dc7f2": {
      "model_module": "@jupyter-widgets/base",
      "model_module_version": "1.2.0",
      "model_name": "LayoutModel",
      "state": {
       "margin": "20px 0px"
      }
     },
     "f449028b91a14d0698bcd4c72c3e8965": {
      "model_module": "@jupyter-widgets/controls",
      "model_module_version": "1.5.0",
      "model_name": "CheckboxModel",
      "state": {
       "description": "Auto apply",
       "disabled": false,
       "layout": "IPY_MODEL_2224c5abe49c4d91a4a3fb9e6b47e9f1",
       "style": "IPY_MODEL_0003fb0eaddc45b7b6ad07e09aca4adc",
       "value": false
      }
     },
     "f4c21911ed8f45838404a36ce4630127": {
      "model_module": "@jupyter-widgets/controls",
      "model_module_version": "1.5.0",
      "model_name": "DescriptionStyleModel",
      "state": {
       "description_width": ""
      }
     },
     "f51092c6e25641aeb39e84fe81cf63c8": {
      "model_module": "pgljupyter",
      "model_module_version": "^0.1.17",
      "model_name": "LsystemWidgetModel",
      "state": {
       "_model_module_version": "^0.1.17",
       "_view_module_version": "^0.1.17",
       "axes_helper": false,
       "derivationLength": 2,
       "layout": "IPY_MODEL_e40fe308875647e7b885f37f844a6629",
       "light_helper": false,
       "plane": true,
       "size_display": [
        800,
        600
       ],
       "size_world": 5,
       "unit": 1
      }
     },
     "f55da2a7b70146738510cb9dd71d27f9": {
      "model_module": "@jupyter-widgets/base",
      "model_module_version": "1.2.0",
      "model_name": "LayoutModel",
      "state": {
       "flex_flow": "row wrap"
      }
     },
     "f5e95eaa87184222a3230e77e716030c": {
      "model_module": "@jupyter-widgets/base",
      "model_module_version": "1.2.0",
      "model_name": "LayoutModel",
      "state": {}
     },
     "f60b916c5e944d6a973c736fd31b14ee": {
      "model_module": "@jupyter-widgets/controls",
      "model_module_version": "1.5.0",
      "model_name": "HBoxModel",
      "state": {
       "layout": "IPY_MODEL_863fa09bca524cb185ab4b1ed1f0e9d0"
      }
     },
     "f691f9f9d93146698632d439f782b43d": {
      "model_module": "@jupyter-widgets/controls",
      "model_module_version": "1.5.0",
      "model_name": "DescriptionStyleModel",
      "state": {
       "description_width": ""
      }
     },
     "f6a6636555d043c9803180282cc4f536": {
      "model_module": "@jupyter-widgets/base",
      "model_module_version": "1.2.0",
      "model_name": "LayoutModel",
      "state": {}
     },
     "f6f8d3df8a2b4d99a71b489f7625141b": {
      "model_module": "@jupyter-widgets/controls",
      "model_module_version": "1.5.0",
      "model_name": "DescriptionStyleModel",
      "state": {
       "description_width": ""
      }
     },
     "f70ecc737c1042e5a9f001fe2d9be465": {
      "model_module": "@jupyter-widgets/base",
      "model_module_version": "1.2.0",
      "model_name": "LayoutModel",
      "state": {}
     },
     "f776d9e0124d49309c092f6d16dcae9d": {
      "model_module": "@jupyter-widgets/controls",
      "model_module_version": "1.5.0",
      "model_name": "ButtonModel",
      "state": {
       "description": "Delete",
       "layout": "IPY_MODEL_50f2260db3004c2b8accb40168cc5318",
       "style": "IPY_MODEL_eb441116b698445cb4809f5f6397c203"
      }
     },
     "f830ae20d8374bbba9f1b74e88f2a028": {
      "model_module": "@jupyter-widgets/base",
      "model_module_version": "1.2.0",
      "model_name": "LayoutModel",
      "state": {}
     },
     "f8a2344e4eb542009b1c9165b5b70559": {
      "model_module": "@jupyter-widgets/controls",
      "model_module_version": "1.5.0",
      "model_name": "FloatSliderModel",
      "state": {
       "description": "transparency",
       "layout": "IPY_MODEL_56f60ef0c24448cdb55ce5b971392818",
       "max": 1,
       "step": 0.1,
       "style": "IPY_MODEL_ed27ddb89a3e44658809d75bdca11029"
      }
     },
     "f8bfc4be37e949fd9c9d6f6c41221c1c": {
      "model_module": "pgljupyter",
      "model_module_version": "^0.1.17",
      "model_name": "LsystemWidgetModel",
      "state": {
       "_model_module_version": "^0.1.17",
       "_view_module_version": "^0.1.17",
       "axes_helper": false,
       "derivationLength": 2,
       "layout": "IPY_MODEL_cc6980675bd44276a31bb771f2ce33be",
       "light_helper": false,
       "plane": true,
       "size_display": [
        800,
        600
       ],
       "size_world": 5,
       "unit": 1
      }
     },
     "fa6438513b494d63a0d63206dc913609": {
      "model_module": "@jupyter-widgets/controls",
      "model_module_version": "1.5.0",
      "model_name": "SliderStyleModel",
      "state": {
       "description_width": ""
      }
     },
     "fa8949cf932649e8b0def0b2f4000df8": {
      "model_module": "@jupyter-widgets/controls",
      "model_module_version": "1.5.0",
      "model_name": "FloatSliderModel",
      "state": {
       "description": "diffuse",
       "layout": "IPY_MODEL_2ac8172252c04fbcba289aa883037416",
       "max": 3,
       "step": 0.1,
       "style": "IPY_MODEL_c9892b0eccc84eb1979a6681af02d7b8",
       "value": 3
      }
     },
     "faed122f12924f2981ff0dcaadc40628": {
      "model_module": "pgljupyter",
      "model_module_version": "^0.1.17",
      "model_name": "CurveEditorModel",
      "state": {
       "_model_module_version": "^0.1.17",
       "_view_module_version": "^0.1.17",
       "children": [
        "IPY_MODEL_e71fce53ff0c448586dec161cbd4f5fc",
        "IPY_MODEL_39e8eeef19ee4ed786b74f28c69b7de8"
       ],
       "layout": "IPY_MODEL_a427023180ed473b9e9440c02ccb11f5"
      }
     },
     "fb32d455be4c4a8d81def5944c9f76cb": {
      "model_module": "@jupyter-widgets/controls",
      "model_module_version": "1.5.0",
      "model_name": "DescriptionStyleModel",
      "state": {
       "description_width": ""
      }
     },
     "fb7f17c9da5b48f898a96cd3a234e1a8": {
      "model_module": "pgljupyter",
      "model_module_version": "^0.1.17",
      "model_name": "LsystemWidgetModel",
      "state": {
       "_model_module_version": "^0.1.17",
       "_view_module_version": "^0.1.17",
       "axes_helper": false,
       "derivationLength": 1,
       "layout": "IPY_MODEL_ecc248141c6c42d3ad4953302e533b86",
       "light_helper": false,
       "plane": true,
       "size_display": [
        800,
        600
       ],
       "size_world": 5,
       "unit": 1
      }
     },
     "fbed9d54a9aa4ec58e727aac11bc1d5a": {
      "model_module": "@jupyter-widgets/controls",
      "model_module_version": "1.5.0",
      "model_name": "HBoxModel",
      "state": {
       "children": [
        "IPY_MODEL_68ff152959c341c68f8de755b67b901d",
        "IPY_MODEL_cd6f01c9027446178e35400034dff621"
       ],
       "layout": "IPY_MODEL_863fa09bca524cb185ab4b1ed1f0e9d0"
      }
     },
     "fc346173a49348868613c3bea20e95b3": {
      "model_module": "@jupyter-widgets/controls",
      "model_module_version": "1.5.0",
      "model_name": "HBoxModel",
      "state": {
       "children": [
        "IPY_MODEL_0bd798568d954d988898dc74aff0574e",
        "IPY_MODEL_44cc7a25b5e54d9a8a71d91ddb5d70da"
       ],
       "layout": "IPY_MODEL_d2bc51b5959f454e8be54bf56d52bfa0"
      }
     },
     "fc6295a9e1fe4a238ae5b224c6590000": {
      "model_module": "@jupyter-widgets/base",
      "model_module_version": "1.2.0",
      "model_name": "LayoutModel",
      "state": {}
     },
     "fc800a91b39a413db5ea830b72a9e43e": {
      "model_module": "@jupyter-widgets/base",
      "model_module_version": "1.2.0",
      "model_name": "LayoutModel",
      "state": {}
     },
     "fcce959cf6104f3fafba5ae4a53faa97": {
      "model_module": "@jupyter-widgets/base",
      "model_module_version": "1.2.0",
      "model_name": "LayoutModel",
      "state": {}
     },
     "fcddbcaa89834ff482558bf1c5c2988a": {
      "model_module": "@jupyter-widgets/base",
      "model_module_version": "1.2.0",
      "model_name": "LayoutModel",
      "state": {
       "flex_flow": "row wrap",
       "margin": "20px"
      }
     },
     "fd08bb11a6a5408eb2384b60e511dd76": {
      "model_module": "@jupyter-widgets/base",
      "model_module_version": "1.2.0",
      "model_name": "LayoutModel",
      "state": {}
     },
     "fd56fc99882a44629e1a023fce32ed27": {
      "model_module": "pgljupyter",
      "model_module_version": "^0.1.17",
      "model_name": "MaterialEditorModel",
      "state": {
       "_model_module_version": "^0.1.17",
       "_view_module_version": "^0.1.17",
       "children": [
        "IPY_MODEL_77b3d8b9c3a04c3bb39e1cd356a1541d",
        "IPY_MODEL_728ccef06d7642a39779fc70993b2624",
        "IPY_MODEL_2105c9674c6b423e85ce18d3e2f7527d",
        "IPY_MODEL_7f1f6c8e885b457ca87cf1e3f75f1c9c",
        "IPY_MODEL_485d88f0c17645369e05e1968636a84b",
        "IPY_MODEL_4234c1d24f124b0e8432dde14f2852fb",
        "IPY_MODEL_cef6f7c07266474e9a8a988d8341a19f",
        "IPY_MODEL_36183d93b3b34066a919534925090bbd"
       ],
       "layout": "IPY_MODEL_bacf3cb95efe4b9a8fb53909c9ab2eaf"
      }
     },
     "ff63b9dbce6b4b44b0436b27ce5c5794": {
      "model_module": "@jupyter-widgets/controls",
      "model_module_version": "1.5.0",
      "model_name": "DropdownModel",
      "state": {
       "_options_labels": [
        "NurbsCurve2D",
        "BezierCurve2D",
        "Polyline2D",
        "Function"
       ],
       "index": 0,
       "layout": "IPY_MODEL_fcce959cf6104f3fafba5ae4a53faa97",
       "style": "IPY_MODEL_aac21c2576194465817161d596dea6c2"
      }
     },
     "ff67f49ecb1344c19325216fde9922e3": {
      "model_module": "@jupyter-widgets/base",
      "model_module_version": "1.2.0",
      "model_name": "LayoutModel",
      "state": {}
     },
     "ffb8e71b7b7a47788963687e5756cc87": {
      "model_module": "@jupyter-widgets/controls",
      "model_module_version": "1.5.0",
      "model_name": "DropdownModel",
      "state": {
       "_options_labels": [
        "MAX_ORDER",
        "TROPISM",
        "ELASTICITY"
       ],
       "index": 0,
       "layout": "IPY_MODEL_7b00ac5f366e410a9ad0fdff65b66877",
       "style": "IPY_MODEL_7b5a4ec7052f4022a910648aadd5d4fe"
      }
     },
     "ffc3648e5cbb4694b7176163774ffcdb": {
      "model_module": "@jupyter-widgets/controls",
      "model_module_version": "1.5.0",
      "model_name": "HBoxModel",
      "state": {
       "children": [
        "IPY_MODEL_9591bea997f74614aaa19929592d176e",
        "IPY_MODEL_005f629d566b4e9da0d8c008c6d89c64"
       ],
       "layout": "IPY_MODEL_504400e22b5948c49fb5d69786f34fbb"
      }
     }
    },
    "version_major": 2,
    "version_minor": 0
   }
  }
 },
 "nbformat": 4,
 "nbformat_minor": 4
}
