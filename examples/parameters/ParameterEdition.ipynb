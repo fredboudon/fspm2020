{
 "cells": [
  {
   "cell_type": "code",
   "execution_count": 2,
   "metadata": {},
   "outputs": [],
   "source": [
    "from pgljupyter import LsystemWidget"
   ]
  },
  {
   "cell_type": "code",
   "execution_count": 17,
   "metadata": {},
   "outputs": [],
   "source": [
    "lw = LsystemWidget('parameter_edition', size_display=(800, 600), unit='dm', size_world=5)"
   ]
  },
  {
   "cell_type": "code",
   "execution_count": 18,
   "metadata": {},
   "outputs": [
    {
     "data": {
      "application/vnd.jupyter.widget-view+json": {
       "model_id": "7c5650abea32450283ea52ee73bd3c02",
       "version_major": 2,
       "version_minor": 0
      },
      "text/plain": [
       "LsystemWidget(derivationLength=75, scene={'data': b'x\\xdaSLrw\\xf5\\xf7e`Pp\\xe0\\xe5RPVVd\\x00\\x020\\x01\\x003s\\x02\\…"
      ]
     },
     "metadata": {},
     "output_type": "display_data"
    }
   ],
   "source": [
    "lw"
   ]
  },
  {
   "cell_type": "code",
   "execution_count": 10,
   "metadata": {},
   "outputs": [
    {
     "data": {
      "application/vnd.jupyter.widget-view+json": {
       "model_id": "3f79885dcf724922896f8420de6b5422",
       "version_major": 2,
       "version_minor": 0
      },
      "text/plain": [
       "ParameterEditor(children=(VBox(children=(HBox(children=(HBox(children=(Button(description='Apply changes', sty…"
      ]
     },
     "metadata": {},
     "output_type": "display_data"
    }
   ],
   "source": [
    "lw.editor"
   ]
  },
  {
   "cell_type": "code",
   "execution_count": null,
   "metadata": {},
   "outputs": [],
   "source": []
  }
 ],
 "metadata": {
  "kernelspec": {
   "display_name": "Python 3",
   "language": "python",
   "name": "python3"
  },
  "language_info": {
   "codemirror_mode": {
    "name": "ipython",
    "version": 3
   },
   "file_extension": ".py",
   "mimetype": "text/x-python",
   "name": "python",
   "nbconvert_exporter": "python",
   "pygments_lexer": "ipython3",
   "version": "3.8.5"
  },
  "widgets": {
   "application/vnd.jupyter.widget-state+json": {
    "state": {
     "009d40a018fc4aadaef55b20ad9ec5f5": {
      "model_module": "@jupyter-widgets/base",
      "model_module_version": "1.2.0",
      "model_name": "LayoutModel",
      "state": {}
     },
     "00fadcd8b6864d4fab1955bf1b3c1446": {
      "model_module": "@jupyter-widgets/controls",
      "model_module_version": "1.5.0",
      "model_name": "DropdownModel",
      "state": {
       "_options_labels": [
        "Color_1"
       ],
       "index": 0,
       "layout": "IPY_MODEL_980f5f7384c94f17a33734f0da609eae",
       "style": "IPY_MODEL_3befa8f76a7149bf955b4c6e56058786"
      }
     },
     "024c72a24164495194dcbbf18139f8e9": {
      "model_module": "@jupyter-widgets/base",
      "model_module_version": "1.2.0",
      "model_name": "LayoutModel",
      "state": {
       "flex_flow": "row wrap",
       "margin": "20px"
      }
     },
     "0272591664fb4f6ca8d622deab16640f": {
      "model_module": "@jupyter-widgets/base",
      "model_module_version": "1.2.0",
      "model_name": "LayoutModel",
      "state": {}
     },
     "02d47b0fb9304b69903dd6e8db28cb48": {
      "model_module": "@jupyter-widgets/controls",
      "model_module_version": "1.5.0",
      "model_name": "SliderStyleModel",
      "state": {
       "description_width": ""
      }
     },
     "02e041bfae0e4491b744c938e0a07cbe": {
      "model_module": "@jupyter-widgets/controls",
      "model_module_version": "1.5.0",
      "model_name": "ButtonStyleModel",
      "state": {}
     },
     "03610dd90e51498582fa450d126759a0": {
      "model_module": "@jupyter-widgets/controls",
      "model_module_version": "1.5.0",
      "model_name": "TextModel",
      "state": {
       "continuous_update": false,
       "description": "name",
       "layout": "IPY_MODEL_c0699e36f87043aaa85cc9edde89e6f9",
       "style": "IPY_MODEL_52822e92f2ac43739de63702184b47f6",
       "value": "branchpath"
      }
     },
     "039dea95c78441cfa04cfa7c8f6c7df9": {
      "model_module": "pgljupyter",
      "model_module_version": "^0.1.17",
      "model_name": "IntEditorModel",
      "state": {
       "_model_module_version": "^0.1.17",
       "_view_module_version": "^0.1.17",
       "children": [
        "IPY_MODEL_45ae4ef36a7447648dbec5574f01dfcf",
        "IPY_MODEL_d538e033c15c44d38ec1de66ede6d099"
       ],
       "layout": "IPY_MODEL_1e1f98e740044ce2b8f25ea8b2e491e6"
      }
     },
     "03d0633d80e9402790c6ee28f4750d3c": {
      "model_module": "@jupyter-widgets/controls",
      "model_module_version": "1.5.0",
      "model_name": "HBoxModel",
      "state": {
       "children": [
        "IPY_MODEL_92a089ba053b470583d4f3286459bde0"
       ],
       "layout": "IPY_MODEL_52f3e2d0e22142d7ae4367f738f57576"
      }
     },
     "03dcea08df354ec483df6dc809c4b96a": {
      "model_module": "pgljupyter",
      "model_module_version": "^0.1.17",
      "model_name": "ParameterEditorModel",
      "state": {
       "_model_module_version": "^0.1.17",
       "_view_module_version": "^0.1.17",
       "children": [
        "IPY_MODEL_40b05bef97394d17a9bdfff7aae7188c"
       ],
       "layout": "IPY_MODEL_78f107d41d09486d9f43aa0152ec09f0"
      }
     },
     "040e71594a654333bf5d9afdeaaa8bfb": {
      "model_module": "@jupyter-widgets/controls",
      "model_module_version": "1.5.0",
      "model_name": "CheckboxModel",
      "state": {
       "description": "value",
       "disabled": false,
       "layout": "IPY_MODEL_15dd92ed54d346b39f79912b720f0588",
       "style": "IPY_MODEL_b25d10dd05a64420b50e196f37b35c3b",
       "value": false
      }
     },
     "044facacc5424440a5e991e54983a4a5": {
      "model_module": "@jupyter-widgets/controls",
      "model_module_version": "1.5.0",
      "model_name": "SliderStyleModel",
      "state": {
       "description_width": ""
      }
     },
     "04e3433484af4243984ee9fc3f58ec91": {
      "model_module": "@jupyter-widgets/controls",
      "model_module_version": "1.5.0",
      "model_name": "HBoxModel",
      "state": {
       "children": [
        "IPY_MODEL_4fd2f379b6da465cb52d475db1c3b755",
        "IPY_MODEL_46c1cebeafae458fafdf1d8a96dd661b"
       ],
       "layout": "IPY_MODEL_aabf761375a6456cb8ec0b9f13d65c16"
      }
     },
     "05b609c7f1db4f91b42996506413453d": {
      "model_module": "@jupyter-widgets/base",
      "model_module_version": "1.2.0",
      "model_name": "LayoutModel",
      "state": {}
     },
     "05b61fd9c17b484cb8faf848078864fa": {
      "model_module": "@jupyter-widgets/base",
      "model_module_version": "1.2.0",
      "model_name": "LayoutModel",
      "state": {
       "flex_flow": "row wrap"
      }
     },
     "05d6490925854a50aab2dc68fb190d49": {
      "model_module": "@jupyter-widgets/controls",
      "model_module_version": "1.5.0",
      "model_name": "ButtonStyleModel",
      "state": {}
     },
     "061a5fa2ffd54a9e9e5dc57401d9e60d": {
      "model_module": "@jupyter-widgets/controls",
      "model_module_version": "1.5.0",
      "model_name": "TextModel",
      "state": {
       "continuous_update": false,
       "description": "name",
       "layout": "IPY_MODEL_c6e2e75208fd47b98444aed7bf3f812e",
       "style": "IPY_MODEL_62790608b4754ce58f17675e77352895",
       "value": "Color_1"
      }
     },
     "064b5f248b2b46dd9f78a95303ea0d1e": {
      "model_module": "@jupyter-widgets/controls",
      "model_module_version": "1.5.0",
      "model_name": "SliderStyleModel",
      "state": {
       "description_width": ""
      }
     },
     "06b240415ab4413492f1bc2ee04edce6": {
      "model_module": "@jupyter-widgets/controls",
      "model_module_version": "1.5.0",
      "model_name": "DescriptionStyleModel",
      "state": {
       "description_width": ""
      }
     },
     "06c3f54f85484891bfae86c6e0e6eb3e": {
      "model_module": "@jupyter-widgets/controls",
      "model_module_version": "1.5.0",
      "model_name": "HBoxModel",
      "state": {
       "children": [
        "IPY_MODEL_7421c8fcb59e4dd1855023be81a3b511",
        "IPY_MODEL_318fdceb7d754175a41f59eb1601f2ca"
       ],
       "layout": "IPY_MODEL_fa46f391810f49389e4c5bfb8621d6e0"
      }
     },
     "077d6c4697ee48cda12ab931d8630083": {
      "model_module": "@jupyter-widgets/base",
      "model_module_version": "1.2.0",
      "model_name": "LayoutModel",
      "state": {
       "flex_flow": "row wrap",
       "margin": "20px"
      }
     },
     "0794cac123dd4fc58e42e37b3406977f": {
      "model_module": "@jupyter-widgets/controls",
      "model_module_version": "1.5.0",
      "model_name": "TextModel",
      "state": {
       "continuous_update": false,
       "description": "name",
       "layout": "IPY_MODEL_505777c0fa82492cb9657e420ea1ce66",
       "style": "IPY_MODEL_3283fea25a2742dbbedc4bdb1896a5f9",
       "value": "TROPISM"
      }
     },
     "07b2d8904cae45c58714df7337df8797": {
      "model_module": "@jupyter-widgets/base",
      "model_module_version": "1.2.0",
      "model_name": "LayoutModel",
      "state": {}
     },
     "07ba07077a4b4206b3c6f0adda3f8b01": {
      "model_module": "pgljupyter",
      "model_module_version": "^0.1.17",
      "model_name": "CurveEditorModel",
      "state": {
       "_model_module_version": "^0.1.17",
       "_view_module_version": "^0.1.17",
       "children": [
        "IPY_MODEL_03610dd90e51498582fa450d126759a0",
        "IPY_MODEL_3a129a730d314a67b2894b5402949dd2"
       ],
       "layout": "IPY_MODEL_fc04190a8d3e42fdb817ed78b6c879d0"
      }
     },
     "08bd912e534f4ee389c359aac6f4da5a": {
      "model_module": "@jupyter-widgets/base",
      "model_module_version": "1.2.0",
      "model_name": "LayoutModel",
      "state": {}
     },
     "0926362fd6824531801a8cec483ef672": {
      "model_module": "@jupyter-widgets/controls",
      "model_module_version": "1.5.0",
      "model_name": "DescriptionStyleModel",
      "state": {
       "description_width": ""
      }
     },
     "092c60eccd404e62acbd319171b2b74a": {
      "model_module": "@jupyter-widgets/controls",
      "model_module_version": "1.5.0",
      "model_name": "ButtonStyleModel",
      "state": {}
     },
     "09922cd00ea54655b97bfd8324051a01": {
      "model_module": "@jupyter-widgets/controls",
      "model_module_version": "1.5.0",
      "model_name": "FloatSliderModel",
      "state": {
       "description": "transparency",
       "layout": "IPY_MODEL_9345e72f3ea94be9b031efe0988c8000",
       "max": 1,
       "step": 0.1,
       "style": "IPY_MODEL_b33f59602d7840b2a34ea5d0b59370c4"
      }
     },
     "09cd54efefd4424dbe967517eac9502c": {
      "model_module": "@jupyter-widgets/controls",
      "model_module_version": "1.5.0",
      "model_name": "SliderStyleModel",
      "state": {
       "description_width": ""
      }
     },
     "09f5806cb818401c8147193344213ccd": {
      "model_module": "@jupyter-widgets/controls",
      "model_module_version": "1.5.0",
      "model_name": "ButtonStyleModel",
      "state": {}
     },
     "0a16dce963a940c691dbc7e24432b455": {
      "model_module": "@jupyter-widgets/base",
      "model_module_version": "1.2.0",
      "model_name": "LayoutModel",
      "state": {}
     },
     "0a3fe98c79a84966b4ca49e8cb39b0a6": {
      "model_module": "@jupyter-widgets/base",
      "model_module_version": "1.2.0",
      "model_name": "LayoutModel",
      "state": {}
     },
     "0a3ff0e8d9b34f4dada826f7349e0de0": {
      "model_module": "@jupyter-widgets/base",
      "model_module_version": "1.2.0",
      "model_name": "LayoutModel",
      "state": {}
     },
     "0a8aa6c49e1346c694481a0ec86e26f4": {
      "model_module": "@jupyter-widgets/controls",
      "model_module_version": "1.5.0",
      "model_name": "FloatSliderModel",
      "state": {
       "description": "value",
       "layout": "IPY_MODEL_1409f2d1e34d4f5885cc7fb86fd5476e",
       "max": 3,
       "step": 0.001,
       "style": "IPY_MODEL_c8d4a6237442473e9f64d98891b38047",
       "value": 0.03
      }
     },
     "0a9899a788794b4595adbe7fdf8b964a": {
      "model_module": "@jupyter-widgets/base",
      "model_module_version": "1.2.0",
      "model_name": "LayoutModel",
      "state": {}
     },
     "0ab1b9fa6eef4194a4150e18293fb069": {
      "model_module": "@jupyter-widgets/base",
      "model_module_version": "1.2.0",
      "model_name": "LayoutModel",
      "state": {}
     },
     "0ade356788f34576af8213c34b39b047": {
      "model_module": "@jupyter-widgets/base",
      "model_module_version": "1.2.0",
      "model_name": "LayoutModel",
      "state": {}
     },
     "0b8075db01d24571a1717a21965b74a9": {
      "model_module": "@jupyter-widgets/controls",
      "model_module_version": "1.5.0",
      "model_name": "SliderStyleModel",
      "state": {
       "description_width": ""
      }
     },
     "0bdcc095dcc84dda83fbf3cd58a008e1": {
      "model_module": "@jupyter-widgets/controls",
      "model_module_version": "1.5.0",
      "model_name": "HBoxModel",
      "state": {
       "layout": "IPY_MODEL_4a151df32bab40dfb50ed4b500a2ce22"
      }
     },
     "0c5e07a7939945528210a09a3081b8a5": {
      "model_module": "@jupyter-widgets/controls",
      "model_module_version": "1.5.0",
      "model_name": "FloatSliderModel",
      "state": {
       "description": "diffuse",
       "layout": "IPY_MODEL_54f44e9bbbf2429686ce394e1eaf2e9d",
       "max": 3,
       "step": 0.1,
       "style": "IPY_MODEL_c76d1c01899946939f37957927df7d78",
       "value": 3
      }
     },
     "0c8c58bc88d74fb5b6784dd46e38404f": {
      "model_module": "@jupyter-widgets/controls",
      "model_module_version": "1.5.0",
      "model_name": "DescriptionStyleModel",
      "state": {
       "description_width": ""
      }
     },
     "0cf349341cff432f9a7c4c8f6e48492b": {
      "model_module": "@jupyter-widgets/base",
      "model_module_version": "1.2.0",
      "model_name": "LayoutModel",
      "state": {}
     },
     "0d2ca74bed174734b512ebf3e0b154e5": {
      "model_module": "@jupyter-widgets/base",
      "model_module_version": "1.2.0",
      "model_name": "LayoutModel",
      "state": {}
     },
     "0d518b58bccc4a49bcd903d185957f30": {
      "model_module": "@jupyter-widgets/controls",
      "model_module_version": "1.5.0",
      "model_name": "DescriptionStyleModel",
      "state": {
       "description_width": ""
      }
     },
     "0daae0a846544ccbb40074d96a76af75": {
      "model_module": "@jupyter-widgets/base",
      "model_module_version": "1.2.0",
      "model_name": "LayoutModel",
      "state": {}
     },
     "0dcbe1fe52cf4f61b088667c88322a5d": {
      "model_module": "@jupyter-widgets/controls",
      "model_module_version": "1.5.0",
      "model_name": "DescriptionStyleModel",
      "state": {
       "description_width": ""
      }
     },
     "0ddc285b37c54ba3bb48c05921515391": {
      "model_module": "@jupyter-widgets/base",
      "model_module_version": "1.2.0",
      "model_name": "LayoutModel",
      "state": {}
     },
     "0dfd68d2c76a438f8c5f514eaeffed43": {
      "model_module": "@jupyter-widgets/controls",
      "model_module_version": "1.5.0",
      "model_name": "ButtonModel",
      "state": {
       "description": "Add",
       "layout": "IPY_MODEL_105fd8e3ad1d40d4b61b18d17b019dd6",
       "style": "IPY_MODEL_1ac2aa495a8a4b739dc9822ba6c0640e"
      }
     },
     "0e03465c0ea5452f824e00fb9988cf41": {
      "model_module": "pgljupyter",
      "model_module_version": "^0.1.17",
      "model_name": "IntEditorModel",
      "state": {
       "_model_module_version": "^0.1.17",
       "_view_module_version": "^0.1.17",
       "children": [
        "IPY_MODEL_4ca0067c556242d99a4ad940f866a76a",
        "IPY_MODEL_b8c418013be5413aaaf4d4ff3b8cba86"
       ],
       "layout": "IPY_MODEL_3f3a3dbfe7be480e9a399afadd87b147"
      }
     },
     "0ef0ffff963e4177b3d8b78f8c9b1f1a": {
      "model_module": "@jupyter-widgets/controls",
      "model_module_version": "1.5.0",
      "model_name": "DescriptionStyleModel",
      "state": {
       "description_width": ""
      }
     },
     "0f2846e444f940edac80b97ab1f04654": {
      "model_module": "@jupyter-widgets/controls",
      "model_module_version": "1.5.0",
      "model_name": "FloatSliderModel",
      "state": {
       "description": "shininess",
       "layout": "IPY_MODEL_47fc85a2aeb140a8aac306642e328ef8",
       "max": 1,
       "step": 0.1,
       "style": "IPY_MODEL_3b5e13579ae64352b30a4cc87a9c114e"
      }
     },
     "0f4b255b1cbf45cdbec802341ab58264": {
      "model_module": "pgljupyter",
      "model_module_version": "^0.1.17",
      "model_name": "MaterialEditorModel",
      "state": {
       "_model_module_version": "^0.1.17",
       "_view_module_version": "^0.1.17",
       "children": [
        "IPY_MODEL_e6854fee08a64aec95dbd42d59a92f77",
        "IPY_MODEL_657bae85a007424db5e6300c266eb268",
        "IPY_MODEL_47da616f4d1f4c169255547937135c81",
        "IPY_MODEL_75ddc562788d430c80188c2822292949",
        "IPY_MODEL_4f522ef6375641e68d275487a2aa0efa",
        "IPY_MODEL_0c5e07a7939945528210a09a3081b8a5",
        "IPY_MODEL_78947d3c5d604c83a13f8f82afaad30f",
        "IPY_MODEL_0f2846e444f940edac80b97ab1f04654"
       ],
       "layout": "IPY_MODEL_4ac4b40585914744bc15f1f23c1487b3"
      }
     },
     "0f7dcb859da54f2facc662b3e67a18da": {
      "model_module": "@jupyter-widgets/base",
      "model_module_version": "1.2.0",
      "model_name": "LayoutModel",
      "state": {}
     },
     "0fd1e8e677c6487c9d3f68a5beed1a28": {
      "model_module": "@jupyter-widgets/controls",
      "model_module_version": "1.5.0",
      "model_name": "DescriptionStyleModel",
      "state": {
       "description_width": ""
      }
     },
     "105fd8e3ad1d40d4b61b18d17b019dd6": {
      "model_module": "@jupyter-widgets/base",
      "model_module_version": "1.2.0",
      "model_name": "LayoutModel",
      "state": {}
     },
     "10f2e77f8bcd4aadb158d3176df872c1": {
      "model_module": "@jupyter-widgets/controls",
      "model_module_version": "1.5.0",
      "model_name": "HBoxModel",
      "state": {
       "children": [
        "IPY_MODEL_2c5ce95f942c41089308c7acfc3f4a9a",
        "IPY_MODEL_854f686312554129b90faa0e6eabab54"
       ],
       "layout": "IPY_MODEL_b12f1e0ae54f47439e5505ba5820c7a9"
      }
     },
     "110555bcfaf94c7fae02f9538d72a664": {
      "model_module": "@jupyter-widgets/base",
      "model_module_version": "1.2.0",
      "model_name": "LayoutModel",
      "state": {}
     },
     "113442de5c7648f0917603f66b14c7f2": {
      "model_module": "@jupyter-widgets/controls",
      "model_module_version": "1.5.0",
      "model_name": "TextModel",
      "state": {
       "continuous_update": false,
       "description": "name",
       "layout": "IPY_MODEL_442e09d1d5a34851913d189ce13609b8",
       "style": "IPY_MODEL_f06d48bfeebd4cf8899bd1e1c470f61c",
       "value": "Color_1"
      }
     },
     "11d22f9c787849a1938f9af9086bb03b": {
      "model_module": "@jupyter-widgets/controls",
      "model_module_version": "1.5.0",
      "model_name": "ButtonStyleModel",
      "state": {}
     },
     "122ec68af2fc4f20afeab04cda58f6af": {
      "model_module": "@jupyter-widgets/controls",
      "model_module_version": "1.5.0",
      "model_name": "ButtonModel",
      "state": {
       "description": "Delete category",
       "layout": "IPY_MODEL_31856e9277d8477086694b7bca1da187",
       "style": "IPY_MODEL_a06a45c01bb24db59661bc4428fcc43a"
      }
     },
     "1285b872e6344b75bef9f58d99625bff": {
      "model_module": "@jupyter-widgets/controls",
      "model_module_version": "1.5.0",
      "model_name": "DescriptionStyleModel",
      "state": {
       "description_width": ""
      }
     },
     "12989c42abbc4562b3cb49d0d9a124c0": {
      "model_module": "@jupyter-widgets/base",
      "model_module_version": "1.2.0",
      "model_name": "LayoutModel",
      "state": {}
     },
     "12d1d825476a4b8da247849b9bad52b1": {
      "model_module": "@jupyter-widgets/base",
      "model_module_version": "1.2.0",
      "model_name": "LayoutModel",
      "state": {}
     },
     "1322851623f843c18eeef82aaada4a0e": {
      "model_module": "@jupyter-widgets/controls",
      "model_module_version": "1.5.0",
      "model_name": "DescriptionStyleModel",
      "state": {
       "description_width": ""
      }
     },
     "1327bbc874424b1b91dfd047270a10a8": {
      "model_module": "@jupyter-widgets/controls",
      "model_module_version": "1.5.0",
      "model_name": "ButtonStyleModel",
      "state": {}
     },
     "13835bc8503f4c31863c11dedb7040a4": {
      "model_module": "@jupyter-widgets/controls",
      "model_module_version": "1.5.0",
      "model_name": "ButtonModel",
      "state": {
       "description": "Delete",
       "layout": "IPY_MODEL_241fb7ce2ee8401ab529b5b177c130e5",
       "style": "IPY_MODEL_bcf6d442e6cb44aa9458e028c034541d"
      }
     },
     "139d600cb6264aaa8b51b9b64f4d5b77": {
      "model_module": "@jupyter-widgets/base",
      "model_module_version": "1.2.0",
      "model_name": "LayoutModel",
      "state": {}
     },
     "13ea3ef7587d4541a1ddb2512004c845": {
      "model_module": "@jupyter-widgets/controls",
      "model_module_version": "1.5.0",
      "model_name": "SliderStyleModel",
      "state": {
       "description_width": ""
      }
     },
     "1409f2d1e34d4f5885cc7fb86fd5476e": {
      "model_module": "@jupyter-widgets/base",
      "model_module_version": "1.2.0",
      "model_name": "LayoutModel",
      "state": {}
     },
     "1433cc07b2f148fc97fe4cf556e5e9a6": {
      "model_module": "@jupyter-widgets/base",
      "model_module_version": "1.2.0",
      "model_name": "LayoutModel",
      "state": {}
     },
     "14986098bc9f415b9952c43823637edc": {
      "model_module": "@jupyter-widgets/controls",
      "model_module_version": "1.5.0",
      "model_name": "ButtonStyleModel",
      "state": {}
     },
     "1526e94b9c34495284d51796f1285d94": {
      "model_module": "@jupyter-widgets/base",
      "model_module_version": "1.2.0",
      "model_name": "LayoutModel",
      "state": {}
     },
     "1599415fef9f4f63a8d0535e0d1b2b7a": {
      "model_module": "@jupyter-widgets/controls",
      "model_module_version": "1.5.0",
      "model_name": "ColorPickerModel",
      "state": {
       "description": "emission",
       "disabled": false,
       "layout": "IPY_MODEL_51a8912752904326b3e65fba993abcc9",
       "style": "IPY_MODEL_a7deae3132074c1b888a35ee35addeb2",
       "value": "#000000"
      }
     },
     "15dd92ed54d346b39f79912b720f0588": {
      "model_module": "@jupyter-widgets/base",
      "model_module_version": "1.2.0",
      "model_name": "LayoutModel",
      "state": {}
     },
     "15e144f49ca84a10bd5a3327a64fc973": {
      "model_module": "@jupyter-widgets/controls",
      "model_module_version": "1.5.0",
      "model_name": "DescriptionStyleModel",
      "state": {
       "description_width": ""
      }
     },
     "15efc43cc61c4e75b4fb0c44b18f8746": {
      "model_module": "@jupyter-widgets/controls",
      "model_module_version": "1.5.0",
      "model_name": "VBoxModel",
      "state": {
       "children": [
        "IPY_MODEL_a8023a37682f47139de5b8db3b2f79bc",
        "IPY_MODEL_ffacc7f0112b465ba8a0a30af07bbaf3"
       ],
       "layout": "IPY_MODEL_7ba255238e674366ab15af56873d5184"
      }
     },
     "165a8b2013eb43d3934a3a53055f33dd": {
      "model_module": "@jupyter-widgets/base",
      "model_module_version": "1.2.0",
      "model_name": "LayoutModel",
      "state": {}
     },
     "165bf3c76cea45569f18f3ad2e677871": {
      "model_module": "@jupyter-widgets/controls",
      "model_module_version": "1.5.0",
      "model_name": "DescriptionStyleModel",
      "state": {
       "description_width": ""
      }
     },
     "166b06ead0294f7fa00616f2800dbbd4": {
      "model_module": "@jupyter-widgets/controls",
      "model_module_version": "1.5.0",
      "model_name": "DropdownModel",
      "state": {
       "_options_labels": [
        "MAX_ORDER",
        "TROPISM",
        "ELASTICITY"
       ],
       "index": 0,
       "layout": "IPY_MODEL_e0d324d369c241e2860f393acbdb6345",
       "style": "IPY_MODEL_e59c37d8727c4f74830a8943be395d6b"
      }
     },
     "16997c934be343fba5e1a17a707f2709": {
      "model_module": "@jupyter-widgets/controls",
      "model_module_version": "1.5.0",
      "model_name": "VBoxModel",
      "state": {
       "children": [
        "IPY_MODEL_798c5aa389d54c2f94a8776113585dae",
        "IPY_MODEL_46b22cf803af4374a0aaf0a53855e945"
       ],
       "layout": "IPY_MODEL_beffcf2a5d924df8be363144d8c978f9"
      }
     },
     "171dded6f1e14ec5a64d6d1cd3cf0ec3": {
      "model_module": "@jupyter-widgets/base",
      "model_module_version": "1.2.0",
      "model_name": "LayoutModel",
      "state": {
       "margin": "20px 0px"
      }
     },
     "1761710799b542dda0a1d854855f35f1": {
      "model_module": "@jupyter-widgets/base",
      "model_module_version": "1.2.0",
      "model_name": "LayoutModel",
      "state": {}
     },
     "176579b7607e4030909129a9c88a274b": {
      "model_module": "@jupyter-widgets/base",
      "model_module_version": "1.2.0",
      "model_name": "LayoutModel",
      "state": {}
     },
     "178740e7e4ae43f39b50d29bb94e261c": {
      "model_module": "@jupyter-widgets/controls",
      "model_module_version": "1.5.0",
      "model_name": "ButtonModel",
      "state": {
       "description": "Add category",
       "layout": "IPY_MODEL_683bf50c95004a248509e6b64e241293",
       "style": "IPY_MODEL_97b8beeaf5874630ab2772b27080fe1c"
      }
     },
     "178ebaf6e7e04f83a1c737162a84c8ff": {
      "model_module": "@jupyter-widgets/controls",
      "model_module_version": "1.5.0",
      "model_name": "HBoxModel",
      "state": {
       "children": [
        "IPY_MODEL_9c44e538db2e4774ad2324b1b3de55f3",
        "IPY_MODEL_ead7b6df1fb2458c98ec530bf3603f11"
       ],
       "layout": "IPY_MODEL_aca55aeb94c74d1a94d60397dcbda224"
      }
     },
     "18771de576c1457f8c01d79d47a84b9a": {
      "model_module": "@jupyter-widgets/controls",
      "model_module_version": "1.5.0",
      "model_name": "VBoxModel",
      "state": {
       "children": [
        "IPY_MODEL_fb892f6010bc4f0cb4f1dcc883589907",
        "IPY_MODEL_3340710330b4449aa26135aff27807d4",
        "IPY_MODEL_b216de793040439cb9d3d470dd973fe7",
        "IPY_MODEL_b0155be31b264d4795cf4c19cb751916",
        "IPY_MODEL_486a5f2278614c9ead68c774de861b61"
       ],
       "layout": "IPY_MODEL_d083c1ea28b94258925d65c3d20dc28d"
      }
     },
     "18aa8d34e9004dadb8ac93acf6de7b86": {
      "model_module": "@jupyter-widgets/base",
      "model_module_version": "1.2.0",
      "model_name": "LayoutModel",
      "state": {}
     },
     "18d56e370fef46659a2e3a8399d851a9": {
      "model_module": "@jupyter-widgets/controls",
      "model_module_version": "1.5.0",
      "model_name": "ButtonStyleModel",
      "state": {}
     },
     "19060080c30d454db7a46080259df164": {
      "model_module": "@jupyter-widgets/controls",
      "model_module_version": "1.5.0",
      "model_name": "ButtonStyleModel",
      "state": {}
     },
     "19a1fe51719a495b8467bfd4863c779d": {
      "model_module": "@jupyter-widgets/controls",
      "model_module_version": "1.5.0",
      "model_name": "HBoxModel",
      "state": {
       "children": [
        "IPY_MODEL_5e6f3a041eaa446790d8e5996ff8a5f9",
        "IPY_MODEL_c2888df4b50c4ef4b73bd56f3a2ff450"
       ],
       "layout": "IPY_MODEL_587763e4982f4bd59d595d2410de393a"
      }
     },
     "19c147084f8a47a3b3fedb22e77d27e2": {
      "model_module": "@jupyter-widgets/controls",
      "model_module_version": "1.5.0",
      "model_name": "SliderStyleModel",
      "state": {
       "description_width": ""
      }
     },
     "1a9612a9f0f54705886b6cd26f94e3ed": {
      "model_module": "@jupyter-widgets/controls",
      "model_module_version": "1.5.0",
      "model_name": "ColorPickerModel",
      "state": {
       "description": "ambient",
       "disabled": false,
       "layout": "IPY_MODEL_42d6e9170ca54558b83cecfb569f88b5",
       "style": "IPY_MODEL_5ebc965297fd45f99476a8b7e52ba29f",
       "value": "#412d0f"
      }
     },
     "1ac2aa495a8a4b739dc9822ba6c0640e": {
      "model_module": "@jupyter-widgets/controls",
      "model_module_version": "1.5.0",
      "model_name": "ButtonStyleModel",
      "state": {}
     },
     "1ad4cb9b913d4576b41a7d5ce7ad21ef": {
      "model_module": "@jupyter-widgets/base",
      "model_module_version": "1.2.0",
      "model_name": "LayoutModel",
      "state": {}
     },
     "1bd650307c9b455b926e67b144bc7bfb": {
      "model_module": "@jupyter-widgets/controls",
      "model_module_version": "1.5.0",
      "model_name": "DescriptionStyleModel",
      "state": {
       "description_width": ""
      }
     },
     "1c0e520ebe0c4cd8a27c7006c8a3a375": {
      "model_module": "@jupyter-widgets/controls",
      "model_module_version": "1.5.0",
      "model_name": "VBoxModel",
      "state": {
       "children": [
        "IPY_MODEL_b67369230dc0406ba7009b4b37740017",
        "IPY_MODEL_dc4cef623e574be7b3ba9cca65ae7475",
        "IPY_MODEL_7189de7fa849400db13eeff228129f28",
        "IPY_MODEL_5f9313435682479faddee3354595e6df",
        "IPY_MODEL_d339383f97f84ab1a2b831e58d98a27b"
       ],
       "layout": "IPY_MODEL_12d1d825476a4b8da247849b9bad52b1"
      }
     },
     "1c0e641a335e46e5bd91ccce3a51a542": {
      "model_module": "@jupyter-widgets/base",
      "model_module_version": "1.2.0",
      "model_name": "LayoutModel",
      "state": {}
     },
     "1c4101da5fa6475887e5f2d743d9f73f": {
      "model_module": "@jupyter-widgets/base",
      "model_module_version": "1.2.0",
      "model_name": "LayoutModel",
      "state": {}
     },
     "1cdc6e1013814157a492ee261aef8902": {
      "model_module": "@jupyter-widgets/base",
      "model_module_version": "1.2.0",
      "model_name": "LayoutModel",
      "state": {}
     },
     "1ce028a362a94332a6361d22369e6c38": {
      "model_module": "@jupyter-widgets/controls",
      "model_module_version": "1.5.0",
      "model_name": "SliderStyleModel",
      "state": {
       "description_width": ""
      }
     },
     "1d65871f5541424880958722cb382939": {
      "model_module": "@jupyter-widgets/base",
      "model_module_version": "1.2.0",
      "model_name": "LayoutModel",
      "state": {}
     },
     "1d8e2e46bdd8451796b8efd64b4929ed": {
      "model_module": "@jupyter-widgets/base",
      "model_module_version": "1.2.0",
      "model_name": "LayoutModel",
      "state": {}
     },
     "1dd507f874b747418b4fa878810f2a6b": {
      "model_module": "@jupyter-widgets/base",
      "model_module_version": "1.2.0",
      "model_name": "LayoutModel",
      "state": {}
     },
     "1dd6c840b1994e37936e04afed474398": {
      "model_module": "@jupyter-widgets/base",
      "model_module_version": "1.2.0",
      "model_name": "LayoutModel",
      "state": {}
     },
     "1df16ed75139426e9d105c7498b92248": {
      "model_module": "@jupyter-widgets/controls",
      "model_module_version": "1.5.0",
      "model_name": "ButtonModel",
      "state": {
       "description": "Delete",
       "layout": "IPY_MODEL_507ec8c7216a47c29b6923118187cda4",
       "style": "IPY_MODEL_e59b1da536ff461f8fb59afc21e2e45e"
      }
     },
     "1e1f98e740044ce2b8f25ea8b2e491e6": {
      "model_module": "@jupyter-widgets/base",
      "model_module_version": "1.2.0",
      "model_name": "LayoutModel",
      "state": {
       "margin": "20px 0px"
      }
     },
     "1e6fb79749af479388eac628883958cd": {
      "model_module": "@jupyter-widgets/controls",
      "model_module_version": "1.5.0",
      "model_name": "DescriptionStyleModel",
      "state": {
       "description_width": ""
      }
     },
     "1e7d8233e2a24ba99c1e21de77115ebd": {
      "model_module": "@jupyter-widgets/base",
      "model_module_version": "1.2.0",
      "model_name": "LayoutModel",
      "state": {}
     },
     "1ec76eb471f24a33936ee28efff1b7d9": {
      "model_module": "@jupyter-widgets/base",
      "model_module_version": "1.2.0",
      "model_name": "LayoutModel",
      "state": {}
     },
     "1f227737e368428f9900f64130b167b4": {
      "model_module": "@jupyter-widgets/base",
      "model_module_version": "1.2.0",
      "model_name": "LayoutModel",
      "state": {
       "flex_flow": "row wrap",
       "margin": "20px"
      }
     },
     "1f24bd95724e4366bcd4f8dc20f56947": {
      "model_module": "@jupyter-widgets/base",
      "model_module_version": "1.2.0",
      "model_name": "LayoutModel",
      "state": {}
     },
     "1fbc1b77b2594c068aab84f5d6c5c7cf": {
      "model_module": "@jupyter-widgets/base",
      "model_module_version": "1.2.0",
      "model_name": "LayoutModel",
      "state": {}
     },
     "2022dc6624e24a898af32ace2ca6a931": {
      "model_module": "@jupyter-widgets/controls",
      "model_module_version": "1.5.0",
      "model_name": "BoundedIntTextModel",
      "state": {
       "description": "index",
       "layout": "IPY_MODEL_e4e29240a09847e78a1a07a370344573",
       "style": "IPY_MODEL_edb9d9910fd94c13a9c2f2a4468ae4d3",
       "value": 1
      }
     },
     "202ad26a15ee4fd68ade5cd2bbb2e9fa": {
      "model_module": "@jupyter-widgets/controls",
      "model_module_version": "1.5.0",
      "model_name": "HBoxModel",
      "state": {
       "children": [
        "IPY_MODEL_07ba07077a4b4206b3c6f0adda3f8b01"
       ],
       "layout": "IPY_MODEL_b6fce056d2934ddcbe8c957f2f86c674"
      }
     },
     "20671f03fe04461996ab5d1554306783": {
      "model_module": "@jupyter-widgets/controls",
      "model_module_version": "1.5.0",
      "model_name": "ColorPickerModel",
      "state": {
       "description": "emission",
       "disabled": false,
       "layout": "IPY_MODEL_9860290244b4438685fe54ea69928cbf",
       "style": "IPY_MODEL_7f12945d77cf472e9e89a25a1ee153e2",
       "value": "#000000"
      }
     },
     "21665fbaff4c428e8054e39760210667": {
      "model_module": "pgljupyter",
      "model_module_version": "^0.1.17",
      "model_name": "FloatEditorModel",
      "state": {
       "_model_module_version": "^0.1.17",
       "_view_module_version": "^0.1.17",
       "children": [
        "IPY_MODEL_e5dd405bb48e450a82738d234bd2c520",
        "IPY_MODEL_ade1c10c481441aab8bbf72b414425c6"
       ],
       "layout": "IPY_MODEL_c586229278434b2c82cc9d08945ef2bf"
      }
     },
     "22493d52620a4dbba70147087ee1e269": {
      "model_module": "@jupyter-widgets/controls",
      "model_module_version": "1.5.0",
      "model_name": "HBoxModel",
      "state": {
       "children": [
        "IPY_MODEL_b22d36a0113848faafd904f5374645f6",
        "IPY_MODEL_30ca651989254957a2d39feb7a0e6248"
       ],
       "layout": "IPY_MODEL_b80808e3d98f4280b384872b6f4ded2a"
      }
     },
     "22a9d425bedd4273aaca809b23b24812": {
      "model_module": "pgljupyter",
      "model_module_version": "^0.1.17",
      "model_name": "BoolEditorModel",
      "state": {
       "_model_module_version": "^0.1.17",
       "_view_module_version": "^0.1.17",
       "children": [
        "IPY_MODEL_f5612840446a409a886edc8d914a52a9",
        "IPY_MODEL_59ba8561573744e6a5bab16caa2d654f"
       ],
       "layout": "IPY_MODEL_aee857e504584088adec527437da4db6"
      }
     },
     "238a21106098479f9e410bd46db0a579": {
      "model_module": "@jupyter-widgets/controls",
      "model_module_version": "1.5.0",
      "model_name": "DescriptionStyleModel",
      "state": {
       "description_width": ""
      }
     },
     "241fb7ce2ee8401ab529b5b177c130e5": {
      "model_module": "@jupyter-widgets/base",
      "model_module_version": "1.2.0",
      "model_name": "LayoutModel",
      "state": {}
     },
     "242a969a16b644e4869dbd1d5a866fe4": {
      "model_module": "@jupyter-widgets/controls",
      "model_module_version": "1.5.0",
      "model_name": "ButtonStyleModel",
      "state": {}
     },
     "24c8ec9cb33e447f9ef60eca44f31c47": {
      "model_module": "@jupyter-widgets/controls",
      "model_module_version": "1.5.0",
      "model_name": "FloatSliderModel",
      "state": {
       "description": "value",
       "layout": "IPY_MODEL_c68b6c5110944b0cb6c1f61bde503438",
       "max": 3,
       "step": 0.001,
       "style": "IPY_MODEL_4ff28d06452049b9b7868522e31d0278",
       "value": 1.442
      }
     },
     "250c45f36a8c4041b4a9dc0522dbc3f1": {
      "model_module": "@jupyter-widgets/controls",
      "model_module_version": "1.5.0",
      "model_name": "HBoxModel",
      "state": {
       "children": [
        "IPY_MODEL_9c44e538db2e4774ad2324b1b3de55f3",
        "IPY_MODEL_ead7b6df1fb2458c98ec530bf3603f11"
       ],
       "layout": "IPY_MODEL_38252859df274a64823862e9544b99df"
      }
     },
     "2530e64cecf54200969afa15664ab048": {
      "model_module": "pgljupyter",
      "model_module_version": "^0.1.17",
      "model_name": "BoolEditorModel",
      "state": {
       "_model_module_version": "^0.1.17",
       "_view_module_version": "^0.1.17",
       "children": [
        "IPY_MODEL_0794cac123dd4fc58e42e37b3406977f",
        "IPY_MODEL_37f7e61bb8914748a698dacbea97a47c"
       ],
       "layout": "IPY_MODEL_7ead986807874ca08a5e1f70e9c886d9"
      }
     },
     "253ed5b4596b44bdbd88e4df1d54300b": {
      "model_module": "@jupyter-widgets/controls",
      "model_module_version": "1.5.0",
      "model_name": "HBoxModel",
      "state": {
       "children": [
        "IPY_MODEL_65977583b4764f248e8a5e95e63d1089",
        "IPY_MODEL_7b2cb790d6f7481f81bf57bb7543714f"
       ],
       "layout": "IPY_MODEL_05b609c7f1db4f91b42996506413453d"
      }
     },
     "25906be431b2434084042c356ad9b0b2": {
      "model_module": "@jupyter-widgets/base",
      "model_module_version": "1.2.0",
      "model_name": "LayoutModel",
      "state": {}
     },
     "2597b389aa674bb6b3b7a2bd86b5c741": {
      "model_module": "@jupyter-widgets/controls",
      "model_module_version": "1.5.0",
      "model_name": "HBoxModel",
      "state": {
       "layout": "IPY_MODEL_077d6c4697ee48cda12ab931d8630083"
      }
     },
     "25ba085a82ad4ecf982d99472af6e5ba": {
      "model_module": "@jupyter-widgets/controls",
      "model_module_version": "1.5.0",
      "model_name": "HBoxModel",
      "state": {
       "children": [
        "IPY_MODEL_679b7870e0ba4bd5bd8f7c985fc1bcd9",
        "IPY_MODEL_fc421fb5332644379447454f2ef6ddb1"
       ],
       "layout": "IPY_MODEL_61518274bf6942a0b89bfdea500baf47"
      }
     },
     "25c0368f4b8c44c2b882338f5834fa4c": {
      "model_module": "@jupyter-widgets/controls",
      "model_module_version": "1.5.0",
      "model_name": "DescriptionStyleModel",
      "state": {
       "description_width": ""
      }
     },
     "26255de6ebb54820858c4f7d62da568d": {
      "model_module": "@jupyter-widgets/controls",
      "model_module_version": "1.5.0",
      "model_name": "DescriptionStyleModel",
      "state": {
       "description_width": ""
      }
     },
     "26423cd0860549f3895fd83a1238336d": {
      "model_module": "@jupyter-widgets/controls",
      "model_module_version": "1.5.0",
      "model_name": "TabModel",
      "state": {
       "_titles": {
        "0": "parameter_edition.json"
       },
       "children": [
        "IPY_MODEL_6eb28f8b137146529a5fd0239be0a17d"
       ],
       "layout": "IPY_MODEL_4a7da5682c9a402b96ede10936bfabe8"
      }
     },
     "2653af576dd8477aaa4ac91957a54939": {
      "model_module": "@jupyter-widgets/base",
      "model_module_version": "1.2.0",
      "model_name": "LayoutModel",
      "state": {}
     },
     "26c91841b0584392933cfb89f2368a7d": {
      "model_module": "@jupyter-widgets/controls",
      "model_module_version": "1.5.0",
      "model_name": "DescriptionStyleModel",
      "state": {
       "description_width": ""
      }
     },
     "26e2590573f94c84b1f60e81c4697449": {
      "model_module": "pgljupyter",
      "model_module_version": "^0.1.17",
      "model_name": "BoolEditorModel",
      "state": {
       "_model_module_version": "^0.1.17",
       "_view_module_version": "^0.1.17",
       "children": [
        "IPY_MODEL_9e81db5f4c4a42079b739015adcbc6ee",
        "IPY_MODEL_a25f9ce11441435cac285faf342774e8"
       ],
       "layout": "IPY_MODEL_542ee6290553468eb91498cdd6f9f39a"
      }
     },
     "274f76700c954b57897cdbbcbbadf4c9": {
      "model_module": "@jupyter-widgets/base",
      "model_module_version": "1.2.0",
      "model_name": "LayoutModel",
      "state": {
       "flex_flow": "row wrap"
      }
     },
     "27aa9a299ee34df7a2bd5c51be4d11c3": {
      "model_module": "@jupyter-widgets/controls",
      "model_module_version": "1.5.0",
      "model_name": "ButtonModel",
      "state": {
       "description": "Add",
       "layout": "IPY_MODEL_405a43d397524393a75c973def7609d4",
       "style": "IPY_MODEL_afc710bdbd074c8984877f2787029126"
      }
     },
     "288106e178584e38a9f876dff0bcc0df": {
      "model_module": "@jupyter-widgets/base",
      "model_module_version": "1.2.0",
      "model_name": "LayoutModel",
      "state": {}
     },
     "289b959c3cc54991a3f0e58512b15e49": {
      "model_module": "@jupyter-widgets/controls",
      "model_module_version": "1.5.0",
      "model_name": "SliderStyleModel",
      "state": {
       "description_width": ""
      }
     },
     "29155f49beaa4ff9a2ce85b4ab2d28fa": {
      "model_module": "@jupyter-widgets/controls",
      "model_module_version": "1.5.0",
      "model_name": "HBoxModel",
      "state": {
       "layout": "IPY_MODEL_b957174d425f4157ab02320acbb3cf1d"
      }
     },
     "29f6a00f5dfb4772b97fbddc8160b042": {
      "model_module": "pgljupyter",
      "model_module_version": "^0.1.17",
      "model_name": "ParameterEditorModel",
      "state": {
       "_model_module_version": "^0.1.17",
       "_view_module_version": "^0.1.17",
       "children": [
        "IPY_MODEL_a3307dea88bf469999a6b503a8903ef4"
       ],
       "layout": "IPY_MODEL_c7585e20366b4e10836c2b85aa55e5b9"
      }
     },
     "2a45ed99cf7a401db53f527b6c4354c7": {
      "model_module": "@jupyter-widgets/controls",
      "model_module_version": "1.5.0",
      "model_name": "TextModel",
      "state": {
       "continuous_update": false,
       "description": "name",
       "layout": "IPY_MODEL_139d600cb6264aaa8b51b9b64f4d5b77",
       "style": "IPY_MODEL_580e1f2c70bf4a16be1ffa5ee003d2bd",
       "value": "MAX_ORDER"
      }
     },
     "2a4c2bcaaf0d41c2a5a8a602dd3d20de": {
      "model_module": "@jupyter-widgets/controls",
      "model_module_version": "1.5.0",
      "model_name": "DescriptionStyleModel",
      "state": {
       "description_width": ""
      }
     },
     "2a7143cb5b0a44218190b9fbc0137be7": {
      "model_module": "@jupyter-widgets/controls",
      "model_module_version": "1.5.0",
      "model_name": "ColorPickerModel",
      "state": {
       "description": "specular",
       "disabled": false,
       "layout": "IPY_MODEL_d2c9112fa8ce4718a78b21baf97378ca",
       "style": "IPY_MODEL_e73e89efad524aaba067e61dc5047778",
       "value": "#000000"
      }
     },
     "2c19d18874164d738c604222c119d293": {
      "model_module": "@jupyter-widgets/base",
      "model_module_version": "1.2.0",
      "model_name": "LayoutModel",
      "state": {}
     },
     "2c5ce95f942c41089308c7acfc3f4a9a": {
      "model_module": "@jupyter-widgets/controls",
      "model_module_version": "1.5.0",
      "model_name": "ButtonModel",
      "state": {
       "description": "Add",
       "layout": "IPY_MODEL_1d8e2e46bdd8451796b8efd64b4929ed",
       "style": "IPY_MODEL_827d6a73f6244ffba7ee20cc61a7def3"
      }
     },
     "2d283fe639934fc29581d9837e12b904": {
      "model_module": "@jupyter-widgets/base",
      "model_module_version": "1.2.0",
      "model_name": "LayoutModel",
      "state": {}
     },
     "2e1557bf44984dc0919216dda63a6d8b": {
      "model_module": "pgljupyter",
      "model_module_version": "^0.1.17",
      "model_name": "CurveEditorModel",
      "state": {
       "_model_module_version": "^0.1.17",
       "_view_module_version": "^0.1.17",
       "children": [
        "IPY_MODEL_8af8a20e201b4da1a9bb30945451e428",
        "IPY_MODEL_7257929028b94d73adb87eef2b818bc9"
       ],
       "layout": "IPY_MODEL_a962505021964ca1a23258544a730b82"
      }
     },
     "2e3464e139d24afcbdecbd07a6ba4b00": {
      "model_module": "@jupyter-widgets/base",
      "model_module_version": "1.2.0",
      "model_name": "LayoutModel",
      "state": {}
     },
     "2f0386d53ceb41cf8692bf20dc0cff1d": {
      "model_module": "@jupyter-widgets/controls",
      "model_module_version": "1.5.0",
      "model_name": "ButtonModel",
      "state": {
       "description": "Add",
       "layout": "IPY_MODEL_967e0667a6f449a88357b92b7260ab43",
       "style": "IPY_MODEL_092c60eccd404e62acbd319171b2b74a"
      }
     },
     "2f0bc80f5a454ed8b3427a65733c1aeb": {
      "model_module": "@jupyter-widgets/controls",
      "model_module_version": "1.5.0",
      "model_name": "HBoxModel",
      "state": {
       "children": [
        "IPY_MODEL_eba97809438943b8aab0df9f6168f2b3",
        "IPY_MODEL_ededb904762c43058ae9eaa7c3f844f4"
       ],
       "layout": "IPY_MODEL_ce2fc0b0b49147a3ab3ea6b2b9c400c3"
      }
     },
     "2f1891f9123d4aadb113ebf57e7309b9": {
      "model_module": "@jupyter-widgets/base",
      "model_module_version": "1.2.0",
      "model_name": "LayoutModel",
      "state": {}
     },
     "2f74202ba0fc4861b56e24bc1a2b8444": {
      "model_module": "@jupyter-widgets/controls",
      "model_module_version": "1.5.0",
      "model_name": "HBoxModel",
      "state": {
       "children": [
        "IPY_MODEL_71db0dd751404690bc8cd7aa87320145",
        "IPY_MODEL_7e6ebab82c6242c5b862c35b0d885b42"
       ],
       "layout": "IPY_MODEL_58efdc9d09b746688e5c5baa60482a1c"
      }
     },
     "2f814225be7b43deabdd620ef920cc9c": {
      "model_module": "@jupyter-widgets/base",
      "model_module_version": "1.2.0",
      "model_name": "LayoutModel",
      "state": {}
     },
     "2fb489c0a1f24d4dbb89b55a7a26018c": {
      "model_module": "@jupyter-widgets/controls",
      "model_module_version": "1.5.0",
      "model_name": "DescriptionStyleModel",
      "state": {
       "description_width": ""
      }
     },
     "3003ed9aba154dcc9668273ea02572ba": {
      "model_module": "@jupyter-widgets/controls",
      "model_module_version": "1.5.0",
      "model_name": "HBoxModel",
      "state": {
       "children": [
        "IPY_MODEL_787725070bdb4970ad909e5167bc0894",
        "IPY_MODEL_81b80bf41d0e401fa755737bd365b528"
       ],
       "layout": "IPY_MODEL_699b2247241446eb910e0292ccb8b7da"
      }
     },
     "3035bcf30b9b4882b3d0f26eefc2d198": {
      "model_module": "@jupyter-widgets/controls",
      "model_module_version": "1.5.0",
      "model_name": "DescriptionStyleModel",
      "state": {
       "description_width": ""
      }
     },
     "30643df9de3041678d88525bcab46b86": {
      "model_module": "@jupyter-widgets/controls",
      "model_module_version": "1.5.0",
      "model_name": "ButtonStyleModel",
      "state": {}
     },
     "3064c384566a408d816f553aaa5e1ca3": {
      "model_module": "@jupyter-widgets/base",
      "model_module_version": "1.2.0",
      "model_name": "LayoutModel",
      "state": {}
     },
     "309f6c36f98848bcb08e9a0f764fc363": {
      "model_module": "@jupyter-widgets/controls",
      "model_module_version": "1.5.0",
      "model_name": "HBoxModel",
      "state": {
       "children": [
        "IPY_MODEL_178740e7e4ae43f39b50d29bb94e261c",
        "IPY_MODEL_503fe611b5e549889f3b2971df73d861"
       ],
       "layout": "IPY_MODEL_1d65871f5541424880958722cb382939"
      }
     },
     "30ca651989254957a2d39feb7a0e6248": {
      "model_module": "@jupyter-widgets/controls",
      "model_module_version": "1.5.0",
      "model_name": "DropdownModel",
      "state": {
       "_options_labels": [
        "Color_1"
       ],
       "index": 0,
       "layout": "IPY_MODEL_0a16dce963a940c691dbc7e24432b455",
       "style": "IPY_MODEL_36b71b94dc9b477ba93f7b94da01e4f7"
      }
     },
     "3106b27fe0f54d24b039940ea8372092": {
      "model_module": "@jupyter-widgets/controls",
      "model_module_version": "1.5.0",
      "model_name": "FloatSliderModel",
      "state": {
       "description": "value",
       "layout": "IPY_MODEL_1dd507f874b747418b4fa878810f2a6b",
       "max": 3,
       "step": 0.001,
       "style": "IPY_MODEL_09cd54efefd4424dbe967517eac9502c",
       "value": 0.03
      }
     },
     "3164badd630243868f00fac37fceb230": {
      "model_module": "@jupyter-widgets/controls",
      "model_module_version": "1.5.0",
      "model_name": "DescriptionStyleModel",
      "state": {
       "description_width": ""
      }
     },
     "31856e9277d8477086694b7bca1da187": {
      "model_module": "@jupyter-widgets/base",
      "model_module_version": "1.2.0",
      "model_name": "LayoutModel",
      "state": {}
     },
     "318fdceb7d754175a41f59eb1601f2ca": {
      "model_module": "@jupyter-widgets/controls",
      "model_module_version": "1.5.0",
      "model_name": "DropdownModel",
      "state": {
       "_options_labels": [
        "MAX_ORDER",
        "TROPISM",
        "ELASTICITY"
       ],
       "index": 0,
       "layout": "IPY_MODEL_5885320b6a574ad7a126566037c149e8",
       "style": "IPY_MODEL_899f34fee4124673bd60cc60094848eb"
      }
     },
     "31e041e90c5c4508a18b046d4c5a6ca2": {
      "model_module": "@jupyter-widgets/controls",
      "model_module_version": "1.5.0",
      "model_name": "HBoxModel",
      "state": {
       "children": [
        "IPY_MODEL_178740e7e4ae43f39b50d29bb94e261c",
        "IPY_MODEL_503fe611b5e549889f3b2971df73d861"
       ],
       "layout": "IPY_MODEL_b05b703f8a554d6ca7e839ad39957146"
      }
     },
     "31f5ff601a6640abb502a68cdac40105": {
      "model_module": "@jupyter-widgets/base",
      "model_module_version": "1.2.0",
      "model_name": "LayoutModel",
      "state": {}
     },
     "3231062ad03b48fb80dfac8b08324330": {
      "model_module": "@jupyter-widgets/controls",
      "model_module_version": "1.5.0",
      "model_name": "DescriptionStyleModel",
      "state": {
       "description_width": ""
      }
     },
     "327f3a58ffee4c76856dc551bb3bf887": {
      "model_module": "@jupyter-widgets/base",
      "model_module_version": "1.2.0",
      "model_name": "LayoutModel",
      "state": {}
     },
     "3283fea25a2742dbbedc4bdb1896a5f9": {
      "model_module": "@jupyter-widgets/controls",
      "model_module_version": "1.5.0",
      "model_name": "DescriptionStyleModel",
      "state": {
       "description_width": ""
      }
     },
     "330d99355b404618ae30f4c5905aafd7": {
      "model_module": "@jupyter-widgets/base",
      "model_module_version": "1.2.0",
      "model_name": "LayoutModel",
      "state": {}
     },
     "3340710330b4449aa26135aff27807d4": {
      "model_module": "@jupyter-widgets/controls",
      "model_module_version": "1.5.0",
      "model_name": "HBoxModel",
      "state": {
       "children": [
        "IPY_MODEL_f038f3a38fff4cc3910a8db0eaacdf6b",
        "IPY_MODEL_d1a7607daf834d45bba0d4893bdcc2a3"
       ],
       "layout": "IPY_MODEL_4a151df32bab40dfb50ed4b500a2ce22"
      }
     },
     "3350f2b7c85445c9b30678556b78d2c7": {
      "model_module": "@jupyter-widgets/base",
      "model_module_version": "1.2.0",
      "model_name": "LayoutModel",
      "state": {}
     },
     "337a72aeb9574f2ea32628ffc9cab978": {
      "model_module": "@jupyter-widgets/base",
      "model_module_version": "1.2.0",
      "model_name": "LayoutModel",
      "state": {}
     },
     "338351a2c00f48879ff1cf14cff52736": {
      "model_module": "@jupyter-widgets/base",
      "model_module_version": "1.2.0",
      "model_name": "LayoutModel",
      "state": {}
     },
     "3387c03df7d1474b80bd1db7d3eccf5f": {
      "model_module": "@jupyter-widgets/base",
      "model_module_version": "1.2.0",
      "model_name": "LayoutModel",
      "state": {}
     },
     "340a84a99b2945ab97dc83ecfa35efc2": {
      "model_module": "@jupyter-widgets/controls",
      "model_module_version": "1.5.0",
      "model_name": "VBoxModel",
      "state": {
       "children": [
        "IPY_MODEL_6dd0ebed9c6e4de2895bf6c94e810581",
        "IPY_MODEL_a82ac4bad3ff4e62a45b2acf116b5da2"
       ],
       "layout": "IPY_MODEL_81e6f0617c2b4f7ea3657b5df227e973"
      }
     },
     "3434aaa150f0403a8cf47bec3fe0fd70": {
      "model_module": "@jupyter-widgets/controls",
      "model_module_version": "1.5.0",
      "model_name": "SliderStyleModel",
      "state": {
       "description_width": ""
      }
     },
     "3439a1c9eb86443f9bbd3ce1a07f1666": {
      "model_module": "@jupyter-widgets/controls",
      "model_module_version": "1.5.0",
      "model_name": "AccordionModel",
      "state": {
       "_titles": {
        "0": "options",
        "1": "materials",
        "2": "Panel"
       },
       "children": [
        "IPY_MODEL_d30861ddbaa14edbb6984d9ff9be21b4",
        "IPY_MODEL_eda6a180b17e46f38ca159047d4a239d",
        "IPY_MODEL_c452444bded34f3db30e5b815bd554a7"
       ],
       "layout": "IPY_MODEL_0a3ff0e8d9b34f4dada826f7349e0de0"
      }
     },
     "34b23328d3ef4146a4681f7032781ba5": {
      "model_module": "@jupyter-widgets/controls",
      "model_module_version": "1.5.0",
      "model_name": "ButtonModel",
      "state": {
       "description": "Save changes",
       "layout": "IPY_MODEL_b5ce5a2f824649a1b1d767a1bbc030ab",
       "style": "IPY_MODEL_38b543133887488c8bbf7652c4e0527e"
      }
     },
     "350c65fa535347d4992bf39ff7657cd0": {
      "model_module": "@jupyter-widgets/controls",
      "model_module_version": "1.5.0",
      "model_name": "DescriptionStyleModel",
      "state": {
       "description_width": ""
      }
     },
     "3579be69c175457e81005faa8e4220a9": {
      "model_module": "@jupyter-widgets/base",
      "model_module_version": "1.2.0",
      "model_name": "LayoutModel",
      "state": {}
     },
     "35c82d4772074e598955ab2aabe03c02": {
      "model_module": "@jupyter-widgets/base",
      "model_module_version": "1.2.0",
      "model_name": "LayoutModel",
      "state": {}
     },
     "35e270e9442b4619a4fd1a1e4854da47": {
      "model_module": "@jupyter-widgets/controls",
      "model_module_version": "1.5.0",
      "model_name": "DropdownModel",
      "state": {
       "_options_labels": [
        "Integer",
        "Float",
        "Bool"
       ],
       "index": 0,
       "layout": "IPY_MODEL_a76c1b1534594ea1b0baf8941200228e",
       "style": "IPY_MODEL_aba35c9dc91b4ef3908223f70fab76a0"
      }
     },
     "36748c8e453f44fcab0b3ac23dc0623d": {
      "model_module": "@jupyter-widgets/base",
      "model_module_version": "1.2.0",
      "model_name": "LayoutModel",
      "state": {}
     },
     "36b71b94dc9b477ba93f7b94da01e4f7": {
      "model_module": "@jupyter-widgets/controls",
      "model_module_version": "1.5.0",
      "model_name": "DescriptionStyleModel",
      "state": {
       "description_width": ""
      }
     },
     "3739a877538046db90c0f9dac7080f42": {
      "model_module": "@jupyter-widgets/controls",
      "model_module_version": "1.5.0",
      "model_name": "VBoxModel",
      "state": {
       "children": [
        "IPY_MODEL_ed51a2a608a942a992a4a5000cb724af",
        "IPY_MODEL_26423cd0860549f3895fd83a1238336d"
       ],
       "layout": "IPY_MODEL_cdb9a512f6af47ea94e9c6c3ca5732bf"
      }
     },
     "37f014cb879c44d9946816bc57ead0b1": {
      "model_module": "@jupyter-widgets/base",
      "model_module_version": "1.2.0",
      "model_name": "LayoutModel",
      "state": {}
     },
     "37f7e61bb8914748a698dacbea97a47c": {
      "model_module": "@jupyter-widgets/controls",
      "model_module_version": "1.5.0",
      "model_name": "CheckboxModel",
      "state": {
       "description": "value",
       "disabled": false,
       "layout": "IPY_MODEL_8900390c17d24916ab3159dbba853596",
       "style": "IPY_MODEL_abb91fe8768949278a5bdbc9901ecd06",
       "value": true
      }
     },
     "38252859df274a64823862e9544b99df": {
      "model_module": "@jupyter-widgets/base",
      "model_module_version": "1.2.0",
      "model_name": "LayoutModel",
      "state": {}
     },
     "382f0b687d784b29b9eacd485e7893e6": {
      "model_module": "@jupyter-widgets/controls",
      "model_module_version": "1.5.0",
      "model_name": "TabModel",
      "state": {
       "layout": "IPY_MODEL_88bcc54868c74fb69fbd727f8015a8a7"
      }
     },
     "38b543133887488c8bbf7652c4e0527e": {
      "model_module": "@jupyter-widgets/controls",
      "model_module_version": "1.5.0",
      "model_name": "ButtonStyleModel",
      "state": {}
     },
     "38dbe5a861a449148670f53aaccc619c": {
      "model_module": "@jupyter-widgets/controls",
      "model_module_version": "1.5.0",
      "model_name": "DescriptionStyleModel",
      "state": {
       "description_width": ""
      }
     },
     "3a129a730d314a67b2894b5402949dd2": {
      "model_module": "pgljupyter",
      "model_module_version": "^0.1.17",
      "model_name": "_CurveEditorModel",
      "state": {
       "_model_module_version": "^0.1.17",
       "_view_module_version": "^0.1.17",
       "layout": "IPY_MODEL_fe342eae042a438684dba33f3ebcbd29",
       "points": [
        [
         -0.558642,
         0.0459491
        ],
        [
         -0.272827,
         -0.068981
        ],
        [
         -0.0295213,
         -0.153395
        ],
        [
         0.147239,
         -0.0700503
        ],
        [
         0.412901,
         0.0201295
        ],
        [
         0.575777,
         0.232735
        ]
       ],
       "type": "NurbsCurve2D"
      }
     },
     "3a1ff99f1b2f47018b35840bf3f4be90": {
      "model_module": "@jupyter-widgets/controls",
      "model_module_version": "1.5.0",
      "model_name": "HBoxModel",
      "state": {
       "children": [
        "IPY_MODEL_250c45f36a8c4041b4a9dc0522dbc3f1",
        "IPY_MODEL_19a1fe51719a495b8467bfd4863c779d",
        "IPY_MODEL_309f6c36f98848bcb08e9a0f764fc363"
       ],
       "layout": "IPY_MODEL_9ad6599f61724253badd65a360ae3c56"
      }
     },
     "3a521098b6ca4214bc784067c5eae4c8": {
      "model_module": "@jupyter-widgets/controls",
      "model_module_version": "1.5.0",
      "model_name": "HBoxModel",
      "state": {
       "children": [
        "IPY_MODEL_2f0386d53ceb41cf8692bf20dc0cff1d",
        "IPY_MODEL_52a9b33749fa42c7831fdf5f9e5ffe4c"
       ],
       "layout": "IPY_MODEL_b29d0ece3a2e4f0d90df0dc53e697375"
      }
     },
     "3a558fe7528541bda1cbdd25473406de": {
      "model_module": "@jupyter-widgets/base",
      "model_module_version": "1.2.0",
      "model_name": "LayoutModel",
      "state": {}
     },
     "3a7748a21dc14f9688f6c26f9ab0d99d": {
      "model_module": "@jupyter-widgets/base",
      "model_module_version": "1.2.0",
      "model_name": "LayoutModel",
      "state": {
       "margin": "20px 0px"
      }
     },
     "3ab4055f04e84028961383bf036dbbad": {
      "model_module": "@jupyter-widgets/base",
      "model_module_version": "1.2.0",
      "model_name": "LayoutModel",
      "state": {}
     },
     "3ad842c6e9ea489cb1f1ec1f6763ef3b": {
      "model_module": "@jupyter-widgets/base",
      "model_module_version": "1.2.0",
      "model_name": "LayoutModel",
      "state": {}
     },
     "3af53c809371477f9973968942dcbba3": {
      "model_module": "@jupyter-widgets/base",
      "model_module_version": "1.2.0",
      "model_name": "LayoutModel",
      "state": {
       "margin": "20px 0px"
      }
     },
     "3b069b16d4ae437e9def053fb41400cb": {
      "model_module": "@jupyter-widgets/base",
      "model_module_version": "1.2.0",
      "model_name": "LayoutModel",
      "state": {}
     },
     "3b2b664712e54604bc93d80397afc200": {
      "model_module": "@jupyter-widgets/controls",
      "model_module_version": "1.5.0",
      "model_name": "DescriptionStyleModel",
      "state": {
       "description_width": ""
      }
     },
     "3b5e13579ae64352b30a4cc87a9c114e": {
      "model_module": "@jupyter-widgets/controls",
      "model_module_version": "1.5.0",
      "model_name": "SliderStyleModel",
      "state": {
       "description_width": ""
      }
     },
     "3b722e97c6dd4a5baa202d38656e9e73": {
      "model_module": "@jupyter-widgets/base",
      "model_module_version": "1.2.0",
      "model_name": "LayoutModel",
      "state": {}
     },
     "3b8250a2aa264d2ab5b2929218f98315": {
      "model_module": "@jupyter-widgets/controls",
      "model_module_version": "1.5.0",
      "model_name": "ButtonModel",
      "state": {
       "description": "Delete",
       "layout": "IPY_MODEL_c57f0347d81845edabfa25bb9670fcca",
       "style": "IPY_MODEL_09f5806cb818401c8147193344213ccd"
      }
     },
     "3befa8f76a7149bf955b4c6e56058786": {
      "model_module": "@jupyter-widgets/controls",
      "model_module_version": "1.5.0",
      "model_name": "DescriptionStyleModel",
      "state": {
       "description_width": ""
      }
     },
     "3c00b4d9c6314eedb0762d9f3a0b17c3": {
      "model_module": "@jupyter-widgets/controls",
      "model_module_version": "1.5.0",
      "model_name": "TextModel",
      "state": {
       "continuous_update": false,
       "description": "name",
       "layout": "IPY_MODEL_ea9938b8e9e4459ea92fdee9fd926476",
       "style": "IPY_MODEL_d139f26b64664ce5b56b37356e84d8aa",
       "value": "TROPISM"
      }
     },
     "3c014ffb46dc439ebcf1c244d296408f": {
      "model_module": "@jupyter-widgets/base",
      "model_module_version": "1.2.0",
      "model_name": "LayoutModel",
      "state": {}
     },
     "3c28d971b7624734a1e2f6975cbfdfbe": {
      "model_module": "@jupyter-widgets/controls",
      "model_module_version": "1.5.0",
      "model_name": "HBoxModel",
      "state": {
       "children": [
        "IPY_MODEL_178740e7e4ae43f39b50d29bb94e261c",
        "IPY_MODEL_503fe611b5e549889f3b2971df73d861"
       ],
       "layout": "IPY_MODEL_6114f73de93e4695980bd14fdc9eafc1"
      }
     },
     "3c52733d4cbe441890d04fd5a8b60563": {
      "model_module": "@jupyter-widgets/controls",
      "model_module_version": "1.5.0",
      "model_name": "DescriptionStyleModel",
      "state": {
       "description_width": ""
      }
     },
     "3c63d7111d0c49929dfa0600106d66cc": {
      "model_module": "@jupyter-widgets/base",
      "model_module_version": "1.2.0",
      "model_name": "LayoutModel",
      "state": {}
     },
     "3c7f87397bfa480a8296f0957e04fa40": {
      "model_module": "@jupyter-widgets/controls",
      "model_module_version": "1.5.0",
      "model_name": "HBoxModel",
      "state": {
       "children": [
        "IPY_MODEL_b758e401b1ac497dad54f81758263985",
        "IPY_MODEL_bdb6b34154fe44fcbc96b849cf1c9c41"
       ],
       "layout": "IPY_MODEL_592e5abdc84340649dc84bc7a9030765"
      }
     },
     "3d3d472987f64ad5b5bf405197aea428": {
      "model_module": "@jupyter-widgets/base",
      "model_module_version": "1.2.0",
      "model_name": "LayoutModel",
      "state": {}
     },
     "3d66564e686641d3887235cc6c364d79": {
      "model_module": "@jupyter-widgets/base",
      "model_module_version": "1.2.0",
      "model_name": "LayoutModel",
      "state": {
       "margin": "20px 0px"
      }
     },
     "3d6c0b155f394eeea648664264a7e51b": {
      "model_module": "@jupyter-widgets/base",
      "model_module_version": "1.2.0",
      "model_name": "LayoutModel",
      "state": {}
     },
     "3e41446b50f74a2d80201164dd337ebd": {
      "model_module": "@jupyter-widgets/controls",
      "model_module_version": "1.5.0",
      "model_name": "TextModel",
      "state": {
       "layout": "IPY_MODEL_18aa8d34e9004dadb8ac93acf6de7b86",
       "placeholder": "category name",
       "style": "IPY_MODEL_e026f803d86249c29bb2dc4222275db7"
      }
     },
     "3eaca06c6177414486e6b2d9a3afb016": {
      "model_module": "@jupyter-widgets/controls",
      "model_module_version": "1.5.0",
      "model_name": "HBoxModel",
      "state": {
       "children": [
        "IPY_MODEL_5e6f3a041eaa446790d8e5996ff8a5f9",
        "IPY_MODEL_c2888df4b50c4ef4b73bd56f3a2ff450"
       ],
       "layout": "IPY_MODEL_176579b7607e4030909129a9c88a274b"
      }
     },
     "3f1359054c574869a0a5ea00e828e4a7": {
      "model_module": "pgljupyter",
      "model_module_version": "^0.1.17",
      "model_name": "FloatEditorModel",
      "state": {
       "_model_module_version": "^0.1.17",
       "_view_module_version": "^0.1.17",
       "children": [
        "IPY_MODEL_75caa4e232964c7b8035d1d09f049254",
        "IPY_MODEL_0a8aa6c49e1346c694481a0ec86e26f4"
       ],
       "layout": "IPY_MODEL_aed70701702b44fbafb4978771d54087"
      }
     },
     "3f2732fd5d8b4ab19d9bbe24e932cf2b": {
      "model_module": "@jupyter-widgets/controls",
      "model_module_version": "1.5.0",
      "model_name": "ButtonModel",
      "state": {
       "description": "Delete",
       "layout": "IPY_MODEL_0d2ca74bed174734b512ebf3e0b154e5",
       "style": "IPY_MODEL_a2c25755f3cc4711b536c40c87e020a1"
      }
     },
     "3f3a3dbfe7be480e9a399afadd87b147": {
      "model_module": "@jupyter-widgets/base",
      "model_module_version": "1.2.0",
      "model_name": "LayoutModel",
      "state": {
       "margin": "20px 0px"
      }
     },
     "3f79885dcf724922896f8420de6b5422": {
      "model_module": "pgljupyter",
      "model_module_version": "^0.1.17",
      "model_name": "ParameterEditorModel",
      "state": {
       "_model_module_version": "^0.1.17",
       "_view_module_version": "^0.1.17",
       "children": [
        "IPY_MODEL_82462993a56a474881cea9d927e70ac6"
       ],
       "layout": "IPY_MODEL_957aec949f4e460e9faf404d5e0aeda1"
      }
     },
     "3fe343e75ac94c068b655fa5e2af0d85": {
      "model_module": "@jupyter-widgets/base",
      "model_module_version": "1.2.0",
      "model_name": "LayoutModel",
      "state": {
       "margin": "20px 0px"
      }
     },
     "4017cf8cdd634ecd8079b4098612b254": {
      "model_module": "@jupyter-widgets/controls",
      "model_module_version": "1.5.0",
      "model_name": "AccordionModel",
      "state": {
       "_titles": {
        "0": "options",
        "1": "materials",
        "2": "Panel"
       },
       "children": [
        "IPY_MODEL_63edfb14024f4d9ea2c82a2e18d85d10",
        "IPY_MODEL_c20e04cf076b466faf080c17dd6a0685",
        "IPY_MODEL_18771de576c1457f8c01d79d47a84b9a"
       ],
       "layout": "IPY_MODEL_9e414165304244b6935f13c54e741597",
       "selected_index": 1
      }
     },
     "405a43d397524393a75c973def7609d4": {
      "model_module": "@jupyter-widgets/base",
      "model_module_version": "1.2.0",
      "model_name": "LayoutModel",
      "state": {}
     },
     "40b05bef97394d17a9bdfff7aae7188c": {
      "model_module": "@jupyter-widgets/controls",
      "model_module_version": "1.5.0",
      "model_name": "VBoxModel",
      "state": {
       "children": [
        "IPY_MODEL_3a1ff99f1b2f47018b35840bf3f4be90",
        "IPY_MODEL_eafb8e38be26448da0b3c91dfe744210"
       ],
       "layout": "IPY_MODEL_f311f346804347f78e1b94df0929ce47"
      }
     },
     "40be63455d4a40f891b742e452eb8d0e": {
      "model_module": "@jupyter-widgets/controls",
      "model_module_version": "1.5.0",
      "model_name": "HBoxModel",
      "state": {
       "children": [
        "IPY_MODEL_4b0af6e1ba9a40e9838389cf58f44b63"
       ],
       "layout": "IPY_MODEL_bfdd12ede58d4cd99fd439129d778923"
      }
     },
     "413bbf1bf8084c3f8e3e74a8a9713d2f": {
      "model_module": "@jupyter-widgets/controls",
      "model_module_version": "1.5.0",
      "model_name": "DescriptionStyleModel",
      "state": {
       "description_width": ""
      }
     },
     "41b5b5b46e074dd0a34ed82352d41e2f": {
      "model_module": "pgljupyter",
      "model_module_version": "^0.1.17",
      "model_name": "FloatEditorModel",
      "state": {
       "_model_module_version": "^0.1.17",
       "_view_module_version": "^0.1.17",
       "children": [
        "IPY_MODEL_9b77767513904aad90528f896abd820f",
        "IPY_MODEL_64ca4c10a65d408fa26ece88ed4a1c8c"
       ],
       "layout": "IPY_MODEL_b1a60eba28e1497ca52c2523946f5150"
      }
     },
     "41bece9f7ea14709b10684e3542b279a": {
      "model_module": "@jupyter-widgets/base",
      "model_module_version": "1.2.0",
      "model_name": "LayoutModel",
      "state": {}
     },
     "42d6e9170ca54558b83cecfb569f88b5": {
      "model_module": "@jupyter-widgets/base",
      "model_module_version": "1.2.0",
      "model_name": "LayoutModel",
      "state": {}
     },
     "4381e3ded4fa4fce9adb8861ba780500": {
      "model_module": "@jupyter-widgets/controls",
      "model_module_version": "1.5.0",
      "model_name": "DescriptionStyleModel",
      "state": {
       "description_width": ""
      }
     },
     "43ea0eb84aea499a98856c1c3d83c4ce": {
      "model_module": "@jupyter-widgets/controls",
      "model_module_version": "1.5.0",
      "model_name": "ButtonModel",
      "state": {
       "description": "Delete",
       "layout": "IPY_MODEL_7feb046d93584b8092cac3fc01bd6c59",
       "style": "IPY_MODEL_89ed4a17343040599f2c8c07196292fb"
      }
     },
     "440b93a57bee4485be1340b102b9e8f8": {
      "model_module": "@jupyter-widgets/base",
      "model_module_version": "1.2.0",
      "model_name": "LayoutModel",
      "state": {}
     },
     "442e09d1d5a34851913d189ce13609b8": {
      "model_module": "@jupyter-widgets/base",
      "model_module_version": "1.2.0",
      "model_name": "LayoutModel",
      "state": {}
     },
     "443e4ff7ad8246a1a809b129283bfb30": {
      "model_module": "@jupyter-widgets/controls",
      "model_module_version": "1.5.0",
      "model_name": "DropdownModel",
      "state": {
       "_options_labels": [
        "Color"
       ],
       "index": 0,
       "layout": "IPY_MODEL_c366082c80794a6dba39f500ad484706",
       "style": "IPY_MODEL_46f40693729845b1a70a5b1a8a6aeb3f"
      }
     },
     "44eb4d4a8eb74e1c9c9535474f7f95b6": {
      "model_module": "@jupyter-widgets/base",
      "model_module_version": "1.2.0",
      "model_name": "LayoutModel",
      "state": {}
     },
     "450e184cfa244022987063deb8f0ed97": {
      "model_module": "@jupyter-widgets/controls",
      "model_module_version": "1.5.0",
      "model_name": "DescriptionStyleModel",
      "state": {
       "description_width": ""
      }
     },
     "45706dc8b68a4a2b9ffd206c14cce2b1": {
      "model_module": "@jupyter-widgets/base",
      "model_module_version": "1.2.0",
      "model_name": "LayoutModel",
      "state": {}
     },
     "45872188056449aaaf635cd2ca7c541b": {
      "model_module": "@jupyter-widgets/base",
      "model_module_version": "1.2.0",
      "model_name": "LayoutModel",
      "state": {}
     },
     "4598b80ab0ba404e8b052d14fea295b8": {
      "model_module": "@jupyter-widgets/base",
      "model_module_version": "1.2.0",
      "model_name": "LayoutModel",
      "state": {}
     },
     "45ae4ef36a7447648dbec5574f01dfcf": {
      "model_module": "@jupyter-widgets/controls",
      "model_module_version": "1.5.0",
      "model_name": "TextModel",
      "state": {
       "continuous_update": false,
       "description": "name",
       "layout": "IPY_MODEL_3d3d472987f64ad5b5bf405197aea428",
       "style": "IPY_MODEL_5d4e259c6b04494eb49e871699d9d3ef",
       "value": "MAX_ORDER"
      }
     },
     "45b2982fdaf14baf95f812cfc5418c38": {
      "model_module": "@jupyter-widgets/controls",
      "model_module_version": "1.5.0",
      "model_name": "FloatSliderModel",
      "state": {
       "description": "diffuse",
       "layout": "IPY_MODEL_45706dc8b68a4a2b9ffd206c14cce2b1",
       "max": 3,
       "step": 0.1,
       "style": "IPY_MODEL_cd3eb1b4f4264a24932453f89f2e18d4",
       "value": 3
      }
     },
     "464496d4d35746b09a32c5a0c4a94233": {
      "model_module": "@jupyter-widgets/base",
      "model_module_version": "1.2.0",
      "model_name": "LayoutModel",
      "state": {}
     },
     "46b22cf803af4374a0aaf0a53855e945": {
      "model_module": "@jupyter-widgets/controls",
      "model_module_version": "1.5.0",
      "model_name": "HBoxModel",
      "state": {
       "children": [
        "IPY_MODEL_512b3b281b8742bfb7e122314b1401e8"
       ],
       "layout": "IPY_MODEL_bfdd12ede58d4cd99fd439129d778923"
      }
     },
     "46c1cebeafae458fafdf1d8a96dd661b": {
      "model_module": "@jupyter-widgets/controls",
      "model_module_version": "1.5.0",
      "model_name": "HBoxModel",
      "state": {
       "children": [
        "IPY_MODEL_d53e3dac53e640c097a6da5cd1d38451",
        "IPY_MODEL_166b06ead0294f7fa00616f2800dbbd4"
       ],
       "layout": "IPY_MODEL_77df6b2722a24b6a89af7b3ff251ec57"
      }
     },
     "46ca1a14289c48ee8ac207a25fe68bc1": {
      "model_module": "@jupyter-widgets/controls",
      "model_module_version": "1.5.0",
      "model_name": "HBoxModel",
      "state": {
       "children": [
        "IPY_MODEL_13835bc8503f4c31863c11dedb7040a4",
        "IPY_MODEL_6bbc018466a8424992912658a1783ec9"
       ],
       "layout": "IPY_MODEL_edbcee5a937a4913b4eed0bb35382ab2"
      }
     },
     "46f40693729845b1a70a5b1a8a6aeb3f": {
      "model_module": "@jupyter-widgets/controls",
      "model_module_version": "1.5.0",
      "model_name": "DescriptionStyleModel",
      "state": {
       "description_width": ""
      }
     },
     "47da616f4d1f4c169255547937135c81": {
      "model_module": "@jupyter-widgets/controls",
      "model_module_version": "1.5.0",
      "model_name": "ColorPickerModel",
      "state": {
       "description": "ambient",
       "disabled": false,
       "layout": "IPY_MODEL_5348f77afc4d40cc80c1c5d40f57f6e0",
       "style": "IPY_MODEL_165bf3c76cea45569f18f3ad2e677871",
       "value": "#412d0f"
      }
     },
     "47fc85a2aeb140a8aac306642e328ef8": {
      "model_module": "@jupyter-widgets/base",
      "model_module_version": "1.2.0",
      "model_name": "LayoutModel",
      "state": {}
     },
     "482bd76a96714236911b9512c52dca06": {
      "model_module": "@jupyter-widgets/base",
      "model_module_version": "1.2.0",
      "model_name": "LayoutModel",
      "state": {}
     },
     "486a5f2278614c9ead68c774de861b61": {
      "model_module": "@jupyter-widgets/controls",
      "model_module_version": "1.5.0",
      "model_name": "HBoxModel",
      "state": {
       "children": [
        "IPY_MODEL_2e1557bf44984dc0919216dda63a6d8b"
       ],
       "layout": "IPY_MODEL_55322a282bca406cb7a13d8a9a782c3b"
      }
     },
     "48a0a051614c461eb88ad8aae35f6758": {
      "model_module": "@jupyter-widgets/controls",
      "model_module_version": "1.5.0",
      "model_name": "DescriptionStyleModel",
      "state": {
       "description_width": ""
      }
     },
     "491b269ebbed457eadbe4e17a0916be3": {
      "model_module": "@jupyter-widgets/controls",
      "model_module_version": "1.5.0",
      "model_name": "ButtonStyleModel",
      "state": {}
     },
     "493904e80ba549ef8b540043ed4de1a9": {
      "model_module": "@jupyter-widgets/base",
      "model_module_version": "1.2.0",
      "model_name": "LayoutModel",
      "state": {}
     },
     "49ab4c170bb04e10a5eb940f1cc0fcf5": {
      "model_module": "@jupyter-widgets/controls",
      "model_module_version": "1.5.0",
      "model_name": "HBoxModel",
      "state": {
       "children": [
        "IPY_MODEL_9c44e538db2e4774ad2324b1b3de55f3",
        "IPY_MODEL_ead7b6df1fb2458c98ec530bf3603f11"
       ],
       "layout": "IPY_MODEL_f8de1f4de5484e22b46686cacd9af154"
      }
     },
     "49ff44ace34b4a57b71db3c0386794bd": {
      "model_module": "@jupyter-widgets/controls",
      "model_module_version": "1.5.0",
      "model_name": "DescriptionStyleModel",
      "state": {
       "description_width": ""
      }
     },
     "4a151df32bab40dfb50ed4b500a2ce22": {
      "model_module": "@jupyter-widgets/base",
      "model_module_version": "1.2.0",
      "model_name": "LayoutModel",
      "state": {
       "flex_flow": "row wrap",
       "margin": "20px"
      }
     },
     "4a4352d472644c98ad19fda313ee1738": {
      "model_module": "@jupyter-widgets/base",
      "model_module_version": "1.2.0",
      "model_name": "LayoutModel",
      "state": {
       "margin": "20px 0px"
      }
     },
     "4a5b563bf1214bffaf0dd9e377691494": {
      "model_module": "@jupyter-widgets/base",
      "model_module_version": "1.2.0",
      "model_name": "LayoutModel",
      "state": {}
     },
     "4a7da5682c9a402b96ede10936bfabe8": {
      "model_module": "@jupyter-widgets/base",
      "model_module_version": "1.2.0",
      "model_name": "LayoutModel",
      "state": {}
     },
     "4a92ed31495549be9e7e77025900d160": {
      "model_module": "@jupyter-widgets/controls",
      "model_module_version": "1.5.0",
      "model_name": "DescriptionStyleModel",
      "state": {
       "description_width": ""
      }
     },
     "4ac4b40585914744bc15f1f23c1487b3": {
      "model_module": "@jupyter-widgets/base",
      "model_module_version": "1.2.0",
      "model_name": "LayoutModel",
      "state": {
       "margin": "20px 0px"
      }
     },
     "4ae20287781a42e990b6c054d1dc0405": {
      "model_module": "pgljupyter",
      "model_module_version": "^0.1.17",
      "model_name": "BoolEditorModel",
      "state": {
       "_model_module_version": "^0.1.17",
       "_view_module_version": "^0.1.17",
       "children": [
        "IPY_MODEL_3c00b4d9c6314eedb0762d9f3a0b17c3",
        "IPY_MODEL_936e005500894ad2acc9855c954d85fe"
       ],
       "layout": "IPY_MODEL_b94b423ec0bd48fcbe282709a94a0abd"
      }
     },
     "4b0af6e1ba9a40e9838389cf58f44b63": {
      "model_module": "pgljupyter",
      "model_module_version": "^0.1.17",
      "model_name": "CurveEditorModel",
      "state": {
       "_model_module_version": "^0.1.17",
       "_view_module_version": "^0.1.17",
       "children": [
        "IPY_MODEL_da32c81eb1a34f22be2c7dc17985865d",
        "IPY_MODEL_cfcc911372884832900bf35f9e279bd6"
       ],
       "layout": "IPY_MODEL_4a4352d472644c98ad19fda313ee1738"
      }
     },
     "4c2319c7b47f4551b4025c18312649a4": {
      "model_module": "@jupyter-widgets/controls",
      "model_module_version": "1.5.0",
      "model_name": "ButtonModel",
      "state": {
       "description": "Delete category",
       "layout": "IPY_MODEL_0ddc285b37c54ba3bb48c05921515391",
       "style": "IPY_MODEL_8f3cb9d43bce4b51b5a14b2c971ba5ed"
      }
     },
     "4c90f824f6e94ed7a07734a5156d3d89": {
      "model_module": "@jupyter-widgets/base",
      "model_module_version": "1.2.0",
      "model_name": "LayoutModel",
      "state": {}
     },
     "4ca0067c556242d99a4ad940f866a76a": {
      "model_module": "@jupyter-widgets/controls",
      "model_module_version": "1.5.0",
      "model_name": "TextModel",
      "state": {
       "continuous_update": false,
       "description": "name",
       "layout": "IPY_MODEL_627bb85f3a46493599c23a6facdc92c3",
       "style": "IPY_MODEL_7c47ee5d8c664006aa8db38a6c1e60a0",
       "value": "MAX_ORDER"
      }
     },
     "4cdaa3e8f50e42a0a13ed095c902ccce": {
      "model_module": "@jupyter-widgets/controls",
      "model_module_version": "1.5.0",
      "model_name": "HBoxModel",
      "state": {
       "layout": "IPY_MODEL_55322a282bca406cb7a13d8a9a782c3b"
      }
     },
     "4d6ddceca3dc4317bece9d40ed4d1d12": {
      "model_module": "@jupyter-widgets/controls",
      "model_module_version": "1.5.0",
      "model_name": "AccordionModel",
      "state": {
       "_titles": {
        "0": "options",
        "1": "materials",
        "2": "Panel"
       },
       "children": [
        "IPY_MODEL_96c0c8c7520d4997b9e6aca7b50747aa",
        "IPY_MODEL_340a84a99b2945ab97dc83ecfa35efc2",
        "IPY_MODEL_df90228fbd584d0a8d376adb17a99183"
       ],
       "layout": "IPY_MODEL_7c1755e9078c4e51bd0b5debb8ff866a"
      }
     },
     "4d869390527342dba8dcd61f5cdbff25": {
      "model_module": "@jupyter-widgets/base",
      "model_module_version": "1.2.0",
      "model_name": "LayoutModel",
      "state": {}
     },
     "4e06171310164138b6946842e6df4e65": {
      "model_module": "@jupyter-widgets/base",
      "model_module_version": "1.2.0",
      "model_name": "LayoutModel",
      "state": {}
     },
     "4ecf759a54dd4b1fb00f50d7ae2653ab": {
      "model_module": "@jupyter-widgets/controls",
      "model_module_version": "1.5.0",
      "model_name": "IntSliderModel",
      "state": {
       "description": "value",
       "layout": "IPY_MODEL_c526b6f410f14ec9bbc967180e16b69c",
       "max": 5,
       "style": "IPY_MODEL_841530cb500c4f6bb88c39a1aba3768e",
       "value": 5
      }
     },
     "4f522ef6375641e68d275487a2aa0efa": {
      "model_module": "@jupyter-widgets/controls",
      "model_module_version": "1.5.0",
      "model_name": "ColorPickerModel",
      "state": {
       "description": "emission",
       "disabled": false,
       "layout": "IPY_MODEL_c55ee24390854d2f83ac2c697d7e6c71",
       "style": "IPY_MODEL_3164badd630243868f00fac37fceb230",
       "value": "#000000"
      }
     },
     "4f6caa0b362440ccaacdcf7eec2cc370": {
      "model_module": "@jupyter-widgets/base",
      "model_module_version": "1.2.0",
      "model_name": "LayoutModel",
      "state": {}
     },
     "4f8a63c969eb40bda5730eb0663ef866": {
      "model_module": "@jupyter-widgets/controls",
      "model_module_version": "1.5.0",
      "model_name": "HBoxModel",
      "state": {
       "layout": "IPY_MODEL_ce2fc0b0b49147a3ab3ea6b2b9c400c3"
      }
     },
     "4f9de0f6161647a097f06f470d1fd154": {
      "model_module": "@jupyter-widgets/base",
      "model_module_version": "1.2.0",
      "model_name": "LayoutModel",
      "state": {}
     },
     "4fa434a32b5e46cf8c59adb8aa78d9e1": {
      "model_module": "@jupyter-widgets/controls",
      "model_module_version": "1.5.0",
      "model_name": "ButtonModel",
      "state": {
       "description": "Delete",
       "layout": "IPY_MODEL_dafd634c00b54de695093a3b439f0e57",
       "style": "IPY_MODEL_5cbef2a458fe47e380f8a8e8be3e6518"
      }
     },
     "4fd2f379b6da465cb52d475db1c3b755": {
      "model_module": "@jupyter-widgets/controls",
      "model_module_version": "1.5.0",
      "model_name": "HBoxModel",
      "state": {
       "children": [
        "IPY_MODEL_27aa9a299ee34df7a2bd5c51be4d11c3",
        "IPY_MODEL_80bf28d1da4a4b1cbdf212e0b34b4433"
       ],
       "layout": "IPY_MODEL_5c678a0143b748ce96596650efab65e3"
      }
     },
     "4ff28d06452049b9b7868522e31d0278": {
      "model_module": "@jupyter-widgets/controls",
      "model_module_version": "1.5.0",
      "model_name": "SliderStyleModel",
      "state": {
       "description_width": ""
      }
     },
     "503fe611b5e549889f3b2971df73d861": {
      "model_module": "@jupyter-widgets/controls",
      "model_module_version": "1.5.0",
      "model_name": "TextModel",
      "state": {
       "layout": "IPY_MODEL_fa5968d3e264420099b22d505df36f66",
       "placeholder": "category name",
       "style": "IPY_MODEL_26255de6ebb54820858c4f7d62da568d"
      }
     },
     "504a2aabca5f4a388f36be0941c70c0a": {
      "model_module": "@jupyter-widgets/base",
      "model_module_version": "1.2.0",
      "model_name": "LayoutModel",
      "state": {}
     },
     "505777c0fa82492cb9657e420ea1ce66": {
      "model_module": "@jupyter-widgets/base",
      "model_module_version": "1.2.0",
      "model_name": "LayoutModel",
      "state": {}
     },
     "507ec8c7216a47c29b6923118187cda4": {
      "model_module": "@jupyter-widgets/base",
      "model_module_version": "1.2.0",
      "model_name": "LayoutModel",
      "state": {}
     },
     "50e22728bb544907be9040ea0da3e612": {
      "model_module": "@jupyter-widgets/controls",
      "model_module_version": "1.5.0",
      "model_name": "DescriptionStyleModel",
      "state": {
       "description_width": ""
      }
     },
     "512b3b281b8742bfb7e122314b1401e8": {
      "model_module": "pgljupyter",
      "model_module_version": "^0.1.17",
      "model_name": "MaterialEditorModel",
      "state": {
       "_model_module_version": "^0.1.17",
       "_view_module_version": "^0.1.17",
       "children": [
        "IPY_MODEL_061a5fa2ffd54a9e9e5dc57401d9e60d",
        "IPY_MODEL_bb3ae18a8c464e5a9b6621d7320858d7",
        "IPY_MODEL_d6e3ab6c88bb4085aa2b7261997b90c3",
        "IPY_MODEL_2a7143cb5b0a44218190b9fbc0137be7",
        "IPY_MODEL_89a1364e9a594e17ba1b76a22fd3f90a",
        "IPY_MODEL_757de2f8f60541e698ef69bf6a960250",
        "IPY_MODEL_09922cd00ea54655b97bfd8324051a01",
        "IPY_MODEL_f127cb9ba9024b8795e8efff37a737dd"
       ],
       "layout": "IPY_MODEL_ea54a7f7ddc548dc8624d38ac46744e6"
      }
     },
     "5149bee5e53c43fbae2846ba839d6f5a": {
      "model_module": "@jupyter-widgets/base",
      "model_module_version": "1.2.0",
      "model_name": "LayoutModel",
      "state": {}
     },
     "517c344817724a9889958698bc884abd": {
      "model_module": "@jupyter-widgets/controls",
      "model_module_version": "1.5.0",
      "model_name": "BoundedIntTextModel",
      "state": {
       "description": "index",
       "layout": "IPY_MODEL_35c82d4772074e598955ab2aabe03c02",
       "style": "IPY_MODEL_6d1df018f6bb448c8cc7347b3fbe86b0",
       "value": 1
      }
     },
     "51a8912752904326b3e65fba993abcc9": {
      "model_module": "@jupyter-widgets/base",
      "model_module_version": "1.2.0",
      "model_name": "LayoutModel",
      "state": {}
     },
     "523d43e9d88240ddafcdbcdd61b57c7b": {
      "model_module": "@jupyter-widgets/controls",
      "model_module_version": "1.5.0",
      "model_name": "HBoxModel",
      "state": {
       "children": [
        "IPY_MODEL_10f2e77f8bcd4aadb158d3176df872c1",
        "IPY_MODEL_84743080fc9e40069529bab5aeeb8024"
       ],
       "layout": "IPY_MODEL_52f3e2d0e22142d7ae4367f738f57576"
      }
     },
     "52822e92f2ac43739de63702184b47f6": {
      "model_module": "@jupyter-widgets/controls",
      "model_module_version": "1.5.0",
      "model_name": "DescriptionStyleModel",
      "state": {
       "description_width": ""
      }
     },
     "52a9b33749fa42c7831fdf5f9e5ffe4c": {
      "model_module": "@jupyter-widgets/controls",
      "model_module_version": "1.5.0",
      "model_name": "DropdownModel",
      "state": {
       "_options_labels": [
        "Color"
       ],
       "index": 0,
       "layout": "IPY_MODEL_e591eba7405c462a80c71bff00bf35f5",
       "style": "IPY_MODEL_ce214e03f83244baaf3eaba651d5a8be"
      }
     },
     "52ad39c3b17b4e92b01c100624eee9a7": {
      "model_module": "@jupyter-widgets/controls",
      "model_module_version": "1.5.0",
      "model_name": "DescriptionStyleModel",
      "state": {
       "description_width": ""
      }
     },
     "52f3e2d0e22142d7ae4367f738f57576": {
      "model_module": "@jupyter-widgets/base",
      "model_module_version": "1.2.0",
      "model_name": "LayoutModel",
      "state": {
       "flex_flow": "row wrap",
       "margin": "20px"
      }
     },
     "5345985fca4048d48a3ab1584c199b58": {
      "model_module": "@jupyter-widgets/controls",
      "model_module_version": "1.5.0",
      "model_name": "HBoxModel",
      "state": {
       "children": [
        "IPY_MODEL_178740e7e4ae43f39b50d29bb94e261c",
        "IPY_MODEL_503fe611b5e549889f3b2971df73d861"
       ],
       "layout": "IPY_MODEL_60c0d84cfc844db8b3910ca91c3bfa59"
      }
     },
     "5348f77afc4d40cc80c1c5d40f57f6e0": {
      "model_module": "@jupyter-widgets/base",
      "model_module_version": "1.2.0",
      "model_name": "LayoutModel",
      "state": {}
     },
     "534ba064879540df8ad8af88255cbaf6": {
      "model_module": "@jupyter-widgets/controls",
      "model_module_version": "1.5.0",
      "model_name": "HBoxModel",
      "state": {
       "children": [
        "IPY_MODEL_ffce951eb0c147b587f0ee0993ba20a5"
       ],
       "layout": "IPY_MODEL_024c72a24164495194dcbbf18139f8e9"
      }
     },
     "540c5846076a4123ae7ec77417a20901": {
      "model_module": "@jupyter-widgets/controls",
      "model_module_version": "1.5.0",
      "model_name": "SliderStyleModel",
      "state": {
       "description_width": ""
      }
     },
     "542ee6290553468eb91498cdd6f9f39a": {
      "model_module": "@jupyter-widgets/base",
      "model_module_version": "1.2.0",
      "model_name": "LayoutModel",
      "state": {
       "margin": "20px 0px"
      }
     },
     "548750c41a8b4645aec8f266d95cfa9d": {
      "model_module": "@jupyter-widgets/base",
      "model_module_version": "1.2.0",
      "model_name": "LayoutModel",
      "state": {}
     },
     "54c4973b90f94932aeabeb3a9059e852": {
      "model_module": "@jupyter-widgets/base",
      "model_module_version": "1.2.0",
      "model_name": "LayoutModel",
      "state": {}
     },
     "54f44e9bbbf2429686ce394e1eaf2e9d": {
      "model_module": "@jupyter-widgets/base",
      "model_module_version": "1.2.0",
      "model_name": "LayoutModel",
      "state": {}
     },
     "55322a282bca406cb7a13d8a9a782c3b": {
      "model_module": "@jupyter-widgets/base",
      "model_module_version": "1.2.0",
      "model_name": "LayoutModel",
      "state": {
       "flex_flow": "row wrap",
       "margin": "20px"
      }
     },
     "55b2078a65d542b88158f8393cc00493": {
      "model_module": "@jupyter-widgets/base",
      "model_module_version": "1.2.0",
      "model_name": "LayoutModel",
      "state": {}
     },
     "55dc9406b2f04171a6c4763acae52e57": {
      "model_module": "@jupyter-widgets/controls",
      "model_module_version": "1.5.0",
      "model_name": "HBoxModel",
      "state": {
       "children": [
        "IPY_MODEL_3003ed9aba154dcc9668273ea02572ba",
        "IPY_MODEL_b8108080f5de4e5f84c9da7c76fe8c64"
       ],
       "layout": "IPY_MODEL_1f227737e368428f9900f64130b167b4"
      }
     },
     "55f218faa4ab4f48bf6417692213c010": {
      "model_module": "@jupyter-widgets/controls",
      "model_module_version": "1.5.0",
      "model_name": "TextModel",
      "state": {
       "continuous_update": false,
       "description": "name",
       "layout": "IPY_MODEL_e12548967534443aad0b7ad188a79ee6",
       "style": "IPY_MODEL_590bfeb633a5425cb8e51c468eecb4dd",
       "value": "branchpath"
      }
     },
     "55ff27dafa4b40d2b14135bbe4e602ef": {
      "model_module": "@jupyter-widgets/controls",
      "model_module_version": "1.5.0",
      "model_name": "FloatSliderModel",
      "state": {
       "description": "shininess",
       "layout": "IPY_MODEL_2c19d18874164d738c604222c119d293",
       "max": 1,
       "step": 0.1,
       "style": "IPY_MODEL_881c8c4d819e40dd923842d08a9ecddf"
      }
     },
     "5610085f4a974cae8eac82f50d76bd1f": {
      "model_module": "@jupyter-widgets/base",
      "model_module_version": "1.2.0",
      "model_name": "LayoutModel",
      "state": {}
     },
     "56793cab2b5c456497d882a4efb8ec56": {
      "model_module": "@jupyter-widgets/controls",
      "model_module_version": "1.5.0",
      "model_name": "DescriptionStyleModel",
      "state": {
       "description_width": ""
      }
     },
     "56919de6de5249b48043622c47552ae0": {
      "model_module": "@jupyter-widgets/base",
      "model_module_version": "1.2.0",
      "model_name": "LayoutModel",
      "state": {}
     },
     "56a5a5dcca974fd0b4827a0b7f28a112": {
      "model_module": "@jupyter-widgets/controls",
      "model_module_version": "1.5.0",
      "model_name": "HBoxModel",
      "state": {
       "children": [
        "IPY_MODEL_860676653ccc49a88dec9aee20e79d9e"
       ],
       "layout": "IPY_MODEL_b6fce056d2934ddcbe8c957f2f86c674"
      }
     },
     "57aca0ed77114602bdccdf32ec586e40": {
      "model_module": "@jupyter-widgets/base",
      "model_module_version": "1.2.0",
      "model_name": "LayoutModel",
      "state": {
       "margin": "20px 0px"
      }
     },
     "57fd253c5d1d4f50a4a13c4cb79c737c": {
      "model_module": "@jupyter-widgets/controls",
      "model_module_version": "1.5.0",
      "model_name": "HBoxModel",
      "state": {
       "layout": "IPY_MODEL_024c72a24164495194dcbbf18139f8e9"
      }
     },
     "580e1f2c70bf4a16be1ffa5ee003d2bd": {
      "model_module": "@jupyter-widgets/controls",
      "model_module_version": "1.5.0",
      "model_name": "DescriptionStyleModel",
      "state": {
       "description_width": ""
      }
     },
     "587325cac70a438aa4c2ee917ca0f290": {
      "model_module": "@jupyter-widgets/controls",
      "model_module_version": "1.5.0",
      "model_name": "HBoxModel",
      "state": {
       "children": [
        "IPY_MODEL_5c5ca3d78f5a4fec9b7f30f376155926",
        "IPY_MODEL_3eaca06c6177414486e6b2d9a3afb016",
        "IPY_MODEL_79df85a72a8c4698b219169b358934a9"
       ],
       "layout": "IPY_MODEL_b1ec2fa1aaa847cd8a7040d9505ae305"
      }
     },
     "587763e4982f4bd59d595d2410de393a": {
      "model_module": "@jupyter-widgets/base",
      "model_module_version": "1.2.0",
      "model_name": "LayoutModel",
      "state": {}
     },
     "5885320b6a574ad7a126566037c149e8": {
      "model_module": "@jupyter-widgets/base",
      "model_module_version": "1.2.0",
      "model_name": "LayoutModel",
      "state": {}
     },
     "58efdc9d09b746688e5c5baa60482a1c": {
      "model_module": "@jupyter-widgets/base",
      "model_module_version": "1.2.0",
      "model_name": "LayoutModel",
      "state": {}
     },
     "590bfeb633a5425cb8e51c468eecb4dd": {
      "model_module": "@jupyter-widgets/controls",
      "model_module_version": "1.5.0",
      "model_name": "DescriptionStyleModel",
      "state": {
       "description_width": ""
      }
     },
     "592e5abdc84340649dc84bc7a9030765": {
      "model_module": "@jupyter-widgets/base",
      "model_module_version": "1.2.0",
      "model_name": "LayoutModel",
      "state": {}
     },
     "59448ecda9594e22b9266bdc1d01090e": {
      "model_module": "@jupyter-widgets/controls",
      "model_module_version": "1.5.0",
      "model_name": "ButtonStyleModel",
      "state": {}
     },
     "59781e911c134cb2b33bf69270976f5d": {
      "model_module": "@jupyter-widgets/controls",
      "model_module_version": "1.5.0",
      "model_name": "HBoxModel",
      "state": {
       "children": [
        "IPY_MODEL_49ab4c170bb04e10a5eb940f1cc0fcf5",
        "IPY_MODEL_edfa0a57f94941209db4799cdf30065c",
        "IPY_MODEL_aae9c03dec874de5b8352716964a3a7e"
       ],
       "layout": "IPY_MODEL_05b61fd9c17b484cb8faf848078864fa"
      }
     },
     "59a795311f964750a8518f3a3fe63778": {
      "model_module": "@jupyter-widgets/base",
      "model_module_version": "1.2.0",
      "model_name": "LayoutModel",
      "state": {}
     },
     "59ba8561573744e6a5bab16caa2d654f": {
      "model_module": "@jupyter-widgets/controls",
      "model_module_version": "1.5.0",
      "model_name": "CheckboxModel",
      "state": {
       "description": "value",
       "disabled": false,
       "layout": "IPY_MODEL_44eb4d4a8eb74e1c9c9535474f7f95b6",
       "style": "IPY_MODEL_fe4b7d0e75864384bd80fca15849ada9",
       "value": false
      }
     },
     "59e823c1f23742cf98cd0fc363c1842c": {
      "model_module": "@jupyter-widgets/controls",
      "model_module_version": "1.5.0",
      "model_name": "IntSliderModel",
      "state": {
       "description": "value",
       "layout": "IPY_MODEL_bdf51607d14a41d5b84720aea763a34d",
       "max": 5,
       "style": "IPY_MODEL_6e5eb0e5534f4f28a476d8db10ea2a66",
       "value": 5
      }
     },
     "5a5da1555842423b88d1cc334070dc64": {
      "model_module": "@jupyter-widgets/controls",
      "model_module_version": "1.5.0",
      "model_name": "DescriptionStyleModel",
      "state": {
       "description_width": ""
      }
     },
     "5accf9bb8a2c4e5aa3c2517e02e44bdc": {
      "model_module": "pgljupyter",
      "model_module_version": "^0.1.17",
      "model_name": "FloatEditorModel",
      "state": {
       "_model_module_version": "^0.1.17",
       "_view_module_version": "^0.1.17",
       "children": [
        "IPY_MODEL_7a767cc805e64968bbe51df38765f575",
        "IPY_MODEL_24c8ec9cb33e447f9ef60eca44f31c47"
       ],
       "layout": "IPY_MODEL_eaf78bfcf3ec402d8a76c12fec8f9078"
      }
     },
     "5ace31537c3f4f749acd9431626864c1": {
      "model_module": "@jupyter-widgets/controls",
      "model_module_version": "1.5.0",
      "model_name": "DropdownModel",
      "state": {
       "_options_labels": [
        "Integer",
        "Float",
        "Bool"
       ],
       "index": 0,
       "layout": "IPY_MODEL_4f9de0f6161647a097f06f470d1fd154",
       "style": "IPY_MODEL_66e30a2108e14b8091784ca10def87e8"
      }
     },
     "5b032bc447a24a66a321afdc8a8395f2": {
      "model_module": "@jupyter-widgets/controls",
      "model_module_version": "1.5.0",
      "model_name": "HBoxModel",
      "state": {
       "children": [
        "IPY_MODEL_3f2732fd5d8b4ab19d9bbe24e932cf2b",
        "IPY_MODEL_a8be886548624e06a2456373f892bb5d"
       ],
       "layout": "IPY_MODEL_1fbc1b77b2594c068aab84f5d6c5c7cf"
      }
     },
     "5b847079e17148b8858e44510e240024": {
      "model_module": "@jupyter-widgets/controls",
      "model_module_version": "1.5.0",
      "model_name": "TabModel",
      "state": {
       "_titles": {
        "0": "parameter_edition.json"
       },
       "children": [
        "IPY_MODEL_3439a1c9eb86443f9bbd3ce1a07f1666"
       ],
       "layout": "IPY_MODEL_ee578063c7464304b806551a0efb9a35"
      }
     },
     "5b92352c6823413baa6a50340aa178ca": {
      "model_module": "@jupyter-widgets/base",
      "model_module_version": "1.2.0",
      "model_name": "LayoutModel",
      "state": {}
     },
     "5bf373b9b7724c39acdaa87be8877a8b": {
      "model_module": "@jupyter-widgets/controls",
      "model_module_version": "1.5.0",
      "model_name": "ButtonStyleModel",
      "state": {}
     },
     "5c48bff5a0c44bf282d8dc15f89b51c7": {
      "model_module": "@jupyter-widgets/base",
      "model_module_version": "1.2.0",
      "model_name": "LayoutModel",
      "state": {}
     },
     "5c5ca3d78f5a4fec9b7f30f376155926": {
      "model_module": "@jupyter-widgets/controls",
      "model_module_version": "1.5.0",
      "model_name": "HBoxModel",
      "state": {
       "children": [
        "IPY_MODEL_9c44e538db2e4774ad2324b1b3de55f3",
        "IPY_MODEL_ead7b6df1fb2458c98ec530bf3603f11"
       ],
       "layout": "IPY_MODEL_1cdc6e1013814157a492ee261aef8902"
      }
     },
     "5c678a0143b748ce96596650efab65e3": {
      "model_module": "@jupyter-widgets/base",
      "model_module_version": "1.2.0",
      "model_name": "LayoutModel",
      "state": {}
     },
     "5c77356aa16d408199842c337bd3a35b": {
      "model_module": "@jupyter-widgets/controls",
      "model_module_version": "1.5.0",
      "model_name": "HBoxModel",
      "state": {
       "children": [
        "IPY_MODEL_f6b855cf3fac4e9f9eed4a4918b35a76",
        "IPY_MODEL_92d3e1a73dbf474cb234abd0c8c91e06"
       ],
       "layout": "IPY_MODEL_f3e5cd2469644286a3293ea347619dc8"
      }
     },
     "5cbef2a458fe47e380f8a8e8be3e6518": {
      "model_module": "@jupyter-widgets/controls",
      "model_module_version": "1.5.0",
      "model_name": "ButtonStyleModel",
      "state": {}
     },
     "5cec734e771a4b9a83166260a85f0831": {
      "model_module": "@jupyter-widgets/base",
      "model_module_version": "1.2.0",
      "model_name": "LayoutModel",
      "state": {}
     },
     "5d4cd1c3c93b41058ecc157dfcee6618": {
      "model_module": "@jupyter-widgets/controls",
      "model_module_version": "1.5.0",
      "model_name": "ButtonModel",
      "state": {
       "description": "Add category",
       "layout": "IPY_MODEL_f037d4fa13df4e7094cb44e429f55697",
       "style": "IPY_MODEL_f1d8007e7a1b431aa93c8f89aa85c8a0"
      }
     },
     "5d4e259c6b04494eb49e871699d9d3ef": {
      "model_module": "@jupyter-widgets/controls",
      "model_module_version": "1.5.0",
      "model_name": "DescriptionStyleModel",
      "state": {
       "description_width": ""
      }
     },
     "5db75fde2a3d4825b0b6afcf6ed791f9": {
      "model_module": "@jupyter-widgets/controls",
      "model_module_version": "1.5.0",
      "model_name": "HBoxModel",
      "state": {
       "children": [
        "IPY_MODEL_f0bf7e998edc484bb4ba9e72652e768f",
        "IPY_MODEL_00fadcd8b6864d4fab1955bf1b3c1446"
       ],
       "layout": "IPY_MODEL_7e2e3fe2cfc84d23bb53f111f377e33d"
      }
     },
     "5dd9bc34815a471badce2609b2777f23": {
      "model_module": "pgljupyter",
      "model_module_version": "^0.1.17",
      "model_name": "LsystemWidgetModel",
      "state": {
       "_model_module_version": "^0.1.17",
       "_view_module_version": "^0.1.17",
       "axes_helper": false,
       "derivationLength": 75,
       "layout": "IPY_MODEL_e1d360db51c74a778b34d40fd4ebdd5b",
       "light_helper": false,
       "plane": true,
       "size_display": [
        400,
        400
       ],
       "size_world": 2
      }
     },
     "5e6f3a041eaa446790d8e5996ff8a5f9": {
      "model_module": "@jupyter-widgets/controls",
      "model_module_version": "1.5.0",
      "model_name": "ButtonModel",
      "state": {
       "description": "Save changes",
       "layout": "IPY_MODEL_b8191fb51c2f46639afcbf46f15b8396",
       "style": "IPY_MODEL_e922863eb8174827881aa561505a32e4"
      }
     },
     "5ebc965297fd45f99476a8b7e52ba29f": {
      "model_module": "@jupyter-widgets/controls",
      "model_module_version": "1.5.0",
      "model_name": "DescriptionStyleModel",
      "state": {
       "description_width": ""
      }
     },
     "5f2fb09c983f4efd91fe4c1e38f674b9": {
      "model_module": "pgljupyter",
      "model_module_version": "^0.1.17",
      "model_name": "IntEditorModel",
      "state": {
       "_model_module_version": "^0.1.17",
       "_view_module_version": "^0.1.17",
       "children": [
        "IPY_MODEL_fa5ebe1a4fbd40208c2d059870ec1319",
        "IPY_MODEL_e8dd821ae7584513b0cb5248cba74879"
       ],
       "layout": "IPY_MODEL_a3eb4603f3804f2faca53740d3e1af7f"
      }
     },
     "5f53b4498056440480e6fd810de7129c": {
      "model_module": "@jupyter-widgets/controls",
      "model_module_version": "1.5.0",
      "model_name": "DescriptionStyleModel",
      "state": {
       "description_width": ""
      }
     },
     "5f8edc76ff2f4809914951707ec5412f": {
      "model_module": "@jupyter-widgets/controls",
      "model_module_version": "1.5.0",
      "model_name": "HBoxModel",
      "state": {
       "layout": "IPY_MODEL_1f227737e368428f9900f64130b167b4"
      }
     },
     "5f9313435682479faddee3354595e6df": {
      "model_module": "@jupyter-widgets/controls",
      "model_module_version": "1.5.0",
      "model_name": "HBoxModel",
      "state": {
       "children": [
        "IPY_MODEL_253ed5b4596b44bdbd88e4df1d54300b",
        "IPY_MODEL_a78b10b1b54c47f18c7f20b963afd1dd"
       ],
       "layout": "IPY_MODEL_f3e5cd2469644286a3293ea347619dc8"
      }
     },
     "5ff29dc6acd842d1a07cb190cb8f717c": {
      "model_module": "@jupyter-widgets/controls",
      "model_module_version": "1.5.0",
      "model_name": "HBoxModel",
      "state": {
       "children": [
        "IPY_MODEL_0f4b255b1cbf45cdbec802341ab58264"
       ],
       "layout": "IPY_MODEL_79d485d514a6472d80c23af8bc94d914"
      }
     },
     "6016f05df9384c079772608f64b66cc9": {
      "model_module": "@jupyter-widgets/controls",
      "model_module_version": "1.5.0",
      "model_name": "FloatSliderModel",
      "state": {
       "description": "diffuse",
       "layout": "IPY_MODEL_c479e2b58d2e4afcae724db58bf47b4a",
       "max": 3,
       "step": 0.1,
       "style": "IPY_MODEL_d86b640d894f4d1e81d9b7f1b419fa7d",
       "value": 1
      }
     },
     "6061934b524140edb34889b312b8aab7": {
      "model_module": "@jupyter-widgets/controls",
      "model_module_version": "1.5.0",
      "model_name": "SliderStyleModel",
      "state": {
       "description_width": ""
      }
     },
     "60756bdad3764f548fdd1fd1b3cb98f4": {
      "model_module": "@jupyter-widgets/controls",
      "model_module_version": "1.5.0",
      "model_name": "HBoxModel",
      "state": {
       "children": [
        "IPY_MODEL_9b797a4c7f324387ba95b428053a78ad",
        "IPY_MODEL_d57b25fe7c9046fa9d546984d11c156f"
       ],
       "layout": "IPY_MODEL_b6876b3f45ad424881f720bf85ef6ab3"
      }
     },
     "60c0d84cfc844db8b3910ca91c3bfa59": {
      "model_module": "@jupyter-widgets/base",
      "model_module_version": "1.2.0",
      "model_name": "LayoutModel",
      "state": {}
     },
     "60c3de6474694288a6abd834b89580ff": {
      "model_module": "pgljupyter",
      "model_module_version": "^0.1.17",
      "model_name": "IntEditorModel",
      "state": {
       "_model_module_version": "^0.1.17",
       "_view_module_version": "^0.1.17",
       "children": [
        "IPY_MODEL_704682c93acc499ab91b620b2fc2d984",
        "IPY_MODEL_59e823c1f23742cf98cd0fc363c1842c"
       ],
       "layout": "IPY_MODEL_3d66564e686641d3887235cc6c364d79"
      }
     },
     "6114f73de93e4695980bd14fdc9eafc1": {
      "model_module": "@jupyter-widgets/base",
      "model_module_version": "1.2.0",
      "model_name": "LayoutModel",
      "state": {}
     },
     "61518274bf6942a0b89bfdea500baf47": {
      "model_module": "@jupyter-widgets/base",
      "model_module_version": "1.2.0",
      "model_name": "LayoutModel",
      "state": {}
     },
     "6188fa5a9f7a47ddaa3a542ba31f9241": {
      "model_module": "@jupyter-widgets/controls",
      "model_module_version": "1.5.0",
      "model_name": "ColorPickerModel",
      "state": {
       "description": "specular",
       "disabled": false,
       "layout": "IPY_MODEL_dbbbb21517cc44eca347adcdae36e858",
       "style": "IPY_MODEL_8846188e3ca84dce80dc4ef8fe0e476f",
       "value": "#000000"
      }
     },
     "62790608b4754ce58f17675e77352895": {
      "model_module": "@jupyter-widgets/controls",
      "model_module_version": "1.5.0",
      "model_name": "DescriptionStyleModel",
      "state": {
       "description_width": ""
      }
     },
     "627bb85f3a46493599c23a6facdc92c3": {
      "model_module": "@jupyter-widgets/base",
      "model_module_version": "1.2.0",
      "model_name": "LayoutModel",
      "state": {}
     },
     "62c484153add4dc1995260929630516f": {
      "model_module": "@jupyter-widgets/base",
      "model_module_version": "1.2.0",
      "model_name": "LayoutModel",
      "state": {}
     },
     "635676fbdaa842189c2d896f7e47e3e8": {
      "model_module": "@jupyter-widgets/base",
      "model_module_version": "1.2.0",
      "model_name": "LayoutModel",
      "state": {}
     },
     "63c1d8b4caa74f009e40043cd161a116": {
      "model_module": "@jupyter-widgets/base",
      "model_module_version": "1.2.0",
      "model_name": "LayoutModel",
      "state": {}
     },
     "63e79f6d95fc422bbc4a533e71fb34b4": {
      "model_module": "pgljupyter",
      "model_module_version": "^0.1.17",
      "model_name": "IntEditorModel",
      "state": {
       "_model_module_version": "^0.1.17",
       "_view_module_version": "^0.1.17",
       "children": [
        "IPY_MODEL_2a45ed99cf7a401db53f527b6c4354c7",
        "IPY_MODEL_4ecf759a54dd4b1fb00f50d7ae2653ab"
       ],
       "layout": "IPY_MODEL_3af53c809371477f9973968942dcbba3"
      }
     },
     "63edfb14024f4d9ea2c82a2e18d85d10": {
      "model_module": "@jupyter-widgets/controls",
      "model_module_version": "1.5.0",
      "model_name": "VBoxModel",
      "state": {
       "children": [
        "IPY_MODEL_0bdcc095dcc84dda83fbf3cd58a008e1",
        "IPY_MODEL_4cdaa3e8f50e42a0a13ed095c902ccce"
       ],
       "layout": "IPY_MODEL_07b2d8904cae45c58714df7337df8797"
      }
     },
     "643aea83af4d425cbe244d7f66b7bc5b": {
      "model_module": "@jupyter-widgets/controls",
      "model_module_version": "1.5.0",
      "model_name": "AccordionModel",
      "state": {
       "_titles": {
        "0": "options",
        "1": "materials"
       },
       "children": [
        "IPY_MODEL_b295320d8c5a47c694be47f7f9889dcf",
        "IPY_MODEL_844e120696e0440fb657d23315eefce4"
       ],
       "layout": "IPY_MODEL_504a2aabca5f4a388f36be0941c70c0a"
      }
     },
     "645a50068ca944aba6a4b830474b1053": {
      "model_module": "@jupyter-widgets/controls",
      "model_module_version": "1.5.0",
      "model_name": "ButtonStyleModel",
      "state": {}
     },
     "64a6cda16e744e34be1c8cbaabf4a98f": {
      "model_module": "@jupyter-widgets/base",
      "model_module_version": "1.2.0",
      "model_name": "LayoutModel",
      "state": {}
     },
     "64ca4c10a65d408fa26ece88ed4a1c8c": {
      "model_module": "@jupyter-widgets/controls",
      "model_module_version": "1.5.0",
      "model_name": "FloatSliderModel",
      "state": {
       "description": "value",
       "layout": "IPY_MODEL_1ad4cb9b913d4576b41a7d5ce7ad21ef",
       "max": 3,
       "step": 0.001,
       "style": "IPY_MODEL_3434aaa150f0403a8cf47bec3fe0fd70",
       "value": 0.03
      }
     },
     "64dbaa410b4b4b27a05d8e6ab68190c6": {
      "model_module": "pgljupyter",
      "model_module_version": "^0.1.17",
      "model_name": "LsystemWidgetModel",
      "state": {
       "_model_module_version": "^0.1.17",
       "_view_module_version": "^0.1.17",
       "axes_helper": false,
       "derivationLength": 75,
       "layout": "IPY_MODEL_766fb43106af40a2b7f33a84a40cd964",
       "light_helper": false,
       "plane": true,
       "size_display": [
        400,
        400
       ],
       "size_world": 5,
       "unit": 1
      }
     },
     "657bae85a007424db5e6300c266eb268": {
      "model_module": "@jupyter-widgets/controls",
      "model_module_version": "1.5.0",
      "model_name": "BoundedIntTextModel",
      "state": {
       "description": "index",
       "layout": "IPY_MODEL_f06c388e79cb4f4c9a4d46872f93b76c",
       "style": "IPY_MODEL_895533d41c4846a7b49bee1a089990b6",
       "value": 1
      }
     },
     "65977583b4764f248e8a5e95e63d1089": {
      "model_module": "@jupyter-widgets/controls",
      "model_module_version": "1.5.0",
      "model_name": "ButtonModel",
      "state": {
       "description": "Add",
       "layout": "IPY_MODEL_c17fab3d8692412c87533e92b5982547",
       "style": "IPY_MODEL_02e041bfae0e4491b744c938e0a07cbe"
      }
     },
     "65cf659842e54414bf0acf74b1179870": {
      "model_module": "@jupyter-widgets/base",
      "model_module_version": "1.2.0",
      "model_name": "LayoutModel",
      "state": {}
     },
     "65d7b07d001149adaf235845e3815443": {
      "model_module": "@jupyter-widgets/controls",
      "model_module_version": "1.5.0",
      "model_name": "SliderStyleModel",
      "state": {
       "description_width": ""
      }
     },
     "66e30a2108e14b8091784ca10def87e8": {
      "model_module": "@jupyter-widgets/controls",
      "model_module_version": "1.5.0",
      "model_name": "DescriptionStyleModel",
      "state": {
       "description_width": ""
      }
     },
     "679b7870e0ba4bd5bd8f7c985fc1bcd9": {
      "model_module": "@jupyter-widgets/controls",
      "model_module_version": "1.5.0",
      "model_name": "ButtonModel",
      "state": {
       "description": "Delete",
       "layout": "IPY_MODEL_add4b2af7f1d4382b154bc4e691df3da",
       "style": "IPY_MODEL_a6c650c2acbb460eb65dca7ce638c093"
      }
     },
     "67b4ce796ba24c7f985d680abe38c304": {
      "model_module": "@jupyter-widgets/controls",
      "model_module_version": "1.5.0",
      "model_name": "HBoxModel",
      "state": {
       "children": [
        "IPY_MODEL_4fa434a32b5e46cf8c59adb8aa78d9e1",
        "IPY_MODEL_71f9c5f78bbd4e348f237ee0b87b9530"
       ],
       "layout": "IPY_MODEL_0272591664fb4f6ca8d622deab16640f"
      }
     },
     "67d5daf67a5d4e86ab91393fca95c46b": {
      "model_module": "@jupyter-widgets/base",
      "model_module_version": "1.2.0",
      "model_name": "LayoutModel",
      "state": {}
     },
     "6838805b03a2482d8c427494546084e6": {
      "model_module": "@jupyter-widgets/controls",
      "model_module_version": "1.5.0",
      "model_name": "HBoxModel",
      "state": {
       "children": [
        "IPY_MODEL_ccc94ca8d35f496b8dd4b0b251d52af9"
       ],
       "layout": "IPY_MODEL_1f227737e368428f9900f64130b167b4"
      }
     },
     "683bf50c95004a248509e6b64e241293": {
      "model_module": "@jupyter-widgets/base",
      "model_module_version": "1.2.0",
      "model_name": "LayoutModel",
      "state": {}
     },
     "6880e41cd2214a698e065871c667bba3": {
      "model_module": "@jupyter-widgets/controls",
      "model_module_version": "1.5.0",
      "model_name": "CheckboxModel",
      "state": {
       "description": "Auto save",
       "disabled": false,
       "layout": "IPY_MODEL_72093cc444fe481c9d6734658341fd0d",
       "style": "IPY_MODEL_d95778e6591b43b98342f22184a98ab7",
       "value": false
      }
     },
     "689a7b67d5cb4f49b7a1b37b10be15df": {
      "model_module": "@jupyter-widgets/base",
      "model_module_version": "1.2.0",
      "model_name": "LayoutModel",
      "state": {}
     },
     "68a96951dd154e6f872558f0f5cf97b0": {
      "model_module": "@jupyter-widgets/controls",
      "model_module_version": "1.5.0",
      "model_name": "DescriptionStyleModel",
      "state": {
       "description_width": ""
      }
     },
     "68ad073365ea4c48a4587a43fea93380": {
      "model_module": "pgljupyter",
      "model_module_version": "^0.1.17",
      "model_name": "_CurveEditorModel",
      "state": {
       "_model_module_version": "^0.1.17",
       "_view_module_version": "^0.1.17",
       "layout": "IPY_MODEL_0ade356788f34576af8213c34b39b047",
       "points": [
        [
         -0.558642,
         0.0459491
        ],
        [
         -0.272827,
         -0.068981
        ],
        [
         -0.0295213,
         -0.153395
        ],
        [
         0.147239,
         -0.0700503
        ],
        [
         0.412901,
         0.0201295
        ],
        [
         0.575777,
         0.232735
        ]
       ],
       "type": "NurbsCurve2D"
      }
     },
     "68d4b49cff3e489d8edc3b7f6fd35e55": {
      "model_module": "@jupyter-widgets/controls",
      "model_module_version": "1.5.0",
      "model_name": "DropdownModel",
      "state": {
       "_options_labels": [
        "Integer",
        "Float",
        "Bool"
       ],
       "index": 0,
       "layout": "IPY_MODEL_79fe75926cd8491aa0b3062386471fb2",
       "style": "IPY_MODEL_50e22728bb544907be9040ea0da3e612"
      }
     },
     "68dc3e597e5f405a96cf0e45e2fe41c2": {
      "model_module": "@jupyter-widgets/base",
      "model_module_version": "1.2.0",
      "model_name": "LayoutModel",
      "state": {
       "margin": "20px 0px"
      }
     },
     "6939d3dcccfd4218b5d794a8457b6abf": {
      "model_module": "@jupyter-widgets/controls",
      "model_module_version": "1.5.0",
      "model_name": "FloatSliderModel",
      "state": {
       "description": "transparency",
       "layout": "IPY_MODEL_df391fcd21b149be9a0f572a6c46639f",
       "max": 1,
       "step": 0.1,
       "style": "IPY_MODEL_044facacc5424440a5e991e54983a4a5"
      }
     },
     "699b2247241446eb910e0292ccb8b7da": {
      "model_module": "@jupyter-widgets/base",
      "model_module_version": "1.2.0",
      "model_name": "LayoutModel",
      "state": {}
     },
     "69ba879e868a485981eae3e5cf1ef38b": {
      "model_module": "@jupyter-widgets/base",
      "model_module_version": "1.2.0",
      "model_name": "LayoutModel",
      "state": {}
     },
     "6a1973f4f24a4067823d9d847baedaa6": {
      "model_module": "@jupyter-widgets/controls",
      "model_module_version": "1.5.0",
      "model_name": "HBoxModel",
      "state": {
       "children": [
        "IPY_MODEL_d12c41ea234d4d9fb2707f76921a1317",
        "IPY_MODEL_35e270e9442b4619a4fd1a1e4854da47"
       ],
       "layout": "IPY_MODEL_eef35a96c54148c1a1d183ab320bf8fe"
      }
     },
     "6a5d928201e94b10b878e0c1ae2bc1bc": {
      "model_module": "@jupyter-widgets/controls",
      "model_module_version": "1.5.0",
      "model_name": "HBoxModel",
      "state": {
       "children": [
        "IPY_MODEL_f59b917c29fa462ba8421bf5b03a1ab1",
        "IPY_MODEL_89b8ff78d144429e9aebcd5a0bb2d4ce"
       ],
       "layout": "IPY_MODEL_b4ee905ce512418daf49f7ec0784844c"
      }
     },
     "6b0361d299c34315bb71f56bc20cf1f2": {
      "model_module": "@jupyter-widgets/controls",
      "model_module_version": "1.5.0",
      "model_name": "DescriptionStyleModel",
      "state": {
       "description_width": ""
      }
     },
     "6b0a3b872fd7409d9698058e02dfe997": {
      "model_module": "@jupyter-widgets/base",
      "model_module_version": "1.2.0",
      "model_name": "LayoutModel",
      "state": {}
     },
     "6b3d872ceca74d44950cf6cda5406c76": {
      "model_module": "pgljupyter",
      "model_module_version": "^0.1.17",
      "model_name": "IntEditorModel",
      "state": {
       "_model_module_version": "^0.1.17",
       "_view_module_version": "^0.1.17",
       "children": [
        "IPY_MODEL_9c2a0a6750964416b2afffd8a797b6e0",
        "IPY_MODEL_830dea073d274978b8982b4df3d62ac1"
       ],
       "layout": "IPY_MODEL_b5faa9c4ab2a4bcfbf2aa0b93007eb45"
      }
     },
     "6bb91a2ccd004a46bd3b7f3a60f26a93": {
      "model_module": "@jupyter-widgets/base",
      "model_module_version": "1.2.0",
      "model_name": "LayoutModel",
      "state": {}
     },
     "6bbc018466a8424992912658a1783ec9": {
      "model_module": "@jupyter-widgets/controls",
      "model_module_version": "1.5.0",
      "model_name": "DropdownModel",
      "state": {
       "index": null,
       "layout": "IPY_MODEL_55b2078a65d542b88158f8393cc00493",
       "style": "IPY_MODEL_8d7658eabfe04017833cfdcb270adfc2"
      }
     },
     "6bcc3ab915c24933831674c2fef48933": {
      "model_module": "@jupyter-widgets/controls",
      "model_module_version": "1.5.0",
      "model_name": "DescriptionStyleModel",
      "state": {
       "description_width": ""
      }
     },
     "6c5dea28b43243e0adc87e8cd1ce225a": {
      "model_module": "@jupyter-widgets/controls",
      "model_module_version": "1.5.0",
      "model_name": "TabModel",
      "state": {
       "_titles": {
        "0": "parameter_edition.json"
       },
       "children": [
        "IPY_MODEL_643aea83af4d425cbe244d7f66b7bc5b"
       ],
       "layout": "IPY_MODEL_ea5edbc3b83e455b87392fa32e145f9e"
      }
     },
     "6c996669d273456c92faa39c87840c96": {
      "model_module": "@jupyter-widgets/controls",
      "model_module_version": "1.5.0",
      "model_name": "TextModel",
      "state": {
       "continuous_update": false,
       "description": "name",
       "layout": "IPY_MODEL_8f45fd9399314d90852c7551e6474e52",
       "style": "IPY_MODEL_8f0ee92f6c224876ad928391f42463df",
       "value": "TROPISM"
      }
     },
     "6cb5507cbd64418094008b87c9f57df5": {
      "model_module": "@jupyter-widgets/base",
      "model_module_version": "1.2.0",
      "model_name": "LayoutModel",
      "state": {}
     },
     "6cbabcfe6aa448ab93500dab33f3e795": {
      "model_module": "@jupyter-widgets/base",
      "model_module_version": "1.2.0",
      "model_name": "LayoutModel",
      "state": {}
     },
     "6cd1375dc165416abb965ad8255a88f1": {
      "model_module": "@jupyter-widgets/controls",
      "model_module_version": "1.5.0",
      "model_name": "HBoxModel",
      "state": {
       "children": [
        "IPY_MODEL_b8b410777c83406aa65beef59a8b777a",
        "IPY_MODEL_6a5d928201e94b10b878e0c1ae2bc1bc"
       ],
       "layout": "IPY_MODEL_ce2fc0b0b49147a3ab3ea6b2b9c400c3"
      }
     },
     "6d01448493f4453ebbc6890a7d910263": {
      "model_module": "@jupyter-widgets/controls",
      "model_module_version": "1.5.0",
      "model_name": "DescriptionStyleModel",
      "state": {
       "description_width": ""
      }
     },
     "6d1df018f6bb448c8cc7347b3fbe86b0": {
      "model_module": "@jupyter-widgets/controls",
      "model_module_version": "1.5.0",
      "model_name": "DescriptionStyleModel",
      "state": {
       "description_width": ""
      }
     },
     "6dd0ebed9c6e4de2895bf6c94e810581": {
      "model_module": "@jupyter-widgets/controls",
      "model_module_version": "1.5.0",
      "model_name": "HBoxModel",
      "state": {
       "children": [
        "IPY_MODEL_bbb56269e09e46fe9c0a24578877ee8e",
        "IPY_MODEL_67b4ce796ba24c7f985d680abe38c304"
       ],
       "layout": "IPY_MODEL_52f3e2d0e22142d7ae4367f738f57576"
      }
     },
     "6e4abd3d5a3749959d2e9596e367cb73": {
      "model_module": "@jupyter-widgets/controls",
      "model_module_version": "1.5.0",
      "model_name": "SliderStyleModel",
      "state": {
       "description_width": ""
      }
     },
     "6e5eb0e5534f4f28a476d8db10ea2a66": {
      "model_module": "@jupyter-widgets/controls",
      "model_module_version": "1.5.0",
      "model_name": "SliderStyleModel",
      "state": {
       "description_width": ""
      }
     },
     "6e73e1d4b89b487f8e11371aee8cfedc": {
      "model_module": "@jupyter-widgets/controls",
      "model_module_version": "1.5.0",
      "model_name": "HBoxModel",
      "state": {
       "children": [
        "IPY_MODEL_039dea95c78441cfa04cfa7c8f6c7df9",
        "IPY_MODEL_a6b8f7cb2d014531bbf48c6d2e31aad3",
        "IPY_MODEL_41b5b5b46e074dd0a34ed82352d41e2f"
       ],
       "layout": "IPY_MODEL_b6fce056d2934ddcbe8c957f2f86c674"
      }
     },
     "6e79c32d2e9b4ebd99385eb1a78a6ee7": {
      "model_module": "@jupyter-widgets/controls",
      "model_module_version": "1.5.0",
      "model_name": "FloatSliderModel",
      "state": {
       "description": "transparency",
       "layout": "IPY_MODEL_1e7d8233e2a24ba99c1e21de77115ebd",
       "max": 1,
       "step": 0.1,
       "style": "IPY_MODEL_1ce028a362a94332a6361d22369e6c38"
      }
     },
     "6e873e3df238484494913ef64336c226": {
      "model_module": "@jupyter-widgets/controls",
      "model_module_version": "1.5.0",
      "model_name": "ColorPickerModel",
      "state": {
       "description": "emission",
       "disabled": false,
       "layout": "IPY_MODEL_b04cfdbdbfb94efd8cc010e7faf1cc87",
       "style": "IPY_MODEL_f25a02b7d47c4809ae30de8b9a344f2f",
       "value": "#000000"
      }
     },
     "6eb28f8b137146529a5fd0239be0a17d": {
      "model_module": "@jupyter-widgets/controls",
      "model_module_version": "1.5.0",
      "model_name": "AccordionModel",
      "state": {
       "_titles": {
        "0": "options",
        "1": "materials",
        "2": "Panel"
       },
       "children": [
        "IPY_MODEL_15efc43cc61c4e75b4fb0c44b18f8746",
        "IPY_MODEL_16997c934be343fba5e1a17a707f2709",
        "IPY_MODEL_ba445ed381be47ed916a34b8e4653c3f"
       ],
       "layout": "IPY_MODEL_3579be69c175457e81005faa8e4220a9"
      }
     },
     "6eef26d131ea4490aab5656157009220": {
      "model_module": "@jupyter-widgets/controls",
      "model_module_version": "1.5.0",
      "model_name": "HBoxModel",
      "state": {
       "children": [
        "IPY_MODEL_e969b4c749ee46739245034f2ed268b4",
        "IPY_MODEL_a2e52704b6c64db6ab6f9e8c12f6d66b",
        "IPY_MODEL_31e041e90c5c4508a18b046d4c5a6ca2"
       ],
       "layout": "IPY_MODEL_f067b7bc905440e296bdbcf18db71b67"
      }
     },
     "6fd389f08ffd4247a5c9aaf8c983d993": {
      "model_module": "@jupyter-widgets/controls",
      "model_module_version": "1.5.0",
      "model_name": "HBoxModel",
      "state": {
       "children": [
        "IPY_MODEL_929a58d4b00043d3adfe7ade5adf4750"
       ],
       "layout": "IPY_MODEL_ce2fc0b0b49147a3ab3ea6b2b9c400c3"
      }
     },
     "6fdb7a6bb7374734adcd52cee9142ff4": {
      "model_module": "@jupyter-widgets/controls",
      "model_module_version": "1.5.0",
      "model_name": "DescriptionStyleModel",
      "state": {
       "description_width": ""
      }
     },
     "704682c93acc499ab91b620b2fc2d984": {
      "model_module": "@jupyter-widgets/controls",
      "model_module_version": "1.5.0",
      "model_name": "TextModel",
      "state": {
       "continuous_update": false,
       "description": "name",
       "layout": "IPY_MODEL_54c4973b90f94932aeabeb3a9059e852",
       "style": "IPY_MODEL_e954712ae9dc4f8493a0f512d1c45838",
       "value": "MAX_ORDER"
      }
     },
     "71703d3403e746a3ad735c7435e2b7bd": {
      "model_module": "@jupyter-widgets/controls",
      "model_module_version": "1.5.0",
      "model_name": "ButtonModel",
      "state": {
       "description": "Delete",
       "layout": "IPY_MODEL_d5876e5c0e94412abfd1881167c0c4b8",
       "style": "IPY_MODEL_05d6490925854a50aab2dc68fb190d49"
      }
     },
     "7189de7fa849400db13eeff228129f28": {
      "model_module": "@jupyter-widgets/controls",
      "model_module_version": "1.5.0",
      "model_name": "HBoxModel",
      "state": {
       "children": [
        "IPY_MODEL_6b3d872ceca74d44950cf6cda5406c76",
        "IPY_MODEL_949ceaef1ba64c69a10d466eacffc89a",
        "IPY_MODEL_73a8e138539e426483c64587fdface54"
       ],
       "layout": "IPY_MODEL_79d485d514a6472d80c23af8bc94d914"
      }
     },
     "71a0dd50882041aa812332e2c5c9753c": {
      "model_module": "@jupyter-widgets/controls",
      "model_module_version": "1.5.0",
      "model_name": "DescriptionStyleModel",
      "state": {
       "description_width": ""
      }
     },
     "71db0dd751404690bc8cd7aa87320145": {
      "model_module": "@jupyter-widgets/controls",
      "model_module_version": "1.5.0",
      "model_name": "ButtonModel",
      "state": {
       "description": "Add",
       "layout": "IPY_MODEL_8baf0155506d48a8b463e3768aebc957",
       "style": "IPY_MODEL_7f07254e9baa41cc8a6b92c5ceee95ad"
      }
     },
     "71f9c5f78bbd4e348f237ee0b87b9530": {
      "model_module": "@jupyter-widgets/controls",
      "model_module_version": "1.5.0",
      "model_name": "DropdownModel",
      "state": {
       "_options_labels": [
        "Color_1"
       ],
       "index": 0,
       "layout": "IPY_MODEL_41bece9f7ea14709b10684e3542b279a",
       "style": "IPY_MODEL_25c0368f4b8c44c2b882338f5834fa4c"
      }
     },
     "72093cc444fe481c9d6734658341fd0d": {
      "model_module": "@jupyter-widgets/base",
      "model_module_version": "1.2.0",
      "model_name": "LayoutModel",
      "state": {}
     },
     "7257929028b94d73adb87eef2b818bc9": {
      "model_module": "pgljupyter",
      "model_module_version": "^0.1.17",
      "model_name": "_CurveEditorModel",
      "state": {
       "_model_module_version": "^0.1.17",
       "_view_module_version": "^0.1.17",
       "layout": "IPY_MODEL_25906be431b2434084042c356ad9b0b2",
       "points": [
        [
         -0.558642,
         0.0459491
        ],
        [
         -0.272827,
         -0.068981
        ],
        [
         -0.0295213,
         -0.153395
        ],
        [
         0.147239,
         -0.0700503
        ],
        [
         0.412901,
         0.0201295
        ],
        [
         0.56610865625,
         0.26139736422271725
        ]
       ],
       "type": "NurbsCurve2D"
      }
     },
     "73633c26bd8a4dacb6a6d9d22e1e15a8": {
      "model_module": "@jupyter-widgets/controls",
      "model_module_version": "1.5.0",
      "model_name": "HBoxModel",
      "state": {
       "children": [
        "IPY_MODEL_9c44e538db2e4774ad2324b1b3de55f3",
        "IPY_MODEL_ead7b6df1fb2458c98ec530bf3603f11"
       ],
       "layout": "IPY_MODEL_a736f77f8b4e497dad5a2f22dd0dc087"
      }
     },
     "738598c09dc84323b178c6e1786d21a8": {
      "model_module": "@jupyter-widgets/controls",
      "model_module_version": "1.5.0",
      "model_name": "FloatSliderModel",
      "state": {
       "description": "shininess",
       "layout": "IPY_MODEL_ee4ed3a3086943d89fa95858c909b6b7",
       "max": 1,
       "step": 0.1,
       "style": "IPY_MODEL_bc4a5c1b2221437a8cb56a7a9796ac2a"
      }
     },
     "73a8e138539e426483c64587fdface54": {
      "model_module": "pgljupyter",
      "model_module_version": "^0.1.17",
      "model_name": "FloatEditorModel",
      "state": {
       "_model_module_version": "^0.1.17",
       "_view_module_version": "^0.1.17",
       "children": [
        "IPY_MODEL_e6504eee9d6a48348b37e92dbac0ba12",
        "IPY_MODEL_3106b27fe0f54d24b039940ea8372092"
       ],
       "layout": "IPY_MODEL_68dc3e597e5f405a96cf0e45e2fe41c2"
      }
     },
     "73ad7808d0f34d7a8ebc45bea0bdb015": {
      "model_module": "@jupyter-widgets/base",
      "model_module_version": "1.2.0",
      "model_name": "LayoutModel",
      "state": {}
     },
     "73b01a5f494844838ae6d16571e9bf8a": {
      "model_module": "@jupyter-widgets/controls",
      "model_module_version": "1.5.0",
      "model_name": "ButtonModel",
      "state": {
       "description": "Delete category",
       "layout": "IPY_MODEL_4f6caa0b362440ccaacdcf7eec2cc370",
       "style": "IPY_MODEL_943719331dbb40f6901e93a6aec16957"
      }
     },
     "73c1889216f54ce6954e8169a5d12cda": {
      "model_module": "@jupyter-widgets/controls",
      "model_module_version": "1.5.0",
      "model_name": "DescriptionStyleModel",
      "state": {
       "description_width": ""
      }
     },
     "740ff44355ce465194d8d0d134107427": {
      "model_module": "@jupyter-widgets/controls",
      "model_module_version": "1.5.0",
      "model_name": "ButtonModel",
      "state": {
       "description": "Add",
       "layout": "IPY_MODEL_7decf8ebdf65422c8eeda950c05e498e",
       "style": "IPY_MODEL_242a969a16b644e4869dbd1d5a866fe4"
      }
     },
     "7421c8fcb59e4dd1855023be81a3b511": {
      "model_module": "@jupyter-widgets/controls",
      "model_module_version": "1.5.0",
      "model_name": "ButtonModel",
      "state": {
       "description": "Delete",
       "layout": "IPY_MODEL_f700868a7edd44728c1367468d20b09a",
       "style": "IPY_MODEL_de59aa5bb06e4fe0a5d11b14eb135b5c"
      }
     },
     "75231515baa7447a8fdc16dc3b4726fa": {
      "model_module": "@jupyter-widgets/controls",
      "model_module_version": "1.5.0",
      "model_name": "TabModel",
      "state": {
       "layout": "IPY_MODEL_a508373583d747088562faf532fe3bea"
      }
     },
     "755930775a8840af8570a6c9de942ede": {
      "model_module": "@jupyter-widgets/base",
      "model_module_version": "1.2.0",
      "model_name": "LayoutModel",
      "state": {
       "margin": "20px 0px"
      }
     },
     "757de2f8f60541e698ef69bf6a960250": {
      "model_module": "@jupyter-widgets/controls",
      "model_module_version": "1.5.0",
      "model_name": "FloatSliderModel",
      "state": {
       "description": "diffuse",
       "layout": "IPY_MODEL_8347d0507b40408cbdca55f9b6f87e0e",
       "max": 3,
       "step": 0.1,
       "style": "IPY_MODEL_f2b1c7e367f34a46a649fca2f2669357",
       "value": 3
      }
     },
     "75caa4e232964c7b8035d1d09f049254": {
      "model_module": "@jupyter-widgets/controls",
      "model_module_version": "1.5.0",
      "model_name": "TextModel",
      "state": {
       "continuous_update": false,
       "description": "name",
       "layout": "IPY_MODEL_3c014ffb46dc439ebcf1c244d296408f",
       "style": "IPY_MODEL_abba7c2222824017a6c5c882d63649b9",
       "value": "ELASTICITY"
      }
     },
     "75ddc562788d430c80188c2822292949": {
      "model_module": "@jupyter-widgets/controls",
      "model_module_version": "1.5.0",
      "model_name": "ColorPickerModel",
      "state": {
       "description": "specular",
       "disabled": false,
       "layout": "IPY_MODEL_36748c8e453f44fcab0b3ac23dc0623d",
       "style": "IPY_MODEL_413bbf1bf8084c3f8e3e74a8a9713d2f",
       "value": "#000000"
      }
     },
     "764486e4601d48a0b852f49ef3fd7b10": {
      "model_module": "pgljupyter",
      "model_module_version": "^0.1.17",
      "model_name": "CurveEditorModel",
      "state": {
       "_model_module_version": "^0.1.17",
       "_view_module_version": "^0.1.17",
       "children": [
        "IPY_MODEL_7eb0a733ca2541e6b3dc993842644795",
        "IPY_MODEL_a2ea07b1c04e49fa9e91b7b8aff02d9c"
       ],
       "layout": "IPY_MODEL_171dded6f1e14ec5a64d6d1cd3cf0ec3"
      }
     },
     "766fb43106af40a2b7f33a84a40cd964": {
      "model_module": "@jupyter-widgets/base",
      "model_module_version": "1.2.0",
      "model_name": "LayoutModel",
      "state": {}
     },
     "771d729538ee4127beee0ee9a5ab8980": {
      "model_module": "pgljupyter",
      "model_module_version": "^0.1.17",
      "model_name": "FloatEditorModel",
      "state": {
       "_model_module_version": "^0.1.17",
       "_view_module_version": "^0.1.17",
       "children": [
        "IPY_MODEL_f70f12b4ce7248cf86c60032e9c7e33b",
        "IPY_MODEL_86602dd16dac467fad576c09c0c67f38"
       ],
       "layout": "IPY_MODEL_755930775a8840af8570a6c9de942ede"
      }
     },
     "7739a596a7e84cc784e2a93ed57f898c": {
      "model_module": "@jupyter-widgets/controls",
      "model_module_version": "1.5.0",
      "model_name": "ButtonStyleModel",
      "state": {}
     },
     "77701f4abc2840c696a4f1759784caeb": {
      "model_module": "@jupyter-widgets/base",
      "model_module_version": "1.2.0",
      "model_name": "LayoutModel",
      "state": {}
     },
     "778d712f71a74314a25ab04450fd4255": {
      "model_module": "@jupyter-widgets/controls",
      "model_module_version": "1.5.0",
      "model_name": "BoundedIntTextModel",
      "state": {
       "description": "index",
       "layout": "IPY_MODEL_165a8b2013eb43d3934a3a53055f33dd",
       "style": "IPY_MODEL_1285b872e6344b75bef9f58d99625bff",
       "value": 1
      }
     },
     "77c1caa8eb2e40138f59ecaf6f42bbb6": {
      "model_module": "@jupyter-widgets/base",
      "model_module_version": "1.2.0",
      "model_name": "LayoutModel",
      "state": {}
     },
     "77df6b2722a24b6a89af7b3ff251ec57": {
      "model_module": "@jupyter-widgets/base",
      "model_module_version": "1.2.0",
      "model_name": "LayoutModel",
      "state": {}
     },
     "780efb2c816b434dba8d8a6a9847886e": {
      "model_module": "@jupyter-widgets/base",
      "model_module_version": "1.2.0",
      "model_name": "LayoutModel",
      "state": {}
     },
     "78728373835d47f6a41cb71ca5276ab4": {
      "model_module": "@jupyter-widgets/base",
      "model_module_version": "1.2.0",
      "model_name": "LayoutModel",
      "state": {}
     },
     "787725070bdb4970ad909e5167bc0894": {
      "model_module": "@jupyter-widgets/controls",
      "model_module_version": "1.5.0",
      "model_name": "ButtonModel",
      "state": {
       "description": "Add",
       "layout": "IPY_MODEL_110555bcfaf94c7fae02f9538d72a664",
       "style": "IPY_MODEL_ba41a737197944b89fd7f20e4924789c"
      }
     },
     "78947d3c5d604c83a13f8f82afaad30f": {
      "model_module": "@jupyter-widgets/controls",
      "model_module_version": "1.5.0",
      "model_name": "FloatSliderModel",
      "state": {
       "description": "transparency",
       "layout": "IPY_MODEL_b9af71fe329544d1a0a36d03510a702a",
       "max": 1,
       "step": 0.1,
       "style": "IPY_MODEL_540c5846076a4123ae7ec77417a20901"
      }
     },
     "78e60cb0815e464abb87a1e7aadd2b00": {
      "model_module": "@jupyter-widgets/base",
      "model_module_version": "1.2.0",
      "model_name": "LayoutModel",
      "state": {}
     },
     "78f107d41d09486d9f43aa0152ec09f0": {
      "model_module": "@jupyter-widgets/base",
      "model_module_version": "1.2.0",
      "model_name": "LayoutModel",
      "state": {}
     },
     "78f1fd93f9ad4c35b5a3412cb2b1dc8c": {
      "model_module": "@jupyter-widgets/controls",
      "model_module_version": "1.5.0",
      "model_name": "HBoxModel",
      "state": {
       "children": [
        "IPY_MODEL_3c7f87397bfa480a8296f0957e04fa40",
        "IPY_MODEL_5b032bc447a24a66a321afdc8a8395f2"
       ],
       "layout": "IPY_MODEL_aabf761375a6456cb8ec0b9f13d65c16"
      }
     },
     "798c5aa389d54c2f94a8776113585dae": {
      "model_module": "@jupyter-widgets/controls",
      "model_module_version": "1.5.0",
      "model_name": "HBoxModel",
      "state": {
       "children": [
        "IPY_MODEL_b18199b35ae44bc7b716f340def45fb5",
        "IPY_MODEL_5db75fde2a3d4825b0b6afcf6ed791f9"
       ],
       "layout": "IPY_MODEL_aabf761375a6456cb8ec0b9f13d65c16"
      }
     },
     "79c5ea5d80b840e9aefcb4df64ad79ec": {
      "model_module": "@jupyter-widgets/controls",
      "model_module_version": "1.5.0",
      "model_name": "ButtonModel",
      "state": {
       "description": "Add",
       "layout": "IPY_MODEL_a0e800bc4ad14cf4adde34722e3a3b2c",
       "style": "IPY_MODEL_bd5e5c900df14a15925d66cde4969359"
      }
     },
     "79d485d514a6472d80c23af8bc94d914": {
      "model_module": "@jupyter-widgets/base",
      "model_module_version": "1.2.0",
      "model_name": "LayoutModel",
      "state": {
       "flex_flow": "row wrap",
       "margin": "20px"
      }
     },
     "79df85a72a8c4698b219169b358934a9": {
      "model_module": "@jupyter-widgets/controls",
      "model_module_version": "1.5.0",
      "model_name": "HBoxModel",
      "state": {
       "children": [
        "IPY_MODEL_178740e7e4ae43f39b50d29bb94e261c",
        "IPY_MODEL_503fe611b5e549889f3b2971df73d861"
       ],
       "layout": "IPY_MODEL_df8bc52daec04bea85b3f446273f3f44"
      }
     },
     "79fe75926cd8491aa0b3062386471fb2": {
      "model_module": "@jupyter-widgets/base",
      "model_module_version": "1.2.0",
      "model_name": "LayoutModel",
      "state": {}
     },
     "7a767cc805e64968bbe51df38765f575": {
      "model_module": "@jupyter-widgets/controls",
      "model_module_version": "1.5.0",
      "model_name": "TextModel",
      "state": {
       "continuous_update": false,
       "description": "name",
       "layout": "IPY_MODEL_a0b6c99c90264dc28dab6082eff4d05c",
       "style": "IPY_MODEL_5f53b4498056440480e6fd810de7129c",
       "value": "ELASTICITY"
      }
     },
     "7b13333f3a2b49a094e93e4098a9384f": {
      "model_module": "@jupyter-widgets/controls",
      "model_module_version": "1.5.0",
      "model_name": "DescriptionStyleModel",
      "state": {
       "description_width": ""
      }
     },
     "7b15a02cb26344feaab56583a189f008": {
      "model_module": "@jupyter-widgets/controls",
      "model_module_version": "1.5.0",
      "model_name": "DescriptionStyleModel",
      "state": {
       "description_width": ""
      }
     },
     "7b2412e1e21c4eb59021bcd44b36a443": {
      "model_module": "@jupyter-widgets/controls",
      "model_module_version": "1.5.0",
      "model_name": "HBoxModel",
      "state": {
       "children": [
        "IPY_MODEL_6a1973f4f24a4067823d9d847baedaa6",
        "IPY_MODEL_be60915c308e42afa1c3b4979a4f3086"
       ],
       "layout": "IPY_MODEL_52f3e2d0e22142d7ae4367f738f57576"
      }
     },
     "7b2cb790d6f7481f81bf57bb7543714f": {
      "model_module": "@jupyter-widgets/controls",
      "model_module_version": "1.5.0",
      "model_name": "DropdownModel",
      "state": {
       "_options_labels": [
        "NurbsCurve2D",
        "BezierCurve2D",
        "Polyline2D",
        "Function"
       ],
       "index": 0,
       "layout": "IPY_MODEL_8718053843524b189c386bea4895ec74",
       "style": "IPY_MODEL_56793cab2b5c456497d882a4efb8ec56"
      }
     },
     "7b6c9213cfaf4b5cb2772a41aa11406f": {
      "model_module": "@jupyter-widgets/base",
      "model_module_version": "1.2.0",
      "model_name": "LayoutModel",
      "state": {}
     },
     "7b7d09f8ccb04ec7bce857acaad18935": {
      "model_module": "@jupyter-widgets/controls",
      "model_module_version": "1.5.0",
      "model_name": "ColorPickerModel",
      "state": {
       "description": "specular",
       "disabled": false,
       "layout": "IPY_MODEL_88f77434f07f4c0d98901812ef7c17a1",
       "style": "IPY_MODEL_b0b75205048a4f33bbbab210cf661237",
       "value": "#000000"
      }
     },
     "7ba255238e674366ab15af56873d5184": {
      "model_module": "@jupyter-widgets/base",
      "model_module_version": "1.2.0",
      "model_name": "LayoutModel",
      "state": {}
     },
     "7bca88333c514a42a343114610da5e15": {
      "model_module": "@jupyter-widgets/controls",
      "model_module_version": "1.5.0",
      "model_name": "DropdownModel",
      "state": {
       "_options_labels": [
        "Color"
       ],
       "index": 0,
       "layout": "IPY_MODEL_493904e80ba549ef8b540043ed4de1a9",
       "style": "IPY_MODEL_1e6fb79749af479388eac628883958cd"
      }
     },
     "7c1755e9078c4e51bd0b5debb8ff866a": {
      "model_module": "@jupyter-widgets/base",
      "model_module_version": "1.2.0",
      "model_name": "LayoutModel",
      "state": {}
     },
     "7c47ee5d8c664006aa8db38a6c1e60a0": {
      "model_module": "@jupyter-widgets/controls",
      "model_module_version": "1.5.0",
      "model_name": "DescriptionStyleModel",
      "state": {
       "description_width": ""
      }
     },
     "7c52133fcc564f7899baad7842b87015": {
      "model_module": "@jupyter-widgets/base",
      "model_module_version": "1.2.0",
      "model_name": "LayoutModel",
      "state": {}
     },
     "7c5650abea32450283ea52ee73bd3c02": {
      "buffers": [
       {
        "data": "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",
        "encoding": "base64",
        "path": [
         "scene",
         "data"
        ]
       }
      ],
      "model_module": "pgljupyter",
      "model_module_version": "^0.1.17",
      "model_name": "LsystemWidgetModel",
      "state": {
       "_model_module_version": "^0.1.17",
       "_view_module_version": "^0.1.17",
       "axes_helper": false,
       "derivationLength": 75,
       "layout": "IPY_MODEL_91c8aeb64f1a491fbfaef86c88a5eed5",
       "light_helper": false,
       "plane": true,
       "scene": {
        "derivationStep": 74,
        "id": 74,
        "scene": "<openalea.plantgl.scenegraph._pglsg.Scene object at 0x11d4dc1c0>"
       },
       "size_display": [
        800,
        600
       ],
       "size_world": 5,
       "unit": 1
      }
     },
     "7c6a6feba5d74b2495cd00a237d293d1": {
      "model_module": "@jupyter-widgets/controls",
      "model_module_version": "1.5.0",
      "model_name": "HBoxModel",
      "state": {
       "children": [
        "IPY_MODEL_5e6f3a041eaa446790d8e5996ff8a5f9",
        "IPY_MODEL_c2888df4b50c4ef4b73bd56f3a2ff450"
       ],
       "layout": "IPY_MODEL_5149bee5e53c43fbae2846ba839d6f5a"
      }
     },
     "7cb3575f67c74d4cbfe61a7c88cd4707": {
      "model_module": "@jupyter-widgets/controls",
      "model_module_version": "1.5.0",
      "model_name": "DropdownModel",
      "state": {
       "_options_labels": [
        "branchpath"
       ],
       "index": 0,
       "layout": "IPY_MODEL_0a3fe98c79a84966b4ca49e8cb39b0a6",
       "style": "IPY_MODEL_450e184cfa244022987063deb8f0ed97"
      }
     },
     "7decf8ebdf65422c8eeda950c05e498e": {
      "model_module": "@jupyter-widgets/base",
      "model_module_version": "1.2.0",
      "model_name": "LayoutModel",
      "state": {}
     },
     "7e0fb52b374c4149be287a2807a97778": {
      "model_module": "@jupyter-widgets/base",
      "model_module_version": "1.2.0",
      "model_name": "LayoutModel",
      "state": {}
     },
     "7e2e3fe2cfc84d23bb53f111f377e33d": {
      "model_module": "@jupyter-widgets/base",
      "model_module_version": "1.2.0",
      "model_name": "LayoutModel",
      "state": {}
     },
     "7e6ebab82c6242c5b862c35b0d885b42": {
      "model_module": "@jupyter-widgets/controls",
      "model_module_version": "1.5.0",
      "model_name": "DropdownModel",
      "state": {
       "_options_labels": [
        "Integer",
        "Float",
        "Bool"
       ],
       "index": 0,
       "layout": "IPY_MODEL_780efb2c816b434dba8d8a6a9847886e",
       "style": "IPY_MODEL_0926362fd6824531801a8cec483ef672"
      }
     },
     "7ead986807874ca08a5e1f70e9c886d9": {
      "model_module": "@jupyter-widgets/base",
      "model_module_version": "1.2.0",
      "model_name": "LayoutModel",
      "state": {
       "margin": "20px 0px"
      }
     },
     "7eb0a733ca2541e6b3dc993842644795": {
      "model_module": "@jupyter-widgets/controls",
      "model_module_version": "1.5.0",
      "model_name": "TextModel",
      "state": {
       "continuous_update": false,
       "description": "name",
       "layout": "IPY_MODEL_e6eddfd66431414b9db96d1196cf6826",
       "style": "IPY_MODEL_350c65fa535347d4992bf39ff7657cd0",
       "value": "branchpath"
      }
     },
     "7eea5dedd93c431db290da8139700ac7": {
      "model_module": "@jupyter-widgets/controls",
      "model_module_version": "1.5.0",
      "model_name": "ButtonModel",
      "state": {
       "description": "Add",
       "layout": "IPY_MODEL_3b722e97c6dd4a5baa202d38656e9e73",
       "style": "IPY_MODEL_ba09ae37a3f84a9fa8e4ff89840b92f6"
      }
     },
     "7f07254e9baa41cc8a6b92c5ceee95ad": {
      "model_module": "@jupyter-widgets/controls",
      "model_module_version": "1.5.0",
      "model_name": "ButtonStyleModel",
      "state": {}
     },
     "7f12945d77cf472e9e89a25a1ee153e2": {
      "model_module": "@jupyter-widgets/controls",
      "model_module_version": "1.5.0",
      "model_name": "DescriptionStyleModel",
      "state": {
       "description_width": ""
      }
     },
     "7fb4ded7fa284b2198de5331c01c856e": {
      "model_module": "@jupyter-widgets/controls",
      "model_module_version": "1.5.0",
      "model_name": "FloatSliderModel",
      "state": {
       "description": "shininess",
       "layout": "IPY_MODEL_7c52133fcc564f7899baad7842b87015",
       "max": 1,
       "step": 0.1,
       "style": "IPY_MODEL_0b8075db01d24571a1717a21965b74a9"
      }
     },
     "7feb046d93584b8092cac3fc01bd6c59": {
      "model_module": "@jupyter-widgets/base",
      "model_module_version": "1.2.0",
      "model_name": "LayoutModel",
      "state": {}
     },
     "80ace5caee1241e38f7dd3ac65e5e7d1": {
      "model_module": "@jupyter-widgets/controls",
      "model_module_version": "1.5.0",
      "model_name": "FloatSliderModel",
      "state": {
       "description": "shininess",
       "layout": "IPY_MODEL_3d6c0b155f394eeea648664264a7e51b",
       "max": 1,
       "step": 0.1,
       "style": "IPY_MODEL_064b5f248b2b46dd9f78a95303ea0d1e"
      }
     },
     "80bf28d1da4a4b1cbdf212e0b34b4433": {
      "model_module": "@jupyter-widgets/controls",
      "model_module_version": "1.5.0",
      "model_name": "DropdownModel",
      "state": {
       "_options_labels": [
        "Integer",
        "Float",
        "Bool"
       ],
       "index": 0,
       "layout": "IPY_MODEL_59a795311f964750a8518f3a3fe63778",
       "style": "IPY_MODEL_0fd1e8e677c6487c9d3f68a5beed1a28"
      }
     },
     "80e1911e1a8644a2a8842b673aa1143b": {
      "model_module": "@jupyter-widgets/base",
      "model_module_version": "1.2.0",
      "model_name": "LayoutModel",
      "state": {}
     },
     "8100fa43e3634df0bd124db013a63ccb": {
      "model_module": "@jupyter-widgets/controls",
      "model_module_version": "1.5.0",
      "model_name": "HBoxModel",
      "state": {
       "children": [
        "IPY_MODEL_da0e0d9e5beb40d29f8118125c18245f",
        "IPY_MODEL_b07cb87af14449968a22338183bba991",
        "IPY_MODEL_f8fa066b88e9484a97855d443cbacdbf"
       ],
       "layout": "IPY_MODEL_d76b3ed9268a44a5b5a34370fff061ee"
      }
     },
     "81b80bf41d0e401fa755737bd365b528": {
      "model_module": "@jupyter-widgets/controls",
      "model_module_version": "1.5.0",
      "model_name": "DropdownModel",
      "state": {
       "_options_labels": [
        "NurbsCurve2D",
        "BezierCurve2D",
        "Polyline2D",
        "Function"
       ],
       "index": 0,
       "layout": "IPY_MODEL_37f014cb879c44d9946816bc57ead0b1",
       "style": "IPY_MODEL_e1d219bd48c94a5396d1e4adc872da8a"
      }
     },
     "81e6f0617c2b4f7ea3657b5df227e973": {
      "model_module": "@jupyter-widgets/base",
      "model_module_version": "1.2.0",
      "model_name": "LayoutModel",
      "state": {}
     },
     "820354650add45a2a36563d13b3ba9fe": {
      "model_module": "@jupyter-widgets/controls",
      "model_module_version": "1.5.0",
      "model_name": "HBoxModel",
      "state": {
       "children": [
        "IPY_MODEL_63e79f6d95fc422bbc4a533e71fb34b4",
        "IPY_MODEL_26e2590573f94c84b1f60e81c4697449",
        "IPY_MODEL_3f1359054c574869a0a5ea00e828e4a7"
       ],
       "layout": "IPY_MODEL_024c72a24164495194dcbbf18139f8e9"
      }
     },
     "82149c89cec34540b389a4103e65fee1": {
      "model_module": "@jupyter-widgets/base",
      "model_module_version": "1.2.0",
      "model_name": "LayoutModel",
      "state": {}
     },
     "82462993a56a474881cea9d927e70ac6": {
      "model_module": "@jupyter-widgets/controls",
      "model_module_version": "1.5.0",
      "model_name": "VBoxModel",
      "state": {
       "children": [
        "IPY_MODEL_b9c6ce8a37d9447ab18f28fa2880f0ee",
        "IPY_MODEL_d0b99d5fd01d4a2195d4f8745c5464e3"
       ],
       "layout": "IPY_MODEL_338351a2c00f48879ff1cf14cff52736"
      }
     },
     "827b7d8e92fa4e3bad9e6201978c0fd8": {
      "model_module": "@jupyter-widgets/controls",
      "model_module_version": "1.5.0",
      "model_name": "DropdownModel",
      "state": {
       "_options_labels": [
        "MAX_ORDER",
        "TROPISM",
        "ELASTICITY"
       ],
       "index": 0,
       "layout": "IPY_MODEL_6cb5507cbd64418094008b87c9f57df5",
       "style": "IPY_MODEL_3b2b664712e54604bc93d80397afc200"
      }
     },
     "827d6a73f6244ffba7ee20cc61a7def3": {
      "model_module": "@jupyter-widgets/controls",
      "model_module_version": "1.5.0",
      "model_name": "ButtonStyleModel",
      "state": {}
     },
     "830dea073d274978b8982b4df3d62ac1": {
      "model_module": "@jupyter-widgets/controls",
      "model_module_version": "1.5.0",
      "model_name": "IntSliderModel",
      "state": {
       "description": "value",
       "layout": "IPY_MODEL_2f814225be7b43deabdd620ef920cc9c",
       "max": 5,
       "style": "IPY_MODEL_6061934b524140edb34889b312b8aab7",
       "value": 5
      }
     },
     "83167db0aed14eaebf1e14bb70adcaab": {
      "model_module": "@jupyter-widgets/base",
      "model_module_version": "1.2.0",
      "model_name": "LayoutModel",
      "state": {}
     },
     "8347d0507b40408cbdca55f9b6f87e0e": {
      "model_module": "@jupyter-widgets/base",
      "model_module_version": "1.2.0",
      "model_name": "LayoutModel",
      "state": {}
     },
     "838ec3d73b0e436aa8619cbb51016361": {
      "model_module": "@jupyter-widgets/base",
      "model_module_version": "1.2.0",
      "model_name": "LayoutModel",
      "state": {}
     },
     "83eca969fa4946a6ab5868f4cb0d154e": {
      "model_module": "@jupyter-widgets/controls",
      "model_module_version": "1.5.0",
      "model_name": "HBoxModel",
      "state": {
       "children": [
        "IPY_MODEL_0dfd68d2c76a438f8c5f514eaeffed43",
        "IPY_MODEL_a9433416b61f41a7b40d6dc7eeca1060"
       ],
       "layout": "IPY_MODEL_1526e94b9c34495284d51796f1285d94"
      }
     },
     "841530cb500c4f6bb88c39a1aba3768e": {
      "model_module": "@jupyter-widgets/controls",
      "model_module_version": "1.5.0",
      "model_name": "SliderStyleModel",
      "state": {
       "description_width": ""
      }
     },
     "844e120696e0440fb657d23315eefce4": {
      "model_module": "@jupyter-widgets/controls",
      "model_module_version": "1.5.0",
      "model_name": "VBoxModel",
      "state": {
       "children": [
        "IPY_MODEL_dd6c901841f64238b776da1bb5cfabc1",
        "IPY_MODEL_e87ceab8f6d44318806b0ae20d6135a9"
       ],
       "layout": "IPY_MODEL_905313e8a9ff4f63a6649e701a577806"
      }
     },
     "84743080fc9e40069529bab5aeeb8024": {
      "model_module": "@jupyter-widgets/controls",
      "model_module_version": "1.5.0",
      "model_name": "HBoxModel",
      "state": {
       "children": [
        "IPY_MODEL_a82a6ae68c854947b75ecd37f8cc2562",
        "IPY_MODEL_f9868aa74b064f26b60563a308bd37c2"
       ],
       "layout": "IPY_MODEL_98cbbbd503224049b8caae7747c82ffb"
      }
     },
     "84854f36d57f44cdb47eee7950594c24": {
      "model_module": "@jupyter-widgets/base",
      "model_module_version": "1.2.0",
      "model_name": "LayoutModel",
      "state": {}
     },
     "8523e21a2f8a4ee8a32680903c7c7e72": {
      "model_module": "@jupyter-widgets/controls",
      "model_module_version": "1.5.0",
      "model_name": "ButtonModel",
      "state": {
       "description": "Add",
       "layout": "IPY_MODEL_0cf349341cff432f9a7c4c8f6e48492b",
       "style": "IPY_MODEL_af004965eb7f4161ba899d38843b9d8a"
      }
     },
     "854f686312554129b90faa0e6eabab54": {
      "model_module": "@jupyter-widgets/controls",
      "model_module_version": "1.5.0",
      "model_name": "DropdownModel",
      "state": {
       "_options_labels": [
        "NurbsCurve2D",
        "BezierCurve2D",
        "Polyline2D",
        "Function"
       ],
       "index": 0,
       "layout": "IPY_MODEL_0f7dcb859da54f2facc662b3e67a18da",
       "style": "IPY_MODEL_68a96951dd154e6f872558f0f5cf97b0"
      }
     },
     "855abf8aa923425fb37086aa09001144": {
      "model_module": "@jupyter-widgets/base",
      "model_module_version": "1.2.0",
      "model_name": "LayoutModel",
      "state": {}
     },
     "8579aba3e916484bb99dfab5181f6072": {
      "model_module": "@jupyter-widgets/controls",
      "model_module_version": "1.5.0",
      "model_name": "DropdownModel",
      "state": {
       "_options_labels": [
        "MAX_ORDER",
        "TROPISM",
        "ELASTICITY"
       ],
       "index": 0,
       "layout": "IPY_MODEL_fc18051d47f843bea8f39a2a3104da7f",
       "style": "IPY_MODEL_8b4ee55c5d6a4aca89fd876736a2fe06"
      }
     },
     "860676653ccc49a88dec9aee20e79d9e": {
      "model_module": "pgljupyter",
      "model_module_version": "^0.1.17",
      "model_name": "MaterialEditorModel",
      "state": {
       "_model_module_version": "^0.1.17",
       "_view_module_version": "^0.1.17",
       "children": [
        "IPY_MODEL_113442de5c7648f0917603f66b14c7f2",
        "IPY_MODEL_b3269d3dfb7c4671953e52c05390ced3",
        "IPY_MODEL_af9bfe239682489eab143309fa6bb46a",
        "IPY_MODEL_7b7d09f8ccb04ec7bce857acaad18935",
        "IPY_MODEL_20671f03fe04461996ab5d1554306783",
        "IPY_MODEL_d4c7a12377584daeba2559328443d3b6",
        "IPY_MODEL_6939d3dcccfd4218b5d794a8457b6abf",
        "IPY_MODEL_7fb4ded7fa284b2198de5331c01c856e"
       ],
       "layout": "IPY_MODEL_aac49f7539ac49e68a5e7649a1a08a19"
      }
     },
     "863334144bd448c8bbab11e3b788e3ee": {
      "model_module": "@jupyter-widgets/base",
      "model_module_version": "1.2.0",
      "model_name": "LayoutModel",
      "state": {}
     },
     "86602dd16dac467fad576c09c0c67f38": {
      "model_module": "@jupyter-widgets/controls",
      "model_module_version": "1.5.0",
      "model_name": "FloatSliderModel",
      "state": {
       "description": "value",
       "layout": "IPY_MODEL_a46caae2b2fd41d3bf106e0431ae69bc",
       "max": 3,
       "step": 0.001,
       "style": "IPY_MODEL_8dd0ac6c91e94ba59ce475622107ebd6",
       "value": 0.03
      }
     },
     "86732fc578b24d23920a3193f23862aa": {
      "model_module": "@jupyter-widgets/controls",
      "model_module_version": "1.5.0",
      "model_name": "DescriptionStyleModel",
      "state": {
       "description_width": ""
      }
     },
     "8718053843524b189c386bea4895ec74": {
      "model_module": "@jupyter-widgets/base",
      "model_module_version": "1.2.0",
      "model_name": "LayoutModel",
      "state": {}
     },
     "881c8c4d819e40dd923842d08a9ecddf": {
      "model_module": "@jupyter-widgets/controls",
      "model_module_version": "1.5.0",
      "model_name": "SliderStyleModel",
      "state": {
       "description_width": ""
      }
     },
     "8846188e3ca84dce80dc4ef8fe0e476f": {
      "model_module": "@jupyter-widgets/controls",
      "model_module_version": "1.5.0",
      "model_name": "DescriptionStyleModel",
      "state": {
       "description_width": ""
      }
     },
     "88bcc54868c74fb69fbd727f8015a8a7": {
      "model_module": "@jupyter-widgets/base",
      "model_module_version": "1.2.0",
      "model_name": "LayoutModel",
      "state": {}
     },
     "88c2454e686a4b62a6c66673f4d69c37": {
      "model_module": "@jupyter-widgets/controls",
      "model_module_version": "1.5.0",
      "model_name": "TextModel",
      "state": {
       "continuous_update": false,
       "description": "name",
       "layout": "IPY_MODEL_689a7b67d5cb4f49b7a1b37b10be15df",
       "style": "IPY_MODEL_2a4c2bcaaf0d41c2a5a8a602dd3d20de",
       "value": "Color_1"
      }
     },
     "88f77434f07f4c0d98901812ef7c17a1": {
      "model_module": "@jupyter-widgets/base",
      "model_module_version": "1.2.0",
      "model_name": "LayoutModel",
      "state": {}
     },
     "8900390c17d24916ab3159dbba853596": {
      "model_module": "@jupyter-widgets/base",
      "model_module_version": "1.2.0",
      "model_name": "LayoutModel",
      "state": {}
     },
     "895533d41c4846a7b49bee1a089990b6": {
      "model_module": "@jupyter-widgets/controls",
      "model_module_version": "1.5.0",
      "model_name": "DescriptionStyleModel",
      "state": {
       "description_width": ""
      }
     },
     "899f34fee4124673bd60cc60094848eb": {
      "model_module": "@jupyter-widgets/controls",
      "model_module_version": "1.5.0",
      "model_name": "DescriptionStyleModel",
      "state": {
       "description_width": ""
      }
     },
     "89a047e69e9947378c614c4f3cabf21b": {
      "model_module": "@jupyter-widgets/controls",
      "model_module_version": "1.5.0",
      "model_name": "ButtonModel",
      "state": {
       "description": "Add",
       "layout": "IPY_MODEL_2e3464e139d24afcbdecbd07a6ba4b00",
       "style": "IPY_MODEL_19060080c30d454db7a46080259df164"
      }
     },
     "89a1364e9a594e17ba1b76a22fd3f90a": {
      "model_module": "@jupyter-widgets/controls",
      "model_module_version": "1.5.0",
      "model_name": "ColorPickerModel",
      "state": {
       "description": "emission",
       "disabled": false,
       "layout": "IPY_MODEL_6cbabcfe6aa448ab93500dab33f3e795",
       "style": "IPY_MODEL_71a0dd50882041aa812332e2c5c9753c",
       "value": "#000000"
      }
     },
     "89b8ff78d144429e9aebcd5a0bb2d4ce": {
      "model_module": "@jupyter-widgets/controls",
      "model_module_version": "1.5.0",
      "model_name": "DropdownModel",
      "state": {
       "_options_labels": [
        "Color_1"
       ],
       "index": 0,
       "layout": "IPY_MODEL_4e06171310164138b6946842e6df4e65",
       "style": "IPY_MODEL_a3cf61cfd83a44c2b39db15bc602f335"
      }
     },
     "89ea0a41e4c24448a04764f227403c3c": {
      "model_module": "@jupyter-widgets/controls",
      "model_module_version": "1.5.0",
      "model_name": "HBoxModel",
      "state": {
       "children": [
        "IPY_MODEL_5f2fb09c983f4efd91fe4c1e38f674b9",
        "IPY_MODEL_4ae20287781a42e990b6c054d1dc0405",
        "IPY_MODEL_771d729538ee4127beee0ee9a5ab8980"
       ],
       "layout": "IPY_MODEL_bfdd12ede58d4cd99fd439129d778923"
      }
     },
     "89ed4a17343040599f2c8c07196292fb": {
      "model_module": "@jupyter-widgets/controls",
      "model_module_version": "1.5.0",
      "model_name": "ButtonStyleModel",
      "state": {}
     },
     "89fa7b917d104863af0d9e482f64a26e": {
      "model_module": "@jupyter-widgets/controls",
      "model_module_version": "1.5.0",
      "model_name": "DescriptionStyleModel",
      "state": {
       "description_width": ""
      }
     },
     "8af716861ebc47e8a540d73cc49d0d5b": {
      "model_module": "@jupyter-widgets/controls",
      "model_module_version": "1.5.0",
      "model_name": "DescriptionStyleModel",
      "state": {
       "description_width": ""
      }
     },
     "8af8a20e201b4da1a9bb30945451e428": {
      "model_module": "@jupyter-widgets/controls",
      "model_module_version": "1.5.0",
      "model_name": "TextModel",
      "state": {
       "continuous_update": false,
       "description": "name",
       "layout": "IPY_MODEL_eece1709b9b340b8ac228e62c9a444e6",
       "style": "IPY_MODEL_238a21106098479f9e410bd46db0a579",
       "value": "branchpath"
      }
     },
     "8b4a6d581cc84415ad4740f51cd6882b": {
      "model_module": "@jupyter-widgets/base",
      "model_module_version": "1.2.0",
      "model_name": "LayoutModel",
      "state": {}
     },
     "8b4ee55c5d6a4aca89fd876736a2fe06": {
      "model_module": "@jupyter-widgets/controls",
      "model_module_version": "1.5.0",
      "model_name": "DescriptionStyleModel",
      "state": {
       "description_width": ""
      }
     },
     "8b541de21a6b4ce58f99fc17a17fe7cb": {
      "model_module": "@jupyter-widgets/base",
      "model_module_version": "1.2.0",
      "model_name": "LayoutModel",
      "state": {}
     },
     "8b8d1d25c52a4f809b24a820f8ba11f8": {
      "model_module": "@jupyter-widgets/base",
      "model_module_version": "1.2.0",
      "model_name": "LayoutModel",
      "state": {}
     },
     "8baf0155506d48a8b463e3768aebc957": {
      "model_module": "@jupyter-widgets/base",
      "model_module_version": "1.2.0",
      "model_name": "LayoutModel",
      "state": {}
     },
     "8bf9107f51fc456f9ecd3c9e1a7d861a": {
      "model_module": "@jupyter-widgets/base",
      "model_module_version": "1.2.0",
      "model_name": "LayoutModel",
      "state": {}
     },
     "8c01b922019d45588ff8336f529261e8": {
      "model_module": "@jupyter-widgets/base",
      "model_module_version": "1.2.0",
      "model_name": "LayoutModel",
      "state": {}
     },
     "8cbf000cd9064caca193bb9bf747cb2c": {
      "model_module": "@jupyter-widgets/controls",
      "model_module_version": "1.5.0",
      "model_name": "HBoxModel",
      "state": {
       "children": [
        "IPY_MODEL_fbfabc395379470da8124e5a066ef656",
        "IPY_MODEL_eb697058f79644bfa87af105ebe01980"
       ],
       "layout": "IPY_MODEL_2d283fe639934fc29581d9837e12b904"
      }
     },
     "8d0cbc3fbb264e2eb78e13e8dba2621d": {
      "model_module": "@jupyter-widgets/controls",
      "model_module_version": "1.5.0",
      "model_name": "VBoxModel",
      "state": {
       "children": [
        "IPY_MODEL_6838805b03a2482d8c427494546084e6",
        "IPY_MODEL_d04f5c84f30941f2afc70081d7bb4bea",
        "IPY_MODEL_6e73e1d4b89b487f8e11371aee8cfedc",
        "IPY_MODEL_55dc9406b2f04171a6c4763acae52e57",
        "IPY_MODEL_202ad26a15ee4fd68ade5cd2bbb2e9fa"
       ],
       "layout": "IPY_MODEL_1ec76eb471f24a33936ee28efff1b7d9"
      }
     },
     "8d7658eabfe04017833cfdcb270adfc2": {
      "model_module": "@jupyter-widgets/controls",
      "model_module_version": "1.5.0",
      "model_name": "DescriptionStyleModel",
      "state": {
       "description_width": ""
      }
     },
     "8d80af9596204b978b135fb004c70200": {
      "model_module": "@jupyter-widgets/controls",
      "model_module_version": "1.5.0",
      "model_name": "VBoxModel",
      "state": {
       "children": [
        "IPY_MODEL_8100fa43e3634df0bd124db013a63ccb",
        "IPY_MODEL_edc98e6ac6534fe5af68c12ae1a369f8"
       ],
       "layout": "IPY_MODEL_64a6cda16e744e34be1c8cbaabf4a98f"
      }
     },
     "8dd0ac6c91e94ba59ce475622107ebd6": {
      "model_module": "@jupyter-widgets/controls",
      "model_module_version": "1.5.0",
      "model_name": "SliderStyleModel",
      "state": {
       "description_width": ""
      }
     },
     "8e54011dae06435ea0194f0310041842": {
      "model_module": "@jupyter-widgets/base",
      "model_module_version": "1.2.0",
      "model_name": "LayoutModel",
      "state": {}
     },
     "8f0ee92f6c224876ad928391f42463df": {
      "model_module": "@jupyter-widgets/controls",
      "model_module_version": "1.5.0",
      "model_name": "DescriptionStyleModel",
      "state": {
       "description_width": ""
      }
     },
     "8f3cb9d43bce4b51b5a14b2c971ba5ed": {
      "model_module": "@jupyter-widgets/controls",
      "model_module_version": "1.5.0",
      "model_name": "ButtonStyleModel",
      "state": {}
     },
     "8f45fd9399314d90852c7551e6474e52": {
      "model_module": "@jupyter-widgets/base",
      "model_module_version": "1.2.0",
      "model_name": "LayoutModel",
      "state": {}
     },
     "8f79894ce8d04cbfbba111ce1b85ae0e": {
      "model_module": "@jupyter-widgets/base",
      "model_module_version": "1.2.0",
      "model_name": "LayoutModel",
      "state": {}
     },
     "8f97a1256a7a4b4d88ee7b12ed296f7d": {
      "model_module": "@jupyter-widgets/controls",
      "model_module_version": "1.5.0",
      "model_name": "VBoxModel",
      "state": {
       "children": [
        "IPY_MODEL_5f8edc76ff2f4809914951707ec5412f",
        "IPY_MODEL_eb9a140c42104ac3821d28d7751505ea"
       ],
       "layout": "IPY_MODEL_9d2913883df748b9847b1c5f74bef16e"
      }
     },
     "8fa5d8ea6357420a9e88323ac840d35a": {
      "model_module": "@jupyter-widgets/base",
      "model_module_version": "1.2.0",
      "model_name": "LayoutModel",
      "state": {}
     },
     "8ffe288a21d14784a4377fd7dd3ea955": {
      "model_module": "@jupyter-widgets/controls",
      "model_module_version": "1.5.0",
      "model_name": "HBoxModel",
      "state": {
       "children": [
        "IPY_MODEL_73633c26bd8a4dacb6a6d9d22e1e15a8",
        "IPY_MODEL_c4c95d63148f464e9dd4a536d1a3eccd",
        "IPY_MODEL_b9496a01cd96495391eca7cc98d62bc2"
       ],
       "layout": "IPY_MODEL_274f76700c954b57897cdbbcbbadf4c9"
      }
     },
     "905313e8a9ff4f63a6649e701a577806": {
      "model_module": "@jupyter-widgets/base",
      "model_module_version": "1.2.0",
      "model_name": "LayoutModel",
      "state": {}
     },
     "90d5dcab6a7a4d3b9d6adf099ed1fd9d": {
      "model_module": "@jupyter-widgets/base",
      "model_module_version": "1.2.0",
      "model_name": "LayoutModel",
      "state": {}
     },
     "91487014501e44ada8bc02dbc72208ca": {
      "model_module": "@jupyter-widgets/base",
      "model_module_version": "1.2.0",
      "model_name": "LayoutModel",
      "state": {}
     },
     "91c8aeb64f1a491fbfaef86c88a5eed5": {
      "model_module": "@jupyter-widgets/base",
      "model_module_version": "1.2.0",
      "model_name": "LayoutModel",
      "state": {}
     },
     "91cd7a313cfc48ecb9a7854e0db4bb00": {
      "model_module": "@jupyter-widgets/base",
      "model_module_version": "1.2.0",
      "model_name": "LayoutModel",
      "state": {}
     },
     "91d2e221be444c3da2c7c6a2372ff1bd": {
      "model_module": "@jupyter-widgets/base",
      "model_module_version": "1.2.0",
      "model_name": "LayoutModel",
      "state": {
       "margin": "20px 0px"
      }
     },
     "929a58d4b00043d3adfe7ade5adf4750": {
      "model_module": "@jupyter-widgets/controls",
      "model_module_version": "1.5.0",
      "model_name": "ButtonModel",
      "state": {
       "description": "Delete category",
       "layout": "IPY_MODEL_f69c64acab6a4f66aaa02e75adf6953c",
       "style": "IPY_MODEL_d081c691090747c9bfd01822d4b7f321"
      }
     },
     "92a089ba053b470583d4f3286459bde0": {
      "model_module": "@jupyter-widgets/controls",
      "model_module_version": "1.5.0",
      "model_name": "ButtonModel",
      "state": {
       "description": "Delete category",
       "layout": "IPY_MODEL_84854f36d57f44cdb47eee7950594c24",
       "style": "IPY_MODEL_eaeb8146833a42b7af51fd5c985e4dd5"
      }
     },
     "92d3e1a73dbf474cb234abd0c8c91e06": {
      "model_module": "@jupyter-widgets/controls",
      "model_module_version": "1.5.0",
      "model_name": "HBoxModel",
      "state": {
       "children": [
        "IPY_MODEL_d5f984b86b8b440f9ca62a326c4c83b2",
        "IPY_MODEL_c8d48078cd53439bb0bbeac841e6f41c"
       ],
       "layout": "IPY_MODEL_f09f1ace973b426ba3c22154cd126671"
      }
     },
     "932e3e4d66b44877b8d741c6d10f8b8d": {
      "model_module": "pgljupyter",
      "model_module_version": "^0.1.17",
      "model_name": "CurveEditorModel",
      "state": {
       "_model_module_version": "^0.1.17",
       "_view_module_version": "^0.1.17",
       "children": [
        "IPY_MODEL_bace2ea2eb2243179fa31534d170e915",
        "IPY_MODEL_68ad073365ea4c48a4587a43fea93380"
       ],
       "layout": "IPY_MODEL_57aca0ed77114602bdccdf32ec586e40"
      }
     },
     "9345e72f3ea94be9b031efe0988c8000": {
      "model_module": "@jupyter-widgets/base",
      "model_module_version": "1.2.0",
      "model_name": "LayoutModel",
      "state": {}
     },
     "936e005500894ad2acc9855c954d85fe": {
      "model_module": "@jupyter-widgets/controls",
      "model_module_version": "1.5.0",
      "model_name": "CheckboxModel",
      "state": {
       "description": "value",
       "disabled": false,
       "layout": "IPY_MODEL_2f1891f9123d4aadb113ebf57e7309b9",
       "style": "IPY_MODEL_e61c67b564444dc5a3a7db664b67369d",
       "value": false
      }
     },
     "943719331dbb40f6901e93a6aec16957": {
      "model_module": "@jupyter-widgets/controls",
      "model_module_version": "1.5.0",
      "model_name": "ButtonStyleModel",
      "state": {}
     },
     "943b55030703408fb31bc11381d5b95c": {
      "model_module": "@jupyter-widgets/controls",
      "model_module_version": "1.5.0",
      "model_name": "ButtonStyleModel",
      "state": {}
     },
     "94629e9d7e60472d92446f93e9bcc909": {
      "model_module": "@jupyter-widgets/base",
      "model_module_version": "1.2.0",
      "model_name": "LayoutModel",
      "state": {
       "margin": "20px 0px"
      }
     },
     "947f784c5c254695a0e208acb53f9af2": {
      "model_module": "@jupyter-widgets/controls",
      "model_module_version": "1.5.0",
      "model_name": "DescriptionStyleModel",
      "state": {
       "description_width": ""
      }
     },
     "949ceaef1ba64c69a10d466eacffc89a": {
      "model_module": "pgljupyter",
      "model_module_version": "^0.1.17",
      "model_name": "BoolEditorModel",
      "state": {
       "_model_module_version": "^0.1.17",
       "_view_module_version": "^0.1.17",
       "children": [
        "IPY_MODEL_e252e93b384c45d799119e1cf0591aed",
        "IPY_MODEL_040e71594a654333bf5d9afdeaaa8bfb"
       ],
       "layout": "IPY_MODEL_3fe343e75ac94c068b655fa5e2af0d85"
      }
     },
     "94ba5ac714d14813a298dd6723cd9236": {
      "model_module": "@jupyter-widgets/controls",
      "model_module_version": "1.5.0",
      "model_name": "HBoxModel",
      "state": {
       "layout": "IPY_MODEL_79d485d514a6472d80c23af8bc94d914"
      }
     },
     "94f20361e6ce42f49f17081b90e2b986": {
      "model_module": "@jupyter-widgets/controls",
      "model_module_version": "1.5.0",
      "model_name": "ColorPickerModel",
      "state": {
       "description": "emission",
       "disabled": false,
       "layout": "IPY_MODEL_78728373835d47f6a41cb71ca5276ab4",
       "style": "IPY_MODEL_e015b5c50c7a40f2af9292feae61b5fd",
       "value": "#000000"
      }
     },
     "94f9cc259bdc419b9b0ff370c6594fdf": {
      "model_module": "@jupyter-widgets/base",
      "model_module_version": "1.2.0",
      "model_name": "LayoutModel",
      "state": {}
     },
     "957aec949f4e460e9faf404d5e0aeda1": {
      "model_module": "@jupyter-widgets/base",
      "model_module_version": "1.2.0",
      "model_name": "LayoutModel",
      "state": {}
     },
     "958f873bf3c04866b6afc414036223c1": {
      "model_module": "@jupyter-widgets/controls",
      "model_module_version": "1.5.0",
      "model_name": "VBoxModel",
      "state": {
       "children": [
        "IPY_MODEL_59781e911c134cb2b33bf69270976f5d",
        "IPY_MODEL_6c5dea28b43243e0adc87e8cd1ce225a"
       ],
       "layout": "IPY_MODEL_62c484153add4dc1995260929630516f"
      }
     },
     "967e0667a6f449a88357b92b7260ab43": {
      "model_module": "@jupyter-widgets/base",
      "model_module_version": "1.2.0",
      "model_name": "LayoutModel",
      "state": {}
     },
     "96bc50480e7e42a8b1f61a071029cc63": {
      "model_module": "@jupyter-widgets/controls",
      "model_module_version": "1.5.0",
      "model_name": "HBoxModel",
      "state": {
       "children": [
        "IPY_MODEL_43ea0eb84aea499a98856c1c3d83c4ce",
        "IPY_MODEL_bd085d32ee234ffaa54087e4298ae38a"
       ],
       "layout": "IPY_MODEL_31f5ff601a6640abb502a68cdac40105"
      }
     },
     "96c0c8c7520d4997b9e6aca7b50747aa": {
      "model_module": "@jupyter-widgets/controls",
      "model_module_version": "1.5.0",
      "model_name": "VBoxModel",
      "state": {
       "children": [
        "IPY_MODEL_c56d817ddab14b92ae337e6056f3bf28",
        "IPY_MODEL_2597b389aa674bb6b3b7a2bd86b5c741"
       ],
       "layout": "IPY_MODEL_91cd7a313cfc48ecb9a7854e0db4bb00"
      }
     },
     "97b8beeaf5874630ab2772b27080fe1c": {
      "model_module": "@jupyter-widgets/controls",
      "model_module_version": "1.5.0",
      "model_name": "ButtonStyleModel",
      "state": {}
     },
     "97dfebdbd2cb4227bb22f152e4271d41": {
      "model_module": "@jupyter-widgets/controls",
      "model_module_version": "1.5.0",
      "model_name": "ButtonStyleModel",
      "state": {}
     },
     "980f5f7384c94f17a33734f0da609eae": {
      "model_module": "@jupyter-widgets/base",
      "model_module_version": "1.2.0",
      "model_name": "LayoutModel",
      "state": {}
     },
     "9844eea0424e45dc8b0a56a62b94afcb": {
      "model_module": "@jupyter-widgets/controls",
      "model_module_version": "1.5.0",
      "model_name": "VBoxModel",
      "state": {
       "children": [
        "IPY_MODEL_5c77356aa16d408199842c337bd3a35b",
        "IPY_MODEL_5ff29dc6acd842d1a07cb190cb8f717c"
       ],
       "layout": "IPY_MODEL_5cec734e771a4b9a83166260a85f0831"
      }
     },
     "9860290244b4438685fe54ea69928cbf": {
      "model_module": "@jupyter-widgets/base",
      "model_module_version": "1.2.0",
      "model_name": "LayoutModel",
      "state": {}
     },
     "98cbbbd503224049b8caae7747c82ffb": {
      "model_module": "@jupyter-widgets/base",
      "model_module_version": "1.2.0",
      "model_name": "LayoutModel",
      "state": {}
     },
     "9a1f62c01583479196099c51d901258d": {
      "model_module": "@jupyter-widgets/controls",
      "model_module_version": "1.5.0",
      "model_name": "FloatSliderModel",
      "state": {
       "description": "diffuse",
       "layout": "IPY_MODEL_45872188056449aaaf635cd2ca7c541b",
       "max": 3,
       "step": 0.1,
       "style": "IPY_MODEL_19c147084f8a47a3b3fedb22e77d27e2",
       "value": 3
      }
     },
     "9a7d955b538e462b98d6a4267739fbbc": {
      "model_module": "@jupyter-widgets/controls",
      "model_module_version": "1.5.0",
      "model_name": "DropdownModel",
      "state": {
       "_options_labels": [
        "Color"
       ],
       "index": 0,
       "layout": "IPY_MODEL_a36f72d6cdb7425191b462347bf006ff",
       "style": "IPY_MODEL_2fb489c0a1f24d4dbb89b55a7a26018c"
      }
     },
     "9ad6599f61724253badd65a360ae3c56": {
      "model_module": "@jupyter-widgets/base",
      "model_module_version": "1.2.0",
      "model_name": "LayoutModel",
      "state": {
       "flex_flow": "row wrap"
      }
     },
     "9ad98b92564a459b8d4412ccba52e740": {
      "model_module": "@jupyter-widgets/base",
      "model_module_version": "1.2.0",
      "model_name": "LayoutModel",
      "state": {
       "flex_flow": "row wrap",
       "margin": "20px"
      }
     },
     "9b686d4c5e044168839e31f93cda812c": {
      "model_module": "@jupyter-widgets/base",
      "model_module_version": "1.2.0",
      "model_name": "LayoutModel",
      "state": {}
     },
     "9b77767513904aad90528f896abd820f": {
      "model_module": "@jupyter-widgets/controls",
      "model_module_version": "1.5.0",
      "model_name": "TextModel",
      "state": {
       "continuous_update": false,
       "description": "name",
       "layout": "IPY_MODEL_1f24bd95724e4366bcd4f8dc20f56947",
       "style": "IPY_MODEL_86732fc578b24d23920a3193f23862aa",
       "value": "ELASTICITY"
      }
     },
     "9b797a4c7f324387ba95b428053a78ad": {
      "model_module": "@jupyter-widgets/controls",
      "model_module_version": "1.5.0",
      "model_name": "ButtonModel",
      "state": {
       "description": "Add",
       "layout": "IPY_MODEL_bcfa0047aac44186a563b0cdbe068e05",
       "style": "IPY_MODEL_abba815bb2a9489e904cc2956933f026"
      }
     },
     "9bf8ceedf5bb497a9f64723f7f73c281": {
      "model_module": "@jupyter-widgets/controls",
      "model_module_version": "1.5.0",
      "model_name": "SliderStyleModel",
      "state": {
       "description_width": ""
      }
     },
     "9c2a0a6750964416b2afffd8a797b6e0": {
      "model_module": "@jupyter-widgets/controls",
      "model_module_version": "1.5.0",
      "model_name": "TextModel",
      "state": {
       "continuous_update": false,
       "description": "name",
       "layout": "IPY_MODEL_3ad842c6e9ea489cb1f1ec1f6763ef3b",
       "style": "IPY_MODEL_06b240415ab4413492f1bc2ee04edce6",
       "value": "MAX_ORDER"
      }
     },
     "9c44e538db2e4774ad2324b1b3de55f3": {
      "model_module": "@jupyter-widgets/controls",
      "model_module_version": "1.5.0",
      "model_name": "ButtonModel",
      "state": {
       "description": "Apply changes",
       "disabled": true,
       "layout": "IPY_MODEL_4a5b563bf1214bffaf0dd9e377691494",
       "style": "IPY_MODEL_db2e9790947c455ab06bbdd5bfc41c3e"
      }
     },
     "9d2913883df748b9847b1c5f74bef16e": {
      "model_module": "@jupyter-widgets/base",
      "model_module_version": "1.2.0",
      "model_name": "LayoutModel",
      "state": {}
     },
     "9d66fc2147bc4a6786af942676b3a8ef": {
      "model_module": "@jupyter-widgets/controls",
      "model_module_version": "1.5.0",
      "model_name": "HBoxModel",
      "state": {
       "layout": "IPY_MODEL_9ad98b92564a459b8d4412ccba52e740"
      }
     },
     "9e414165304244b6935f13c54e741597": {
      "model_module": "@jupyter-widgets/base",
      "model_module_version": "1.2.0",
      "model_name": "LayoutModel",
      "state": {}
     },
     "9e81db5f4c4a42079b739015adcbc6ee": {
      "model_module": "@jupyter-widgets/controls",
      "model_module_version": "1.5.0",
      "model_name": "TextModel",
      "state": {
       "continuous_update": false,
       "description": "name",
       "layout": "IPY_MODEL_bcccc6246e444849b171dc745324b6a6",
       "style": "IPY_MODEL_7b15a02cb26344feaab56583a189f008",
       "value": "TROPISM"
      }
     },
     "9fe3ec1b512846a29e0928d338c0096d": {
      "model_module": "@jupyter-widgets/base",
      "model_module_version": "1.2.0",
      "model_name": "LayoutModel",
      "state": {
       "flex_flow": "row wrap"
      }
     },
     "a02fca063f9c46d0938361372e983692": {
      "model_module": "@jupyter-widgets/controls",
      "model_module_version": "1.5.0",
      "model_name": "AccordionModel",
      "state": {
       "_titles": {
        "0": "options",
        "1": "materials",
        "2": "Panel"
       },
       "children": [
        "IPY_MODEL_d4408b930be0443aa934dbe1dc496a24",
        "IPY_MODEL_9844eea0424e45dc8b0a56a62b94afcb",
        "IPY_MODEL_1c0e520ebe0c4cd8a27c7006c8a3a375"
       ],
       "layout": "IPY_MODEL_0ab1b9fa6eef4194a4150e18293fb069"
      }
     },
     "a06a45c01bb24db59661bc4428fcc43a": {
      "model_module": "@jupyter-widgets/controls",
      "model_module_version": "1.5.0",
      "model_name": "ButtonStyleModel",
      "state": {}
     },
     "a0b1d5bd2c7d45cc93331cf9bb10241d": {
      "model_module": "@jupyter-widgets/base",
      "model_module_version": "1.2.0",
      "model_name": "LayoutModel",
      "state": {}
     },
     "a0b6c99c90264dc28dab6082eff4d05c": {
      "model_module": "@jupyter-widgets/base",
      "model_module_version": "1.2.0",
      "model_name": "LayoutModel",
      "state": {}
     },
     "a0c36b6a78f34c9b9120d2574f32538e": {
      "model_module": "@jupyter-widgets/controls",
      "model_module_version": "1.5.0",
      "model_name": "VBoxModel",
      "state": {
       "children": [
        "IPY_MODEL_8ffe288a21d14784a4377fd7dd3ea955",
        "IPY_MODEL_a9bd18d546eb4ac1bb02d5a3b16261ac"
       ],
       "layout": "IPY_MODEL_337a72aeb9574f2ea32628ffc9cab978"
      }
     },
     "a0e800bc4ad14cf4adde34722e3a3b2c": {
      "model_module": "@jupyter-widgets/base",
      "model_module_version": "1.2.0",
      "model_name": "LayoutModel",
      "state": {}
     },
     "a0f72627e393411dad979373f0fe4a33": {
      "model_module": "@jupyter-widgets/controls",
      "model_module_version": "1.5.0",
      "model_name": "ButtonModel",
      "state": {
       "description": "Delete",
       "layout": "IPY_MODEL_0a9899a788794b4595adbe7fdf8b964a",
       "style": "IPY_MODEL_943b55030703408fb31bc11381d5b95c"
      }
     },
     "a20bb74d6bcd4476815fdf974f2c5340": {
      "model_module": "pgljupyter",
      "model_module_version": "^0.1.17",
      "model_name": "_CurveEditorModel",
      "state": {
       "_model_module_version": "^0.1.17",
       "_view_module_version": "^0.1.17",
       "layout": "IPY_MODEL_7b6c9213cfaf4b5cb2772a41aa11406f",
       "points": [
        [
         -0.558642,
         0.0459491
        ],
        [
         -0.272827,
         -0.068981
        ],
        [
         -0.0295213,
         -0.153395
        ],
        [
         0.147239,
         -0.0700503
        ],
        [
         0.412901,
         0.0201295
        ],
        [
         0.575777,
         0.232735
        ]
       ],
       "type": "NurbsCurve2D"
      }
     },
     "a25f9ce11441435cac285faf342774e8": {
      "model_module": "@jupyter-widgets/controls",
      "model_module_version": "1.5.0",
      "model_name": "CheckboxModel",
      "state": {
       "description": "value",
       "disabled": false,
       "layout": "IPY_MODEL_cb6a235a20f34d6482d5f192a8e3700c",
       "style": "IPY_MODEL_15e144f49ca84a10bd5a3327a64fc973",
       "value": false
      }
     },
     "a2c25755f3cc4711b536c40c87e020a1": {
      "model_module": "@jupyter-widgets/controls",
      "model_module_version": "1.5.0",
      "model_name": "ButtonStyleModel",
      "state": {}
     },
     "a2e52704b6c64db6ab6f9e8c12f6d66b": {
      "model_module": "@jupyter-widgets/controls",
      "model_module_version": "1.5.0",
      "model_name": "HBoxModel",
      "state": {
       "children": [
        "IPY_MODEL_5e6f3a041eaa446790d8e5996ff8a5f9",
        "IPY_MODEL_c2888df4b50c4ef4b73bd56f3a2ff450"
       ],
       "layout": "IPY_MODEL_82149c89cec34540b389a4103e65fee1"
      }
     },
     "a2ea07b1c04e49fa9e91b7b8aff02d9c": {
      "model_module": "pgljupyter",
      "model_module_version": "^0.1.17",
      "model_name": "_CurveEditorModel",
      "state": {
       "_model_module_version": "^0.1.17",
       "_view_module_version": "^0.1.17",
       "layout": "IPY_MODEL_288106e178584e38a9f876dff0bcc0df",
       "points": [
        [
         -0.558642,
         0.0459491
        ],
        [
         -0.272827,
         -0.068981
        ],
        [
         -0.0295213,
         -0.153395
        ],
        [
         0.147239,
         -0.0700503
        ],
        [
         0.412901,
         0.0201295
        ],
        [
         0.575777,
         0.232735
        ]
       ],
       "type": "NurbsCurve2D"
      }
     },
     "a3307dea88bf469999a6b503a8903ef4": {
      "model_module": "@jupyter-widgets/controls",
      "model_module_version": "1.5.0",
      "model_name": "VBoxModel",
      "state": {
       "children": [
        "IPY_MODEL_587325cac70a438aa4c2ee917ca0f290",
        "IPY_MODEL_5b847079e17148b8858e44510e240024"
       ],
       "layout": "IPY_MODEL_1761710799b542dda0a1d854855f35f1"
      }
     },
     "a36f72d6cdb7425191b462347bf006ff": {
      "model_module": "@jupyter-widgets/base",
      "model_module_version": "1.2.0",
      "model_name": "LayoutModel",
      "state": {}
     },
     "a3cf61cfd83a44c2b39db15bc602f335": {
      "model_module": "@jupyter-widgets/controls",
      "model_module_version": "1.5.0",
      "model_name": "DescriptionStyleModel",
      "state": {
       "description_width": ""
      }
     },
     "a3eb4603f3804f2faca53740d3e1af7f": {
      "model_module": "@jupyter-widgets/base",
      "model_module_version": "1.2.0",
      "model_name": "LayoutModel",
      "state": {
       "margin": "20px 0px"
      }
     },
     "a44c4d1901df47cd9f98c1c7736354e2": {
      "model_module": "@jupyter-widgets/controls",
      "model_module_version": "1.5.0",
      "model_name": "ButtonModel",
      "state": {
       "description": "Delete",
       "layout": "IPY_MODEL_f6dc8efc90854310b6879ffe705f1b5d",
       "style": "IPY_MODEL_1327bbc874424b1b91dfd047270a10a8"
      }
     },
     "a46caae2b2fd41d3bf106e0431ae69bc": {
      "model_module": "@jupyter-widgets/base",
      "model_module_version": "1.2.0",
      "model_name": "LayoutModel",
      "state": {}
     },
     "a491d6fe6f754588af57ebdcb816cd23": {
      "model_module": "@jupyter-widgets/base",
      "model_module_version": "1.2.0",
      "model_name": "LayoutModel",
      "state": {}
     },
     "a4e3fa58c6374b579abae096326b6391": {
      "model_module": "@jupyter-widgets/controls",
      "model_module_version": "1.5.0",
      "model_name": "HBoxModel",
      "state": {
       "children": [
        "IPY_MODEL_73b01a5f494844838ae6d16571e9bf8a"
       ],
       "layout": "IPY_MODEL_aabf761375a6456cb8ec0b9f13d65c16"
      }
     },
     "a508373583d747088562faf532fe3bea": {
      "model_module": "@jupyter-widgets/base",
      "model_module_version": "1.2.0",
      "model_name": "LayoutModel",
      "state": {}
     },
     "a5574ee008264b18b190351321f0534b": {
      "model_module": "@jupyter-widgets/controls",
      "model_module_version": "1.5.0",
      "model_name": "DropdownModel",
      "state": {
       "_options_labels": [
        "branchpath"
       ],
       "index": 0,
       "layout": "IPY_MODEL_3a558fe7528541bda1cbdd25473406de",
       "style": "IPY_MODEL_e9e6f8ed9c6a4e988439579e3cde854c"
      }
     },
     "a5c82db0783741f183de01af118a9a6a": {
      "model_module": "@jupyter-widgets/controls",
      "model_module_version": "1.5.0",
      "model_name": "DropdownModel",
      "state": {
       "_options_labels": [
        "Color"
       ],
       "index": 0,
       "layout": "IPY_MODEL_bf0229d0446549b2a7c47bb709636fb3",
       "style": "IPY_MODEL_d05402d0599d4c9c8a124ee45543d221"
      }
     },
     "a6b8f7cb2d014531bbf48c6d2e31aad3": {
      "model_module": "pgljupyter",
      "model_module_version": "^0.1.17",
      "model_name": "BoolEditorModel",
      "state": {
       "_model_module_version": "^0.1.17",
       "_view_module_version": "^0.1.17",
       "children": [
        "IPY_MODEL_6c996669d273456c92faa39c87840c96",
        "IPY_MODEL_d1fd09e961804da988d14bd24c061e98"
       ],
       "layout": "IPY_MODEL_ce93fc6a34d04fcfa7cfb3da1da87d07"
      }
     },
     "a6c650c2acbb460eb65dca7ce638c093": {
      "model_module": "@jupyter-widgets/controls",
      "model_module_version": "1.5.0",
      "model_name": "ButtonStyleModel",
      "state": {}
     },
     "a70e108885724bf99c738213212b4cb0": {
      "model_module": "@jupyter-widgets/base",
      "model_module_version": "1.2.0",
      "model_name": "LayoutModel",
      "state": {}
     },
     "a736f77f8b4e497dad5a2f22dd0dc087": {
      "model_module": "@jupyter-widgets/base",
      "model_module_version": "1.2.0",
      "model_name": "LayoutModel",
      "state": {}
     },
     "a76c1b1534594ea1b0baf8941200228e": {
      "model_module": "@jupyter-widgets/base",
      "model_module_version": "1.2.0",
      "model_name": "LayoutModel",
      "state": {}
     },
     "a78b10b1b54c47f18c7f20b963afd1dd": {
      "model_module": "@jupyter-widgets/controls",
      "model_module_version": "1.5.0",
      "model_name": "HBoxModel",
      "state": {
       "children": [
        "IPY_MODEL_71703d3403e746a3ad735c7435e2b7bd",
        "IPY_MODEL_bf25e79874244d849b951f4d599fc232"
       ],
       "layout": "IPY_MODEL_c0721fbcda0544b882950dc8aa029943"
      }
     },
     "a7ccd1dbbbf54e72bd32638beedc23d2": {
      "model_module": "@jupyter-widgets/base",
      "model_module_version": "1.2.0",
      "model_name": "LayoutModel",
      "state": {}
     },
     "a7cd53ba55704902bc99eb6a92769f88": {
      "model_module": "@jupyter-widgets/base",
      "model_module_version": "1.2.0",
      "model_name": "LayoutModel",
      "state": {}
     },
     "a7deae3132074c1b888a35ee35addeb2": {
      "model_module": "@jupyter-widgets/controls",
      "model_module_version": "1.5.0",
      "model_name": "DescriptionStyleModel",
      "state": {
       "description_width": ""
      }
     },
     "a8023a37682f47139de5b8db3b2f79bc": {
      "model_module": "@jupyter-widgets/controls",
      "model_module_version": "1.5.0",
      "model_name": "HBoxModel",
      "state": {
       "layout": "IPY_MODEL_aabf761375a6456cb8ec0b9f13d65c16"
      }
     },
     "a808af68c6eb4343b036bf97e4f61a4c": {
      "model_module": "@jupyter-widgets/controls",
      "model_module_version": "1.5.0",
      "model_name": "HBoxModel",
      "state": {
       "children": [
        "IPY_MODEL_9c44e538db2e4774ad2324b1b3de55f3",
        "IPY_MODEL_ead7b6df1fb2458c98ec530bf3603f11"
       ],
       "layout": "IPY_MODEL_3350f2b7c85445c9b30678556b78d2c7"
      }
     },
     "a82a6ae68c854947b75ecd37f8cc2562": {
      "model_module": "@jupyter-widgets/controls",
      "model_module_version": "1.5.0",
      "model_name": "ButtonModel",
      "state": {
       "description": "Delete",
       "layout": "IPY_MODEL_8e54011dae06435ea0194f0310041842",
       "style": "IPY_MODEL_e65871d4ec1d42e689ec48ac0e760baa"
      }
     },
     "a82ac4bad3ff4e62a45b2acf116b5da2": {
      "model_module": "@jupyter-widgets/controls",
      "model_module_version": "1.5.0",
      "model_name": "HBoxModel",
      "state": {
       "children": [
        "IPY_MODEL_d67d41d8f90c4193b057f40b423b64ce"
       ],
       "layout": "IPY_MODEL_077d6c4697ee48cda12ab931d8630083"
      }
     },
     "a8be886548624e06a2456373f892bb5d": {
      "model_module": "@jupyter-widgets/controls",
      "model_module_version": "1.5.0",
      "model_name": "DropdownModel",
      "state": {
       "_options_labels": [
        "branchpath"
       ],
       "index": 0,
       "layout": "IPY_MODEL_77c1caa8eb2e40138f59ecaf6f42bbb6",
       "style": "IPY_MODEL_38dbe5a861a449148670f53aaccc619c"
      }
     },
     "a8ffb1d4b1cf4a2a98456ffc6f67c772": {
      "model_module": "@jupyter-widgets/base",
      "model_module_version": "1.2.0",
      "model_name": "LayoutModel",
      "state": {
       "flex_flow": "row wrap"
      }
     },
     "a9433416b61f41a7b40d6dc7eeca1060": {
      "model_module": "@jupyter-widgets/controls",
      "model_module_version": "1.5.0",
      "model_name": "DropdownModel",
      "state": {
       "_options_labels": [
        "Integer",
        "Float",
        "Bool"
       ],
       "index": 0,
       "layout": "IPY_MODEL_f5ccd60e655041db974af9f9be72476c",
       "style": "IPY_MODEL_5a5da1555842423b88d1cc334070dc64"
      }
     },
     "a962505021964ca1a23258544a730b82": {
      "model_module": "@jupyter-widgets/base",
      "model_module_version": "1.2.0",
      "model_name": "LayoutModel",
      "state": {
       "margin": "20px 0px"
      }
     },
     "a9bd18d546eb4ac1bb02d5a3b16261ac": {
      "model_module": "@jupyter-widgets/controls",
      "model_module_version": "1.5.0",
      "model_name": "TabModel",
      "state": {
       "_titles": {
        "0": "parameter_edition.json"
       },
       "children": [
        "IPY_MODEL_4d6ddceca3dc4317bece9d40ed4d1d12"
       ],
       "layout": "IPY_MODEL_bbbdab4f7a6048ad89fc54a01c4aab3e"
      }
     },
     "aaad5e844c1e46a199ddbbdbbbb06270": {
      "model_module": "@jupyter-widgets/controls",
      "model_module_version": "1.5.0",
      "model_name": "ButtonStyleModel",
      "state": {}
     },
     "aabf761375a6456cb8ec0b9f13d65c16": {
      "model_module": "@jupyter-widgets/base",
      "model_module_version": "1.2.0",
      "model_name": "LayoutModel",
      "state": {
       "flex_flow": "row wrap",
       "margin": "20px"
      }
     },
     "aac49f7539ac49e68a5e7649a1a08a19": {
      "model_module": "@jupyter-widgets/base",
      "model_module_version": "1.2.0",
      "model_name": "LayoutModel",
      "state": {
       "margin": "20px 0px"
      }
     },
     "aae9c03dec874de5b8352716964a3a7e": {
      "model_module": "@jupyter-widgets/controls",
      "model_module_version": "1.5.0",
      "model_name": "HBoxModel",
      "state": {
       "children": [
        "IPY_MODEL_178740e7e4ae43f39b50d29bb94e261c",
        "IPY_MODEL_503fe611b5e549889f3b2971df73d861"
       ],
       "layout": "IPY_MODEL_d37833164b53410c95b21a2ce2da19a6"
      }
     },
     "ab4492c973a74627a76a94ab1b3d545a": {
      "model_module": "@jupyter-widgets/controls",
      "model_module_version": "1.5.0",
      "model_name": "ColorPickerModel",
      "state": {
       "description": "ambient",
       "disabled": false,
       "layout": "IPY_MODEL_1c4101da5fa6475887e5f2d743d9f73f",
       "style": "IPY_MODEL_4381e3ded4fa4fce9adb8861ba780500",
       "value": "#a76501"
      }
     },
     "aba35c9dc91b4ef3908223f70fab76a0": {
      "model_module": "@jupyter-widgets/controls",
      "model_module_version": "1.5.0",
      "model_name": "DescriptionStyleModel",
      "state": {
       "description_width": ""
      }
     },
     "abb91fe8768949278a5bdbc9901ecd06": {
      "model_module": "@jupyter-widgets/controls",
      "model_module_version": "1.5.0",
      "model_name": "DescriptionStyleModel",
      "state": {
       "description_width": ""
      }
     },
     "abba7c2222824017a6c5c882d63649b9": {
      "model_module": "@jupyter-widgets/controls",
      "model_module_version": "1.5.0",
      "model_name": "DescriptionStyleModel",
      "state": {
       "description_width": ""
      }
     },
     "abba815bb2a9489e904cc2956933f026": {
      "model_module": "@jupyter-widgets/controls",
      "model_module_version": "1.5.0",
      "model_name": "ButtonStyleModel",
      "state": {}
     },
     "abea169ef6da4b9f966404428a26293d": {
      "model_module": "@jupyter-widgets/controls",
      "model_module_version": "1.5.0",
      "model_name": "VBoxModel",
      "state": {
       "children": [
        "IPY_MODEL_6eef26d131ea4490aab5656157009220",
        "IPY_MODEL_382f0b687d784b29b9eacd485e7893e6"
       ],
       "layout": "IPY_MODEL_ef08f73bc2d846ee91d809009c5e56a2"
      }
     },
     "aca55aeb94c74d1a94d60397dcbda224": {
      "model_module": "@jupyter-widgets/base",
      "model_module_version": "1.2.0",
      "model_name": "LayoutModel",
      "state": {}
     },
     "add4b2af7f1d4382b154bc4e691df3da": {
      "model_module": "@jupyter-widgets/base",
      "model_module_version": "1.2.0",
      "model_name": "LayoutModel",
      "state": {}
     },
     "ade1c10c481441aab8bbf72b414425c6": {
      "model_module": "@jupyter-widgets/controls",
      "model_module_version": "1.5.0",
      "model_name": "FloatSliderModel",
      "state": {
       "description": "value",
       "layout": "IPY_MODEL_327f3a58ffee4c76856dc551bb3bf887",
       "max": 3,
       "step": 0.001,
       "style": "IPY_MODEL_65d7b07d001149adaf235845e3815443",
       "value": 0.03
      }
     },
     "ae2a7fa29c9b4b20b35a7cb8bd21c0e6": {
      "model_module": "pgljupyter",
      "model_module_version": "^0.1.17",
      "model_name": "ParameterEditorModel",
      "state": {
       "_model_module_version": "^0.1.17",
       "_view_module_version": "^0.1.17",
       "children": [
        "IPY_MODEL_8d80af9596204b978b135fb004c70200"
       ],
       "layout": "IPY_MODEL_f10ee429cc614fe7b427ca26d4fb7414"
      }
     },
     "aea06bf45cd147cf9b0870eea5947acc": {
      "model_module": "@jupyter-widgets/controls",
      "model_module_version": "1.5.0",
      "model_name": "TextModel",
      "state": {
       "continuous_update": false,
       "description": "name",
       "layout": "IPY_MODEL_d3343b8d14c14ffd912eaed631853b10",
       "style": "IPY_MODEL_1322851623f843c18eeef82aaada4a0e",
       "value": "Color_1"
      }
     },
     "aed70701702b44fbafb4978771d54087": {
      "model_module": "@jupyter-widgets/base",
      "model_module_version": "1.2.0",
      "model_name": "LayoutModel",
      "state": {
       "margin": "20px 0px"
      }
     },
     "aee5e00d2fa6451a8cedeb0e61379266": {
      "model_module": "@jupyter-widgets/controls",
      "model_module_version": "1.5.0",
      "model_name": "DescriptionStyleModel",
      "state": {
       "description_width": ""
      }
     },
     "aee857e504584088adec527437da4db6": {
      "model_module": "@jupyter-widgets/base",
      "model_module_version": "1.2.0",
      "model_name": "LayoutModel",
      "state": {
       "margin": "20px 0px"
      }
     },
     "af004965eb7f4161ba899d38843b9d8a": {
      "model_module": "@jupyter-widgets/controls",
      "model_module_version": "1.5.0",
      "model_name": "ButtonStyleModel",
      "state": {}
     },
     "af9bfe239682489eab143309fa6bb46a": {
      "model_module": "@jupyter-widgets/controls",
      "model_module_version": "1.5.0",
      "model_name": "ColorPickerModel",
      "state": {
       "description": "ambient",
       "disabled": false,
       "layout": "IPY_MODEL_b5dbede3412544109a36f6ce0fb775b1",
       "style": "IPY_MODEL_89fa7b917d104863af0d9e482f64a26e",
       "value": "#412d0f"
      }
     },
     "afc710bdbd074c8984877f2787029126": {
      "model_module": "@jupyter-widgets/controls",
      "model_module_version": "1.5.0",
      "model_name": "ButtonStyleModel",
      "state": {}
     },
     "b0155be31b264d4795cf4c19cb751916": {
      "model_module": "@jupyter-widgets/controls",
      "model_module_version": "1.5.0",
      "model_name": "HBoxModel",
      "state": {
       "children": [
        "IPY_MODEL_60756bdad3764f548fdd1fd1b3cb98f4",
        "IPY_MODEL_bb287a3071fb4cfe9a9a7d2c823cb07c"
       ],
       "layout": "IPY_MODEL_4a151df32bab40dfb50ed4b500a2ce22"
      }
     },
     "b030e03f82b74641a7ff1be7367238fe": {
      "model_module": "@jupyter-widgets/base",
      "model_module_version": "1.2.0",
      "model_name": "LayoutModel",
      "state": {}
     },
     "b04cfdbdbfb94efd8cc010e7faf1cc87": {
      "model_module": "@jupyter-widgets/base",
      "model_module_version": "1.2.0",
      "model_name": "LayoutModel",
      "state": {}
     },
     "b05b703f8a554d6ca7e839ad39957146": {
      "model_module": "@jupyter-widgets/base",
      "model_module_version": "1.2.0",
      "model_name": "LayoutModel",
      "state": {}
     },
     "b07cb87af14449968a22338183bba991": {
      "model_module": "@jupyter-widgets/controls",
      "model_module_version": "1.5.0",
      "model_name": "HBoxModel",
      "state": {
       "children": [
        "IPY_MODEL_5e6f3a041eaa446790d8e5996ff8a5f9",
        "IPY_MODEL_c2888df4b50c4ef4b73bd56f3a2ff450"
       ],
       "layout": "IPY_MODEL_dc18307783d34ca3b1c17429facc3b65"
      }
     },
     "b0b75205048a4f33bbbab210cf661237": {
      "model_module": "@jupyter-widgets/controls",
      "model_module_version": "1.5.0",
      "model_name": "DescriptionStyleModel",
      "state": {
       "description_width": ""
      }
     },
     "b12f1e0ae54f47439e5505ba5820c7a9": {
      "model_module": "@jupyter-widgets/base",
      "model_module_version": "1.2.0",
      "model_name": "LayoutModel",
      "state": {}
     },
     "b18199b35ae44bc7b716f340def45fb5": {
      "model_module": "@jupyter-widgets/controls",
      "model_module_version": "1.5.0",
      "model_name": "HBoxModel",
      "state": {
       "children": [
        "IPY_MODEL_e81dbe00628841ff951301e070dd243b",
        "IPY_MODEL_9a7d955b538e462b98d6a4267739fbbc"
       ],
       "layout": "IPY_MODEL_a0b1d5bd2c7d45cc93331cf9bb10241d"
      }
     },
     "b1a60eba28e1497ca52c2523946f5150": {
      "model_module": "@jupyter-widgets/base",
      "model_module_version": "1.2.0",
      "model_name": "LayoutModel",
      "state": {
       "margin": "20px 0px"
      }
     },
     "b1ec2fa1aaa847cd8a7040d9505ae305": {
      "model_module": "@jupyter-widgets/base",
      "model_module_version": "1.2.0",
      "model_name": "LayoutModel",
      "state": {
       "flex_flow": "row wrap"
      }
     },
     "b216de793040439cb9d3d470dd973fe7": {
      "model_module": "@jupyter-widgets/controls",
      "model_module_version": "1.5.0",
      "model_name": "HBoxModel",
      "state": {
       "children": [
        "IPY_MODEL_60c3de6474694288a6abd834b89580ff",
        "IPY_MODEL_2530e64cecf54200969afa15664ab048",
        "IPY_MODEL_5accf9bb8a2c4e5aa3c2517e02e44bdc"
       ],
       "layout": "IPY_MODEL_55322a282bca406cb7a13d8a9a782c3b"
      }
     },
     "b22d36a0113848faafd904f5374645f6": {
      "model_module": "@jupyter-widgets/controls",
      "model_module_version": "1.5.0",
      "model_name": "ButtonModel",
      "state": {
       "description": "Delete",
       "layout": "IPY_MODEL_a70e108885724bf99c738213212b4cb0",
       "style": "IPY_MODEL_c7dfe68d50454f4db6ebe9603518613d"
      }
     },
     "b2381f41d62e4fb1bc62ccf5843f3701": {
      "model_module": "@jupyter-widgets/controls",
      "model_module_version": "1.5.0",
      "model_name": "HBoxModel",
      "state": {
       "children": [
        "IPY_MODEL_5e6f3a041eaa446790d8e5996ff8a5f9",
        "IPY_MODEL_c2888df4b50c4ef4b73bd56f3a2ff450"
       ],
       "layout": "IPY_MODEL_83167db0aed14eaebf1e14bb70adcaab"
      }
     },
     "b25d10dd05a64420b50e196f37b35c3b": {
      "model_module": "@jupyter-widgets/controls",
      "model_module_version": "1.5.0",
      "model_name": "DescriptionStyleModel",
      "state": {
       "description_width": ""
      }
     },
     "b295320d8c5a47c694be47f7f9889dcf": {
      "model_module": "@jupyter-widgets/controls",
      "model_module_version": "1.5.0",
      "model_name": "VBoxModel",
      "state": {
       "children": [
        "IPY_MODEL_9d66fc2147bc4a6786af942676b3a8ef",
        "IPY_MODEL_29155f49beaa4ff9a2ce85b4ab2d28fa"
       ],
       "layout": "IPY_MODEL_a7ccd1dbbbf54e72bd32638beedc23d2"
      }
     },
     "b29d0ece3a2e4f0d90df0dc53e697375": {
      "model_module": "@jupyter-widgets/base",
      "model_module_version": "1.2.0",
      "model_name": "LayoutModel",
      "state": {}
     },
     "b3269d3dfb7c4671953e52c05390ced3": {
      "model_module": "@jupyter-widgets/controls",
      "model_module_version": "1.5.0",
      "model_name": "BoundedIntTextModel",
      "state": {
       "description": "index",
       "layout": "IPY_MODEL_838ec3d73b0e436aa8619cbb51016361",
       "style": "IPY_MODEL_3035bcf30b9b4882b3d0f26eefc2d198",
       "value": 1
      }
     },
     "b32b12785fc8464885b6ff9b25f4c8c2": {
      "model_module": "@jupyter-widgets/controls",
      "model_module_version": "1.5.0",
      "model_name": "HBoxModel",
      "state": {
       "children": [
        "IPY_MODEL_764486e4601d48a0b852f49ef3fd7b10"
       ],
       "layout": "IPY_MODEL_077d6c4697ee48cda12ab931d8630083"
      }
     },
     "b33f59602d7840b2a34ea5d0b59370c4": {
      "model_module": "@jupyter-widgets/controls",
      "model_module_version": "1.5.0",
      "model_name": "SliderStyleModel",
      "state": {
       "description_width": ""
      }
     },
     "b385b6d532ca43d9b24d1e4fe9e56a1c": {
      "model_module": "@jupyter-widgets/controls",
      "model_module_version": "1.5.0",
      "model_name": "HBoxModel",
      "state": {
       "children": [
        "IPY_MODEL_bc2a6042e6c54aef9a2c34b44c1be469"
       ],
       "layout": "IPY_MODEL_55322a282bca406cb7a13d8a9a782c3b"
      }
     },
     "b3bb81daa6a24162a9402df710f52339": {
      "model_module": "@jupyter-widgets/controls",
      "model_module_version": "1.5.0",
      "model_name": "CheckboxModel",
      "state": {
       "description": "Auto apply",
       "disabled": false,
       "layout": "IPY_MODEL_2653af576dd8477aaa4ac91957a54939",
       "style": "IPY_MODEL_7b13333f3a2b49a094e93e4098a9384f",
       "value": false
      }
     },
     "b4e99e043faf45d7b4bfdc113a00c7f6": {
      "model_module": "@jupyter-widgets/base",
      "model_module_version": "1.2.0",
      "model_name": "LayoutModel",
      "state": {}
     },
     "b4ee905ce512418daf49f7ec0784844c": {
      "model_module": "@jupyter-widgets/base",
      "model_module_version": "1.2.0",
      "model_name": "LayoutModel",
      "state": {}
     },
     "b5646a6b56434076bf30131078ed58ca": {
      "model_module": "@jupyter-widgets/base",
      "model_module_version": "1.2.0",
      "model_name": "LayoutModel",
      "state": {}
     },
     "b5ce5a2f824649a1b1d767a1bbc030ab": {
      "model_module": "@jupyter-widgets/base",
      "model_module_version": "1.2.0",
      "model_name": "LayoutModel",
      "state": {}
     },
     "b5dbede3412544109a36f6ce0fb775b1": {
      "model_module": "@jupyter-widgets/base",
      "model_module_version": "1.2.0",
      "model_name": "LayoutModel",
      "state": {}
     },
     "b5faa9c4ab2a4bcfbf2aa0b93007eb45": {
      "model_module": "@jupyter-widgets/base",
      "model_module_version": "1.2.0",
      "model_name": "LayoutModel",
      "state": {
       "margin": "20px 0px"
      }
     },
     "b672279b0f4349878c00f85c80a638d1": {
      "model_module": "@jupyter-widgets/base",
      "model_module_version": "1.2.0",
      "model_name": "LayoutModel",
      "state": {}
     },
     "b67369230dc0406ba7009b4b37740017": {
      "model_module": "@jupyter-widgets/controls",
      "model_module_version": "1.5.0",
      "model_name": "HBoxModel",
      "state": {
       "children": [
        "IPY_MODEL_122ec68af2fc4f20afeab04cda58f6af"
       ],
       "layout": "IPY_MODEL_f3e5cd2469644286a3293ea347619dc8"
      }
     },
     "b6876b3f45ad424881f720bf85ef6ab3": {
      "model_module": "@jupyter-widgets/base",
      "model_module_version": "1.2.0",
      "model_name": "LayoutModel",
      "state": {}
     },
     "b6fce056d2934ddcbe8c957f2f86c674": {
      "model_module": "@jupyter-widgets/base",
      "model_module_version": "1.2.0",
      "model_name": "LayoutModel",
      "state": {
       "flex_flow": "row wrap",
       "margin": "20px"
      }
     },
     "b7548d632cf841c2958794a08c1b5fd7": {
      "model_module": "@jupyter-widgets/controls",
      "model_module_version": "1.5.0",
      "model_name": "ButtonModel",
      "state": {
       "description": "Delete",
       "layout": "IPY_MODEL_80e1911e1a8644a2a8842b673aa1143b",
       "style": "IPY_MODEL_c49cf02dec3c4bdba86d9e9e2862c2a6"
      }
     },
     "b758e401b1ac497dad54f81758263985": {
      "model_module": "@jupyter-widgets/controls",
      "model_module_version": "1.5.0",
      "model_name": "ButtonModel",
      "state": {
       "description": "Add",
       "layout": "IPY_MODEL_67d5daf67a5d4e86ab91393fca95c46b",
       "style": "IPY_MODEL_97dfebdbd2cb4227bb22f152e4271d41"
      }
     },
     "b759af38485044488dec0f5b194f1e5d": {
      "model_module": "@jupyter-widgets/controls",
      "model_module_version": "1.5.0",
      "model_name": "HBoxModel",
      "state": {
       "children": [
        "IPY_MODEL_2f74202ba0fc4861b56e24bc1a2b8444",
        "IPY_MODEL_25ba085a82ad4ecf982d99472af6e5ba"
       ],
       "layout": "IPY_MODEL_ce2fc0b0b49147a3ab3ea6b2b9c400c3"
      }
     },
     "b7978e473c0e4306a5e6f8d98aecfcc4": {
      "model_module": "@jupyter-widgets/controls",
      "model_module_version": "1.5.0",
      "model_name": "DescriptionStyleModel",
      "state": {
       "description_width": ""
      }
     },
     "b80808e3d98f4280b384872b6f4ded2a": {
      "model_module": "@jupyter-widgets/base",
      "model_module_version": "1.2.0",
      "model_name": "LayoutModel",
      "state": {}
     },
     "b8108080f5de4e5f84c9da7c76fe8c64": {
      "model_module": "@jupyter-widgets/controls",
      "model_module_version": "1.5.0",
      "model_name": "HBoxModel",
      "state": {
       "children": [
        "IPY_MODEL_1df16ed75139426e9d105c7498b92248",
        "IPY_MODEL_a5574ee008264b18b190351321f0534b"
       ],
       "layout": "IPY_MODEL_1dd6c840b1994e37936e04afed474398"
      }
     },
     "b8191fb51c2f46639afcbf46f15b8396": {
      "model_module": "@jupyter-widgets/base",
      "model_module_version": "1.2.0",
      "model_name": "LayoutModel",
      "state": {}
     },
     "b8420a7d381341b880bab6b48da33227": {
      "model_module": "@jupyter-widgets/controls",
      "model_module_version": "1.5.0",
      "model_name": "FloatSliderModel",
      "state": {
       "description": "transparency",
       "layout": "IPY_MODEL_77701f4abc2840c696a4f1759784caeb",
       "max": 1,
       "step": 0.1,
       "style": "IPY_MODEL_6e4abd3d5a3749959d2e9596e367cb73"
      }
     },
     "b8b410777c83406aa65beef59a8b777a": {
      "model_module": "@jupyter-widgets/controls",
      "model_module_version": "1.5.0",
      "model_name": "HBoxModel",
      "state": {
       "children": [
        "IPY_MODEL_7eea5dedd93c431db290da8139700ac7",
        "IPY_MODEL_a5c82db0783741f183de01af118a9a6a"
       ],
       "layout": "IPY_MODEL_b8e712f9f7734e64b24521ad4c8dddfd"
      }
     },
     "b8c418013be5413aaaf4d4ff3b8cba86": {
      "model_module": "@jupyter-widgets/controls",
      "model_module_version": "1.5.0",
      "model_name": "IntSliderModel",
      "state": {
       "description": "value",
       "layout": "IPY_MODEL_ef04de64577e4b49af97fe213ca385ae",
       "max": 5,
       "style": "IPY_MODEL_9bf8ceedf5bb497a9f64723f7f73c281",
       "value": 5
      }
     },
     "b8e712f9f7734e64b24521ad4c8dddfd": {
      "model_module": "@jupyter-widgets/base",
      "model_module_version": "1.2.0",
      "model_name": "LayoutModel",
      "state": {}
     },
     "b90583df4722411ba326d56d7525df5d": {
      "model_module": "@jupyter-widgets/base",
      "model_module_version": "1.2.0",
      "model_name": "LayoutModel",
      "state": {}
     },
     "b9496a01cd96495391eca7cc98d62bc2": {
      "model_module": "@jupyter-widgets/controls",
      "model_module_version": "1.5.0",
      "model_name": "HBoxModel",
      "state": {
       "children": [
        "IPY_MODEL_178740e7e4ae43f39b50d29bb94e261c",
        "IPY_MODEL_503fe611b5e549889f3b2971df73d861"
       ],
       "layout": "IPY_MODEL_78e60cb0815e464abb87a1e7aadd2b00"
      }
     },
     "b94b423ec0bd48fcbe282709a94a0abd": {
      "model_module": "@jupyter-widgets/base",
      "model_module_version": "1.2.0",
      "model_name": "LayoutModel",
      "state": {
       "margin": "20px 0px"
      }
     },
     "b957174d425f4157ab02320acbb3cf1d": {
      "model_module": "@jupyter-widgets/base",
      "model_module_version": "1.2.0",
      "model_name": "LayoutModel",
      "state": {
       "flex_flow": "row wrap",
       "margin": "20px"
      }
     },
     "b9af71fe329544d1a0a36d03510a702a": {
      "model_module": "@jupyter-widgets/base",
      "model_module_version": "1.2.0",
      "model_name": "LayoutModel",
      "state": {}
     },
     "b9b7ad080ee4402dbe247b806ec7bee6": {
      "model_module": "@jupyter-widgets/base",
      "model_module_version": "1.2.0",
      "model_name": "LayoutModel",
      "state": {}
     },
     "b9c6ce8a37d9447ab18f28fa2880f0ee": {
      "model_module": "@jupyter-widgets/controls",
      "model_module_version": "1.5.0",
      "model_name": "HBoxModel",
      "state": {
       "children": [
        "IPY_MODEL_178ebaf6e7e04f83a1c737162a84c8ff",
        "IPY_MODEL_7c6a6feba5d74b2495cd00a237d293d1",
        "IPY_MODEL_3c28d971b7624734a1e2f6975cbfdfbe"
       ],
       "layout": "IPY_MODEL_a8ffb1d4b1cf4a2a98456ffc6f67c772"
      }
     },
     "b9d33d753569478c85f9ac0380a55376": {
      "model_module": "@jupyter-widgets/controls",
      "model_module_version": "1.5.0",
      "model_name": "ButtonStyleModel",
      "state": {}
     },
     "ba09ae37a3f84a9fa8e4ff89840b92f6": {
      "model_module": "@jupyter-widgets/controls",
      "model_module_version": "1.5.0",
      "model_name": "ButtonStyleModel",
      "state": {}
     },
     "ba41a737197944b89fd7f20e4924789c": {
      "model_module": "@jupyter-widgets/controls",
      "model_module_version": "1.5.0",
      "model_name": "ButtonStyleModel",
      "state": {}
     },
     "ba445ed381be47ed916a34b8e4653c3f": {
      "model_module": "@jupyter-widgets/controls",
      "model_module_version": "1.5.0",
      "model_name": "VBoxModel",
      "state": {
       "children": [
        "IPY_MODEL_a4e3fa58c6374b579abae096326b6391",
        "IPY_MODEL_04e3433484af4243984ee9fc3f58ec91",
        "IPY_MODEL_89ea0a41e4c24448a04764f227403c3c",
        "IPY_MODEL_78f1fd93f9ad4c35b5a3412cb2b1dc8c",
        "IPY_MODEL_40be63455d4a40f891b742e452eb8d0e"
       ],
       "layout": "IPY_MODEL_a7cd53ba55704902bc99eb6a92769f88"
      }
     },
     "bace2ea2eb2243179fa31534d170e915": {
      "model_module": "@jupyter-widgets/controls",
      "model_module_version": "1.5.0",
      "model_name": "TextModel",
      "state": {
       "continuous_update": false,
       "description": "name",
       "layout": "IPY_MODEL_fbdfe28d68ca4ea79cd298facf92d4b5",
       "style": "IPY_MODEL_cb2fc9606c044e278fe30d1d4f62ba5f",
       "value": "branchpath"
      }
     },
     "bb287a3071fb4cfe9a9a7d2c823cb07c": {
      "model_module": "@jupyter-widgets/controls",
      "model_module_version": "1.5.0",
      "model_name": "HBoxModel",
      "state": {
       "children": [
        "IPY_MODEL_3b8250a2aa264d2ab5b2929218f98315",
        "IPY_MODEL_f6926d9f27ba4835b8030c3f830735af"
       ],
       "layout": "IPY_MODEL_cdb765cb0d6e4074b483f942b56dcf34"
      }
     },
     "bb3ae18a8c464e5a9b6621d7320858d7": {
      "model_module": "@jupyter-widgets/controls",
      "model_module_version": "1.5.0",
      "model_name": "BoundedIntTextModel",
      "state": {
       "description": "index",
       "layout": "IPY_MODEL_e5d11b64425f4b34b3f36f20fe3183f3",
       "style": "IPY_MODEL_6fdb7a6bb7374734adcd52cee9142ff4",
       "value": 1
      }
     },
     "bb9469140bbb43e494b406c8c745e14e": {
      "model_module": "@jupyter-widgets/base",
      "model_module_version": "1.2.0",
      "model_name": "LayoutModel",
      "state": {}
     },
     "bbb56269e09e46fe9c0a24578877ee8e": {
      "model_module": "@jupyter-widgets/controls",
      "model_module_version": "1.5.0",
      "model_name": "HBoxModel",
      "state": {
       "children": [
        "IPY_MODEL_e6da4a1b32ea4407972c24c30b72bd93",
        "IPY_MODEL_443e4ff7ad8246a1a809b129283bfb30"
       ],
       "layout": "IPY_MODEL_f2a5bb6b21424c108dad3558e874eef4"
      }
     },
     "bbbdab4f7a6048ad89fc54a01c4aab3e": {
      "model_module": "@jupyter-widgets/base",
      "model_module_version": "1.2.0",
      "model_name": "LayoutModel",
      "state": {}
     },
     "bc2a6042e6c54aef9a2c34b44c1be469": {
      "model_module": "pgljupyter",
      "model_module_version": "^0.1.17",
      "model_name": "MaterialEditorModel",
      "state": {
       "_model_module_version": "^0.1.17",
       "_view_module_version": "^0.1.17",
       "children": [
        "IPY_MODEL_aea06bf45cd147cf9b0870eea5947acc",
        "IPY_MODEL_778d712f71a74314a25ab04450fd4255",
        "IPY_MODEL_ab4492c973a74627a76a94ab1b3d545a",
        "IPY_MODEL_6188fa5a9f7a47ddaa3a542ba31f9241",
        "IPY_MODEL_6e873e3df238484494913ef64336c226",
        "IPY_MODEL_6016f05df9384c079772608f64b66cc9",
        "IPY_MODEL_ddd18488301f4b19ba84f6f6de750246",
        "IPY_MODEL_55ff27dafa4b40d2b14135bbe4e602ef"
       ],
       "layout": "IPY_MODEL_94629e9d7e60472d92446f93e9bcc909"
      }
     },
     "bc4a5c1b2221437a8cb56a7a9796ac2a": {
      "model_module": "@jupyter-widgets/controls",
      "model_module_version": "1.5.0",
      "model_name": "SliderStyleModel",
      "state": {
       "description_width": ""
      }
     },
     "bcccc6246e444849b171dc745324b6a6": {
      "model_module": "@jupyter-widgets/base",
      "model_module_version": "1.2.0",
      "model_name": "LayoutModel",
      "state": {}
     },
     "bcf6d442e6cb44aa9458e028c034541d": {
      "model_module": "@jupyter-widgets/controls",
      "model_module_version": "1.5.0",
      "model_name": "ButtonStyleModel",
      "state": {}
     },
     "bcfa0047aac44186a563b0cdbe068e05": {
      "model_module": "@jupyter-widgets/base",
      "model_module_version": "1.2.0",
      "model_name": "LayoutModel",
      "state": {}
     },
     "bd085d32ee234ffaa54087e4298ae38a": {
      "model_module": "@jupyter-widgets/controls",
      "model_module_version": "1.5.0",
      "model_name": "DropdownModel",
      "state": {
       "_options_labels": [
        "MAX_ORDER",
        "TROPISM",
        "ELASTICITY"
       ],
       "index": 0,
       "layout": "IPY_MODEL_6bb91a2ccd004a46bd3b7f3a60f26a93",
       "style": "IPY_MODEL_49ff44ace34b4a57b71db3c0386794bd"
      }
     },
     "bd5e5c900df14a15925d66cde4969359": {
      "model_module": "@jupyter-widgets/controls",
      "model_module_version": "1.5.0",
      "model_name": "ButtonStyleModel",
      "state": {}
     },
     "bdb6b34154fe44fcbc96b849cf1c9c41": {
      "model_module": "@jupyter-widgets/controls",
      "model_module_version": "1.5.0",
      "model_name": "DropdownModel",
      "state": {
       "_options_labels": [
        "NurbsCurve2D",
        "BezierCurve2D",
        "Polyline2D",
        "Function"
       ],
       "index": 0,
       "layout": "IPY_MODEL_cfbdc02fa1b94c68afa0eef263cc48ca",
       "style": "IPY_MODEL_26c91841b0584392933cfb89f2368a7d"
      }
     },
     "bdf51607d14a41d5b84720aea763a34d": {
      "model_module": "@jupyter-widgets/base",
      "model_module_version": "1.2.0",
      "model_name": "LayoutModel",
      "state": {}
     },
     "be60915c308e42afa1c3b4979a4f3086": {
      "model_module": "@jupyter-widgets/controls",
      "model_module_version": "1.5.0",
      "model_name": "HBoxModel",
      "state": {
       "children": [
        "IPY_MODEL_da4c25783f4745b3b67c07ae7a7b912c",
        "IPY_MODEL_8579aba3e916484bb99dfab5181f6072"
       ],
       "layout": "IPY_MODEL_e5cbc7c9194843c7ba1a525305d08aaf"
      }
     },
     "beffcf2a5d924df8be363144d8c978f9": {
      "model_module": "@jupyter-widgets/base",
      "model_module_version": "1.2.0",
      "model_name": "LayoutModel",
      "state": {}
     },
     "bf0229d0446549b2a7c47bb709636fb3": {
      "model_module": "@jupyter-widgets/base",
      "model_module_version": "1.2.0",
      "model_name": "LayoutModel",
      "state": {}
     },
     "bf25e79874244d849b951f4d599fc232": {
      "model_module": "@jupyter-widgets/controls",
      "model_module_version": "1.5.0",
      "model_name": "DropdownModel",
      "state": {
       "_options_labels": [
        "branchpath"
       ],
       "index": 0,
       "layout": "IPY_MODEL_dfa13e4029d940f9817cfeb3c7206b2e",
       "style": "IPY_MODEL_0dcbe1fe52cf4f61b088667c88322a5d"
      }
     },
     "bf3f7965a57847fe89f91f92fa00046f": {
      "model_module": "@jupyter-widgets/controls",
      "model_module_version": "1.5.0",
      "model_name": "ButtonModel",
      "state": {
       "description": "Add",
       "layout": "IPY_MODEL_56919de6de5249b48043622c47552ae0",
       "style": "IPY_MODEL_eaf1f1ca827a43f7a8948729e487cdb7"
      }
     },
     "bfdd12ede58d4cd99fd439129d778923": {
      "model_module": "@jupyter-widgets/base",
      "model_module_version": "1.2.0",
      "model_name": "LayoutModel",
      "state": {
       "flex_flow": "row wrap",
       "margin": "20px"
      }
     },
     "c0699e36f87043aaa85cc9edde89e6f9": {
      "model_module": "@jupyter-widgets/base",
      "model_module_version": "1.2.0",
      "model_name": "LayoutModel",
      "state": {}
     },
     "c0721fbcda0544b882950dc8aa029943": {
      "model_module": "@jupyter-widgets/base",
      "model_module_version": "1.2.0",
      "model_name": "LayoutModel",
      "state": {}
     },
     "c11a0a7c1cd248c5994483eca40e4ef9": {
      "model_module": "pgljupyter",
      "model_module_version": "^0.1.17",
      "model_name": "LsystemWidgetModel",
      "state": {
       "_model_module_version": "^0.1.17",
       "_view_module_version": "^0.1.17",
       "axes_helper": false,
       "derivationLength": 75,
       "layout": "IPY_MODEL_8fa5d8ea6357420a9e88323ac840d35a",
       "light_helper": false,
       "plane": true,
       "size_display": [
        400,
        400
       ],
       "size_world": 2,
       "unit": 1
      }
     },
     "c17fab3d8692412c87533e92b5982547": {
      "model_module": "@jupyter-widgets/base",
      "model_module_version": "1.2.0",
      "model_name": "LayoutModel",
      "state": {}
     },
     "c1fd87d8250a470e935a8ecaba3c1487": {
      "model_module": "@jupyter-widgets/controls",
      "model_module_version": "1.5.0",
      "model_name": "ButtonModel",
      "state": {
       "description": "Apply changes",
       "layout": "IPY_MODEL_ebaec0e0f45a4720a9af3699c384a3f4",
       "style": "IPY_MODEL_645a50068ca944aba6a4b830474b1053"
      }
     },
     "c20e04cf076b466faf080c17dd6a0685": {
      "model_module": "@jupyter-widgets/controls",
      "model_module_version": "1.5.0",
      "model_name": "VBoxModel",
      "state": {
       "children": [
        "IPY_MODEL_f3cec10ce1564dfcb46da92550e5d2da",
        "IPY_MODEL_b385b6d532ca43d9b24d1e4fe9e56a1c"
       ],
       "layout": "IPY_MODEL_65cf659842e54414bf0acf74b1179870"
      }
     },
     "c2888df4b50c4ef4b73bd56f3a2ff450": {
      "model_module": "@jupyter-widgets/controls",
      "model_module_version": "1.5.0",
      "model_name": "CheckboxModel",
      "state": {
       "description": "Auto save",
       "disabled": false,
       "layout": "IPY_MODEL_d854920ffa064eb8a32bad820dbc4a80",
       "style": "IPY_MODEL_fc9f368863464b77bb46d1b749f9062a",
       "value": false
      }
     },
     "c366082c80794a6dba39f500ad484706": {
      "model_module": "@jupyter-widgets/base",
      "model_module_version": "1.2.0",
      "model_name": "LayoutModel",
      "state": {}
     },
     "c3d3fc03742d47939ff24a516de61ebe": {
      "model_module": "@jupyter-widgets/controls",
      "model_module_version": "1.5.0",
      "model_name": "AccordionModel",
      "state": {
       "_titles": {
        "0": "options",
        "1": "materials",
        "2": "Panel"
       },
       "children": [
        "IPY_MODEL_8f97a1256a7a4b4d88ee7b12ed296f7d",
        "IPY_MODEL_d1cde8046c3b4ab78f06f397f9b6b66a",
        "IPY_MODEL_8d0cbc3fbb264e2eb78e13e8dba2621d"
       ],
       "layout": "IPY_MODEL_fc81e28827ef408b8e1fdd17ce4c84e8"
      }
     },
     "c3e2683a379d41d1acbeeaeabde475e2": {
      "model_module": "@jupyter-widgets/base",
      "model_module_version": "1.2.0",
      "model_name": "LayoutModel",
      "state": {}
     },
     "c452444bded34f3db30e5b815bd554a7": {
      "model_module": "@jupyter-widgets/controls",
      "model_module_version": "1.5.0",
      "model_name": "VBoxModel",
      "state": {
       "children": [
        "IPY_MODEL_6fd389f08ffd4247a5c9aaf8c983d993",
        "IPY_MODEL_b759af38485044488dec0f5b194f1e5d",
        "IPY_MODEL_820354650add45a2a36563d13b3ba9fe",
        "IPY_MODEL_2f0bc80f5a454ed8b3427a65733c1aeb",
        "IPY_MODEL_d7f87ec604714a0eb9b147f9ddc396f9"
       ],
       "layout": "IPY_MODEL_73ad7808d0f34d7a8ebc45bea0bdb015"
      }
     },
     "c479e2b58d2e4afcae724db58bf47b4a": {
      "model_module": "@jupyter-widgets/base",
      "model_module_version": "1.2.0",
      "model_name": "LayoutModel",
      "state": {}
     },
     "c49cf02dec3c4bdba86d9e9e2862c2a6": {
      "model_module": "@jupyter-widgets/controls",
      "model_module_version": "1.5.0",
      "model_name": "ButtonStyleModel",
      "state": {}
     },
     "c4bea84ab5514c9f9eac3392eaff59a9": {
      "model_module": "@jupyter-widgets/base",
      "model_module_version": "1.2.0",
      "model_name": "LayoutModel",
      "state": {}
     },
     "c4c95d63148f464e9dd4a536d1a3eccd": {
      "model_module": "@jupyter-widgets/controls",
      "model_module_version": "1.5.0",
      "model_name": "HBoxModel",
      "state": {
       "children": [
        "IPY_MODEL_5e6f3a041eaa446790d8e5996ff8a5f9",
        "IPY_MODEL_c2888df4b50c4ef4b73bd56f3a2ff450"
       ],
       "layout": "IPY_MODEL_d2fc7da91b1e44098155b2df12066e96"
      }
     },
     "c526b6f410f14ec9bbc967180e16b69c": {
      "model_module": "@jupyter-widgets/base",
      "model_module_version": "1.2.0",
      "model_name": "LayoutModel",
      "state": {}
     },
     "c55ee24390854d2f83ac2c697d7e6c71": {
      "model_module": "@jupyter-widgets/base",
      "model_module_version": "1.2.0",
      "model_name": "LayoutModel",
      "state": {}
     },
     "c56d817ddab14b92ae337e6056f3bf28": {
      "model_module": "@jupyter-widgets/controls",
      "model_module_version": "1.5.0",
      "model_name": "HBoxModel",
      "state": {
       "layout": "IPY_MODEL_52f3e2d0e22142d7ae4367f738f57576"
      }
     },
     "c57f0347d81845edabfa25bb9670fcca": {
      "model_module": "@jupyter-widgets/base",
      "model_module_version": "1.2.0",
      "model_name": "LayoutModel",
      "state": {}
     },
     "c586229278434b2c82cc9d08945ef2bf": {
      "model_module": "@jupyter-widgets/base",
      "model_module_version": "1.2.0",
      "model_name": "LayoutModel",
      "state": {
       "margin": "20px 0px"
      }
     },
     "c5c19cd303ba4cf5ae73c8233b5db0e6": {
      "model_module": "@jupyter-widgets/base",
      "model_module_version": "1.2.0",
      "model_name": "LayoutModel",
      "state": {}
     },
     "c68b6c5110944b0cb6c1f61bde503438": {
      "model_module": "@jupyter-widgets/base",
      "model_module_version": "1.2.0",
      "model_name": "LayoutModel",
      "state": {}
     },
     "c6e2e75208fd47b98444aed7bf3f812e": {
      "model_module": "@jupyter-widgets/base",
      "model_module_version": "1.2.0",
      "model_name": "LayoutModel",
      "state": {}
     },
     "c7585e20366b4e10836c2b85aa55e5b9": {
      "model_module": "@jupyter-widgets/base",
      "model_module_version": "1.2.0",
      "model_name": "LayoutModel",
      "state": {}
     },
     "c76d1c01899946939f37957927df7d78": {
      "model_module": "@jupyter-widgets/controls",
      "model_module_version": "1.5.0",
      "model_name": "SliderStyleModel",
      "state": {
       "description_width": ""
      }
     },
     "c7cae1b1d7f64c4c95ab1872ee570a34": {
      "model_module": "@jupyter-widgets/base",
      "model_module_version": "1.2.0",
      "model_name": "LayoutModel",
      "state": {}
     },
     "c7dfe68d50454f4db6ebe9603518613d": {
      "model_module": "@jupyter-widgets/controls",
      "model_module_version": "1.5.0",
      "model_name": "ButtonStyleModel",
      "state": {}
     },
     "c8d48078cd53439bb0bbeac841e6f41c": {
      "model_module": "@jupyter-widgets/controls",
      "model_module_version": "1.5.0",
      "model_name": "DropdownModel",
      "state": {
       "_options_labels": [
        "Color_1"
       ],
       "index": 0,
       "layout": "IPY_MODEL_b4e99e043faf45d7b4bfdc113a00c7f6",
       "style": "IPY_MODEL_cce15d30e6a542eb970ead9dcf55ebb7"
      }
     },
     "c8d4a6237442473e9f64d98891b38047": {
      "model_module": "@jupyter-widgets/controls",
      "model_module_version": "1.5.0",
      "model_name": "SliderStyleModel",
      "state": {
       "description_width": ""
      }
     },
     "c9926d6f8ca44776a28b640f4fda7ea4": {
      "model_module": "@jupyter-widgets/base",
      "model_module_version": "1.2.0",
      "model_name": "LayoutModel",
      "state": {}
     },
     "ca011f0c98f541a39d751a9179324ebc": {
      "model_module": "@jupyter-widgets/controls",
      "model_module_version": "1.5.0",
      "model_name": "DropdownModel",
      "state": {
       "_options_labels": [
        "NurbsCurve2D",
        "BezierCurve2D",
        "Polyline2D",
        "Function"
       ],
       "index": 0,
       "layout": "IPY_MODEL_ee6cb21291264a608e7d6e6c425143f1",
       "style": "IPY_MODEL_3231062ad03b48fb80dfac8b08324330"
      }
     },
     "ca189afb82a44628a44d6bdb9d188f8a": {
      "model_module": "@jupyter-widgets/controls",
      "model_module_version": "1.5.0",
      "model_name": "DropdownModel",
      "state": {
       "_options_labels": [
        "Color"
       ],
       "index": 0,
       "layout": "IPY_MODEL_db730a836d1a4fbd9db63cfbf9a05be5",
       "style": "IPY_MODEL_e6a60aff1eb145a8b9dcb995a95b3547"
      }
     },
     "cacf529743734816816bbd996e49a4c1": {
      "model_module": "pgljupyter",
      "model_module_version": "^0.1.17",
      "model_name": "LsystemWidgetModel",
      "state": {
       "_model_module_version": "^0.1.17",
       "_view_module_version": "^0.1.17",
       "axes_helper": false,
       "derivationLength": 75,
       "layout": "IPY_MODEL_440b93a57bee4485be1340b102b9e8f8",
       "light_helper": false,
       "plane": true,
       "size_display": [
        400,
        400
       ],
       "size_world": 2,
       "unit": 2
      }
     },
     "cb2fc9606c044e278fe30d1d4f62ba5f": {
      "model_module": "@jupyter-widgets/controls",
      "model_module_version": "1.5.0",
      "model_name": "DescriptionStyleModel",
      "state": {
       "description_width": ""
      }
     },
     "cb6a235a20f34d6482d5f192a8e3700c": {
      "model_module": "@jupyter-widgets/base",
      "model_module_version": "1.2.0",
      "model_name": "LayoutModel",
      "state": {}
     },
     "ccc94ca8d35f496b8dd4b0b251d52af9": {
      "model_module": "@jupyter-widgets/controls",
      "model_module_version": "1.5.0",
      "model_name": "ButtonModel",
      "state": {
       "description": "Delete category",
       "layout": "IPY_MODEL_f1114d37f4ee402fae7e87a1bfa4d213",
       "style": "IPY_MODEL_aaad5e844c1e46a199ddbbdbbbb06270"
      }
     },
     "cce15d30e6a542eb970ead9dcf55ebb7": {
      "model_module": "@jupyter-widgets/controls",
      "model_module_version": "1.5.0",
      "model_name": "DescriptionStyleModel",
      "state": {
       "description_width": ""
      }
     },
     "cd3eb1b4f4264a24932453f89f2e18d4": {
      "model_module": "@jupyter-widgets/controls",
      "model_module_version": "1.5.0",
      "model_name": "SliderStyleModel",
      "state": {
       "description_width": ""
      }
     },
     "cdb765cb0d6e4074b483f942b56dcf34": {
      "model_module": "@jupyter-widgets/base",
      "model_module_version": "1.2.0",
      "model_name": "LayoutModel",
      "state": {}
     },
     "cdb9a512f6af47ea94e9c6c3ca5732bf": {
      "model_module": "@jupyter-widgets/base",
      "model_module_version": "1.2.0",
      "model_name": "LayoutModel",
      "state": {}
     },
     "ce214e03f83244baaf3eaba651d5a8be": {
      "model_module": "@jupyter-widgets/controls",
      "model_module_version": "1.5.0",
      "model_name": "DescriptionStyleModel",
      "state": {
       "description_width": ""
      }
     },
     "ce2fc0b0b49147a3ab3ea6b2b9c400c3": {
      "model_module": "@jupyter-widgets/base",
      "model_module_version": "1.2.0",
      "model_name": "LayoutModel",
      "state": {
       "flex_flow": "row wrap",
       "margin": "20px"
      }
     },
     "ce93fc6a34d04fcfa7cfb3da1da87d07": {
      "model_module": "@jupyter-widgets/base",
      "model_module_version": "1.2.0",
      "model_name": "LayoutModel",
      "state": {
       "margin": "20px 0px"
      }
     },
     "cf9273ed875b42e2ba16821907d144d1": {
      "model_module": "@jupyter-widgets/base",
      "model_module_version": "1.2.0",
      "model_name": "LayoutModel",
      "state": {}
     },
     "cfbdc02fa1b94c68afa0eef263cc48ca": {
      "model_module": "@jupyter-widgets/base",
      "model_module_version": "1.2.0",
      "model_name": "LayoutModel",
      "state": {}
     },
     "cfcc911372884832900bf35f9e279bd6": {
      "model_module": "pgljupyter",
      "model_module_version": "^0.1.17",
      "model_name": "_CurveEditorModel",
      "state": {
       "_model_module_version": "^0.1.17",
       "_view_module_version": "^0.1.17",
       "layout": "IPY_MODEL_4c90f824f6e94ed7a07734a5156d3d89",
       "points": [
        [
         -0.558642,
         0.0459491
        ],
        [
         -0.272827,
         -0.068981
        ],
        [
         -0.0295213,
         -0.153395
        ],
        [
         0.147239,
         -0.0700503
        ],
        [
         0.412901,
         0.0201295
        ],
        [
         0.575777,
         0.232735
        ]
       ],
       "type": "NurbsCurve2D"
      }
     },
     "d010b44bf44d445992de5a1bb2f4633a": {
      "model_module": "@jupyter-widgets/controls",
      "model_module_version": "1.5.0",
      "model_name": "DropdownModel",
      "state": {
       "_options_labels": [
        "Color_1"
       ],
       "index": 0,
       "layout": "IPY_MODEL_fe08c874a6714bb6945562435e80f86a",
       "style": "IPY_MODEL_0ef0ffff963e4177b3d8b78f8c9b1f1a"
      }
     },
     "d04f5c84f30941f2afc70081d7bb4bea": {
      "model_module": "@jupyter-widgets/controls",
      "model_module_version": "1.5.0",
      "model_name": "HBoxModel",
      "state": {
       "children": [
        "IPY_MODEL_fafb52dfb774405989df7e96581c090d",
        "IPY_MODEL_06c3f54f85484891bfae86c6e0e6eb3e"
       ],
       "layout": "IPY_MODEL_1f227737e368428f9900f64130b167b4"
      }
     },
     "d05402d0599d4c9c8a124ee45543d221": {
      "model_module": "@jupyter-widgets/controls",
      "model_module_version": "1.5.0",
      "model_name": "DescriptionStyleModel",
      "state": {
       "description_width": ""
      }
     },
     "d081c691090747c9bfd01822d4b7f321": {
      "model_module": "@jupyter-widgets/controls",
      "model_module_version": "1.5.0",
      "model_name": "ButtonStyleModel",
      "state": {}
     },
     "d083c1ea28b94258925d65c3d20dc28d": {
      "model_module": "@jupyter-widgets/base",
      "model_module_version": "1.2.0",
      "model_name": "LayoutModel",
      "state": {}
     },
     "d0b99d5fd01d4a2195d4f8745c5464e3": {
      "model_module": "@jupyter-widgets/controls",
      "model_module_version": "1.5.0",
      "model_name": "TabModel",
      "state": {
       "_titles": {
        "0": "parameter_edition.json"
       },
       "children": [
        "IPY_MODEL_4017cf8cdd634ecd8079b4098612b254"
       ],
       "layout": "IPY_MODEL_bb9469140bbb43e494b406c8c745e14e"
      }
     },
     "d1175c9925994a07afd0aab197cc76c8": {
      "model_module": "@jupyter-widgets/controls",
      "model_module_version": "1.5.0",
      "model_name": "HBoxModel",
      "state": {
       "children": [
        "IPY_MODEL_8cbf000cd9064caca193bb9bf747cb2c",
        "IPY_MODEL_d1c6711f34dd4d65af032c457d0f28e8"
       ],
       "layout": "IPY_MODEL_1f227737e368428f9900f64130b167b4"
      }
     },
     "d12c41ea234d4d9fb2707f76921a1317": {
      "model_module": "@jupyter-widgets/controls",
      "model_module_version": "1.5.0",
      "model_name": "ButtonModel",
      "state": {
       "description": "Add",
       "layout": "IPY_MODEL_1c0e641a335e46e5bd91ccce3a51a542",
       "style": "IPY_MODEL_11d22f9c787849a1938f9af9086bb03b"
      }
     },
     "d139f26b64664ce5b56b37356e84d8aa": {
      "model_module": "@jupyter-widgets/controls",
      "model_module_version": "1.5.0",
      "model_name": "DescriptionStyleModel",
      "state": {
       "description_width": ""
      }
     },
     "d1a7607daf834d45bba0d4893bdcc2a3": {
      "model_module": "@jupyter-widgets/controls",
      "model_module_version": "1.5.0",
      "model_name": "HBoxModel",
      "state": {
       "children": [
        "IPY_MODEL_b7548d632cf841c2958794a08c1b5fd7",
        "IPY_MODEL_827b7d8e92fa4e3bad9e6201978c0fd8"
       ],
       "layout": "IPY_MODEL_330d99355b404618ae30f4c5905aafd7"
      }
     },
     "d1c6711f34dd4d65af032c457d0f28e8": {
      "model_module": "@jupyter-widgets/controls",
      "model_module_version": "1.5.0",
      "model_name": "HBoxModel",
      "state": {
       "children": [
        "IPY_MODEL_a44c4d1901df47cd9f98c1c7736354e2",
        "IPY_MODEL_d010b44bf44d445992de5a1bb2f4633a"
       ],
       "layout": "IPY_MODEL_b90583df4722411ba326d56d7525df5d"
      }
     },
     "d1cde8046c3b4ab78f06f397f9b6b66a": {
      "model_module": "@jupyter-widgets/controls",
      "model_module_version": "1.5.0",
      "model_name": "VBoxModel",
      "state": {
       "children": [
        "IPY_MODEL_d1175c9925994a07afd0aab197cc76c8",
        "IPY_MODEL_56a5a5dcca974fd0b4827a0b7f28a112"
       ],
       "layout": "IPY_MODEL_e54d2d86ef41409296a1645a939caccc"
      }
     },
     "d1fd09e961804da988d14bd24c061e98": {
      "model_module": "@jupyter-widgets/controls",
      "model_module_version": "1.5.0",
      "model_name": "CheckboxModel",
      "state": {
       "description": "value",
       "disabled": false,
       "layout": "IPY_MODEL_a491d6fe6f754588af57ebdcb816cd23",
       "style": "IPY_MODEL_f577b8db25e0448a83d405bbd434d503",
       "value": false
      }
     },
     "d2c9112fa8ce4718a78b21baf97378ca": {
      "model_module": "@jupyter-widgets/base",
      "model_module_version": "1.2.0",
      "model_name": "LayoutModel",
      "state": {}
     },
     "d2fc7da91b1e44098155b2df12066e96": {
      "model_module": "@jupyter-widgets/base",
      "model_module_version": "1.2.0",
      "model_name": "LayoutModel",
      "state": {}
     },
     "d30861ddbaa14edbb6984d9ff9be21b4": {
      "model_module": "@jupyter-widgets/controls",
      "model_module_version": "1.5.0",
      "model_name": "VBoxModel",
      "state": {
       "children": [
        "IPY_MODEL_4f8a63c969eb40bda5730eb0663ef866",
        "IPY_MODEL_57fd253c5d1d4f50a4a13c4cb79c737c"
       ],
       "layout": "IPY_MODEL_8bf9107f51fc456f9ecd3c9e1a7d861a"
      }
     },
     "d3343b8d14c14ffd912eaed631853b10": {
      "model_module": "@jupyter-widgets/base",
      "model_module_version": "1.2.0",
      "model_name": "LayoutModel",
      "state": {}
     },
     "d339383f97f84ab1a2b831e58d98a27b": {
      "model_module": "@jupyter-widgets/controls",
      "model_module_version": "1.5.0",
      "model_name": "HBoxModel",
      "state": {
       "children": [
        "IPY_MODEL_f54f8f69005b45799cc4d47500d72647"
       ],
       "layout": "IPY_MODEL_79d485d514a6472d80c23af8bc94d914"
      }
     },
     "d37833164b53410c95b21a2ce2da19a6": {
      "model_module": "@jupyter-widgets/base",
      "model_module_version": "1.2.0",
      "model_name": "LayoutModel",
      "state": {}
     },
     "d397d585c9a347338a72a03530623af3": {
      "model_module": "pgljupyter",
      "model_module_version": "^0.1.17",
      "model_name": "ParameterEditorModel",
      "state": {
       "_model_module_version": "^0.1.17",
       "_view_module_version": "^0.1.17",
       "children": [
        "IPY_MODEL_abea169ef6da4b9f966404428a26293d"
       ],
       "layout": "IPY_MODEL_5b92352c6823413baa6a50340aa178ca"
      }
     },
     "d4408b930be0443aa934dbe1dc496a24": {
      "model_module": "@jupyter-widgets/controls",
      "model_module_version": "1.5.0",
      "model_name": "VBoxModel",
      "state": {
       "children": [
        "IPY_MODEL_fbb7f81bc0024d58bf2a3eebd0031b1d",
        "IPY_MODEL_94ba5ac714d14813a298dd6723cd9236"
       ],
       "layout": "IPY_MODEL_8b8d1d25c52a4f809b24a820f8ba11f8"
      }
     },
     "d4c7a12377584daeba2559328443d3b6": {
      "model_module": "@jupyter-widgets/controls",
      "model_module_version": "1.5.0",
      "model_name": "FloatSliderModel",
      "state": {
       "description": "diffuse",
       "layout": "IPY_MODEL_fdcc69ffb6a842c6b060143a895ac647",
       "max": 3,
       "step": 0.1,
       "style": "IPY_MODEL_ea2504a94fb54a7e8dd2b20e5e8b0a18",
       "value": 3
      }
     },
     "d538e033c15c44d38ec1de66ede6d099": {
      "model_module": "@jupyter-widgets/controls",
      "model_module_version": "1.5.0",
      "model_name": "IntSliderModel",
      "state": {
       "description": "value",
       "layout": "IPY_MODEL_009d40a018fc4aadaef55b20ad9ec5f5",
       "max": 5,
       "style": "IPY_MODEL_289b959c3cc54991a3f0e58512b15e49",
       "value": 5
      }
     },
     "d53e3dac53e640c097a6da5cd1d38451": {
      "model_module": "@jupyter-widgets/controls",
      "model_module_version": "1.5.0",
      "model_name": "ButtonModel",
      "state": {
       "description": "Delete",
       "layout": "IPY_MODEL_9b686d4c5e044168839e31f93cda812c",
       "style": "IPY_MODEL_b9d33d753569478c85f9ac0380a55376"
      }
     },
     "d57b25fe7c9046fa9d546984d11c156f": {
      "model_module": "@jupyter-widgets/controls",
      "model_module_version": "1.5.0",
      "model_name": "DropdownModel",
      "state": {
       "_options_labels": [
        "NurbsCurve2D",
        "BezierCurve2D",
        "Polyline2D",
        "Function"
       ],
       "index": 0,
       "layout": "IPY_MODEL_e4df56d10a5441cea197700f894de90e",
       "style": "IPY_MODEL_0c8c58bc88d74fb5b6784dd46e38404f"
      }
     },
     "d5876e5c0e94412abfd1881167c0c4b8": {
      "model_module": "@jupyter-widgets/base",
      "model_module_version": "1.2.0",
      "model_name": "LayoutModel",
      "state": {}
     },
     "d5f984b86b8b440f9ca62a326c4c83b2": {
      "model_module": "@jupyter-widgets/controls",
      "model_module_version": "1.5.0",
      "model_name": "ButtonModel",
      "state": {
       "description": "Delete",
       "layout": "IPY_MODEL_3387c03df7d1474b80bd1db7d3eccf5f",
       "style": "IPY_MODEL_5bf373b9b7724c39acdaa87be8877a8b"
      }
     },
     "d60ac8b28a3c47439f1fe1c9afbac2d3": {
      "model_module": "pgljupyter",
      "model_module_version": "^0.1.17",
      "model_name": "ParameterEditorModel",
      "state": {
       "_model_module_version": "^0.1.17",
       "_view_module_version": "^0.1.17",
       "children": [
        "IPY_MODEL_a0c36b6a78f34c9b9120d2574f32538e"
       ],
       "layout": "IPY_MODEL_d7c89afe601f4756a2e2d4ed2d946a23"
      }
     },
     "d67d41d8f90c4193b057f40b423b64ce": {
      "model_module": "pgljupyter",
      "model_module_version": "^0.1.17",
      "model_name": "MaterialEditorModel",
      "state": {
       "_model_module_version": "^0.1.17",
       "_view_module_version": "^0.1.17",
       "children": [
        "IPY_MODEL_dd24fcd38b6e4d1a8ba35deaa9168180",
        "IPY_MODEL_517c344817724a9889958698bc884abd",
        "IPY_MODEL_1a9612a9f0f54705886b6cd26f94e3ed",
        "IPY_MODEL_d86383529f5b447ca0a6701336c42dc2",
        "IPY_MODEL_94f20361e6ce42f49f17081b90e2b986",
        "IPY_MODEL_9a1f62c01583479196099c51d901258d",
        "IPY_MODEL_b8420a7d381341b880bab6b48da33227",
        "IPY_MODEL_738598c09dc84323b178c6e1786d21a8"
       ],
       "layout": "IPY_MODEL_3a7748a21dc14f9688f6c26f9ab0d99d"
      }
     },
     "d6e3ab6c88bb4085aa2b7261997b90c3": {
      "model_module": "@jupyter-widgets/controls",
      "model_module_version": "1.5.0",
      "model_name": "ColorPickerModel",
      "state": {
       "description": "ambient",
       "disabled": false,
       "layout": "IPY_MODEL_c9926d6f8ca44776a28b640f4fda7ea4",
       "style": "IPY_MODEL_52ad39c3b17b4e92b01c100624eee9a7",
       "value": "#412d0f"
      }
     },
     "d76b3ed9268a44a5b5a34370fff061ee": {
      "model_module": "@jupyter-widgets/base",
      "model_module_version": "1.2.0",
      "model_name": "LayoutModel",
      "state": {
       "flex_flow": "row wrap"
      }
     },
     "d7c89afe601f4756a2e2d4ed2d946a23": {
      "model_module": "@jupyter-widgets/base",
      "model_module_version": "1.2.0",
      "model_name": "LayoutModel",
      "state": {}
     },
     "d7f87ec604714a0eb9b147f9ddc396f9": {
      "model_module": "@jupyter-widgets/controls",
      "model_module_version": "1.5.0",
      "model_name": "HBoxModel",
      "state": {
       "children": [
        "IPY_MODEL_932e3e4d66b44877b8d741c6d10f8b8d"
       ],
       "layout": "IPY_MODEL_024c72a24164495194dcbbf18139f8e9"
      }
     },
     "d854920ffa064eb8a32bad820dbc4a80": {
      "model_module": "@jupyter-widgets/base",
      "model_module_version": "1.2.0",
      "model_name": "LayoutModel",
      "state": {}
     },
     "d86383529f5b447ca0a6701336c42dc2": {
      "model_module": "@jupyter-widgets/controls",
      "model_module_version": "1.5.0",
      "model_name": "ColorPickerModel",
      "state": {
       "description": "specular",
       "disabled": false,
       "layout": "IPY_MODEL_12989c42abbc4562b3cb49d0d9a124c0",
       "style": "IPY_MODEL_6bcc3ab915c24933831674c2fef48933",
       "value": "#000000"
      }
     },
     "d86b640d894f4d1e81d9b7f1b419fa7d": {
      "model_module": "@jupyter-widgets/controls",
      "model_module_version": "1.5.0",
      "model_name": "SliderStyleModel",
      "state": {
       "description_width": ""
      }
     },
     "d95778e6591b43b98342f22184a98ab7": {
      "model_module": "@jupyter-widgets/controls",
      "model_module_version": "1.5.0",
      "model_name": "DescriptionStyleModel",
      "state": {
       "description_width": ""
      }
     },
     "da0e0d9e5beb40d29f8118125c18245f": {
      "model_module": "@jupyter-widgets/controls",
      "model_module_version": "1.5.0",
      "model_name": "HBoxModel",
      "state": {
       "children": [
        "IPY_MODEL_9c44e538db2e4774ad2324b1b3de55f3",
        "IPY_MODEL_ead7b6df1fb2458c98ec530bf3603f11"
       ],
       "layout": "IPY_MODEL_5c48bff5a0c44bf282d8dc15f89b51c7"
      }
     },
     "da32c81eb1a34f22be2c7dc17985865d": {
      "model_module": "@jupyter-widgets/controls",
      "model_module_version": "1.5.0",
      "model_name": "TextModel",
      "state": {
       "continuous_update": false,
       "description": "name",
       "layout": "IPY_MODEL_8c01b922019d45588ff8336f529261e8",
       "style": "IPY_MODEL_aee5e00d2fa6451a8cedeb0e61379266",
       "value": "branchpath"
      }
     },
     "da4c25783f4745b3b67c07ae7a7b912c": {
      "model_module": "@jupyter-widgets/controls",
      "model_module_version": "1.5.0",
      "model_name": "ButtonModel",
      "state": {
       "description": "Delete",
       "layout": "IPY_MODEL_e169ab9be8344a3f832ebdbddfdfeb24",
       "style": "IPY_MODEL_59448ecda9594e22b9266bdc1d01090e"
      }
     },
     "dafd634c00b54de695093a3b439f0e57": {
      "model_module": "@jupyter-widgets/base",
      "model_module_version": "1.2.0",
      "model_name": "LayoutModel",
      "state": {}
     },
     "db2e9790947c455ab06bbdd5bfc41c3e": {
      "model_module": "@jupyter-widgets/controls",
      "model_module_version": "1.5.0",
      "model_name": "ButtonStyleModel",
      "state": {}
     },
     "db730a836d1a4fbd9db63cfbf9a05be5": {
      "model_module": "@jupyter-widgets/base",
      "model_module_version": "1.2.0",
      "model_name": "LayoutModel",
      "state": {}
     },
     "dbbbb21517cc44eca347adcdae36e858": {
      "model_module": "@jupyter-widgets/base",
      "model_module_version": "1.2.0",
      "model_name": "LayoutModel",
      "state": {}
     },
     "dc18307783d34ca3b1c17429facc3b65": {
      "model_module": "@jupyter-widgets/base",
      "model_module_version": "1.2.0",
      "model_name": "LayoutModel",
      "state": {}
     },
     "dc4cef623e574be7b3ba9cca65ae7475": {
      "model_module": "@jupyter-widgets/controls",
      "model_module_version": "1.5.0",
      "model_name": "HBoxModel",
      "state": {
       "children": [
        "IPY_MODEL_83eca969fa4946a6ab5868f4cb0d154e",
        "IPY_MODEL_96bc50480e7e42a8b1f61a071029cc63"
       ],
       "layout": "IPY_MODEL_f3e5cd2469644286a3293ea347619dc8"
      }
     },
     "dd24fcd38b6e4d1a8ba35deaa9168180": {
      "model_module": "@jupyter-widgets/controls",
      "model_module_version": "1.5.0",
      "model_name": "TextModel",
      "state": {
       "continuous_update": false,
       "description": "name",
       "layout": "IPY_MODEL_c7cae1b1d7f64c4c95ab1872ee570a34",
       "style": "IPY_MODEL_947f784c5c254695a0e208acb53f9af2",
       "value": "Color_1"
      }
     },
     "dd6c901841f64238b776da1bb5cfabc1": {
      "model_module": "@jupyter-widgets/controls",
      "model_module_version": "1.5.0",
      "model_name": "HBoxModel",
      "state": {
       "children": [
        "IPY_MODEL_e02d7bf0090d4a0cbf0d2b098882d9a4",
        "IPY_MODEL_46ca1a14289c48ee8ac207a25fe68bc1"
       ],
       "layout": "IPY_MODEL_9ad98b92564a459b8d4412ccba52e740"
      }
     },
     "ddd18488301f4b19ba84f6f6de750246": {
      "model_module": "@jupyter-widgets/controls",
      "model_module_version": "1.5.0",
      "model_name": "FloatSliderModel",
      "state": {
       "description": "transparency",
       "layout": "IPY_MODEL_91487014501e44ada8bc02dbc72208ca",
       "max": 1,
       "step": 0.1,
       "style": "IPY_MODEL_13ea3ef7587d4541a1ddb2512004c845"
      }
     },
     "de59aa5bb06e4fe0a5d11b14eb135b5c": {
      "model_module": "@jupyter-widgets/controls",
      "model_module_version": "1.5.0",
      "model_name": "ButtonStyleModel",
      "state": {}
     },
     "df391fcd21b149be9a0f572a6c46639f": {
      "model_module": "@jupyter-widgets/base",
      "model_module_version": "1.2.0",
      "model_name": "LayoutModel",
      "state": {}
     },
     "df8bc52daec04bea85b3f446273f3f44": {
      "model_module": "@jupyter-widgets/base",
      "model_module_version": "1.2.0",
      "model_name": "LayoutModel",
      "state": {}
     },
     "df90228fbd584d0a8d376adb17a99183": {
      "model_module": "@jupyter-widgets/controls",
      "model_module_version": "1.5.0",
      "model_name": "VBoxModel",
      "state": {
       "children": [
        "IPY_MODEL_03d0633d80e9402790c6ee28f4750d3c",
        "IPY_MODEL_7b2412e1e21c4eb59021bcd44b36a443",
        "IPY_MODEL_fde71c20db8b451c96d84828bba7d37f",
        "IPY_MODEL_523d43e9d88240ddafcdbcdd61b57c7b",
        "IPY_MODEL_b32b12785fc8464885b6ff9b25f4c8c2"
       ],
       "layout": "IPY_MODEL_0daae0a846544ccbb40074d96a76af75"
      }
     },
     "dfa13e4029d940f9817cfeb3c7206b2e": {
      "model_module": "@jupyter-widgets/base",
      "model_module_version": "1.2.0",
      "model_name": "LayoutModel",
      "state": {}
     },
     "e015b5c50c7a40f2af9292feae61b5fd": {
      "model_module": "@jupyter-widgets/controls",
      "model_module_version": "1.5.0",
      "model_name": "DescriptionStyleModel",
      "state": {
       "description_width": ""
      }
     },
     "e026f803d86249c29bb2dc4222275db7": {
      "model_module": "@jupyter-widgets/controls",
      "model_module_version": "1.5.0",
      "model_name": "DescriptionStyleModel",
      "state": {
       "description_width": ""
      }
     },
     "e02d7bf0090d4a0cbf0d2b098882d9a4": {
      "model_module": "@jupyter-widgets/controls",
      "model_module_version": "1.5.0",
      "model_name": "HBoxModel",
      "state": {
       "children": [
        "IPY_MODEL_79c5ea5d80b840e9aefcb4df64ad79ec",
        "IPY_MODEL_7bca88333c514a42a343114610da5e15"
       ],
       "layout": "IPY_MODEL_3c63d7111d0c49929dfa0600106d66cc"
      }
     },
     "e0d324d369c241e2860f393acbdb6345": {
      "model_module": "@jupyter-widgets/base",
      "model_module_version": "1.2.0",
      "model_name": "LayoutModel",
      "state": {}
     },
     "e12548967534443aad0b7ad188a79ee6": {
      "model_module": "@jupyter-widgets/base",
      "model_module_version": "1.2.0",
      "model_name": "LayoutModel",
      "state": {}
     },
     "e169ab9be8344a3f832ebdbddfdfeb24": {
      "model_module": "@jupyter-widgets/base",
      "model_module_version": "1.2.0",
      "model_name": "LayoutModel",
      "state": {}
     },
     "e1d219bd48c94a5396d1e4adc872da8a": {
      "model_module": "@jupyter-widgets/controls",
      "model_module_version": "1.5.0",
      "model_name": "DescriptionStyleModel",
      "state": {
       "description_width": ""
      }
     },
     "e1d360db51c74a778b34d40fd4ebdd5b": {
      "model_module": "@jupyter-widgets/base",
      "model_module_version": "1.2.0",
      "model_name": "LayoutModel",
      "state": {}
     },
     "e252e93b384c45d799119e1cf0591aed": {
      "model_module": "@jupyter-widgets/controls",
      "model_module_version": "1.5.0",
      "model_name": "TextModel",
      "state": {
       "continuous_update": false,
       "description": "name",
       "layout": "IPY_MODEL_863334144bd448c8bbab11e3b788e3ee",
       "style": "IPY_MODEL_4a92ed31495549be9e7e77025900d160",
       "value": "TROPISM"
      }
     },
     "e32a22c9a019469f9ffc8791cecae254": {
      "model_module": "@jupyter-widgets/controls",
      "model_module_version": "1.5.0",
      "model_name": "TabModel",
      "state": {
       "layout": "IPY_MODEL_5610085f4a974cae8eac82f50d76bd1f"
      }
     },
     "e4df56d10a5441cea197700f894de90e": {
      "model_module": "@jupyter-widgets/base",
      "model_module_version": "1.2.0",
      "model_name": "LayoutModel",
      "state": {}
     },
     "e4e29240a09847e78a1a07a370344573": {
      "model_module": "@jupyter-widgets/base",
      "model_module_version": "1.2.0",
      "model_name": "LayoutModel",
      "state": {}
     },
     "e54d2d86ef41409296a1645a939caccc": {
      "model_module": "@jupyter-widgets/base",
      "model_module_version": "1.2.0",
      "model_name": "LayoutModel",
      "state": {}
     },
     "e591eba7405c462a80c71bff00bf35f5": {
      "model_module": "@jupyter-widgets/base",
      "model_module_version": "1.2.0",
      "model_name": "LayoutModel",
      "state": {}
     },
     "e59b1da536ff461f8fb59afc21e2e45e": {
      "model_module": "@jupyter-widgets/controls",
      "model_module_version": "1.5.0",
      "model_name": "ButtonStyleModel",
      "state": {}
     },
     "e59c37d8727c4f74830a8943be395d6b": {
      "model_module": "@jupyter-widgets/controls",
      "model_module_version": "1.5.0",
      "model_name": "DescriptionStyleModel",
      "state": {
       "description_width": ""
      }
     },
     "e5cbc7c9194843c7ba1a525305d08aaf": {
      "model_module": "@jupyter-widgets/base",
      "model_module_version": "1.2.0",
      "model_name": "LayoutModel",
      "state": {}
     },
     "e5d11b64425f4b34b3f36f20fe3183f3": {
      "model_module": "@jupyter-widgets/base",
      "model_module_version": "1.2.0",
      "model_name": "LayoutModel",
      "state": {}
     },
     "e5dd405bb48e450a82738d234bd2c520": {
      "model_module": "@jupyter-widgets/controls",
      "model_module_version": "1.5.0",
      "model_name": "TextModel",
      "state": {
       "continuous_update": false,
       "description": "name",
       "layout": "IPY_MODEL_3b069b16d4ae437e9def053fb41400cb",
       "style": "IPY_MODEL_f1a70699435b4e52bdfd890ed7f07967",
       "value": "ELASTICITY"
      }
     },
     "e61c67b564444dc5a3a7db664b67369d": {
      "model_module": "@jupyter-widgets/controls",
      "model_module_version": "1.5.0",
      "model_name": "DescriptionStyleModel",
      "state": {
       "description_width": ""
      }
     },
     "e6504eee9d6a48348b37e92dbac0ba12": {
      "model_module": "@jupyter-widgets/controls",
      "model_module_version": "1.5.0",
      "model_name": "TextModel",
      "state": {
       "continuous_update": false,
       "description": "name",
       "layout": "IPY_MODEL_ee7cfa2cdc0a4cf9a4ed5eafcd364202",
       "style": "IPY_MODEL_6b0361d299c34315bb71f56bc20cf1f2",
       "value": "ELASTICITY"
      }
     },
     "e65871d4ec1d42e689ec48ac0e760baa": {
      "model_module": "@jupyter-widgets/controls",
      "model_module_version": "1.5.0",
      "model_name": "ButtonStyleModel",
      "state": {}
     },
     "e6854fee08a64aec95dbd42d59a92f77": {
      "model_module": "@jupyter-widgets/controls",
      "model_module_version": "1.5.0",
      "model_name": "TextModel",
      "state": {
       "continuous_update": false,
       "description": "name",
       "layout": "IPY_MODEL_4598b80ab0ba404e8b052d14fea295b8",
       "style": "IPY_MODEL_1bd650307c9b455b926e67b144bc7bfb",
       "value": "Color_1"
      }
     },
     "e6a60aff1eb145a8b9dcb995a95b3547": {
      "model_module": "@jupyter-widgets/controls",
      "model_module_version": "1.5.0",
      "model_name": "DescriptionStyleModel",
      "state": {
       "description_width": ""
      }
     },
     "e6da4a1b32ea4407972c24c30b72bd93": {
      "model_module": "@jupyter-widgets/controls",
      "model_module_version": "1.5.0",
      "model_name": "ButtonModel",
      "state": {
       "description": "Add",
       "layout": "IPY_MODEL_94f9cc259bdc419b9b0ff370c6594fdf",
       "style": "IPY_MODEL_18d56e370fef46659a2e3a8399d851a9"
      }
     },
     "e6eddfd66431414b9db96d1196cf6826": {
      "model_module": "@jupyter-widgets/base",
      "model_module_version": "1.2.0",
      "model_name": "LayoutModel",
      "state": {}
     },
     "e72c5431a5cc4af296ab4be573aa2c4c": {
      "model_module": "@jupyter-widgets/controls",
      "model_module_version": "1.5.0",
      "model_name": "ColorPickerModel",
      "state": {
       "description": "specular",
       "disabled": false,
       "layout": "IPY_MODEL_f77117200cdc48098164a94a837796d2",
       "style": "IPY_MODEL_f536325404644976bb125f854e6a0136",
       "value": "#000000"
      }
     },
     "e73e89efad524aaba067e61dc5047778": {
      "model_module": "@jupyter-widgets/controls",
      "model_module_version": "1.5.0",
      "model_name": "DescriptionStyleModel",
      "state": {
       "description_width": ""
      }
     },
     "e81dbe00628841ff951301e070dd243b": {
      "model_module": "@jupyter-widgets/controls",
      "model_module_version": "1.5.0",
      "model_name": "ButtonModel",
      "state": {
       "description": "Add",
       "layout": "IPY_MODEL_90d5dcab6a7a4d3b9d6adf099ed1fd9d",
       "style": "IPY_MODEL_30643df9de3041678d88525bcab46b86"
      }
     },
     "e87ceab8f6d44318806b0ae20d6135a9": {
      "model_module": "@jupyter-widgets/controls",
      "model_module_version": "1.5.0",
      "model_name": "HBoxModel",
      "state": {
       "layout": "IPY_MODEL_b957174d425f4157ab02320acbb3cf1d"
      }
     },
     "e8dd821ae7584513b0cb5248cba74879": {
      "model_module": "@jupyter-widgets/controls",
      "model_module_version": "1.5.0",
      "model_name": "IntSliderModel",
      "state": {
       "description": "value",
       "layout": "IPY_MODEL_635676fbdaa842189c2d896f7e47e3e8",
       "max": 5,
       "style": "IPY_MODEL_f6caa7f70a15475998a9ee02258de5a8",
       "value": 5
      }
     },
     "e922863eb8174827881aa561505a32e4": {
      "model_module": "@jupyter-widgets/controls",
      "model_module_version": "1.5.0",
      "model_name": "ButtonStyleModel",
      "state": {}
     },
     "e954712ae9dc4f8493a0f512d1c45838": {
      "model_module": "@jupyter-widgets/controls",
      "model_module_version": "1.5.0",
      "model_name": "DescriptionStyleModel",
      "state": {
       "description_width": ""
      }
     },
     "e969b4c749ee46739245034f2ed268b4": {
      "model_module": "@jupyter-widgets/controls",
      "model_module_version": "1.5.0",
      "model_name": "HBoxModel",
      "state": {
       "children": [
        "IPY_MODEL_9c44e538db2e4774ad2324b1b3de55f3",
        "IPY_MODEL_ead7b6df1fb2458c98ec530bf3603f11"
       ],
       "layout": "IPY_MODEL_b672279b0f4349878c00f85c80a638d1"
      }
     },
     "e9e6f8ed9c6a4e988439579e3cde854c": {
      "model_module": "@jupyter-widgets/controls",
      "model_module_version": "1.5.0",
      "model_name": "DescriptionStyleModel",
      "state": {
       "description_width": ""
      }
     },
     "ea2504a94fb54a7e8dd2b20e5e8b0a18": {
      "model_module": "@jupyter-widgets/controls",
      "model_module_version": "1.5.0",
      "model_name": "SliderStyleModel",
      "state": {
       "description_width": ""
      }
     },
     "ea54a7f7ddc548dc8624d38ac46744e6": {
      "model_module": "@jupyter-widgets/base",
      "model_module_version": "1.2.0",
      "model_name": "LayoutModel",
      "state": {
       "margin": "20px 0px"
      }
     },
     "ea5edbc3b83e455b87392fa32e145f9e": {
      "model_module": "@jupyter-widgets/base",
      "model_module_version": "1.2.0",
      "model_name": "LayoutModel",
      "state": {}
     },
     "ea9938b8e9e4459ea92fdee9fd926476": {
      "model_module": "@jupyter-widgets/base",
      "model_module_version": "1.2.0",
      "model_name": "LayoutModel",
      "state": {}
     },
     "ead7b6df1fb2458c98ec530bf3603f11": {
      "model_module": "@jupyter-widgets/controls",
      "model_module_version": "1.5.0",
      "model_name": "CheckboxModel",
      "state": {
       "description": "Auto apply",
       "disabled": false,
       "layout": "IPY_MODEL_8f79894ce8d04cbfbba111ce1b85ae0e",
       "style": "IPY_MODEL_6d01448493f4453ebbc6890a7d910263",
       "value": true
      }
     },
     "eaeb8146833a42b7af51fd5c985e4dd5": {
      "model_module": "@jupyter-widgets/controls",
      "model_module_version": "1.5.0",
      "model_name": "ButtonStyleModel",
      "state": {}
     },
     "eaf1f1ca827a43f7a8948729e487cdb7": {
      "model_module": "@jupyter-widgets/controls",
      "model_module_version": "1.5.0",
      "model_name": "ButtonStyleModel",
      "state": {}
     },
     "eaf78bfcf3ec402d8a76c12fec8f9078": {
      "model_module": "@jupyter-widgets/base",
      "model_module_version": "1.2.0",
      "model_name": "LayoutModel",
      "state": {
       "margin": "20px 0px"
      }
     },
     "eafb8e38be26448da0b3c91dfe744210": {
      "model_module": "@jupyter-widgets/controls",
      "model_module_version": "1.5.0",
      "model_name": "TabModel",
      "state": {
       "_titles": {
        "0": "parameter_edition.json"
       },
       "children": [
        "IPY_MODEL_c3d3fc03742d47939ff24a516de61ebe"
       ],
       "layout": "IPY_MODEL_4d869390527342dba8dcd61f5cdbff25"
      }
     },
     "eb697058f79644bfa87af105ebe01980": {
      "model_module": "@jupyter-widgets/controls",
      "model_module_version": "1.5.0",
      "model_name": "DropdownModel",
      "state": {
       "_options_labels": [
        "Color"
       ],
       "index": 0,
       "layout": "IPY_MODEL_c5c19cd303ba4cf5ae73c8233b5db0e6",
       "style": "IPY_MODEL_48a0a051614c461eb88ad8aae35f6758"
      }
     },
     "eb9a140c42104ac3821d28d7751505ea": {
      "model_module": "@jupyter-widgets/controls",
      "model_module_version": "1.5.0",
      "model_name": "HBoxModel",
      "state": {
       "layout": "IPY_MODEL_b6fce056d2934ddcbe8c957f2f86c674"
      }
     },
     "eba97809438943b8aab0df9f6168f2b3": {
      "model_module": "@jupyter-widgets/controls",
      "model_module_version": "1.5.0",
      "model_name": "HBoxModel",
      "state": {
       "children": [
        "IPY_MODEL_8523e21a2f8a4ee8a32680903c7c7e72",
        "IPY_MODEL_ca011f0c98f541a39d751a9179324ebc"
       ],
       "layout": "IPY_MODEL_b030e03f82b74641a7ff1be7367238fe"
      }
     },
     "ebaec0e0f45a4720a9af3699c384a3f4": {
      "model_module": "@jupyter-widgets/base",
      "model_module_version": "1.2.0",
      "model_name": "LayoutModel",
      "state": {}
     },
     "ecbe158350eb49b9933d2c2d2750dfe1": {
      "model_module": "@jupyter-widgets/base",
      "model_module_version": "1.2.0",
      "model_name": "LayoutModel",
      "state": {}
     },
     "ed51a2a608a942a992a4a5000cb724af": {
      "model_module": "@jupyter-widgets/controls",
      "model_module_version": "1.5.0",
      "model_name": "HBoxModel",
      "state": {
       "children": [
        "IPY_MODEL_a808af68c6eb4343b036bf97e4f61a4c",
        "IPY_MODEL_b2381f41d62e4fb1bc62ccf5843f3701",
        "IPY_MODEL_5345985fca4048d48a3ab1584c199b58"
       ],
       "layout": "IPY_MODEL_9fe3ec1b512846a29e0928d338c0096d"
      }
     },
     "ed5a3fd2db35471b9da1d311547dcd53": {
      "model_module": "@jupyter-widgets/base",
      "model_module_version": "1.2.0",
      "model_name": "LayoutModel",
      "state": {
       "margin": "20px 0px"
      }
     },
     "eda6a180b17e46f38ca159047d4a239d": {
      "model_module": "@jupyter-widgets/controls",
      "model_module_version": "1.5.0",
      "model_name": "VBoxModel",
      "state": {
       "children": [
        "IPY_MODEL_6cd1375dc165416abb965ad8255a88f1",
        "IPY_MODEL_534ba064879540df8ad8af88255cbaf6"
       ],
       "layout": "IPY_MODEL_6b0a3b872fd7409d9698058e02dfe997"
      }
     },
     "edb9d9910fd94c13a9c2f2a4468ae4d3": {
      "model_module": "@jupyter-widgets/controls",
      "model_module_version": "1.5.0",
      "model_name": "DescriptionStyleModel",
      "state": {
       "description_width": ""
      }
     },
     "edbcee5a937a4913b4eed0bb35382ab2": {
      "model_module": "@jupyter-widgets/base",
      "model_module_version": "1.2.0",
      "model_name": "LayoutModel",
      "state": {}
     },
     "edc98e6ac6534fe5af68c12ae1a369f8": {
      "model_module": "@jupyter-widgets/controls",
      "model_module_version": "1.5.0",
      "model_name": "TabModel",
      "state": {
       "_titles": {
        "0": "parameter_edition.json"
       },
       "children": [
        "IPY_MODEL_a02fca063f9c46d0938361372e983692"
       ],
       "layout": "IPY_MODEL_c3e2683a379d41d1acbeeaeabde475e2"
      }
     },
     "ededb904762c43058ae9eaa7c3f844f4": {
      "model_module": "@jupyter-widgets/controls",
      "model_module_version": "1.5.0",
      "model_name": "HBoxModel",
      "state": {
       "children": [
        "IPY_MODEL_a0f72627e393411dad979373f0fe4a33",
        "IPY_MODEL_7cb3575f67c74d4cbfe61a7c88cd4707"
       ],
       "layout": "IPY_MODEL_7e0fb52b374c4149be287a2807a97778"
      }
     },
     "edfa0a57f94941209db4799cdf30065c": {
      "model_module": "@jupyter-widgets/controls",
      "model_module_version": "1.5.0",
      "model_name": "HBoxModel",
      "state": {
       "children": [
        "IPY_MODEL_5e6f3a041eaa446790d8e5996ff8a5f9",
        "IPY_MODEL_c2888df4b50c4ef4b73bd56f3a2ff450"
       ],
       "layout": "IPY_MODEL_8b4a6d581cc84415ad4740f51cd6882b"
      }
     },
     "ee4ed3a3086943d89fa95858c909b6b7": {
      "model_module": "@jupyter-widgets/base",
      "model_module_version": "1.2.0",
      "model_name": "LayoutModel",
      "state": {}
     },
     "ee578063c7464304b806551a0efb9a35": {
      "model_module": "@jupyter-widgets/base",
      "model_module_version": "1.2.0",
      "model_name": "LayoutModel",
      "state": {}
     },
     "ee6cb21291264a608e7d6e6c425143f1": {
      "model_module": "@jupyter-widgets/base",
      "model_module_version": "1.2.0",
      "model_name": "LayoutModel",
      "state": {}
     },
     "ee7cfa2cdc0a4cf9a4ed5eafcd364202": {
      "model_module": "@jupyter-widgets/base",
      "model_module_version": "1.2.0",
      "model_name": "LayoutModel",
      "state": {}
     },
     "eece1709b9b340b8ac228e62c9a444e6": {
      "model_module": "@jupyter-widgets/base",
      "model_module_version": "1.2.0",
      "model_name": "LayoutModel",
      "state": {}
     },
     "eef35a96c54148c1a1d183ab320bf8fe": {
      "model_module": "@jupyter-widgets/base",
      "model_module_version": "1.2.0",
      "model_name": "LayoutModel",
      "state": {}
     },
     "ef04de64577e4b49af97fe213ca385ae": {
      "model_module": "@jupyter-widgets/base",
      "model_module_version": "1.2.0",
      "model_name": "LayoutModel",
      "state": {}
     },
     "ef08f73bc2d846ee91d809009c5e56a2": {
      "model_module": "@jupyter-widgets/base",
      "model_module_version": "1.2.0",
      "model_name": "LayoutModel",
      "state": {}
     },
     "f005f8da04e3477fafe95e749ad205df": {
      "model_module": "@jupyter-widgets/base",
      "model_module_version": "1.2.0",
      "model_name": "LayoutModel",
      "state": {}
     },
     "f037d4fa13df4e7094cb44e429f55697": {
      "model_module": "@jupyter-widgets/base",
      "model_module_version": "1.2.0",
      "model_name": "LayoutModel",
      "state": {}
     },
     "f038f3a38fff4cc3910a8db0eaacdf6b": {
      "model_module": "@jupyter-widgets/controls",
      "model_module_version": "1.5.0",
      "model_name": "HBoxModel",
      "state": {
       "children": [
        "IPY_MODEL_bf3f7965a57847fe89f91f92fa00046f",
        "IPY_MODEL_5ace31537c3f4f749acd9431626864c1"
       ],
       "layout": "IPY_MODEL_ecbe158350eb49b9933d2c2d2750dfe1"
      }
     },
     "f067b7bc905440e296bdbcf18db71b67": {
      "model_module": "@jupyter-widgets/base",
      "model_module_version": "1.2.0",
      "model_name": "LayoutModel",
      "state": {
       "flex_flow": "row wrap"
      }
     },
     "f06c388e79cb4f4c9a4d46872f93b76c": {
      "model_module": "@jupyter-widgets/base",
      "model_module_version": "1.2.0",
      "model_name": "LayoutModel",
      "state": {}
     },
     "f06d48bfeebd4cf8899bd1e1c470f61c": {
      "model_module": "@jupyter-widgets/controls",
      "model_module_version": "1.5.0",
      "model_name": "DescriptionStyleModel",
      "state": {
       "description_width": ""
      }
     },
     "f09f1ace973b426ba3c22154cd126671": {
      "model_module": "@jupyter-widgets/base",
      "model_module_version": "1.2.0",
      "model_name": "LayoutModel",
      "state": {}
     },
     "f0bf7e998edc484bb4ba9e72652e768f": {
      "model_module": "@jupyter-widgets/controls",
      "model_module_version": "1.5.0",
      "model_name": "ButtonModel",
      "state": {
       "description": "Delete",
       "layout": "IPY_MODEL_08bd912e534f4ee389c359aac6f4da5a",
       "style": "IPY_MODEL_491b269ebbed457eadbe4e17a0916be3"
      }
     },
     "f10ee429cc614fe7b427ca26d4fb7414": {
      "model_module": "@jupyter-widgets/base",
      "model_module_version": "1.2.0",
      "model_name": "LayoutModel",
      "state": {}
     },
     "f1114d37f4ee402fae7e87a1bfa4d213": {
      "model_module": "@jupyter-widgets/base",
      "model_module_version": "1.2.0",
      "model_name": "LayoutModel",
      "state": {}
     },
     "f127cb9ba9024b8795e8efff37a737dd": {
      "model_module": "@jupyter-widgets/controls",
      "model_module_version": "1.5.0",
      "model_name": "FloatSliderModel",
      "state": {
       "description": "shininess",
       "layout": "IPY_MODEL_c4bea84ab5514c9f9eac3392eaff59a9",
       "max": 1,
       "step": 0.1,
       "style": "IPY_MODEL_02d47b0fb9304b69903dd6e8db28cb48"
      }
     },
     "f1a70699435b4e52bdfd890ed7f07967": {
      "model_module": "@jupyter-widgets/controls",
      "model_module_version": "1.5.0",
      "model_name": "DescriptionStyleModel",
      "state": {
       "description_width": ""
      }
     },
     "f1d8007e7a1b431aa93c8f89aa85c8a0": {
      "model_module": "@jupyter-widgets/controls",
      "model_module_version": "1.5.0",
      "model_name": "ButtonStyleModel",
      "state": {}
     },
     "f25a02b7d47c4809ae30de8b9a344f2f": {
      "model_module": "@jupyter-widgets/controls",
      "model_module_version": "1.5.0",
      "model_name": "DescriptionStyleModel",
      "state": {
       "description_width": ""
      }
     },
     "f2a5bb6b21424c108dad3558e874eef4": {
      "model_module": "@jupyter-widgets/base",
      "model_module_version": "1.2.0",
      "model_name": "LayoutModel",
      "state": {}
     },
     "f2b1c7e367f34a46a649fca2f2669357": {
      "model_module": "@jupyter-widgets/controls",
      "model_module_version": "1.5.0",
      "model_name": "SliderStyleModel",
      "state": {
       "description_width": ""
      }
     },
     "f311f346804347f78e1b94df0929ce47": {
      "model_module": "@jupyter-widgets/base",
      "model_module_version": "1.2.0",
      "model_name": "LayoutModel",
      "state": {}
     },
     "f3cec10ce1564dfcb46da92550e5d2da": {
      "model_module": "@jupyter-widgets/controls",
      "model_module_version": "1.5.0",
      "model_name": "HBoxModel",
      "state": {
       "children": [
        "IPY_MODEL_3a521098b6ca4214bc784067c5eae4c8",
        "IPY_MODEL_22493d52620a4dbba70147087ee1e269"
       ],
       "layout": "IPY_MODEL_4a151df32bab40dfb50ed4b500a2ce22"
      }
     },
     "f3e5cd2469644286a3293ea347619dc8": {
      "model_module": "@jupyter-widgets/base",
      "model_module_version": "1.2.0",
      "model_name": "LayoutModel",
      "state": {
       "flex_flow": "row wrap",
       "margin": "20px"
      }
     },
     "f4c3ceeaa66044fd9ffb0344f5a1e0d3": {
      "model_module": "@jupyter-widgets/controls",
      "model_module_version": "1.5.0",
      "model_name": "DescriptionStyleModel",
      "state": {
       "description_width": ""
      }
     },
     "f4e54ae2776c450788c39f648d86bfed": {
      "model_module": "@jupyter-widgets/controls",
      "model_module_version": "1.5.0",
      "model_name": "ColorPickerModel",
      "state": {
       "description": "ambient",
       "disabled": false,
       "layout": "IPY_MODEL_3ab4055f04e84028961383bf036dbbad",
       "style": "IPY_MODEL_b7978e473c0e4306a5e6f8d98aecfcc4",
       "value": "#412d0f"
      }
     },
     "f536325404644976bb125f854e6a0136": {
      "model_module": "@jupyter-widgets/controls",
      "model_module_version": "1.5.0",
      "model_name": "DescriptionStyleModel",
      "state": {
       "description_width": ""
      }
     },
     "f54f8f69005b45799cc4d47500d72647": {
      "model_module": "pgljupyter",
      "model_module_version": "^0.1.17",
      "model_name": "CurveEditorModel",
      "state": {
       "_model_module_version": "^0.1.17",
       "_view_module_version": "^0.1.17",
       "children": [
        "IPY_MODEL_55f218faa4ab4f48bf6417692213c010",
        "IPY_MODEL_a20bb74d6bcd4476815fdf974f2c5340"
       ],
       "layout": "IPY_MODEL_ed5a3fd2db35471b9da1d311547dcd53"
      }
     },
     "f5612840446a409a886edc8d914a52a9": {
      "model_module": "@jupyter-widgets/controls",
      "model_module_version": "1.5.0",
      "model_name": "TextModel",
      "state": {
       "continuous_update": false,
       "description": "name",
       "layout": "IPY_MODEL_63c1d8b4caa74f009e40043cd161a116",
       "style": "IPY_MODEL_73c1889216f54ce6954e8169a5d12cda",
       "value": "TROPISM"
      }
     },
     "f577b8db25e0448a83d405bbd434d503": {
      "model_module": "@jupyter-widgets/controls",
      "model_module_version": "1.5.0",
      "model_name": "DescriptionStyleModel",
      "state": {
       "description_width": ""
      }
     },
     "f59b917c29fa462ba8421bf5b03a1ab1": {
      "model_module": "@jupyter-widgets/controls",
      "model_module_version": "1.5.0",
      "model_name": "ButtonModel",
      "state": {
       "description": "Delete",
       "layout": "IPY_MODEL_8b541de21a6b4ce58f99fc17a17fe7cb",
       "style": "IPY_MODEL_14986098bc9f415b9952c43823637edc"
      }
     },
     "f5ccd60e655041db974af9f9be72476c": {
      "model_module": "@jupyter-widgets/base",
      "model_module_version": "1.2.0",
      "model_name": "LayoutModel",
      "state": {}
     },
     "f6926d9f27ba4835b8030c3f830735af": {
      "model_module": "@jupyter-widgets/controls",
      "model_module_version": "1.5.0",
      "model_name": "DropdownModel",
      "state": {
       "_options_labels": [
        "branchpath"
       ],
       "index": 0,
       "layout": "IPY_MODEL_482bd76a96714236911b9512c52dca06",
       "style": "IPY_MODEL_3c52733d4cbe441890d04fd5a8b60563"
      }
     },
     "f69c64acab6a4f66aaa02e75adf6953c": {
      "model_module": "@jupyter-widgets/base",
      "model_module_version": "1.2.0",
      "model_name": "LayoutModel",
      "state": {}
     },
     "f6b855cf3fac4e9f9eed4a4918b35a76": {
      "model_module": "@jupyter-widgets/controls",
      "model_module_version": "1.5.0",
      "model_name": "HBoxModel",
      "state": {
       "children": [
        "IPY_MODEL_89a047e69e9947378c614c4f3cabf21b",
        "IPY_MODEL_ca189afb82a44628a44d6bdb9d188f8a"
       ],
       "layout": "IPY_MODEL_69ba879e868a485981eae3e5cf1ef38b"
      }
     },
     "f6caa7f70a15475998a9ee02258de5a8": {
      "model_module": "@jupyter-widgets/controls",
      "model_module_version": "1.5.0",
      "model_name": "SliderStyleModel",
      "state": {
       "description_width": ""
      }
     },
     "f6dc8efc90854310b6879ffe705f1b5d": {
      "model_module": "@jupyter-widgets/base",
      "model_module_version": "1.2.0",
      "model_name": "LayoutModel",
      "state": {}
     },
     "f700868a7edd44728c1367468d20b09a": {
      "model_module": "@jupyter-widgets/base",
      "model_module_version": "1.2.0",
      "model_name": "LayoutModel",
      "state": {}
     },
     "f70f12b4ce7248cf86c60032e9c7e33b": {
      "model_module": "@jupyter-widgets/controls",
      "model_module_version": "1.5.0",
      "model_name": "TextModel",
      "state": {
       "continuous_update": false,
       "description": "name",
       "layout": "IPY_MODEL_855abf8aa923425fb37086aa09001144",
       "style": "IPY_MODEL_f90696746d9242478cad0cf2f101bad5",
       "value": "ELASTICITY"
      }
     },
     "f77117200cdc48098164a94a837796d2": {
      "model_module": "@jupyter-widgets/base",
      "model_module_version": "1.2.0",
      "model_name": "LayoutModel",
      "state": {}
     },
     "f8de1f4de5484e22b46686cacd9af154": {
      "model_module": "@jupyter-widgets/base",
      "model_module_version": "1.2.0",
      "model_name": "LayoutModel",
      "state": {}
     },
     "f8fa066b88e9484a97855d443cbacdbf": {
      "model_module": "@jupyter-widgets/controls",
      "model_module_version": "1.5.0",
      "model_name": "HBoxModel",
      "state": {
       "children": [
        "IPY_MODEL_178740e7e4ae43f39b50d29bb94e261c",
        "IPY_MODEL_503fe611b5e549889f3b2971df73d861"
       ],
       "layout": "IPY_MODEL_cf9273ed875b42e2ba16821907d144d1"
      }
     },
     "f90696746d9242478cad0cf2f101bad5": {
      "model_module": "@jupyter-widgets/controls",
      "model_module_version": "1.5.0",
      "model_name": "DescriptionStyleModel",
      "state": {
       "description_width": ""
      }
     },
     "f9868aa74b064f26b60563a308bd37c2": {
      "model_module": "@jupyter-widgets/controls",
      "model_module_version": "1.5.0",
      "model_name": "DropdownModel",
      "state": {
       "_options_labels": [
        "branchpath"
       ],
       "index": 0,
       "layout": "IPY_MODEL_1433cc07b2f148fc97fe4cf556e5e9a6",
       "style": "IPY_MODEL_0d518b58bccc4a49bcd903d185957f30"
      }
     },
     "f9d085ec600a48668b6d812f53b30453": {
      "model_module": "@jupyter-widgets/base",
      "model_module_version": "1.2.0",
      "model_name": "LayoutModel",
      "state": {}
     },
     "fa46f391810f49389e4c5bfb8621d6e0": {
      "model_module": "@jupyter-widgets/base",
      "model_module_version": "1.2.0",
      "model_name": "LayoutModel",
      "state": {}
     },
     "fa5968d3e264420099b22d505df36f66": {
      "model_module": "@jupyter-widgets/base",
      "model_module_version": "1.2.0",
      "model_name": "LayoutModel",
      "state": {}
     },
     "fa5ebe1a4fbd40208c2d059870ec1319": {
      "model_module": "@jupyter-widgets/controls",
      "model_module_version": "1.5.0",
      "model_name": "TextModel",
      "state": {
       "continuous_update": false,
       "description": "name",
       "layout": "IPY_MODEL_b5646a6b56434076bf30131078ed58ca",
       "style": "IPY_MODEL_8af716861ebc47e8a540d73cc49d0d5b",
       "value": "MAX_ORDER"
      }
     },
     "fafb52dfb774405989df7e96581c090d": {
      "model_module": "@jupyter-widgets/controls",
      "model_module_version": "1.5.0",
      "model_name": "HBoxModel",
      "state": {
       "children": [
        "IPY_MODEL_740ff44355ce465194d8d0d134107427",
        "IPY_MODEL_68d4b49cff3e489d8edc3b7f6fd35e55"
       ],
       "layout": "IPY_MODEL_f005f8da04e3477fafe95e749ad205df"
      }
     },
     "fb3c0dafcf9743f38c735f4c739d3c73": {
      "model_module": "pgljupyter",
      "model_module_version": "^0.1.17",
      "model_name": "ParameterEditorModel",
      "state": {
       "_model_module_version": "^0.1.17",
       "_view_module_version": "^0.1.17",
       "children": [
        "IPY_MODEL_3739a877538046db90c0f9dac7080f42"
       ],
       "layout": "IPY_MODEL_464496d4d35746b09a32c5a0c4a94233"
      }
     },
     "fb892f6010bc4f0cb4f1dcc883589907": {
      "model_module": "@jupyter-widgets/controls",
      "model_module_version": "1.5.0",
      "model_name": "HBoxModel",
      "state": {
       "children": [
        "IPY_MODEL_4c2319c7b47f4551b4025c18312649a4"
       ],
       "layout": "IPY_MODEL_4a151df32bab40dfb50ed4b500a2ce22"
      }
     },
     "fbb7f81bc0024d58bf2a3eebd0031b1d": {
      "model_module": "@jupyter-widgets/controls",
      "model_module_version": "1.5.0",
      "model_name": "HBoxModel",
      "state": {
       "layout": "IPY_MODEL_f3e5cd2469644286a3293ea347619dc8"
      }
     },
     "fbbfdc1714574ae7b1ee399b5f4a4aba": {
      "model_module": "pgljupyter",
      "model_module_version": "^0.1.17",
      "model_name": "ParameterEditorModel",
      "state": {
       "_model_module_version": "^0.1.17",
       "_view_module_version": "^0.1.17",
       "children": [
        "IPY_MODEL_958f873bf3c04866b6afc414036223c1"
       ],
       "layout": "IPY_MODEL_f9d085ec600a48668b6d812f53b30453"
      }
     },
     "fbdfe28d68ca4ea79cd298facf92d4b5": {
      "model_module": "@jupyter-widgets/base",
      "model_module_version": "1.2.0",
      "model_name": "LayoutModel",
      "state": {}
     },
     "fbfabc395379470da8124e5a066ef656": {
      "model_module": "@jupyter-widgets/controls",
      "model_module_version": "1.5.0",
      "model_name": "ButtonModel",
      "state": {
       "description": "Add",
       "layout": "IPY_MODEL_548750c41a8b4645aec8f266d95cfa9d",
       "style": "IPY_MODEL_7739a596a7e84cc784e2a93ed57f898c"
      }
     },
     "fc04190a8d3e42fdb817ed78b6c879d0": {
      "model_module": "@jupyter-widgets/base",
      "model_module_version": "1.2.0",
      "model_name": "LayoutModel",
      "state": {
       "margin": "20px 0px"
      }
     },
     "fc18051d47f843bea8f39a2a3104da7f": {
      "model_module": "@jupyter-widgets/base",
      "model_module_version": "1.2.0",
      "model_name": "LayoutModel",
      "state": {}
     },
     "fc421fb5332644379447454f2ef6ddb1": {
      "model_module": "@jupyter-widgets/controls",
      "model_module_version": "1.5.0",
      "model_name": "DropdownModel",
      "state": {
       "_options_labels": [
        "MAX_ORDER",
        "TROPISM",
        "ELASTICITY"
       ],
       "index": 0,
       "layout": "IPY_MODEL_b9b7ad080ee4402dbe247b806ec7bee6",
       "style": "IPY_MODEL_f4c3ceeaa66044fd9ffb0344f5a1e0d3"
      }
     },
     "fc789c50266542e8bdc84681e80fcfe2": {
      "model_module": "pgljupyter",
      "model_module_version": "^0.1.17",
      "model_name": "LsystemWidgetModel",
      "state": {
       "_model_module_version": "^0.1.17",
       "_view_module_version": "^0.1.17",
       "axes_helper": false,
       "derivationLength": 75,
       "layout": "IPY_MODEL_3064c384566a408d816f553aaa5e1ca3",
       "light_helper": false,
       "plane": true,
       "size_display": [
        800,
        600
       ],
       "size_world": 5,
       "unit": 1
      }
     },
     "fc81e28827ef408b8e1fdd17ce4c84e8": {
      "model_module": "@jupyter-widgets/base",
      "model_module_version": "1.2.0",
      "model_name": "LayoutModel",
      "state": {}
     },
     "fc9f368863464b77bb46d1b749f9062a": {
      "model_module": "@jupyter-widgets/controls",
      "model_module_version": "1.5.0",
      "model_name": "DescriptionStyleModel",
      "state": {
       "description_width": ""
      }
     },
     "fdcc69ffb6a842c6b060143a895ac647": {
      "model_module": "@jupyter-widgets/base",
      "model_module_version": "1.2.0",
      "model_name": "LayoutModel",
      "state": {}
     },
     "fde71c20db8b451c96d84828bba7d37f": {
      "model_module": "@jupyter-widgets/controls",
      "model_module_version": "1.5.0",
      "model_name": "HBoxModel",
      "state": {
       "children": [
        "IPY_MODEL_0e03465c0ea5452f824e00fb9988cf41",
        "IPY_MODEL_22a9d425bedd4273aaca809b23b24812",
        "IPY_MODEL_21665fbaff4c428e8054e39760210667"
       ],
       "layout": "IPY_MODEL_077d6c4697ee48cda12ab931d8630083"
      }
     },
     "fe08c874a6714bb6945562435e80f86a": {
      "model_module": "@jupyter-widgets/base",
      "model_module_version": "1.2.0",
      "model_name": "LayoutModel",
      "state": {}
     },
     "fe342eae042a438684dba33f3ebcbd29": {
      "model_module": "@jupyter-widgets/base",
      "model_module_version": "1.2.0",
      "model_name": "LayoutModel",
      "state": {}
     },
     "fe4b7d0e75864384bd80fca15849ada9": {
      "model_module": "@jupyter-widgets/controls",
      "model_module_version": "1.5.0",
      "model_name": "DescriptionStyleModel",
      "state": {
       "description_width": ""
      }
     },
     "ffacc7f0112b465ba8a0a30af07bbaf3": {
      "model_module": "@jupyter-widgets/controls",
      "model_module_version": "1.5.0",
      "model_name": "HBoxModel",
      "state": {
       "layout": "IPY_MODEL_bfdd12ede58d4cd99fd439129d778923"
      }
     },
     "ffce951eb0c147b587f0ee0993ba20a5": {
      "model_module": "pgljupyter",
      "model_module_version": "^0.1.17",
      "model_name": "MaterialEditorModel",
      "state": {
       "_model_module_version": "^0.1.17",
       "_view_module_version": "^0.1.17",
       "children": [
        "IPY_MODEL_88c2454e686a4b62a6c66673f4d69c37",
        "IPY_MODEL_2022dc6624e24a898af32ace2ca6a931",
        "IPY_MODEL_f4e54ae2776c450788c39f648d86bfed",
        "IPY_MODEL_e72c5431a5cc4af296ab4be573aa2c4c",
        "IPY_MODEL_1599415fef9f4f63a8d0535e0d1b2b7a",
        "IPY_MODEL_45b2982fdaf14baf95f812cfc5418c38",
        "IPY_MODEL_6e79c32d2e9b4ebd99385eb1a78a6ee7",
        "IPY_MODEL_80ace5caee1241e38f7dd3ac65e5e7d1"
       ],
       "layout": "IPY_MODEL_91d2e221be444c3da2c7c6a2372ff1bd"
      }
     }
    },
    "version_major": 2,
    "version_minor": 0
   }
  }
 },
 "nbformat": 4,
 "nbformat_minor": 4
}
